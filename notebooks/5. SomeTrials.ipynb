{
 "cells": [
  {
   "cell_type": "markdown",
   "id": "8a9d182f",
   "metadata": {},
   "source": [
    "Realizamos los imports necesarios e iniciamos una SparkSession"
   ]
  },
  {
   "cell_type": "code",
   "execution_count": 1,
   "id": "033825a5",
   "metadata": {},
   "outputs": [
    {
     "name": "stdout",
     "output_type": "stream",
     "text": [
      "Loading spark-stubs\n"
     ]
    },
    {
     "name": "stderr",
     "output_type": "stream",
     "text": [
      "log4j:WARN No appenders could be found for logger (org.eclipse.jetty.util.log).\n",
      "log4j:WARN Please initialize the log4j system properly.\n",
      "log4j:WARN See http://logging.apache.org/log4j/1.2/faq.html#noconfig for more info.\n"
     ]
    },
    {
     "name": "stdout",
     "output_type": "stream",
     "text": [
      "Creating SparkSession\n"
     ]
    },
    {
     "name": "stderr",
     "output_type": "stream",
     "text": [
      "Using Spark's default log4j profile: org/apache/spark/log4j-defaults.properties\n",
      "22/11/09 23:49:15 INFO SparkContext: Running Spark version 2.4.5\n",
      "22/11/09 23:49:15 INFO SparkContext: Submitted application: 18366278-c734-4ad3-9f2b-775a63679f3f\n",
      "22/11/09 23:49:15 INFO SecurityManager: Changing view acls to: Alvaro\n",
      "22/11/09 23:49:15 INFO SecurityManager: Changing modify acls to: Alvaro\n",
      "22/11/09 23:49:15 INFO SecurityManager: Changing view acls groups to: \n",
      "22/11/09 23:49:15 INFO SecurityManager: Changing modify acls groups to: \n",
      "22/11/09 23:49:15 INFO SecurityManager: SecurityManager: authentication disabled; ui acls disabled; users  with view permissions: Set(Alvaro); groups with view permissions: Set(); users  with modify permissions: Set(Alvaro); groups with modify permissions: Set()\n",
      "22/11/09 23:49:17 INFO Utils: Successfully started service 'sparkDriver' on port 55212.\n",
      "22/11/09 23:49:17 INFO SparkEnv: Registering MapOutputTracker\n",
      "22/11/09 23:49:17 INFO SparkEnv: Registering BlockManagerMaster\n",
      "22/11/09 23:49:17 INFO BlockManagerMasterEndpoint: Using org.apache.spark.storage.DefaultTopologyMapper for getting topology information\n",
      "22/11/09 23:49:17 INFO BlockManagerMasterEndpoint: BlockManagerMasterEndpoint up\n",
      "22/11/09 23:49:17 INFO DiskBlockManager: Created local directory at C:\\Users\\alvar\\AppData\\Local\\Temp\\blockmgr-6d6fd659-6547-4794-b5b3-fa48bbdf3d17\n",
      "22/11/09 23:49:17 INFO MemoryStore: MemoryStore started with capacity 434.4 MB\n",
      "22/11/09 23:49:17 INFO SparkEnv: Registering OutputCommitCoordinator\n",
      "22/11/09 23:49:17 INFO Utils: Successfully started service 'SparkUI' on port 4040.\n",
      "22/11/09 23:49:17 INFO SparkUI: Bound SparkUI to 0.0.0.0, and started at http://LAPTOP-30N4Q54J:4040\n",
      "22/11/09 23:49:17 INFO SparkContext: Added JAR file:/C:/Users/alvar/AppData/Local/Coursier/cache/v1/https/jitpack.io/com/github/jupyter/jvm-repr/0.4.0/jvm-repr-0.4.0.jar at spark://LAPTOP-30N4Q54J:55212/jars/jvm-repr-0.4.0.jar with timestamp 1668034157907\n",
      "22/11/09 23:49:17 INFO SparkContext: Added JAR file:/C:/Users/alvar/AppData/Local/Coursier/cache/v1/https/repo1.maven.org/maven2/com/github/javaparser/javaparser-core/3.2.5/javaparser-core-3.2.5.jar at spark://LAPTOP-30N4Q54J:55212/jars/javaparser-core-3.2.5.jar with timestamp 1668034157910\n",
      "22/11/09 23:49:17 INFO SparkContext: Added JAR file:/C:/Users/alvar/AppData/Local/Coursier/cache/v1/https/repo1.maven.org/maven2/com/github/scopt/scopt_2.12/3.5.0/scopt_2.12-3.5.0.jar at spark://LAPTOP-30N4Q54J:55212/jars/scopt_2.12-3.5.0.jar with timestamp 1668034157912\n",
      "22/11/09 23:49:17 INFO SparkContext: Added JAR file:/C:/Users/alvar/AppData/Local/Coursier/cache/v1/https/repo1.maven.org/maven2/com/lihaoyi/acyclic_2.12/0.1.5/acyclic_2.12-0.1.5.jar at spark://LAPTOP-30N4Q54J:55212/jars/acyclic_2.12-0.1.5.jar with timestamp 1668034157915\n",
      "22/11/09 23:49:17 INFO SparkContext: Added JAR file:/C:/Users/alvar/AppData/Local/Coursier/cache/v1/https/repo1.maven.org/maven2/com/lihaoyi/ammonite-interp_2.12.8/1.6.5/ammonite-interp_2.12.8-1.6.5.jar at spark://LAPTOP-30N4Q54J:55212/jars/ammonite-interp_2.12.8-1.6.5.jar with timestamp 1668034157916\n",
      "22/11/09 23:49:17 INFO SparkContext: Added JAR file:/C:/Users/alvar/AppData/Local/Coursier/cache/v1/https/repo1.maven.org/maven2/com/lihaoyi/ammonite-ops_2.12/1.6.5/ammonite-ops_2.12-1.6.5.jar at spark://LAPTOP-30N4Q54J:55212/jars/ammonite-ops_2.12-1.6.5.jar with timestamp 1668034157918\n",
      "22/11/09 23:49:17 INFO SparkContext: Added JAR file:/C:/Users/alvar/AppData/Local/Coursier/cache/v1/https/repo1.maven.org/maven2/com/lihaoyi/ammonite-repl_2.12.8/1.6.5/ammonite-repl_2.12.8-1.6.5.jar at spark://LAPTOP-30N4Q54J:55212/jars/ammonite-repl_2.12.8-1.6.5.jar with timestamp 1668034157920\n",
      "22/11/09 23:49:17 INFO SparkContext: Added JAR file:/C:/Users/alvar/AppData/Local/Coursier/cache/v1/https/repo1.maven.org/maven2/com/lihaoyi/ammonite-runtime_2.12/1.6.5/ammonite-runtime_2.12-1.6.5.jar at spark://LAPTOP-30N4Q54J:55212/jars/ammonite-runtime_2.12-1.6.5.jar with timestamp 1668034157921\n",
      "22/11/09 23:49:17 INFO SparkContext: Added JAR file:/C:/Users/alvar/AppData/Local/Coursier/cache/v1/https/repo1.maven.org/maven2/com/lihaoyi/ammonite-terminal_2.12/1.6.5/ammonite-terminal_2.12-1.6.5.jar at spark://LAPTOP-30N4Q54J:55212/jars/ammonite-terminal_2.12-1.6.5.jar with timestamp 1668034157922\n",
      "22/11/09 23:49:17 INFO SparkContext: Added JAR file:/C:/Users/alvar/AppData/Local/Coursier/cache/v1/https/repo1.maven.org/maven2/com/lihaoyi/ammonite-util_2.12/1.6.5/ammonite-util_2.12-1.6.5.jar at spark://LAPTOP-30N4Q54J:55212/jars/ammonite-util_2.12-1.6.5.jar with timestamp 1668034157924\n",
      "22/11/09 23:49:17 INFO SparkContext: Added JAR file:/C:/Users/alvar/AppData/Local/Coursier/cache/v1/https/repo1.maven.org/maven2/com/lihaoyi/fansi_2.12/0.2.4/fansi_2.12-0.2.4.jar at spark://LAPTOP-30N4Q54J:55212/jars/fansi_2.12-0.2.4.jar with timestamp 1668034157926\n",
      "22/11/09 23:49:17 INFO SparkContext: Added JAR file:/C:/Users/alvar/AppData/Local/Coursier/cache/v1/https/repo1.maven.org/maven2/com/lihaoyi/fastparse_2.12/2.1.0/fastparse_2.12-2.1.0.jar at spark://LAPTOP-30N4Q54J:55212/jars/fastparse_2.12-2.1.0.jar with timestamp 1668034157928\n",
      "22/11/09 23:49:17 INFO SparkContext: Added JAR file:/C:/Users/alvar/AppData/Local/Coursier/cache/v1/https/repo1.maven.org/maven2/com/lihaoyi/geny_2.12/0.1.5/geny_2.12-0.1.5.jar at spark://LAPTOP-30N4Q54J:55212/jars/geny_2.12-0.1.5.jar with timestamp 1668034157930\n",
      "22/11/09 23:49:17 INFO SparkContext: Added JAR file:/C:/Users/alvar/AppData/Local/Coursier/cache/v1/https/repo1.maven.org/maven2/com/lihaoyi/os-lib_2.12/0.2.6/os-lib_2.12-0.2.6.jar at spark://LAPTOP-30N4Q54J:55212/jars/os-lib_2.12-0.2.6.jar with timestamp 1668034157934\n",
      "22/11/09 23:49:17 INFO SparkContext: Added JAR file:/C:/Users/alvar/AppData/Local/Coursier/cache/v1/https/repo1.maven.org/maven2/com/lihaoyi/pprint_2.12/0.5.2/pprint_2.12-0.5.2.jar at spark://LAPTOP-30N4Q54J:55212/jars/pprint_2.12-0.5.2.jar with timestamp 1668034157949\n",
      "22/11/09 23:49:17 INFO SparkContext: Added JAR file:/C:/Users/alvar/AppData/Local/Coursier/cache/v1/https/repo1.maven.org/maven2/com/lihaoyi/requests_2.12/0.1.7/requests_2.12-0.1.7.jar at spark://LAPTOP-30N4Q54J:55212/jars/requests_2.12-0.1.7.jar with timestamp 1668034157951\n",
      "22/11/09 23:49:17 INFO SparkContext: Added JAR file:/C:/Users/alvar/AppData/Local/Coursier/cache/v1/https/repo1.maven.org/maven2/com/lihaoyi/scalaparse_2.12/2.1.0/scalaparse_2.12-2.1.0.jar at spark://LAPTOP-30N4Q54J:55212/jars/scalaparse_2.12-2.1.0.jar with timestamp 1668034157952\n",
      "22/11/09 23:49:17 INFO SparkContext: Added JAR file:/C:/Users/alvar/AppData/Local/Coursier/cache/v1/https/repo1.maven.org/maven2/com/lihaoyi/sourcecode_2.12/0.1.5/sourcecode_2.12-0.1.5.jar at spark://LAPTOP-30N4Q54J:55212/jars/sourcecode_2.12-0.1.5.jar with timestamp 1668034157953\n",
      "22/11/09 23:49:17 INFO SparkContext: Added JAR file:/C:/Users/alvar/AppData/Local/Coursier/cache/v1/https/repo1.maven.org/maven2/com/lihaoyi/ujson_2.12/0.7.1/ujson_2.12-0.7.1.jar at spark://LAPTOP-30N4Q54J:55212/jars/ujson_2.12-0.7.1.jar with timestamp 1668034157959\n",
      "22/11/09 23:49:17 INFO SparkContext: Added JAR file:/C:/Users/alvar/AppData/Local/Coursier/cache/v1/https/repo1.maven.org/maven2/com/lihaoyi/upack_2.12/0.7.1/upack_2.12-0.7.1.jar at spark://LAPTOP-30N4Q54J:55212/jars/upack_2.12-0.7.1.jar with timestamp 1668034157966\n",
      "22/11/09 23:49:17 INFO SparkContext: Added JAR file:/C:/Users/alvar/AppData/Local/Coursier/cache/v1/https/repo1.maven.org/maven2/com/lihaoyi/upickle-core_2.12/0.7.1/upickle-core_2.12-0.7.1.jar at spark://LAPTOP-30N4Q54J:55212/jars/upickle-core_2.12-0.7.1.jar with timestamp 1668034157968\n",
      "22/11/09 23:49:17 INFO SparkContext: Added JAR file:/C:/Users/alvar/AppData/Local/Coursier/cache/v1/https/repo1.maven.org/maven2/com/lihaoyi/upickle-implicits_2.12/0.7.1/upickle-implicits_2.12-0.7.1.jar at spark://LAPTOP-30N4Q54J:55212/jars/upickle-implicits_2.12-0.7.1.jar with timestamp 1668034157969\n",
      "22/11/09 23:49:17 INFO SparkContext: Added JAR file:/C:/Users/alvar/AppData/Local/Coursier/cache/v1/https/repo1.maven.org/maven2/com/lihaoyi/upickle_2.12/0.7.1/upickle_2.12-0.7.1.jar at spark://LAPTOP-30N4Q54J:55212/jars/upickle_2.12-0.7.1.jar with timestamp 1668034157970\n",
      "22/11/09 23:49:17 INFO SparkContext: Added JAR file:/C:/Users/alvar/AppData/Local/Coursier/cache/v1/https/repo1.maven.org/maven2/com/lihaoyi/utest_2.12/0.6.4/utest_2.12-0.6.4.jar at spark://LAPTOP-30N4Q54J:55212/jars/utest_2.12-0.6.4.jar with timestamp 1668034157971\n"
     ]
    },
    {
     "name": "stderr",
     "output_type": "stream",
     "text": [
      "22/11/09 23:49:17 INFO SparkContext: Added JAR file:/C:/Users/alvar/AppData/Local/Coursier/cache/v1/https/repo1.maven.org/maven2/io/get-coursier/coursier-cache_2.12/1.1.0-M13-1/coursier-cache_2.12-1.1.0-M13-1.jar at spark://LAPTOP-30N4Q54J:55212/jars/coursier-cache_2.12-1.1.0-M13-1.jar with timestamp 1668034157973\n",
      "22/11/09 23:49:17 INFO SparkContext: Added JAR file:/C:/Users/alvar/AppData/Local/Coursier/cache/v1/https/repo1.maven.org/maven2/io/get-coursier/coursier-core_2.12/1.1.0-M13-1/coursier-core_2.12-1.1.0-M13-1.jar at spark://LAPTOP-30N4Q54J:55212/jars/coursier-core_2.12-1.1.0-M13-1.jar with timestamp 1668034157974\n",
      "22/11/09 23:49:17 INFO SparkContext: Added JAR file:/C:/Users/alvar/AppData/Local/Coursier/cache/v1/https/repo1.maven.org/maven2/io/get-coursier/coursier_2.12/1.1.0-M13-1/coursier_2.12-1.1.0-M13-1.jar at spark://LAPTOP-30N4Q54J:55212/jars/coursier_2.12-1.1.0-M13-1.jar with timestamp 1668034157975\n",
      "22/11/09 23:49:17 INFO SparkContext: Added JAR file:/C:/Users/alvar/AppData/Local/Coursier/cache/v1/https/repo1.maven.org/maven2/net/java/dev/jna/jna/4.2.2/jna-4.2.2.jar at spark://LAPTOP-30N4Q54J:55212/jars/jna-4.2.2.jar with timestamp 1668034157990\n",
      "22/11/09 23:49:17 INFO SparkContext: Added JAR file:/C:/Users/alvar/AppData/Local/Coursier/cache/v1/https/repo1.maven.org/maven2/org/javassist/javassist/3.21.0-GA/javassist-3.21.0-GA.jar at spark://LAPTOP-30N4Q54J:55212/jars/javassist-3.21.0-GA.jar with timestamp 1668034157995\n",
      "22/11/09 23:49:17 INFO SparkContext: Added JAR file:/C:/Users/alvar/AppData/Local/Coursier/cache/v1/https/repo1.maven.org/maven2/org/jline/jline-reader/3.6.2/jline-reader-3.6.2.jar at spark://LAPTOP-30N4Q54J:55212/jars/jline-reader-3.6.2.jar with timestamp 1668034157997\n",
      "22/11/09 23:49:17 INFO SparkContext: Added JAR file:/C:/Users/alvar/AppData/Local/Coursier/cache/v1/https/repo1.maven.org/maven2/org/jline/jline-terminal-jna/3.6.2/jline-terminal-jna-3.6.2.jar at spark://LAPTOP-30N4Q54J:55212/jars/jline-terminal-jna-3.6.2.jar with timestamp 1668034157999\n",
      "22/11/09 23:49:18 INFO SparkContext: Added JAR file:/C:/Users/alvar/AppData/Local/Coursier/cache/v1/https/repo1.maven.org/maven2/org/jline/jline-terminal/3.6.2/jline-terminal-3.6.2.jar at spark://LAPTOP-30N4Q54J:55212/jars/jline-terminal-3.6.2.jar with timestamp 1668034158002\n",
      "22/11/09 23:49:18 INFO SparkContext: Added JAR file:/C:/Users/alvar/AppData/Local/Coursier/cache/v1/https/repo1.maven.org/maven2/org/scala-lang/modules/scala-xml_2.12/1.1.1/scala-xml_2.12-1.1.1.jar at spark://LAPTOP-30N4Q54J:55212/jars/scala-xml_2.12-1.1.1.jar with timestamp 1668034158003\n",
      "22/11/09 23:49:18 INFO SparkContext: Added JAR file:/C:/Users/alvar/AppData/Local/Coursier/cache/v1/https/repo1.maven.org/maven2/org/scala-sbt/test-interface/1.0/test-interface-1.0.jar at spark://LAPTOP-30N4Q54J:55212/jars/test-interface-1.0.jar with timestamp 1668034158003\n",
      "22/11/09 23:49:18 INFO SparkContext: Added JAR file:/C:/Users/alvar/AppData/Local/Coursier/cache/v1/https/repo1.maven.org/maven2/sh/almond/interpreter-api_2.12/0.4.0/interpreter-api_2.12-0.4.0.jar at spark://LAPTOP-30N4Q54J:55212/jars/interpreter-api_2.12-0.4.0.jar with timestamp 1668034158006\n",
      "22/11/09 23:49:18 INFO SparkContext: Added JAR file:/C:/Users/alvar/AppData/Local/Coursier/cache/v1/https/repo1.maven.org/maven2/sh/almond/jupyter-api_2.12/0.4.0/jupyter-api_2.12-0.4.0.jar at spark://LAPTOP-30N4Q54J:55212/jars/jupyter-api_2.12-0.4.0.jar with timestamp 1668034158007\n",
      "22/11/09 23:49:18 INFO SparkContext: Added JAR file:/C:/Users/alvar/AppData/Local/Coursier/cache/v1/https/repo1.maven.org/maven2/sh/almond/scala-kernel-api_2.12.8/0.4.0/scala-kernel-api_2.12.8-0.4.0.jar at spark://LAPTOP-30N4Q54J:55212/jars/scala-kernel-api_2.12.8-0.4.0.jar with timestamp 1668034158008\n",
      "22/11/09 23:49:18 INFO SparkContext: Added JAR file:/C:/Users/alvar/AppData/Local/Coursier/cache/v1/https/repo1.maven.org/maven2/org/json4s/json4s-core_2.12/3.5.3/json4s-core_2.12-3.5.3.jar at spark://LAPTOP-30N4Q54J:55212/jars/json4s-core_2.12-3.5.3.jar with timestamp 1668034158009\n",
      "22/11/09 23:49:18 INFO SparkContext: Added JAR file:/C:/Users/alvar/AppData/Local/Coursier/cache/v1/https/repo1.maven.org/maven2/xml-apis/xml-apis/1.3.04/xml-apis-1.3.04.jar at spark://LAPTOP-30N4Q54J:55212/jars/xml-apis-1.3.04.jar with timestamp 1668034158010\n",
      "22/11/09 23:49:18 INFO SparkContext: Added JAR file:/C:/Users/alvar/AppData/Local/Coursier/cache/v1/https/repo1.maven.org/maven2/javax/servlet/javax.servlet-api/3.1.0/javax.servlet-api-3.1.0.jar at spark://LAPTOP-30N4Q54J:55212/jars/javax.servlet-api-3.1.0.jar with timestamp 1668034158011\n",
      "22/11/09 23:49:18 INFO SparkContext: Added JAR file:/C:/Users/alvar/AppData/Local/Coursier/cache/v1/https/repo1.maven.org/maven2/io/dropwizard/metrics/metrics-core/3.1.5/metrics-core-3.1.5.jar at spark://LAPTOP-30N4Q54J:55212/jars/metrics-core-3.1.5.jar with timestamp 1668034158012\n",
      "22/11/09 23:49:18 INFO SparkContext: Added JAR file:/C:/Users/alvar/AppData/Local/Coursier/cache/v1/https/repo1.maven.org/maven2/com/google/inject/guice/3.0/guice-3.0.jar at spark://LAPTOP-30N4Q54J:55212/jars/guice-3.0.jar with timestamp 1668034158013\n",
      "22/11/09 23:49:18 INFO SparkContext: Added JAR file:/C:/Users/alvar/AppData/Local/Coursier/cache/v1/https/repo1.maven.org/maven2/org/slf4j/slf4j-log4j12/1.7.16/slf4j-log4j12-1.7.16.jar at spark://LAPTOP-30N4Q54J:55212/jars/slf4j-log4j12-1.7.16.jar with timestamp 1668034158014\n",
      "22/11/09 23:49:18 INFO SparkContext: Added JAR file:/C:/Users/alvar/AppData/Local/Coursier/cache/v1/https/repo1.maven.org/maven2/org/apache/commons/commons-crypto/1.0.0/commons-crypto-1.0.0.jar at spark://LAPTOP-30N4Q54J:55212/jars/commons-crypto-1.0.0.jar with timestamp 1668034158015\n",
      "22/11/09 23:49:18 INFO SparkContext: Added JAR file:/C:/Users/alvar/AppData/Local/Coursier/cache/v1/https/repo1.maven.org/maven2/org/apache/xbean/xbean-asm6-shaded/4.8/xbean-asm6-shaded-4.8.jar at spark://LAPTOP-30N4Q54J:55212/jars/xbean-asm6-shaded-4.8.jar with timestamp 1668034158015\n",
      "22/11/09 23:49:18 INFO SparkContext: Added JAR file:/C:/Users/alvar/AppData/Local/Coursier/cache/v1/https/repo1.maven.org/maven2/xerces/xercesImpl/2.9.1/xercesImpl-2.9.1.jar at spark://LAPTOP-30N4Q54J:55212/jars/xercesImpl-2.9.1.jar with timestamp 1668034158016\n",
      "22/11/09 23:49:18 INFO SparkContext: Added JAR file:/C:/Users/alvar/AppData/Local/Coursier/cache/v1/https/repo1.maven.org/maven2/com/github/luben/zstd-jni/1.3.2-2/zstd-jni-1.3.2-2.jar at spark://LAPTOP-30N4Q54J:55212/jars/zstd-jni-1.3.2-2.jar with timestamp 1668034158017\n",
      "22/11/09 23:49:18 INFO SparkContext: Added JAR file:/C:/Users/alvar/AppData/Local/Coursier/cache/v1/https/repo1.maven.org/maven2/org/codehaus/jettison/jettison/1.1/jettison-1.1.jar at spark://LAPTOP-30N4Q54J:55212/jars/jettison-1.1.jar with timestamp 1668034158018\n",
      "22/11/09 23:49:18 INFO SparkContext: Added JAR file:/C:/Users/alvar/AppData/Local/Coursier/cache/v1/https/repo1.maven.org/maven2/org/apache/spark/spark-unsafe_2.12/2.4.5/spark-unsafe_2.12-2.4.5.jar at spark://LAPTOP-30N4Q54J:55212/jars/spark-unsafe_2.12-2.4.5.jar with timestamp 1668034158019\n",
      "22/11/09 23:49:18 INFO SparkContext: Added JAR file:/C:/Users/alvar/AppData/Local/Coursier/cache/v1/https/repo1.maven.org/maven2/org/apache/hadoop/hadoop-yarn-server-nodemanager/2.6.5/hadoop-yarn-server-nodemanager-2.6.5.jar at spark://LAPTOP-30N4Q54J:55212/jars/hadoop-yarn-server-nodemanager-2.6.5.jar with timestamp 1668034158020\n",
      "22/11/09 23:49:18 INFO SparkContext: Added JAR file:/C:/Users/alvar/AppData/Local/Coursier/cache/v1/https/repo1.maven.org/maven2/org/apache/parquet/parquet-hadoop/1.10.1/parquet-hadoop-1.10.1.jar at spark://LAPTOP-30N4Q54J:55212/jars/parquet-hadoop-1.10.1.jar with timestamp 1668034158021\n",
      "22/11/09 23:49:18 INFO SparkContext: Added JAR file:/C:/Users/alvar/AppData/Local/Coursier/cache/v1/https/repo1.maven.org/maven2/joda-time/joda-time/2.9.9/joda-time-2.9.9.jar at spark://LAPTOP-30N4Q54J:55212/jars/joda-time-2.9.9.jar with timestamp 1668034158021\n",
      "22/11/09 23:49:18 INFO SparkContext: Added JAR file:/C:/Users/alvar/AppData/Local/Coursier/cache/v1/https/repo1.maven.org/maven2/commons-io/commons-io/2.4/commons-io-2.4.jar at spark://LAPTOP-30N4Q54J:55212/jars/commons-io-2.4.jar with timestamp 1668034158022\n"
     ]
    },
    {
     "name": "stderr",
     "output_type": "stream",
     "text": [
      "22/11/09 23:49:18 INFO SparkContext: Added JAR file:/C:/Users/alvar/AppData/Local/Coursier/cache/v1/https/repo1.maven.org/maven2/commons-configuration/commons-configuration/1.6/commons-configuration-1.6.jar at spark://LAPTOP-30N4Q54J:55212/jars/commons-configuration-1.6.jar with timestamp 1668034158024\n",
      "22/11/09 23:49:18 INFO SparkContext: Added JAR file:/C:/Users/alvar/AppData/Local/Coursier/cache/v1/https/repo1.maven.org/maven2/org/antlr/antlr4-runtime/4.7/antlr4-runtime-4.7.jar at spark://LAPTOP-30N4Q54J:55212/jars/antlr4-runtime-4.7.jar with timestamp 1668034158025\n",
      "22/11/09 23:49:18 INFO SparkContext: Added JAR file:/C:/Users/alvar/AppData/Local/Coursier/cache/v1/https/repo1.maven.org/maven2/org/glassfish/jersey/core/jersey-common/2.22.2/jersey-common-2.22.2.jar at spark://LAPTOP-30N4Q54J:55212/jars/jersey-common-2.22.2.jar with timestamp 1668034158026\n",
      "22/11/09 23:49:18 INFO SparkContext: Added JAR file:/C:/Users/alvar/AppData/Local/Coursier/cache/v1/https/repo1.maven.org/maven2/io/airlift/aircompressor/0.10/aircompressor-0.10.jar at spark://LAPTOP-30N4Q54J:55212/jars/aircompressor-0.10.jar with timestamp 1668034158028\n",
      "22/11/09 23:49:18 INFO SparkContext: Added JAR file:/C:/Users/alvar/AppData/Local/Coursier/cache/v1/https/repo1.maven.org/maven2/org/apache/commons/commons-compress/1.8.1/commons-compress-1.8.1.jar at spark://LAPTOP-30N4Q54J:55212/jars/commons-compress-1.8.1.jar with timestamp 1668034158029\n",
      "22/11/09 23:49:18 INFO SparkContext: Added JAR file:/C:/Users/alvar/AppData/Local/Coursier/cache/v1/https/repo1.maven.org/maven2/org/slf4j/jcl-over-slf4j/1.7.16/jcl-over-slf4j-1.7.16.jar at spark://LAPTOP-30N4Q54J:55212/jars/jcl-over-slf4j-1.7.16.jar with timestamp 1668034158030\n",
      "22/11/09 23:49:18 INFO SparkContext: Added JAR file:/C:/Users/alvar/AppData/Local/Coursier/cache/v1/https/repo1.maven.org/maven2/org/javassist/javassist/3.18.1-GA/javassist-3.18.1-GA.jar at spark://LAPTOP-30N4Q54J:55212/jars/javassist-3.18.1-GA.jar with timestamp 1668034158030\n",
      "22/11/09 23:49:18 INFO SparkContext: Added JAR file:/C:/Users/alvar/AppData/Local/Coursier/cache/v1/https/repo1.maven.org/maven2/org/glassfish/hk2/external/aopalliance-repackaged/2.4.0-b34/aopalliance-repackaged-2.4.0-b34.jar at spark://LAPTOP-30N4Q54J:55212/jars/aopalliance-repackaged-2.4.0-b34.jar with timestamp 1668034158032\n",
      "22/11/09 23:49:18 INFO SparkContext: Added JAR file:/C:/Users/alvar/AppData/Local/Coursier/cache/v1/https/repo1.maven.org/maven2/org/lz4/lz4-java/1.4.0/lz4-java-1.4.0.jar at spark://LAPTOP-30N4Q54J:55212/jars/lz4-java-1.4.0.jar with timestamp 1668034158032\n",
      "22/11/09 23:49:18 INFO SparkContext: Added JAR file:/C:/Users/alvar/AppData/Local/Coursier/cache/v1/https/repo1.maven.org/maven2/io/netty/netty/3.9.9.Final/netty-3.9.9.Final.jar at spark://LAPTOP-30N4Q54J:55212/jars/netty-3.9.9.Final.jar with timestamp 1668034158033\n",
      "22/11/09 23:49:18 INFO SparkContext: Added JAR file:/C:/Users/alvar/AppData/Local/Coursier/cache/v1/https/repo1.maven.org/maven2/org/apache/spark/spark-network-common_2.12/2.4.5/spark-network-common_2.12-2.4.5.jar at spark://LAPTOP-30N4Q54J:55212/jars/spark-network-common_2.12-2.4.5.jar with timestamp 1668034158034\n",
      "22/11/09 23:49:18 INFO SparkContext: Added JAR file:/C:/Users/alvar/AppData/Local/Coursier/cache/v1/https/repo1.maven.org/maven2/aopalliance/aopalliance/1.0/aopalliance-1.0.jar at spark://LAPTOP-30N4Q54J:55212/jars/aopalliance-1.0.jar with timestamp 1668034158035\n",
      "22/11/09 23:49:18 INFO SparkContext: Added JAR file:/C:/Users/alvar/AppData/Local/Coursier/cache/v1/https/repo1.maven.org/maven2/com/fasterxml/jackson/core/jackson-core/2.7.9/jackson-core-2.7.9.jar at spark://LAPTOP-30N4Q54J:55212/jars/jackson-core-2.7.9.jar with timestamp 1668034158037\n",
      "22/11/09 23:49:18 INFO SparkContext: Added JAR file:/C:/Users/alvar/AppData/Local/Coursier/cache/v1/https/repo1.maven.org/maven2/org/apache/spark/spark-sql_2.12/2.4.5/spark-sql_2.12-2.4.5.jar at spark://LAPTOP-30N4Q54J:55212/jars/spark-sql_2.12-2.4.5.jar with timestamp 1668034158039\n",
      "22/11/09 23:49:18 INFO SparkContext: Added JAR file:/C:/Users/alvar/AppData/Local/Coursier/cache/v1/https/repo1.maven.org/maven2/com/google/code/gson/gson/2.2.4/gson-2.2.4.jar at spark://LAPTOP-30N4Q54J:55212/jars/gson-2.2.4.jar with timestamp 1668034158040\n",
      "22/11/09 23:49:18 INFO SparkContext: Added JAR file:/C:/Users/alvar/AppData/Local/Coursier/cache/v1/https/repo1.maven.org/maven2/org/apache/directory/api/api-util/1.0.0-M20/api-util-1.0.0-M20.jar at spark://LAPTOP-30N4Q54J:55212/jars/api-util-1.0.0-M20.jar with timestamp 1668034158041\n",
      "22/11/09 23:49:18 INFO SparkContext: Added JAR file:/C:/Users/alvar/AppData/Local/Coursier/cache/v1/https/repo1.maven.org/maven2/org/apache/hadoop/hadoop-yarn-client/2.6.5/hadoop-yarn-client-2.6.5.jar at spark://LAPTOP-30N4Q54J:55212/jars/hadoop-yarn-client-2.6.5.jar with timestamp 1668034158042\n",
      "22/11/09 23:49:18 INFO SparkContext: Added JAR file:/C:/Users/alvar/AppData/Local/Coursier/cache/v1/https/repo1.maven.org/maven2/javax/xml/bind/jaxb-api/2.2.2/jaxb-api-2.2.2.jar at spark://LAPTOP-30N4Q54J:55212/jars/jaxb-api-2.2.2.jar with timestamp 1668034158042\n",
      "22/11/09 23:49:18 INFO SparkContext: Added JAR file:/C:/Users/alvar/AppData/Local/Coursier/cache/v1/https/repo1.maven.org/maven2/org/apache/spark/spark-tags_2.12/2.4.5/spark-tags_2.12-2.4.5.jar at spark://LAPTOP-30N4Q54J:55212/jars/spark-tags_2.12-2.4.5.jar with timestamp 1668034158088\n",
      "22/11/09 23:49:18 INFO SparkContext: Added JAR file:/C:/Users/alvar/AppData/Local/Coursier/cache/v1/https/repo1.maven.org/maven2/org/apache/parquet/parquet-jackson/1.10.1/parquet-jackson-1.10.1.jar at spark://LAPTOP-30N4Q54J:55212/jars/parquet-jackson-1.10.1.jar with timestamp 1668034158092\n",
      "22/11/09 23:49:18 INFO SparkContext: Added JAR file:/C:/Users/alvar/AppData/Local/Coursier/cache/v1/https/repo1.maven.org/maven2/org/roaringbitmap/shims/0.7.45/shims-0.7.45.jar at spark://LAPTOP-30N4Q54J:55212/jars/shims-0.7.45.jar with timestamp 1668034158096\n",
      "22/11/09 23:49:18 INFO SparkContext: Added JAR file:/C:/Users/alvar/AppData/Local/Coursier/cache/v1/https/repo1.maven.org/maven2/com/thoughtworks/paranamer/paranamer/2.8/paranamer-2.8.jar at spark://LAPTOP-30N4Q54J:55212/jars/paranamer-2.8.jar with timestamp 1668034158100\n",
      "22/11/09 23:49:18 INFO SparkContext: Added JAR file:/C:/Users/alvar/AppData/Local/Coursier/cache/v1/https/repo1.maven.org/maven2/org/apache/avro/avro/1.8.2/avro-1.8.2.jar at spark://LAPTOP-30N4Q54J:55212/jars/avro-1.8.2.jar with timestamp 1668034158101\n",
      "22/11/09 23:49:18 INFO SparkContext: Added JAR file:/C:/Users/alvar/AppData/Local/Coursier/cache/v1/https/repo1.maven.org/maven2/org/apache/httpcomponents/httpcore/4.2.4/httpcore-4.2.4.jar at spark://LAPTOP-30N4Q54J:55212/jars/httpcore-4.2.4.jar with timestamp 1668034158102\n",
      "22/11/09 23:49:18 INFO SparkContext: Added JAR file:/C:/Users/alvar/AppData/Local/Coursier/cache/v1/https/repo1.maven.org/maven2/com/carrotsearch/hppc/0.7.2/hppc-0.7.2.jar at spark://LAPTOP-30N4Q54J:55212/jars/hppc-0.7.2.jar with timestamp 1668034158103\n",
      "22/11/09 23:49:18 INFO SparkContext: Added JAR file:/C:/Users/alvar/AppData/Local/Coursier/cache/v1/https/repo1.maven.org/maven2/com/fasterxml/jackson/core/jackson-databind/2.6.7.3/jackson-databind-2.6.7.3.jar at spark://LAPTOP-30N4Q54J:55212/jars/jackson-databind-2.6.7.3.jar with timestamp 1668034158105\n",
      "22/11/09 23:49:18 INFO SparkContext: Added JAR file:/C:/Users/alvar/AppData/Local/Coursier/cache/v1/https/repo1.maven.org/maven2/org/apache/spark/spark-kvstore_2.12/2.4.5/spark-kvstore_2.12-2.4.5.jar at spark://LAPTOP-30N4Q54J:55212/jars/spark-kvstore_2.12-2.4.5.jar with timestamp 1668034158105\n",
      "22/11/09 23:49:18 INFO SparkContext: Added JAR file:/C:/Users/alvar/AppData/Local/Coursier/cache/v1/https/repo1.maven.org/maven2/commons-codec/commons-codec/1.10/commons-codec-1.10.jar at spark://LAPTOP-30N4Q54J:55212/jars/commons-codec-1.10.jar with timestamp 1668034158107\n",
      "22/11/09 23:49:18 INFO SparkContext: Added JAR file:/C:/Users/alvar/AppData/Local/Coursier/cache/v1/https/repo1.maven.org/maven2/org/mortbay/jetty/jetty-util/6.1.26/jetty-util-6.1.26.jar at spark://LAPTOP-30N4Q54J:55212/jars/jetty-util-6.1.26.jar with timestamp 1668034158109\n",
      "22/11/09 23:49:18 INFO SparkContext: Added JAR file:/C:/Users/alvar/AppData/Local/Coursier/cache/v1/https/repo1.maven.org/maven2/org/apache/hadoop/hadoop-yarn-common/2.6.5/hadoop-yarn-common-2.6.5.jar at spark://LAPTOP-30N4Q54J:55212/jars/hadoop-yarn-common-2.6.5.jar with timestamp 1668034158114\n"
     ]
    },
    {
     "name": "stderr",
     "output_type": "stream",
     "text": [
      "22/11/09 23:49:18 INFO SparkContext: Added JAR file:/C:/Users/alvar/AppData/Local/Coursier/cache/v1/https/repo1.maven.org/maven2/org/json4s/json4s-scalap_2.12/3.5.3/json4s-scalap_2.12-3.5.3.jar at spark://LAPTOP-30N4Q54J:55212/jars/json4s-scalap_2.12-3.5.3.jar with timestamp 1668034158122\n",
      "22/11/09 23:49:18 INFO SparkContext: Added JAR file:/C:/Users/alvar/AppData/Local/Coursier/cache/v1/https/repo1.maven.org/maven2/commons-beanutils/commons-beanutils/1.7.0/commons-beanutils-1.7.0.jar at spark://LAPTOP-30N4Q54J:55212/jars/commons-beanutils-1.7.0.jar with timestamp 1668034158123\n",
      "22/11/09 23:49:18 INFO SparkContext: Added JAR file:/C:/Users/alvar/AppData/Local/Coursier/cache/v1/https/repo1.maven.org/maven2/org/apache/avro/avro-ipc/1.8.2/avro-ipc-1.8.2.jar at spark://LAPTOP-30N4Q54J:55212/jars/avro-ipc-1.8.2.jar with timestamp 1668034158125\n",
      "22/11/09 23:49:18 INFO SparkContext: Added JAR file:/C:/Users/alvar/AppData/Local/Coursier/cache/v1/https/repo1.maven.org/maven2/org/apache/hadoop/hadoop-auth/2.6.5/hadoop-auth-2.6.5.jar at spark://LAPTOP-30N4Q54J:55212/jars/hadoop-auth-2.6.5.jar with timestamp 1668034158128\n",
      "22/11/09 23:49:18 INFO SparkContext: Added JAR file:/C:/Users/alvar/AppData/Local/Coursier/cache/v1/https/repo1.maven.org/maven2/org/apache/arrow/arrow-vector/0.10.0/arrow-vector-0.10.0.jar at spark://LAPTOP-30N4Q54J:55212/jars/arrow-vector-0.10.0.jar with timestamp 1668034158132\n",
      "22/11/09 23:49:18 INFO SparkContext: Added JAR file:/C:/Users/alvar/AppData/Local/Coursier/cache/v1/https/repo1.maven.org/maven2/org/apache/parquet/parquet-common/1.10.1/parquet-common-1.10.1.jar at spark://LAPTOP-30N4Q54J:55212/jars/parquet-common-1.10.1.jar with timestamp 1668034158135\n",
      "22/11/09 23:49:18 INFO SparkContext: Added JAR file:/C:/Users/alvar/AppData/Local/Coursier/cache/v1/https/repo1.maven.org/maven2/com/ning/compress-lzf/1.0.3/compress-lzf-1.0.3.jar at spark://LAPTOP-30N4Q54J:55212/jars/compress-lzf-1.0.3.jar with timestamp 1668034158135\n",
      "22/11/09 23:49:18 INFO SparkContext: Added JAR file:/C:/Users/alvar/AppData/Local/Coursier/cache/v1/https/repo1.maven.org/maven2/log4j/log4j/1.2.17/log4j-1.2.17.jar at spark://LAPTOP-30N4Q54J:55212/jars/log4j-1.2.17.jar with timestamp 1668034158136\n",
      "22/11/09 23:49:18 INFO SparkContext: Added JAR file:/C:/Users/alvar/AppData/Local/Coursier/cache/v1/https/repo1.maven.org/maven2/com/clearspring/analytics/stream/2.7.0/stream-2.7.0.jar at spark://LAPTOP-30N4Q54J:55212/jars/stream-2.7.0.jar with timestamp 1668034158147\n",
      "22/11/09 23:49:18 INFO SparkContext: Added JAR file:/C:/Users/alvar/AppData/Local/Coursier/cache/v1/https/repo1.maven.org/maven2/com/vlkan/flatbuffers/1.2.0-3f79e055/flatbuffers-1.2.0-3f79e055.jar at spark://LAPTOP-30N4Q54J:55212/jars/flatbuffers-1.2.0-3f79e055.jar with timestamp 1668034158149\n",
      "22/11/09 23:49:18 INFO SparkContext: Added JAR file:/C:/Users/alvar/AppData/Local/Coursier/cache/v1/https/repo1.maven.org/maven2/org/apache/directory/server/apacheds-i18n/2.0.0-M15/apacheds-i18n-2.0.0-M15.jar at spark://LAPTOP-30N4Q54J:55212/jars/apacheds-i18n-2.0.0-M15.jar with timestamp 1668034158150\n",
      "22/11/09 23:49:18 INFO SparkContext: Added JAR file:/C:/Users/alvar/AppData/Local/Coursier/cache/v1/https/repo1.maven.org/maven2/javax/activation/activation/1.1.1/activation-1.1.1.jar at spark://LAPTOP-30N4Q54J:55212/jars/activation-1.1.1.jar with timestamp 1668034158151\n",
      "22/11/09 23:49:18 INFO SparkContext: Added JAR file:/C:/Users/alvar/AppData/Local/Coursier/cache/v1/https/repo1.maven.org/maven2/javax/inject/javax.inject/1/javax.inject-1.jar at spark://LAPTOP-30N4Q54J:55212/jars/javax.inject-1.jar with timestamp 1668034158151\n",
      "22/11/09 23:49:18 INFO SparkContext: Added JAR file:/C:/Users/alvar/AppData/Local/Coursier/cache/v1/https/repo1.maven.org/maven2/org/slf4j/jul-to-slf4j/1.7.16/jul-to-slf4j-1.7.16.jar at spark://LAPTOP-30N4Q54J:55212/jars/jul-to-slf4j-1.7.16.jar with timestamp 1668034158152\n",
      "22/11/09 23:49:18 INFO SparkContext: Added JAR file:/C:/Users/alvar/AppData/Local/Coursier/cache/v1/https/repo1.maven.org/maven2/com/esotericsoftware/minlog/1.3.0/minlog-1.3.0.jar at spark://LAPTOP-30N4Q54J:55212/jars/minlog-1.3.0.jar with timestamp 1668034158153\n",
      "22/11/09 23:49:18 INFO SparkContext: Added JAR file:/C:/Users/alvar/AppData/Local/Coursier/cache/v1/https/repo1.maven.org/maven2/xmlenc/xmlenc/0.52/xmlenc-0.52.jar at spark://LAPTOP-30N4Q54J:55212/jars/xmlenc-0.52.jar with timestamp 1668034158154\n",
      "22/11/09 23:49:18 INFO SparkContext: Added JAR file:/C:/Users/alvar/AppData/Local/Coursier/cache/v1/https/repo1.maven.org/maven2/com/univocity/univocity-parsers/2.7.3/univocity-parsers-2.7.3.jar at spark://LAPTOP-30N4Q54J:55212/jars/univocity-parsers-2.7.3.jar with timestamp 1668034158155\n",
      "22/11/09 23:49:18 INFO SparkContext: Added JAR file:/C:/Users/alvar/AppData/Local/Coursier/cache/v1/https/repo1.maven.org/maven2/org/codehaus/janino/janino/3.0.9/janino-3.0.9.jar at spark://LAPTOP-30N4Q54J:55212/jars/janino-3.0.9.jar with timestamp 1668034158156\n",
      "22/11/09 23:49:18 INFO SparkContext: Added JAR file:/C:/Users/alvar/AppData/Local/Coursier/cache/v1/https/repo1.maven.org/maven2/org/apache/spark/spark-core_2.12/2.4.5/spark-core_2.12-2.4.5.jar at spark://LAPTOP-30N4Q54J:55212/jars/spark-core_2.12-2.4.5.jar with timestamp 1668034158156\n",
      "22/11/09 23:49:18 INFO SparkContext: Added JAR file:/C:/Users/alvar/AppData/Local/Coursier/cache/v1/https/repo1.maven.org/maven2/commons-lang/commons-lang/2.6/commons-lang-2.6.jar at spark://LAPTOP-30N4Q54J:55212/jars/commons-lang-2.6.jar with timestamp 1668034158157\n",
      "22/11/09 23:49:18 INFO SparkContext: Added JAR file:/C:/Users/alvar/AppData/Local/Coursier/cache/v1/https/repo1.maven.org/maven2/org/slf4j/slf4j-api/1.7.25/slf4j-api-1.7.25.jar at spark://LAPTOP-30N4Q54J:55212/jars/slf4j-api-1.7.25.jar with timestamp 1668034158158\n",
      "22/11/09 23:49:18 INFO SparkContext: Added JAR file:/C:/Users/alvar/AppData/Local/Coursier/cache/v1/https/repo1.maven.org/maven2/oro/oro/2.0.8/oro-2.0.8.jar at spark://LAPTOP-30N4Q54J:55212/jars/oro-2.0.8.jar with timestamp 1668034158160\n",
      "22/11/09 23:49:18 INFO SparkContext: Added JAR file:/C:/Users/alvar/AppData/Local/Coursier/cache/v1/https/repo1.maven.org/maven2/javax/annotation/javax.annotation-api/1.2/javax.annotation-api-1.2.jar at spark://LAPTOP-30N4Q54J:55212/jars/javax.annotation-api-1.2.jar with timestamp 1668034158161\n",
      "22/11/09 23:49:18 INFO SparkContext: Added JAR file:/C:/Users/alvar/AppData/Local/Coursier/cache/v1/https/repo1.maven.org/maven2/commons-cli/commons-cli/1.2/commons-cli-1.2.jar at spark://LAPTOP-30N4Q54J:55212/jars/commons-cli-1.2.jar with timestamp 1668034158162\n",
      "22/11/09 23:49:18 INFO SparkContext: Added JAR file:/C:/Users/alvar/AppData/Local/Coursier/cache/v1/https/repo1.maven.org/maven2/org/apache/commons/commons-math3/3.4.1/commons-math3-3.4.1.jar at spark://LAPTOP-30N4Q54J:55212/jars/commons-math3-3.4.1.jar with timestamp 1668034158163\n",
      "22/11/09 23:49:18 INFO SparkContext: Added JAR file:/C:/Users/alvar/AppData/Local/Coursier/cache/v1/https/repo1.maven.org/maven2/org/codehaus/jackson/jackson-core-asl/1.9.13/jackson-core-asl-1.9.13.jar at spark://LAPTOP-30N4Q54J:55212/jars/jackson-core-asl-1.9.13.jar with timestamp 1668034158164\n",
      "22/11/09 23:49:18 INFO SparkContext: Added JAR file:/C:/Users/alvar/AppData/Local/Coursier/cache/v1/https/repo1.maven.org/maven2/org/apache/orc/orc-core/1.5.5/orc-core-1.5.5-nohive.jar at spark://LAPTOP-30N4Q54J:55212/jars/orc-core-1.5.5-nohive.jar with timestamp 1668034158166\n",
      "22/11/09 23:49:18 INFO SparkContext: Added JAR file:/C:/Users/alvar/AppData/Local/Coursier/cache/v1/https/repo1.maven.org/maven2/com/google/guava/guava/16.0.1/guava-16.0.1.jar at spark://LAPTOP-30N4Q54J:55212/jars/guava-16.0.1.jar with timestamp 1668034158167\n",
      "22/11/09 23:49:18 INFO SparkContext: Added JAR file:/C:/Users/alvar/AppData/Local/Coursier/cache/v1/https/repo1.maven.org/maven2/org/apache/hadoop/hadoop-yarn-server-common/2.6.5/hadoop-yarn-server-common-2.6.5.jar at spark://LAPTOP-30N4Q54J:55212/jars/hadoop-yarn-server-common-2.6.5.jar with timestamp 1668034158168\n",
      "22/11/09 23:49:18 INFO SparkContext: Added JAR file:/C:/Users/alvar/AppData/Local/Coursier/cache/v1/https/repo1.maven.org/maven2/org/glassfish/hk2/hk2-api/2.4.0-b34/hk2-api-2.4.0-b34.jar at spark://LAPTOP-30N4Q54J:55212/jars/hk2-api-2.4.0-b34.jar with timestamp 1668034158168\n"
     ]
    },
    {
     "name": "stderr",
     "output_type": "stream",
     "text": [
      "22/11/09 23:49:18 INFO SparkContext: Added JAR file:/C:/Users/alvar/AppData/Local/Coursier/cache/v1/https/repo1.maven.org/maven2/org/fusesource/leveldbjni/leveldbjni-all/1.8/leveldbjni-all-1.8.jar at spark://LAPTOP-30N4Q54J:55212/jars/leveldbjni-all-1.8.jar with timestamp 1668034158169\n",
      "22/11/09 23:49:18 INFO SparkContext: Added JAR file:/C:/Users/alvar/AppData/Local/Coursier/cache/v1/https/repo1.maven.org/maven2/org/glassfish/hk2/osgi-resource-locator/1.0.1/osgi-resource-locator-1.0.1.jar at spark://LAPTOP-30N4Q54J:55212/jars/osgi-resource-locator-1.0.1.jar with timestamp 1668034158170\n",
      "22/11/09 23:49:18 INFO SparkContext: Added JAR file:/C:/Users/alvar/AppData/Local/Coursier/cache/v1/https/repo1.maven.org/maven2/org/scala-lang/modules/scala-parser-combinators_2.12/1.1.0/scala-parser-combinators_2.12-1.1.0.jar at spark://LAPTOP-30N4Q54J:55212/jars/scala-parser-combinators_2.12-1.1.0.jar with timestamp 1668034158171\n",
      "22/11/09 23:49:18 INFO SparkContext: Added JAR file:/C:/Users/alvar/AppData/Local/Coursier/cache/v1/https/repo1.maven.org/maven2/org/apache/spark/spark-catalyst_2.12/2.4.5/spark-catalyst_2.12-2.4.5.jar at spark://LAPTOP-30N4Q54J:55212/jars/spark-catalyst_2.12-2.4.5.jar with timestamp 1668034158172\n",
      "22/11/09 23:49:18 INFO SparkContext: Added JAR file:/C:/Users/alvar/AppData/Local/Coursier/cache/v1/https/repo1.maven.org/maven2/org/apache/hadoop/hadoop-yarn-api/2.6.5/hadoop-yarn-api-2.6.5.jar at spark://LAPTOP-30N4Q54J:55212/jars/hadoop-yarn-api-2.6.5.jar with timestamp 1668034158173\n",
      "22/11/09 23:49:18 INFO SparkContext: Added JAR file:/C:/Users/alvar/AppData/Local/Coursier/cache/v1/https/repo1.maven.org/maven2/org/apache/commons/commons-lang3/3.5/commons-lang3-3.5.jar at spark://LAPTOP-30N4Q54J:55212/jars/commons-lang3-3.5.jar with timestamp 1668034158174\n",
      "22/11/09 23:49:18 INFO SparkContext: Added JAR file:/C:/Users/alvar/AppData/Local/Coursier/cache/v1/https/repo1.maven.org/maven2/commons-collections/commons-collections/3.2.2/commons-collections-3.2.2.jar at spark://LAPTOP-30N4Q54J:55212/jars/commons-collections-3.2.2.jar with timestamp 1668034158175\n",
      "22/11/09 23:49:18 INFO SparkContext: Added JAR file:/C:/Users/alvar/AppData/Local/Coursier/cache/v1/https/repo1.maven.org/maven2/org/glassfish/hk2/hk2-utils/2.4.0-b34/hk2-utils-2.4.0-b34.jar at spark://LAPTOP-30N4Q54J:55212/jars/hk2-utils-2.4.0-b34.jar with timestamp 1668034158175\n",
      "22/11/09 23:49:18 INFO SparkContext: Added JAR file:/C:/Users/alvar/AppData/Local/Coursier/cache/v1/https/repo1.maven.org/maven2/org/tukaani/xz/1.5/xz-1.5.jar at spark://LAPTOP-30N4Q54J:55212/jars/xz-1.5.jar with timestamp 1668034158176\n",
      "22/11/09 23:49:18 INFO SparkContext: Added JAR file:/C:/Users/alvar/AppData/Local/Coursier/cache/v1/https/repo1.maven.org/maven2/org/apache/hadoop/hadoop-common/2.6.5/hadoop-common-2.6.5.jar at spark://LAPTOP-30N4Q54J:55212/jars/hadoop-common-2.6.5.jar with timestamp 1668034158177\n",
      "22/11/09 23:49:18 INFO SparkContext: Added JAR file:/C:/Users/alvar/AppData/Local/Coursier/cache/v1/https/repo1.maven.org/maven2/org/apache/hadoop/hadoop-mapreduce-client-core/2.6.5/hadoop-mapreduce-client-core-2.6.5.jar at spark://LAPTOP-30N4Q54J:55212/jars/hadoop-mapreduce-client-core-2.6.5.jar with timestamp 1668034158178\n",
      "22/11/09 23:49:18 INFO SparkContext: Added JAR file:/C:/Users/alvar/AppData/Local/Coursier/cache/v1/https/repo1.maven.org/maven2/jline/jline/0.9.94/jline-0.9.94.jar at spark://LAPTOP-30N4Q54J:55212/jars/jline-0.9.94.jar with timestamp 1668034158179\n",
      "22/11/09 23:49:18 INFO SparkContext: Added JAR file:/C:/Users/alvar/AppData/Local/Coursier/cache/v1/https/repo1.maven.org/maven2/org/apache/orc/orc-mapreduce/1.5.5/orc-mapreduce-1.5.5-nohive.jar at spark://LAPTOP-30N4Q54J:55212/jars/orc-mapreduce-1.5.5-nohive.jar with timestamp 1668034158180\n",
      "22/11/09 23:49:18 INFO SparkContext: Added JAR file:/C:/Users/alvar/AppData/Local/Coursier/cache/v1/https/repo1.maven.org/maven2/org/apache/httpcomponents/httpclient/4.2.5/httpclient-4.2.5.jar at spark://LAPTOP-30N4Q54J:55212/jars/httpclient-4.2.5.jar with timestamp 1668034158181\n",
      "22/11/09 23:49:18 INFO SparkContext: Added JAR file:/C:/Users/alvar/AppData/Local/Coursier/cache/v1/https/repo1.maven.org/maven2/org/apache/hadoop/hadoop-annotations/2.6.5/hadoop-annotations-2.6.5.jar at spark://LAPTOP-30N4Q54J:55212/jars/hadoop-annotations-2.6.5.jar with timestamp 1668034158181\n",
      "22/11/09 23:49:18 INFO SparkContext: Added JAR file:/C:/Users/alvar/AppData/Local/Coursier/cache/v1/https/repo1.maven.org/maven2/org/spark-project/spark/unused/1.0.0/unused-1.0.0.jar at spark://LAPTOP-30N4Q54J:55212/jars/unused-1.0.0.jar with timestamp 1668034158183\n",
      "22/11/09 23:49:18 INFO SparkContext: Added JAR file:/C:/Users/alvar/AppData/Local/Coursier/cache/v1/https/repo1.maven.org/maven2/org/glassfish/jersey/containers/jersey-container-servlet-core/2.22.2/jersey-container-servlet-core-2.22.2.jar at spark://LAPTOP-30N4Q54J:55212/jars/jersey-container-servlet-core-2.22.2.jar with timestamp 1668034158184\n",
      "22/11/09 23:49:18 INFO SparkContext: Added JAR file:/C:/Users/alvar/AppData/Local/Coursier/cache/v1/https/repo1.maven.org/maven2/org/codehaus/janino/commons-compiler/3.0.9/commons-compiler-3.0.9.jar at spark://LAPTOP-30N4Q54J:55212/jars/commons-compiler-3.0.9.jar with timestamp 1668034158184\n",
      "22/11/09 23:49:18 INFO SparkContext: Added JAR file:/C:/Users/alvar/AppData/Local/Coursier/cache/v1/https/repo1.maven.org/maven2/org/glassfish/hk2/hk2-locator/2.4.0-b34/hk2-locator-2.4.0-b34.jar at spark://LAPTOP-30N4Q54J:55212/jars/hk2-locator-2.4.0-b34.jar with timestamp 1668034158185\n",
      "22/11/09 23:49:18 INFO SparkContext: Added JAR file:/C:/Users/alvar/AppData/Local/Coursier/cache/v1/https/repo1.maven.org/maven2/org/codehaus/jackson/jackson-mapper-asl/1.9.13/jackson-mapper-asl-1.9.13.jar at spark://LAPTOP-30N4Q54J:55212/jars/jackson-mapper-asl-1.9.13.jar with timestamp 1668034158186\n",
      "22/11/09 23:49:18 INFO SparkContext: Added JAR file:/C:/Users/alvar/AppData/Local/Coursier/cache/v1/https/repo1.maven.org/maven2/net/sf/py4j/py4j/0.10.7/py4j-0.10.7.jar at spark://LAPTOP-30N4Q54J:55212/jars/py4j-0.10.7.jar with timestamp 1668034158187\n",
      "22/11/09 23:49:18 INFO SparkContext: Added JAR file:/C:/Users/alvar/AppData/Local/Coursier/cache/v1/https/repo1.maven.org/maven2/org/apache/curator/curator-recipes/2.6.0/curator-recipes-2.6.0.jar at spark://LAPTOP-30N4Q54J:55212/jars/curator-recipes-2.6.0.jar with timestamp 1668034158188\n",
      "22/11/09 23:49:18 INFO SparkContext: Added JAR file:/C:/Users/alvar/AppData/Local/Coursier/cache/v1/https/repo1.maven.org/maven2/com/google/code/findbugs/jsr305/3.0.2/jsr305-3.0.2.jar at spark://LAPTOP-30N4Q54J:55212/jars/jsr305-3.0.2.jar with timestamp 1668034158189\n",
      "22/11/09 23:49:18 INFO SparkContext: Added JAR file:/C:/Users/alvar/AppData/Local/Coursier/cache/v1/https/repo1.maven.org/maven2/org/apache/orc/orc-shims/1.5.5/orc-shims-1.5.5.jar at spark://LAPTOP-30N4Q54J:55212/jars/orc-shims-1.5.5.jar with timestamp 1668034158189\n",
      "22/11/09 23:49:18 INFO SparkContext: Added JAR file:/C:/Users/alvar/AppData/Local/Coursier/cache/v1/https/repo1.maven.org/maven2/org/apache/curator/curator-client/2.6.0/curator-client-2.6.0.jar at spark://LAPTOP-30N4Q54J:55212/jars/curator-client-2.6.0.jar with timestamp 1668034158190\n",
      "22/11/09 23:49:18 INFO SparkContext: Added JAR file:/C:/Users/alvar/AppData/Local/Coursier/cache/v1/https/repo1.maven.org/maven2/org/xerial/snappy/snappy-java/1.1.7.3/snappy-java-1.1.7.3.jar at spark://LAPTOP-30N4Q54J:55212/jars/snappy-java-1.1.7.3.jar with timestamp 1668034158191\n",
      "22/11/09 23:49:18 INFO SparkContext: Added JAR file:/C:/Users/alvar/AppData/Local/Coursier/cache/v1/https/repo1.maven.org/maven2/javax/validation/validation-api/1.1.0.Final/validation-api-1.1.0.Final.jar at spark://LAPTOP-30N4Q54J:55212/jars/validation-api-1.1.0.Final.jar with timestamp 1668034158192\n",
      "22/11/09 23:49:18 INFO SparkContext: Added JAR file:/C:/Users/alvar/AppData/Local/Coursier/cache/v1/https/repo1.maven.org/maven2/org/apache/hadoop/hadoop-hdfs/2.6.5/hadoop-hdfs-2.6.5.jar at spark://LAPTOP-30N4Q54J:55212/jars/hadoop-hdfs-2.6.5.jar with timestamp 1668034158192\n",
      "22/11/09 23:49:18 INFO SparkContext: Added JAR file:/C:/Users/alvar/AppData/Local/Coursier/cache/v1/https/repo1.maven.org/maven2/org/apache/ivy/ivy/2.4.0/ivy-2.4.0.jar at spark://LAPTOP-30N4Q54J:55212/jars/ivy-2.4.0.jar with timestamp 1668034158193\n"
     ]
    },
    {
     "name": "stderr",
     "output_type": "stream",
     "text": [
      "22/11/09 23:49:18 INFO SparkContext: Added JAR file:/C:/Users/alvar/AppData/Local/Coursier/cache/v1/https/repo1.maven.org/maven2/javax/xml/stream/stax-api/1.0-2/stax-api-1.0-2.jar at spark://LAPTOP-30N4Q54J:55212/jars/stax-api-1.0-2.jar with timestamp 1668034158194\n",
      "22/11/09 23:49:18 INFO SparkContext: Added JAR file:/C:/Users/alvar/AppData/Local/Coursier/cache/v1/https/repo1.maven.org/maven2/org/roaringbitmap/RoaringBitmap/0.7.45/RoaringBitmap-0.7.45.jar at spark://LAPTOP-30N4Q54J:55212/jars/RoaringBitmap-0.7.45.jar with timestamp 1668034158195\n",
      "22/11/09 23:49:18 INFO SparkContext: Added JAR file:/C:/Users/alvar/AppData/Local/Coursier/cache/v1/https/repo1.maven.org/maven2/org/codehaus/jackson/jackson-jaxrs/1.9.13/jackson-jaxrs-1.9.13.jar at spark://LAPTOP-30N4Q54J:55212/jars/jackson-jaxrs-1.9.13.jar with timestamp 1668034158195\n",
      "22/11/09 23:49:18 INFO SparkContext: Added JAR file:/C:/Users/alvar/AppData/Local/Coursier/cache/v1/https/repo1.maven.org/maven2/io/dropwizard/metrics/metrics-json/3.1.5/metrics-json-3.1.5.jar at spark://LAPTOP-30N4Q54J:55212/jars/metrics-json-3.1.5.jar with timestamp 1668034158196\n",
      "22/11/09 23:49:18 INFO SparkContext: Added JAR file:/C:/Users/alvar/AppData/Local/Coursier/cache/v1/https/repo1.maven.org/maven2/org/glassfish/jersey/containers/jersey-container-servlet/2.22.2/jersey-container-servlet-2.22.2.jar at spark://LAPTOP-30N4Q54J:55212/jars/jersey-container-servlet-2.22.2.jar with timestamp 1668034158197\n",
      "22/11/09 23:49:18 INFO SparkContext: Added JAR file:/C:/Users/alvar/AppData/Local/Coursier/cache/v1/https/repo1.maven.org/maven2/org/codehaus/jackson/jackson-xc/1.9.13/jackson-xc-1.9.13.jar at spark://LAPTOP-30N4Q54J:55212/jars/jackson-xc-1.9.13.jar with timestamp 1668034158198\n",
      "22/11/09 23:49:18 INFO SparkContext: Added JAR file:/C:/Users/alvar/AppData/Local/Coursier/cache/v1/https/repo1.maven.org/maven2/javax/ws/rs/javax.ws.rs-api/2.0.1/javax.ws.rs-api-2.0.1.jar at spark://LAPTOP-30N4Q54J:55212/jars/javax.ws.rs-api-2.0.1.jar with timestamp 1668034158198\n",
      "22/11/09 23:49:18 INFO SparkContext: Added JAR file:/C:/Users/alvar/AppData/Local/Coursier/cache/v1/https/repo1.maven.org/maven2/com/fasterxml/jackson/module/jackson-module-scala_2.12/2.6.7.1/jackson-module-scala_2.12-2.6.7.1.jar at spark://LAPTOP-30N4Q54J:55212/jars/jackson-module-scala_2.12-2.6.7.1.jar with timestamp 1668034158199\n",
      "22/11/09 23:49:18 INFO SparkContext: Added JAR file:/C:/Users/alvar/AppData/Local/Coursier/cache/v1/https/repo1.maven.org/maven2/org/apache/parquet/parquet-column/1.10.1/parquet-column-1.10.1.jar at spark://LAPTOP-30N4Q54J:55212/jars/parquet-column-1.10.1.jar with timestamp 1668034158200\n",
      "22/11/09 23:49:18 INFO SparkContext: Added JAR file:/C:/Users/alvar/AppData/Local/Coursier/cache/v1/https/repo1.maven.org/maven2/com/esotericsoftware/kryo-shaded/4.0.2/kryo-shaded-4.0.2.jar at spark://LAPTOP-30N4Q54J:55212/jars/kryo-shaded-4.0.2.jar with timestamp 1668034158200\n",
      "22/11/09 23:49:18 INFO SparkContext: Added JAR file:/C:/Users/alvar/AppData/Local/Coursier/cache/v1/https/repo1.maven.org/maven2/org/apache/directory/api/api-asn1-api/1.0.0-M20/api-asn1-api-1.0.0-M20.jar at spark://LAPTOP-30N4Q54J:55212/jars/api-asn1-api-1.0.0-M20.jar with timestamp 1668034158201\n",
      "22/11/09 23:49:18 INFO SparkContext: Added JAR file:/C:/Users/alvar/AppData/Local/Coursier/cache/v1/https/repo1.maven.org/maven2/net/razorvine/pyrolite/4.13/pyrolite-4.13.jar at spark://LAPTOP-30N4Q54J:55212/jars/pyrolite-4.13.jar with timestamp 1668034158202\n",
      "22/11/09 23:49:18 INFO SparkContext: Added JAR file:/C:/Users/alvar/AppData/Local/Coursier/cache/v1/https/repo1.maven.org/maven2/org/apache/parquet/parquet-format/2.4.0/parquet-format-2.4.0.jar at spark://LAPTOP-30N4Q54J:55212/jars/parquet-format-2.4.0.jar with timestamp 1668034158202\n",
      "22/11/09 23:49:18 INFO SparkContext: Added JAR file:/C:/Users/alvar/AppData/Local/Coursier/cache/v1/https/repo1.maven.org/maven2/org/scala-lang/modules/scala-xml_2.12/1.0.6/scala-xml_2.12-1.0.6.jar at spark://LAPTOP-30N4Q54J:55212/jars/scala-xml_2.12-1.0.6.jar with timestamp 1668034158203\n",
      "22/11/09 23:49:18 INFO SparkContext: Added JAR file:/C:/Users/alvar/AppData/Local/Coursier/cache/v1/https/repo1.maven.org/maven2/org/apache/zookeeper/zookeeper/3.4.6/zookeeper-3.4.6.jar at spark://LAPTOP-30N4Q54J:55212/jars/zookeeper-3.4.6.jar with timestamp 1668034158204\n",
      "22/11/09 23:49:18 INFO SparkContext: Added JAR file:/C:/Users/alvar/AppData/Local/Coursier/cache/v1/https/repo1.maven.org/maven2/org/objenesis/objenesis/2.5.1/objenesis-2.5.1.jar at spark://LAPTOP-30N4Q54J:55212/jars/objenesis-2.5.1.jar with timestamp 1668034158204\n",
      "22/11/09 23:49:18 INFO SparkContext: Added JAR file:/C:/Users/alvar/AppData/Local/Coursier/cache/v1/https/repo1.maven.org/maven2/org/glassfish/jersey/media/jersey-media-jaxb/2.22.2/jersey-media-jaxb-2.22.2.jar at spark://LAPTOP-30N4Q54J:55212/jars/jersey-media-jaxb-2.22.2.jar with timestamp 1668034158205\n",
      "22/11/09 23:49:18 INFO SparkContext: Added JAR file:/C:/Users/alvar/AppData/Local/Coursier/cache/v1/https/repo1.maven.org/maven2/commons-httpclient/commons-httpclient/3.1/commons-httpclient-3.1.jar at spark://LAPTOP-30N4Q54J:55212/jars/commons-httpclient-3.1.jar with timestamp 1668034158206\n",
      "22/11/09 23:49:18 INFO SparkContext: Added JAR file:/C:/Users/alvar/AppData/Local/Coursier/cache/v1/https/repo1.maven.org/maven2/org/apache/hadoop/hadoop-mapreduce-client-jobclient/2.6.5/hadoop-mapreduce-client-jobclient-2.6.5.jar at spark://LAPTOP-30N4Q54J:55212/jars/hadoop-mapreduce-client-jobclient-2.6.5.jar with timestamp 1668034158207\n",
      "22/11/09 23:49:18 INFO SparkContext: Added JAR file:/C:/Users/alvar/AppData/Local/Coursier/cache/v1/https/repo1.maven.org/maven2/io/netty/netty-all/4.1.42.Final/netty-all-4.1.42.Final.jar at spark://LAPTOP-30N4Q54J:55212/jars/netty-all-4.1.42.Final.jar with timestamp 1668034158208\n",
      "22/11/09 23:49:18 INFO SparkContext: Added JAR file:/C:/Users/alvar/AppData/Local/Coursier/cache/v1/https/repo1.maven.org/maven2/org/apache/spark/spark-network-shuffle_2.12/2.4.5/spark-network-shuffle_2.12-2.4.5.jar at spark://LAPTOP-30N4Q54J:55212/jars/spark-network-shuffle_2.12-2.4.5.jar with timestamp 1668034158209\n",
      "22/11/09 23:49:18 INFO SparkContext: Added JAR file:/C:/Users/alvar/AppData/Local/Coursier/cache/v1/https/repo1.maven.org/maven2/org/apache/spark/spark-sketch_2.12/2.4.5/spark-sketch_2.12-2.4.5.jar at spark://LAPTOP-30N4Q54J:55212/jars/spark-sketch_2.12-2.4.5.jar with timestamp 1668034158210\n",
      "22/11/09 23:49:18 INFO SparkContext: Added JAR file:/C:/Users/alvar/AppData/Local/Coursier/cache/v1/https/repo1.maven.org/maven2/com/twitter/chill-java/0.9.3/chill-java-0.9.3.jar at spark://LAPTOP-30N4Q54J:55212/jars/chill-java-0.9.3.jar with timestamp 1668034158211\n",
      "22/11/09 23:49:18 INFO SparkContext: Added JAR file:/C:/Users/alvar/AppData/Local/Coursier/cache/v1/https/repo1.maven.org/maven2/org/json4s/json4s-ast_2.12/3.5.3/json4s-ast_2.12-3.5.3.jar at spark://LAPTOP-30N4Q54J:55212/jars/json4s-ast_2.12-3.5.3.jar with timestamp 1668034158212\n",
      "22/11/09 23:49:18 INFO SparkContext: Added JAR file:/C:/Users/alvar/AppData/Local/Coursier/cache/v1/https/repo1.maven.org/maven2/org/apache/avro/avro-mapred/1.8.2/avro-mapred-1.8.2-hadoop2.jar at spark://LAPTOP-30N4Q54J:55212/jars/avro-mapred-1.8.2-hadoop2.jar with timestamp 1668034158213\n",
      "22/11/09 23:49:18 INFO SparkContext: Added JAR file:/C:/Users/alvar/AppData/Local/Coursier/cache/v1/https/repo1.maven.org/maven2/org/apache/parquet/parquet-encoding/1.10.1/parquet-encoding-1.10.1.jar at spark://LAPTOP-30N4Q54J:55212/jars/parquet-encoding-1.10.1.jar with timestamp 1668034158284\n",
      "22/11/09 23:49:18 INFO SparkContext: Added JAR file:/C:/Users/alvar/AppData/Local/Coursier/cache/v1/https/repo1.maven.org/maven2/commons-net/commons-net/3.1/commons-net-3.1.jar at spark://LAPTOP-30N4Q54J:55212/jars/commons-net-3.1.jar with timestamp 1668034158286\n",
      "22/11/09 23:49:18 INFO SparkContext: Added JAR file:/C:/Users/alvar/AppData/Local/Coursier/cache/v1/https/repo1.maven.org/maven2/io/dropwizard/metrics/metrics-jvm/3.1.5/metrics-jvm-3.1.5.jar at spark://LAPTOP-30N4Q54J:55212/jars/metrics-jvm-3.1.5.jar with timestamp 1668034158287\n",
      "22/11/09 23:49:18 INFO SparkContext: Added JAR file:/C:/Users/alvar/AppData/Local/Coursier/cache/v1/https/repo1.maven.org/maven2/org/glassfish/jersey/core/jersey-client/2.22.2/jersey-client-2.22.2.jar at spark://LAPTOP-30N4Q54J:55212/jars/jersey-client-2.22.2.jar with timestamp 1668034158288\n"
     ]
    },
    {
     "name": "stderr",
     "output_type": "stream",
     "text": [
      "22/11/09 23:49:18 INFO SparkContext: Added JAR file:/C:/Users/alvar/AppData/Local/Coursier/cache/v1/https/repo1.maven.org/maven2/org/apache/arrow/arrow-memory/0.10.0/arrow-memory-0.10.0.jar at spark://LAPTOP-30N4Q54J:55212/jars/arrow-memory-0.10.0.jar with timestamp 1668034158289\n",
      "22/11/09 23:49:18 INFO SparkContext: Added JAR file:/C:/Users/alvar/AppData/Local/Coursier/cache/v1/https/repo1.maven.org/maven2/org/apache/hadoop/hadoop-mapreduce-client-shuffle/2.6.5/hadoop-mapreduce-client-shuffle-2.6.5.jar at spark://LAPTOP-30N4Q54J:55212/jars/hadoop-mapreduce-client-shuffle-2.6.5.jar with timestamp 1668034158290\n",
      "22/11/09 23:49:18 INFO SparkContext: Added JAR file:/C:/Users/alvar/AppData/Local/Coursier/cache/v1/https/repo1.maven.org/maven2/com/fasterxml/jackson/module/jackson-module-paranamer/2.7.9/jackson-module-paranamer-2.7.9.jar at spark://LAPTOP-30N4Q54J:55212/jars/jackson-module-paranamer-2.7.9.jar with timestamp 1668034158290\n",
      "22/11/09 23:49:18 INFO SparkContext: Added JAR file:/C:/Users/alvar/AppData/Local/Coursier/cache/v1/https/repo1.maven.org/maven2/org/apache/hadoop/hadoop-mapreduce-client-app/2.6.5/hadoop-mapreduce-client-app-2.6.5.jar at spark://LAPTOP-30N4Q54J:55212/jars/hadoop-mapreduce-client-app-2.6.5.jar with timestamp 1668034158291\n",
      "22/11/09 23:49:18 INFO SparkContext: Added JAR file:/C:/Users/alvar/AppData/Local/Coursier/cache/v1/https/repo1.maven.org/maven2/org/htrace/htrace-core/3.0.4/htrace-core-3.0.4.jar at spark://LAPTOP-30N4Q54J:55212/jars/htrace-core-3.0.4.jar with timestamp 1668034158292\n",
      "22/11/09 23:49:18 INFO SparkContext: Added JAR file:/C:/Users/alvar/AppData/Local/Coursier/cache/v1/https/repo1.maven.org/maven2/org/glassfish/jersey/bundles/repackaged/jersey-guava/2.22.2/jersey-guava-2.22.2.jar at spark://LAPTOP-30N4Q54J:55212/jars/jersey-guava-2.22.2.jar with timestamp 1668034158293\n",
      "22/11/09 23:49:18 INFO SparkContext: Added JAR file:/C:/Users/alvar/AppData/Local/Coursier/cache/v1/https/repo1.maven.org/maven2/commons-digester/commons-digester/1.8/commons-digester-1.8.jar at spark://LAPTOP-30N4Q54J:55212/jars/commons-digester-1.8.jar with timestamp 1668034158294\n",
      "22/11/09 23:49:18 INFO SparkContext: Added JAR file:/C:/Users/alvar/AppData/Local/Coursier/cache/v1/https/repo1.maven.org/maven2/org/apache/spark/spark-launcher_2.12/2.4.5/spark-launcher_2.12-2.4.5.jar at spark://LAPTOP-30N4Q54J:55212/jars/spark-launcher_2.12-2.4.5.jar with timestamp 1668034158295\n",
      "22/11/09 23:49:18 INFO SparkContext: Added JAR file:/C:/Users/alvar/AppData/Local/Coursier/cache/v1/https/repo1.maven.org/maven2/com/twitter/chill_2.12/0.9.3/chill_2.12-0.9.3.jar at spark://LAPTOP-30N4Q54J:55212/jars/chill_2.12-0.9.3.jar with timestamp 1668034158296\n",
      "22/11/09 23:49:18 INFO SparkContext: Added JAR file:/C:/Users/alvar/AppData/Local/Coursier/cache/v1/https/repo1.maven.org/maven2/org/apache/arrow/arrow-format/0.10.0/arrow-format-0.10.0.jar at spark://LAPTOP-30N4Q54J:55212/jars/arrow-format-0.10.0.jar with timestamp 1668034158297\n",
      "22/11/09 23:49:18 INFO SparkContext: Added JAR file:/C:/Users/alvar/AppData/Local/Coursier/cache/v1/https/repo1.maven.org/maven2/com/google/protobuf/protobuf-java/2.5.0/protobuf-java-2.5.0.jar at spark://LAPTOP-30N4Q54J:55212/jars/protobuf-java-2.5.0.jar with timestamp 1668034158298\n",
      "22/11/09 23:49:18 INFO SparkContext: Added JAR file:/C:/Users/alvar/AppData/Local/Coursier/cache/v1/https/repo1.maven.org/maven2/org/apache/directory/server/apacheds-kerberos-codec/2.0.0-M15/apacheds-kerberos-codec-2.0.0-M15.jar at spark://LAPTOP-30N4Q54J:55212/jars/apacheds-kerberos-codec-2.0.0-M15.jar with timestamp 1668034158299\n",
      "22/11/09 23:49:18 INFO SparkContext: Added JAR file:/C:/Users/alvar/AppData/Local/Coursier/cache/v1/https/repo1.maven.org/maven2/org/apache/hadoop/hadoop-client/2.6.5/hadoop-client-2.6.5.jar at spark://LAPTOP-30N4Q54J:55212/jars/hadoop-client-2.6.5.jar with timestamp 1668034158300\n",
      "22/11/09 23:49:18 INFO SparkContext: Added JAR file:/C:/Users/alvar/AppData/Local/Coursier/cache/v1/https/repo1.maven.org/maven2/io/dropwizard/metrics/metrics-graphite/3.1.5/metrics-graphite-3.1.5.jar at spark://LAPTOP-30N4Q54J:55212/jars/metrics-graphite-3.1.5.jar with timestamp 1668034158301\n",
      "22/11/09 23:49:18 INFO SparkContext: Added JAR file:/C:/Users/alvar/AppData/Local/Coursier/cache/v1/https/repo1.maven.org/maven2/org/json4s/json4s-jackson_2.12/3.5.3/json4s-jackson_2.12-3.5.3.jar at spark://LAPTOP-30N4Q54J:55212/jars/json4s-jackson_2.12-3.5.3.jar with timestamp 1668034158302\n",
      "22/11/09 23:49:18 INFO SparkContext: Added JAR file:/C:/Users/alvar/AppData/Local/Coursier/cache/v1/https/repo1.maven.org/maven2/org/glassfish/hk2/external/javax.inject/2.4.0-b34/javax.inject-2.4.0-b34.jar at spark://LAPTOP-30N4Q54J:55212/jars/javax.inject-2.4.0-b34.jar with timestamp 1668034158303\n",
      "22/11/09 23:49:18 INFO SparkContext: Added JAR file:/C:/Users/alvar/AppData/Local/Coursier/cache/v1/https/repo1.maven.org/maven2/org/glassfish/jersey/core/jersey-server/2.22.2/jersey-server-2.22.2.jar at spark://LAPTOP-30N4Q54J:55212/jars/jersey-server-2.22.2.jar with timestamp 1668034158304\n",
      "22/11/09 23:49:18 INFO SparkContext: Added JAR file:/C:/Users/alvar/AppData/Local/Coursier/cache/v1/https/repo1.maven.org/maven2/com/fasterxml/jackson/core/jackson-annotations/2.6.7/jackson-annotations-2.6.7.jar at spark://LAPTOP-30N4Q54J:55212/jars/jackson-annotations-2.6.7.jar with timestamp 1668034158304\n",
      "22/11/09 23:49:18 INFO SparkContext: Added JAR file:/C:/Users/alvar/AppData/Local/Coursier/cache/v1/https/repo1.maven.org/maven2/org/apache/hadoop/hadoop-mapreduce-client-common/2.6.5/hadoop-mapreduce-client-common-2.6.5.jar at spark://LAPTOP-30N4Q54J:55212/jars/hadoop-mapreduce-client-common-2.6.5.jar with timestamp 1668034158305\n",
      "22/11/09 23:49:18 INFO SparkContext: Added JAR file:/C:/Users/alvar/AppData/Local/Coursier/cache/v1/https/repo1.maven.org/maven2/org/apache/curator/curator-framework/2.6.0/curator-framework-2.6.0.jar at spark://LAPTOP-30N4Q54J:55212/jars/curator-framework-2.6.0.jar with timestamp 1668034158307\n",
      "22/11/09 23:49:18 INFO SparkContext: Added JAR file:/C:/Users/alvar/AppData/Local/Coursier/cache/v1/https/repo1.maven.org/maven2/sh/almond/almond-spark_2.12/0.4.0/almond-spark_2.12-0.4.0.jar at spark://LAPTOP-30N4Q54J:55212/jars/almond-spark_2.12-0.4.0.jar with timestamp 1668034158308\n",
      "22/11/09 23:49:18 INFO SparkContext: Added JAR file:/C:/Users/alvar/AppData/Local/Coursier/cache/v1/https/repo1.maven.org/maven2/io/argonaut/argonaut_2.12/6.2.3/argonaut_2.12-6.2.3.jar at spark://LAPTOP-30N4Q54J:55212/jars/argonaut_2.12-6.2.3.jar with timestamp 1668034158309\n",
      "22/11/09 23:49:18 INFO SparkContext: Added JAR file:/C:/Users/alvar/AppData/Local/Coursier/cache/v1/https/repo1.maven.org/maven2/org/eclipse/jetty/jetty-server/9.4.15.v20190215/jetty-server-9.4.15.v20190215.jar at spark://LAPTOP-30N4Q54J:55212/jars/jetty-server-9.4.15.v20190215.jar with timestamp 1668034158310\n",
      "22/11/09 23:49:18 INFO SparkContext: Added JAR file:/C:/Users/alvar/AppData/Local/Coursier/cache/v1/https/repo1.maven.org/maven2/sh/almond/ammonite-spark_2.12/0.4.0/ammonite-spark_2.12-0.4.0.jar at spark://LAPTOP-30N4Q54J:55212/jars/ammonite-spark_2.12-0.4.0.jar with timestamp 1668034158311\n",
      "22/11/09 23:49:18 INFO SparkContext: Added JAR file:/C:/Users/alvar/AppData/Local/Coursier/cache/v1/https/repo1.maven.org/maven2/com/github/alexarchambault/argonaut-shapeless_6.2_2.12/1.2.0-M10/argonaut-shapeless_6.2_2.12-1.2.0-M10.jar at spark://LAPTOP-30N4Q54J:55212/jars/argonaut-shapeless_6.2_2.12-1.2.0-M10.jar with timestamp 1668034158312\n",
      "22/11/09 23:49:18 INFO SparkContext: Added JAR file:/C:/Users/alvar/AppData/Local/Coursier/cache/v1/https/repo1.maven.org/maven2/org/eclipse/jetty/jetty-io/9.4.15.v20190215/jetty-io-9.4.15.v20190215.jar at spark://LAPTOP-30N4Q54J:55212/jars/jetty-io-9.4.15.v20190215.jar with timestamp 1668034158313\n",
      "22/11/09 23:49:18 INFO SparkContext: Added JAR file:/C:/Users/alvar/AppData/Local/Coursier/cache/v1/https/repo1.maven.org/maven2/org/typelevel/macro-compat_2.12/1.1.1/macro-compat_2.12-1.1.1.jar at spark://LAPTOP-30N4Q54J:55212/jars/macro-compat_2.12-1.1.1.jar with timestamp 1668034158314\n",
      "22/11/09 23:49:18 INFO SparkContext: Added JAR file:/C:/Users/alvar/AppData/Local/Coursier/cache/v1/https/repo1.maven.org/maven2/org/eclipse/jetty/jetty-http/9.4.15.v20190215/jetty-http-9.4.15.v20190215.jar at spark://LAPTOP-30N4Q54J:55212/jars/jetty-http-9.4.15.v20190215.jar with timestamp 1668034158315\n"
     ]
    },
    {
     "name": "stderr",
     "output_type": "stream",
     "text": [
      "22/11/09 23:49:18 INFO SparkContext: Added JAR file:/C:/Users/alvar/AppData/Local/Coursier/cache/v1/https/repo1.maven.org/maven2/org/eclipse/jetty/jetty-util/9.4.15.v20190215/jetty-util-9.4.15.v20190215.jar at spark://LAPTOP-30N4Q54J:55212/jars/jetty-util-9.4.15.v20190215.jar with timestamp 1668034158316\n",
      "22/11/09 23:49:18 INFO SparkContext: Added JAR file:/C:/Users/alvar/AppData/Local/Coursier/cache/v1/https/repo1.maven.org/maven2/com/chuusai/shapeless_2.12/2.3.3/shapeless_2.12-2.3.3.jar at spark://LAPTOP-30N4Q54J:55212/jars/shapeless_2.12-2.3.3.jar with timestamp 1668034158317\n",
      "22/11/09 23:49:18 INFO SparkContext: Added JAR file:/C:/Users/alvar/AppData/Local/Coursier/cache/v1/https/repo1.maven.org/maven2/sh/almond/spark-stubs_24_2.12/0.4.0/spark-stubs_24_2.12-0.4.0.jar at spark://LAPTOP-30N4Q54J:55212/jars/spark-stubs_24_2.12-0.4.0.jar with timestamp 1668034158318\n",
      "22/11/09 23:49:18 INFO Executor: Starting executor ID driver on host localhost\n",
      "22/11/09 23:49:18 INFO Executor: Using REPL class URI: http://192.168.56.1:55185\n",
      "22/11/09 23:49:18 INFO Utils: Successfully started service 'org.apache.spark.network.netty.NettyBlockTransferService' on port 55239.\n",
      "22/11/09 23:49:18 INFO NettyBlockTransferService: Server created on LAPTOP-30N4Q54J:55239\n",
      "22/11/09 23:49:18 INFO BlockManager: Using org.apache.spark.storage.RandomBlockReplicationPolicy for block replication policy\n",
      "22/11/09 23:49:18 INFO BlockManagerMaster: Registering BlockManager BlockManagerId(driver, LAPTOP-30N4Q54J, 55239, None)\n",
      "22/11/09 23:49:18 INFO BlockManagerMasterEndpoint: Registering block manager LAPTOP-30N4Q54J:55239 with 434.4 MB RAM, BlockManagerId(driver, LAPTOP-30N4Q54J, 55239, None)\n",
      "22/11/09 23:49:18 INFO BlockManagerMaster: Registered BlockManager BlockManagerId(driver, LAPTOP-30N4Q54J, 55239, None)\n",
      "22/11/09 23:49:18 INFO BlockManager: Initialized BlockManager: BlockManagerId(driver, LAPTOP-30N4Q54J, 55239, None)\n"
     ]
    },
    {
     "data": {
      "text/html": [
       "<a href=\"http://LAPTOP-30N4Q54J:4040\">Spark UI</a>"
      ]
     },
     "metadata": {},
     "output_type": "display_data"
    },
    {
     "data": {
      "text/plain": [
       "\u001b[32mimport \u001b[39m\u001b[36m$ivy.$                                   \n",
       "\u001b[39m\r\n",
       "\u001b[32mimport \u001b[39m\u001b[36m$ivy.$                              \n",
       "\n",
       "\u001b[39m\r\n",
       "\u001b[32mimport \u001b[39m\u001b[36morg.apache.spark.sql.{NotebookSparkSession, SparkSession}\n",
       "\u001b[39m\r\n",
       "\u001b[32mimport \u001b[39m\u001b[36morg.apache.spark.sql.{functions => func, _}\n",
       "\u001b[39m\r\n",
       "\u001b[32mimport \u001b[39m\u001b[36morg.apache.spark.sql.types._\n",
       "\n",
       "\u001b[39m\r\n",
       "\u001b[36mspark\u001b[39m: \u001b[32mSparkSession\u001b[39m = org.apache.spark.sql.SparkSession@11bb5dad\r\n",
       "\u001b[32mimport \u001b[39m\u001b[36mspark.implicits._\n",
       "\n",
       "\u001b[39m\r\n",
       "\u001b[32mimport \u001b[39m\u001b[36morg.slf4j.LoggerFactory\n",
       "\u001b[39m\r\n",
       "\u001b[32mimport \u001b[39m\u001b[36morg.apache.log4j.{Level, Logger}\n",
       "\n",
       "\u001b[39m"
      ]
     },
     "execution_count": 1,
     "metadata": {},
     "output_type": "execute_result"
    }
   ],
   "source": [
    "import $ivy.`org.apache.spark::spark-sql:2.4.5` \n",
    "import $ivy.`sh.almond::almond-spark:0.4.0`\n",
    "\n",
    "import org.apache.spark.sql.{NotebookSparkSession, SparkSession}\n",
    "import org.apache.spark.sql.{functions => func, _}\n",
    "import org.apache.spark.sql.types._\n",
    "\n",
    "val spark = NotebookSparkSession\n",
    "      .builder()\n",
    "      .config(\"spark.sql.join.preferSortMergeJoin\", false)\n",
    "      .config(\"spark.sql.shuffle.partitions\", 64)\n",
    "      .master(\"local[4]\")\n",
    "      .getOrCreate()\n",
    "\n",
    "import spark.implicits._\n",
    "\n",
    "import org.slf4j.LoggerFactory\n",
    "import org.apache.log4j.{Level, Logger}\n",
    "\n",
    "Logger.getRootLogger().setLevel(Level.ERROR)"
   ]
  },
  {
   "cell_type": "code",
   "execution_count": null,
   "id": "1f4e9899",
   "metadata": {},
   "outputs": [],
   "source": [
    "val data: DataFrame = spark.read.option(\"multiline\", \"true\").json(\"D:/TFGAlvaroSanchez/data2/*.json\")"
   ]
  },
  {
   "cell_type": "code",
   "execution_count": null,
   "id": "6d95437a",
   "metadata": {
    "scrolled": true
   },
   "outputs": [],
   "source": [
    "data.show()"
   ]
  },
  {
   "cell_type": "markdown",
   "id": "9e2ac2a2",
   "metadata": {},
   "source": [
    "### Obtencion de la fecha y del valor maximo de temperatura"
   ]
  },
  {
   "cell_type": "markdown",
   "id": "f4590aee",
   "metadata": {},
   "source": [
    "Con lo siguiente cambiamos el tipo de datos de la columna ta_max\n",
    "\n",
    "val data1 = data.withColumn(\"ta_max\", $\"ta_max\".substr(0,4).cast(IntegerType))"
   ]
  },
  {
   "cell_type": "code",
   "execution_count": null,
   "id": "7e9d8457",
   "metadata": {},
   "outputs": [],
   "source": [
    "import org.apache.spark.sql.functions.{min, max, desc}\n",
    "\n",
    "data.withColumn(\"ta_max\", $\"ta_max\".substr(0,4).cast(IntegerType))\n",
    "    .select($\"fecha\", $\"ta_max\" as \"temperatura maxima\")\n",
    "    .orderBy($\"ta_max\".desc)\n",
    "    .show(1)"
   ]
  },
  {
   "cell_type": "markdown",
   "id": "38cfd3f1",
   "metadata": {
    "scrolled": true
   },
   "source": [
    "### Obtencion del mes, año, id estacion y provincia donde ocurren la stemperaturas mas altas en 2021"
   ]
  },
  {
   "cell_type": "code",
   "execution_count": null,
   "id": "4bf439ab",
   "metadata": {},
   "outputs": [],
   "source": [
    "val data2021 : DataFrame = spark.read.option(\"multiline\", \"true\").json(\"D:/TFGAlvaroSanchez/data2/*2021.json\")"
   ]
  },
  {
   "cell_type": "code",
   "execution_count": null,
   "id": "f0832bdf",
   "metadata": {},
   "outputs": [],
   "source": [
    "data2021.printSchema()"
   ]
  },
  {
   "cell_type": "code",
   "execution_count": null,
   "id": "bab2f3ba",
   "metadata": {},
   "outputs": [],
   "source": [
    "data2021.select($\"ta_min\", $\"indicativo\", $\"fecha\")\n",
    "    .filter($\"indicativo\".equalTo(\"2916A\"))\n",
    "    .show()"
   ]
  },
  {
   "cell_type": "markdown",
   "id": "5f1c8194",
   "metadata": {},
   "source": [
    "Usamos `.df` para darle nombre a las columnas"
   ]
  },
  {
   "cell_type": "code",
   "execution_count": null,
   "id": "0a9dff27",
   "metadata": {},
   "outputs": [],
   "source": [
    "val ids : DataFrame = spark.read.option(\"delimiter\", \";\").csv(\"D:/TFGAlvaroSanchez/data2/aemetID.csv\")\n",
    "    .toDF(\"provincia\", \"indicativo\", \"ubicacion\")"
   ]
  },
  {
   "cell_type": "code",
   "execution_count": null,
   "id": "65177ecc",
   "metadata": {},
   "outputs": [],
   "source": [
    "ids.show()\n",
    "ids.printSchema()"
   ]
  },
  {
   "cell_type": "code",
   "execution_count": null,
   "id": "baff4489",
   "metadata": {},
   "outputs": [],
   "source": [
    "val joindata : DataFrame = data2021.join(ids, \"indicativo\")"
   ]
  },
  {
   "cell_type": "code",
   "execution_count": null,
   "id": "4c5ed324",
   "metadata": {},
   "outputs": [],
   "source": [
    "joindata.withColumn(\"ta_max\", $\"ta_max\".substr(0,4).cast(IntegerType))\n",
    "    .select($\"fecha\".substr(6,2) as \"mes\", $\"fecha\".substr(0,4) as \"año\", $\"ta_max\" as \"temperatura maxima\", $\"indicativo\", $\"provincia\")\n",
    "    .filter(!($\"mes\".equalTo(\"13\")))\n",
    "    .orderBy($\"ta_max\".desc)\n",
    "    .show()"
   ]
  },
  {
   "cell_type": "markdown",
   "id": "2092bd58",
   "metadata": {},
   "source": [
    "### Obtencion del mes, año y provincia donde se encuntra la temperatura mas baja durante verano (junio, julio y agosto)"
   ]
  },
  {
   "cell_type": "code",
   "execution_count": null,
   "id": "e978f2af",
   "metadata": {},
   "outputs": [],
   "source": [
    "joindata.withColumn(\"ta_min\", $\"ta_min\".substr(0,4).cast(IntegerType))\n",
    "    .withColumn(\"fecha\", $\"fecha\".cast(DateType)).printSchema"
   ]
  },
  {
   "cell_type": "markdown",
   "id": "e8bb5c5d",
   "metadata": {},
   "source": [
    "Para quedarnos unicamente con la temperatura ya que este valor viene precedido del dia que ocurrio de la siguiente manera: temperatura(dia)"
   ]
  },
  {
   "cell_type": "code",
   "execution_count": null,
   "id": "050e2569",
   "metadata": {},
   "outputs": [],
   "source": [
    "import org.apache.spark.sql.functions.split\n",
    "\n",
    "joindata.withColumn(\"ta_min\", split($\"ta_min\", \"\\\\(\"))\n",
    "    .select($\"ta_min\"(0) as \"val\")\n",
    "    .show()"
   ]
  },
  {
   "cell_type": "code",
   "execution_count": null,
   "id": "8858f9f2",
   "metadata": {},
   "outputs": [],
   "source": [
    "joindata.withColumn(\"ta_min\", split($\"ta_min\", \"\\\\(\"))\n",
    "    .withColumn(\"ta_min\", $\"ta_min\"(0).cast(IntegerType))\n",
    "    .withColumn(\"fecha\", $\"fecha\".cast(DateType))\n",
    "    .select(func.month($\"fecha\") as \"mes\", func.year($\"fecha\") as \"año\", $\"ta_min\" as \"temperatura minima\", $\"provincia\")  \n",
    "    .filter($\"mes\" > 5 && $\"mes\" < 9)\n",
    "    .orderBy($\"temperatura minima\".asc)\n",
    "    .show()"
   ]
  },
  {
   "cell_type": "markdown",
   "id": "4b7c3c3a",
   "metadata": {},
   "source": [
    "### Numero de meses con temperaturas maximas >30º por provincia"
   ]
  },
  {
   "cell_type": "code",
   "execution_count": null,
   "id": "b906329d",
   "metadata": {},
   "outputs": [],
   "source": [
    "joindata\n",
    "    .withColumn(\"ta_max\", split($\"ta_max\", \"\\\\(\"))\n",
    "    .withColumn(\"ta_max\", $\"ta_max\"(0).cast(IntegerType))\n",
    "    .withColumn(\"fecha\", $\"fecha\".cast(DateType))\n",
    "    .filter($\"ta_max\" > 30 && !func.isnull($\"fecha\"))//> \"0000-00-00\")\n",
    "    .groupBy(\"provincia\")\n",
    "    .count\n",
    "    .show()"
   ]
  },
  {
   "cell_type": "markdown",
   "id": "487e5b9f",
   "metadata": {},
   "source": [
    "Relacion que tiene el calor con los meses de verano"
   ]
  },
  {
   "cell_type": "code",
   "execution_count": null,
   "id": "1618d64a",
   "metadata": {},
   "outputs": [],
   "source": [
    "joindata\n",
    "    .withColumn(\"ta_max\", split($\"ta_max\", \"\\\\(\"))\n",
    "    .withColumn(\"ta_max\", $\"ta_max\"(0).cast(IntegerType))\n",
    "    .withColumn(\"fecha\", $\"fecha\".cast(DateType))\n",
    "    .filter($\"ta_max\" > 30 && !func.isnull($\"fecha\"))\n",
    "    .withColumn(\"mes\", func.month($\"fecha\"))\n",
    "    .stat.corr(\"ta_max\", \"mes\")"
   ]
  },
  {
   "cell_type": "markdown",
   "id": "7aeb5b87",
   "metadata": {},
   "source": [
    "### Uso de graficos mostrando la precipitacion mensual por meses y años en Vitigudino(Salamanca)"
   ]
  },
  {
   "cell_type": "code",
   "execution_count": null,
   "id": "2a8b4af5",
   "metadata": {},
   "outputs": [],
   "source": [
    "val vitData : DataFrame = spark.read.option(\"multiline\", \"true\").json(\"D:/TFGAlvaroSanchez/data2/2916A*.json\")"
   ]
  },
  {
   "cell_type": "markdown",
   "id": "350a615c",
   "metadata": {},
   "source": [
    "Obtenemos los datos que queremos mostrar"
   ]
  },
  {
   "cell_type": "code",
   "execution_count": null,
   "id": "07797cc8",
   "metadata": {},
   "outputs": [],
   "source": [
    "val vitDataRequired : DataFrame = vitData\n",
    "    .withColumn(\"fecha\", $\"fecha\".cast(DateType))\n",
    "    .withColumn(\"p_mes\", $\"p_mes\".cast(IntegerType))\n",
    "    .filter(!func.isnull($\"fecha\") && $\"p_mes\" >= 0)\n",
    "    .select($\"fecha\", $\"p_mes\")\n",
    "    .orderBy($\"fecha\".asc)"
   ]
  },
  {
   "cell_type": "code",
   "execution_count": null,
   "id": "82b379bc",
   "metadata": {},
   "outputs": [],
   "source": [
    "vitDataRequired.show()"
   ]
  },
  {
   "cell_type": "code",
   "execution_count": null,
   "id": "018ab268",
   "metadata": {},
   "outputs": [],
   "source": [
    "val vitDataRequired_f : Seq[String] = vitDataRequired.select($\"fecha\").as[String].collect.toSeq\n",
    "val vitDataRequired_p : Seq[Int] = vitDataRequired.select($\"p_mes\").as[Int].collect.toSeq"
   ]
  },
  {
   "cell_type": "markdown",
   "id": "92d4d0df",
   "metadata": {},
   "source": [
    "Realizamos los imports necesarios para las graficas"
   ]
  },
  {
   "cell_type": "code",
   "execution_count": null,
   "id": "f0250437",
   "metadata": {},
   "outputs": [],
   "source": [
    "import $ivy.`org.plotly-scala::plotly-almond:0.7.0`\n",
    "import plotly._, plotly.element._, plotly.layout._, plotly.Almond._\n",
    "\n",
    "// restrict the output height to avoid scrolling in output cells\n",
    "repl.pprinter() = repl.pprinter().copy(defaultHeight = 3)"
   ]
  },
  {
   "cell_type": "code",
   "execution_count": null,
   "id": "bdaca6f2",
   "metadata": {},
   "outputs": [],
   "source": [
    "val trace = Seq(\n",
    "    Scatter(\n",
    "        vitDataRequired_f,\n",
    "        vitDataRequired_p,\n",
    "        fill = Fill.ToZeroY,\n",
    "        marker = Marker(\n",
    "            color = Color.RGBA(55, 128, 191, 0.6)\n",
    "        )\n",
    "    )\n",
    ")\n",
    "\n",
    "\n",
    "val layout = Layout(\n",
    "    title = \"Precipitacion mensual (mm)\",\n",
    "    paper_bgcolor =  Color.RGBA(245, 246, 249, 1),\n",
    "    plot_bgcolor = Color.RGBA(245, 246, 249, 1),\n",
    ")\n",
    "plot(trace, layout)"
   ]
  },
  {
   "cell_type": "markdown",
   "id": "99e19237",
   "metadata": {},
   "source": [
    "### Leer los datos de manera casteada mediante un schema"
   ]
  },
  {
   "cell_type": "code",
   "execution_count": null,
   "id": "e77730d9",
   "metadata": {},
   "outputs": [],
   "source": [
    "val schema = StructType(\n",
    "                Array(\n",
    "                    /*StructField(\"fecha\", DateType, true),\n",
    "                    StructField(\"indicativo\", StringType, true),\n",
    "                    StructField(\"p_max\", StringType, true),*/\n",
    "                    StructField(\"glo\", IntegerType, true),\n",
    "                    /*StructField(\"hr\", IntegerType, true),\n",
    "                    StructField(\"nw_55\", IntegerType, true),\n",
    "                    StructField(\"tm_min\", DoubleType, true),\n",
    "                    StructField(\"ta_max\", StringType, true),\n",
    "                    StructField(\"ts_min\", DoubleType, true),\n",
    "                    StructField(\"nt_30\", IntegerType, true),\n",
    "                    StructField(\"n_des\", IntegerType, true),\n",
    "                    StructField(\"w_racha\", StringType, true),\n",
    "                    StructField(\"np_100\", IntegerType, true)*/\n",
    "                )\n",
    "            )"
   ]
  },
  {
   "cell_type": "code",
   "execution_count": null,
   "id": "9bb25a98",
   "metadata": {},
   "outputs": [],
   "source": [
    "val dt: DataFrame = spark.read.schema(schema)\n",
    "    .option(\"multiline\", \"true\")\n",
    "    .option(\"dateFormat\", \"yyyy-MM\")\n",
    "    .json(\"D:/TFGAlvaroSanchez/data2/0201D(Barcelona)-2021.json\")"
   ]
  },
  {
   "cell_type": "code",
   "execution_count": null,
   "id": "f606dae5",
   "metadata": {},
   "outputs": [],
   "source": [
    "dt.show()"
   ]
  },
  {
   "cell_type": "code",
   "execution_count": null,
   "id": "c1f4d444",
   "metadata": {},
   "outputs": [],
   "source": [
    "val dt: DataFrame = spark.read\n",
    "    .option(\"multiline\", \"true\")\n",
    "    .json(\"D:/TFGAlvaroSanchez/data2/0201D(Barcelona)-2021.json\")\n",
    "    .select(//$\"fecha\".cast(DateType), \n",
    "            func.to_date($\"fecha\").alias(\"fecha\"),\n",
    "            $\"indicativo\", \n",
    "            $\"p_max\",\n",
    "            $\"glo\".cast(DoubleType), \n",
    "            $\"hr\".cast(DoubleType), \n",
    "            $\"nw_55\".cast(IntegerType), \n",
    "            $\"tm_min\".cast(DoubleType), \n",
    "            $\"ta_max\", \n",
    "            $\"ts_min\".cast(DoubleType), \n",
    "            $\"nt_30\".cast(IntegerType), \n",
    "            $\"n_des\".cast(IntegerType), \n",
    "            $\"w_racha\", \n",
    "            $\"np_100\".cast(IntegerType), \n",
    "            $\"nw_91\".cast(IntegerType), \n",
    "            $\"np_001\".cast(IntegerType), \n",
    "            $\"ta_min\", \n",
    "            $\"w_rec\".cast(IntegerType), \n",
    "            $\"e\".cast(DoubleType), \n",
    "            $\"np_300\".cast(IntegerType), \n",
    "            $\"p_mes\".cast(DoubleType), \n",
    "            $\"w_med\".cast(DoubleType), \n",
    "            $\"nt_00\".cast(IntegerType), \n",
    "            $\"ti_max\".cast(DoubleType), \n",
    "            $\"tm_mes\".cast(DoubleType), \n",
    "            $\"tm_max\".cast(DoubleType), \n",
    "            $\"np_010\".cast(IntegerType))"
   ]
  },
  {
   "cell_type": "code",
   "execution_count": null,
   "id": "0c474860",
   "metadata": {},
   "outputs": [],
   "source": [
    "dt.printSchema()"
   ]
  },
  {
   "cell_type": "code",
   "execution_count": null,
   "id": "3f24e02a",
   "metadata": {},
   "outputs": [],
   "source": [
    "dt.show()"
   ]
  },
  {
   "cell_type": "markdown",
   "id": "5991909d",
   "metadata": {},
   "source": [
    "### Temperatura media en españa"
   ]
  },
  {
   "cell_type": "code",
   "execution_count": null,
   "id": "39024119",
   "metadata": {},
   "outputs": [],
   "source": [
    "val data: DataFrame = spark.read\n",
    "    .option(\"multiline\", \"true\")\n",
    "    .json(\"D:/TFGAlvaroSanchez/data2/*.json\")\n",
    "    .select($\"fecha\".cast(DateType), \n",
    "            $\"indicativo\", \n",
    "            $\"p_max\",\n",
    "            $\"glo\".cast(DoubleType), \n",
    "            $\"hr\".cast(DoubleType), \n",
    "            $\"nw_55\".cast(IntegerType), \n",
    "            $\"tm_min\".cast(DoubleType), \n",
    "            $\"ta_max\", \n",
    "            $\"ts_min\".cast(DoubleType), \n",
    "            $\"nt_30\".cast(IntegerType), \n",
    "            $\"n_des\".cast(IntegerType), \n",
    "            $\"w_racha\", \n",
    "            $\"np_100\".cast(IntegerType), \n",
    "            $\"nw_91\".cast(IntegerType), \n",
    "            $\"np_001\".cast(IntegerType), \n",
    "            $\"ta_min\", \n",
    "            $\"w_rec\".cast(IntegerType), \n",
    "            $\"e\".cast(DoubleType), \n",
    "            $\"np_300\".cast(IntegerType), \n",
    "            $\"p_mes\".cast(DoubleType), \n",
    "            $\"w_med\".cast(DoubleType), \n",
    "            $\"nt_00\".cast(IntegerType), \n",
    "            $\"ti_max\".cast(DoubleType), \n",
    "            $\"tm_mes\".cast(DoubleType), \n",
    "            $\"tm_max\".cast(DoubleType), \n",
    "            $\"np_010\".cast(IntegerType))"
   ]
  },
  {
   "cell_type": "code",
   "execution_count": null,
   "id": "8af696f4",
   "metadata": {},
   "outputs": [],
   "source": [
    "data.filter($\"fecha\".isNotNull)\n",
    "    .select($\"tm_mes\".alias(\"temperatura media\"))\n",
    "    .describe()\n",
    "    .show()"
   ]
  },
  {
   "cell_type": "markdown",
   "id": "8dd96364",
   "metadata": {},
   "source": [
    "### Fecha y estaciones con temp >35º (Utilizando expr)"
   ]
  },
  {
   "cell_type": "code",
   "execution_count": null,
   "id": "741aece5",
   "metadata": {},
   "outputs": [],
   "source": [
    "val data: DataFrame = spark.read\n",
    "    .option(\"multiline\", \"true\")\n",
    "    .json(\"D:/TFGAlvaroSanchez/data2/*.json\")\n",
    "    .select($\"fecha\".cast(DateType), \n",
    "            $\"indicativo\", \n",
    "            $\"p_max\",\n",
    "            $\"glo\".cast(DoubleType), \n",
    "            $\"hr\".cast(DoubleType), \n",
    "            $\"nw_55\".cast(IntegerType), \n",
    "            $\"tm_min\".cast(DoubleType), \n",
    "            $\"ta_max\", \n",
    "            $\"ts_min\".cast(DoubleType), \n",
    "            $\"nt_30\".cast(IntegerType), \n",
    "            $\"n_des\".cast(IntegerType), \n",
    "            $\"w_racha\", \n",
    "            $\"np_100\".cast(IntegerType), \n",
    "            $\"nw_91\".cast(IntegerType), \n",
    "            $\"np_001\".cast(IntegerType), \n",
    "            $\"ta_min\", \n",
    "            $\"w_rec\".cast(IntegerType), \n",
    "            $\"e\".cast(DoubleType), \n",
    "            $\"np_300\".cast(IntegerType), \n",
    "            $\"p_mes\".cast(DoubleType), \n",
    "            $\"w_med\".cast(DoubleType), \n",
    "            $\"nt_00\".cast(IntegerType), \n",
    "            $\"ti_max\".cast(DoubleType), \n",
    "            $\"tm_mes\".cast(DoubleType), \n",
    "            $\"tm_max\".cast(DoubleType), \n",
    "            $\"np_010\".cast(IntegerType))\n",
    "val dataWithNameStation = data.join(ids, \"indicativo\")"
   ]
  },
  {
   "cell_type": "code",
   "execution_count": null,
   "id": "c9cfa957",
   "metadata": {},
   "outputs": [],
   "source": [
    "dataWithNameStation.withColumn(\"ta_max\", split($\"ta_max\", \"\\\\(\"))\n",
    "    .withColumn(\"t_max\", $\"ta_max\"(0).cast(IntegerType))\n",
    "    .withColumn(\"dia\", func.substring($\"ta_max\"(1), 0, 2).cast(IntegerType))\n",
    "    .withColumn(\"calor\", func.expr(\"t_max > 35\"))\n",
    "    .filter($\"calor\" && $\"fecha\".isNotNull)\n",
    "    .select($\"ubicacion\", func.year($\"fecha\").alias(\"año\"), func.month($\"fecha\").alias(\"mes\"), $\"dia\")\n",
    "    .show(false)"
   ]
  },
  {
   "cell_type": "markdown",
   "id": "14e47e24",
   "metadata": {},
   "source": [
    "### Media de todos los datos, agrupados por fecha y por indicativo"
   ]
  },
  {
   "cell_type": "code",
   "execution_count": null,
   "id": "2bd72643",
   "metadata": {},
   "outputs": [],
   "source": [
    "val data2021: DataFrame = spark.read\n",
    "    .option(\"multiline\", \"true\")\n",
    "    .json(\"D:/TFGAlvaroSanchez/data2/*-2021.json\")\n",
    "    .select($\"fecha\".cast(DateType), \n",
    "            $\"indicativo\", \n",
    "            $\"p_max\",\n",
    "            $\"glo\".cast(DoubleType), \n",
    "            $\"hr\".cast(DoubleType), \n",
    "            $\"nw_55\".cast(IntegerType), \n",
    "            $\"tm_min\".cast(DoubleType), \n",
    "            $\"ta_max\", \n",
    "            $\"ts_min\".cast(DoubleType), \n",
    "            $\"nt_30\".cast(IntegerType), \n",
    "            $\"n_des\".cast(IntegerType), \n",
    "            $\"w_racha\", \n",
    "            $\"np_100\".cast(IntegerType), \n",
    "            $\"nw_91\".cast(IntegerType), \n",
    "            $\"np_001\".cast(IntegerType), \n",
    "            $\"ta_min\", \n",
    "            $\"w_rec\".cast(IntegerType), \n",
    "            $\"e\".cast(DoubleType), \n",
    "            $\"np_300\".cast(IntegerType), \n",
    "            $\"p_mes\".cast(DoubleType), \n",
    "            $\"w_med\".cast(DoubleType), \n",
    "            $\"nt_00\".cast(IntegerType), \n",
    "            $\"ti_max\".cast(DoubleType), \n",
    "            $\"tm_mes\".cast(DoubleType), \n",
    "            $\"tm_max\".cast(DoubleType), \n",
    "            $\"np_010\".cast(IntegerType))"
   ]
  },
  {
   "cell_type": "code",
   "execution_count": null,
   "id": "bd5ff8f4",
   "metadata": {},
   "outputs": [],
   "source": [
    "val pivotedData2021 = data2021.groupBy(func.year($\"fecha\")).pivot(\"indicativo\").avg()\n",
    "pivotedData2021.select(\"year(fecha)\", \"0201D_avg(tm_mes)\").show()"
   ]
  },
  {
   "cell_type": "markdown",
   "id": "335a3413",
   "metadata": {},
   "source": [
    "### Leer todos los datos y transformalos a formato Parquet"
   ]
  },
  {
   "cell_type": "code",
   "execution_count": null,
   "id": "810b5be8",
   "metadata": {},
   "outputs": [],
   "source": [
    "val allData = spark.read.option(\"multiline\", \"true\").json(\"D:/TFGAlvaroSanchez/data/month/*.json\").select(\n",
    "            $\"fecha\".cast(DateType), \n",
    "            $\"indicativo\", \n",
    "            $\"p_max\",\n",
    "            $\"glo\".cast(DoubleType), \n",
    "            $\"hr\".cast(DoubleType), \n",
    "            $\"nw_55\".cast(IntegerType), \n",
    "            $\"tm_min\".cast(DoubleType), \n",
    "            $\"ta_max\", \n",
    "            $\"ts_min\".cast(DoubleType), \n",
    "            $\"nt_30\".cast(IntegerType), \n",
    "            $\"n_des\".cast(IntegerType), \n",
    "            $\"w_racha\", \n",
    "            $\"np_100\".cast(IntegerType), \n",
    "            $\"nw_91\".cast(IntegerType), \n",
    "            $\"np_001\".cast(IntegerType), \n",
    "            $\"ta_min\", \n",
    "            $\"w_rec\".cast(IntegerType), \n",
    "            $\"e\".cast(DoubleType), \n",
    "            $\"np_300\".cast(IntegerType), \n",
    "            $\"p_mes\".cast(DoubleType), \n",
    "            $\"w_med\".cast(DoubleType), \n",
    "            $\"nt_00\".cast(IntegerType), \n",
    "            $\"ti_max\".cast(DoubleType), \n",
    "            $\"tm_mes\".cast(DoubleType), \n",
    "            $\"tm_max\".cast(DoubleType), \n",
    "            $\"np_010\".cast(IntegerType))"
   ]
  },
  {
   "cell_type": "code",
   "execution_count": null,
   "id": "8d9c0a3c",
   "metadata": {},
   "outputs": [],
   "source": [
    "allData.write.format(\"parquet\").partitionBy(\"indicativo\").mode(\"overwrite\").save(\"D:/TFGAlvaroSanchez/data/monthParquet/\")"
   ]
  },
  {
   "cell_type": "markdown",
   "id": "626bb8e0",
   "metadata": {},
   "source": [
    "### Otra manera de leer los datos y pasarlos a Parquet (más optima)"
   ]
  },
  {
   "cell_type": "markdown",
   "id": "3ffba9ae",
   "metadata": {},
   "source": [
    "#### Pasar los ficheros JSON multiline a JSON line"
   ]
  },
  {
   "cell_type": "markdown",
   "id": "0316a7a5",
   "metadata": {},
   "source": [
    "Para esto lo que he hecho ha sido ejecutar en el CMD el siguiente comando `FOR %a IN (../data/*.json) DO jq . -c \"%a\" > \"../JSONLine/%a\"` con el que vamos recorriendo la carpeta donde se encuentran los ficheros JSON multiline y los vamos guardando con la transformacion en la carpeta JSONLine"
   ]
  },
  {
   "cell_type": "code",
   "execution_count": null,
   "id": "88337f44",
   "metadata": {},
   "outputs": [],
   "source": [
    "val schema = StructType(\n",
    "    Array(\n",
    "        StructField(\"fecha\", StringType, true), \n",
    "        StructField(\"indicativo\", StringType, true),\n",
    "        StructField(\"nombre\", StringType, true),\n",
    "        StructField(\"provincia\", StringType, true),\n",
    "        StructField(\"altitud\", StringType, true),\n",
    "        StructField(\"tm_mes\", StringType, true),\n",
    "        StructField(\"tm_max\", StringType, true),\n",
    "        StructField(\"tm_min\", StringType, true), \n",
    "        StructField(\"ta_max\", StringType, true),\n",
    "        StructField(\"ta_min\", StringType, true),\n",
    "        StructField(\"ts_min\", StringType, true),\n",
    "        StructField(\"ti_max\", StringType, true),\n",
    "        StructField(\"nt_30\", StringType, true),\n",
    "        StructField(\"nt_00\", StringType, true),\n",
    "        StructField(\"p_mes\", StringType, true),\n",
    "        StructField(\"p_max\", StringType, true),\n",
    "        StructField(\"np_001\", StringType, true),\n",
    "        StructField(\"np_010\", StringType, true),\n",
    "        StructField(\"np_100\", StringType, true),\n",
    "        StructField(\"np_300\", StringType, true),\n",
    "        StructField(\"hr\", StringType, true), \n",
    "        StructField(\"e\", StringType, true),\n",
    "        StructField(\"n_llu\", StringType, true),\n",
    "        StructField(\"n_nie\", StringType, true),\n",
    "        StructField(\"n_gra\", StringType, true),\n",
    "        StructField(\"n_tor\", StringType, true),\n",
    "        StructField(\"n_fog\", StringType, true),\n",
    "        StructField(\"n_des\", StringType, true),\n",
    "        StructField(\"n_nub\", StringType, true),\n",
    "        StructField(\"n_cub\", StringType, true),\n",
    "        StructField(\"inso\", StringType, true),\n",
    "        StructField(\"p_sol\", StringType, true),\n",
    "        StructField(\"glo\", StringType, true),\n",
    "        StructField(\"evap\", StringType, true),\n",
    "        StructField(\"w_rec\", StringType, true),\n",
    "        StructField(\"w_racha\", StringType, true),\n",
    "        StructField(\"nw_55\", StringType, true),\n",
    "        StructField(\"nw_91\", StringType, true),\n",
    "        StructField(\"w_med\", StringType, true),\n",
    "        StructField(\"q_med\", StringType, true),\n",
    "        StructField(\"q_max\", StringType, true),\n",
    "        StructField(\"q_min\", StringType, true),\n",
    "        StructField(\"q_mar\", StringType, true),\n",
    "        StructField(\"ts_10\", StringType, true),\n",
    "        StructField(\"ts_20\", StringType, true),\n",
    "        StructField(\"ts_50\", StringType, true),\n",
    "        StructField(\"nv_0050\", StringType, true),\n",
    "        StructField(\"nv_0100\", StringType, true),\n",
    "        StructField(\"nv_1000\", StringType, true)       \n",
    "    )\n",
    ")"
   ]
  },
  {
   "cell_type": "code",
   "execution_count": null,
   "id": "d571dfd4",
   "metadata": {},
   "outputs": [],
   "source": [
    "val allData = spark.read.schema(schema).json(\"D:/TFGAlvaroSanchez/data/monthJSONLine/*.json\")\n",
    "    .select(\n",
    "            $\"fecha\".cast(DateType), \n",
    "            $\"indicativo\", \n",
    "            $\"p_max\",\n",
    "            $\"glo\".cast(DoubleType), \n",
    "            $\"hr\".cast(DoubleType), \n",
    "            $\"nw_55\".cast(IntegerType), \n",
    "            $\"tm_min\".cast(DoubleType), \n",
    "            $\"ta_max\", \n",
    "            $\"ts_min\".cast(DoubleType), \n",
    "            $\"nt_30\".cast(IntegerType), \n",
    "            $\"n_des\".cast(IntegerType), \n",
    "            $\"w_racha\", \n",
    "            $\"np_100\".cast(IntegerType), \n",
    "            $\"nw_91\".cast(IntegerType), \n",
    "            $\"np_001\".cast(IntegerType), \n",
    "            $\"ta_min\", \n",
    "            $\"w_rec\".cast(IntegerType), \n",
    "            $\"e\".cast(DoubleType), \n",
    "            $\"np_300\".cast(IntegerType), \n",
    "            $\"p_mes\".cast(DoubleType), \n",
    "            $\"w_med\".cast(DoubleType), \n",
    "            $\"nt_00\".cast(IntegerType), \n",
    "            $\"ti_max\".cast(DoubleType), \n",
    "            $\"tm_mes\".cast(DoubleType), \n",
    "            $\"tm_max\".cast(DoubleType), \n",
    "            $\"np_010\".cast(IntegerType)\n",
    "    )"
   ]
  },
  {
   "cell_type": "code",
   "execution_count": null,
   "id": "c8f01eb1",
   "metadata": {},
   "outputs": [],
   "source": [
    "allData.write.format(\"parquet\").partitionBy(\"indicativo\").mode(\"overwrite\").save(\"D:/TFGAlvaroSanchez/data/monthParquet/\")"
   ]
  },
  {
   "cell_type": "markdown",
   "id": "6d8f5526",
   "metadata": {},
   "source": [
    "### Representacion de las temperaturas máximas en diferentes meses por años (Parquet sin particion)"
   ]
  },
  {
   "cell_type": "code",
   "execution_count": null,
   "id": "dca7c9fc",
   "metadata": {},
   "outputs": [],
   "source": [
    "import $ivy.`org.plotly-scala::plotly-almond:0.7.0`\n",
    "import plotly._, plotly.element._, plotly.layout._, plotly.Almond._\n",
    "\n",
    "// restrict the output height to avoid scrolling in output cells\n",
    "repl.pprinter() = repl.pprinter().copy(defaultHeight = 3)"
   ]
  },
  {
   "cell_type": "code",
   "execution_count": null,
   "id": "bb26e4a3",
   "metadata": {},
   "outputs": [],
   "source": [
    "val dataRead = spark.read.parquet(\"D:/TFGAlvaroSanchez/data/monthParquet/*\").na.drop()\n",
    "\n",
    "val data = dataRead\n",
    "    .withColumn(\"ta_max\", func.split($\"ta_max\", \"\\\\(\")(0).cast(IntegerType))\n",
    "    .groupBy($\"fecha\")\n",
    "    .agg(func.avg($\"ta_max\").alias(\"ta_max\"))\n",
    "    .withColumn(\"año\", func.year($\"fecha\"))\n",
    "    .withColumn(\"mes\", func.month($\"fecha\"))\n",
    "    .orderBy(\"año\", \"mes\")\n",
    "    .repartition(8)"
   ]
  },
  {
   "cell_type": "code",
   "execution_count": null,
   "id": "205bf3bc",
   "metadata": {},
   "outputs": [],
   "source": [
    "def seqYear(year : Int): Seq[Double] = {\n",
    "    data.filter($\"año\" === year).map(row => row.getDouble(1)).collect().toSeq\n",
    "}"
   ]
  },
  {
   "cell_type": "code",
   "execution_count": null,
   "id": "a11d525e",
   "metadata": {},
   "outputs": [],
   "source": [
    "val SeqMonths = data.filter($\"año\" === 2010).map(row => row.getInt(3)).collect().toSeq\n",
    "val Seq2010 = seqYear(2010)\n",
    "val Seq2011 = seqYear(2011)\n",
    "val Seq2012 = seqYear(2012)\n",
    "val Seq2013 = seqYear(2013)\n",
    "val Seq2014 = seqYear(2014)\n",
    "val Seq2015 = seqYear(2015)\n",
    "val Seq2016 = seqYear(2016)\n",
    "val Seq2017 = seqYear(2017)\n",
    "val Seq2018 = seqYear(2018)\n",
    "val Seq2019 = seqYear(2019)\n",
    "val Seq2020 = seqYear(2020)\n",
    "val Seq2021 = seqYear(2021)\n",
    "val Seq2022 = seqYear(2022)"
   ]
  },
  {
   "cell_type": "code",
   "execution_count": null,
   "id": "d1fb13f4",
   "metadata": {},
   "outputs": [],
   "source": [
    "val year2010= Scatter(\n",
    "  SeqMonths,\n",
    "  Seq2010,\n",
    "  name = \"año 2010\"\n",
    ")\n",
    "\n",
    "val year2011 = Scatter(\n",
    "  SeqMonths,\n",
    "  Seq2011,\n",
    "  name = \"año 2011\"\n",
    ")\n",
    "\n",
    "val year2012 = Scatter(\n",
    "  SeqMonths,\n",
    "  Seq2012,\n",
    "  name = \"año 2012\"\n",
    ")\n",
    "\n",
    "val year2013 = Scatter(\n",
    "  SeqMonths,\n",
    "  Seq2013,\n",
    "  name = \"año 2013\"\n",
    ")\n",
    "\n",
    "val year2014 = Scatter(\n",
    "  SeqMonths,\n",
    "  Seq2014,\n",
    "  name = \"año 2014\"\n",
    ")\n",
    "\n",
    "val year2015 = Scatter(\n",
    "  SeqMonths,\n",
    "  Seq2015,\n",
    "  name = \"año 2015\"\n",
    ")\n",
    "\n",
    "val year2016 = Scatter(\n",
    "  SeqMonths,\n",
    "  Seq2016,\n",
    "  name = \"año 2016\"\n",
    ")\n",
    "\n",
    "val year2017 = Scatter(\n",
    "  SeqMonths,\n",
    "  Seq2017,\n",
    "  name = \"año 2017\"\n",
    ")\n",
    "\n",
    "val year2018 = Scatter(\n",
    "  SeqMonths,\n",
    "  Seq2018,\n",
    "  name = \"año 2018\"\n",
    ")\n",
    "\n",
    "val year2019 = Scatter(\n",
    "  SeqMonths,\n",
    "  Seq2019,\n",
    "  name = \"año 2019\"\n",
    ")\n",
    "\n",
    "val year2020 = Scatter(\n",
    "  SeqMonths,\n",
    "  Seq2020,\n",
    "  name = \"año 2020\"\n",
    ")\n",
    "\n",
    "val year2021 = Scatter(\n",
    "  SeqMonths,\n",
    "  Seq2021,\n",
    "  name = \"año 2021\"\n",
    ")\n",
    "\n",
    "val year2022 = Scatter(\n",
    "  SeqMonths,\n",
    "  Seq2022,\n",
    "  name = \"año 2022\"\n",
    ")\n",
    "\n",
    "\n",
    "\n",
    "val dataToPlot = Seq(year2010, year2011, year2012, year2013, year2014, year2015, year2016, \n",
    "                     year2017, year2018, year2019, year2020, year2021, year2022)\n",
    "\n",
    "plot(dataToPlot)"
   ]
  },
  {
   "cell_type": "markdown",
   "id": "caadf6dc",
   "metadata": {},
   "source": [
    "### Representacion de las temperaturas máximas en diferentes meses por años (Parquet con particion)"
   ]
  },
  {
   "cell_type": "code",
   "execution_count": null,
   "id": "7fcb5d35",
   "metadata": {},
   "outputs": [],
   "source": [
    "import $ivy.`org.plotly-scala::plotly-almond:0.7.0`\n",
    "import plotly._, plotly.element._, plotly.layout._, plotly.Almond._\n",
    "\n",
    "// restrict the output height to avoid scrolling in output cells\n",
    "repl.pprinter() = repl.pprinter().copy(defaultHeight = 3)"
   ]
  },
  {
   "cell_type": "code",
   "execution_count": null,
   "id": "787bfd3b",
   "metadata": {},
   "outputs": [],
   "source": [
    "val dataRead = spark.read.parquet(\"D:/TFGAlvaroSanchez/data/monthParquet/*\")\n",
    "\n",
    "dataRead\n",
    "    .withColumn(\"año\", func.year($\"fecha\"))\n",
    "    .repartition($\"año\").write.mode(\"overwrite\").partitionBy(\"año\").parquet(\"D:/TFGAlvaroSanchez/data/monthParquetPartition/\")"
   ]
  },
  {
   "cell_type": "code",
   "execution_count": null,
   "id": "d9955ade",
   "metadata": {},
   "outputs": [],
   "source": [
    "val data = spark.read.parquet(\"D:/TFGAlvaroSanchez/data/monthParquetPartition/\").na.drop()"
   ]
  },
  {
   "cell_type": "code",
   "execution_count": null,
   "id": "ddbf6dc1",
   "metadata": {},
   "outputs": [],
   "source": [
    "def obtainData(year : Int) : Seq[Double] = {\n",
    "    data\n",
    "        .filter($\"año\" === year)\n",
    "        .withColumn(\"ta_max\", func.split($\"ta_max\", \"\\\\(\")(0).cast(IntegerType))\n",
    "        .groupBy($\"fecha\")\n",
    "        .agg(func.avg($\"ta_max\").alias(\"ta_max\"))\n",
    "        .withColumn(\"mes\", func.month($\"fecha\"))\n",
    "        .orderBy(\"mes\")\n",
    "        .map(row => row.getDouble(1)).collect().toSeq\n",
    "}"
   ]
  },
  {
   "cell_type": "code",
   "execution_count": null,
   "id": "8b4891d1",
   "metadata": {},
   "outputs": [],
   "source": [
    "val seqMonths = data\n",
    "    .filter($\"año\" === 2010)\n",
    "    .groupBy($\"fecha\")\n",
    "    .agg(func.avg($\"ta_max\").alias(\"ta_max\"))\n",
    "    .select(func.month($\"fecha\").alias(\"mes\"))\n",
    "    .orderBy($\"mes\")\n",
    "    .map(row => row.getInt(0)).collect().toSeq\n",
    "val seq2010 = obtainData(2010)\n",
    "val seq2011 = obtainData(2011)\n",
    "val seq2012 = obtainData(2012)\n",
    "val seq2013 = obtainData(2013)\n",
    "val seq2014 = obtainData(2014)\n",
    "val seq2015 = obtainData(2015)\n",
    "val seq2016 = obtainData(2016)\n",
    "val seq2017 = obtainData(2017)\n",
    "val seq2018 = obtainData(2018)\n",
    "val seq2019 = obtainData(2019)\n",
    "val seq2020 = obtainData(2020)\n",
    "val seq2021 = obtainData(2021)\n",
    "val seq2022 = obtainData(2022)"
   ]
  },
  {
   "cell_type": "code",
   "execution_count": null,
   "id": "22f6ab3b",
   "metadata": {},
   "outputs": [],
   "source": [
    "val year2010= Scatter(\n",
    "  seqMonths,\n",
    "  seq2010,\n",
    "  name = \"año 2010\"\n",
    ")\n",
    "\n",
    "val year2011 = Scatter(\n",
    "  seqMonths,\n",
    "  seq2011,\n",
    "  name = \"año 2011\"\n",
    ")\n",
    "\n",
    "val year2012 = Scatter(\n",
    "  seqMonths,\n",
    "  seq2012,\n",
    "  name = \"año 2012\"\n",
    ")\n",
    "\n",
    "val year2013 = Scatter(\n",
    "  seqMonths,\n",
    "  seq2013,\n",
    "  name = \"año 2013\"\n",
    ")\n",
    "\n",
    "val year2014 = Scatter(\n",
    "  seqMonths,\n",
    "  seq2014,\n",
    "  name = \"año 2014\"\n",
    ")\n",
    "\n",
    "val year2015 = Scatter(\n",
    "  seqMonths,\n",
    "  seq2015,\n",
    "  name = \"año 2015\"\n",
    ")\n",
    "\n",
    "val year2016 = Scatter(\n",
    "  seqMonths,\n",
    "  seq2016,\n",
    "  name = \"año 2016\"\n",
    ")\n",
    "\n",
    "val year2017 = Scatter(\n",
    "  seqMonths,\n",
    "  seq2017,\n",
    "  name = \"año 2017\"\n",
    ")\n",
    "\n",
    "val year2018 = Scatter(\n",
    "  seqMonths,\n",
    "  seq2018,\n",
    "  name = \"año 2018\"\n",
    ")\n",
    "\n",
    "val year2019 = Scatter(\n",
    "  seqMonths,\n",
    "  seq2019,\n",
    "  name = \"año 2019\"\n",
    ")\n",
    "\n",
    "val year2020 = Scatter(\n",
    "  seqMonths,\n",
    "  seq2020,\n",
    "  name = \"año 2020\"\n",
    ")\n",
    "\n",
    "val year2021 = Scatter(\n",
    "  seqMonths,\n",
    "  seq2021,\n",
    "  name = \"año 2021\"\n",
    ")\n",
    "\n",
    "val year2022 = Scatter(\n",
    "  seqMonths,\n",
    "  seq2022,\n",
    "  name = \"año 2022\"\n",
    ")\n",
    "\n",
    "\n",
    "\n",
    "val dataToPlot = Seq(year2010, year2011, year2012, year2013, year2014, year2015, year2016, \n",
    "                     year2017, year2018, year2019, year2020, year2021, year2022)\n",
    "\n",
    "plot(dataToPlot)"
   ]
  },
  {
   "cell_type": "markdown",
   "id": "3b3ca279",
   "metadata": {},
   "source": [
    "### Numero de meses mas calurosos agrupados por años (Se compara mes a mes las temperaturas max)"
   ]
  },
  {
   "cell_type": "code",
   "execution_count": 2,
   "id": "c3275685",
   "metadata": {},
   "outputs": [
    {
     "data": {
      "text/plain": [
       "\u001b[32mimport \u001b[39m\u001b[36m$ivy.$                                      \n",
       "\u001b[39m\r\n",
       "\u001b[32mimport \u001b[39m\u001b[36mplotly._, plotly.element._, plotly.layout._, plotly.Almond._\n",
       "\n",
       "// restrict the output height to avoid scrolling in output cells\n",
       "\n",
       "\u001b[39m"
      ]
     },
     "execution_count": 2,
     "metadata": {},
     "output_type": "execute_result"
    }
   ],
   "source": [
    "import $ivy.`org.plotly-scala::plotly-almond:0.7.0`\n",
    "import plotly._, plotly.element._, plotly.layout._, plotly.Almond._\n",
    "\n",
    "// restrict the output height to avoid scrolling in output cells\n",
    "\n",
    "repl.pprinter() = repl.pprinter().copy(defaultHeight = 3)"
   ]
  },
  {
   "cell_type": "code",
   "execution_count": 7,
   "id": "81ea9a7c",
   "metadata": {},
   "outputs": [
    {
     "data": {
      "text/html": [
       "<div>\n",
       "  <span style=\"float: left;\">parquet at cmd6.sc:3</span>\n",
       "</div>\n"
      ]
     },
     "metadata": {},
     "output_type": "display_data"
    },
    {
     "data": {
      "text/html": [
       "<div class=\"progress\">\n",
       "  <div class=\"progress-bar\" role=\"progressbar\" style=\"background-color: blue; width: 100%; word-wrap: normal; white-space: nowrap; text-align: center; color: white\" aria-valuenow=\"100\" aria-valuemin=\"0\" aria-valuemax=\"100\">\n",
       "    273 / 273\n",
       "  </div>\n",
       "  <div class=\"progress-bar\" role=\"progressbar\" style=\"background-color: red; width: 0%\" aria-valuenow=\"0\" aria-valuemin=\"0\" aria-valuemax=\"100\"></div>\n",
       "</div>\n"
      ]
     },
     "metadata": {},
     "output_type": "display_data"
    },
    {
     "data": {
      "text/html": [
       "<div>\n",
       "  <span style=\"float: left;\">parquet at cmd6.sc:3</span>\n",
       "</div>\n"
      ]
     },
     "metadata": {},
     "output_type": "display_data"
    },
    {
     "data": {
      "text/html": [
       "<div class=\"progress\">\n",
       "  <div class=\"progress-bar\" role=\"progressbar\" style=\"background-color: blue; width: 100%; word-wrap: normal; white-space: nowrap; text-align: center; color: white\" aria-valuenow=\"100\" aria-valuemin=\"0\" aria-valuemax=\"100\">\n",
       "    1 / 1\n",
       "  </div>\n",
       "  <div class=\"progress-bar\" role=\"progressbar\" style=\"background-color: red; width: 0%\" aria-valuenow=\"0\" aria-valuemin=\"0\" aria-valuemax=\"100\"></div>\n",
       "</div>\n"
      ]
     },
     "metadata": {},
     "output_type": "display_data"
    },
    {
     "data": {
      "text/plain": [
       "\u001b[32mimport \u001b[39m\u001b[36morg.apache.spark.sql.expressions.Window\n",
       "\n",
       "\u001b[39m\r\n",
       "\u001b[36mdata\u001b[39m: \u001b[32mDataFrame\u001b[39m = [fecha: date, p_max: string ... 23 more fields]\r\n",
       "\u001b[36mwindow\u001b[39m: \u001b[32mexpressions\u001b[39m.\u001b[32mWindowSpec\u001b[39m = org.apache.spark.sql.expressions.WindowSpec@3a294d51\r\n",
       "\u001b[36mdataWindow\u001b[39m: \u001b[32mDataset\u001b[39m[\u001b[32mRow\u001b[39m] = [mes: int, año: int ... 2 more fields]"
      ]
     },
     "execution_count": 7,
     "metadata": {},
     "output_type": "execute_result"
    }
   ],
   "source": [
    "import org.apache.spark.sql.expressions.Window\n",
    "\n",
    "val data = spark.read.parquet(\"D:/TFGAlvaroSanchez/data/monthParquet/*\").na.drop()\n",
    "\n",
    "val window = Window.partitionBy(\"mes\").orderBy($\"ta_max\".desc)\n",
    "\n",
    "val dataWindow = data\n",
    "    .withColumn(\"ta_max\", func.split($\"ta_max\", \"\\\\(\")(0).cast(DoubleType))\n",
    "    .groupBy($\"fecha\")\n",
    "    .agg(func.avg($\"ta_max\").alias(\"ta_max\"))\n",
    "    .select(func.month($\"fecha\").alias(\"mes\"), func.year($\"fecha\").alias(\"año\"), $\"ta_max\")\n",
    "    .withColumn(\"dense_rank\", func.dense_rank().over(window))\n",
    "    .filter($\"dense_rank\" === 1)"
   ]
  },
  {
   "cell_type": "code",
   "execution_count": 5,
   "id": "a0a3a235",
   "metadata": {},
   "outputs": [
    {
     "data": {
      "text/html": [
       "<div>\n",
       "  <span style=\"float: left;\">count at cmd4.sc:3</span>\n",
       "</div>\n"
      ]
     },
     "metadata": {},
     "output_type": "display_data"
    },
    {
     "data": {
      "text/html": [
       "<div class=\"progress\">\n",
       "  <div class=\"progress-bar\" role=\"progressbar\" style=\"background-color: blue; width: 100%; word-wrap: normal; white-space: nowrap; text-align: center; color: white\" aria-valuenow=\"100\" aria-valuemin=\"0\" aria-valuemax=\"100\">\n",
       "    79 / 79\n",
       "  </div>\n",
       "  <div class=\"progress-bar\" role=\"progressbar\" style=\"background-color: red; width: 0%\" aria-valuenow=\"0\" aria-valuemin=\"0\" aria-valuemax=\"100\"></div>\n",
       "</div>\n"
      ]
     },
     "metadata": {},
     "output_type": "display_data"
    },
    {
     "data": {
      "text/html": [
       "<div>\n",
       "  <span style=\"float: left;\">count at cmd4.sc:3</span>\n",
       "</div>\n"
      ]
     },
     "metadata": {},
     "output_type": "display_data"
    },
    {
     "data": {
      "text/html": [
       "<div class=\"progress\">\n",
       "  <div class=\"progress-bar\" role=\"progressbar\" style=\"background-color: blue; width: 100%; word-wrap: normal; white-space: nowrap; text-align: center; color: white\" aria-valuenow=\"100\" aria-valuemin=\"0\" aria-valuemax=\"100\">\n",
       "    64 / 64\n",
       "  </div>\n",
       "  <div class=\"progress-bar\" role=\"progressbar\" style=\"background-color: red; width: 0%\" aria-valuenow=\"0\" aria-valuemin=\"0\" aria-valuemax=\"100\"></div>\n",
       "</div>\n"
      ]
     },
     "metadata": {},
     "output_type": "display_data"
    },
    {
     "data": {
      "text/html": [
       "<div>\n",
       "  <span style=\"float: left;\">count at cmd4.sc:3</span>\n",
       "</div>\n"
      ]
     },
     "metadata": {},
     "output_type": "display_data"
    },
    {
     "data": {
      "text/html": [
       "<div class=\"progress\">\n",
       "  <div class=\"progress-bar\" role=\"progressbar\" style=\"background-color: blue; width: 100%; word-wrap: normal; white-space: nowrap; text-align: center; color: white\" aria-valuenow=\"100\" aria-valuemin=\"0\" aria-valuemax=\"100\">\n",
       "    64 / 64\n",
       "  </div>\n",
       "  <div class=\"progress-bar\" role=\"progressbar\" style=\"background-color: red; width: 0%\" aria-valuenow=\"0\" aria-valuemin=\"0\" aria-valuemax=\"100\"></div>\n",
       "</div>\n"
      ]
     },
     "metadata": {},
     "output_type": "display_data"
    },
    {
     "data": {
      "text/html": [
       "<div>\n",
       "  <span style=\"float: left;\">count at cmd4.sc:3</span>\n",
       "</div>\n"
      ]
     },
     "metadata": {},
     "output_type": "display_data"
    },
    {
     "data": {
      "text/html": [
       "<div class=\"progress\">\n",
       "  <div class=\"progress-bar\" role=\"progressbar\" style=\"background-color: blue; width: 100%; word-wrap: normal; white-space: nowrap; text-align: center; color: white\" aria-valuenow=\"100\" aria-valuemin=\"0\" aria-valuemax=\"100\">\n",
       "    1 / 1\n",
       "  </div>\n",
       "  <div class=\"progress-bar\" role=\"progressbar\" style=\"background-color: red; width: 0%\" aria-valuenow=\"0\" aria-valuemin=\"0\" aria-valuemax=\"100\"></div>\n",
       "</div>\n"
      ]
     },
     "metadata": {},
     "output_type": "display_data"
    },
    {
     "data": {
      "text/html": [
       "<div>\n",
       "  <span style=\"float: left;\">count at cmd4.sc:3</span>\n",
       "</div>\n"
      ]
     },
     "metadata": {},
     "output_type": "display_data"
    },
    {
     "data": {
      "text/html": [
       "<div class=\"progress\">\n",
       "  <div class=\"progress-bar\" role=\"progressbar\" style=\"background-color: blue; width: 100%; word-wrap: normal; white-space: nowrap; text-align: center; color: white\" aria-valuenow=\"100\" aria-valuemin=\"0\" aria-valuemax=\"100\">\n",
       "    79 / 79\n",
       "  </div>\n",
       "  <div class=\"progress-bar\" role=\"progressbar\" style=\"background-color: red; width: 0%\" aria-valuenow=\"0\" aria-valuemin=\"0\" aria-valuemax=\"100\"></div>\n",
       "</div>\n"
      ]
     },
     "metadata": {},
     "output_type": "display_data"
    },
    {
     "data": {
      "text/html": [
       "<div>\n",
       "  <span style=\"float: left;\">count at cmd4.sc:3</span>\n",
       "</div>\n"
      ]
     },
     "metadata": {},
     "output_type": "display_data"
    },
    {
     "data": {
      "text/html": [
       "<div class=\"progress\">\n",
       "  <div class=\"progress-bar\" role=\"progressbar\" style=\"background-color: blue; width: 100%; word-wrap: normal; white-space: nowrap; text-align: center; color: white\" aria-valuenow=\"100\" aria-valuemin=\"0\" aria-valuemax=\"100\">\n",
       "    64 / 64\n",
       "  </div>\n",
       "  <div class=\"progress-bar\" role=\"progressbar\" style=\"background-color: red; width: 0%\" aria-valuenow=\"0\" aria-valuemin=\"0\" aria-valuemax=\"100\"></div>\n",
       "</div>\n"
      ]
     },
     "metadata": {},
     "output_type": "display_data"
    },
    {
     "data": {
      "text/html": [
       "<div>\n",
       "  <span style=\"float: left;\">count at cmd4.sc:3</span>\n",
       "</div>\n"
      ]
     },
     "metadata": {},
     "output_type": "display_data"
    },
    {
     "data": {
      "text/html": [
       "<div class=\"progress\">\n",
       "  <div class=\"progress-bar\" role=\"progressbar\" style=\"background-color: blue; width: 100%; word-wrap: normal; white-space: nowrap; text-align: center; color: white\" aria-valuenow=\"100\" aria-valuemin=\"0\" aria-valuemax=\"100\">\n",
       "    64 / 64\n",
       "  </div>\n",
       "  <div class=\"progress-bar\" role=\"progressbar\" style=\"background-color: red; width: 0%\" aria-valuenow=\"0\" aria-valuemin=\"0\" aria-valuemax=\"100\"></div>\n",
       "</div>\n"
      ]
     },
     "metadata": {},
     "output_type": "display_data"
    },
    {
     "data": {
      "text/html": [
       "<div>\n",
       "  <span style=\"float: left;\">count at cmd4.sc:3</span>\n",
       "</div>\n"
      ]
     },
     "metadata": {},
     "output_type": "display_data"
    },
    {
     "data": {
      "text/html": [
       "<div class=\"progress\">\n",
       "  <div class=\"progress-bar\" role=\"progressbar\" style=\"background-color: blue; width: 100%; word-wrap: normal; white-space: nowrap; text-align: center; color: white\" aria-valuenow=\"100\" aria-valuemin=\"0\" aria-valuemax=\"100\">\n",
       "    1 / 1\n",
       "  </div>\n",
       "  <div class=\"progress-bar\" role=\"progressbar\" style=\"background-color: red; width: 0%\" aria-valuenow=\"0\" aria-valuemin=\"0\" aria-valuemax=\"100\"></div>\n",
       "</div>\n"
      ]
     },
     "metadata": {},
     "output_type": "display_data"
    },
    {
     "data": {
      "text/html": [
       "<div>\n",
       "  <span style=\"float: left;\">count at cmd4.sc:3</span>\n",
       "</div>\n"
      ]
     },
     "metadata": {},
     "output_type": "display_data"
    },
    {
     "data": {
      "text/html": [
       "<div class=\"progress\">\n",
       "  <div class=\"progress-bar\" role=\"progressbar\" style=\"background-color: blue; width: 100%; word-wrap: normal; white-space: nowrap; text-align: center; color: white\" aria-valuenow=\"100\" aria-valuemin=\"0\" aria-valuemax=\"100\">\n",
       "    79 / 79\n",
       "  </div>\n",
       "  <div class=\"progress-bar\" role=\"progressbar\" style=\"background-color: red; width: 0%\" aria-valuenow=\"0\" aria-valuemin=\"0\" aria-valuemax=\"100\"></div>\n",
       "</div>\n"
      ]
     },
     "metadata": {},
     "output_type": "display_data"
    },
    {
     "data": {
      "text/html": [
       "<div>\n",
       "  <span style=\"float: left;\">count at cmd4.sc:3</span>\n",
       "</div>\n"
      ]
     },
     "metadata": {},
     "output_type": "display_data"
    },
    {
     "data": {
      "text/html": [
       "<div class=\"progress\">\n",
       "  <div class=\"progress-bar\" role=\"progressbar\" style=\"background-color: blue; width: 100%; word-wrap: normal; white-space: nowrap; text-align: center; color: white\" aria-valuenow=\"100\" aria-valuemin=\"0\" aria-valuemax=\"100\">\n",
       "    64 / 64\n",
       "  </div>\n",
       "  <div class=\"progress-bar\" role=\"progressbar\" style=\"background-color: red; width: 0%\" aria-valuenow=\"0\" aria-valuemin=\"0\" aria-valuemax=\"100\"></div>\n",
       "</div>\n"
      ]
     },
     "metadata": {},
     "output_type": "display_data"
    },
    {
     "data": {
      "text/html": [
       "<div>\n",
       "  <span style=\"float: left;\">count at cmd4.sc:3</span>\n",
       "</div>\n"
      ]
     },
     "metadata": {},
     "output_type": "display_data"
    },
    {
     "data": {
      "text/html": [
       "<div class=\"progress\">\n",
       "  <div class=\"progress-bar\" role=\"progressbar\" style=\"background-color: blue; width: 100%; word-wrap: normal; white-space: nowrap; text-align: center; color: white\" aria-valuenow=\"100\" aria-valuemin=\"0\" aria-valuemax=\"100\">\n",
       "    64 / 64\n",
       "  </div>\n",
       "  <div class=\"progress-bar\" role=\"progressbar\" style=\"background-color: red; width: 0%\" aria-valuenow=\"0\" aria-valuemin=\"0\" aria-valuemax=\"100\"></div>\n",
       "</div>\n"
      ]
     },
     "metadata": {},
     "output_type": "display_data"
    },
    {
     "data": {
      "text/html": [
       "<div>\n",
       "  <span style=\"float: left;\">count at cmd4.sc:3</span>\n",
       "</div>\n"
      ]
     },
     "metadata": {},
     "output_type": "display_data"
    },
    {
     "data": {
      "text/html": [
       "<div class=\"progress\">\n",
       "  <div class=\"progress-bar\" role=\"progressbar\" style=\"background-color: blue; width: 100%; word-wrap: normal; white-space: nowrap; text-align: center; color: white\" aria-valuenow=\"100\" aria-valuemin=\"0\" aria-valuemax=\"100\">\n",
       "    1 / 1\n",
       "  </div>\n",
       "  <div class=\"progress-bar\" role=\"progressbar\" style=\"background-color: red; width: 0%\" aria-valuenow=\"0\" aria-valuemin=\"0\" aria-valuemax=\"100\"></div>\n",
       "</div>\n"
      ]
     },
     "metadata": {},
     "output_type": "display_data"
    },
    {
     "data": {
      "text/html": [
       "<div>\n",
       "  <span style=\"float: left;\">count at cmd4.sc:3</span>\n",
       "</div>\n"
      ]
     },
     "metadata": {},
     "output_type": "display_data"
    },
    {
     "data": {
      "text/html": [
       "<div class=\"progress\">\n",
       "  <div class=\"progress-bar\" role=\"progressbar\" style=\"background-color: blue; width: 100%; word-wrap: normal; white-space: nowrap; text-align: center; color: white\" aria-valuenow=\"100\" aria-valuemin=\"0\" aria-valuemax=\"100\">\n",
       "    79 / 79\n",
       "  </div>\n",
       "  <div class=\"progress-bar\" role=\"progressbar\" style=\"background-color: red; width: 0%\" aria-valuenow=\"0\" aria-valuemin=\"0\" aria-valuemax=\"100\"></div>\n",
       "</div>\n"
      ]
     },
     "metadata": {},
     "output_type": "display_data"
    },
    {
     "data": {
      "text/html": [
       "<div>\n",
       "  <span style=\"float: left;\">count at cmd4.sc:3</span>\n",
       "</div>\n"
      ]
     },
     "metadata": {},
     "output_type": "display_data"
    },
    {
     "data": {
      "text/html": [
       "<div class=\"progress\">\n",
       "  <div class=\"progress-bar\" role=\"progressbar\" style=\"background-color: blue; width: 100%; word-wrap: normal; white-space: nowrap; text-align: center; color: white\" aria-valuenow=\"100\" aria-valuemin=\"0\" aria-valuemax=\"100\">\n",
       "    64 / 64\n",
       "  </div>\n",
       "  <div class=\"progress-bar\" role=\"progressbar\" style=\"background-color: red; width: 0%\" aria-valuenow=\"0\" aria-valuemin=\"0\" aria-valuemax=\"100\"></div>\n",
       "</div>\n"
      ]
     },
     "metadata": {},
     "output_type": "display_data"
    },
    {
     "data": {
      "text/html": [
       "<div>\n",
       "  <span style=\"float: left;\">count at cmd4.sc:3</span>\n",
       "</div>\n"
      ]
     },
     "metadata": {},
     "output_type": "display_data"
    },
    {
     "data": {
      "text/html": [
       "<div class=\"progress\">\n",
       "  <div class=\"progress-bar\" role=\"progressbar\" style=\"background-color: blue; width: 100%; word-wrap: normal; white-space: nowrap; text-align: center; color: white\" aria-valuenow=\"100\" aria-valuemin=\"0\" aria-valuemax=\"100\">\n",
       "    64 / 64\n",
       "  </div>\n",
       "  <div class=\"progress-bar\" role=\"progressbar\" style=\"background-color: red; width: 0%\" aria-valuenow=\"0\" aria-valuemin=\"0\" aria-valuemax=\"100\"></div>\n",
       "</div>\n"
      ]
     },
     "metadata": {},
     "output_type": "display_data"
    },
    {
     "data": {
      "text/html": [
       "<div>\n",
       "  <span style=\"float: left;\">count at cmd4.sc:3</span>\n",
       "</div>\n"
      ]
     },
     "metadata": {},
     "output_type": "display_data"
    },
    {
     "data": {
      "text/html": [
       "<div class=\"progress\">\n",
       "  <div class=\"progress-bar\" role=\"progressbar\" style=\"background-color: blue; width: 100%; word-wrap: normal; white-space: nowrap; text-align: center; color: white\" aria-valuenow=\"100\" aria-valuemin=\"0\" aria-valuemax=\"100\">\n",
       "    1 / 1\n",
       "  </div>\n",
       "  <div class=\"progress-bar\" role=\"progressbar\" style=\"background-color: red; width: 0%\" aria-valuenow=\"0\" aria-valuemin=\"0\" aria-valuemax=\"100\"></div>\n",
       "</div>\n"
      ]
     },
     "metadata": {},
     "output_type": "display_data"
    },
    {
     "data": {
      "text/html": [
       "<div>\n",
       "  <span style=\"float: left;\">count at cmd4.sc:3</span>\n",
       "</div>\n"
      ]
     },
     "metadata": {},
     "output_type": "display_data"
    },
    {
     "data": {
      "text/html": [
       "<div class=\"progress\">\n",
       "  <div class=\"progress-bar\" role=\"progressbar\" style=\"background-color: blue; width: 100%; word-wrap: normal; white-space: nowrap; text-align: center; color: white\" aria-valuenow=\"100\" aria-valuemin=\"0\" aria-valuemax=\"100\">\n",
       "    79 / 79\n",
       "  </div>\n",
       "  <div class=\"progress-bar\" role=\"progressbar\" style=\"background-color: red; width: 0%\" aria-valuenow=\"0\" aria-valuemin=\"0\" aria-valuemax=\"100\"></div>\n",
       "</div>\n"
      ]
     },
     "metadata": {},
     "output_type": "display_data"
    },
    {
     "data": {
      "text/html": [
       "<div>\n",
       "  <span style=\"float: left;\">count at cmd4.sc:3</span>\n",
       "</div>\n"
      ]
     },
     "metadata": {},
     "output_type": "display_data"
    },
    {
     "data": {
      "text/html": [
       "<div class=\"progress\">\n",
       "  <div class=\"progress-bar\" role=\"progressbar\" style=\"background-color: blue; width: 100%; word-wrap: normal; white-space: nowrap; text-align: center; color: white\" aria-valuenow=\"100\" aria-valuemin=\"0\" aria-valuemax=\"100\">\n",
       "    64 / 64\n",
       "  </div>\n",
       "  <div class=\"progress-bar\" role=\"progressbar\" style=\"background-color: red; width: 0%\" aria-valuenow=\"0\" aria-valuemin=\"0\" aria-valuemax=\"100\"></div>\n",
       "</div>\n"
      ]
     },
     "metadata": {},
     "output_type": "display_data"
    },
    {
     "data": {
      "text/html": [
       "<div>\n",
       "  <span style=\"float: left;\">count at cmd4.sc:3</span>\n",
       "</div>\n"
      ]
     },
     "metadata": {},
     "output_type": "display_data"
    },
    {
     "data": {
      "text/html": [
       "<div class=\"progress\">\n",
       "  <div class=\"progress-bar\" role=\"progressbar\" style=\"background-color: blue; width: 100%; word-wrap: normal; white-space: nowrap; text-align: center; color: white\" aria-valuenow=\"100\" aria-valuemin=\"0\" aria-valuemax=\"100\">\n",
       "    64 / 64\n",
       "  </div>\n",
       "  <div class=\"progress-bar\" role=\"progressbar\" style=\"background-color: red; width: 0%\" aria-valuenow=\"0\" aria-valuemin=\"0\" aria-valuemax=\"100\"></div>\n",
       "</div>\n"
      ]
     },
     "metadata": {},
     "output_type": "display_data"
    },
    {
     "data": {
      "text/html": [
       "<div>\n",
       "  <span style=\"float: left;\">count at cmd4.sc:3</span>\n",
       "</div>\n"
      ]
     },
     "metadata": {},
     "output_type": "display_data"
    },
    {
     "data": {
      "text/html": [
       "<div class=\"progress\">\n",
       "  <div class=\"progress-bar\" role=\"progressbar\" style=\"background-color: blue; width: 100%; word-wrap: normal; white-space: nowrap; text-align: center; color: white\" aria-valuenow=\"100\" aria-valuemin=\"0\" aria-valuemax=\"100\">\n",
       "    1 / 1\n",
       "  </div>\n",
       "  <div class=\"progress-bar\" role=\"progressbar\" style=\"background-color: red; width: 0%\" aria-valuenow=\"0\" aria-valuemin=\"0\" aria-valuemax=\"100\"></div>\n",
       "</div>\n"
      ]
     },
     "metadata": {},
     "output_type": "display_data"
    },
    {
     "data": {
      "text/html": [
       "<div>\n",
       "  <span style=\"float: left;\">count at cmd4.sc:3</span>\n",
       "</div>\n"
      ]
     },
     "metadata": {},
     "output_type": "display_data"
    },
    {
     "data": {
      "text/html": [
       "<div class=\"progress\">\n",
       "  <div class=\"progress-bar\" role=\"progressbar\" style=\"background-color: blue; width: 100%; word-wrap: normal; white-space: nowrap; text-align: center; color: white\" aria-valuenow=\"100\" aria-valuemin=\"0\" aria-valuemax=\"100\">\n",
       "    79 / 79\n",
       "  </div>\n",
       "  <div class=\"progress-bar\" role=\"progressbar\" style=\"background-color: red; width: 0%\" aria-valuenow=\"0\" aria-valuemin=\"0\" aria-valuemax=\"100\"></div>\n",
       "</div>\n"
      ]
     },
     "metadata": {},
     "output_type": "display_data"
    },
    {
     "data": {
      "text/html": [
       "<div>\n",
       "  <span style=\"float: left;\">count at cmd4.sc:3</span>\n",
       "</div>\n"
      ]
     },
     "metadata": {},
     "output_type": "display_data"
    },
    {
     "data": {
      "text/html": [
       "<div class=\"progress\">\n",
       "  <div class=\"progress-bar\" role=\"progressbar\" style=\"background-color: blue; width: 100%; word-wrap: normal; white-space: nowrap; text-align: center; color: white\" aria-valuenow=\"100\" aria-valuemin=\"0\" aria-valuemax=\"100\">\n",
       "    64 / 64\n",
       "  </div>\n",
       "  <div class=\"progress-bar\" role=\"progressbar\" style=\"background-color: red; width: 0%\" aria-valuenow=\"0\" aria-valuemin=\"0\" aria-valuemax=\"100\"></div>\n",
       "</div>\n"
      ]
     },
     "metadata": {},
     "output_type": "display_data"
    },
    {
     "data": {
      "text/html": [
       "<div>\n",
       "  <span style=\"float: left;\">count at cmd4.sc:3</span>\n",
       "</div>\n"
      ]
     },
     "metadata": {},
     "output_type": "display_data"
    },
    {
     "data": {
      "text/html": [
       "<div class=\"progress\">\n",
       "  <div class=\"progress-bar\" role=\"progressbar\" style=\"background-color: blue; width: 100%; word-wrap: normal; white-space: nowrap; text-align: center; color: white\" aria-valuenow=\"100\" aria-valuemin=\"0\" aria-valuemax=\"100\">\n",
       "    64 / 64\n",
       "  </div>\n",
       "  <div class=\"progress-bar\" role=\"progressbar\" style=\"background-color: red; width: 0%\" aria-valuenow=\"0\" aria-valuemin=\"0\" aria-valuemax=\"100\"></div>\n",
       "</div>\n"
      ]
     },
     "metadata": {},
     "output_type": "display_data"
    },
    {
     "data": {
      "text/html": [
       "<div>\n",
       "  <span style=\"float: left;\">count at cmd4.sc:3</span>\n",
       "</div>\n"
      ]
     },
     "metadata": {},
     "output_type": "display_data"
    },
    {
     "data": {
      "text/html": [
       "<div class=\"progress\">\n",
       "  <div class=\"progress-bar\" role=\"progressbar\" style=\"background-color: blue; width: 100%; word-wrap: normal; white-space: nowrap; text-align: center; color: white\" aria-valuenow=\"100\" aria-valuemin=\"0\" aria-valuemax=\"100\">\n",
       "    1 / 1\n",
       "  </div>\n",
       "  <div class=\"progress-bar\" role=\"progressbar\" style=\"background-color: red; width: 0%\" aria-valuenow=\"0\" aria-valuemin=\"0\" aria-valuemax=\"100\"></div>\n",
       "</div>\n"
      ]
     },
     "metadata": {},
     "output_type": "display_data"
    },
    {
     "data": {
      "text/html": [
       "<div>\n",
       "  <span style=\"float: left;\">count at cmd4.sc:3</span>\n",
       "</div>\n"
      ]
     },
     "metadata": {},
     "output_type": "display_data"
    },
    {
     "data": {
      "text/html": [
       "<div class=\"progress\">\n",
       "  <div class=\"progress-bar\" role=\"progressbar\" style=\"background-color: blue; width: 100%; word-wrap: normal; white-space: nowrap; text-align: center; color: white\" aria-valuenow=\"100\" aria-valuemin=\"0\" aria-valuemax=\"100\">\n",
       "    79 / 79\n",
       "  </div>\n",
       "  <div class=\"progress-bar\" role=\"progressbar\" style=\"background-color: red; width: 0%\" aria-valuenow=\"0\" aria-valuemin=\"0\" aria-valuemax=\"100\"></div>\n",
       "</div>\n"
      ]
     },
     "metadata": {},
     "output_type": "display_data"
    },
    {
     "data": {
      "text/html": [
       "<div>\n",
       "  <span style=\"float: left;\">count at cmd4.sc:3</span>\n",
       "</div>\n"
      ]
     },
     "metadata": {},
     "output_type": "display_data"
    },
    {
     "data": {
      "text/html": [
       "<div class=\"progress\">\n",
       "  <div class=\"progress-bar\" role=\"progressbar\" style=\"background-color: blue; width: 100%; word-wrap: normal; white-space: nowrap; text-align: center; color: white\" aria-valuenow=\"100\" aria-valuemin=\"0\" aria-valuemax=\"100\">\n",
       "    64 / 64\n",
       "  </div>\n",
       "  <div class=\"progress-bar\" role=\"progressbar\" style=\"background-color: red; width: 0%\" aria-valuenow=\"0\" aria-valuemin=\"0\" aria-valuemax=\"100\"></div>\n",
       "</div>\n"
      ]
     },
     "metadata": {},
     "output_type": "display_data"
    },
    {
     "data": {
      "text/html": [
       "<div>\n",
       "  <span style=\"float: left;\">count at cmd4.sc:3</span>\n",
       "</div>\n"
      ]
     },
     "metadata": {},
     "output_type": "display_data"
    },
    {
     "data": {
      "text/html": [
       "<div class=\"progress\">\n",
       "  <div class=\"progress-bar\" role=\"progressbar\" style=\"background-color: blue; width: 100%; word-wrap: normal; white-space: nowrap; text-align: center; color: white\" aria-valuenow=\"100\" aria-valuemin=\"0\" aria-valuemax=\"100\">\n",
       "    64 / 64\n",
       "  </div>\n",
       "  <div class=\"progress-bar\" role=\"progressbar\" style=\"background-color: red; width: 0%\" aria-valuenow=\"0\" aria-valuemin=\"0\" aria-valuemax=\"100\"></div>\n",
       "</div>\n"
      ]
     },
     "metadata": {},
     "output_type": "display_data"
    },
    {
     "data": {
      "text/html": [
       "<div>\n",
       "  <span style=\"float: left;\">count at cmd4.sc:3</span>\n",
       "</div>\n"
      ]
     },
     "metadata": {},
     "output_type": "display_data"
    },
    {
     "data": {
      "text/html": [
       "<div class=\"progress\">\n",
       "  <div class=\"progress-bar\" role=\"progressbar\" style=\"background-color: blue; width: 100%; word-wrap: normal; white-space: nowrap; text-align: center; color: white\" aria-valuenow=\"100\" aria-valuemin=\"0\" aria-valuemax=\"100\">\n",
       "    1 / 1\n",
       "  </div>\n",
       "  <div class=\"progress-bar\" role=\"progressbar\" style=\"background-color: red; width: 0%\" aria-valuenow=\"0\" aria-valuemin=\"0\" aria-valuemax=\"100\"></div>\n",
       "</div>\n"
      ]
     },
     "metadata": {},
     "output_type": "display_data"
    },
    {
     "data": {
      "text/html": [
       "<div>\n",
       "  <span style=\"float: left;\">count at cmd4.sc:3</span>\n",
       "</div>\n"
      ]
     },
     "metadata": {},
     "output_type": "display_data"
    },
    {
     "data": {
      "text/html": [
       "<div class=\"progress\">\n",
       "  <div class=\"progress-bar\" role=\"progressbar\" style=\"background-color: blue; width: 100%; word-wrap: normal; white-space: nowrap; text-align: center; color: white\" aria-valuenow=\"100\" aria-valuemin=\"0\" aria-valuemax=\"100\">\n",
       "    79 / 79\n",
       "  </div>\n",
       "  <div class=\"progress-bar\" role=\"progressbar\" style=\"background-color: red; width: 0%\" aria-valuenow=\"0\" aria-valuemin=\"0\" aria-valuemax=\"100\"></div>\n",
       "</div>\n"
      ]
     },
     "metadata": {},
     "output_type": "display_data"
    },
    {
     "data": {
      "text/html": [
       "<div>\n",
       "  <span style=\"float: left;\">count at cmd4.sc:3</span>\n",
       "</div>\n"
      ]
     },
     "metadata": {},
     "output_type": "display_data"
    },
    {
     "data": {
      "text/html": [
       "<div class=\"progress\">\n",
       "  <div class=\"progress-bar\" role=\"progressbar\" style=\"background-color: blue; width: 100%; word-wrap: normal; white-space: nowrap; text-align: center; color: white\" aria-valuenow=\"100\" aria-valuemin=\"0\" aria-valuemax=\"100\">\n",
       "    64 / 64\n",
       "  </div>\n",
       "  <div class=\"progress-bar\" role=\"progressbar\" style=\"background-color: red; width: 0%\" aria-valuenow=\"0\" aria-valuemin=\"0\" aria-valuemax=\"100\"></div>\n",
       "</div>\n"
      ]
     },
     "metadata": {},
     "output_type": "display_data"
    },
    {
     "data": {
      "text/html": [
       "<div>\n",
       "  <span style=\"float: left;\">count at cmd4.sc:3</span>\n",
       "</div>\n"
      ]
     },
     "metadata": {},
     "output_type": "display_data"
    },
    {
     "data": {
      "text/html": [
       "<div class=\"progress\">\n",
       "  <div class=\"progress-bar\" role=\"progressbar\" style=\"background-color: blue; width: 100%; word-wrap: normal; white-space: nowrap; text-align: center; color: white\" aria-valuenow=\"100\" aria-valuemin=\"0\" aria-valuemax=\"100\">\n",
       "    64 / 64\n",
       "  </div>\n",
       "  <div class=\"progress-bar\" role=\"progressbar\" style=\"background-color: red; width: 0%\" aria-valuenow=\"0\" aria-valuemin=\"0\" aria-valuemax=\"100\"></div>\n",
       "</div>\n"
      ]
     },
     "metadata": {},
     "output_type": "display_data"
    },
    {
     "data": {
      "text/html": [
       "<div>\n",
       "  <span style=\"float: left;\">count at cmd4.sc:3</span>\n",
       "</div>\n"
      ]
     },
     "metadata": {},
     "output_type": "display_data"
    },
    {
     "data": {
      "text/html": [
       "<div class=\"progress\">\n",
       "  <div class=\"progress-bar\" role=\"progressbar\" style=\"background-color: blue; width: 100%; word-wrap: normal; white-space: nowrap; text-align: center; color: white\" aria-valuenow=\"100\" aria-valuemin=\"0\" aria-valuemax=\"100\">\n",
       "    1 / 1\n",
       "  </div>\n",
       "  <div class=\"progress-bar\" role=\"progressbar\" style=\"background-color: red; width: 0%\" aria-valuenow=\"0\" aria-valuemin=\"0\" aria-valuemax=\"100\"></div>\n",
       "</div>\n"
      ]
     },
     "metadata": {},
     "output_type": "display_data"
    },
    {
     "data": {
      "text/html": [
       "<div>\n",
       "  <span style=\"float: left;\">count at cmd4.sc:3</span>\n",
       "</div>\n"
      ]
     },
     "metadata": {},
     "output_type": "display_data"
    },
    {
     "data": {
      "text/html": [
       "<div class=\"progress\">\n",
       "  <div class=\"progress-bar\" role=\"progressbar\" style=\"background-color: blue; width: 100%; word-wrap: normal; white-space: nowrap; text-align: center; color: white\" aria-valuenow=\"100\" aria-valuemin=\"0\" aria-valuemax=\"100\">\n",
       "    79 / 79\n",
       "  </div>\n",
       "  <div class=\"progress-bar\" role=\"progressbar\" style=\"background-color: red; width: 0%\" aria-valuenow=\"0\" aria-valuemin=\"0\" aria-valuemax=\"100\"></div>\n",
       "</div>\n"
      ]
     },
     "metadata": {},
     "output_type": "display_data"
    },
    {
     "data": {
      "text/html": [
       "<div>\n",
       "  <span style=\"float: left;\">count at cmd4.sc:3</span>\n",
       "</div>\n"
      ]
     },
     "metadata": {},
     "output_type": "display_data"
    },
    {
     "data": {
      "text/html": [
       "<div class=\"progress\">\n",
       "  <div class=\"progress-bar\" role=\"progressbar\" style=\"background-color: blue; width: 100%; word-wrap: normal; white-space: nowrap; text-align: center; color: white\" aria-valuenow=\"100\" aria-valuemin=\"0\" aria-valuemax=\"100\">\n",
       "    64 / 64\n",
       "  </div>\n",
       "  <div class=\"progress-bar\" role=\"progressbar\" style=\"background-color: red; width: 0%\" aria-valuenow=\"0\" aria-valuemin=\"0\" aria-valuemax=\"100\"></div>\n",
       "</div>\n"
      ]
     },
     "metadata": {},
     "output_type": "display_data"
    },
    {
     "data": {
      "text/html": [
       "<div>\n",
       "  <span style=\"float: left;\">count at cmd4.sc:3</span>\n",
       "</div>\n"
      ]
     },
     "metadata": {},
     "output_type": "display_data"
    },
    {
     "data": {
      "text/html": [
       "<div class=\"progress\">\n",
       "  <div class=\"progress-bar\" role=\"progressbar\" style=\"background-color: blue; width: 100%; word-wrap: normal; white-space: nowrap; text-align: center; color: white\" aria-valuenow=\"100\" aria-valuemin=\"0\" aria-valuemax=\"100\">\n",
       "    64 / 64\n",
       "  </div>\n",
       "  <div class=\"progress-bar\" role=\"progressbar\" style=\"background-color: red; width: 0%\" aria-valuenow=\"0\" aria-valuemin=\"0\" aria-valuemax=\"100\"></div>\n",
       "</div>\n"
      ]
     },
     "metadata": {},
     "output_type": "display_data"
    },
    {
     "data": {
      "text/html": [
       "<div>\n",
       "  <span style=\"float: left;\">count at cmd4.sc:3</span>\n",
       "</div>\n"
      ]
     },
     "metadata": {},
     "output_type": "display_data"
    },
    {
     "data": {
      "text/html": [
       "<div class=\"progress\">\n",
       "  <div class=\"progress-bar\" role=\"progressbar\" style=\"background-color: blue; width: 100%; word-wrap: normal; white-space: nowrap; text-align: center; color: white\" aria-valuenow=\"100\" aria-valuemin=\"0\" aria-valuemax=\"100\">\n",
       "    1 / 1\n",
       "  </div>\n",
       "  <div class=\"progress-bar\" role=\"progressbar\" style=\"background-color: red; width: 0%\" aria-valuenow=\"0\" aria-valuemin=\"0\" aria-valuemax=\"100\"></div>\n",
       "</div>\n"
      ]
     },
     "metadata": {},
     "output_type": "display_data"
    },
    {
     "data": {
      "text/html": [
       "<div>\n",
       "  <span style=\"float: left;\">count at cmd4.sc:3</span>\n",
       "</div>\n"
      ]
     },
     "metadata": {},
     "output_type": "display_data"
    },
    {
     "data": {
      "text/html": [
       "<div class=\"progress\">\n",
       "  <div class=\"progress-bar\" role=\"progressbar\" style=\"background-color: blue; width: 100%; word-wrap: normal; white-space: nowrap; text-align: center; color: white\" aria-valuenow=\"100\" aria-valuemin=\"0\" aria-valuemax=\"100\">\n",
       "    79 / 79\n",
       "  </div>\n",
       "  <div class=\"progress-bar\" role=\"progressbar\" style=\"background-color: red; width: 0%\" aria-valuenow=\"0\" aria-valuemin=\"0\" aria-valuemax=\"100\"></div>\n",
       "</div>\n"
      ]
     },
     "metadata": {},
     "output_type": "display_data"
    },
    {
     "data": {
      "text/html": [
       "<div>\n",
       "  <span style=\"float: left;\">count at cmd4.sc:3</span>\n",
       "</div>\n"
      ]
     },
     "metadata": {},
     "output_type": "display_data"
    },
    {
     "data": {
      "text/html": [
       "<div class=\"progress\">\n",
       "  <div class=\"progress-bar\" role=\"progressbar\" style=\"background-color: blue; width: 100%; word-wrap: normal; white-space: nowrap; text-align: center; color: white\" aria-valuenow=\"100\" aria-valuemin=\"0\" aria-valuemax=\"100\">\n",
       "    64 / 64\n",
       "  </div>\n",
       "  <div class=\"progress-bar\" role=\"progressbar\" style=\"background-color: red; width: 0%\" aria-valuenow=\"0\" aria-valuemin=\"0\" aria-valuemax=\"100\"></div>\n",
       "</div>\n"
      ]
     },
     "metadata": {},
     "output_type": "display_data"
    },
    {
     "data": {
      "text/html": [
       "<div>\n",
       "  <span style=\"float: left;\">count at cmd4.sc:3</span>\n",
       "</div>\n"
      ]
     },
     "metadata": {},
     "output_type": "display_data"
    },
    {
     "data": {
      "text/html": [
       "<div class=\"progress\">\n",
       "  <div class=\"progress-bar\" role=\"progressbar\" style=\"background-color: blue; width: 100%; word-wrap: normal; white-space: nowrap; text-align: center; color: white\" aria-valuenow=\"100\" aria-valuemin=\"0\" aria-valuemax=\"100\">\n",
       "    64 / 64\n",
       "  </div>\n",
       "  <div class=\"progress-bar\" role=\"progressbar\" style=\"background-color: red; width: 0%\" aria-valuenow=\"0\" aria-valuemin=\"0\" aria-valuemax=\"100\"></div>\n",
       "</div>\n"
      ]
     },
     "metadata": {},
     "output_type": "display_data"
    },
    {
     "data": {
      "text/html": [
       "<div>\n",
       "  <span style=\"float: left;\">count at cmd4.sc:3</span>\n",
       "</div>\n"
      ]
     },
     "metadata": {},
     "output_type": "display_data"
    },
    {
     "data": {
      "text/html": [
       "<div class=\"progress\">\n",
       "  <div class=\"progress-bar\" role=\"progressbar\" style=\"background-color: blue; width: 100%; word-wrap: normal; white-space: nowrap; text-align: center; color: white\" aria-valuenow=\"100\" aria-valuemin=\"0\" aria-valuemax=\"100\">\n",
       "    1 / 1\n",
       "  </div>\n",
       "  <div class=\"progress-bar\" role=\"progressbar\" style=\"background-color: red; width: 0%\" aria-valuenow=\"0\" aria-valuemin=\"0\" aria-valuemax=\"100\"></div>\n",
       "</div>\n"
      ]
     },
     "metadata": {},
     "output_type": "display_data"
    },
    {
     "data": {
      "text/html": [
       "<div>\n",
       "  <span style=\"float: left;\">count at cmd4.sc:3</span>\n",
       "</div>\n"
      ]
     },
     "metadata": {},
     "output_type": "display_data"
    },
    {
     "data": {
      "text/html": [
       "<div class=\"progress\">\n",
       "  <div class=\"progress-bar\" role=\"progressbar\" style=\"background-color: blue; width: 100%; word-wrap: normal; white-space: nowrap; text-align: center; color: white\" aria-valuenow=\"100\" aria-valuemin=\"0\" aria-valuemax=\"100\">\n",
       "    79 / 79\n",
       "  </div>\n",
       "  <div class=\"progress-bar\" role=\"progressbar\" style=\"background-color: red; width: 0%\" aria-valuenow=\"0\" aria-valuemin=\"0\" aria-valuemax=\"100\"></div>\n",
       "</div>\n"
      ]
     },
     "metadata": {},
     "output_type": "display_data"
    },
    {
     "data": {
      "text/html": [
       "<div>\n",
       "  <span style=\"float: left;\">count at cmd4.sc:3</span>\n",
       "</div>\n"
      ]
     },
     "metadata": {},
     "output_type": "display_data"
    },
    {
     "data": {
      "text/html": [
       "<div class=\"progress\">\n",
       "  <div class=\"progress-bar\" role=\"progressbar\" style=\"background-color: blue; width: 100%; word-wrap: normal; white-space: nowrap; text-align: center; color: white\" aria-valuenow=\"100\" aria-valuemin=\"0\" aria-valuemax=\"100\">\n",
       "    64 / 64\n",
       "  </div>\n",
       "  <div class=\"progress-bar\" role=\"progressbar\" style=\"background-color: red; width: 0%\" aria-valuenow=\"0\" aria-valuemin=\"0\" aria-valuemax=\"100\"></div>\n",
       "</div>\n"
      ]
     },
     "metadata": {},
     "output_type": "display_data"
    },
    {
     "data": {
      "text/html": [
       "<div>\n",
       "  <span style=\"float: left;\">count at cmd4.sc:3</span>\n",
       "</div>\n"
      ]
     },
     "metadata": {},
     "output_type": "display_data"
    },
    {
     "data": {
      "text/html": [
       "<div class=\"progress\">\n",
       "  <div class=\"progress-bar\" role=\"progressbar\" style=\"background-color: blue; width: 100%; word-wrap: normal; white-space: nowrap; text-align: center; color: white\" aria-valuenow=\"100\" aria-valuemin=\"0\" aria-valuemax=\"100\">\n",
       "    64 / 64\n",
       "  </div>\n",
       "  <div class=\"progress-bar\" role=\"progressbar\" style=\"background-color: red; width: 0%\" aria-valuenow=\"0\" aria-valuemin=\"0\" aria-valuemax=\"100\"></div>\n",
       "</div>\n"
      ]
     },
     "metadata": {},
     "output_type": "display_data"
    },
    {
     "data": {
      "text/html": [
       "<div>\n",
       "  <span style=\"float: left;\">count at cmd4.sc:3</span>\n",
       "</div>\n"
      ]
     },
     "metadata": {},
     "output_type": "display_data"
    },
    {
     "data": {
      "text/html": [
       "<div class=\"progress\">\n",
       "  <div class=\"progress-bar\" role=\"progressbar\" style=\"background-color: blue; width: 100%; word-wrap: normal; white-space: nowrap; text-align: center; color: white\" aria-valuenow=\"100\" aria-valuemin=\"0\" aria-valuemax=\"100\">\n",
       "    1 / 1\n",
       "  </div>\n",
       "  <div class=\"progress-bar\" role=\"progressbar\" style=\"background-color: red; width: 0%\" aria-valuenow=\"0\" aria-valuemin=\"0\" aria-valuemax=\"100\"></div>\n",
       "</div>\n"
      ]
     },
     "metadata": {},
     "output_type": "display_data"
    },
    {
     "data": {
      "text/html": [
       "<div>\n",
       "  <span style=\"float: left;\">count at cmd4.sc:3</span>\n",
       "</div>\n"
      ]
     },
     "metadata": {},
     "output_type": "display_data"
    },
    {
     "data": {
      "text/html": [
       "<div class=\"progress\">\n",
       "  <div class=\"progress-bar\" role=\"progressbar\" style=\"background-color: blue; width: 100%; word-wrap: normal; white-space: nowrap; text-align: center; color: white\" aria-valuenow=\"100\" aria-valuemin=\"0\" aria-valuemax=\"100\">\n",
       "    79 / 79\n",
       "  </div>\n",
       "  <div class=\"progress-bar\" role=\"progressbar\" style=\"background-color: red; width: 0%\" aria-valuenow=\"0\" aria-valuemin=\"0\" aria-valuemax=\"100\"></div>\n",
       "</div>\n"
      ]
     },
     "metadata": {},
     "output_type": "display_data"
    },
    {
     "data": {
      "text/html": [
       "<div>\n",
       "  <span style=\"float: left;\">count at cmd4.sc:3</span>\n",
       "</div>\n"
      ]
     },
     "metadata": {},
     "output_type": "display_data"
    },
    {
     "data": {
      "text/html": [
       "<div class=\"progress\">\n",
       "  <div class=\"progress-bar\" role=\"progressbar\" style=\"background-color: blue; width: 100%; word-wrap: normal; white-space: nowrap; text-align: center; color: white\" aria-valuenow=\"100\" aria-valuemin=\"0\" aria-valuemax=\"100\">\n",
       "    64 / 64\n",
       "  </div>\n",
       "  <div class=\"progress-bar\" role=\"progressbar\" style=\"background-color: red; width: 0%\" aria-valuenow=\"0\" aria-valuemin=\"0\" aria-valuemax=\"100\"></div>\n",
       "</div>\n"
      ]
     },
     "metadata": {},
     "output_type": "display_data"
    },
    {
     "data": {
      "text/html": [
       "<div>\n",
       "  <span style=\"float: left;\">count at cmd4.sc:3</span>\n",
       "</div>\n"
      ]
     },
     "metadata": {},
     "output_type": "display_data"
    },
    {
     "data": {
      "text/html": [
       "<div class=\"progress\">\n",
       "  <div class=\"progress-bar\" role=\"progressbar\" style=\"background-color: blue; width: 100%; word-wrap: normal; white-space: nowrap; text-align: center; color: white\" aria-valuenow=\"100\" aria-valuemin=\"0\" aria-valuemax=\"100\">\n",
       "    64 / 64\n",
       "  </div>\n",
       "  <div class=\"progress-bar\" role=\"progressbar\" style=\"background-color: red; width: 0%\" aria-valuenow=\"0\" aria-valuemin=\"0\" aria-valuemax=\"100\"></div>\n",
       "</div>\n"
      ]
     },
     "metadata": {},
     "output_type": "display_data"
    },
    {
     "data": {
      "text/html": [
       "<div>\n",
       "  <span style=\"float: left;\">count at cmd4.sc:3</span>\n",
       "</div>\n"
      ]
     },
     "metadata": {},
     "output_type": "display_data"
    },
    {
     "data": {
      "text/html": [
       "<div class=\"progress\">\n",
       "  <div class=\"progress-bar\" role=\"progressbar\" style=\"background-color: blue; width: 100%; word-wrap: normal; white-space: nowrap; text-align: center; color: white\" aria-valuenow=\"100\" aria-valuemin=\"0\" aria-valuemax=\"100\">\n",
       "    1 / 1\n",
       "  </div>\n",
       "  <div class=\"progress-bar\" role=\"progressbar\" style=\"background-color: red; width: 0%\" aria-valuenow=\"0\" aria-valuemin=\"0\" aria-valuemax=\"100\"></div>\n",
       "</div>\n"
      ]
     },
     "metadata": {},
     "output_type": "display_data"
    },
    {
     "data": {
      "text/html": [
       "<div>\n",
       "  <span style=\"float: left;\">count at cmd4.sc:3</span>\n",
       "</div>\n"
      ]
     },
     "metadata": {},
     "output_type": "display_data"
    },
    {
     "data": {
      "text/html": [
       "<div class=\"progress\">\n",
       "  <div class=\"progress-bar\" role=\"progressbar\" style=\"background-color: blue; width: 100%; word-wrap: normal; white-space: nowrap; text-align: center; color: white\" aria-valuenow=\"100\" aria-valuemin=\"0\" aria-valuemax=\"100\">\n",
       "    79 / 79\n",
       "  </div>\n",
       "  <div class=\"progress-bar\" role=\"progressbar\" style=\"background-color: red; width: 0%\" aria-valuenow=\"0\" aria-valuemin=\"0\" aria-valuemax=\"100\"></div>\n",
       "</div>\n"
      ]
     },
     "metadata": {},
     "output_type": "display_data"
    },
    {
     "data": {
      "text/html": [
       "<div>\n",
       "  <span style=\"float: left;\">count at cmd4.sc:3</span>\n",
       "</div>\n"
      ]
     },
     "metadata": {},
     "output_type": "display_data"
    },
    {
     "data": {
      "text/html": [
       "<div class=\"progress\">\n",
       "  <div class=\"progress-bar\" role=\"progressbar\" style=\"background-color: blue; width: 100%; word-wrap: normal; white-space: nowrap; text-align: center; color: white\" aria-valuenow=\"100\" aria-valuemin=\"0\" aria-valuemax=\"100\">\n",
       "    64 / 64\n",
       "  </div>\n",
       "  <div class=\"progress-bar\" role=\"progressbar\" style=\"background-color: red; width: 0%\" aria-valuenow=\"0\" aria-valuemin=\"0\" aria-valuemax=\"100\"></div>\n",
       "</div>\n"
      ]
     },
     "metadata": {},
     "output_type": "display_data"
    },
    {
     "data": {
      "text/html": [
       "<div>\n",
       "  <span style=\"float: left;\">count at cmd4.sc:3</span>\n",
       "</div>\n"
      ]
     },
     "metadata": {},
     "output_type": "display_data"
    },
    {
     "data": {
      "text/html": [
       "<div class=\"progress\">\n",
       "  <div class=\"progress-bar\" role=\"progressbar\" style=\"background-color: blue; width: 100%; word-wrap: normal; white-space: nowrap; text-align: center; color: white\" aria-valuenow=\"100\" aria-valuemin=\"0\" aria-valuemax=\"100\">\n",
       "    64 / 64\n",
       "  </div>\n",
       "  <div class=\"progress-bar\" role=\"progressbar\" style=\"background-color: red; width: 0%\" aria-valuenow=\"0\" aria-valuemin=\"0\" aria-valuemax=\"100\"></div>\n",
       "</div>\n"
      ]
     },
     "metadata": {},
     "output_type": "display_data"
    },
    {
     "data": {
      "text/html": [
       "<div>\n",
       "  <span style=\"float: left;\">count at cmd4.sc:3</span>\n",
       "</div>\n"
      ]
     },
     "metadata": {},
     "output_type": "display_data"
    },
    {
     "data": {
      "text/html": [
       "<div class=\"progress\">\n",
       "  <div class=\"progress-bar\" role=\"progressbar\" style=\"background-color: blue; width: 100%; word-wrap: normal; white-space: nowrap; text-align: center; color: white\" aria-valuenow=\"100\" aria-valuemin=\"0\" aria-valuemax=\"100\">\n",
       "    1 / 1\n",
       "  </div>\n",
       "  <div class=\"progress-bar\" role=\"progressbar\" style=\"background-color: red; width: 0%\" aria-valuenow=\"0\" aria-valuemin=\"0\" aria-valuemax=\"100\"></div>\n",
       "</div>\n"
      ]
     },
     "metadata": {},
     "output_type": "display_data"
    },
    {
     "data": {
      "text/plain": [
       "defined \u001b[32mfunction\u001b[39m \u001b[36mcountByYear\u001b[39m\r\n",
       "\u001b[36myear2010\u001b[39m: \u001b[32mLong\u001b[39m = \u001b[32m0L\u001b[39m\r\n",
       "\u001b[36myear2011\u001b[39m: \u001b[32mLong\u001b[39m = \u001b[32m2L\u001b[39m\r\n",
       "\u001b[36myear2012\u001b[39m: \u001b[32mLong\u001b[39m = \u001b[32m0L\u001b[39m\r\n",
       "\u001b[36myear2013\u001b[39m: \u001b[32mLong\u001b[39m = \u001b[32m0L\u001b[39m\r\n",
       "\u001b[36myear2014\u001b[39m: \u001b[32mLong\u001b[39m = \u001b[32m0L\u001b[39m\r\n",
       "\u001b[36myear2015\u001b[39m: \u001b[32mLong\u001b[39m = \u001b[32m2L\u001b[39m\r\n",
       "\u001b[36myear2016\u001b[39m: \u001b[32mLong\u001b[39m = \u001b[32m1L\u001b[39m\r\n",
       "\u001b[36myear2017\u001b[39m: \u001b[32mLong\u001b[39m = \u001b[32m2L\u001b[39m\r\n",
       "\u001b[36myear2018\u001b[39m: \u001b[32mLong\u001b[39m = \u001b[32m0L\u001b[39m\r\n",
       "\u001b[36myear2019\u001b[39m: \u001b[32mLong\u001b[39m = \u001b[32m0L\u001b[39m\r\n",
       "\u001b[36myear2020\u001b[39m: \u001b[32mLong\u001b[39m = \u001b[32m1L\u001b[39m\r\n",
       "\u001b[36myear2021\u001b[39m: \u001b[32mLong\u001b[39m = \u001b[32m2L\u001b[39m\r\n",
       "\u001b[36myear2022\u001b[39m: \u001b[32mLong\u001b[39m = \u001b[32m2L\u001b[39m"
      ]
     },
     "execution_count": 5,
     "metadata": {},
     "output_type": "execute_result"
    }
   ],
   "source": [
    "def countByYear(year : Int) : Long = {\n",
    "    dataWindow\n",
    "        .filter($\"año\" === year)\n",
    "        .count()\n",
    "}\n",
    " \n",
    "val year2010 = countByYear(2010)\n",
    "val year2011 = countByYear(2011)\n",
    "val year2012 = countByYear(2012)\n",
    "val year2013 = countByYear(2013)\n",
    "val year2014 = countByYear(2014)\n",
    "val year2015 = countByYear(2015)\n",
    "val year2016 = countByYear(2016)\n",
    "val year2017 = countByYear(2017)\n",
    "val year2018 = countByYear(2018)\n",
    "val year2019 = countByYear(2019)\n",
    "val year2020 = countByYear(2020)\n",
    "val year2021 = countByYear(2021)\n",
    "val year2022 = countByYear(2022)"
   ]
  },
  {
   "cell_type": "code",
   "execution_count": 6,
   "id": "dd967857",
   "metadata": {},
   "outputs": [
    {
     "data": {
      "text/html": [
       "<div>\n",
       "  <span style=\"float: left;\">show at cmd5.sc:4</span>\n",
       "</div>\n"
      ]
     },
     "metadata": {},
     "output_type": "display_data"
    },
    {
     "data": {
      "text/html": [
       "<div class=\"progress\">\n",
       "  <div class=\"progress-bar\" role=\"progressbar\" style=\"background-color: blue; width: 100%; word-wrap: normal; white-space: nowrap; text-align: center; color: white\" aria-valuenow=\"100\" aria-valuemin=\"0\" aria-valuemax=\"100\">\n",
       "    79 / 79\n",
       "  </div>\n",
       "  <div class=\"progress-bar\" role=\"progressbar\" style=\"background-color: red; width: 0%\" aria-valuenow=\"0\" aria-valuemin=\"0\" aria-valuemax=\"100\"></div>\n",
       "</div>\n"
      ]
     },
     "metadata": {},
     "output_type": "display_data"
    },
    {
     "data": {
      "text/html": [
       "<div>\n",
       "  <span style=\"float: left;\">show at cmd5.sc:4</span>\n",
       "</div>\n"
      ]
     },
     "metadata": {},
     "output_type": "display_data"
    },
    {
     "data": {
      "text/html": [
       "<div class=\"progress\">\n",
       "  <div class=\"progress-bar\" role=\"progressbar\" style=\"background-color: blue; width: 100%; word-wrap: normal; white-space: nowrap; text-align: center; color: white\" aria-valuenow=\"100\" aria-valuemin=\"0\" aria-valuemax=\"100\">\n",
       "    64 / 64\n",
       "  </div>\n",
       "  <div class=\"progress-bar\" role=\"progressbar\" style=\"background-color: red; width: 0%\" aria-valuenow=\"0\" aria-valuemin=\"0\" aria-valuemax=\"100\"></div>\n",
       "</div>\n"
      ]
     },
     "metadata": {},
     "output_type": "display_data"
    },
    {
     "data": {
      "text/html": [
       "<div>\n",
       "  <span style=\"float: left;\">show at cmd5.sc:4</span>\n",
       "</div>\n"
      ]
     },
     "metadata": {},
     "output_type": "display_data"
    },
    {
     "data": {
      "text/html": [
       "<div class=\"progress\">\n",
       "  <div class=\"progress-bar\" role=\"progressbar\" style=\"background-color: blue; width: 100%; word-wrap: normal; white-space: nowrap; text-align: center; color: white\" aria-valuenow=\"100\" aria-valuemin=\"0\" aria-valuemax=\"100\">\n",
       "    64 / 64\n",
       "  </div>\n",
       "  <div class=\"progress-bar\" role=\"progressbar\" style=\"background-color: red; width: 0%\" aria-valuenow=\"0\" aria-valuemin=\"0\" aria-valuemax=\"100\"></div>\n",
       "</div>\n"
      ]
     },
     "metadata": {},
     "output_type": "display_data"
    },
    {
     "name": "stdout",
     "output_type": "stream",
     "text": [
      "+---+----+------------------+\n",
      "|mes| año|temperatura maxima|\n",
      "+---+----+------------------+\n",
      "|  1|2021|             21.84|\n",
      "|  2|2020|             24.42|\n",
      "|  3|2017|             27.82|\n",
      "|  4|2011|             29.48|\n",
      "|  5|2015|             33.73|\n",
      "|  6|2017|             36.86|\n",
      "|  7|2022|             39.47|\n",
      "|  8|2022|             37.74|\n",
      "|  9|2016|             36.39|\n",
      "| 10|2011|             31.52|\n",
      "| 11|2015|             25.38|\n",
      "| 12|2021|             22.29|\n",
      "+---+----+------------------+\n",
      "\n"
     ]
    },
    {
     "data": {
      "text/html": [
       "\n",
       "      <script type=\"text/javascript\">\n",
       "        require.config({\n",
       "  paths: {\n",
       "    d3: 'https://cdnjs.cloudflare.com/ajax/libs/d3/3.5.17/d3.min',\n",
       "    plotly: 'https://cdn.plot.ly/plotly-1.41.3.min',\n",
       "    jquery: 'https://code.jquery.com/jquery-3.3.1.min'\n",
       "  },\n",
       "\n",
       "  shim: {\n",
       "    plotly: {\n",
       "      deps: ['d3', 'jquery'],\n",
       "      exports: 'plotly'\n",
       "    }\n",
       "  }\n",
       "});\n",
       "        \n",
       "\n",
       "        require(['plotly'], function(Plotly) {\n",
       "          window.Plotly = Plotly;\n",
       "        });\n",
       "      </script>\n",
       "    "
      ]
     },
     "metadata": {},
     "output_type": "display_data"
    },
    {
     "data": {
      "application/vnd.plotly.v1+json": {
       "data": [
        {
         "marker": {
          "color": "rgb(255, 174, 0)",
          "line": {
           "color": "rgb(189, 129, 0)",
           "width": 1.5
          },
          "opacity": 0.6
         },
         "type": "bar",
         "x": [
          2010,
          2011,
          2012,
          2013,
          2014,
          2015,
          2016,
          2017,
          2018,
          2019,
          2020,
          2021,
          2022
         ],
         "y": [
          0,
          2,
          0,
          0,
          0,
          2,
          1,
          2,
          0,
          0,
          1,
          2,
          2
         ]
        }
       ],
       "layout": {}
      },
      "text/html": [
       "<div class=\"chart\" id=\"plot-3439a215-24ee-4e53-8faa-abf893a02457\"></div>\n",
       "<script>require(['plotly'], function(Plotly) {\n",
       "  (function () {\n",
       "  var data0 = {\"x\":[2010.0,2011.0,2012.0,2013.0,2014.0,2015.0,2016.0,2017.0,2018.0,2019.0,2020.0,2021.0,2022.0],\"y\":[0.0,2.0,0.0,0.0,0.0,2.0,1.0,2.0,0.0,0.0,1.0,2.0,2.0],\"marker\":{\"line\":{\"color\":\"rgb(189, 129, 0)\",\"width\":1.5},\"color\":\"rgb(255, 174, 0)\",\"opacity\":0.6},\"type\":\"bar\"};\n",
       "\n",
       "  var data = [data0];\n",
       "  var layout = {};\n",
       "\n",
       "  Plotly.plot('plot-3439a215-24ee-4e53-8faa-abf893a02457', data, layout);\n",
       "})();\n",
       "});\n",
       "      </script>\n",
       "           "
      ]
     },
     "metadata": {},
     "output_type": "display_data"
    },
    {
     "data": {
      "text/plain": [
       "\u001b[36mdataToPlot\u001b[39m: \u001b[32mSeq\u001b[39m[\u001b[32mBar\u001b[39m] = \u001b[33mList\u001b[39m(\n",
       "  \u001b[33mBar\u001b[39m(\n",
       "...\r\n",
       "\u001b[36mres5_2\u001b[39m: \u001b[32mString\u001b[39m = \u001b[32m\"plot-3439a215-24ee-4e53-8faa-abf893a02457\"\u001b[39m"
      ]
     },
     "execution_count": 6,
     "metadata": {},
     "output_type": "execute_result"
    }
   ],
   "source": [
    "dataWindow\n",
    "    .withColumn(\"temperatura maxima\", func.round($\"ta_max\", 2))\n",
    "    .orderBy($\"mes\".asc)\n",
    "    .select($\"mes\", $\"año\", $\"temperatura maxima\")\n",
    "    .show()\n",
    "\n",
    "val dataToPlot = Seq(\n",
    "  Bar(\n",
    "    Seq(2010, 2011, 2012, 2013, 2014, 2015, 2016, 2017, 2018, 2019, 2020, 2021, 2022),\n",
    "    Seq(year2010, year2011, year2012, year2013, year2014, year2015, year2016, \n",
    "        year2017, year2018, year2019, year2020, year2021, year2022),\n",
    "    marker = Marker(\n",
    "        color = Color.RGB(255, 174, 0),\n",
    "        opacity = 0.6,\n",
    "        line = Line(\n",
    "            color = Color.RGB(189, 129, 0),\n",
    "              width = 1.5\n",
    "        )\n",
    "    )\n",
    "  )\n",
    ")\n",
    "\n",
    "plot(dataToPlot)"
   ]
  },
  {
   "cell_type": "markdown",
   "id": "444cf0fe",
   "metadata": {},
   "source": [
    "### Años/meses con olas de calor (30º durante >= 3 dias) Utilizando datos mensuales"
   ]
  },
  {
   "cell_type": "code",
   "execution_count": null,
   "id": "15d4c810",
   "metadata": {},
   "outputs": [],
   "source": [
    "import $ivy.`org.plotly-scala::plotly-almond:0.7.0`\n",
    "import plotly._, plotly.element._, plotly.layout._, plotly.Almond._\n",
    "\n",
    "// restrict the output height to avoid scrolling in output cells\n",
    "repl.pprinter() = repl.pprinter().copy(defaultHeight = 3)"
   ]
  },
  {
   "cell_type": "code",
   "execution_count": null,
   "id": "bfc3c712",
   "metadata": {},
   "outputs": [],
   "source": [
    "val data = spark.read.parquet(\"D:/TFGAlvaroSanchez/data/monthParquet/*\").na.drop()"
   ]
  },
  {
   "cell_type": "code",
   "execution_count": null,
   "id": "0849f5cb",
   "metadata": {},
   "outputs": [],
   "source": [
    "val groupData = data\n",
    "    .filter($\"nt_30\" >= 3)\n",
    "    .withColumn(\"año\", func.year($\"fecha\"))\n",
    "    .withColumn(\"ta_max\", func.split($\"ta_max\", \"\\\\(\")(0).cast(IntegerType))\n",
    "    .groupBy($\"año\")\n",
    "    .agg(func.avg($\"nt_30\").alias(\"nt_30\"), func.avg($\"ta_max\").alias(\"ta_max\"))\n",
    "    .select($\"año\", func.round($\"nt_30\", 2) as \"dias al mes con >=30º\", func.round($\"ta_max\", 2) as \"temperatura media max\")\n",
    "    .orderBy($\"año\")\n",
    "\n",
    "groupData.show()"
   ]
  },
  {
   "cell_type": "code",
   "execution_count": null,
   "id": "96579a90",
   "metadata": {},
   "outputs": [],
   "source": [
    "val SeqYears = groupData.map(row => row.getInt(0)).collect().toSeq\n",
    "val SeqDays = groupData.map(row => row.getDouble(1)).collect().toSeq\n",
    "val SeqTemperature = groupData.map(row => row.getDouble(2).toInt).collect().toSeq"
   ]
  },
  {
   "cell_type": "code",
   "execution_count": null,
   "id": "60e77a72",
   "metadata": {},
   "outputs": [],
   "source": [
    "val dataToPlot = Scatter(\n",
    "    SeqYears,\n",
    "    SeqDays,\n",
    "    mode = ScatterMode(ScatterMode.Markers),\n",
    "    marker = Marker(\n",
    "        color = Seq(Color.RGB(251, 212, 68), Color.RGB(255, 223, 106), Color.RGB(251, 212, 68), Color.RGB(255, 223, 106),\n",
    "                    Color.RGB(251, 212, 68), Color.RGB(251, 212, 68), Color.RGB(220, 170, 1), Color.RGB(251, 212, 68), \n",
    "                    Color.RGB(251, 212, 68), Color.RGB(220, 170, 1), Color.RGB(251, 212, 68), Color.RGB(220, 170, 1),\n",
    "                    Color.RGB(220, 143, 1)),\n",
    "        size = SeqTemperature\n",
    "    )\n",
    ")\n",
    "\n",
    "val aux = Seq(dataToPlot)\n",
    "plot(aux)"
   ]
  },
  {
   "cell_type": "markdown",
   "id": "54964ddc",
   "metadata": {},
   "source": [
    "### Temperatura media por año y su relacion con las lluvias por año"
   ]
  },
  {
   "cell_type": "code",
   "execution_count": null,
   "id": "62154f2f",
   "metadata": {},
   "outputs": [],
   "source": [
    "import $ivy.`org.plotly-scala::plotly-almond:0.7.0`\n",
    "import plotly._, plotly.element._, plotly.layout._, plotly.Almond._\n",
    "\n",
    "// restrict the output height to avoid scrolling in output cells\n",
    "repl.pprinter() = repl.pprinter().copy(defaultHeight = 3)"
   ]
  },
  {
   "cell_type": "code",
   "execution_count": null,
   "id": "0ff5687d",
   "metadata": {},
   "outputs": [],
   "source": [
    "val data = spark.read.parquet(\"D:/TFGAlvaroSanchez/data/monthParquet/*\").na.drop()"
   ]
  },
  {
   "cell_type": "code",
   "execution_count": null,
   "id": "a5db09d4",
   "metadata": {},
   "outputs": [],
   "source": [
    "val groupData = data\n",
    "    .withColumn(\"año\", func.year($\"fecha\"))\n",
    "    .groupBy($\"año\")\n",
    "    .agg(func.avg($\"tm_mes\").alias(\"tm_mes\"), func.avg($\"p_mes\").alias(\"p_mes\"))\n",
    "    .orderBy($\"año\")"
   ]
  },
  {
   "cell_type": "code",
   "execution_count": null,
   "id": "0566a939",
   "metadata": {},
   "outputs": [],
   "source": [
    "groupData.first().fieldIndex(\"año\")\n",
    "groupData.first().fieldIndex(\"tm_mes\")\n",
    "groupData.first().fieldIndex(\"p_mes\")"
   ]
  },
  {
   "cell_type": "code",
   "execution_count": null,
   "id": "673acd92",
   "metadata": {},
   "outputs": [],
   "source": [
    "val SeqYears = groupData.map(row => row.getInt(0)).collect().toSeq\n",
    "val SeqTemperature = groupData.map(row => row.getDouble(1)).collect().toSeq\n",
    "val SeqPrecipitation = groupData.map(row => row.getDouble(2)).collect().toSeq"
   ]
  },
  {
   "cell_type": "code",
   "execution_count": null,
   "id": "0ff9a4bd",
   "metadata": {},
   "outputs": [],
   "source": [
    "val dataTemperature = Scatter(\n",
    "    SeqYears,\n",
    "    SeqTemperature,\n",
    "    name = \"Temperatura media (ºC)\",\n",
    "    marker = Marker(\n",
    "        color = Color.RGB(247, 112, 0)\n",
    "    )\n",
    ")\n",
    "\n",
    "val dataPrecipitation = Scatter(\n",
    "    SeqYears,\n",
    "    SeqPrecipitation,\n",
    "    name = \"Precipitacion media (mm)\",\n",
    "    marker = Marker(\n",
    "        color = Color.RGB(0, 187, 247)\n",
    "    )\n",
    ")\n",
    "\n",
    "val layout1 = Layout(\n",
    "    title = \"Precipitacion y temperatura media anual\"\n",
    ")\n",
    "\n",
    "val layout2 = Layout(\n",
    "    title = \"Temperatura media anual\"\n",
    ")\n",
    "\n",
    "val dataToPlot = Seq(dataTemperature, dataPrecipitation)\n",
    "plot(dataToPlot, layout1)\n",
    "\n",
    "plot(Seq(dataTemperature), layout2)"
   ]
  },
  {
   "cell_type": "markdown",
   "id": "4a1afe35",
   "metadata": {},
   "source": [
    "### Lectura de datos por dias y transformacion a Parquet"
   ]
  },
  {
   "cell_type": "code",
   "execution_count": null,
   "id": "c6e311ff",
   "metadata": {},
   "outputs": [],
   "source": [
    "val schema = StructType(\n",
    "    Array(\n",
    "        StructField(\"fecha\", StringType, true), \n",
    "        StructField(\"indicativo\", StringType, true),\n",
    "        StructField(\"nombre\", StringType, true),\n",
    "        StructField(\"provincia\", StringType, true),\n",
    "        StructField(\"altitud\", StringType, true),\n",
    "        StructField(\"tmed\", StringType, true),\n",
    "        StructField(\"prec\", StringType, true),\n",
    "        StructField(\"tmin\", StringType, true),\n",
    "        StructField(\"horatmin\", StringType, true),\n",
    "        StructField(\"tmax\", StringType, true),\n",
    "        StructField(\"horatmax\", StringType, true),\n",
    "        StructField(\"dir\", StringType, true),\n",
    "        StructField(\"velmedia\", StringType, true),\n",
    "        StructField(\"racha\", StringType, true),\n",
    "        StructField(\"horaracha\", StringType, true),\n",
    "        StructField(\"sol\", StringType, true),\n",
    "        StructField(\"presMax\", StringType, true),\n",
    "        StructField(\"horaPresMax\", StringType, true),\n",
    "        StructField(\"presMin\", StringType, true),\n",
    "        StructField(\"horaPresMin\", StringType, true)\n",
    "    )\n",
    ")"
   ]
  },
  {
   "cell_type": "code",
   "execution_count": null,
   "id": "5d5d9864",
   "metadata": {},
   "outputs": [],
   "source": [
    "val allData = spark.read.schema(schema).json(\"D:/TFGAlvaroSanchez/data/dayJSONLine/*.json\")\n",
    "    .withColumn(\"fecha\", $\"fecha\".cast(DateType))\n",
    "    .withColumn(\"altitud\", $\"altitud\".cast(IntegerType))\n",
    "    .withColumn(\"tmed\", func.regexp_replace($\"tmed\", \",\", \".\").cast(DoubleType))\n",
    "    .withColumn(\"prec\", func.regexp_replace($\"prec\", \",\", \".\").cast(DoubleType))\n",
    "    .withColumn(\"tmin\", func.regexp_replace($\"tmin\", \",\", \".\").cast(DoubleType))\n",
    "    .withColumn(\"tmax\", func.regexp_replace($\"tmax\", \",\", \".\").cast(DoubleType))\n",
    "    .withColumn(\"dir\", $\"dir\".cast(IntegerType))\n",
    "    .withColumn(\"velmedia\", func.regexp_replace($\"velmedia\", \",\", \".\").cast(DoubleType))\n",
    "    .withColumn(\"racha\", func.regexp_replace($\"racha\", \",\", \".\").cast(DoubleType))\n",
    "    .withColumn(\"sol\", func.regexp_replace($\"sol\", \",\", \".\").cast(DoubleType))\n",
    "    .withColumn(\"presMax\", func.regexp_replace($\"presMax\", \",\", \".\").cast(DoubleType))\n",
    "    .withColumn(\"horaPresMax\", $\"horaPresMax\".cast(IntegerType))\n",
    "    .withColumn(\"presMin\", func.regexp_replace($\"presMin\", \",\", \".\").cast(DoubleType))\n",
    "    .withColumn(\"horaPresMin\", $\"horaPresmin\".cast(IntegerType))"
   ]
  },
  {
   "cell_type": "code",
   "execution_count": null,
   "id": "950333a4",
   "metadata": {},
   "outputs": [],
   "source": [
    "allData.write.format(\"parquet\").partitionBy(\"indicativo\").mode(\"overwrite\").save(\"D:/TFGAlvaroSanchez/data/dayParquet/\")"
   ]
  },
  {
   "cell_type": "markdown",
   "id": "3345f4b9",
   "metadata": {},
   "source": [
    "### Años con olas de calor Utilizando datos diarios"
   ]
  },
  {
   "cell_type": "code",
   "execution_count": null,
   "id": "e4c90880",
   "metadata": {},
   "outputs": [],
   "source": [
    "val data = spark.read.parquet(\"D:/TFGAlvaroSanchez/data/dayParquet/\")\n",
    "val stations = spark.read.option(\"delimiter\", \";\").csv(\"D:/TFGAlvaroSanchez/data/aemetID.csv\")\n",
    "    .toDF(\"provincia\", \"indicativo\", \"ubicacion\")"
   ]
  },
  {
   "cell_type": "code",
   "execution_count": null,
   "id": "6a3f9f90",
   "metadata": {},
   "outputs": [],
   "source": [
    "import org.apache.spark.sql.expressions.Window\n",
    "\n",
    "val window = Window.partitionBy($\"indicativo\", $\"año\").orderBy($\"fecha\")"
   ]
  },
  {
   "cell_type": "code",
   "execution_count": null,
   "id": "7ea4dc8a",
   "metadata": {},
   "outputs": [],
   "source": [
    "val auxData = data\n",
    "    .filter(!func.isnull($\"tmax\"))\n",
    "    .withColumn(\"año\", func.year($\"fecha\"))\n",
    "    .withColumn(\"lag\", func.lag($\"tmax\", 1).over(window))\n",
    "    .withColumn(\"start\", $\"tmax\" >= 40 && $\"lag\" < 40)\n",
    "    .select($\"indicativo\", $\"fecha\", $\"año\", $\"tmax\", $\"start\")"
   ]
  },
  {
   "cell_type": "code",
   "execution_count": null,
   "id": "dc948ef0",
   "metadata": {},
   "outputs": [],
   "source": [
    "val secuenceData = auxData\n",
    "    .withColumn(\"id\", func.sum(func.when($\"start\", 1).otherwise(null)).over(window))\n",
    "    .withColumn(\"id\", func.when($\"tmax\" < 40, null).otherwise($\"id\"))\n",
    "    .filter(!func.isnull($\"id\"))\n",
    "    .select($\"indicativo\", $\"fecha\", $\"año\", $\"tmax\", $\"id\")\n",
    "\n",
    "secuenceData.show()"
   ]
  },
  {
   "cell_type": "code",
   "execution_count": null,
   "id": "773a494f",
   "metadata": {},
   "outputs": [],
   "source": [
    "val results = secuenceData\n",
    "    .groupBy($\"indicativo\", $\"año\", $\"id\")\n",
    "    .agg(func.count($\"id\").alias(\"dias\"), func.avg($\"tmax\"), func.max($\"tmax\"), func.min($\"tmax\"))\n",
    "    .filter($\"dias\" > 3)\n",
    "    .join(stations, \"indicativo\")\n",
    "    .select($\"ubicacion\", $\"provincia\", $\"año\", $\"dias\", func.round($\"avg(tmax)\", 2).alias(\"avg(tmax)\"), \n",
    "            $\"max(tmax)\", $\"min(tmax)\")"
   ]
  },
  {
   "cell_type": "code",
   "execution_count": null,
   "id": "c62e5870",
   "metadata": {},
   "outputs": [],
   "source": [
    "results\n",
    "    .orderBy($\"ubicacion\", $\"año\")\n",
    "    .show()"
   ]
  },
  {
   "cell_type": "code",
   "execution_count": null,
   "id": "5e3d8801",
   "metadata": {},
   "outputs": [],
   "source": [
    "results\n",
    "    .groupBy($\"provincia\", $\"año\")\n",
    "    .agg(func.count($\"provincia\"), func.avg($\"dias\"), func.avg($\"avg(tmax)\"), func.max($\"max(tmax)\"), func.min($\"min(tmax)\"))\n",
    "    .select($\"provincia\", $\"año\", $\"count(provincia)\".alias(\"nº de olas de calor\"), \n",
    "            $\"avg(dias)\".alias(\"duracion media\"), $\"avg(avg(tmax))\".alias(\"avg(tmax)\"), \n",
    "            $\"max(max(tmax))\".alias(\"max(tmax)\"), $\"min(min(tmax))\".alias(\"min(tmax)\"))\n",
    "    .orderBy($\"provincia\", $\"año\".asc)\n",
    "    .show()"
   ]
  },
  {
   "cell_type": "code",
   "execution_count": null,
   "id": "d463b082",
   "metadata": {},
   "outputs": [],
   "source": [
    "results\n",
    "    .groupBy($\"año\")\n",
    "    .agg(func.count($\"año\"))\n",
    "    .orderBy($\"año\")\n",
    "    .show()"
   ]
  },
  {
   "cell_type": "code",
   "execution_count": null,
   "id": "252a0bfd",
   "metadata": {},
   "outputs": [],
   "source": [
    "val auxResults = results\n",
    "    .groupBy($\"provincia\")\n",
    "    .agg(func.count($\"provincia\").alias(\"nº olas de calor\"))\n",
    "\n",
    "val totalOlas = auxResults\n",
    "    .agg(func.sum($\"nº olas de calor\"))\n",
    "    .first().getLong(0)\n",
    "\n",
    "\n",
    "auxResults\n",
    "    .withColumn(\"% olas de calor\", func.round($\"nº olas de calor\" / totalOlas * 100, 2))\n",
    "    .orderBy($\"provincia\")\n",
    "    .show()"
   ]
  },
  {
   "cell_type": "markdown",
   "id": "c39792b0",
   "metadata": {},
   "source": [
    "### Años con olas de calor Utilizando datos diarios (haciendo uso de row number)"
   ]
  },
  {
   "cell_type": "code",
   "execution_count": 2,
   "id": "f0f3989e",
   "metadata": {},
   "outputs": [
    {
     "data": {
      "text/html": [
       "<script>\n",
       "var comm = Jupyter.notebook.kernel.comm_manager.new_comm('cancel-stage-d23ced60-e38e-4921-af4c-21db08c49008', {});\n",
       "\n",
       "function cancelStage(stageId) {\n",
       "  console.log('Cancelling stage ' + stageId);\n",
       "  comm.send({ 'stageId': stageId });\n",
       "}\n",
       "</script>\n",
       "          "
      ]
     },
     "metadata": {},
     "output_type": "display_data"
    },
    {
     "data": {
      "text/html": [
       "<div>\n",
       "  <span style=\"float: left;\">parquet at cmd1.sc:1</span>\n",
       "</div>\n"
      ]
     },
     "metadata": {},
     "output_type": "display_data"
    },
    {
     "data": {
      "text/html": [
       "<div class=\"progress\">\n",
       "  <div class=\"progress-bar\" role=\"progressbar\" style=\"background-color: blue; width: 100%; word-wrap: normal; white-space: nowrap; text-align: center; color: white\" aria-valuenow=\"100\" aria-valuemin=\"0\" aria-valuemax=\"100\">\n",
       "    272 / 272\n",
       "  </div>\n",
       "  <div class=\"progress-bar\" role=\"progressbar\" style=\"background-color: red; width: 0%\" aria-valuenow=\"0\" aria-valuemin=\"0\" aria-valuemax=\"100\"></div>\n",
       "</div>\n"
      ]
     },
     "metadata": {},
     "output_type": "display_data"
    },
    {
     "data": {
      "text/html": [
       "<div>\n",
       "  <span style=\"float: left;\">parquet at cmd1.sc:1</span>\n",
       "</div>\n"
      ]
     },
     "metadata": {},
     "output_type": "display_data"
    },
    {
     "data": {
      "text/html": [
       "<div class=\"progress\">\n",
       "  <div class=\"progress-bar\" role=\"progressbar\" style=\"background-color: blue; width: 100%; word-wrap: normal; white-space: nowrap; text-align: center; color: white\" aria-valuenow=\"100\" aria-valuemin=\"0\" aria-valuemax=\"100\">\n",
       "    1 / 1\n",
       "  </div>\n",
       "  <div class=\"progress-bar\" role=\"progressbar\" style=\"background-color: red; width: 0%\" aria-valuenow=\"0\" aria-valuemin=\"0\" aria-valuemax=\"100\"></div>\n",
       "</div>\n"
      ]
     },
     "metadata": {},
     "output_type": "display_data"
    },
    {
     "data": {
      "text/html": [
       "<div>\n",
       "  <span style=\"float: left;\">csv at cmd1.sc:2</span>\n",
       "</div>\n"
      ]
     },
     "metadata": {},
     "output_type": "display_data"
    },
    {
     "data": {
      "text/html": [
       "<div class=\"progress\">\n",
       "  <div class=\"progress-bar\" role=\"progressbar\" style=\"background-color: blue; width: 100%; word-wrap: normal; white-space: nowrap; text-align: center; color: white\" aria-valuenow=\"100\" aria-valuemin=\"0\" aria-valuemax=\"100\">\n",
       "    1 / 1\n",
       "  </div>\n",
       "  <div class=\"progress-bar\" role=\"progressbar\" style=\"background-color: red; width: 0%\" aria-valuenow=\"0\" aria-valuemin=\"0\" aria-valuemax=\"100\"></div>\n",
       "</div>\n"
      ]
     },
     "metadata": {},
     "output_type": "display_data"
    },
    {
     "data": {
      "text/plain": [
       "\u001b[36mdata\u001b[39m: \u001b[32mDataFrame\u001b[39m = [fecha: date, nombre: string ... 18 more fields]\r\n",
       "\u001b[36mstations\u001b[39m: \u001b[32mDataFrame\u001b[39m = [provincia: string, indicativo: string ... 1 more field]"
      ]
     },
     "execution_count": 2,
     "metadata": {},
     "output_type": "execute_result"
    }
   ],
   "source": [
    "val data = spark.read.parquet(\"D:/TFGAlvaroSanchez/data/dayParquet/\")\n",
    "val stations = spark.read.option(\"delimiter\", \";\").csv(\"D:/TFGAlvaroSanchez/data/aemetID.csv\")\n",
    "    .toDF(\"provincia\", \"indicativo\", \"ubicacion\")"
   ]
  },
  {
   "cell_type": "code",
   "execution_count": 3,
   "id": "6cb567ee",
   "metadata": {},
   "outputs": [
    {
     "data": {
      "text/plain": [
       "\u001b[32mimport \u001b[39m\u001b[36morg.apache.spark.sql.expressions.Window\n",
       "\n",
       "\u001b[39m\r\n",
       "\u001b[36mwindow\u001b[39m: \u001b[32mexpressions\u001b[39m.\u001b[32mWindowSpec\u001b[39m = org.apache.spark.sql.expressions.WindowSpec@5d7a2e7d"
      ]
     },
     "execution_count": 3,
     "metadata": {},
     "output_type": "execute_result"
    }
   ],
   "source": [
    "import org.apache.spark.sql.expressions.Window\n",
    "\n",
    "val window = Window.partitionBy($\"indicativo\", $\"año\").orderBy($\"fecha\")"
   ]
  },
  {
   "cell_type": "code",
   "execution_count": 4,
   "id": "d2fc4cfb",
   "metadata": {},
   "outputs": [
    {
     "data": {
      "text/plain": [
       "\u001b[36msecuenceData\u001b[39m: \u001b[32mDataFrame\u001b[39m = [indicativo: string, fecha: date ... 3 more fields]"
      ]
     },
     "execution_count": 4,
     "metadata": {},
     "output_type": "execute_result"
    }
   ],
   "source": [
    "val secuenceData = data\n",
    "    .filter(!func.isnull($\"tmax\") && $\"tmax\" >= 40)\n",
    "    .withColumn(\"año\", func.year($\"fecha\"))\n",
    "    .withColumn(\"row_number\", func.row_number().over(window))\n",
    "    .withColumn(\"id\", func.expr(\"date_sub(fecha, row_number)\"))\n",
    "    .select($\"indicativo\", $\"fecha\", $\"año\", $\"tmax\", $\"id\")"
   ]
  },
  {
   "cell_type": "code",
   "execution_count": 5,
   "id": "033a8421",
   "metadata": {},
   "outputs": [
    {
     "data": {
      "text/plain": [
       "\u001b[36mresults\u001b[39m: \u001b[32mDataFrame\u001b[39m = [ubicacion: string, provincia: string ... 5 more fields]"
      ]
     },
     "execution_count": 5,
     "metadata": {},
     "output_type": "execute_result"
    }
   ],
   "source": [
    "val results = secuenceData\n",
    "    .groupBy($\"indicativo\", $\"año\", $\"id\")\n",
    "    .agg(func.count($\"id\").alias(\"dias\"), func.avg($\"tmax\"), func.max($\"tmax\"), func.min($\"tmax\"))\n",
    "    .filter($\"dias\" > 3)\n",
    "    .join(stations, \"indicativo\")\n",
    "    .select($\"ubicacion\", $\"provincia\", $\"año\", $\"dias\", func.round($\"avg(tmax)\", 2).alias(\"avg(tmax)\"), \n",
    "            $\"max(tmax)\", $\"min(tmax)\")"
   ]
  },
  {
   "cell_type": "code",
   "execution_count": 6,
   "id": "88e8e6c8",
   "metadata": {
    "scrolled": false
   },
   "outputs": [
    {
     "data": {
      "text/html": [
       "<div>\n",
       "  <span style=\"float: left;\">run at ThreadPoolExecutor.java:1128</span>\n",
       "</div>\n"
      ]
     },
     "metadata": {},
     "output_type": "display_data"
    },
    {
     "data": {
      "text/html": [
       "<div class=\"progress\">\n",
       "  <div class=\"progress-bar\" role=\"progressbar\" style=\"background-color: blue; width: 100%; word-wrap: normal; white-space: nowrap; text-align: center; color: white\" aria-valuenow=\"100\" aria-valuemin=\"0\" aria-valuemax=\"100\">\n",
       "    1 / 1\n",
       "  </div>\n",
       "  <div class=\"progress-bar\" role=\"progressbar\" style=\"background-color: red; width: 0%\" aria-valuenow=\"0\" aria-valuemin=\"0\" aria-valuemax=\"100\"></div>\n",
       "</div>\n"
      ]
     },
     "metadata": {},
     "output_type": "display_data"
    },
    {
     "data": {
      "text/html": [
       "<div>\n",
       "  <span style=\"float: left;\">show at cmd5.sc:2</span>\n",
       "</div>\n"
      ]
     },
     "metadata": {},
     "output_type": "display_data"
    },
    {
     "data": {
      "text/html": [
       "<div class=\"progress\">\n",
       "  <div class=\"progress-bar\" role=\"progressbar\" style=\"background-color: blue; width: 100%; word-wrap: normal; white-space: nowrap; text-align: center; color: white\" aria-valuenow=\"100\" aria-valuemin=\"0\" aria-valuemax=\"100\">\n",
       "    90 / 90\n",
       "  </div>\n",
       "  <div class=\"progress-bar\" role=\"progressbar\" style=\"background-color: red; width: 0%\" aria-valuenow=\"0\" aria-valuemin=\"0\" aria-valuemax=\"100\"></div>\n",
       "</div>\n"
      ]
     },
     "metadata": {},
     "output_type": "display_data"
    },
    {
     "data": {
      "text/html": [
       "<div>\n",
       "  <span style=\"float: left;\">show at cmd5.sc:2</span>\n",
       "</div>\n"
      ]
     },
     "metadata": {},
     "output_type": "display_data"
    },
    {
     "data": {
      "text/html": [
       "<div class=\"progress\">\n",
       "  <div class=\"progress-bar\" role=\"progressbar\" style=\"background-color: blue; width: 100%; word-wrap: normal; white-space: nowrap; text-align: center; color: white\" aria-valuenow=\"100\" aria-valuemin=\"0\" aria-valuemax=\"100\">\n",
       "    64 / 64\n",
       "  </div>\n",
       "  <div class=\"progress-bar\" role=\"progressbar\" style=\"background-color: red; width: 0%\" aria-valuenow=\"0\" aria-valuemin=\"0\" aria-valuemax=\"100\"></div>\n",
       "</div>\n"
      ]
     },
     "metadata": {},
     "output_type": "display_data"
    },
    {
     "name": "stdout",
     "output_type": "stream",
     "text": [
      "+---------+---------+----+----+---------+---------+---------+\n",
      "|ubicacion|provincia| año|dias|avg(tmax)|max(tmax)|min(tmax)|\n",
      "+---------+---------+----+----+---------+---------+---------+\n",
      "|   Alajar|   Huelva|2018|   4|    41.65|     42.5|     40.7|\n",
      "|  Alcaniz|   Teruel|2019|   4|    40.95|     41.2|     40.8|\n",
      "|  Andujar|     Jaen|2008|   5|    41.32|     42.7|     40.6|\n",
      "|  Andujar|     Jaen|2009|   6|    41.82|     42.6|     40.5|\n",
      "|  Andujar|     Jaen|2009|   4|     41.5|     42.7|     40.4|\n",
      "|  Andujar|     Jaen|2010|   4|    42.35|     43.8|     41.1|\n",
      "|  Andujar|     Jaen|2010|   4|    42.35|     43.1|     40.9|\n",
      "|  Andujar|     Jaen|2010|   7|    41.39|     42.7|     40.4|\n",
      "|  Andujar|     Jaen|2012|   4|    41.78|     42.3|     40.6|\n",
      "|  Andujar|     Jaen|2015|   4|    42.38|     43.6|     40.8|\n",
      "|  Andujar|     Jaen|2015|   6|    41.92|     44.2|     40.0|\n",
      "|  Andujar|     Jaen|2015|   6|     41.5|     42.9|     40.0|\n",
      "|  Andujar|     Jaen|2016|   4|    40.88|     41.2|     40.6|\n",
      "|  Andujar|     Jaen|2017|   8|    41.98|     44.1|     40.0|\n",
      "|  Andujar|     Jaen|2017|   4|    41.33|     42.3|     40.5|\n",
      "|  Andujar|     Jaen|2017|   4|    42.22|     44.5|     40.7|\n",
      "|  Andujar|     Jaen|2017|   4|    43.53|     45.5|     41.0|\n",
      "|  Andujar|     Jaen|2018|   4|    43.48|     45.0|     41.9|\n",
      "|  Andujar|     Jaen|2019|   5|    41.82|     42.4|     40.7|\n",
      "|  Andujar|     Jaen|2020|   4|    41.13|     42.3|     40.0|\n",
      "+---------+---------+----+----+---------+---------+---------+\n",
      "only showing top 20 rows\n",
      "\n"
     ]
    }
   ],
   "source": [
    "results\n",
    "    .orderBy($\"ubicacion\", $\"año\")\n",
    "    .show()"
   ]
  },
  {
   "cell_type": "code",
   "execution_count": 7,
   "id": "632bc0bf",
   "metadata": {},
   "outputs": [
    {
     "data": {
      "text/html": [
       "<div>\n",
       "  <span style=\"float: left;\">run at ThreadPoolExecutor.java:1128</span>\n",
       "</div>\n"
      ]
     },
     "metadata": {},
     "output_type": "display_data"
    },
    {
     "data": {
      "text/html": [
       "<div class=\"progress\">\n",
       "  <div class=\"progress-bar\" role=\"progressbar\" style=\"background-color: blue; width: 100%; word-wrap: normal; white-space: nowrap; text-align: center; color: white\" aria-valuenow=\"100\" aria-valuemin=\"0\" aria-valuemax=\"100\">\n",
       "    1 / 1\n",
       "  </div>\n",
       "  <div class=\"progress-bar\" role=\"progressbar\" style=\"background-color: red; width: 0%\" aria-valuenow=\"0\" aria-valuemin=\"0\" aria-valuemax=\"100\"></div>\n",
       "</div>\n"
      ]
     },
     "metadata": {},
     "output_type": "display_data"
    },
    {
     "data": {
      "text/html": [
       "<div>\n",
       "  <span style=\"float: left;\">show at cmd6.sc:9</span>\n",
       "</div>\n"
      ]
     },
     "metadata": {},
     "output_type": "display_data"
    },
    {
     "data": {
      "text/html": [
       "<div class=\"progress\">\n",
       "  <div class=\"progress-bar\" role=\"progressbar\" style=\"background-color: blue; width: 100%; word-wrap: normal; white-space: nowrap; text-align: center; color: white\" aria-valuenow=\"100\" aria-valuemin=\"0\" aria-valuemax=\"100\">\n",
       "    90 / 90\n",
       "  </div>\n",
       "  <div class=\"progress-bar\" role=\"progressbar\" style=\"background-color: red; width: 0%\" aria-valuenow=\"0\" aria-valuemin=\"0\" aria-valuemax=\"100\"></div>\n",
       "</div>\n"
      ]
     },
     "metadata": {},
     "output_type": "display_data"
    },
    {
     "data": {
      "text/html": [
       "<div>\n",
       "  <span style=\"float: left;\">show at cmd6.sc:9</span>\n",
       "</div>\n"
      ]
     },
     "metadata": {},
     "output_type": "display_data"
    },
    {
     "data": {
      "text/html": [
       "<div class=\"progress\">\n",
       "  <div class=\"progress-bar\" role=\"progressbar\" style=\"background-color: blue; width: 100%; word-wrap: normal; white-space: nowrap; text-align: center; color: white\" aria-valuenow=\"100\" aria-valuemin=\"0\" aria-valuemax=\"100\">\n",
       "    64 / 64\n",
       "  </div>\n",
       "  <div class=\"progress-bar\" role=\"progressbar\" style=\"background-color: red; width: 0%\" aria-valuenow=\"0\" aria-valuemin=\"0\" aria-valuemax=\"100\"></div>\n",
       "</div>\n"
      ]
     },
     "metadata": {},
     "output_type": "display_data"
    },
    {
     "data": {
      "text/html": [
       "<div>\n",
       "  <span style=\"float: left;\">show at cmd6.sc:9</span>\n",
       "</div>\n"
      ]
     },
     "metadata": {},
     "output_type": "display_data"
    },
    {
     "data": {
      "text/html": [
       "<div class=\"progress\">\n",
       "  <div class=\"progress-bar\" role=\"progressbar\" style=\"background-color: blue; width: 100%; word-wrap: normal; white-space: nowrap; text-align: center; color: white\" aria-valuenow=\"100\" aria-valuemin=\"0\" aria-valuemax=\"100\">\n",
       "    64 / 64\n",
       "  </div>\n",
       "  <div class=\"progress-bar\" role=\"progressbar\" style=\"background-color: red; width: 0%\" aria-valuenow=\"0\" aria-valuemin=\"0\" aria-valuemax=\"100\"></div>\n",
       "</div>\n"
      ]
     },
     "metadata": {},
     "output_type": "display_data"
    },
    {
     "name": "stdout",
     "output_type": "stream",
     "text": [
      "+-----------+----+-------------------+-----------------+------------------+---------+---------+\n",
      "|  provincia| año|nº de olas de calor|   duracion media|         avg(tmax)|max(tmax)|min(tmax)|\n",
      "+-----------+----+-------------------+-----------------+------------------+---------+---------+\n",
      "|    Badajoz|2012|                  1|              4.0|             41.45|     42.4|     40.3|\n",
      "|    Badajoz|2013|                  1|              5.0|             40.38|     40.8|     40.0|\n",
      "|    Badajoz|2016|                  1|              4.0|             40.75|     41.7|     40.3|\n",
      "|    Badajoz|2017|                  6|4.666666666666667|42.041666666666664|     45.4|     40.0|\n",
      "|    Badajoz|2018|                  6|5.666666666666667|            42.385|     44.7|     40.1|\n",
      "|    Badajoz|2022|                 15|6.533333333333333|41.443333333333335|     44.8|     40.0|\n",
      "|    Caceres|2013|                  1|              5.0|             40.82|     41.7|     40.1|\n",
      "|    Caceres|2015|                  3|              4.0| 40.76666666666667|     42.5|     40.0|\n",
      "|    Caceres|2016|                  3|4.333333333333333|40.803333333333335|     42.8|     40.0|\n",
      "|    Caceres|2017|                  4|              4.5|             41.49|     43.3|     40.4|\n",
      "|    Caceres|2018|                  6|              5.0|42.318333333333335|     45.0|     40.3|\n",
      "|    Caceres|2019|                  1|              4.0|             40.48|     40.9|     40.0|\n",
      "|    Caceres|2020|                  1|              7.0|             40.81|     41.8|     40.0|\n",
      "|    Caceres|2021|                  1|              5.0|              42.5|     44.9|     40.1|\n",
      "|    Caceres|2022|                  8|            6.625|            41.825|     44.9|     40.2|\n",
      "|      Cadiz|2017|                  1|              4.0|             41.25|     43.1|     40.1|\n",
      "|      Cadiz|2018|                  1|              5.0|             41.26|     42.2|     40.2|\n",
      "|      Cadiz|2021|                  1|              4.0|              43.7|     44.3|     43.0|\n",
      "|      Cadiz|2022|                  1|              4.0|             43.45|     44.5|     41.4|\n",
      "|Ciudad Real|2015|                  3|5.333333333333333|             41.02|     42.5|     40.0|\n",
      "+-----------+----+-------------------+-----------------+------------------+---------+---------+\n",
      "only showing top 20 rows\n",
      "\n"
     ]
    },
    {
     "data": {
      "text/html": [
       "<div>\n",
       "  <span style=\"float: left;\">run at ThreadPoolExecutor.java:1128</span>\n",
       "</div>\n"
      ]
     },
     "metadata": {},
     "output_type": "display_data"
    },
    {
     "data": {
      "text/html": [
       "<div class=\"progress\">\n",
       "  <div class=\"progress-bar\" role=\"progressbar\" style=\"background-color: blue; width: 100%; word-wrap: normal; white-space: nowrap; text-align: center; color: white\" aria-valuenow=\"100\" aria-valuemin=\"0\" aria-valuemax=\"100\">\n",
       "    1 / 1\n",
       "  </div>\n",
       "  <div class=\"progress-bar\" role=\"progressbar\" style=\"background-color: red; width: 0%\" aria-valuenow=\"0\" aria-valuemin=\"0\" aria-valuemax=\"100\"></div>\n",
       "</div>\n"
      ]
     },
     "metadata": {},
     "output_type": "display_data"
    },
    {
     "data": {
      "text/html": [
       "<div>\n",
       "  <span style=\"float: left;\">save at cmd6.sc:16</span>\n",
       "</div>\n"
      ]
     },
     "metadata": {},
     "output_type": "display_data"
    },
    {
     "data": {
      "text/html": [
       "<div class=\"progress\">\n",
       "  <div class=\"progress-bar\" role=\"progressbar\" style=\"background-color: blue; width: 100%; word-wrap: normal; white-space: nowrap; text-align: center; color: white\" aria-valuenow=\"100\" aria-valuemin=\"0\" aria-valuemax=\"100\">\n",
       "    90 / 90\n",
       "  </div>\n",
       "  <div class=\"progress-bar\" role=\"progressbar\" style=\"background-color: red; width: 0%\" aria-valuenow=\"0\" aria-valuemin=\"0\" aria-valuemax=\"100\"></div>\n",
       "</div>\n"
      ]
     },
     "metadata": {},
     "output_type": "display_data"
    },
    {
     "data": {
      "text/html": [
       "<div>\n",
       "  <span style=\"float: left;\">save at cmd6.sc:16</span>\n",
       "</div>\n"
      ]
     },
     "metadata": {},
     "output_type": "display_data"
    },
    {
     "data": {
      "text/html": [
       "<div class=\"progress\">\n",
       "  <div class=\"progress-bar\" role=\"progressbar\" style=\"background-color: blue; width: 100%; word-wrap: normal; white-space: nowrap; text-align: center; color: white\" aria-valuenow=\"100\" aria-valuemin=\"0\" aria-valuemax=\"100\">\n",
       "    64 / 64\n",
       "  </div>\n",
       "  <div class=\"progress-bar\" role=\"progressbar\" style=\"background-color: red; width: 0%\" aria-valuenow=\"0\" aria-valuemin=\"0\" aria-valuemax=\"100\"></div>\n",
       "</div>\n"
      ]
     },
     "metadata": {},
     "output_type": "display_data"
    },
    {
     "data": {
      "text/html": [
       "<div>\n",
       "  <span style=\"float: left;\">save at cmd6.sc:16</span>\n",
       "</div>\n"
      ]
     },
     "metadata": {},
     "output_type": "display_data"
    },
    {
     "data": {
      "text/html": [
       "<div class=\"progress\">\n",
       "  <div class=\"progress-bar\" role=\"progressbar\" style=\"background-color: blue; width: 100%; word-wrap: normal; white-space: nowrap; text-align: center; color: white\" aria-valuenow=\"100\" aria-valuemin=\"0\" aria-valuemax=\"100\">\n",
       "    64 / 64\n",
       "  </div>\n",
       "  <div class=\"progress-bar\" role=\"progressbar\" style=\"background-color: red; width: 0%\" aria-valuenow=\"0\" aria-valuemin=\"0\" aria-valuemax=\"100\"></div>\n",
       "</div>\n"
      ]
     },
     "metadata": {},
     "output_type": "display_data"
    },
    {
     "data": {
      "text/html": [
       "<div>\n",
       "  <span style=\"float: left;\">save at cmd6.sc:16</span>\n",
       "</div>\n"
      ]
     },
     "metadata": {},
     "output_type": "display_data"
    },
    {
     "data": {
      "text/html": [
       "<div class=\"progress\">\n",
       "  <div class=\"progress-bar\" role=\"progressbar\" style=\"background-color: blue; width: 100%; word-wrap: normal; white-space: nowrap; text-align: center; color: white\" aria-valuenow=\"100\" aria-valuemin=\"0\" aria-valuemax=\"100\">\n",
       "    64 / 64\n",
       "  </div>\n",
       "  <div class=\"progress-bar\" role=\"progressbar\" style=\"background-color: red; width: 0%\" aria-valuenow=\"0\" aria-valuemin=\"0\" aria-valuemax=\"100\"></div>\n",
       "</div>\n"
      ]
     },
     "metadata": {},
     "output_type": "display_data"
    },
    {
     "data": {
      "text/html": [
       "<div>\n",
       "  <span style=\"float: left;\">save at cmd6.sc:16</span>\n",
       "</div>\n"
      ]
     },
     "metadata": {},
     "output_type": "display_data"
    },
    {
     "data": {
      "text/html": [
       "<div class=\"progress\">\n",
       "  <div class=\"progress-bar\" role=\"progressbar\" style=\"background-color: blue; width: 100%; word-wrap: normal; white-space: nowrap; text-align: center; color: white\" aria-valuenow=\"100\" aria-valuemin=\"0\" aria-valuemax=\"100\">\n",
       "    64 / 64\n",
       "  </div>\n",
       "  <div class=\"progress-bar\" role=\"progressbar\" style=\"background-color: red; width: 0%\" aria-valuenow=\"0\" aria-valuemin=\"0\" aria-valuemax=\"100\"></div>\n",
       "</div>\n"
      ]
     },
     "metadata": {},
     "output_type": "display_data"
    },
    {
     "data": {
      "text/plain": [
       "\u001b[36mresultsSave\u001b[39m: \u001b[32mDataset\u001b[39m[\u001b[32mRow\u001b[39m] = [provincia: string, año: int ... 5 more fields]"
      ]
     },
     "execution_count": 7,
     "metadata": {},
     "output_type": "execute_result"
    }
   ],
   "source": [
    "val resultsSave = results\n",
    "    .groupBy($\"provincia\", $\"año\")\n",
    "    .agg(func.count($\"provincia\"), func.avg($\"dias\"), func.avg($\"avg(tmax)\"), func.max($\"max(tmax)\"), func.min($\"min(tmax)\"))\n",
    "    .select($\"provincia\", $\"año\", $\"count(provincia)\".alias(\"nº de olas de calor\"), \n",
    "            $\"avg(dias)\".alias(\"duracion media\"), $\"avg(avg(tmax))\".alias(\"avg(tmax)\"), \n",
    "            $\"max(max(tmax))\".alias(\"max(tmax)\"), $\"min(min(tmax))\".alias(\"min(tmax)\"))\n",
    "    .orderBy($\"provincia\", $\"año\".asc)\n",
    "    \n",
    "resultsSave.show()\n",
    "resultsSave\n",
    "    .withColumnRenamed(\"nº de olas de calor\", \"nOlasCalor\")\n",
    "    .withColumnRenamed(\"duracion media\", \"duracionMedia\")\n",
    "    .withColumnRenamed(\"avg(tmax)\", \"avgTmax\")\n",
    "    .withColumnRenamed(\"max(tmax)\", \"maxTmax\")\n",
    "    .withColumnRenamed(\"min(tmax)\", \"minTmax\")\n",
    "    .write.format(\"parquet\").partitionBy(\"provincia\").mode(\"overwrite\").save(\"D:/TFGAlvaroSanchez/prueba/resultados/\")"
   ]
  },
  {
   "cell_type": "code",
   "execution_count": 8,
   "id": "6d0316f7",
   "metadata": {},
   "outputs": [
    {
     "data": {
      "text/html": [
       "<div>\n",
       "  <span style=\"float: left;\">run at ThreadPoolExecutor.java:1128</span>\n",
       "</div>\n"
      ]
     },
     "metadata": {},
     "output_type": "display_data"
    },
    {
     "data": {
      "text/html": [
       "<div class=\"progress\">\n",
       "  <div class=\"progress-bar\" role=\"progressbar\" style=\"background-color: blue; width: 100%; word-wrap: normal; white-space: nowrap; text-align: center; color: white\" aria-valuenow=\"100\" aria-valuemin=\"0\" aria-valuemax=\"100\">\n",
       "    1 / 1\n",
       "  </div>\n",
       "  <div class=\"progress-bar\" role=\"progressbar\" style=\"background-color: red; width: 0%\" aria-valuenow=\"0\" aria-valuemin=\"0\" aria-valuemax=\"100\"></div>\n",
       "</div>\n"
      ]
     },
     "metadata": {},
     "output_type": "display_data"
    },
    {
     "data": {
      "text/html": [
       "<div>\n",
       "  <span style=\"float: left;\">show at cmd7.sc:4</span>\n",
       "</div>\n"
      ]
     },
     "metadata": {},
     "output_type": "display_data"
    },
    {
     "data": {
      "text/html": [
       "<div class=\"progress\">\n",
       "  <div class=\"progress-bar\" role=\"progressbar\" style=\"background-color: blue; width: 100%; word-wrap: normal; white-space: nowrap; text-align: center; color: white\" aria-valuenow=\"100\" aria-valuemin=\"0\" aria-valuemax=\"100\">\n",
       "    90 / 90\n",
       "  </div>\n",
       "  <div class=\"progress-bar\" role=\"progressbar\" style=\"background-color: red; width: 0%\" aria-valuenow=\"0\" aria-valuemin=\"0\" aria-valuemax=\"100\"></div>\n",
       "</div>\n"
      ]
     },
     "metadata": {},
     "output_type": "display_data"
    },
    {
     "data": {
      "text/html": [
       "<div>\n",
       "  <span style=\"float: left;\">show at cmd7.sc:4</span>\n",
       "</div>\n"
      ]
     },
     "metadata": {},
     "output_type": "display_data"
    },
    {
     "data": {
      "text/html": [
       "<div class=\"progress\">\n",
       "  <div class=\"progress-bar\" role=\"progressbar\" style=\"background-color: blue; width: 100%; word-wrap: normal; white-space: nowrap; text-align: center; color: white\" aria-valuenow=\"100\" aria-valuemin=\"0\" aria-valuemax=\"100\">\n",
       "    64 / 64\n",
       "  </div>\n",
       "  <div class=\"progress-bar\" role=\"progressbar\" style=\"background-color: red; width: 0%\" aria-valuenow=\"0\" aria-valuemin=\"0\" aria-valuemax=\"100\"></div>\n",
       "</div>\n"
      ]
     },
     "metadata": {},
     "output_type": "display_data"
    },
    {
     "data": {
      "text/html": [
       "<div>\n",
       "  <span style=\"float: left;\">show at cmd7.sc:4</span>\n",
       "</div>\n"
      ]
     },
     "metadata": {},
     "output_type": "display_data"
    },
    {
     "data": {
      "text/html": [
       "<div class=\"progress\">\n",
       "  <div class=\"progress-bar\" role=\"progressbar\" style=\"background-color: blue; width: 100%; word-wrap: normal; white-space: nowrap; text-align: center; color: white\" aria-valuenow=\"100\" aria-valuemin=\"0\" aria-valuemax=\"100\">\n",
       "    64 / 64\n",
       "  </div>\n",
       "  <div class=\"progress-bar\" role=\"progressbar\" style=\"background-color: red; width: 0%\" aria-valuenow=\"0\" aria-valuemin=\"0\" aria-valuemax=\"100\"></div>\n",
       "</div>\n"
      ]
     },
     "metadata": {},
     "output_type": "display_data"
    },
    {
     "name": "stdout",
     "output_type": "stream",
     "text": [
      "+----+----------+\n",
      "| año|count(año)|\n",
      "+----+----------+\n",
      "|2007|         6|\n",
      "|2008|         1|\n",
      "|2009|         9|\n",
      "|2010|         6|\n",
      "|2012|         6|\n",
      "|2013|         4|\n",
      "|2014|         1|\n",
      "|2015|        28|\n",
      "|2016|        11|\n",
      "|2017|        36|\n",
      "|2018|        23|\n",
      "|2019|        10|\n",
      "|2020|        11|\n",
      "|2021|        24|\n",
      "|2022|        68|\n",
      "+----+----------+\n",
      "\n"
     ]
    }
   ],
   "source": [
    "results\n",
    "    .groupBy($\"año\")\n",
    "    .agg(func.count($\"año\"))\n",
    "    .orderBy($\"año\")\n",
    "    .show()"
   ]
  },
  {
   "cell_type": "code",
   "execution_count": null,
   "id": "2536d42e",
   "metadata": {},
   "outputs": [],
   "source": []
  }
 ],
 "metadata": {
  "kernelspec": {
   "display_name": "Scala",
   "language": "scala",
   "name": "scala"
  },
  "language_info": {
   "codemirror_mode": "text/x-scala",
   "file_extension": ".scala",
   "mimetype": "text/x-scala",
   "name": "scala",
   "nbconvert_exporter": "script",
   "version": "2.12.8"
  }
 },
 "nbformat": 4,
 "nbformat_minor": 5
}
