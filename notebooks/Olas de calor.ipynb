{
 "cells": [
  {
   "cell_type": "code",
   "execution_count": 1,
   "id": "99fd79a0",
   "metadata": {},
   "outputs": [
    {
     "name": "stdout",
     "output_type": "stream",
     "text": [
      "Loading spark-stubs\n"
     ]
    },
    {
     "name": "stderr",
     "output_type": "stream",
     "text": [
      "log4j:WARN No appenders could be found for logger (org.eclipse.jetty.util.log).\n",
      "log4j:WARN Please initialize the log4j system properly.\n",
      "log4j:WARN See http://logging.apache.org/log4j/1.2/faq.html#noconfig for more info.\n"
     ]
    },
    {
     "name": "stdout",
     "output_type": "stream",
     "text": [
      "Creating SparkSession\n"
     ]
    },
    {
     "name": "stderr",
     "output_type": "stream",
     "text": [
      "Using Spark's default log4j profile: org/apache/spark/log4j-defaults.properties\n",
      "23/03/27 13:52:14 INFO SparkContext: Running Spark version 2.4.5\n",
      "23/03/27 13:52:17 INFO SparkContext: Submitted application: 9ba1dc6c-3ec3-43eb-9298-850adcd77587\n",
      "23/03/27 13:52:17 INFO SecurityManager: Changing view acls to: Alvaro\n",
      "23/03/27 13:52:17 INFO SecurityManager: Changing modify acls to: Alvaro\n",
      "23/03/27 13:52:17 INFO SecurityManager: Changing view acls groups to: \n",
      "23/03/27 13:52:17 INFO SecurityManager: Changing modify acls groups to: \n",
      "23/03/27 13:52:17 INFO SecurityManager: SecurityManager: authentication disabled; ui acls disabled; users  with view permissions: Set(Alvaro); groups with view permissions: Set(); users  with modify permissions: Set(Alvaro); groups with modify permissions: Set()\n",
      "23/03/27 13:52:20 INFO Utils: Successfully started service 'sparkDriver' on port 56381.\n",
      "23/03/27 13:52:21 INFO SparkEnv: Registering MapOutputTracker\n",
      "23/03/27 13:52:21 INFO SparkEnv: Registering BlockManagerMaster\n",
      "23/03/27 13:52:21 INFO BlockManagerMasterEndpoint: Using org.apache.spark.storage.DefaultTopologyMapper for getting topology information\n",
      "23/03/27 13:52:21 INFO BlockManagerMasterEndpoint: BlockManagerMasterEndpoint up\n",
      "23/03/27 13:52:21 INFO DiskBlockManager: Created local directory at C:\\Users\\alvar\\AppData\\Local\\Temp\\blockmgr-f4f2feb5-36e5-430e-a474-55ecc1d7e50c\n",
      "23/03/27 13:52:21 INFO MemoryStore: MemoryStore started with capacity 434.4 MB\n",
      "23/03/27 13:52:21 INFO SparkEnv: Registering OutputCommitCoordinator\n",
      "23/03/27 13:52:21 INFO Utils: Successfully started service 'SparkUI' on port 4040.\n",
      "23/03/27 13:52:21 INFO SparkUI: Bound SparkUI to 0.0.0.0, and started at http://LAPTOP-30N4Q54J:4040\n",
      "23/03/27 13:52:22 INFO SparkContext: Added JAR file:/C:/Users/alvar/AppData/Local/Coursier/cache/v1/https/jitpack.io/com/github/jupyter/jvm-repr/0.4.0/jvm-repr-0.4.0.jar at spark://LAPTOP-30N4Q54J:56381/jars/jvm-repr-0.4.0.jar with timestamp 1679917942017\n",
      "23/03/27 13:52:22 INFO SparkContext: Added JAR file:/C:/Users/alvar/AppData/Local/Coursier/cache/v1/https/repo1.maven.org/maven2/com/github/javaparser/javaparser-core/3.2.5/javaparser-core-3.2.5.jar at spark://LAPTOP-30N4Q54J:56381/jars/javaparser-core-3.2.5.jar with timestamp 1679917942020\n",
      "23/03/27 13:52:22 INFO SparkContext: Added JAR file:/C:/Users/alvar/AppData/Local/Coursier/cache/v1/https/repo1.maven.org/maven2/com/github/scopt/scopt_2.12/3.5.0/scopt_2.12-3.5.0.jar at spark://LAPTOP-30N4Q54J:56381/jars/scopt_2.12-3.5.0.jar with timestamp 1679917942022\n",
      "23/03/27 13:52:22 INFO SparkContext: Added JAR file:/C:/Users/alvar/AppData/Local/Coursier/cache/v1/https/repo1.maven.org/maven2/com/lihaoyi/acyclic_2.12/0.1.5/acyclic_2.12-0.1.5.jar at spark://LAPTOP-30N4Q54J:56381/jars/acyclic_2.12-0.1.5.jar with timestamp 1679917942025\n",
      "23/03/27 13:52:22 INFO SparkContext: Added JAR file:/C:/Users/alvar/AppData/Local/Coursier/cache/v1/https/repo1.maven.org/maven2/com/lihaoyi/ammonite-interp_2.12.8/1.6.5/ammonite-interp_2.12.8-1.6.5.jar at spark://LAPTOP-30N4Q54J:56381/jars/ammonite-interp_2.12.8-1.6.5.jar with timestamp 1679917942028\n",
      "23/03/27 13:52:22 INFO SparkContext: Added JAR file:/C:/Users/alvar/AppData/Local/Coursier/cache/v1/https/repo1.maven.org/maven2/com/lihaoyi/ammonite-ops_2.12/1.6.5/ammonite-ops_2.12-1.6.5.jar at spark://LAPTOP-30N4Q54J:56381/jars/ammonite-ops_2.12-1.6.5.jar with timestamp 1679917942032\n",
      "23/03/27 13:52:22 INFO SparkContext: Added JAR file:/C:/Users/alvar/AppData/Local/Coursier/cache/v1/https/repo1.maven.org/maven2/com/lihaoyi/ammonite-repl_2.12.8/1.6.5/ammonite-repl_2.12.8-1.6.5.jar at spark://LAPTOP-30N4Q54J:56381/jars/ammonite-repl_2.12.8-1.6.5.jar with timestamp 1679917942040\n",
      "23/03/27 13:52:22 INFO SparkContext: Added JAR file:/C:/Users/alvar/AppData/Local/Coursier/cache/v1/https/repo1.maven.org/maven2/com/lihaoyi/ammonite-runtime_2.12/1.6.5/ammonite-runtime_2.12-1.6.5.jar at spark://LAPTOP-30N4Q54J:56381/jars/ammonite-runtime_2.12-1.6.5.jar with timestamp 1679917942042\n",
      "23/03/27 13:52:22 INFO SparkContext: Added JAR file:/C:/Users/alvar/AppData/Local/Coursier/cache/v1/https/repo1.maven.org/maven2/com/lihaoyi/ammonite-terminal_2.12/1.6.5/ammonite-terminal_2.12-1.6.5.jar at spark://LAPTOP-30N4Q54J:56381/jars/ammonite-terminal_2.12-1.6.5.jar with timestamp 1679917942049\n",
      "23/03/27 13:52:22 INFO SparkContext: Added JAR file:/C:/Users/alvar/AppData/Local/Coursier/cache/v1/https/repo1.maven.org/maven2/com/lihaoyi/ammonite-util_2.12/1.6.5/ammonite-util_2.12-1.6.5.jar at spark://LAPTOP-30N4Q54J:56381/jars/ammonite-util_2.12-1.6.5.jar with timestamp 1679917942058\n",
      "23/03/27 13:52:22 INFO SparkContext: Added JAR file:/C:/Users/alvar/AppData/Local/Coursier/cache/v1/https/repo1.maven.org/maven2/com/lihaoyi/fansi_2.12/0.2.4/fansi_2.12-0.2.4.jar at spark://LAPTOP-30N4Q54J:56381/jars/fansi_2.12-0.2.4.jar with timestamp 1679917942068\n",
      "23/03/27 13:52:22 INFO SparkContext: Added JAR file:/C:/Users/alvar/AppData/Local/Coursier/cache/v1/https/repo1.maven.org/maven2/com/lihaoyi/fastparse_2.12/2.1.0/fastparse_2.12-2.1.0.jar at spark://LAPTOP-30N4Q54J:56381/jars/fastparse_2.12-2.1.0.jar with timestamp 1679917942072\n",
      "23/03/27 13:52:22 INFO SparkContext: Added JAR file:/C:/Users/alvar/AppData/Local/Coursier/cache/v1/https/repo1.maven.org/maven2/com/lihaoyi/geny_2.12/0.1.5/geny_2.12-0.1.5.jar at spark://LAPTOP-30N4Q54J:56381/jars/geny_2.12-0.1.5.jar with timestamp 1679917942079\n",
      "23/03/27 13:52:22 INFO SparkContext: Added JAR file:/C:/Users/alvar/AppData/Local/Coursier/cache/v1/https/repo1.maven.org/maven2/com/lihaoyi/os-lib_2.12/0.2.6/os-lib_2.12-0.2.6.jar at spark://LAPTOP-30N4Q54J:56381/jars/os-lib_2.12-0.2.6.jar with timestamp 1679917942081\n",
      "23/03/27 13:52:22 INFO SparkContext: Added JAR file:/C:/Users/alvar/AppData/Local/Coursier/cache/v1/https/repo1.maven.org/maven2/com/lihaoyi/pprint_2.12/0.5.2/pprint_2.12-0.5.2.jar at spark://LAPTOP-30N4Q54J:56381/jars/pprint_2.12-0.5.2.jar with timestamp 1679917942084\n",
      "23/03/27 13:52:22 INFO SparkContext: Added JAR file:/C:/Users/alvar/AppData/Local/Coursier/cache/v1/https/repo1.maven.org/maven2/com/lihaoyi/requests_2.12/0.1.7/requests_2.12-0.1.7.jar at spark://LAPTOP-30N4Q54J:56381/jars/requests_2.12-0.1.7.jar with timestamp 1679917942087\n",
      "23/03/27 13:52:22 INFO SparkContext: Added JAR file:/C:/Users/alvar/AppData/Local/Coursier/cache/v1/https/repo1.maven.org/maven2/com/lihaoyi/scalaparse_2.12/2.1.0/scalaparse_2.12-2.1.0.jar at spark://LAPTOP-30N4Q54J:56381/jars/scalaparse_2.12-2.1.0.jar with timestamp 1679917942089\n",
      "23/03/27 13:52:22 INFO SparkContext: Added JAR file:/C:/Users/alvar/AppData/Local/Coursier/cache/v1/https/repo1.maven.org/maven2/com/lihaoyi/sourcecode_2.12/0.1.5/sourcecode_2.12-0.1.5.jar at spark://LAPTOP-30N4Q54J:56381/jars/sourcecode_2.12-0.1.5.jar with timestamp 1679917942092\n",
      "23/03/27 13:52:22 INFO SparkContext: Added JAR file:/C:/Users/alvar/AppData/Local/Coursier/cache/v1/https/repo1.maven.org/maven2/com/lihaoyi/ujson_2.12/0.7.1/ujson_2.12-0.7.1.jar at spark://LAPTOP-30N4Q54J:56381/jars/ujson_2.12-0.7.1.jar with timestamp 1679917942099\n",
      "23/03/27 13:52:22 INFO SparkContext: Added JAR file:/C:/Users/alvar/AppData/Local/Coursier/cache/v1/https/repo1.maven.org/maven2/com/lihaoyi/upack_2.12/0.7.1/upack_2.12-0.7.1.jar at spark://LAPTOP-30N4Q54J:56381/jars/upack_2.12-0.7.1.jar with timestamp 1679917942100\n",
      "23/03/27 13:52:22 INFO SparkContext: Added JAR file:/C:/Users/alvar/AppData/Local/Coursier/cache/v1/https/repo1.maven.org/maven2/com/lihaoyi/upickle-core_2.12/0.7.1/upickle-core_2.12-0.7.1.jar at spark://LAPTOP-30N4Q54J:56381/jars/upickle-core_2.12-0.7.1.jar with timestamp 1679917942101\n",
      "23/03/27 13:52:22 INFO SparkContext: Added JAR file:/C:/Users/alvar/AppData/Local/Coursier/cache/v1/https/repo1.maven.org/maven2/com/lihaoyi/upickle-implicits_2.12/0.7.1/upickle-implicits_2.12-0.7.1.jar at spark://LAPTOP-30N4Q54J:56381/jars/upickle-implicits_2.12-0.7.1.jar with timestamp 1679917942102\n",
      "23/03/27 13:52:22 INFO SparkContext: Added JAR file:/C:/Users/alvar/AppData/Local/Coursier/cache/v1/https/repo1.maven.org/maven2/com/lihaoyi/upickle_2.12/0.7.1/upickle_2.12-0.7.1.jar at spark://LAPTOP-30N4Q54J:56381/jars/upickle_2.12-0.7.1.jar with timestamp 1679917942104\n",
      "23/03/27 13:52:22 INFO SparkContext: Added JAR file:/C:/Users/alvar/AppData/Local/Coursier/cache/v1/https/repo1.maven.org/maven2/com/lihaoyi/utest_2.12/0.6.4/utest_2.12-0.6.4.jar at spark://LAPTOP-30N4Q54J:56381/jars/utest_2.12-0.6.4.jar with timestamp 1679917942106\n"
     ]
    },
    {
     "name": "stderr",
     "output_type": "stream",
     "text": [
      "23/03/27 13:52:22 INFO SparkContext: Added JAR file:/C:/Users/alvar/AppData/Local/Coursier/cache/v1/https/repo1.maven.org/maven2/io/get-coursier/coursier-cache_2.12/1.1.0-M13-1/coursier-cache_2.12-1.1.0-M13-1.jar at spark://LAPTOP-30N4Q54J:56381/jars/coursier-cache_2.12-1.1.0-M13-1.jar with timestamp 1679917942109\n",
      "23/03/27 13:52:22 INFO SparkContext: Added JAR file:/C:/Users/alvar/AppData/Local/Coursier/cache/v1/https/repo1.maven.org/maven2/io/get-coursier/coursier-core_2.12/1.1.0-M13-1/coursier-core_2.12-1.1.0-M13-1.jar at spark://LAPTOP-30N4Q54J:56381/jars/coursier-core_2.12-1.1.0-M13-1.jar with timestamp 1679917942148\n",
      "23/03/27 13:52:22 INFO SparkContext: Added JAR file:/C:/Users/alvar/AppData/Local/Coursier/cache/v1/https/repo1.maven.org/maven2/io/get-coursier/coursier_2.12/1.1.0-M13-1/coursier_2.12-1.1.0-M13-1.jar at spark://LAPTOP-30N4Q54J:56381/jars/coursier_2.12-1.1.0-M13-1.jar with timestamp 1679917942149\n",
      "23/03/27 13:52:22 INFO SparkContext: Added JAR file:/C:/Users/alvar/AppData/Local/Coursier/cache/v1/https/repo1.maven.org/maven2/net/java/dev/jna/jna/4.2.2/jna-4.2.2.jar at spark://LAPTOP-30N4Q54J:56381/jars/jna-4.2.2.jar with timestamp 1679917942151\n",
      "23/03/27 13:52:22 INFO SparkContext: Added JAR file:/C:/Users/alvar/AppData/Local/Coursier/cache/v1/https/repo1.maven.org/maven2/org/javassist/javassist/3.21.0-GA/javassist-3.21.0-GA.jar at spark://LAPTOP-30N4Q54J:56381/jars/javassist-3.21.0-GA.jar with timestamp 1679917942153\n",
      "23/03/27 13:52:22 INFO SparkContext: Added JAR file:/C:/Users/alvar/AppData/Local/Coursier/cache/v1/https/repo1.maven.org/maven2/org/jline/jline-reader/3.6.2/jline-reader-3.6.2.jar at spark://LAPTOP-30N4Q54J:56381/jars/jline-reader-3.6.2.jar with timestamp 1679917942154\n",
      "23/03/27 13:52:22 INFO SparkContext: Added JAR file:/C:/Users/alvar/AppData/Local/Coursier/cache/v1/https/repo1.maven.org/maven2/org/jline/jline-terminal-jna/3.6.2/jline-terminal-jna-3.6.2.jar at spark://LAPTOP-30N4Q54J:56381/jars/jline-terminal-jna-3.6.2.jar with timestamp 1679917942156\n",
      "23/03/27 13:52:22 INFO SparkContext: Added JAR file:/C:/Users/alvar/AppData/Local/Coursier/cache/v1/https/repo1.maven.org/maven2/org/jline/jline-terminal/3.6.2/jline-terminal-3.6.2.jar at spark://LAPTOP-30N4Q54J:56381/jars/jline-terminal-3.6.2.jar with timestamp 1679917942160\n",
      "23/03/27 13:52:22 INFO SparkContext: Added JAR file:/C:/Users/alvar/AppData/Local/Coursier/cache/v1/https/repo1.maven.org/maven2/org/scala-lang/modules/scala-xml_2.12/1.1.1/scala-xml_2.12-1.1.1.jar at spark://LAPTOP-30N4Q54J:56381/jars/scala-xml_2.12-1.1.1.jar with timestamp 1679917942162\n",
      "23/03/27 13:52:22 INFO SparkContext: Added JAR file:/C:/Users/alvar/AppData/Local/Coursier/cache/v1/https/repo1.maven.org/maven2/org/scala-sbt/test-interface/1.0/test-interface-1.0.jar at spark://LAPTOP-30N4Q54J:56381/jars/test-interface-1.0.jar with timestamp 1679917942163\n",
      "23/03/27 13:52:22 INFO SparkContext: Added JAR file:/C:/Users/alvar/AppData/Local/Coursier/cache/v1/https/repo1.maven.org/maven2/sh/almond/interpreter-api_2.12/0.4.0/interpreter-api_2.12-0.4.0.jar at spark://LAPTOP-30N4Q54J:56381/jars/interpreter-api_2.12-0.4.0.jar with timestamp 1679917942165\n",
      "23/03/27 13:52:22 INFO SparkContext: Added JAR file:/C:/Users/alvar/AppData/Local/Coursier/cache/v1/https/repo1.maven.org/maven2/sh/almond/jupyter-api_2.12/0.4.0/jupyter-api_2.12-0.4.0.jar at spark://LAPTOP-30N4Q54J:56381/jars/jupyter-api_2.12-0.4.0.jar with timestamp 1679917942166\n",
      "23/03/27 13:52:22 INFO SparkContext: Added JAR file:/C:/Users/alvar/AppData/Local/Coursier/cache/v1/https/repo1.maven.org/maven2/sh/almond/scala-kernel-api_2.12.8/0.4.0/scala-kernel-api_2.12.8-0.4.0.jar at spark://LAPTOP-30N4Q54J:56381/jars/scala-kernel-api_2.12.8-0.4.0.jar with timestamp 1679917942168\n",
      "23/03/27 13:52:22 INFO SparkContext: Added JAR file:/C:/Users/alvar/AppData/Local/Coursier/cache/v1/https/repo1.maven.org/maven2/org/json4s/json4s-core_2.12/3.5.3/json4s-core_2.12-3.5.3.jar at spark://LAPTOP-30N4Q54J:56381/jars/json4s-core_2.12-3.5.3.jar with timestamp 1679917942172\n",
      "23/03/27 13:52:22 INFO SparkContext: Added JAR file:/C:/Users/alvar/AppData/Local/Coursier/cache/v1/https/repo1.maven.org/maven2/xml-apis/xml-apis/1.3.04/xml-apis-1.3.04.jar at spark://LAPTOP-30N4Q54J:56381/jars/xml-apis-1.3.04.jar with timestamp 1679917942173\n",
      "23/03/27 13:52:22 INFO SparkContext: Added JAR file:/C:/Users/alvar/AppData/Local/Coursier/cache/v1/https/repo1.maven.org/maven2/javax/servlet/javax.servlet-api/3.1.0/javax.servlet-api-3.1.0.jar at spark://LAPTOP-30N4Q54J:56381/jars/javax.servlet-api-3.1.0.jar with timestamp 1679917942183\n",
      "23/03/27 13:52:22 INFO SparkContext: Added JAR file:/C:/Users/alvar/AppData/Local/Coursier/cache/v1/https/repo1.maven.org/maven2/io/dropwizard/metrics/metrics-core/3.1.5/metrics-core-3.1.5.jar at spark://LAPTOP-30N4Q54J:56381/jars/metrics-core-3.1.5.jar with timestamp 1679917942188\n",
      "23/03/27 13:52:22 INFO SparkContext: Added JAR file:/C:/Users/alvar/AppData/Local/Coursier/cache/v1/https/repo1.maven.org/maven2/com/google/inject/guice/3.0/guice-3.0.jar at spark://LAPTOP-30N4Q54J:56381/jars/guice-3.0.jar with timestamp 1679917942198\n",
      "23/03/27 13:52:22 INFO SparkContext: Added JAR file:/C:/Users/alvar/AppData/Local/Coursier/cache/v1/https/repo1.maven.org/maven2/org/slf4j/slf4j-log4j12/1.7.16/slf4j-log4j12-1.7.16.jar at spark://LAPTOP-30N4Q54J:56381/jars/slf4j-log4j12-1.7.16.jar with timestamp 1679917942202\n",
      "23/03/27 13:52:22 INFO SparkContext: Added JAR file:/C:/Users/alvar/AppData/Local/Coursier/cache/v1/https/repo1.maven.org/maven2/org/apache/commons/commons-crypto/1.0.0/commons-crypto-1.0.0.jar at spark://LAPTOP-30N4Q54J:56381/jars/commons-crypto-1.0.0.jar with timestamp 1679917942203\n",
      "23/03/27 13:52:22 INFO SparkContext: Added JAR file:/C:/Users/alvar/AppData/Local/Coursier/cache/v1/https/repo1.maven.org/maven2/org/apache/xbean/xbean-asm6-shaded/4.8/xbean-asm6-shaded-4.8.jar at spark://LAPTOP-30N4Q54J:56381/jars/xbean-asm6-shaded-4.8.jar with timestamp 1679917942204\n",
      "23/03/27 13:52:22 INFO SparkContext: Added JAR file:/C:/Users/alvar/AppData/Local/Coursier/cache/v1/https/repo1.maven.org/maven2/xerces/xercesImpl/2.9.1/xercesImpl-2.9.1.jar at spark://LAPTOP-30N4Q54J:56381/jars/xercesImpl-2.9.1.jar with timestamp 1679917942205\n",
      "23/03/27 13:52:22 INFO SparkContext: Added JAR file:/C:/Users/alvar/AppData/Local/Coursier/cache/v1/https/repo1.maven.org/maven2/com/github/luben/zstd-jni/1.3.2-2/zstd-jni-1.3.2-2.jar at spark://LAPTOP-30N4Q54J:56381/jars/zstd-jni-1.3.2-2.jar with timestamp 1679917942212\n",
      "23/03/27 13:52:22 INFO SparkContext: Added JAR file:/C:/Users/alvar/AppData/Local/Coursier/cache/v1/https/repo1.maven.org/maven2/org/codehaus/jettison/jettison/1.1/jettison-1.1.jar at spark://LAPTOP-30N4Q54J:56381/jars/jettison-1.1.jar with timestamp 1679917942218\n",
      "23/03/27 13:52:22 INFO SparkContext: Added JAR file:/C:/Users/alvar/AppData/Local/Coursier/cache/v1/https/repo1.maven.org/maven2/org/apache/spark/spark-unsafe_2.12/2.4.5/spark-unsafe_2.12-2.4.5.jar at spark://LAPTOP-30N4Q54J:56381/jars/spark-unsafe_2.12-2.4.5.jar with timestamp 1679917942223\n",
      "23/03/27 13:52:22 INFO SparkContext: Added JAR file:/C:/Users/alvar/AppData/Local/Coursier/cache/v1/https/repo1.maven.org/maven2/org/apache/hadoop/hadoop-yarn-server-nodemanager/2.6.5/hadoop-yarn-server-nodemanager-2.6.5.jar at spark://LAPTOP-30N4Q54J:56381/jars/hadoop-yarn-server-nodemanager-2.6.5.jar with timestamp 1679917942225\n",
      "23/03/27 13:52:22 INFO SparkContext: Added JAR file:/C:/Users/alvar/AppData/Local/Coursier/cache/v1/https/repo1.maven.org/maven2/org/apache/parquet/parquet-hadoop/1.10.1/parquet-hadoop-1.10.1.jar at spark://LAPTOP-30N4Q54J:56381/jars/parquet-hadoop-1.10.1.jar with timestamp 1679917942229\n",
      "23/03/27 13:52:22 INFO SparkContext: Added JAR file:/C:/Users/alvar/AppData/Local/Coursier/cache/v1/https/repo1.maven.org/maven2/joda-time/joda-time/2.9.9/joda-time-2.9.9.jar at spark://LAPTOP-30N4Q54J:56381/jars/joda-time-2.9.9.jar with timestamp 1679917942237\n",
      "23/03/27 13:52:22 INFO SparkContext: Added JAR file:/C:/Users/alvar/AppData/Local/Coursier/cache/v1/https/repo1.maven.org/maven2/commons-io/commons-io/2.4/commons-io-2.4.jar at spark://LAPTOP-30N4Q54J:56381/jars/commons-io-2.4.jar with timestamp 1679917942238\n"
     ]
    },
    {
     "name": "stderr",
     "output_type": "stream",
     "text": [
      "23/03/27 13:52:22 INFO SparkContext: Added JAR file:/C:/Users/alvar/AppData/Local/Coursier/cache/v1/https/repo1.maven.org/maven2/commons-configuration/commons-configuration/1.6/commons-configuration-1.6.jar at spark://LAPTOP-30N4Q54J:56381/jars/commons-configuration-1.6.jar with timestamp 1679917942239\n",
      "23/03/27 13:52:22 INFO SparkContext: Added JAR file:/C:/Users/alvar/AppData/Local/Coursier/cache/v1/https/repo1.maven.org/maven2/org/antlr/antlr4-runtime/4.7/antlr4-runtime-4.7.jar at spark://LAPTOP-30N4Q54J:56381/jars/antlr4-runtime-4.7.jar with timestamp 1679917942241\n",
      "23/03/27 13:52:22 INFO SparkContext: Added JAR file:/C:/Users/alvar/AppData/Local/Coursier/cache/v1/https/repo1.maven.org/maven2/org/glassfish/jersey/core/jersey-common/2.22.2/jersey-common-2.22.2.jar at spark://LAPTOP-30N4Q54J:56381/jars/jersey-common-2.22.2.jar with timestamp 1679917942241\n",
      "23/03/27 13:52:22 INFO SparkContext: Added JAR file:/C:/Users/alvar/AppData/Local/Coursier/cache/v1/https/repo1.maven.org/maven2/io/airlift/aircompressor/0.10/aircompressor-0.10.jar at spark://LAPTOP-30N4Q54J:56381/jars/aircompressor-0.10.jar with timestamp 1679917942247\n",
      "23/03/27 13:52:22 INFO SparkContext: Added JAR file:/C:/Users/alvar/AppData/Local/Coursier/cache/v1/https/repo1.maven.org/maven2/org/apache/commons/commons-compress/1.8.1/commons-compress-1.8.1.jar at spark://LAPTOP-30N4Q54J:56381/jars/commons-compress-1.8.1.jar with timestamp 1679917942248\n",
      "23/03/27 13:52:22 INFO SparkContext: Added JAR file:/C:/Users/alvar/AppData/Local/Coursier/cache/v1/https/repo1.maven.org/maven2/org/slf4j/jcl-over-slf4j/1.7.16/jcl-over-slf4j-1.7.16.jar at spark://LAPTOP-30N4Q54J:56381/jars/jcl-over-slf4j-1.7.16.jar with timestamp 1679917942249\n",
      "23/03/27 13:52:22 INFO SparkContext: Added JAR file:/C:/Users/alvar/AppData/Local/Coursier/cache/v1/https/repo1.maven.org/maven2/org/javassist/javassist/3.18.1-GA/javassist-3.18.1-GA.jar at spark://LAPTOP-30N4Q54J:56381/jars/javassist-3.18.1-GA.jar with timestamp 1679917942251\n",
      "23/03/27 13:52:22 INFO SparkContext: Added JAR file:/C:/Users/alvar/AppData/Local/Coursier/cache/v1/https/repo1.maven.org/maven2/org/glassfish/hk2/external/aopalliance-repackaged/2.4.0-b34/aopalliance-repackaged-2.4.0-b34.jar at spark://LAPTOP-30N4Q54J:56381/jars/aopalliance-repackaged-2.4.0-b34.jar with timestamp 1679917942252\n",
      "23/03/27 13:52:22 INFO SparkContext: Added JAR file:/C:/Users/alvar/AppData/Local/Coursier/cache/v1/https/repo1.maven.org/maven2/org/lz4/lz4-java/1.4.0/lz4-java-1.4.0.jar at spark://LAPTOP-30N4Q54J:56381/jars/lz4-java-1.4.0.jar with timestamp 1679917942268\n",
      "23/03/27 13:52:22 INFO SparkContext: Added JAR file:/C:/Users/alvar/AppData/Local/Coursier/cache/v1/https/repo1.maven.org/maven2/io/netty/netty/3.9.9.Final/netty-3.9.9.Final.jar at spark://LAPTOP-30N4Q54J:56381/jars/netty-3.9.9.Final.jar with timestamp 1679917942270\n",
      "23/03/27 13:52:22 INFO SparkContext: Added JAR file:/C:/Users/alvar/AppData/Local/Coursier/cache/v1/https/repo1.maven.org/maven2/org/apache/spark/spark-network-common_2.12/2.4.5/spark-network-common_2.12-2.4.5.jar at spark://LAPTOP-30N4Q54J:56381/jars/spark-network-common_2.12-2.4.5.jar with timestamp 1679917942271\n",
      "23/03/27 13:52:22 INFO SparkContext: Added JAR file:/C:/Users/alvar/AppData/Local/Coursier/cache/v1/https/repo1.maven.org/maven2/aopalliance/aopalliance/1.0/aopalliance-1.0.jar at spark://LAPTOP-30N4Q54J:56381/jars/aopalliance-1.0.jar with timestamp 1679917942273\n",
      "23/03/27 13:52:22 INFO SparkContext: Added JAR file:/C:/Users/alvar/AppData/Local/Coursier/cache/v1/https/repo1.maven.org/maven2/com/fasterxml/jackson/core/jackson-core/2.7.9/jackson-core-2.7.9.jar at spark://LAPTOP-30N4Q54J:56381/jars/jackson-core-2.7.9.jar with timestamp 1679917942274\n",
      "23/03/27 13:52:22 INFO SparkContext: Added JAR file:/C:/Users/alvar/AppData/Local/Coursier/cache/v1/https/repo1.maven.org/maven2/org/apache/spark/spark-sql_2.12/2.4.5/spark-sql_2.12-2.4.5.jar at spark://LAPTOP-30N4Q54J:56381/jars/spark-sql_2.12-2.4.5.jar with timestamp 1679917942276\n",
      "23/03/27 13:52:22 INFO SparkContext: Added JAR file:/C:/Users/alvar/AppData/Local/Coursier/cache/v1/https/repo1.maven.org/maven2/com/google/code/gson/gson/2.2.4/gson-2.2.4.jar at spark://LAPTOP-30N4Q54J:56381/jars/gson-2.2.4.jar with timestamp 1679917942278\n",
      "23/03/27 13:52:22 INFO SparkContext: Added JAR file:/C:/Users/alvar/AppData/Local/Coursier/cache/v1/https/repo1.maven.org/maven2/org/apache/directory/api/api-util/1.0.0-M20/api-util-1.0.0-M20.jar at spark://LAPTOP-30N4Q54J:56381/jars/api-util-1.0.0-M20.jar with timestamp 1679917942279\n",
      "23/03/27 13:52:22 INFO SparkContext: Added JAR file:/C:/Users/alvar/AppData/Local/Coursier/cache/v1/https/repo1.maven.org/maven2/org/apache/hadoop/hadoop-yarn-client/2.6.5/hadoop-yarn-client-2.6.5.jar at spark://LAPTOP-30N4Q54J:56381/jars/hadoop-yarn-client-2.6.5.jar with timestamp 1679917942281\n",
      "23/03/27 13:52:22 INFO SparkContext: Added JAR file:/C:/Users/alvar/AppData/Local/Coursier/cache/v1/https/repo1.maven.org/maven2/javax/xml/bind/jaxb-api/2.2.2/jaxb-api-2.2.2.jar at spark://LAPTOP-30N4Q54J:56381/jars/jaxb-api-2.2.2.jar with timestamp 1679917942301\n",
      "23/03/27 13:52:22 INFO SparkContext: Added JAR file:/C:/Users/alvar/AppData/Local/Coursier/cache/v1/https/repo1.maven.org/maven2/org/apache/spark/spark-tags_2.12/2.4.5/spark-tags_2.12-2.4.5.jar at spark://LAPTOP-30N4Q54J:56381/jars/spark-tags_2.12-2.4.5.jar with timestamp 1679917942303\n",
      "23/03/27 13:52:22 INFO SparkContext: Added JAR file:/C:/Users/alvar/AppData/Local/Coursier/cache/v1/https/repo1.maven.org/maven2/org/apache/parquet/parquet-jackson/1.10.1/parquet-jackson-1.10.1.jar at spark://LAPTOP-30N4Q54J:56381/jars/parquet-jackson-1.10.1.jar with timestamp 1679917942306\n",
      "23/03/27 13:52:22 INFO SparkContext: Added JAR file:/C:/Users/alvar/AppData/Local/Coursier/cache/v1/https/repo1.maven.org/maven2/org/roaringbitmap/shims/0.7.45/shims-0.7.45.jar at spark://LAPTOP-30N4Q54J:56381/jars/shims-0.7.45.jar with timestamp 1679917942308\n",
      "23/03/27 13:52:22 INFO SparkContext: Added JAR file:/C:/Users/alvar/AppData/Local/Coursier/cache/v1/https/repo1.maven.org/maven2/com/thoughtworks/paranamer/paranamer/2.8/paranamer-2.8.jar at spark://LAPTOP-30N4Q54J:56381/jars/paranamer-2.8.jar with timestamp 1679917942313\n",
      "23/03/27 13:52:22 INFO SparkContext: Added JAR file:/C:/Users/alvar/AppData/Local/Coursier/cache/v1/https/repo1.maven.org/maven2/org/apache/avro/avro/1.8.2/avro-1.8.2.jar at spark://LAPTOP-30N4Q54J:56381/jars/avro-1.8.2.jar with timestamp 1679917942315\n",
      "23/03/27 13:52:22 INFO SparkContext: Added JAR file:/C:/Users/alvar/AppData/Local/Coursier/cache/v1/https/repo1.maven.org/maven2/org/apache/httpcomponents/httpcore/4.2.4/httpcore-4.2.4.jar at spark://LAPTOP-30N4Q54J:56381/jars/httpcore-4.2.4.jar with timestamp 1679917942320\n",
      "23/03/27 13:52:22 INFO SparkContext: Added JAR file:/C:/Users/alvar/AppData/Local/Coursier/cache/v1/https/repo1.maven.org/maven2/com/carrotsearch/hppc/0.7.2/hppc-0.7.2.jar at spark://LAPTOP-30N4Q54J:56381/jars/hppc-0.7.2.jar with timestamp 1679917942324\n",
      "23/03/27 13:52:22 INFO SparkContext: Added JAR file:/C:/Users/alvar/AppData/Local/Coursier/cache/v1/https/repo1.maven.org/maven2/com/fasterxml/jackson/core/jackson-databind/2.6.7.3/jackson-databind-2.6.7.3.jar at spark://LAPTOP-30N4Q54J:56381/jars/jackson-databind-2.6.7.3.jar with timestamp 1679917942329\n",
      "23/03/27 13:52:22 INFO SparkContext: Added JAR file:/C:/Users/alvar/AppData/Local/Coursier/cache/v1/https/repo1.maven.org/maven2/org/apache/spark/spark-kvstore_2.12/2.4.5/spark-kvstore_2.12-2.4.5.jar at spark://LAPTOP-30N4Q54J:56381/jars/spark-kvstore_2.12-2.4.5.jar with timestamp 1679917942330\n",
      "23/03/27 13:52:22 INFO SparkContext: Added JAR file:/C:/Users/alvar/AppData/Local/Coursier/cache/v1/https/repo1.maven.org/maven2/commons-codec/commons-codec/1.10/commons-codec-1.10.jar at spark://LAPTOP-30N4Q54J:56381/jars/commons-codec-1.10.jar with timestamp 1679917942331\n",
      "23/03/27 13:52:22 INFO SparkContext: Added JAR file:/C:/Users/alvar/AppData/Local/Coursier/cache/v1/https/repo1.maven.org/maven2/org/mortbay/jetty/jetty-util/6.1.26/jetty-util-6.1.26.jar at spark://LAPTOP-30N4Q54J:56381/jars/jetty-util-6.1.26.jar with timestamp 1679917942332\n",
      "23/03/27 13:52:22 INFO SparkContext: Added JAR file:/C:/Users/alvar/AppData/Local/Coursier/cache/v1/https/repo1.maven.org/maven2/org/apache/hadoop/hadoop-yarn-common/2.6.5/hadoop-yarn-common-2.6.5.jar at spark://LAPTOP-30N4Q54J:56381/jars/hadoop-yarn-common-2.6.5.jar with timestamp 1679917942334\n"
     ]
    },
    {
     "name": "stderr",
     "output_type": "stream",
     "text": [
      "23/03/27 13:52:22 INFO SparkContext: Added JAR file:/C:/Users/alvar/AppData/Local/Coursier/cache/v1/https/repo1.maven.org/maven2/org/json4s/json4s-scalap_2.12/3.5.3/json4s-scalap_2.12-3.5.3.jar at spark://LAPTOP-30N4Q54J:56381/jars/json4s-scalap_2.12-3.5.3.jar with timestamp 1679917942335\n",
      "23/03/27 13:52:22 INFO SparkContext: Added JAR file:/C:/Users/alvar/AppData/Local/Coursier/cache/v1/https/repo1.maven.org/maven2/commons-beanutils/commons-beanutils/1.7.0/commons-beanutils-1.7.0.jar at spark://LAPTOP-30N4Q54J:56381/jars/commons-beanutils-1.7.0.jar with timestamp 1679917942336\n",
      "23/03/27 13:52:22 INFO SparkContext: Added JAR file:/C:/Users/alvar/AppData/Local/Coursier/cache/v1/https/repo1.maven.org/maven2/org/apache/avro/avro-ipc/1.8.2/avro-ipc-1.8.2.jar at spark://LAPTOP-30N4Q54J:56381/jars/avro-ipc-1.8.2.jar with timestamp 1679917942338\n",
      "23/03/27 13:52:22 INFO SparkContext: Added JAR file:/C:/Users/alvar/AppData/Local/Coursier/cache/v1/https/repo1.maven.org/maven2/org/apache/hadoop/hadoop-auth/2.6.5/hadoop-auth-2.6.5.jar at spark://LAPTOP-30N4Q54J:56381/jars/hadoop-auth-2.6.5.jar with timestamp 1679917942339\n",
      "23/03/27 13:52:22 INFO SparkContext: Added JAR file:/C:/Users/alvar/AppData/Local/Coursier/cache/v1/https/repo1.maven.org/maven2/org/apache/arrow/arrow-vector/0.10.0/arrow-vector-0.10.0.jar at spark://LAPTOP-30N4Q54J:56381/jars/arrow-vector-0.10.0.jar with timestamp 1679917942340\n",
      "23/03/27 13:52:22 INFO SparkContext: Added JAR file:/C:/Users/alvar/AppData/Local/Coursier/cache/v1/https/repo1.maven.org/maven2/org/apache/parquet/parquet-common/1.10.1/parquet-common-1.10.1.jar at spark://LAPTOP-30N4Q54J:56381/jars/parquet-common-1.10.1.jar with timestamp 1679917942341\n",
      "23/03/27 13:52:22 INFO SparkContext: Added JAR file:/C:/Users/alvar/AppData/Local/Coursier/cache/v1/https/repo1.maven.org/maven2/com/ning/compress-lzf/1.0.3/compress-lzf-1.0.3.jar at spark://LAPTOP-30N4Q54J:56381/jars/compress-lzf-1.0.3.jar with timestamp 1679917942342\n",
      "23/03/27 13:52:22 INFO SparkContext: Added JAR file:/C:/Users/alvar/AppData/Local/Coursier/cache/v1/https/repo1.maven.org/maven2/log4j/log4j/1.2.17/log4j-1.2.17.jar at spark://LAPTOP-30N4Q54J:56381/jars/log4j-1.2.17.jar with timestamp 1679917942345\n",
      "23/03/27 13:52:22 INFO SparkContext: Added JAR file:/C:/Users/alvar/AppData/Local/Coursier/cache/v1/https/repo1.maven.org/maven2/com/clearspring/analytics/stream/2.7.0/stream-2.7.0.jar at spark://LAPTOP-30N4Q54J:56381/jars/stream-2.7.0.jar with timestamp 1679917942346\n",
      "23/03/27 13:52:22 INFO SparkContext: Added JAR file:/C:/Users/alvar/AppData/Local/Coursier/cache/v1/https/repo1.maven.org/maven2/com/vlkan/flatbuffers/1.2.0-3f79e055/flatbuffers-1.2.0-3f79e055.jar at spark://LAPTOP-30N4Q54J:56381/jars/flatbuffers-1.2.0-3f79e055.jar with timestamp 1679917942347\n",
      "23/03/27 13:52:22 INFO SparkContext: Added JAR file:/C:/Users/alvar/AppData/Local/Coursier/cache/v1/https/repo1.maven.org/maven2/org/apache/directory/server/apacheds-i18n/2.0.0-M15/apacheds-i18n-2.0.0-M15.jar at spark://LAPTOP-30N4Q54J:56381/jars/apacheds-i18n-2.0.0-M15.jar with timestamp 1679917942348\n",
      "23/03/27 13:52:22 INFO SparkContext: Added JAR file:/C:/Users/alvar/AppData/Local/Coursier/cache/v1/https/repo1.maven.org/maven2/javax/activation/activation/1.1.1/activation-1.1.1.jar at spark://LAPTOP-30N4Q54J:56381/jars/activation-1.1.1.jar with timestamp 1679917942349\n",
      "23/03/27 13:52:22 INFO SparkContext: Added JAR file:/C:/Users/alvar/AppData/Local/Coursier/cache/v1/https/repo1.maven.org/maven2/javax/inject/javax.inject/1/javax.inject-1.jar at spark://LAPTOP-30N4Q54J:56381/jars/javax.inject-1.jar with timestamp 1679917942350\n",
      "23/03/27 13:52:22 INFO SparkContext: Added JAR file:/C:/Users/alvar/AppData/Local/Coursier/cache/v1/https/repo1.maven.org/maven2/org/slf4j/jul-to-slf4j/1.7.16/jul-to-slf4j-1.7.16.jar at spark://LAPTOP-30N4Q54J:56381/jars/jul-to-slf4j-1.7.16.jar with timestamp 1679917942352\n",
      "23/03/27 13:52:22 INFO SparkContext: Added JAR file:/C:/Users/alvar/AppData/Local/Coursier/cache/v1/https/repo1.maven.org/maven2/com/esotericsoftware/minlog/1.3.0/minlog-1.3.0.jar at spark://LAPTOP-30N4Q54J:56381/jars/minlog-1.3.0.jar with timestamp 1679917942353\n",
      "23/03/27 13:52:22 INFO SparkContext: Added JAR file:/C:/Users/alvar/AppData/Local/Coursier/cache/v1/https/repo1.maven.org/maven2/xmlenc/xmlenc/0.52/xmlenc-0.52.jar at spark://LAPTOP-30N4Q54J:56381/jars/xmlenc-0.52.jar with timestamp 1679917942354\n",
      "23/03/27 13:52:22 INFO SparkContext: Added JAR file:/C:/Users/alvar/AppData/Local/Coursier/cache/v1/https/repo1.maven.org/maven2/com/univocity/univocity-parsers/2.7.3/univocity-parsers-2.7.3.jar at spark://LAPTOP-30N4Q54J:56381/jars/univocity-parsers-2.7.3.jar with timestamp 1679917942355\n",
      "23/03/27 13:52:22 INFO SparkContext: Added JAR file:/C:/Users/alvar/AppData/Local/Coursier/cache/v1/https/repo1.maven.org/maven2/org/codehaus/janino/janino/3.0.9/janino-3.0.9.jar at spark://LAPTOP-30N4Q54J:56381/jars/janino-3.0.9.jar with timestamp 1679917942356\n",
      "23/03/27 13:52:22 INFO SparkContext: Added JAR file:/C:/Users/alvar/AppData/Local/Coursier/cache/v1/https/repo1.maven.org/maven2/org/apache/spark/spark-core_2.12/2.4.5/spark-core_2.12-2.4.5.jar at spark://LAPTOP-30N4Q54J:56381/jars/spark-core_2.12-2.4.5.jar with timestamp 1679917942406\n",
      "23/03/27 13:52:22 INFO SparkContext: Added JAR file:/C:/Users/alvar/AppData/Local/Coursier/cache/v1/https/repo1.maven.org/maven2/commons-lang/commons-lang/2.6/commons-lang-2.6.jar at spark://LAPTOP-30N4Q54J:56381/jars/commons-lang-2.6.jar with timestamp 1679917942411\n",
      "23/03/27 13:52:22 INFO SparkContext: Added JAR file:/C:/Users/alvar/AppData/Local/Coursier/cache/v1/https/repo1.maven.org/maven2/org/slf4j/slf4j-api/1.7.25/slf4j-api-1.7.25.jar at spark://LAPTOP-30N4Q54J:56381/jars/slf4j-api-1.7.25.jar with timestamp 1679917942412\n",
      "23/03/27 13:52:22 INFO SparkContext: Added JAR file:/C:/Users/alvar/AppData/Local/Coursier/cache/v1/https/repo1.maven.org/maven2/oro/oro/2.0.8/oro-2.0.8.jar at spark://LAPTOP-30N4Q54J:56381/jars/oro-2.0.8.jar with timestamp 1679917942416\n",
      "23/03/27 13:52:22 INFO SparkContext: Added JAR file:/C:/Users/alvar/AppData/Local/Coursier/cache/v1/https/repo1.maven.org/maven2/javax/annotation/javax.annotation-api/1.2/javax.annotation-api-1.2.jar at spark://LAPTOP-30N4Q54J:56381/jars/javax.annotation-api-1.2.jar with timestamp 1679917942417\n",
      "23/03/27 13:52:22 INFO SparkContext: Added JAR file:/C:/Users/alvar/AppData/Local/Coursier/cache/v1/https/repo1.maven.org/maven2/commons-cli/commons-cli/1.2/commons-cli-1.2.jar at spark://LAPTOP-30N4Q54J:56381/jars/commons-cli-1.2.jar with timestamp 1679917942418\n",
      "23/03/27 13:52:22 INFO SparkContext: Added JAR file:/C:/Users/alvar/AppData/Local/Coursier/cache/v1/https/repo1.maven.org/maven2/org/apache/commons/commons-math3/3.4.1/commons-math3-3.4.1.jar at spark://LAPTOP-30N4Q54J:56381/jars/commons-math3-3.4.1.jar with timestamp 1679917942419\n",
      "23/03/27 13:52:22 INFO SparkContext: Added JAR file:/C:/Users/alvar/AppData/Local/Coursier/cache/v1/https/repo1.maven.org/maven2/org/codehaus/jackson/jackson-core-asl/1.9.13/jackson-core-asl-1.9.13.jar at spark://LAPTOP-30N4Q54J:56381/jars/jackson-core-asl-1.9.13.jar with timestamp 1679917942420\n",
      "23/03/27 13:52:22 INFO SparkContext: Added JAR file:/C:/Users/alvar/AppData/Local/Coursier/cache/v1/https/repo1.maven.org/maven2/org/apache/orc/orc-core/1.5.5/orc-core-1.5.5-nohive.jar at spark://LAPTOP-30N4Q54J:56381/jars/orc-core-1.5.5-nohive.jar with timestamp 1679917942421\n",
      "23/03/27 13:52:22 INFO SparkContext: Added JAR file:/C:/Users/alvar/AppData/Local/Coursier/cache/v1/https/repo1.maven.org/maven2/com/google/guava/guava/16.0.1/guava-16.0.1.jar at spark://LAPTOP-30N4Q54J:56381/jars/guava-16.0.1.jar with timestamp 1679917942422\n",
      "23/03/27 13:52:22 INFO SparkContext: Added JAR file:/C:/Users/alvar/AppData/Local/Coursier/cache/v1/https/repo1.maven.org/maven2/org/apache/hadoop/hadoop-yarn-server-common/2.6.5/hadoop-yarn-server-common-2.6.5.jar at spark://LAPTOP-30N4Q54J:56381/jars/hadoop-yarn-server-common-2.6.5.jar with timestamp 1679917942424\n",
      "23/03/27 13:52:22 INFO SparkContext: Added JAR file:/C:/Users/alvar/AppData/Local/Coursier/cache/v1/https/repo1.maven.org/maven2/org/glassfish/hk2/hk2-api/2.4.0-b34/hk2-api-2.4.0-b34.jar at spark://LAPTOP-30N4Q54J:56381/jars/hk2-api-2.4.0-b34.jar with timestamp 1679917942425\n"
     ]
    },
    {
     "name": "stderr",
     "output_type": "stream",
     "text": [
      "23/03/27 13:52:22 INFO SparkContext: Added JAR file:/C:/Users/alvar/AppData/Local/Coursier/cache/v1/https/repo1.maven.org/maven2/org/fusesource/leveldbjni/leveldbjni-all/1.8/leveldbjni-all-1.8.jar at spark://LAPTOP-30N4Q54J:56381/jars/leveldbjni-all-1.8.jar with timestamp 1679917942425\n",
      "23/03/27 13:52:22 INFO SparkContext: Added JAR file:/C:/Users/alvar/AppData/Local/Coursier/cache/v1/https/repo1.maven.org/maven2/org/glassfish/hk2/osgi-resource-locator/1.0.1/osgi-resource-locator-1.0.1.jar at spark://LAPTOP-30N4Q54J:56381/jars/osgi-resource-locator-1.0.1.jar with timestamp 1679917942427\n",
      "23/03/27 13:52:22 INFO SparkContext: Added JAR file:/C:/Users/alvar/AppData/Local/Coursier/cache/v1/https/repo1.maven.org/maven2/org/scala-lang/modules/scala-parser-combinators_2.12/1.1.0/scala-parser-combinators_2.12-1.1.0.jar at spark://LAPTOP-30N4Q54J:56381/jars/scala-parser-combinators_2.12-1.1.0.jar with timestamp 1679917942427\n",
      "23/03/27 13:52:22 INFO SparkContext: Added JAR file:/C:/Users/alvar/AppData/Local/Coursier/cache/v1/https/repo1.maven.org/maven2/org/apache/spark/spark-catalyst_2.12/2.4.5/spark-catalyst_2.12-2.4.5.jar at spark://LAPTOP-30N4Q54J:56381/jars/spark-catalyst_2.12-2.4.5.jar with timestamp 1679917942428\n",
      "23/03/27 13:52:22 INFO SparkContext: Added JAR file:/C:/Users/alvar/AppData/Local/Coursier/cache/v1/https/repo1.maven.org/maven2/org/apache/hadoop/hadoop-yarn-api/2.6.5/hadoop-yarn-api-2.6.5.jar at spark://LAPTOP-30N4Q54J:56381/jars/hadoop-yarn-api-2.6.5.jar with timestamp 1679917942429\n",
      "23/03/27 13:52:22 INFO SparkContext: Added JAR file:/C:/Users/alvar/AppData/Local/Coursier/cache/v1/https/repo1.maven.org/maven2/org/apache/commons/commons-lang3/3.5/commons-lang3-3.5.jar at spark://LAPTOP-30N4Q54J:56381/jars/commons-lang3-3.5.jar with timestamp 1679917942430\n",
      "23/03/27 13:52:22 INFO SparkContext: Added JAR file:/C:/Users/alvar/AppData/Local/Coursier/cache/v1/https/repo1.maven.org/maven2/commons-collections/commons-collections/3.2.2/commons-collections-3.2.2.jar at spark://LAPTOP-30N4Q54J:56381/jars/commons-collections-3.2.2.jar with timestamp 1679917942430\n",
      "23/03/27 13:52:22 INFO SparkContext: Added JAR file:/C:/Users/alvar/AppData/Local/Coursier/cache/v1/https/repo1.maven.org/maven2/org/glassfish/hk2/hk2-utils/2.4.0-b34/hk2-utils-2.4.0-b34.jar at spark://LAPTOP-30N4Q54J:56381/jars/hk2-utils-2.4.0-b34.jar with timestamp 1679917942431\n",
      "23/03/27 13:52:22 INFO SparkContext: Added JAR file:/C:/Users/alvar/AppData/Local/Coursier/cache/v1/https/repo1.maven.org/maven2/org/tukaani/xz/1.5/xz-1.5.jar at spark://LAPTOP-30N4Q54J:56381/jars/xz-1.5.jar with timestamp 1679917942432\n",
      "23/03/27 13:52:22 INFO SparkContext: Added JAR file:/C:/Users/alvar/AppData/Local/Coursier/cache/v1/https/repo1.maven.org/maven2/org/apache/hadoop/hadoop-common/2.6.5/hadoop-common-2.6.5.jar at spark://LAPTOP-30N4Q54J:56381/jars/hadoop-common-2.6.5.jar with timestamp 1679917942432\n",
      "23/03/27 13:52:22 INFO SparkContext: Added JAR file:/C:/Users/alvar/AppData/Local/Coursier/cache/v1/https/repo1.maven.org/maven2/org/apache/hadoop/hadoop-mapreduce-client-core/2.6.5/hadoop-mapreduce-client-core-2.6.5.jar at spark://LAPTOP-30N4Q54J:56381/jars/hadoop-mapreduce-client-core-2.6.5.jar with timestamp 1679917942433\n",
      "23/03/27 13:52:22 INFO SparkContext: Added JAR file:/C:/Users/alvar/AppData/Local/Coursier/cache/v1/https/repo1.maven.org/maven2/jline/jline/0.9.94/jline-0.9.94.jar at spark://LAPTOP-30N4Q54J:56381/jars/jline-0.9.94.jar with timestamp 1679917942434\n",
      "23/03/27 13:52:22 INFO SparkContext: Added JAR file:/C:/Users/alvar/AppData/Local/Coursier/cache/v1/https/repo1.maven.org/maven2/org/apache/orc/orc-mapreduce/1.5.5/orc-mapreduce-1.5.5-nohive.jar at spark://LAPTOP-30N4Q54J:56381/jars/orc-mapreduce-1.5.5-nohive.jar with timestamp 1679917942435\n",
      "23/03/27 13:52:22 INFO SparkContext: Added JAR file:/C:/Users/alvar/AppData/Local/Coursier/cache/v1/https/repo1.maven.org/maven2/org/apache/httpcomponents/httpclient/4.2.5/httpclient-4.2.5.jar at spark://LAPTOP-30N4Q54J:56381/jars/httpclient-4.2.5.jar with timestamp 1679917942435\n",
      "23/03/27 13:52:22 INFO SparkContext: Added JAR file:/C:/Users/alvar/AppData/Local/Coursier/cache/v1/https/repo1.maven.org/maven2/org/apache/hadoop/hadoop-annotations/2.6.5/hadoop-annotations-2.6.5.jar at spark://LAPTOP-30N4Q54J:56381/jars/hadoop-annotations-2.6.5.jar with timestamp 1679917942436\n",
      "23/03/27 13:52:22 INFO SparkContext: Added JAR file:/C:/Users/alvar/AppData/Local/Coursier/cache/v1/https/repo1.maven.org/maven2/org/spark-project/spark/unused/1.0.0/unused-1.0.0.jar at spark://LAPTOP-30N4Q54J:56381/jars/unused-1.0.0.jar with timestamp 1679917942500\n",
      "23/03/27 13:52:22 INFO SparkContext: Added JAR file:/C:/Users/alvar/AppData/Local/Coursier/cache/v1/https/repo1.maven.org/maven2/org/glassfish/jersey/containers/jersey-container-servlet-core/2.22.2/jersey-container-servlet-core-2.22.2.jar at spark://LAPTOP-30N4Q54J:56381/jars/jersey-container-servlet-core-2.22.2.jar with timestamp 1679917942502\n",
      "23/03/27 13:52:22 INFO SparkContext: Added JAR file:/C:/Users/alvar/AppData/Local/Coursier/cache/v1/https/repo1.maven.org/maven2/org/codehaus/janino/commons-compiler/3.0.9/commons-compiler-3.0.9.jar at spark://LAPTOP-30N4Q54J:56381/jars/commons-compiler-3.0.9.jar with timestamp 1679917942503\n",
      "23/03/27 13:52:22 INFO SparkContext: Added JAR file:/C:/Users/alvar/AppData/Local/Coursier/cache/v1/https/repo1.maven.org/maven2/org/glassfish/hk2/hk2-locator/2.4.0-b34/hk2-locator-2.4.0-b34.jar at spark://LAPTOP-30N4Q54J:56381/jars/hk2-locator-2.4.0-b34.jar with timestamp 1679917942504\n",
      "23/03/27 13:52:22 INFO SparkContext: Added JAR file:/C:/Users/alvar/AppData/Local/Coursier/cache/v1/https/repo1.maven.org/maven2/org/codehaus/jackson/jackson-mapper-asl/1.9.13/jackson-mapper-asl-1.9.13.jar at spark://LAPTOP-30N4Q54J:56381/jars/jackson-mapper-asl-1.9.13.jar with timestamp 1679917942505\n",
      "23/03/27 13:52:22 INFO SparkContext: Added JAR file:/C:/Users/alvar/AppData/Local/Coursier/cache/v1/https/repo1.maven.org/maven2/net/sf/py4j/py4j/0.10.7/py4j-0.10.7.jar at spark://LAPTOP-30N4Q54J:56381/jars/py4j-0.10.7.jar with timestamp 1679917942507\n",
      "23/03/27 13:52:22 INFO SparkContext: Added JAR file:/C:/Users/alvar/AppData/Local/Coursier/cache/v1/https/repo1.maven.org/maven2/org/apache/curator/curator-recipes/2.6.0/curator-recipes-2.6.0.jar at spark://LAPTOP-30N4Q54J:56381/jars/curator-recipes-2.6.0.jar with timestamp 1679917942508\n",
      "23/03/27 13:52:22 INFO SparkContext: Added JAR file:/C:/Users/alvar/AppData/Local/Coursier/cache/v1/https/repo1.maven.org/maven2/com/google/code/findbugs/jsr305/3.0.2/jsr305-3.0.2.jar at spark://LAPTOP-30N4Q54J:56381/jars/jsr305-3.0.2.jar with timestamp 1679917942510\n",
      "23/03/27 13:52:22 INFO SparkContext: Added JAR file:/C:/Users/alvar/AppData/Local/Coursier/cache/v1/https/repo1.maven.org/maven2/org/apache/orc/orc-shims/1.5.5/orc-shims-1.5.5.jar at spark://LAPTOP-30N4Q54J:56381/jars/orc-shims-1.5.5.jar with timestamp 1679917942512\n",
      "23/03/27 13:52:22 INFO SparkContext: Added JAR file:/C:/Users/alvar/AppData/Local/Coursier/cache/v1/https/repo1.maven.org/maven2/org/apache/curator/curator-client/2.6.0/curator-client-2.6.0.jar at spark://LAPTOP-30N4Q54J:56381/jars/curator-client-2.6.0.jar with timestamp 1679917942512\n",
      "23/03/27 13:52:22 INFO SparkContext: Added JAR file:/C:/Users/alvar/AppData/Local/Coursier/cache/v1/https/repo1.maven.org/maven2/org/xerial/snappy/snappy-java/1.1.7.3/snappy-java-1.1.7.3.jar at spark://LAPTOP-30N4Q54J:56381/jars/snappy-java-1.1.7.3.jar with timestamp 1679917942513\n",
      "23/03/27 13:52:22 INFO SparkContext: Added JAR file:/C:/Users/alvar/AppData/Local/Coursier/cache/v1/https/repo1.maven.org/maven2/javax/validation/validation-api/1.1.0.Final/validation-api-1.1.0.Final.jar at spark://LAPTOP-30N4Q54J:56381/jars/validation-api-1.1.0.Final.jar with timestamp 1679917942514\n",
      "23/03/27 13:52:22 INFO SparkContext: Added JAR file:/C:/Users/alvar/AppData/Local/Coursier/cache/v1/https/repo1.maven.org/maven2/org/apache/hadoop/hadoop-hdfs/2.6.5/hadoop-hdfs-2.6.5.jar at spark://LAPTOP-30N4Q54J:56381/jars/hadoop-hdfs-2.6.5.jar with timestamp 1679917942518\n",
      "23/03/27 13:52:22 INFO SparkContext: Added JAR file:/C:/Users/alvar/AppData/Local/Coursier/cache/v1/https/repo1.maven.org/maven2/org/apache/ivy/ivy/2.4.0/ivy-2.4.0.jar at spark://LAPTOP-30N4Q54J:56381/jars/ivy-2.4.0.jar with timestamp 1679917942519\n"
     ]
    },
    {
     "name": "stderr",
     "output_type": "stream",
     "text": [
      "23/03/27 13:52:22 INFO SparkContext: Added JAR file:/C:/Users/alvar/AppData/Local/Coursier/cache/v1/https/repo1.maven.org/maven2/javax/xml/stream/stax-api/1.0-2/stax-api-1.0-2.jar at spark://LAPTOP-30N4Q54J:56381/jars/stax-api-1.0-2.jar with timestamp 1679917942520\n",
      "23/03/27 13:52:22 INFO SparkContext: Added JAR file:/C:/Users/alvar/AppData/Local/Coursier/cache/v1/https/repo1.maven.org/maven2/org/roaringbitmap/RoaringBitmap/0.7.45/RoaringBitmap-0.7.45.jar at spark://LAPTOP-30N4Q54J:56381/jars/RoaringBitmap-0.7.45.jar with timestamp 1679917942521\n",
      "23/03/27 13:52:22 INFO SparkContext: Added JAR file:/C:/Users/alvar/AppData/Local/Coursier/cache/v1/https/repo1.maven.org/maven2/org/codehaus/jackson/jackson-jaxrs/1.9.13/jackson-jaxrs-1.9.13.jar at spark://LAPTOP-30N4Q54J:56381/jars/jackson-jaxrs-1.9.13.jar with timestamp 1679917942522\n",
      "23/03/27 13:52:22 INFO SparkContext: Added JAR file:/C:/Users/alvar/AppData/Local/Coursier/cache/v1/https/repo1.maven.org/maven2/io/dropwizard/metrics/metrics-json/3.1.5/metrics-json-3.1.5.jar at spark://LAPTOP-30N4Q54J:56381/jars/metrics-json-3.1.5.jar with timestamp 1679917942523\n",
      "23/03/27 13:52:22 INFO SparkContext: Added JAR file:/C:/Users/alvar/AppData/Local/Coursier/cache/v1/https/repo1.maven.org/maven2/org/glassfish/jersey/containers/jersey-container-servlet/2.22.2/jersey-container-servlet-2.22.2.jar at spark://LAPTOP-30N4Q54J:56381/jars/jersey-container-servlet-2.22.2.jar with timestamp 1679917942524\n",
      "23/03/27 13:52:22 INFO SparkContext: Added JAR file:/C:/Users/alvar/AppData/Local/Coursier/cache/v1/https/repo1.maven.org/maven2/org/codehaus/jackson/jackson-xc/1.9.13/jackson-xc-1.9.13.jar at spark://LAPTOP-30N4Q54J:56381/jars/jackson-xc-1.9.13.jar with timestamp 1679917942524\n",
      "23/03/27 13:52:22 INFO SparkContext: Added JAR file:/C:/Users/alvar/AppData/Local/Coursier/cache/v1/https/repo1.maven.org/maven2/javax/ws/rs/javax.ws.rs-api/2.0.1/javax.ws.rs-api-2.0.1.jar at spark://LAPTOP-30N4Q54J:56381/jars/javax.ws.rs-api-2.0.1.jar with timestamp 1679917942525\n",
      "23/03/27 13:52:22 INFO SparkContext: Added JAR file:/C:/Users/alvar/AppData/Local/Coursier/cache/v1/https/repo1.maven.org/maven2/com/fasterxml/jackson/module/jackson-module-scala_2.12/2.6.7.1/jackson-module-scala_2.12-2.6.7.1.jar at spark://LAPTOP-30N4Q54J:56381/jars/jackson-module-scala_2.12-2.6.7.1.jar with timestamp 1679917942535\n",
      "23/03/27 13:52:22 INFO SparkContext: Added JAR file:/C:/Users/alvar/AppData/Local/Coursier/cache/v1/https/repo1.maven.org/maven2/org/apache/parquet/parquet-column/1.10.1/parquet-column-1.10.1.jar at spark://LAPTOP-30N4Q54J:56381/jars/parquet-column-1.10.1.jar with timestamp 1679917942536\n",
      "23/03/27 13:52:22 INFO SparkContext: Added JAR file:/C:/Users/alvar/AppData/Local/Coursier/cache/v1/https/repo1.maven.org/maven2/com/esotericsoftware/kryo-shaded/4.0.2/kryo-shaded-4.0.2.jar at spark://LAPTOP-30N4Q54J:56381/jars/kryo-shaded-4.0.2.jar with timestamp 1679917942542\n",
      "23/03/27 13:52:22 INFO SparkContext: Added JAR file:/C:/Users/alvar/AppData/Local/Coursier/cache/v1/https/repo1.maven.org/maven2/org/apache/directory/api/api-asn1-api/1.0.0-M20/api-asn1-api-1.0.0-M20.jar at spark://LAPTOP-30N4Q54J:56381/jars/api-asn1-api-1.0.0-M20.jar with timestamp 1679917942547\n",
      "23/03/27 13:52:22 INFO SparkContext: Added JAR file:/C:/Users/alvar/AppData/Local/Coursier/cache/v1/https/repo1.maven.org/maven2/net/razorvine/pyrolite/4.13/pyrolite-4.13.jar at spark://LAPTOP-30N4Q54J:56381/jars/pyrolite-4.13.jar with timestamp 1679917942548\n",
      "23/03/27 13:52:22 INFO SparkContext: Added JAR file:/C:/Users/alvar/AppData/Local/Coursier/cache/v1/https/repo1.maven.org/maven2/org/apache/parquet/parquet-format/2.4.0/parquet-format-2.4.0.jar at spark://LAPTOP-30N4Q54J:56381/jars/parquet-format-2.4.0.jar with timestamp 1679917942551\n",
      "23/03/27 13:52:22 INFO SparkContext: Added JAR file:/C:/Users/alvar/AppData/Local/Coursier/cache/v1/https/repo1.maven.org/maven2/org/scala-lang/modules/scala-xml_2.12/1.0.6/scala-xml_2.12-1.0.6.jar at spark://LAPTOP-30N4Q54J:56381/jars/scala-xml_2.12-1.0.6.jar with timestamp 1679917942552\n",
      "23/03/27 13:52:22 INFO SparkContext: Added JAR file:/C:/Users/alvar/AppData/Local/Coursier/cache/v1/https/repo1.maven.org/maven2/org/apache/zookeeper/zookeeper/3.4.6/zookeeper-3.4.6.jar at spark://LAPTOP-30N4Q54J:56381/jars/zookeeper-3.4.6.jar with timestamp 1679917942554\n",
      "23/03/27 13:52:22 INFO SparkContext: Added JAR file:/C:/Users/alvar/AppData/Local/Coursier/cache/v1/https/repo1.maven.org/maven2/org/objenesis/objenesis/2.5.1/objenesis-2.5.1.jar at spark://LAPTOP-30N4Q54J:56381/jars/objenesis-2.5.1.jar with timestamp 1679917942555\n",
      "23/03/27 13:52:22 INFO SparkContext: Added JAR file:/C:/Users/alvar/AppData/Local/Coursier/cache/v1/https/repo1.maven.org/maven2/org/glassfish/jersey/media/jersey-media-jaxb/2.22.2/jersey-media-jaxb-2.22.2.jar at spark://LAPTOP-30N4Q54J:56381/jars/jersey-media-jaxb-2.22.2.jar with timestamp 1679917942556\n",
      "23/03/27 13:52:22 INFO SparkContext: Added JAR file:/C:/Users/alvar/AppData/Local/Coursier/cache/v1/https/repo1.maven.org/maven2/commons-httpclient/commons-httpclient/3.1/commons-httpclient-3.1.jar at spark://LAPTOP-30N4Q54J:56381/jars/commons-httpclient-3.1.jar with timestamp 1679917942557\n",
      "23/03/27 13:52:22 INFO SparkContext: Added JAR file:/C:/Users/alvar/AppData/Local/Coursier/cache/v1/https/repo1.maven.org/maven2/org/apache/hadoop/hadoop-mapreduce-client-jobclient/2.6.5/hadoop-mapreduce-client-jobclient-2.6.5.jar at spark://LAPTOP-30N4Q54J:56381/jars/hadoop-mapreduce-client-jobclient-2.6.5.jar with timestamp 1679917942605\n",
      "23/03/27 13:52:22 INFO SparkContext: Added JAR file:/C:/Users/alvar/AppData/Local/Coursier/cache/v1/https/repo1.maven.org/maven2/io/netty/netty-all/4.1.42.Final/netty-all-4.1.42.Final.jar at spark://LAPTOP-30N4Q54J:56381/jars/netty-all-4.1.42.Final.jar with timestamp 1679917942607\n",
      "23/03/27 13:52:22 INFO SparkContext: Added JAR file:/C:/Users/alvar/AppData/Local/Coursier/cache/v1/https/repo1.maven.org/maven2/org/apache/spark/spark-network-shuffle_2.12/2.4.5/spark-network-shuffle_2.12-2.4.5.jar at spark://LAPTOP-30N4Q54J:56381/jars/spark-network-shuffle_2.12-2.4.5.jar with timestamp 1679917942607\n",
      "23/03/27 13:52:22 INFO SparkContext: Added JAR file:/C:/Users/alvar/AppData/Local/Coursier/cache/v1/https/repo1.maven.org/maven2/org/apache/spark/spark-sketch_2.12/2.4.5/spark-sketch_2.12-2.4.5.jar at spark://LAPTOP-30N4Q54J:56381/jars/spark-sketch_2.12-2.4.5.jar with timestamp 1679917942608\n",
      "23/03/27 13:52:22 INFO SparkContext: Added JAR file:/C:/Users/alvar/AppData/Local/Coursier/cache/v1/https/repo1.maven.org/maven2/com/twitter/chill-java/0.9.3/chill-java-0.9.3.jar at spark://LAPTOP-30N4Q54J:56381/jars/chill-java-0.9.3.jar with timestamp 1679917942611\n",
      "23/03/27 13:52:22 INFO SparkContext: Added JAR file:/C:/Users/alvar/AppData/Local/Coursier/cache/v1/https/repo1.maven.org/maven2/org/json4s/json4s-ast_2.12/3.5.3/json4s-ast_2.12-3.5.3.jar at spark://LAPTOP-30N4Q54J:56381/jars/json4s-ast_2.12-3.5.3.jar with timestamp 1679917942612\n",
      "23/03/27 13:52:22 INFO SparkContext: Added JAR file:/C:/Users/alvar/AppData/Local/Coursier/cache/v1/https/repo1.maven.org/maven2/org/apache/avro/avro-mapred/1.8.2/avro-mapred-1.8.2-hadoop2.jar at spark://LAPTOP-30N4Q54J:56381/jars/avro-mapred-1.8.2-hadoop2.jar with timestamp 1679917942613\n",
      "23/03/27 13:52:22 INFO SparkContext: Added JAR file:/C:/Users/alvar/AppData/Local/Coursier/cache/v1/https/repo1.maven.org/maven2/org/apache/parquet/parquet-encoding/1.10.1/parquet-encoding-1.10.1.jar at spark://LAPTOP-30N4Q54J:56381/jars/parquet-encoding-1.10.1.jar with timestamp 1679917942613\n",
      "23/03/27 13:52:22 INFO SparkContext: Added JAR file:/C:/Users/alvar/AppData/Local/Coursier/cache/v1/https/repo1.maven.org/maven2/commons-net/commons-net/3.1/commons-net-3.1.jar at spark://LAPTOP-30N4Q54J:56381/jars/commons-net-3.1.jar with timestamp 1679917942614\n",
      "23/03/27 13:52:22 INFO SparkContext: Added JAR file:/C:/Users/alvar/AppData/Local/Coursier/cache/v1/https/repo1.maven.org/maven2/io/dropwizard/metrics/metrics-jvm/3.1.5/metrics-jvm-3.1.5.jar at spark://LAPTOP-30N4Q54J:56381/jars/metrics-jvm-3.1.5.jar with timestamp 1679917942616\n",
      "23/03/27 13:52:22 INFO SparkContext: Added JAR file:/C:/Users/alvar/AppData/Local/Coursier/cache/v1/https/repo1.maven.org/maven2/org/glassfish/jersey/core/jersey-client/2.22.2/jersey-client-2.22.2.jar at spark://LAPTOP-30N4Q54J:56381/jars/jersey-client-2.22.2.jar with timestamp 1679917942617\n"
     ]
    },
    {
     "name": "stderr",
     "output_type": "stream",
     "text": [
      "23/03/27 13:52:22 INFO SparkContext: Added JAR file:/C:/Users/alvar/AppData/Local/Coursier/cache/v1/https/repo1.maven.org/maven2/org/apache/arrow/arrow-memory/0.10.0/arrow-memory-0.10.0.jar at spark://LAPTOP-30N4Q54J:56381/jars/arrow-memory-0.10.0.jar with timestamp 1679917942618\n",
      "23/03/27 13:52:22 INFO SparkContext: Added JAR file:/C:/Users/alvar/AppData/Local/Coursier/cache/v1/https/repo1.maven.org/maven2/org/apache/hadoop/hadoop-mapreduce-client-shuffle/2.6.5/hadoop-mapreduce-client-shuffle-2.6.5.jar at spark://LAPTOP-30N4Q54J:56381/jars/hadoop-mapreduce-client-shuffle-2.6.5.jar with timestamp 1679917942618\n",
      "23/03/27 13:52:22 INFO SparkContext: Added JAR file:/C:/Users/alvar/AppData/Local/Coursier/cache/v1/https/repo1.maven.org/maven2/com/fasterxml/jackson/module/jackson-module-paranamer/2.7.9/jackson-module-paranamer-2.7.9.jar at spark://LAPTOP-30N4Q54J:56381/jars/jackson-module-paranamer-2.7.9.jar with timestamp 1679917942619\n",
      "23/03/27 13:52:22 INFO SparkContext: Added JAR file:/C:/Users/alvar/AppData/Local/Coursier/cache/v1/https/repo1.maven.org/maven2/org/apache/hadoop/hadoop-mapreduce-client-app/2.6.5/hadoop-mapreduce-client-app-2.6.5.jar at spark://LAPTOP-30N4Q54J:56381/jars/hadoop-mapreduce-client-app-2.6.5.jar with timestamp 1679917942700\n",
      "23/03/27 13:52:22 INFO SparkContext: Added JAR file:/C:/Users/alvar/AppData/Local/Coursier/cache/v1/https/repo1.maven.org/maven2/org/htrace/htrace-core/3.0.4/htrace-core-3.0.4.jar at spark://LAPTOP-30N4Q54J:56381/jars/htrace-core-3.0.4.jar with timestamp 1679917942701\n",
      "23/03/27 13:52:22 INFO SparkContext: Added JAR file:/C:/Users/alvar/AppData/Local/Coursier/cache/v1/https/repo1.maven.org/maven2/org/glassfish/jersey/bundles/repackaged/jersey-guava/2.22.2/jersey-guava-2.22.2.jar at spark://LAPTOP-30N4Q54J:56381/jars/jersey-guava-2.22.2.jar with timestamp 1679917942701\n",
      "23/03/27 13:52:22 INFO SparkContext: Added JAR file:/C:/Users/alvar/AppData/Local/Coursier/cache/v1/https/repo1.maven.org/maven2/commons-digester/commons-digester/1.8/commons-digester-1.8.jar at spark://LAPTOP-30N4Q54J:56381/jars/commons-digester-1.8.jar with timestamp 1679917942702\n",
      "23/03/27 13:52:22 INFO SparkContext: Added JAR file:/C:/Users/alvar/AppData/Local/Coursier/cache/v1/https/repo1.maven.org/maven2/org/apache/spark/spark-launcher_2.12/2.4.5/spark-launcher_2.12-2.4.5.jar at spark://LAPTOP-30N4Q54J:56381/jars/spark-launcher_2.12-2.4.5.jar with timestamp 1679917942703\n",
      "23/03/27 13:52:22 INFO SparkContext: Added JAR file:/C:/Users/alvar/AppData/Local/Coursier/cache/v1/https/repo1.maven.org/maven2/com/twitter/chill_2.12/0.9.3/chill_2.12-0.9.3.jar at spark://LAPTOP-30N4Q54J:56381/jars/chill_2.12-0.9.3.jar with timestamp 1679917942703\n",
      "23/03/27 13:52:22 INFO SparkContext: Added JAR file:/C:/Users/alvar/AppData/Local/Coursier/cache/v1/https/repo1.maven.org/maven2/org/apache/arrow/arrow-format/0.10.0/arrow-format-0.10.0.jar at spark://LAPTOP-30N4Q54J:56381/jars/arrow-format-0.10.0.jar with timestamp 1679917942704\n",
      "23/03/27 13:52:22 INFO SparkContext: Added JAR file:/C:/Users/alvar/AppData/Local/Coursier/cache/v1/https/repo1.maven.org/maven2/com/google/protobuf/protobuf-java/2.5.0/protobuf-java-2.5.0.jar at spark://LAPTOP-30N4Q54J:56381/jars/protobuf-java-2.5.0.jar with timestamp 1679917942705\n",
      "23/03/27 13:52:22 INFO SparkContext: Added JAR file:/C:/Users/alvar/AppData/Local/Coursier/cache/v1/https/repo1.maven.org/maven2/org/apache/directory/server/apacheds-kerberos-codec/2.0.0-M15/apacheds-kerberos-codec-2.0.0-M15.jar at spark://LAPTOP-30N4Q54J:56381/jars/apacheds-kerberos-codec-2.0.0-M15.jar with timestamp 1679917942706\n",
      "23/03/27 13:52:22 INFO SparkContext: Added JAR file:/C:/Users/alvar/AppData/Local/Coursier/cache/v1/https/repo1.maven.org/maven2/org/apache/hadoop/hadoop-client/2.6.5/hadoop-client-2.6.5.jar at spark://LAPTOP-30N4Q54J:56381/jars/hadoop-client-2.6.5.jar with timestamp 1679917942707\n",
      "23/03/27 13:52:22 INFO SparkContext: Added JAR file:/C:/Users/alvar/AppData/Local/Coursier/cache/v1/https/repo1.maven.org/maven2/io/dropwizard/metrics/metrics-graphite/3.1.5/metrics-graphite-3.1.5.jar at spark://LAPTOP-30N4Q54J:56381/jars/metrics-graphite-3.1.5.jar with timestamp 1679917942707\n",
      "23/03/27 13:52:22 INFO SparkContext: Added JAR file:/C:/Users/alvar/AppData/Local/Coursier/cache/v1/https/repo1.maven.org/maven2/org/json4s/json4s-jackson_2.12/3.5.3/json4s-jackson_2.12-3.5.3.jar at spark://LAPTOP-30N4Q54J:56381/jars/json4s-jackson_2.12-3.5.3.jar with timestamp 1679917942708\n",
      "23/03/27 13:52:22 INFO SparkContext: Added JAR file:/C:/Users/alvar/AppData/Local/Coursier/cache/v1/https/repo1.maven.org/maven2/org/glassfish/hk2/external/javax.inject/2.4.0-b34/javax.inject-2.4.0-b34.jar at spark://LAPTOP-30N4Q54J:56381/jars/javax.inject-2.4.0-b34.jar with timestamp 1679917942710\n",
      "23/03/27 13:52:22 INFO SparkContext: Added JAR file:/C:/Users/alvar/AppData/Local/Coursier/cache/v1/https/repo1.maven.org/maven2/org/glassfish/jersey/core/jersey-server/2.22.2/jersey-server-2.22.2.jar at spark://LAPTOP-30N4Q54J:56381/jars/jersey-server-2.22.2.jar with timestamp 1679917942713\n",
      "23/03/27 13:52:22 INFO SparkContext: Added JAR file:/C:/Users/alvar/AppData/Local/Coursier/cache/v1/https/repo1.maven.org/maven2/com/fasterxml/jackson/core/jackson-annotations/2.6.7/jackson-annotations-2.6.7.jar at spark://LAPTOP-30N4Q54J:56381/jars/jackson-annotations-2.6.7.jar with timestamp 1679917942714\n",
      "23/03/27 13:52:22 INFO SparkContext: Added JAR file:/C:/Users/alvar/AppData/Local/Coursier/cache/v1/https/repo1.maven.org/maven2/org/apache/hadoop/hadoop-mapreduce-client-common/2.6.5/hadoop-mapreduce-client-common-2.6.5.jar at spark://LAPTOP-30N4Q54J:56381/jars/hadoop-mapreduce-client-common-2.6.5.jar with timestamp 1679917942715\n",
      "23/03/27 13:52:22 INFO SparkContext: Added JAR file:/C:/Users/alvar/AppData/Local/Coursier/cache/v1/https/repo1.maven.org/maven2/org/apache/curator/curator-framework/2.6.0/curator-framework-2.6.0.jar at spark://LAPTOP-30N4Q54J:56381/jars/curator-framework-2.6.0.jar with timestamp 1679917942716\n",
      "23/03/27 13:52:22 INFO SparkContext: Added JAR file:/C:/Users/alvar/AppData/Local/Coursier/cache/v1/https/repo1.maven.org/maven2/sh/almond/almond-spark_2.12/0.4.0/almond-spark_2.12-0.4.0.jar at spark://LAPTOP-30N4Q54J:56381/jars/almond-spark_2.12-0.4.0.jar with timestamp 1679917942717\n",
      "23/03/27 13:52:22 INFO SparkContext: Added JAR file:/C:/Users/alvar/AppData/Local/Coursier/cache/v1/https/repo1.maven.org/maven2/io/argonaut/argonaut_2.12/6.2.3/argonaut_2.12-6.2.3.jar at spark://LAPTOP-30N4Q54J:56381/jars/argonaut_2.12-6.2.3.jar with timestamp 1679917942718\n",
      "23/03/27 13:52:22 INFO SparkContext: Added JAR file:/C:/Users/alvar/AppData/Local/Coursier/cache/v1/https/repo1.maven.org/maven2/org/eclipse/jetty/jetty-server/9.4.15.v20190215/jetty-server-9.4.15.v20190215.jar at spark://LAPTOP-30N4Q54J:56381/jars/jetty-server-9.4.15.v20190215.jar with timestamp 1679917942719\n",
      "23/03/27 13:52:22 INFO SparkContext: Added JAR file:/C:/Users/alvar/AppData/Local/Coursier/cache/v1/https/repo1.maven.org/maven2/sh/almond/ammonite-spark_2.12/0.4.0/ammonite-spark_2.12-0.4.0.jar at spark://LAPTOP-30N4Q54J:56381/jars/ammonite-spark_2.12-0.4.0.jar with timestamp 1679917942720\n",
      "23/03/27 13:52:22 INFO SparkContext: Added JAR file:/C:/Users/alvar/AppData/Local/Coursier/cache/v1/https/repo1.maven.org/maven2/com/github/alexarchambault/argonaut-shapeless_6.2_2.12/1.2.0-M10/argonaut-shapeless_6.2_2.12-1.2.0-M10.jar at spark://LAPTOP-30N4Q54J:56381/jars/argonaut-shapeless_6.2_2.12-1.2.0-M10.jar with timestamp 1679917942721\n",
      "23/03/27 13:52:22 INFO SparkContext: Added JAR file:/C:/Users/alvar/AppData/Local/Coursier/cache/v1/https/repo1.maven.org/maven2/org/eclipse/jetty/jetty-io/9.4.15.v20190215/jetty-io-9.4.15.v20190215.jar at spark://LAPTOP-30N4Q54J:56381/jars/jetty-io-9.4.15.v20190215.jar with timestamp 1679917942721\n",
      "23/03/27 13:52:22 INFO SparkContext: Added JAR file:/C:/Users/alvar/AppData/Local/Coursier/cache/v1/https/repo1.maven.org/maven2/org/typelevel/macro-compat_2.12/1.1.1/macro-compat_2.12-1.1.1.jar at spark://LAPTOP-30N4Q54J:56381/jars/macro-compat_2.12-1.1.1.jar with timestamp 1679917942722\n",
      "23/03/27 13:52:22 INFO SparkContext: Added JAR file:/C:/Users/alvar/AppData/Local/Coursier/cache/v1/https/repo1.maven.org/maven2/org/eclipse/jetty/jetty-http/9.4.15.v20190215/jetty-http-9.4.15.v20190215.jar at spark://LAPTOP-30N4Q54J:56381/jars/jetty-http-9.4.15.v20190215.jar with timestamp 1679917942723\n"
     ]
    },
    {
     "name": "stderr",
     "output_type": "stream",
     "text": [
      "23/03/27 13:52:22 INFO SparkContext: Added JAR file:/C:/Users/alvar/AppData/Local/Coursier/cache/v1/https/repo1.maven.org/maven2/org/eclipse/jetty/jetty-util/9.4.15.v20190215/jetty-util-9.4.15.v20190215.jar at spark://LAPTOP-30N4Q54J:56381/jars/jetty-util-9.4.15.v20190215.jar with timestamp 1679917942724\n",
      "23/03/27 13:52:22 INFO SparkContext: Added JAR file:/C:/Users/alvar/AppData/Local/Coursier/cache/v1/https/repo1.maven.org/maven2/com/chuusai/shapeless_2.12/2.3.3/shapeless_2.12-2.3.3.jar at spark://LAPTOP-30N4Q54J:56381/jars/shapeless_2.12-2.3.3.jar with timestamp 1679917942724\n",
      "23/03/27 13:52:22 INFO SparkContext: Added JAR file:/C:/Users/alvar/AppData/Local/Coursier/cache/v1/https/repo1.maven.org/maven2/sh/almond/spark-stubs_24_2.12/0.4.0/spark-stubs_24_2.12-0.4.0.jar at spark://LAPTOP-30N4Q54J:56381/jars/spark-stubs_24_2.12-0.4.0.jar with timestamp 1679917942726\n",
      "23/03/27 13:52:23 INFO Executor: Starting executor ID driver on host localhost\n",
      "23/03/27 13:52:23 INFO Executor: Using REPL class URI: http://192.168.56.1:56351\n",
      "23/03/27 13:52:23 INFO Utils: Successfully started service 'org.apache.spark.network.netty.NettyBlockTransferService' on port 56408.\n",
      "23/03/27 13:52:23 INFO NettyBlockTransferService: Server created on LAPTOP-30N4Q54J:56408\n",
      "23/03/27 13:52:23 INFO BlockManager: Using org.apache.spark.storage.RandomBlockReplicationPolicy for block replication policy\n",
      "23/03/27 13:52:23 INFO BlockManagerMaster: Registering BlockManager BlockManagerId(driver, LAPTOP-30N4Q54J, 56408, None)\n",
      "23/03/27 13:52:23 INFO BlockManagerMasterEndpoint: Registering block manager LAPTOP-30N4Q54J:56408 with 434.4 MB RAM, BlockManagerId(driver, LAPTOP-30N4Q54J, 56408, None)\n",
      "23/03/27 13:52:23 INFO BlockManagerMaster: Registered BlockManager BlockManagerId(driver, LAPTOP-30N4Q54J, 56408, None)\n",
      "23/03/27 13:52:23 INFO BlockManager: Initialized BlockManager: BlockManagerId(driver, LAPTOP-30N4Q54J, 56408, None)\n"
     ]
    },
    {
     "data": {
      "text/html": [
       "<a href=\"http://LAPTOP-30N4Q54J:4040\">Spark UI</a>"
      ]
     },
     "metadata": {},
     "output_type": "display_data"
    },
    {
     "data": {
      "text/plain": [
       "\u001b[32mimport \u001b[39m\u001b[36m$ivy.$                                   \n",
       "\u001b[39m\r\n",
       "\u001b[32mimport \u001b[39m\u001b[36m$ivy.$                              \n",
       "\n",
       "\u001b[39m\r\n",
       "\u001b[32mimport \u001b[39m\u001b[36morg.apache.spark.sql.{NotebookSparkSession, SparkSession}\n",
       "\u001b[39m\r\n",
       "\u001b[32mimport \u001b[39m\u001b[36morg.apache.spark.sql.{functions => func, _}\n",
       "\u001b[39m\r\n",
       "\u001b[32mimport \u001b[39m\u001b[36morg.apache.spark.sql.types._\n",
       "\n",
       "\u001b[39m\r\n",
       "\u001b[36mspark\u001b[39m: \u001b[32mSparkSession\u001b[39m = org.apache.spark.sql.SparkSession@6adb4bdc\r\n",
       "\u001b[32mimport \u001b[39m\u001b[36mspark.implicits._\n",
       "\n",
       "\u001b[39m\r\n",
       "\u001b[32mimport \u001b[39m\u001b[36morg.slf4j.LoggerFactory\n",
       "\u001b[39m\r\n",
       "\u001b[32mimport \u001b[39m\u001b[36morg.apache.log4j.{Level, Logger}\n",
       "\n",
       "\u001b[39m"
      ]
     },
     "execution_count": 1,
     "metadata": {},
     "output_type": "execute_result"
    }
   ],
   "source": [
    "import $ivy.`org.apache.spark::spark-sql:2.4.5` \n",
    "import $ivy.`sh.almond::almond-spark:0.4.0`\n",
    "\n",
    "import org.apache.spark.sql.{NotebookSparkSession, SparkSession}\n",
    "import org.apache.spark.sql.{functions => func, _}\n",
    "import org.apache.spark.sql.types._\n",
    "\n",
    "val spark = NotebookSparkSession\n",
    "      .builder()\n",
    "      .config(\"spark.sql.join.preferSortMergeJoin\", false)\n",
    "      .config(\"spark.sql.shuffle.partitions\", 64)\n",
    "      .master(\"local[4]\")\n",
    "      .getOrCreate()\n",
    "\n",
    "import spark.implicits._\n",
    "\n",
    "import org.slf4j.LoggerFactory\n",
    "import org.apache.log4j.{Level, Logger}\n",
    "\n",
    "Logger.getRootLogger().setLevel(Level.ERROR)"
   ]
  },
  {
   "cell_type": "code",
   "execution_count": 2,
   "id": "df4dfe7c",
   "metadata": {},
   "outputs": [
    {
     "data": {
      "text/html": [
       "<script>\n",
       "var comm = Jupyter.notebook.kernel.comm_manager.new_comm('cancel-stage-4de94186-2cf1-443c-b5c4-26f7c00dedf4', {});\n",
       "\n",
       "function cancelStage(stageId) {\n",
       "  console.log('Cancelling stage ' + stageId);\n",
       "  comm.send({ 'stageId': stageId });\n",
       "}\n",
       "</script>\n",
       "          "
      ]
     },
     "metadata": {},
     "output_type": "display_data"
    },
    {
     "data": {
      "text/html": [
       "<div>\n",
       "  <span style=\"float: left;\">parquet at cmd1.sc:3</span>\n",
       "</div>\n"
      ]
     },
     "metadata": {},
     "output_type": "display_data"
    },
    {
     "data": {
      "text/html": [
       "<div class=\"progress\">\n",
       "  <div class=\"progress-bar\" role=\"progressbar\" style=\"background-color: blue; width: 100%; word-wrap: normal; white-space: nowrap; text-align: center; color: white\" aria-valuenow=\"100\" aria-valuemin=\"0\" aria-valuemax=\"100\">\n",
       "    291 / 291\n",
       "  </div>\n",
       "  <div class=\"progress-bar\" role=\"progressbar\" style=\"background-color: red; width: 0%\" aria-valuenow=\"0\" aria-valuemin=\"0\" aria-valuemax=\"100\"></div>\n",
       "</div>\n"
      ]
     },
     "metadata": {},
     "output_type": "display_data"
    },
    {
     "data": {
      "text/html": [
       "<div>\n",
       "  <span style=\"float: left;\">parquet at cmd1.sc:3</span>\n",
       "</div>\n"
      ]
     },
     "metadata": {},
     "output_type": "display_data"
    },
    {
     "data": {
      "text/html": [
       "<div class=\"progress\">\n",
       "  <div class=\"progress-bar\" role=\"progressbar\" style=\"background-color: blue; width: 100%; word-wrap: normal; white-space: nowrap; text-align: center; color: white\" aria-valuenow=\"100\" aria-valuemin=\"0\" aria-valuemax=\"100\">\n",
       "    1 / 1\n",
       "  </div>\n",
       "  <div class=\"progress-bar\" role=\"progressbar\" style=\"background-color: red; width: 0%\" aria-valuenow=\"0\" aria-valuemin=\"0\" aria-valuemax=\"100\"></div>\n",
       "</div>\n"
      ]
     },
     "metadata": {},
     "output_type": "display_data"
    },
    {
     "data": {
      "text/html": [
       "<div>\n",
       "  <span style=\"float: left;\">csv at cmd1.sc:4</span>\n",
       "</div>\n"
      ]
     },
     "metadata": {},
     "output_type": "display_data"
    },
    {
     "data": {
      "text/html": [
       "<div class=\"progress\">\n",
       "  <div class=\"progress-bar\" role=\"progressbar\" style=\"background-color: blue; width: 100%; word-wrap: normal; white-space: nowrap; text-align: center; color: white\" aria-valuenow=\"100\" aria-valuemin=\"0\" aria-valuemax=\"100\">\n",
       "    1 / 1\n",
       "  </div>\n",
       "  <div class=\"progress-bar\" role=\"progressbar\" style=\"background-color: red; width: 0%\" aria-valuenow=\"0\" aria-valuemin=\"0\" aria-valuemax=\"100\"></div>\n",
       "</div>\n"
      ]
     },
     "metadata": {},
     "output_type": "display_data"
    },
    {
     "data": {
      "text/plain": [
       "\u001b[32mimport \u001b[39m\u001b[36morg.apache.spark.sql.expressions.Window\n",
       "\n",
       "\u001b[39m\r\n",
       "\u001b[36mdata\u001b[39m: \u001b[32mDataFrame\u001b[39m = [fecha: date, nombre: string ... 18 more fields]\r\n",
       "\u001b[36mstations\u001b[39m: \u001b[32mDataFrame\u001b[39m = [provincia: string, indicativo: string ... 1 more field]\r\n",
       "\u001b[36mwindow\u001b[39m: \u001b[32mexpressions\u001b[39m.\u001b[32mWindowSpec\u001b[39m = org.apache.spark.sql.expressions.WindowSpec@79d5df6d\r\n",
       "\u001b[36mresults\u001b[39m: \u001b[32mDataFrame\u001b[39m = [ubicacion: string, provincia: string ... 5 more fields]"
      ]
     },
     "execution_count": 2,
     "metadata": {},
     "output_type": "execute_result"
    }
   ],
   "source": [
    "import org.apache.spark.sql.expressions.Window\n",
    "\n",
    "val data = spark.read.parquet(\"D:/TFGData/dayParquet/\")\n",
    "val stations = spark.read.option(\"delimiter\", \";\").csv(\"D:/TFGData/aemetID.csv\")\n",
    "    .toDF(\"provincia\", \"indicativo\", \"ubicacion\")\n",
    "\n",
    "val window = Window.partitionBy($\"indicativo\", $\"año\").orderBy($\"fecha\")\n",
    "\n",
    "val results = data\n",
    "    .filter(!func.isnull($\"tmax\") && $\"tmax\" >= 40)\n",
    "    .withColumn(\"año\", func.year($\"fecha\"))\n",
    "    .withColumn(\"n_fila\", func.row_number().over(window))\n",
    "    .withColumn(\"id\", func.expr(\"date_sub(fecha, n_fila)\"))\n",
    "    .groupBy($\"indicativo\", $\"año\", $\"id\")\n",
    "    .agg(func.count($\"id\").alias(\"dias\"), func.avg($\"tmax\"), func.max($\"tmax\"), func.min($\"tmax\"))\n",
    "    .filter($\"dias\" > 3)\n",
    "    .join(stations, \"indicativo\")\n",
    "    .select($\"ubicacion\", $\"provincia\", $\"año\", $\"dias\", func.round($\"avg(tmax)\", 2).alias(\"avg(tmax)\"), \n",
    "            $\"max(tmax)\", $\"min(tmax)\")"
   ]
  },
  {
   "cell_type": "code",
   "execution_count": 3,
   "id": "4655d3b9",
   "metadata": {},
   "outputs": [
    {
     "data": {
      "text/html": [
       "<div>\n",
       "  <span style=\"float: left;\">run at ThreadPoolExecutor.java:1128</span>\n",
       "</div>\n"
      ]
     },
     "metadata": {},
     "output_type": "display_data"
    },
    {
     "data": {
      "text/html": [
       "<div class=\"progress\">\n",
       "  <div class=\"progress-bar\" role=\"progressbar\" style=\"background-color: blue; width: 100%; word-wrap: normal; white-space: nowrap; text-align: center; color: white\" aria-valuenow=\"100\" aria-valuemin=\"0\" aria-valuemax=\"100\">\n",
       "    1 / 1\n",
       "  </div>\n",
       "  <div class=\"progress-bar\" role=\"progressbar\" style=\"background-color: red; width: 0%\" aria-valuenow=\"0\" aria-valuemin=\"0\" aria-valuemax=\"100\"></div>\n",
       "</div>\n"
      ]
     },
     "metadata": {},
     "output_type": "display_data"
    },
    {
     "data": {
      "text/html": [
       "<div>\n",
       "  <span style=\"float: left;\">save at cmd2.sc:14</span>\n",
       "</div>\n"
      ]
     },
     "metadata": {},
     "output_type": "display_data"
    },
    {
     "data": {
      "text/html": [
       "<div class=\"progress\">\n",
       "  <div class=\"progress-bar\" role=\"progressbar\" style=\"background-color: blue; width: 100%; word-wrap: normal; white-space: nowrap; text-align: center; color: white\" aria-valuenow=\"100\" aria-valuemin=\"0\" aria-valuemax=\"100\">\n",
       "    193 / 193\n",
       "  </div>\n",
       "  <div class=\"progress-bar\" role=\"progressbar\" style=\"background-color: red; width: 0%\" aria-valuenow=\"0\" aria-valuemin=\"0\" aria-valuemax=\"100\"></div>\n",
       "</div>\n"
      ]
     },
     "metadata": {},
     "output_type": "display_data"
    },
    {
     "data": {
      "text/html": [
       "<div>\n",
       "  <span style=\"float: left;\">save at cmd2.sc:14</span>\n",
       "</div>\n"
      ]
     },
     "metadata": {},
     "output_type": "display_data"
    },
    {
     "data": {
      "text/html": [
       "<div class=\"progress\">\n",
       "  <div class=\"progress-bar\" role=\"progressbar\" style=\"background-color: blue; width: 100%; word-wrap: normal; white-space: nowrap; text-align: center; color: white\" aria-valuenow=\"100\" aria-valuemin=\"0\" aria-valuemax=\"100\">\n",
       "    64 / 64\n",
       "  </div>\n",
       "  <div class=\"progress-bar\" role=\"progressbar\" style=\"background-color: red; width: 0%\" aria-valuenow=\"0\" aria-valuemin=\"0\" aria-valuemax=\"100\"></div>\n",
       "</div>\n"
      ]
     },
     "metadata": {},
     "output_type": "display_data"
    },
    {
     "data": {
      "text/html": [
       "<div>\n",
       "  <span style=\"float: left;\">save at cmd2.sc:14</span>\n",
       "</div>\n"
      ]
     },
     "metadata": {},
     "output_type": "display_data"
    },
    {
     "data": {
      "text/html": [
       "<div class=\"progress\">\n",
       "  <div class=\"progress-bar\" role=\"progressbar\" style=\"background-color: blue; width: 100%; word-wrap: normal; white-space: nowrap; text-align: center; color: white\" aria-valuenow=\"100\" aria-valuemin=\"0\" aria-valuemax=\"100\">\n",
       "    64 / 64\n",
       "  </div>\n",
       "  <div class=\"progress-bar\" role=\"progressbar\" style=\"background-color: red; width: 0%\" aria-valuenow=\"0\" aria-valuemin=\"0\" aria-valuemax=\"100\"></div>\n",
       "</div>\n"
      ]
     },
     "metadata": {},
     "output_type": "display_data"
    },
    {
     "data": {
      "text/plain": [
       "\u001b[36mresultsSave\u001b[39m: \u001b[32mDataFrame\u001b[39m = [provincia: string, año: int ... 5 more fields]"
      ]
     },
     "execution_count": 3,
     "metadata": {},
     "output_type": "execute_result"
    }
   ],
   "source": [
    "val resultsSave = results\n",
    "    .groupBy($\"provincia\", $\"año\")\n",
    "    .agg(func.count($\"provincia\"), func.avg($\"dias\"), func.avg($\"avg(tmax)\"), func.max($\"max(tmax)\"), func.min($\"min(tmax)\"))\n",
    "    .select($\"provincia\", $\"año\", $\"count(provincia)\".alias(\"nº de olas de calor\"), \n",
    "            $\"avg(dias)\".alias(\"duracion media\"), $\"avg(avg(tmax))\".alias(\"avg(tmax)\"), \n",
    "            $\"max(max(tmax))\".alias(\"max(tmax)\"), $\"min(min(tmax))\".alias(\"min(tmax)\"))\n",
    "    \n",
    "resultsSave\n",
    "    .withColumnRenamed(\"nº de olas de calor\", \"nOlasCalor\")\n",
    "    .withColumnRenamed(\"duracion media\", \"duracionMedia\")\n",
    "    .withColumnRenamed(\"avg(tmax)\", \"avgTmax\")\n",
    "    .withColumnRenamed(\"max(tmax)\", \"maxTmax\")\n",
    "    .withColumnRenamed(\"min(tmax)\", \"minTmax\")\n",
    "    .write.format(\"parquet\").partitionBy(\"año\").mode(\"overwrite\").save(\"D:/borrar/\")"
   ]
  },
  {
   "cell_type": "code",
   "execution_count": null,
   "id": "9a41e4fe",
   "metadata": {},
   "outputs": [],
   "source": [
    "results\n",
    "    .withColumnRenamed(\"dias\", \"duracion (dias)\")\n",
    "    .withColumnRenamed(\"avg(tmax)\", \"temperatura media\")\n",
    "    .withColumnRenamed(\"max(tmax)\", \"temperatura maxima\")\n",
    "    .withColumnRenamed(\"min(tmax)\", \"temperatura minima\")\n",
    "    .orderBy($\"ubicacion\", $\"año\")\n",
    "    .show()"
   ]
  },
  {
   "cell_type": "code",
   "execution_count": null,
   "id": "c54e2f79",
   "metadata": {},
   "outputs": [],
   "source": [
    "results\n",
    "    .groupBy($\"año\")\n",
    "    .agg(func.count($\"año\").alias(\"nº olas de calor\"))\n",
    "    .orderBy($\"año\")\n",
    "    .show()"
   ]
  },
  {
   "cell_type": "markdown",
   "id": "eb41e108",
   "metadata": {},
   "source": [
    "Para observar los resultados de forma gráfica en el mapa acceder al notebook `Olas de calor - Representación en mapa`"
   ]
  }
 ],
 "metadata": {
  "kernelspec": {
   "display_name": "Scala",
   "language": "scala",
   "name": "scala"
  },
  "language_info": {
   "codemirror_mode": "text/x-scala",
   "file_extension": ".scala",
   "mimetype": "text/x-scala",
   "name": "scala",
   "nbconvert_exporter": "script",
   "version": "2.12.8"
  }
 },
 "nbformat": 4,
 "nbformat_minor": 5
}
