{
 "cells": [
  {
   "cell_type": "code",
   "execution_count": 1,
   "id": "6ab25de9",
   "metadata": {},
   "outputs": [
    {
     "name": "stdout",
     "output_type": "stream",
     "text": [
      "Loading spark-stubs\n"
     ]
    },
    {
     "name": "stderr",
     "output_type": "stream",
     "text": [
      "log4j:WARN No appenders could be found for logger (org.eclipse.jetty.util.log).\n",
      "log4j:WARN Please initialize the log4j system properly.\n",
      "log4j:WARN See http://logging.apache.org/log4j/1.2/faq.html#noconfig for more info.\n"
     ]
    },
    {
     "name": "stdout",
     "output_type": "stream",
     "text": [
      "Creating SparkSession\n"
     ]
    },
    {
     "name": "stderr",
     "output_type": "stream",
     "text": [
      "Using Spark's default log4j profile: org/apache/spark/log4j-defaults.properties\n",
      "22/10/02 17:49:24 INFO SparkContext: Running Spark version 2.4.5\n",
      "22/10/02 17:49:24 INFO SparkContext: Submitted application: b07f4ddc-29ff-4473-b8f8-a0de45f8e434\n",
      "22/10/02 17:49:24 INFO SecurityManager: Changing view acls to: Alvaro\n",
      "22/10/02 17:49:24 INFO SecurityManager: Changing modify acls to: Alvaro\n",
      "22/10/02 17:49:24 INFO SecurityManager: Changing view acls groups to: \n",
      "22/10/02 17:49:24 INFO SecurityManager: Changing modify acls groups to: \n",
      "22/10/02 17:49:24 INFO SecurityManager: SecurityManager: authentication disabled; ui acls disabled; users  with view permissions: Set(Alvaro); groups with view permissions: Set(); users  with modify permissions: Set(Alvaro); groups with modify permissions: Set()\n",
      "22/10/02 17:49:26 INFO Utils: Successfully started service 'sparkDriver' on port 52628.\n",
      "22/10/02 17:49:26 INFO SparkEnv: Registering MapOutputTracker\n",
      "22/10/02 17:49:26 INFO SparkEnv: Registering BlockManagerMaster\n",
      "22/10/02 17:49:26 INFO BlockManagerMasterEndpoint: Using org.apache.spark.storage.DefaultTopologyMapper for getting topology information\n",
      "22/10/02 17:49:26 INFO BlockManagerMasterEndpoint: BlockManagerMasterEndpoint up\n",
      "22/10/02 17:49:26 INFO DiskBlockManager: Created local directory at C:\\Users\\alvar\\AppData\\Local\\Temp\\blockmgr-0b6ceb4a-18d6-48fd-95e2-29582474d37c\n",
      "22/10/02 17:49:26 INFO MemoryStore: MemoryStore started with capacity 1646.4 MB\n",
      "22/10/02 17:49:26 INFO SparkEnv: Registering OutputCommitCoordinator\n",
      "22/10/02 17:49:26 INFO Utils: Successfully started service 'SparkUI' on port 4040.\n",
      "22/10/02 17:49:26 INFO SparkUI: Bound SparkUI to 0.0.0.0, and started at http://LAPTOP-30N4Q54J.mshome.net:4040\n",
      "22/10/02 17:49:26 INFO SparkContext: Added JAR file:/C:/Users/alvar/AppData/Local/Coursier/cache/v1/https/jitpack.io/com/github/jupyter/jvm-repr/0.4.0/jvm-repr-0.4.0.jar at spark://LAPTOP-30N4Q54J.mshome.net:52628/jars/jvm-repr-0.4.0.jar with timestamp 1664725766714\n",
      "22/10/02 17:49:26 INFO SparkContext: Added JAR file:/C:/Users/alvar/AppData/Local/Coursier/cache/v1/https/repo1.maven.org/maven2/com/github/javaparser/javaparser-core/3.2.5/javaparser-core-3.2.5.jar at spark://LAPTOP-30N4Q54J.mshome.net:52628/jars/javaparser-core-3.2.5.jar with timestamp 1664725766716\n",
      "22/10/02 17:49:26 INFO SparkContext: Added JAR file:/C:/Users/alvar/AppData/Local/Coursier/cache/v1/https/repo1.maven.org/maven2/com/github/scopt/scopt_2.12/3.5.0/scopt_2.12-3.5.0.jar at spark://LAPTOP-30N4Q54J.mshome.net:52628/jars/scopt_2.12-3.5.0.jar with timestamp 1664725766718\n",
      "22/10/02 17:49:26 INFO SparkContext: Added JAR file:/C:/Users/alvar/AppData/Local/Coursier/cache/v1/https/repo1.maven.org/maven2/com/lihaoyi/acyclic_2.12/0.1.5/acyclic_2.12-0.1.5.jar at spark://LAPTOP-30N4Q54J.mshome.net:52628/jars/acyclic_2.12-0.1.5.jar with timestamp 1664725766718\n",
      "22/10/02 17:49:26 INFO SparkContext: Added JAR file:/C:/Users/alvar/AppData/Local/Coursier/cache/v1/https/repo1.maven.org/maven2/com/lihaoyi/ammonite-interp_2.12.8/1.6.5/ammonite-interp_2.12.8-1.6.5.jar at spark://LAPTOP-30N4Q54J.mshome.net:52628/jars/ammonite-interp_2.12.8-1.6.5.jar with timestamp 1664725766719\n",
      "22/10/02 17:49:26 INFO SparkContext: Added JAR file:/C:/Users/alvar/AppData/Local/Coursier/cache/v1/https/repo1.maven.org/maven2/com/lihaoyi/ammonite-ops_2.12/1.6.5/ammonite-ops_2.12-1.6.5.jar at spark://LAPTOP-30N4Q54J.mshome.net:52628/jars/ammonite-ops_2.12-1.6.5.jar with timestamp 1664725766720\n",
      "22/10/02 17:49:26 INFO SparkContext: Added JAR file:/C:/Users/alvar/AppData/Local/Coursier/cache/v1/https/repo1.maven.org/maven2/com/lihaoyi/ammonite-repl_2.12.8/1.6.5/ammonite-repl_2.12.8-1.6.5.jar at spark://LAPTOP-30N4Q54J.mshome.net:52628/jars/ammonite-repl_2.12.8-1.6.5.jar with timestamp 1664725766722\n",
      "22/10/02 17:49:26 INFO SparkContext: Added JAR file:/C:/Users/alvar/AppData/Local/Coursier/cache/v1/https/repo1.maven.org/maven2/com/lihaoyi/ammonite-runtime_2.12/1.6.5/ammonite-runtime_2.12-1.6.5.jar at spark://LAPTOP-30N4Q54J.mshome.net:52628/jars/ammonite-runtime_2.12-1.6.5.jar with timestamp 1664725766725\n",
      "22/10/02 17:49:26 INFO SparkContext: Added JAR file:/C:/Users/alvar/AppData/Local/Coursier/cache/v1/https/repo1.maven.org/maven2/com/lihaoyi/ammonite-terminal_2.12/1.6.5/ammonite-terminal_2.12-1.6.5.jar at spark://LAPTOP-30N4Q54J.mshome.net:52628/jars/ammonite-terminal_2.12-1.6.5.jar with timestamp 1664725766771\n",
      "22/10/02 17:49:26 INFO SparkContext: Added JAR file:/C:/Users/alvar/AppData/Local/Coursier/cache/v1/https/repo1.maven.org/maven2/com/lihaoyi/ammonite-util_2.12/1.6.5/ammonite-util_2.12-1.6.5.jar at spark://LAPTOP-30N4Q54J.mshome.net:52628/jars/ammonite-util_2.12-1.6.5.jar with timestamp 1664725766774\n",
      "22/10/02 17:49:26 INFO SparkContext: Added JAR file:/C:/Users/alvar/AppData/Local/Coursier/cache/v1/https/repo1.maven.org/maven2/com/lihaoyi/fansi_2.12/0.2.4/fansi_2.12-0.2.4.jar at spark://LAPTOP-30N4Q54J.mshome.net:52628/jars/fansi_2.12-0.2.4.jar with timestamp 1664725766778\n",
      "22/10/02 17:49:26 INFO SparkContext: Added JAR file:/C:/Users/alvar/AppData/Local/Coursier/cache/v1/https/repo1.maven.org/maven2/com/lihaoyi/fastparse_2.12/2.1.0/fastparse_2.12-2.1.0.jar at spark://LAPTOP-30N4Q54J.mshome.net:52628/jars/fastparse_2.12-2.1.0.jar with timestamp 1664725766781\n",
      "22/10/02 17:49:26 INFO SparkContext: Added JAR file:/C:/Users/alvar/AppData/Local/Coursier/cache/v1/https/repo1.maven.org/maven2/com/lihaoyi/geny_2.12/0.1.5/geny_2.12-0.1.5.jar at spark://LAPTOP-30N4Q54J.mshome.net:52628/jars/geny_2.12-0.1.5.jar with timestamp 1664725766783\n",
      "22/10/02 17:49:26 INFO SparkContext: Added JAR file:/C:/Users/alvar/AppData/Local/Coursier/cache/v1/https/repo1.maven.org/maven2/com/lihaoyi/os-lib_2.12/0.2.6/os-lib_2.12-0.2.6.jar at spark://LAPTOP-30N4Q54J.mshome.net:52628/jars/os-lib_2.12-0.2.6.jar with timestamp 1664725766784\n",
      "22/10/02 17:49:26 INFO SparkContext: Added JAR file:/C:/Users/alvar/AppData/Local/Coursier/cache/v1/https/repo1.maven.org/maven2/com/lihaoyi/pprint_2.12/0.5.2/pprint_2.12-0.5.2.jar at spark://LAPTOP-30N4Q54J.mshome.net:52628/jars/pprint_2.12-0.5.2.jar with timestamp 1664725766785\n",
      "22/10/02 17:49:26 INFO SparkContext: Added JAR file:/C:/Users/alvar/AppData/Local/Coursier/cache/v1/https/repo1.maven.org/maven2/com/lihaoyi/requests_2.12/0.1.7/requests_2.12-0.1.7.jar at spark://LAPTOP-30N4Q54J.mshome.net:52628/jars/requests_2.12-0.1.7.jar with timestamp 1664725766786\n",
      "22/10/02 17:49:26 INFO SparkContext: Added JAR file:/C:/Users/alvar/AppData/Local/Coursier/cache/v1/https/repo1.maven.org/maven2/com/lihaoyi/scalaparse_2.12/2.1.0/scalaparse_2.12-2.1.0.jar at spark://LAPTOP-30N4Q54J.mshome.net:52628/jars/scalaparse_2.12-2.1.0.jar with timestamp 1664725766787\n",
      "22/10/02 17:49:26 INFO SparkContext: Added JAR file:/C:/Users/alvar/AppData/Local/Coursier/cache/v1/https/repo1.maven.org/maven2/com/lihaoyi/sourcecode_2.12/0.1.5/sourcecode_2.12-0.1.5.jar at spark://LAPTOP-30N4Q54J.mshome.net:52628/jars/sourcecode_2.12-0.1.5.jar with timestamp 1664725766788\n",
      "22/10/02 17:49:26 INFO SparkContext: Added JAR file:/C:/Users/alvar/AppData/Local/Coursier/cache/v1/https/repo1.maven.org/maven2/com/lihaoyi/ujson_2.12/0.7.1/ujson_2.12-0.7.1.jar at spark://LAPTOP-30N4Q54J.mshome.net:52628/jars/ujson_2.12-0.7.1.jar with timestamp 1664725766790\n",
      "22/10/02 17:49:26 INFO SparkContext: Added JAR file:/C:/Users/alvar/AppData/Local/Coursier/cache/v1/https/repo1.maven.org/maven2/com/lihaoyi/upack_2.12/0.7.1/upack_2.12-0.7.1.jar at spark://LAPTOP-30N4Q54J.mshome.net:52628/jars/upack_2.12-0.7.1.jar with timestamp 1664725766792\n",
      "22/10/02 17:49:26 INFO SparkContext: Added JAR file:/C:/Users/alvar/AppData/Local/Coursier/cache/v1/https/repo1.maven.org/maven2/com/lihaoyi/upickle-core_2.12/0.7.1/upickle-core_2.12-0.7.1.jar at spark://LAPTOP-30N4Q54J.mshome.net:52628/jars/upickle-core_2.12-0.7.1.jar with timestamp 1664725766796\n",
      "22/10/02 17:49:26 INFO SparkContext: Added JAR file:/C:/Users/alvar/AppData/Local/Coursier/cache/v1/https/repo1.maven.org/maven2/com/lihaoyi/upickle-implicits_2.12/0.7.1/upickle-implicits_2.12-0.7.1.jar at spark://LAPTOP-30N4Q54J.mshome.net:52628/jars/upickle-implicits_2.12-0.7.1.jar with timestamp 1664725766799\n",
      "22/10/02 17:49:26 INFO SparkContext: Added JAR file:/C:/Users/alvar/AppData/Local/Coursier/cache/v1/https/repo1.maven.org/maven2/com/lihaoyi/upickle_2.12/0.7.1/upickle_2.12-0.7.1.jar at spark://LAPTOP-30N4Q54J.mshome.net:52628/jars/upickle_2.12-0.7.1.jar with timestamp 1664725766800\n"
     ]
    },
    {
     "name": "stderr",
     "output_type": "stream",
     "text": [
      "22/10/02 17:49:26 INFO SparkContext: Added JAR file:/C:/Users/alvar/AppData/Local/Coursier/cache/v1/https/repo1.maven.org/maven2/com/lihaoyi/utest_2.12/0.6.4/utest_2.12-0.6.4.jar at spark://LAPTOP-30N4Q54J.mshome.net:52628/jars/utest_2.12-0.6.4.jar with timestamp 1664725766801\n",
      "22/10/02 17:49:26 INFO SparkContext: Added JAR file:/C:/Users/alvar/AppData/Local/Coursier/cache/v1/https/repo1.maven.org/maven2/io/get-coursier/coursier-cache_2.12/1.1.0-M13-1/coursier-cache_2.12-1.1.0-M13-1.jar at spark://LAPTOP-30N4Q54J.mshome.net:52628/jars/coursier-cache_2.12-1.1.0-M13-1.jar with timestamp 1664725766802\n",
      "22/10/02 17:49:26 INFO SparkContext: Added JAR file:/C:/Users/alvar/AppData/Local/Coursier/cache/v1/https/repo1.maven.org/maven2/io/get-coursier/coursier-core_2.12/1.1.0-M13-1/coursier-core_2.12-1.1.0-M13-1.jar at spark://LAPTOP-30N4Q54J.mshome.net:52628/jars/coursier-core_2.12-1.1.0-M13-1.jar with timestamp 1664725766803\n",
      "22/10/02 17:49:26 INFO SparkContext: Added JAR file:/C:/Users/alvar/AppData/Local/Coursier/cache/v1/https/repo1.maven.org/maven2/io/get-coursier/coursier_2.12/1.1.0-M13-1/coursier_2.12-1.1.0-M13-1.jar at spark://LAPTOP-30N4Q54J.mshome.net:52628/jars/coursier_2.12-1.1.0-M13-1.jar with timestamp 1664725766804\n",
      "22/10/02 17:49:26 INFO SparkContext: Added JAR file:/C:/Users/alvar/AppData/Local/Coursier/cache/v1/https/repo1.maven.org/maven2/net/java/dev/jna/jna/4.2.2/jna-4.2.2.jar at spark://LAPTOP-30N4Q54J.mshome.net:52628/jars/jna-4.2.2.jar with timestamp 1664725766805\n",
      "22/10/02 17:49:26 INFO SparkContext: Added JAR file:/C:/Users/alvar/AppData/Local/Coursier/cache/v1/https/repo1.maven.org/maven2/org/javassist/javassist/3.21.0-GA/javassist-3.21.0-GA.jar at spark://LAPTOP-30N4Q54J.mshome.net:52628/jars/javassist-3.21.0-GA.jar with timestamp 1664725766806\n",
      "22/10/02 17:49:26 INFO SparkContext: Added JAR file:/C:/Users/alvar/AppData/Local/Coursier/cache/v1/https/repo1.maven.org/maven2/org/jline/jline-reader/3.6.2/jline-reader-3.6.2.jar at spark://LAPTOP-30N4Q54J.mshome.net:52628/jars/jline-reader-3.6.2.jar with timestamp 1664725766811\n",
      "22/10/02 17:49:26 INFO SparkContext: Added JAR file:/C:/Users/alvar/AppData/Local/Coursier/cache/v1/https/repo1.maven.org/maven2/org/jline/jline-terminal-jna/3.6.2/jline-terminal-jna-3.6.2.jar at spark://LAPTOP-30N4Q54J.mshome.net:52628/jars/jline-terminal-jna-3.6.2.jar with timestamp 1664725766814\n",
      "22/10/02 17:49:26 INFO SparkContext: Added JAR file:/C:/Users/alvar/AppData/Local/Coursier/cache/v1/https/repo1.maven.org/maven2/org/jline/jline-terminal/3.6.2/jline-terminal-3.6.2.jar at spark://LAPTOP-30N4Q54J.mshome.net:52628/jars/jline-terminal-3.6.2.jar with timestamp 1664725766816\n",
      "22/10/02 17:49:26 INFO SparkContext: Added JAR file:/C:/Users/alvar/AppData/Local/Coursier/cache/v1/https/repo1.maven.org/maven2/org/scala-lang/modules/scala-xml_2.12/1.1.1/scala-xml_2.12-1.1.1.jar at spark://LAPTOP-30N4Q54J.mshome.net:52628/jars/scala-xml_2.12-1.1.1.jar with timestamp 1664725766817\n",
      "22/10/02 17:49:26 INFO SparkContext: Added JAR file:/C:/Users/alvar/AppData/Local/Coursier/cache/v1/https/repo1.maven.org/maven2/org/scala-sbt/test-interface/1.0/test-interface-1.0.jar at spark://LAPTOP-30N4Q54J.mshome.net:52628/jars/test-interface-1.0.jar with timestamp 1664725766818\n",
      "22/10/02 17:49:26 INFO SparkContext: Added JAR file:/C:/Users/alvar/AppData/Local/Coursier/cache/v1/https/repo1.maven.org/maven2/sh/almond/interpreter-api_2.12/0.4.0/interpreter-api_2.12-0.4.0.jar at spark://LAPTOP-30N4Q54J.mshome.net:52628/jars/interpreter-api_2.12-0.4.0.jar with timestamp 1664725766819\n",
      "22/10/02 17:49:26 INFO SparkContext: Added JAR file:/C:/Users/alvar/AppData/Local/Coursier/cache/v1/https/repo1.maven.org/maven2/sh/almond/jupyter-api_2.12/0.4.0/jupyter-api_2.12-0.4.0.jar at spark://LAPTOP-30N4Q54J.mshome.net:52628/jars/jupyter-api_2.12-0.4.0.jar with timestamp 1664725766821\n",
      "22/10/02 17:49:26 INFO SparkContext: Added JAR file:/C:/Users/alvar/AppData/Local/Coursier/cache/v1/https/repo1.maven.org/maven2/sh/almond/scala-kernel-api_2.12.8/0.4.0/scala-kernel-api_2.12.8-0.4.0.jar at spark://LAPTOP-30N4Q54J.mshome.net:52628/jars/scala-kernel-api_2.12.8-0.4.0.jar with timestamp 1664725766822\n",
      "22/10/02 17:49:26 INFO SparkContext: Added JAR file:/C:/Users/alvar/AppData/Local/Coursier/cache/v1/https/repo1.maven.org/maven2/org/json4s/json4s-core_2.12/3.5.3/json4s-core_2.12-3.5.3.jar at spark://LAPTOP-30N4Q54J.mshome.net:52628/jars/json4s-core_2.12-3.5.3.jar with timestamp 1664725766822\n",
      "22/10/02 17:49:26 INFO SparkContext: Added JAR file:/C:/Users/alvar/AppData/Local/Coursier/cache/v1/https/repo1.maven.org/maven2/xml-apis/xml-apis/1.3.04/xml-apis-1.3.04.jar at spark://LAPTOP-30N4Q54J.mshome.net:52628/jars/xml-apis-1.3.04.jar with timestamp 1664725766823\n",
      "22/10/02 17:49:26 INFO SparkContext: Added JAR file:/C:/Users/alvar/AppData/Local/Coursier/cache/v1/https/repo1.maven.org/maven2/javax/servlet/javax.servlet-api/3.1.0/javax.servlet-api-3.1.0.jar at spark://LAPTOP-30N4Q54J.mshome.net:52628/jars/javax.servlet-api-3.1.0.jar with timestamp 1664725766825\n",
      "22/10/02 17:49:26 INFO SparkContext: Added JAR file:/C:/Users/alvar/AppData/Local/Coursier/cache/v1/https/repo1.maven.org/maven2/io/dropwizard/metrics/metrics-core/3.1.5/metrics-core-3.1.5.jar at spark://LAPTOP-30N4Q54J.mshome.net:52628/jars/metrics-core-3.1.5.jar with timestamp 1664725766828\n",
      "22/10/02 17:49:26 INFO SparkContext: Added JAR file:/C:/Users/alvar/AppData/Local/Coursier/cache/v1/https/repo1.maven.org/maven2/com/google/inject/guice/3.0/guice-3.0.jar at spark://LAPTOP-30N4Q54J.mshome.net:52628/jars/guice-3.0.jar with timestamp 1664725766830\n",
      "22/10/02 17:49:26 INFO SparkContext: Added JAR file:/C:/Users/alvar/AppData/Local/Coursier/cache/v1/https/repo1.maven.org/maven2/org/slf4j/slf4j-log4j12/1.7.16/slf4j-log4j12-1.7.16.jar at spark://LAPTOP-30N4Q54J.mshome.net:52628/jars/slf4j-log4j12-1.7.16.jar with timestamp 1664725766831\n",
      "22/10/02 17:49:26 INFO SparkContext: Added JAR file:/C:/Users/alvar/AppData/Local/Coursier/cache/v1/https/repo1.maven.org/maven2/org/apache/commons/commons-crypto/1.0.0/commons-crypto-1.0.0.jar at spark://LAPTOP-30N4Q54J.mshome.net:52628/jars/commons-crypto-1.0.0.jar with timestamp 1664725766832\n",
      "22/10/02 17:49:26 INFO SparkContext: Added JAR file:/C:/Users/alvar/AppData/Local/Coursier/cache/v1/https/repo1.maven.org/maven2/org/apache/xbean/xbean-asm6-shaded/4.8/xbean-asm6-shaded-4.8.jar at spark://LAPTOP-30N4Q54J.mshome.net:52628/jars/xbean-asm6-shaded-4.8.jar with timestamp 1664725766833\n",
      "22/10/02 17:49:26 INFO SparkContext: Added JAR file:/C:/Users/alvar/AppData/Local/Coursier/cache/v1/https/repo1.maven.org/maven2/xerces/xercesImpl/2.9.1/xercesImpl-2.9.1.jar at spark://LAPTOP-30N4Q54J.mshome.net:52628/jars/xercesImpl-2.9.1.jar with timestamp 1664725766834\n",
      "22/10/02 17:49:26 INFO SparkContext: Added JAR file:/C:/Users/alvar/AppData/Local/Coursier/cache/v1/https/repo1.maven.org/maven2/com/github/luben/zstd-jni/1.3.2-2/zstd-jni-1.3.2-2.jar at spark://LAPTOP-30N4Q54J.mshome.net:52628/jars/zstd-jni-1.3.2-2.jar with timestamp 1664725766834\n",
      "22/10/02 17:49:26 INFO SparkContext: Added JAR file:/C:/Users/alvar/AppData/Local/Coursier/cache/v1/https/repo1.maven.org/maven2/org/codehaus/jettison/jettison/1.1/jettison-1.1.jar at spark://LAPTOP-30N4Q54J.mshome.net:52628/jars/jettison-1.1.jar with timestamp 1664725766835\n",
      "22/10/02 17:49:26 INFO SparkContext: Added JAR file:/C:/Users/alvar/AppData/Local/Coursier/cache/v1/https/repo1.maven.org/maven2/org/apache/spark/spark-unsafe_2.12/2.4.5/spark-unsafe_2.12-2.4.5.jar at spark://LAPTOP-30N4Q54J.mshome.net:52628/jars/spark-unsafe_2.12-2.4.5.jar with timestamp 1664725766836\n",
      "22/10/02 17:49:26 INFO SparkContext: Added JAR file:/C:/Users/alvar/AppData/Local/Coursier/cache/v1/https/repo1.maven.org/maven2/org/apache/hadoop/hadoop-yarn-server-nodemanager/2.6.5/hadoop-yarn-server-nodemanager-2.6.5.jar at spark://LAPTOP-30N4Q54J.mshome.net:52628/jars/hadoop-yarn-server-nodemanager-2.6.5.jar with timestamp 1664725766836\n",
      "22/10/02 17:49:26 INFO SparkContext: Added JAR file:/C:/Users/alvar/AppData/Local/Coursier/cache/v1/https/repo1.maven.org/maven2/org/apache/parquet/parquet-hadoop/1.10.1/parquet-hadoop-1.10.1.jar at spark://LAPTOP-30N4Q54J.mshome.net:52628/jars/parquet-hadoop-1.10.1.jar with timestamp 1664725766837\n"
     ]
    },
    {
     "name": "stderr",
     "output_type": "stream",
     "text": [
      "22/10/02 17:49:26 INFO SparkContext: Added JAR file:/C:/Users/alvar/AppData/Local/Coursier/cache/v1/https/repo1.maven.org/maven2/joda-time/joda-time/2.9.9/joda-time-2.9.9.jar at spark://LAPTOP-30N4Q54J.mshome.net:52628/jars/joda-time-2.9.9.jar with timestamp 1664725766838\n",
      "22/10/02 17:49:26 INFO SparkContext: Added JAR file:/C:/Users/alvar/AppData/Local/Coursier/cache/v1/https/repo1.maven.org/maven2/commons-io/commons-io/2.4/commons-io-2.4.jar at spark://LAPTOP-30N4Q54J.mshome.net:52628/jars/commons-io-2.4.jar with timestamp 1664725766839\n",
      "22/10/02 17:49:26 INFO SparkContext: Added JAR file:/C:/Users/alvar/AppData/Local/Coursier/cache/v1/https/repo1.maven.org/maven2/commons-configuration/commons-configuration/1.6/commons-configuration-1.6.jar at spark://LAPTOP-30N4Q54J.mshome.net:52628/jars/commons-configuration-1.6.jar with timestamp 1664725766840\n",
      "22/10/02 17:49:26 INFO SparkContext: Added JAR file:/C:/Users/alvar/AppData/Local/Coursier/cache/v1/https/repo1.maven.org/maven2/org/antlr/antlr4-runtime/4.7/antlr4-runtime-4.7.jar at spark://LAPTOP-30N4Q54J.mshome.net:52628/jars/antlr4-runtime-4.7.jar with timestamp 1664725766841\n",
      "22/10/02 17:49:26 INFO SparkContext: Added JAR file:/C:/Users/alvar/AppData/Local/Coursier/cache/v1/https/repo1.maven.org/maven2/org/glassfish/jersey/core/jersey-common/2.22.2/jersey-common-2.22.2.jar at spark://LAPTOP-30N4Q54J.mshome.net:52628/jars/jersey-common-2.22.2.jar with timestamp 1664725766843\n",
      "22/10/02 17:49:26 INFO SparkContext: Added JAR file:/C:/Users/alvar/AppData/Local/Coursier/cache/v1/https/repo1.maven.org/maven2/io/airlift/aircompressor/0.10/aircompressor-0.10.jar at spark://LAPTOP-30N4Q54J.mshome.net:52628/jars/aircompressor-0.10.jar with timestamp 1664725766846\n",
      "22/10/02 17:49:26 INFO SparkContext: Added JAR file:/C:/Users/alvar/AppData/Local/Coursier/cache/v1/https/repo1.maven.org/maven2/org/apache/commons/commons-compress/1.8.1/commons-compress-1.8.1.jar at spark://LAPTOP-30N4Q54J.mshome.net:52628/jars/commons-compress-1.8.1.jar with timestamp 1664725766847\n",
      "22/10/02 17:49:26 INFO SparkContext: Added JAR file:/C:/Users/alvar/AppData/Local/Coursier/cache/v1/https/repo1.maven.org/maven2/org/slf4j/jcl-over-slf4j/1.7.16/jcl-over-slf4j-1.7.16.jar at spark://LAPTOP-30N4Q54J.mshome.net:52628/jars/jcl-over-slf4j-1.7.16.jar with timestamp 1664725766848\n",
      "22/10/02 17:49:26 INFO SparkContext: Added JAR file:/C:/Users/alvar/AppData/Local/Coursier/cache/v1/https/repo1.maven.org/maven2/org/javassist/javassist/3.18.1-GA/javassist-3.18.1-GA.jar at spark://LAPTOP-30N4Q54J.mshome.net:52628/jars/javassist-3.18.1-GA.jar with timestamp 1664725766849\n",
      "22/10/02 17:49:26 INFO SparkContext: Added JAR file:/C:/Users/alvar/AppData/Local/Coursier/cache/v1/https/repo1.maven.org/maven2/org/glassfish/hk2/external/aopalliance-repackaged/2.4.0-b34/aopalliance-repackaged-2.4.0-b34.jar at spark://LAPTOP-30N4Q54J.mshome.net:52628/jars/aopalliance-repackaged-2.4.0-b34.jar with timestamp 1664725766850\n",
      "22/10/02 17:49:26 INFO SparkContext: Added JAR file:/C:/Users/alvar/AppData/Local/Coursier/cache/v1/https/repo1.maven.org/maven2/org/lz4/lz4-java/1.4.0/lz4-java-1.4.0.jar at spark://LAPTOP-30N4Q54J.mshome.net:52628/jars/lz4-java-1.4.0.jar with timestamp 1664725766851\n",
      "22/10/02 17:49:26 INFO SparkContext: Added JAR file:/C:/Users/alvar/AppData/Local/Coursier/cache/v1/https/repo1.maven.org/maven2/io/netty/netty/3.9.9.Final/netty-3.9.9.Final.jar at spark://LAPTOP-30N4Q54J.mshome.net:52628/jars/netty-3.9.9.Final.jar with timestamp 1664725766852\n",
      "22/10/02 17:49:26 INFO SparkContext: Added JAR file:/C:/Users/alvar/AppData/Local/Coursier/cache/v1/https/repo1.maven.org/maven2/org/apache/spark/spark-network-common_2.12/2.4.5/spark-network-common_2.12-2.4.5.jar at spark://LAPTOP-30N4Q54J.mshome.net:52628/jars/spark-network-common_2.12-2.4.5.jar with timestamp 1664725766853\n",
      "22/10/02 17:49:26 INFO SparkContext: Added JAR file:/C:/Users/alvar/AppData/Local/Coursier/cache/v1/https/repo1.maven.org/maven2/aopalliance/aopalliance/1.0/aopalliance-1.0.jar at spark://LAPTOP-30N4Q54J.mshome.net:52628/jars/aopalliance-1.0.jar with timestamp 1664725766854\n",
      "22/10/02 17:49:26 INFO SparkContext: Added JAR file:/C:/Users/alvar/AppData/Local/Coursier/cache/v1/https/repo1.maven.org/maven2/com/fasterxml/jackson/core/jackson-core/2.7.9/jackson-core-2.7.9.jar at spark://LAPTOP-30N4Q54J.mshome.net:52628/jars/jackson-core-2.7.9.jar with timestamp 1664725766855\n",
      "22/10/02 17:49:26 INFO SparkContext: Added JAR file:/C:/Users/alvar/AppData/Local/Coursier/cache/v1/https/repo1.maven.org/maven2/org/apache/spark/spark-sql_2.12/2.4.5/spark-sql_2.12-2.4.5.jar at spark://LAPTOP-30N4Q54J.mshome.net:52628/jars/spark-sql_2.12-2.4.5.jar with timestamp 1664725766856\n",
      "22/10/02 17:49:26 INFO SparkContext: Added JAR file:/C:/Users/alvar/AppData/Local/Coursier/cache/v1/https/repo1.maven.org/maven2/com/google/code/gson/gson/2.2.4/gson-2.2.4.jar at spark://LAPTOP-30N4Q54J.mshome.net:52628/jars/gson-2.2.4.jar with timestamp 1664725766858\n",
      "22/10/02 17:49:26 INFO SparkContext: Added JAR file:/C:/Users/alvar/AppData/Local/Coursier/cache/v1/https/repo1.maven.org/maven2/org/apache/directory/api/api-util/1.0.0-M20/api-util-1.0.0-M20.jar at spark://LAPTOP-30N4Q54J.mshome.net:52628/jars/api-util-1.0.0-M20.jar with timestamp 1664725766860\n",
      "22/10/02 17:49:26 INFO SparkContext: Added JAR file:/C:/Users/alvar/AppData/Local/Coursier/cache/v1/https/repo1.maven.org/maven2/org/apache/hadoop/hadoop-yarn-client/2.6.5/hadoop-yarn-client-2.6.5.jar at spark://LAPTOP-30N4Q54J.mshome.net:52628/jars/hadoop-yarn-client-2.6.5.jar with timestamp 1664725766864\n",
      "22/10/02 17:49:26 INFO SparkContext: Added JAR file:/C:/Users/alvar/AppData/Local/Coursier/cache/v1/https/repo1.maven.org/maven2/javax/xml/bind/jaxb-api/2.2.2/jaxb-api-2.2.2.jar at spark://LAPTOP-30N4Q54J.mshome.net:52628/jars/jaxb-api-2.2.2.jar with timestamp 1664725766869\n",
      "22/10/02 17:49:26 INFO SparkContext: Added JAR file:/C:/Users/alvar/AppData/Local/Coursier/cache/v1/https/repo1.maven.org/maven2/org/apache/spark/spark-tags_2.12/2.4.5/spark-tags_2.12-2.4.5.jar at spark://LAPTOP-30N4Q54J.mshome.net:52628/jars/spark-tags_2.12-2.4.5.jar with timestamp 1664725766870\n",
      "22/10/02 17:49:26 INFO SparkContext: Added JAR file:/C:/Users/alvar/AppData/Local/Coursier/cache/v1/https/repo1.maven.org/maven2/org/apache/parquet/parquet-jackson/1.10.1/parquet-jackson-1.10.1.jar at spark://LAPTOP-30N4Q54J.mshome.net:52628/jars/parquet-jackson-1.10.1.jar with timestamp 1664725766874\n",
      "22/10/02 17:49:26 INFO SparkContext: Added JAR file:/C:/Users/alvar/AppData/Local/Coursier/cache/v1/https/repo1.maven.org/maven2/org/roaringbitmap/shims/0.7.45/shims-0.7.45.jar at spark://LAPTOP-30N4Q54J.mshome.net:52628/jars/shims-0.7.45.jar with timestamp 1664725766876\n",
      "22/10/02 17:49:26 INFO SparkContext: Added JAR file:/C:/Users/alvar/AppData/Local/Coursier/cache/v1/https/repo1.maven.org/maven2/com/thoughtworks/paranamer/paranamer/2.8/paranamer-2.8.jar at spark://LAPTOP-30N4Q54J.mshome.net:52628/jars/paranamer-2.8.jar with timestamp 1664725766878\n",
      "22/10/02 17:49:26 INFO SparkContext: Added JAR file:/C:/Users/alvar/AppData/Local/Coursier/cache/v1/https/repo1.maven.org/maven2/org/apache/avro/avro/1.8.2/avro-1.8.2.jar at spark://LAPTOP-30N4Q54J.mshome.net:52628/jars/avro-1.8.2.jar with timestamp 1664725766879\n",
      "22/10/02 17:49:26 INFO SparkContext: Added JAR file:/C:/Users/alvar/AppData/Local/Coursier/cache/v1/https/repo1.maven.org/maven2/org/apache/httpcomponents/httpcore/4.2.4/httpcore-4.2.4.jar at spark://LAPTOP-30N4Q54J.mshome.net:52628/jars/httpcore-4.2.4.jar with timestamp 1664725766885\n",
      "22/10/02 17:49:26 INFO SparkContext: Added JAR file:/C:/Users/alvar/AppData/Local/Coursier/cache/v1/https/repo1.maven.org/maven2/com/carrotsearch/hppc/0.7.2/hppc-0.7.2.jar at spark://LAPTOP-30N4Q54J.mshome.net:52628/jars/hppc-0.7.2.jar with timestamp 1664725766887\n",
      "22/10/02 17:49:26 INFO SparkContext: Added JAR file:/C:/Users/alvar/AppData/Local/Coursier/cache/v1/https/repo1.maven.org/maven2/com/fasterxml/jackson/core/jackson-databind/2.6.7.3/jackson-databind-2.6.7.3.jar at spark://LAPTOP-30N4Q54J.mshome.net:52628/jars/jackson-databind-2.6.7.3.jar with timestamp 1664725766887\n",
      "22/10/02 17:49:26 INFO SparkContext: Added JAR file:/C:/Users/alvar/AppData/Local/Coursier/cache/v1/https/repo1.maven.org/maven2/org/apache/spark/spark-kvstore_2.12/2.4.5/spark-kvstore_2.12-2.4.5.jar at spark://LAPTOP-30N4Q54J.mshome.net:52628/jars/spark-kvstore_2.12-2.4.5.jar with timestamp 1664725766889\n"
     ]
    },
    {
     "name": "stderr",
     "output_type": "stream",
     "text": [
      "22/10/02 17:49:26 INFO SparkContext: Added JAR file:/C:/Users/alvar/AppData/Local/Coursier/cache/v1/https/repo1.maven.org/maven2/commons-codec/commons-codec/1.10/commons-codec-1.10.jar at spark://LAPTOP-30N4Q54J.mshome.net:52628/jars/commons-codec-1.10.jar with timestamp 1664725766890\n",
      "22/10/02 17:49:26 INFO SparkContext: Added JAR file:/C:/Users/alvar/AppData/Local/Coursier/cache/v1/https/repo1.maven.org/maven2/org/mortbay/jetty/jetty-util/6.1.26/jetty-util-6.1.26.jar at spark://LAPTOP-30N4Q54J.mshome.net:52628/jars/jetty-util-6.1.26.jar with timestamp 1664725766895\n",
      "22/10/02 17:49:26 INFO SparkContext: Added JAR file:/C:/Users/alvar/AppData/Local/Coursier/cache/v1/https/repo1.maven.org/maven2/org/apache/hadoop/hadoop-yarn-common/2.6.5/hadoop-yarn-common-2.6.5.jar at spark://LAPTOP-30N4Q54J.mshome.net:52628/jars/hadoop-yarn-common-2.6.5.jar with timestamp 1664725766896\n",
      "22/10/02 17:49:26 INFO SparkContext: Added JAR file:/C:/Users/alvar/AppData/Local/Coursier/cache/v1/https/repo1.maven.org/maven2/org/json4s/json4s-scalap_2.12/3.5.3/json4s-scalap_2.12-3.5.3.jar at spark://LAPTOP-30N4Q54J.mshome.net:52628/jars/json4s-scalap_2.12-3.5.3.jar with timestamp 1664725766898\n",
      "22/10/02 17:49:26 INFO SparkContext: Added JAR file:/C:/Users/alvar/AppData/Local/Coursier/cache/v1/https/repo1.maven.org/maven2/commons-beanutils/commons-beanutils/1.7.0/commons-beanutils-1.7.0.jar at spark://LAPTOP-30N4Q54J.mshome.net:52628/jars/commons-beanutils-1.7.0.jar with timestamp 1664725766899\n",
      "22/10/02 17:49:26 INFO SparkContext: Added JAR file:/C:/Users/alvar/AppData/Local/Coursier/cache/v1/https/repo1.maven.org/maven2/org/apache/avro/avro-ipc/1.8.2/avro-ipc-1.8.2.jar at spark://LAPTOP-30N4Q54J.mshome.net:52628/jars/avro-ipc-1.8.2.jar with timestamp 1664725766901\n",
      "22/10/02 17:49:26 INFO SparkContext: Added JAR file:/C:/Users/alvar/AppData/Local/Coursier/cache/v1/https/repo1.maven.org/maven2/org/apache/hadoop/hadoop-auth/2.6.5/hadoop-auth-2.6.5.jar at spark://LAPTOP-30N4Q54J.mshome.net:52628/jars/hadoop-auth-2.6.5.jar with timestamp 1664725766902\n",
      "22/10/02 17:49:26 INFO SparkContext: Added JAR file:/C:/Users/alvar/AppData/Local/Coursier/cache/v1/https/repo1.maven.org/maven2/org/apache/arrow/arrow-vector/0.10.0/arrow-vector-0.10.0.jar at spark://LAPTOP-30N4Q54J.mshome.net:52628/jars/arrow-vector-0.10.0.jar with timestamp 1664725766904\n",
      "22/10/02 17:49:26 INFO SparkContext: Added JAR file:/C:/Users/alvar/AppData/Local/Coursier/cache/v1/https/repo1.maven.org/maven2/org/apache/parquet/parquet-common/1.10.1/parquet-common-1.10.1.jar at spark://LAPTOP-30N4Q54J.mshome.net:52628/jars/parquet-common-1.10.1.jar with timestamp 1664725766906\n",
      "22/10/02 17:49:26 INFO SparkContext: Added JAR file:/C:/Users/alvar/AppData/Local/Coursier/cache/v1/https/repo1.maven.org/maven2/com/ning/compress-lzf/1.0.3/compress-lzf-1.0.3.jar at spark://LAPTOP-30N4Q54J.mshome.net:52628/jars/compress-lzf-1.0.3.jar with timestamp 1664725766906\n",
      "22/10/02 17:49:26 INFO SparkContext: Added JAR file:/C:/Users/alvar/AppData/Local/Coursier/cache/v1/https/repo1.maven.org/maven2/log4j/log4j/1.2.17/log4j-1.2.17.jar at spark://LAPTOP-30N4Q54J.mshome.net:52628/jars/log4j-1.2.17.jar with timestamp 1664725766907\n",
      "22/10/02 17:49:26 INFO SparkContext: Added JAR file:/C:/Users/alvar/AppData/Local/Coursier/cache/v1/https/repo1.maven.org/maven2/com/clearspring/analytics/stream/2.7.0/stream-2.7.0.jar at spark://LAPTOP-30N4Q54J.mshome.net:52628/jars/stream-2.7.0.jar with timestamp 1664725766911\n",
      "22/10/02 17:49:26 INFO SparkContext: Added JAR file:/C:/Users/alvar/AppData/Local/Coursier/cache/v1/https/repo1.maven.org/maven2/com/vlkan/flatbuffers/1.2.0-3f79e055/flatbuffers-1.2.0-3f79e055.jar at spark://LAPTOP-30N4Q54J.mshome.net:52628/jars/flatbuffers-1.2.0-3f79e055.jar with timestamp 1664725766914\n",
      "22/10/02 17:49:26 INFO SparkContext: Added JAR file:/C:/Users/alvar/AppData/Local/Coursier/cache/v1/https/repo1.maven.org/maven2/org/apache/directory/server/apacheds-i18n/2.0.0-M15/apacheds-i18n-2.0.0-M15.jar at spark://LAPTOP-30N4Q54J.mshome.net:52628/jars/apacheds-i18n-2.0.0-M15.jar with timestamp 1664725766916\n",
      "22/10/02 17:49:26 INFO SparkContext: Added JAR file:/C:/Users/alvar/AppData/Local/Coursier/cache/v1/https/repo1.maven.org/maven2/javax/activation/activation/1.1.1/activation-1.1.1.jar at spark://LAPTOP-30N4Q54J.mshome.net:52628/jars/activation-1.1.1.jar with timestamp 1664725766917\n",
      "22/10/02 17:49:26 INFO SparkContext: Added JAR file:/C:/Users/alvar/AppData/Local/Coursier/cache/v1/https/repo1.maven.org/maven2/javax/inject/javax.inject/1/javax.inject-1.jar at spark://LAPTOP-30N4Q54J.mshome.net:52628/jars/javax.inject-1.jar with timestamp 1664725766918\n",
      "22/10/02 17:49:26 INFO SparkContext: Added JAR file:/C:/Users/alvar/AppData/Local/Coursier/cache/v1/https/repo1.maven.org/maven2/org/slf4j/jul-to-slf4j/1.7.16/jul-to-slf4j-1.7.16.jar at spark://LAPTOP-30N4Q54J.mshome.net:52628/jars/jul-to-slf4j-1.7.16.jar with timestamp 1664725766920\n",
      "22/10/02 17:49:26 INFO SparkContext: Added JAR file:/C:/Users/alvar/AppData/Local/Coursier/cache/v1/https/repo1.maven.org/maven2/com/esotericsoftware/minlog/1.3.0/minlog-1.3.0.jar at spark://LAPTOP-30N4Q54J.mshome.net:52628/jars/minlog-1.3.0.jar with timestamp 1664725766921\n",
      "22/10/02 17:49:26 INFO SparkContext: Added JAR file:/C:/Users/alvar/AppData/Local/Coursier/cache/v1/https/repo1.maven.org/maven2/xmlenc/xmlenc/0.52/xmlenc-0.52.jar at spark://LAPTOP-30N4Q54J.mshome.net:52628/jars/xmlenc-0.52.jar with timestamp 1664725766923\n",
      "22/10/02 17:49:26 INFO SparkContext: Added JAR file:/C:/Users/alvar/AppData/Local/Coursier/cache/v1/https/repo1.maven.org/maven2/com/univocity/univocity-parsers/2.7.3/univocity-parsers-2.7.3.jar at spark://LAPTOP-30N4Q54J.mshome.net:52628/jars/univocity-parsers-2.7.3.jar with timestamp 1664725766924\n",
      "22/10/02 17:49:26 INFO SparkContext: Added JAR file:/C:/Users/alvar/AppData/Local/Coursier/cache/v1/https/repo1.maven.org/maven2/org/codehaus/janino/janino/3.0.9/janino-3.0.9.jar at spark://LAPTOP-30N4Q54J.mshome.net:52628/jars/janino-3.0.9.jar with timestamp 1664725766926\n",
      "22/10/02 17:49:26 INFO SparkContext: Added JAR file:/C:/Users/alvar/AppData/Local/Coursier/cache/v1/https/repo1.maven.org/maven2/org/apache/spark/spark-core_2.12/2.4.5/spark-core_2.12-2.4.5.jar at spark://LAPTOP-30N4Q54J.mshome.net:52628/jars/spark-core_2.12-2.4.5.jar with timestamp 1664725766927\n",
      "22/10/02 17:49:26 INFO SparkContext: Added JAR file:/C:/Users/alvar/AppData/Local/Coursier/cache/v1/https/repo1.maven.org/maven2/commons-lang/commons-lang/2.6/commons-lang-2.6.jar at spark://LAPTOP-30N4Q54J.mshome.net:52628/jars/commons-lang-2.6.jar with timestamp 1664725766929\n",
      "22/10/02 17:49:26 INFO SparkContext: Added JAR file:/C:/Users/alvar/AppData/Local/Coursier/cache/v1/https/repo1.maven.org/maven2/org/slf4j/slf4j-api/1.7.25/slf4j-api-1.7.25.jar at spark://LAPTOP-30N4Q54J.mshome.net:52628/jars/slf4j-api-1.7.25.jar with timestamp 1664725766931\n",
      "22/10/02 17:49:26 INFO SparkContext: Added JAR file:/C:/Users/alvar/AppData/Local/Coursier/cache/v1/https/repo1.maven.org/maven2/oro/oro/2.0.8/oro-2.0.8.jar at spark://LAPTOP-30N4Q54J.mshome.net:52628/jars/oro-2.0.8.jar with timestamp 1664725766932\n",
      "22/10/02 17:49:26 INFO SparkContext: Added JAR file:/C:/Users/alvar/AppData/Local/Coursier/cache/v1/https/repo1.maven.org/maven2/javax/annotation/javax.annotation-api/1.2/javax.annotation-api-1.2.jar at spark://LAPTOP-30N4Q54J.mshome.net:52628/jars/javax.annotation-api-1.2.jar with timestamp 1664725766932\n",
      "22/10/02 17:49:26 INFO SparkContext: Added JAR file:/C:/Users/alvar/AppData/Local/Coursier/cache/v1/https/repo1.maven.org/maven2/commons-cli/commons-cli/1.2/commons-cli-1.2.jar at spark://LAPTOP-30N4Q54J.mshome.net:52628/jars/commons-cli-1.2.jar with timestamp 1664725766933\n",
      "22/10/02 17:49:26 INFO SparkContext: Added JAR file:/C:/Users/alvar/AppData/Local/Coursier/cache/v1/https/repo1.maven.org/maven2/org/apache/commons/commons-math3/3.4.1/commons-math3-3.4.1.jar at spark://LAPTOP-30N4Q54J.mshome.net:52628/jars/commons-math3-3.4.1.jar with timestamp 1664725766934\n",
      "22/10/02 17:49:26 INFO SparkContext: Added JAR file:/C:/Users/alvar/AppData/Local/Coursier/cache/v1/https/repo1.maven.org/maven2/org/codehaus/jackson/jackson-core-asl/1.9.13/jackson-core-asl-1.9.13.jar at spark://LAPTOP-30N4Q54J.mshome.net:52628/jars/jackson-core-asl-1.9.13.jar with timestamp 1664725766935\n"
     ]
    },
    {
     "name": "stderr",
     "output_type": "stream",
     "text": [
      "22/10/02 17:49:26 INFO SparkContext: Added JAR file:/C:/Users/alvar/AppData/Local/Coursier/cache/v1/https/repo1.maven.org/maven2/org/apache/orc/orc-core/1.5.5/orc-core-1.5.5-nohive.jar at spark://LAPTOP-30N4Q54J.mshome.net:52628/jars/orc-core-1.5.5-nohive.jar with timestamp 1664725766936\n",
      "22/10/02 17:49:26 INFO SparkContext: Added JAR file:/C:/Users/alvar/AppData/Local/Coursier/cache/v1/https/repo1.maven.org/maven2/com/google/guava/guava/16.0.1/guava-16.0.1.jar at spark://LAPTOP-30N4Q54J.mshome.net:52628/jars/guava-16.0.1.jar with timestamp 1664725766937\n",
      "22/10/02 17:49:26 INFO SparkContext: Added JAR file:/C:/Users/alvar/AppData/Local/Coursier/cache/v1/https/repo1.maven.org/maven2/org/apache/hadoop/hadoop-yarn-server-common/2.6.5/hadoop-yarn-server-common-2.6.5.jar at spark://LAPTOP-30N4Q54J.mshome.net:52628/jars/hadoop-yarn-server-common-2.6.5.jar with timestamp 1664725766938\n",
      "22/10/02 17:49:26 INFO SparkContext: Added JAR file:/C:/Users/alvar/AppData/Local/Coursier/cache/v1/https/repo1.maven.org/maven2/org/glassfish/hk2/hk2-api/2.4.0-b34/hk2-api-2.4.0-b34.jar at spark://LAPTOP-30N4Q54J.mshome.net:52628/jars/hk2-api-2.4.0-b34.jar with timestamp 1664725766939\n",
      "22/10/02 17:49:26 INFO SparkContext: Added JAR file:/C:/Users/alvar/AppData/Local/Coursier/cache/v1/https/repo1.maven.org/maven2/org/fusesource/leveldbjni/leveldbjni-all/1.8/leveldbjni-all-1.8.jar at spark://LAPTOP-30N4Q54J.mshome.net:52628/jars/leveldbjni-all-1.8.jar with timestamp 1664725766940\n",
      "22/10/02 17:49:26 INFO SparkContext: Added JAR file:/C:/Users/alvar/AppData/Local/Coursier/cache/v1/https/repo1.maven.org/maven2/org/glassfish/hk2/osgi-resource-locator/1.0.1/osgi-resource-locator-1.0.1.jar at spark://LAPTOP-30N4Q54J.mshome.net:52628/jars/osgi-resource-locator-1.0.1.jar with timestamp 1664725766942\n",
      "22/10/02 17:49:26 INFO SparkContext: Added JAR file:/C:/Users/alvar/AppData/Local/Coursier/cache/v1/https/repo1.maven.org/maven2/org/scala-lang/modules/scala-parser-combinators_2.12/1.1.0/scala-parser-combinators_2.12-1.1.0.jar at spark://LAPTOP-30N4Q54J.mshome.net:52628/jars/scala-parser-combinators_2.12-1.1.0.jar with timestamp 1664725766944\n",
      "22/10/02 17:49:26 INFO SparkContext: Added JAR file:/C:/Users/alvar/AppData/Local/Coursier/cache/v1/https/repo1.maven.org/maven2/org/apache/spark/spark-catalyst_2.12/2.4.5/spark-catalyst_2.12-2.4.5.jar at spark://LAPTOP-30N4Q54J.mshome.net:52628/jars/spark-catalyst_2.12-2.4.5.jar with timestamp 1664725766946\n",
      "22/10/02 17:49:26 INFO SparkContext: Added JAR file:/C:/Users/alvar/AppData/Local/Coursier/cache/v1/https/repo1.maven.org/maven2/org/apache/hadoop/hadoop-yarn-api/2.6.5/hadoop-yarn-api-2.6.5.jar at spark://LAPTOP-30N4Q54J.mshome.net:52628/jars/hadoop-yarn-api-2.6.5.jar with timestamp 1664725766948\n",
      "22/10/02 17:49:26 INFO SparkContext: Added JAR file:/C:/Users/alvar/AppData/Local/Coursier/cache/v1/https/repo1.maven.org/maven2/org/apache/commons/commons-lang3/3.5/commons-lang3-3.5.jar at spark://LAPTOP-30N4Q54J.mshome.net:52628/jars/commons-lang3-3.5.jar with timestamp 1664725766949\n",
      "22/10/02 17:49:26 INFO SparkContext: Added JAR file:/C:/Users/alvar/AppData/Local/Coursier/cache/v1/https/repo1.maven.org/maven2/commons-collections/commons-collections/3.2.2/commons-collections-3.2.2.jar at spark://LAPTOP-30N4Q54J.mshome.net:52628/jars/commons-collections-3.2.2.jar with timestamp 1664725766950\n",
      "22/10/02 17:49:26 INFO SparkContext: Added JAR file:/C:/Users/alvar/AppData/Local/Coursier/cache/v1/https/repo1.maven.org/maven2/org/glassfish/hk2/hk2-utils/2.4.0-b34/hk2-utils-2.4.0-b34.jar at spark://LAPTOP-30N4Q54J.mshome.net:52628/jars/hk2-utils-2.4.0-b34.jar with timestamp 1664725766951\n",
      "22/10/02 17:49:26 INFO SparkContext: Added JAR file:/C:/Users/alvar/AppData/Local/Coursier/cache/v1/https/repo1.maven.org/maven2/org/tukaani/xz/1.5/xz-1.5.jar at spark://LAPTOP-30N4Q54J.mshome.net:52628/jars/xz-1.5.jar with timestamp 1664725766952\n",
      "22/10/02 17:49:26 INFO SparkContext: Added JAR file:/C:/Users/alvar/AppData/Local/Coursier/cache/v1/https/repo1.maven.org/maven2/org/apache/hadoop/hadoop-common/2.6.5/hadoop-common-2.6.5.jar at spark://LAPTOP-30N4Q54J.mshome.net:52628/jars/hadoop-common-2.6.5.jar with timestamp 1664725766955\n",
      "22/10/02 17:49:26 INFO SparkContext: Added JAR file:/C:/Users/alvar/AppData/Local/Coursier/cache/v1/https/repo1.maven.org/maven2/org/apache/hadoop/hadoop-mapreduce-client-core/2.6.5/hadoop-mapreduce-client-core-2.6.5.jar at spark://LAPTOP-30N4Q54J.mshome.net:52628/jars/hadoop-mapreduce-client-core-2.6.5.jar with timestamp 1664725766957\n",
      "22/10/02 17:49:26 INFO SparkContext: Added JAR file:/C:/Users/alvar/AppData/Local/Coursier/cache/v1/https/repo1.maven.org/maven2/jline/jline/0.9.94/jline-0.9.94.jar at spark://LAPTOP-30N4Q54J.mshome.net:52628/jars/jline-0.9.94.jar with timestamp 1664725766958\n",
      "22/10/02 17:49:26 INFO SparkContext: Added JAR file:/C:/Users/alvar/AppData/Local/Coursier/cache/v1/https/repo1.maven.org/maven2/org/apache/orc/orc-mapreduce/1.5.5/orc-mapreduce-1.5.5-nohive.jar at spark://LAPTOP-30N4Q54J.mshome.net:52628/jars/orc-mapreduce-1.5.5-nohive.jar with timestamp 1664725766960\n",
      "22/10/02 17:49:26 INFO SparkContext: Added JAR file:/C:/Users/alvar/AppData/Local/Coursier/cache/v1/https/repo1.maven.org/maven2/org/apache/httpcomponents/httpclient/4.2.5/httpclient-4.2.5.jar at spark://LAPTOP-30N4Q54J.mshome.net:52628/jars/httpclient-4.2.5.jar with timestamp 1664725766963\n",
      "22/10/02 17:49:26 INFO SparkContext: Added JAR file:/C:/Users/alvar/AppData/Local/Coursier/cache/v1/https/repo1.maven.org/maven2/org/apache/hadoop/hadoop-annotations/2.6.5/hadoop-annotations-2.6.5.jar at spark://LAPTOP-30N4Q54J.mshome.net:52628/jars/hadoop-annotations-2.6.5.jar with timestamp 1664725766965\n",
      "22/10/02 17:49:26 INFO SparkContext: Added JAR file:/C:/Users/alvar/AppData/Local/Coursier/cache/v1/https/repo1.maven.org/maven2/org/spark-project/spark/unused/1.0.0/unused-1.0.0.jar at spark://LAPTOP-30N4Q54J.mshome.net:52628/jars/unused-1.0.0.jar with timestamp 1664725766967\n",
      "22/10/02 17:49:26 INFO SparkContext: Added JAR file:/C:/Users/alvar/AppData/Local/Coursier/cache/v1/https/repo1.maven.org/maven2/org/glassfish/jersey/containers/jersey-container-servlet-core/2.22.2/jersey-container-servlet-core-2.22.2.jar at spark://LAPTOP-30N4Q54J.mshome.net:52628/jars/jersey-container-servlet-core-2.22.2.jar with timestamp 1664725766967\n",
      "22/10/02 17:49:26 INFO SparkContext: Added JAR file:/C:/Users/alvar/AppData/Local/Coursier/cache/v1/https/repo1.maven.org/maven2/org/codehaus/janino/commons-compiler/3.0.9/commons-compiler-3.0.9.jar at spark://LAPTOP-30N4Q54J.mshome.net:52628/jars/commons-compiler-3.0.9.jar with timestamp 1664725766968\n",
      "22/10/02 17:49:26 INFO SparkContext: Added JAR file:/C:/Users/alvar/AppData/Local/Coursier/cache/v1/https/repo1.maven.org/maven2/org/glassfish/hk2/hk2-locator/2.4.0-b34/hk2-locator-2.4.0-b34.jar at spark://LAPTOP-30N4Q54J.mshome.net:52628/jars/hk2-locator-2.4.0-b34.jar with timestamp 1664725766969\n",
      "22/10/02 17:49:26 INFO SparkContext: Added JAR file:/C:/Users/alvar/AppData/Local/Coursier/cache/v1/https/repo1.maven.org/maven2/org/codehaus/jackson/jackson-mapper-asl/1.9.13/jackson-mapper-asl-1.9.13.jar at spark://LAPTOP-30N4Q54J.mshome.net:52628/jars/jackson-mapper-asl-1.9.13.jar with timestamp 1664725766970\n",
      "22/10/02 17:49:26 INFO SparkContext: Added JAR file:/C:/Users/alvar/AppData/Local/Coursier/cache/v1/https/repo1.maven.org/maven2/net/sf/py4j/py4j/0.10.7/py4j-0.10.7.jar at spark://LAPTOP-30N4Q54J.mshome.net:52628/jars/py4j-0.10.7.jar with timestamp 1664725766971\n",
      "22/10/02 17:49:26 INFO SparkContext: Added JAR file:/C:/Users/alvar/AppData/Local/Coursier/cache/v1/https/repo1.maven.org/maven2/org/apache/curator/curator-recipes/2.6.0/curator-recipes-2.6.0.jar at spark://LAPTOP-30N4Q54J.mshome.net:52628/jars/curator-recipes-2.6.0.jar with timestamp 1664725766972\n",
      "22/10/02 17:49:26 INFO SparkContext: Added JAR file:/C:/Users/alvar/AppData/Local/Coursier/cache/v1/https/repo1.maven.org/maven2/com/google/code/findbugs/jsr305/3.0.2/jsr305-3.0.2.jar at spark://LAPTOP-30N4Q54J.mshome.net:52628/jars/jsr305-3.0.2.jar with timestamp 1664725766973\n",
      "22/10/02 17:49:26 INFO SparkContext: Added JAR file:/C:/Users/alvar/AppData/Local/Coursier/cache/v1/https/repo1.maven.org/maven2/org/apache/orc/orc-shims/1.5.5/orc-shims-1.5.5.jar at spark://LAPTOP-30N4Q54J.mshome.net:52628/jars/orc-shims-1.5.5.jar with timestamp 1664725766974\n"
     ]
    },
    {
     "name": "stderr",
     "output_type": "stream",
     "text": [
      "22/10/02 17:49:26 INFO SparkContext: Added JAR file:/C:/Users/alvar/AppData/Local/Coursier/cache/v1/https/repo1.maven.org/maven2/org/apache/curator/curator-client/2.6.0/curator-client-2.6.0.jar at spark://LAPTOP-30N4Q54J.mshome.net:52628/jars/curator-client-2.6.0.jar with timestamp 1664725766975\n",
      "22/10/02 17:49:26 INFO SparkContext: Added JAR file:/C:/Users/alvar/AppData/Local/Coursier/cache/v1/https/repo1.maven.org/maven2/org/xerial/snappy/snappy-java/1.1.7.3/snappy-java-1.1.7.3.jar at spark://LAPTOP-30N4Q54J.mshome.net:52628/jars/snappy-java-1.1.7.3.jar with timestamp 1664725766977\n",
      "22/10/02 17:49:26 INFO SparkContext: Added JAR file:/C:/Users/alvar/AppData/Local/Coursier/cache/v1/https/repo1.maven.org/maven2/javax/validation/validation-api/1.1.0.Final/validation-api-1.1.0.Final.jar at spark://LAPTOP-30N4Q54J.mshome.net:52628/jars/validation-api-1.1.0.Final.jar with timestamp 1664725766978\n",
      "22/10/02 17:49:26 INFO SparkContext: Added JAR file:/C:/Users/alvar/AppData/Local/Coursier/cache/v1/https/repo1.maven.org/maven2/org/apache/hadoop/hadoop-hdfs/2.6.5/hadoop-hdfs-2.6.5.jar at spark://LAPTOP-30N4Q54J.mshome.net:52628/jars/hadoop-hdfs-2.6.5.jar with timestamp 1664725766979\n",
      "22/10/02 17:49:26 INFO SparkContext: Added JAR file:/C:/Users/alvar/AppData/Local/Coursier/cache/v1/https/repo1.maven.org/maven2/org/apache/ivy/ivy/2.4.0/ivy-2.4.0.jar at spark://LAPTOP-30N4Q54J.mshome.net:52628/jars/ivy-2.4.0.jar with timestamp 1664725766980\n",
      "22/10/02 17:49:26 INFO SparkContext: Added JAR file:/C:/Users/alvar/AppData/Local/Coursier/cache/v1/https/repo1.maven.org/maven2/javax/xml/stream/stax-api/1.0-2/stax-api-1.0-2.jar at spark://LAPTOP-30N4Q54J.mshome.net:52628/jars/stax-api-1.0-2.jar with timestamp 1664725766981\n",
      "22/10/02 17:49:26 INFO SparkContext: Added JAR file:/C:/Users/alvar/AppData/Local/Coursier/cache/v1/https/repo1.maven.org/maven2/org/roaringbitmap/RoaringBitmap/0.7.45/RoaringBitmap-0.7.45.jar at spark://LAPTOP-30N4Q54J.mshome.net:52628/jars/RoaringBitmap-0.7.45.jar with timestamp 1664725766981\n",
      "22/10/02 17:49:26 INFO SparkContext: Added JAR file:/C:/Users/alvar/AppData/Local/Coursier/cache/v1/https/repo1.maven.org/maven2/org/codehaus/jackson/jackson-jaxrs/1.9.13/jackson-jaxrs-1.9.13.jar at spark://LAPTOP-30N4Q54J.mshome.net:52628/jars/jackson-jaxrs-1.9.13.jar with timestamp 1664725766982\n",
      "22/10/02 17:49:26 INFO SparkContext: Added JAR file:/C:/Users/alvar/AppData/Local/Coursier/cache/v1/https/repo1.maven.org/maven2/io/dropwizard/metrics/metrics-json/3.1.5/metrics-json-3.1.5.jar at spark://LAPTOP-30N4Q54J.mshome.net:52628/jars/metrics-json-3.1.5.jar with timestamp 1664725766983\n",
      "22/10/02 17:49:26 INFO SparkContext: Added JAR file:/C:/Users/alvar/AppData/Local/Coursier/cache/v1/https/repo1.maven.org/maven2/org/glassfish/jersey/containers/jersey-container-servlet/2.22.2/jersey-container-servlet-2.22.2.jar at spark://LAPTOP-30N4Q54J.mshome.net:52628/jars/jersey-container-servlet-2.22.2.jar with timestamp 1664725766984\n",
      "22/10/02 17:49:26 INFO SparkContext: Added JAR file:/C:/Users/alvar/AppData/Local/Coursier/cache/v1/https/repo1.maven.org/maven2/org/codehaus/jackson/jackson-xc/1.9.13/jackson-xc-1.9.13.jar at spark://LAPTOP-30N4Q54J.mshome.net:52628/jars/jackson-xc-1.9.13.jar with timestamp 1664725766984\n",
      "22/10/02 17:49:26 INFO SparkContext: Added JAR file:/C:/Users/alvar/AppData/Local/Coursier/cache/v1/https/repo1.maven.org/maven2/javax/ws/rs/javax.ws.rs-api/2.0.1/javax.ws.rs-api-2.0.1.jar at spark://LAPTOP-30N4Q54J.mshome.net:52628/jars/javax.ws.rs-api-2.0.1.jar with timestamp 1664725766985\n",
      "22/10/02 17:49:26 INFO SparkContext: Added JAR file:/C:/Users/alvar/AppData/Local/Coursier/cache/v1/https/repo1.maven.org/maven2/com/fasterxml/jackson/module/jackson-module-scala_2.12/2.6.7.1/jackson-module-scala_2.12-2.6.7.1.jar at spark://LAPTOP-30N4Q54J.mshome.net:52628/jars/jackson-module-scala_2.12-2.6.7.1.jar with timestamp 1664725766986\n",
      "22/10/02 17:49:26 INFO SparkContext: Added JAR file:/C:/Users/alvar/AppData/Local/Coursier/cache/v1/https/repo1.maven.org/maven2/org/apache/parquet/parquet-column/1.10.1/parquet-column-1.10.1.jar at spark://LAPTOP-30N4Q54J.mshome.net:52628/jars/parquet-column-1.10.1.jar with timestamp 1664725766987\n",
      "22/10/02 17:49:26 INFO SparkContext: Added JAR file:/C:/Users/alvar/AppData/Local/Coursier/cache/v1/https/repo1.maven.org/maven2/com/esotericsoftware/kryo-shaded/4.0.2/kryo-shaded-4.0.2.jar at spark://LAPTOP-30N4Q54J.mshome.net:52628/jars/kryo-shaded-4.0.2.jar with timestamp 1664725766988\n",
      "22/10/02 17:49:26 INFO SparkContext: Added JAR file:/C:/Users/alvar/AppData/Local/Coursier/cache/v1/https/repo1.maven.org/maven2/org/apache/directory/api/api-asn1-api/1.0.0-M20/api-asn1-api-1.0.0-M20.jar at spark://LAPTOP-30N4Q54J.mshome.net:52628/jars/api-asn1-api-1.0.0-M20.jar with timestamp 1664725766989\n",
      "22/10/02 17:49:26 INFO SparkContext: Added JAR file:/C:/Users/alvar/AppData/Local/Coursier/cache/v1/https/repo1.maven.org/maven2/net/razorvine/pyrolite/4.13/pyrolite-4.13.jar at spark://LAPTOP-30N4Q54J.mshome.net:52628/jars/pyrolite-4.13.jar with timestamp 1664725766990\n",
      "22/10/02 17:49:26 INFO SparkContext: Added JAR file:/C:/Users/alvar/AppData/Local/Coursier/cache/v1/https/repo1.maven.org/maven2/org/apache/parquet/parquet-format/2.4.0/parquet-format-2.4.0.jar at spark://LAPTOP-30N4Q54J.mshome.net:52628/jars/parquet-format-2.4.0.jar with timestamp 1664725766991\n",
      "22/10/02 17:49:26 INFO SparkContext: Added JAR file:/C:/Users/alvar/AppData/Local/Coursier/cache/v1/https/repo1.maven.org/maven2/org/scala-lang/modules/scala-xml_2.12/1.0.6/scala-xml_2.12-1.0.6.jar at spark://LAPTOP-30N4Q54J.mshome.net:52628/jars/scala-xml_2.12-1.0.6.jar with timestamp 1664725766997\n",
      "22/10/02 17:49:26 INFO SparkContext: Added JAR file:/C:/Users/alvar/AppData/Local/Coursier/cache/v1/https/repo1.maven.org/maven2/org/apache/zookeeper/zookeeper/3.4.6/zookeeper-3.4.6.jar at spark://LAPTOP-30N4Q54J.mshome.net:52628/jars/zookeeper-3.4.6.jar with timestamp 1664725766998\n",
      "22/10/02 17:49:26 INFO SparkContext: Added JAR file:/C:/Users/alvar/AppData/Local/Coursier/cache/v1/https/repo1.maven.org/maven2/org/objenesis/objenesis/2.5.1/objenesis-2.5.1.jar at spark://LAPTOP-30N4Q54J.mshome.net:52628/jars/objenesis-2.5.1.jar with timestamp 1664725766999\n",
      "22/10/02 17:49:27 INFO SparkContext: Added JAR file:/C:/Users/alvar/AppData/Local/Coursier/cache/v1/https/repo1.maven.org/maven2/org/glassfish/jersey/media/jersey-media-jaxb/2.22.2/jersey-media-jaxb-2.22.2.jar at spark://LAPTOP-30N4Q54J.mshome.net:52628/jars/jersey-media-jaxb-2.22.2.jar with timestamp 1664725767000\n",
      "22/10/02 17:49:27 INFO SparkContext: Added JAR file:/C:/Users/alvar/AppData/Local/Coursier/cache/v1/https/repo1.maven.org/maven2/commons-httpclient/commons-httpclient/3.1/commons-httpclient-3.1.jar at spark://LAPTOP-30N4Q54J.mshome.net:52628/jars/commons-httpclient-3.1.jar with timestamp 1664725767001\n",
      "22/10/02 17:49:27 INFO SparkContext: Added JAR file:/C:/Users/alvar/AppData/Local/Coursier/cache/v1/https/repo1.maven.org/maven2/org/apache/hadoop/hadoop-mapreduce-client-jobclient/2.6.5/hadoop-mapreduce-client-jobclient-2.6.5.jar at spark://LAPTOP-30N4Q54J.mshome.net:52628/jars/hadoop-mapreduce-client-jobclient-2.6.5.jar with timestamp 1664725767002\n",
      "22/10/02 17:49:27 INFO SparkContext: Added JAR file:/C:/Users/alvar/AppData/Local/Coursier/cache/v1/https/repo1.maven.org/maven2/io/netty/netty-all/4.1.42.Final/netty-all-4.1.42.Final.jar at spark://LAPTOP-30N4Q54J.mshome.net:52628/jars/netty-all-4.1.42.Final.jar with timestamp 1664725767002\n",
      "22/10/02 17:49:27 INFO SparkContext: Added JAR file:/C:/Users/alvar/AppData/Local/Coursier/cache/v1/https/repo1.maven.org/maven2/org/apache/spark/spark-network-shuffle_2.12/2.4.5/spark-network-shuffle_2.12-2.4.5.jar at spark://LAPTOP-30N4Q54J.mshome.net:52628/jars/spark-network-shuffle_2.12-2.4.5.jar with timestamp 1664725767003\n",
      "22/10/02 17:49:27 INFO SparkContext: Added JAR file:/C:/Users/alvar/AppData/Local/Coursier/cache/v1/https/repo1.maven.org/maven2/org/apache/spark/spark-sketch_2.12/2.4.5/spark-sketch_2.12-2.4.5.jar at spark://LAPTOP-30N4Q54J.mshome.net:52628/jars/spark-sketch_2.12-2.4.5.jar with timestamp 1664725767004\n",
      "22/10/02 17:49:27 INFO SparkContext: Added JAR file:/C:/Users/alvar/AppData/Local/Coursier/cache/v1/https/repo1.maven.org/maven2/com/twitter/chill-java/0.9.3/chill-java-0.9.3.jar at spark://LAPTOP-30N4Q54J.mshome.net:52628/jars/chill-java-0.9.3.jar with timestamp 1664725767005\n"
     ]
    },
    {
     "name": "stderr",
     "output_type": "stream",
     "text": [
      "22/10/02 17:49:27 INFO SparkContext: Added JAR file:/C:/Users/alvar/AppData/Local/Coursier/cache/v1/https/repo1.maven.org/maven2/org/json4s/json4s-ast_2.12/3.5.3/json4s-ast_2.12-3.5.3.jar at spark://LAPTOP-30N4Q54J.mshome.net:52628/jars/json4s-ast_2.12-3.5.3.jar with timestamp 1664725767006\n",
      "22/10/02 17:49:27 INFO SparkContext: Added JAR file:/C:/Users/alvar/AppData/Local/Coursier/cache/v1/https/repo1.maven.org/maven2/org/apache/avro/avro-mapred/1.8.2/avro-mapred-1.8.2-hadoop2.jar at spark://LAPTOP-30N4Q54J.mshome.net:52628/jars/avro-mapred-1.8.2-hadoop2.jar with timestamp 1664725767013\n",
      "22/10/02 17:49:27 INFO SparkContext: Added JAR file:/C:/Users/alvar/AppData/Local/Coursier/cache/v1/https/repo1.maven.org/maven2/org/apache/parquet/parquet-encoding/1.10.1/parquet-encoding-1.10.1.jar at spark://LAPTOP-30N4Q54J.mshome.net:52628/jars/parquet-encoding-1.10.1.jar with timestamp 1664725767014\n",
      "22/10/02 17:49:27 INFO SparkContext: Added JAR file:/C:/Users/alvar/AppData/Local/Coursier/cache/v1/https/repo1.maven.org/maven2/commons-net/commons-net/3.1/commons-net-3.1.jar at spark://LAPTOP-30N4Q54J.mshome.net:52628/jars/commons-net-3.1.jar with timestamp 1664725767015\n",
      "22/10/02 17:49:27 INFO SparkContext: Added JAR file:/C:/Users/alvar/AppData/Local/Coursier/cache/v1/https/repo1.maven.org/maven2/io/dropwizard/metrics/metrics-jvm/3.1.5/metrics-jvm-3.1.5.jar at spark://LAPTOP-30N4Q54J.mshome.net:52628/jars/metrics-jvm-3.1.5.jar with timestamp 1664725767016\n",
      "22/10/02 17:49:27 INFO SparkContext: Added JAR file:/C:/Users/alvar/AppData/Local/Coursier/cache/v1/https/repo1.maven.org/maven2/org/glassfish/jersey/core/jersey-client/2.22.2/jersey-client-2.22.2.jar at spark://LAPTOP-30N4Q54J.mshome.net:52628/jars/jersey-client-2.22.2.jar with timestamp 1664725767017\n",
      "22/10/02 17:49:27 INFO SparkContext: Added JAR file:/C:/Users/alvar/AppData/Local/Coursier/cache/v1/https/repo1.maven.org/maven2/org/apache/arrow/arrow-memory/0.10.0/arrow-memory-0.10.0.jar at spark://LAPTOP-30N4Q54J.mshome.net:52628/jars/arrow-memory-0.10.0.jar with timestamp 1664725767018\n",
      "22/10/02 17:49:27 INFO SparkContext: Added JAR file:/C:/Users/alvar/AppData/Local/Coursier/cache/v1/https/repo1.maven.org/maven2/org/apache/hadoop/hadoop-mapreduce-client-shuffle/2.6.5/hadoop-mapreduce-client-shuffle-2.6.5.jar at spark://LAPTOP-30N4Q54J.mshome.net:52628/jars/hadoop-mapreduce-client-shuffle-2.6.5.jar with timestamp 1664725767020\n",
      "22/10/02 17:49:27 INFO SparkContext: Added JAR file:/C:/Users/alvar/AppData/Local/Coursier/cache/v1/https/repo1.maven.org/maven2/com/fasterxml/jackson/module/jackson-module-paranamer/2.7.9/jackson-module-paranamer-2.7.9.jar at spark://LAPTOP-30N4Q54J.mshome.net:52628/jars/jackson-module-paranamer-2.7.9.jar with timestamp 1664725767021\n",
      "22/10/02 17:49:27 INFO SparkContext: Added JAR file:/C:/Users/alvar/AppData/Local/Coursier/cache/v1/https/repo1.maven.org/maven2/org/apache/hadoop/hadoop-mapreduce-client-app/2.6.5/hadoop-mapreduce-client-app-2.6.5.jar at spark://LAPTOP-30N4Q54J.mshome.net:52628/jars/hadoop-mapreduce-client-app-2.6.5.jar with timestamp 1664725767022\n",
      "22/10/02 17:49:27 INFO SparkContext: Added JAR file:/C:/Users/alvar/AppData/Local/Coursier/cache/v1/https/repo1.maven.org/maven2/org/htrace/htrace-core/3.0.4/htrace-core-3.0.4.jar at spark://LAPTOP-30N4Q54J.mshome.net:52628/jars/htrace-core-3.0.4.jar with timestamp 1664725767024\n",
      "22/10/02 17:49:27 INFO SparkContext: Added JAR file:/C:/Users/alvar/AppData/Local/Coursier/cache/v1/https/repo1.maven.org/maven2/org/glassfish/jersey/bundles/repackaged/jersey-guava/2.22.2/jersey-guava-2.22.2.jar at spark://LAPTOP-30N4Q54J.mshome.net:52628/jars/jersey-guava-2.22.2.jar with timestamp 1664725767025\n",
      "22/10/02 17:49:27 INFO SparkContext: Added JAR file:/C:/Users/alvar/AppData/Local/Coursier/cache/v1/https/repo1.maven.org/maven2/commons-digester/commons-digester/1.8/commons-digester-1.8.jar at spark://LAPTOP-30N4Q54J.mshome.net:52628/jars/commons-digester-1.8.jar with timestamp 1664725767027\n",
      "22/10/02 17:49:27 INFO SparkContext: Added JAR file:/C:/Users/alvar/AppData/Local/Coursier/cache/v1/https/repo1.maven.org/maven2/org/apache/spark/spark-launcher_2.12/2.4.5/spark-launcher_2.12-2.4.5.jar at spark://LAPTOP-30N4Q54J.mshome.net:52628/jars/spark-launcher_2.12-2.4.5.jar with timestamp 1664725767028\n",
      "22/10/02 17:49:27 INFO SparkContext: Added JAR file:/C:/Users/alvar/AppData/Local/Coursier/cache/v1/https/repo1.maven.org/maven2/com/twitter/chill_2.12/0.9.3/chill_2.12-0.9.3.jar at spark://LAPTOP-30N4Q54J.mshome.net:52628/jars/chill_2.12-0.9.3.jar with timestamp 1664725767029\n",
      "22/10/02 17:49:27 INFO SparkContext: Added JAR file:/C:/Users/alvar/AppData/Local/Coursier/cache/v1/https/repo1.maven.org/maven2/org/apache/arrow/arrow-format/0.10.0/arrow-format-0.10.0.jar at spark://LAPTOP-30N4Q54J.mshome.net:52628/jars/arrow-format-0.10.0.jar with timestamp 1664725767030\n",
      "22/10/02 17:49:27 INFO SparkContext: Added JAR file:/C:/Users/alvar/AppData/Local/Coursier/cache/v1/https/repo1.maven.org/maven2/com/google/protobuf/protobuf-java/2.5.0/protobuf-java-2.5.0.jar at spark://LAPTOP-30N4Q54J.mshome.net:52628/jars/protobuf-java-2.5.0.jar with timestamp 1664725767031\n",
      "22/10/02 17:49:27 INFO SparkContext: Added JAR file:/C:/Users/alvar/AppData/Local/Coursier/cache/v1/https/repo1.maven.org/maven2/org/apache/directory/server/apacheds-kerberos-codec/2.0.0-M15/apacheds-kerberos-codec-2.0.0-M15.jar at spark://LAPTOP-30N4Q54J.mshome.net:52628/jars/apacheds-kerberos-codec-2.0.0-M15.jar with timestamp 1664725767032\n",
      "22/10/02 17:49:27 INFO SparkContext: Added JAR file:/C:/Users/alvar/AppData/Local/Coursier/cache/v1/https/repo1.maven.org/maven2/org/apache/hadoop/hadoop-client/2.6.5/hadoop-client-2.6.5.jar at spark://LAPTOP-30N4Q54J.mshome.net:52628/jars/hadoop-client-2.6.5.jar with timestamp 1664725767033\n",
      "22/10/02 17:49:27 INFO SparkContext: Added JAR file:/C:/Users/alvar/AppData/Local/Coursier/cache/v1/https/repo1.maven.org/maven2/io/dropwizard/metrics/metrics-graphite/3.1.5/metrics-graphite-3.1.5.jar at spark://LAPTOP-30N4Q54J.mshome.net:52628/jars/metrics-graphite-3.1.5.jar with timestamp 1664725767034\n",
      "22/10/02 17:49:27 INFO SparkContext: Added JAR file:/C:/Users/alvar/AppData/Local/Coursier/cache/v1/https/repo1.maven.org/maven2/org/json4s/json4s-jackson_2.12/3.5.3/json4s-jackson_2.12-3.5.3.jar at spark://LAPTOP-30N4Q54J.mshome.net:52628/jars/json4s-jackson_2.12-3.5.3.jar with timestamp 1664725767035\n",
      "22/10/02 17:49:27 INFO SparkContext: Added JAR file:/C:/Users/alvar/AppData/Local/Coursier/cache/v1/https/repo1.maven.org/maven2/org/glassfish/hk2/external/javax.inject/2.4.0-b34/javax.inject-2.4.0-b34.jar at spark://LAPTOP-30N4Q54J.mshome.net:52628/jars/javax.inject-2.4.0-b34.jar with timestamp 1664725767036\n",
      "22/10/02 17:49:27 INFO SparkContext: Added JAR file:/C:/Users/alvar/AppData/Local/Coursier/cache/v1/https/repo1.maven.org/maven2/org/glassfish/jersey/core/jersey-server/2.22.2/jersey-server-2.22.2.jar at spark://LAPTOP-30N4Q54J.mshome.net:52628/jars/jersey-server-2.22.2.jar with timestamp 1664725767037\n",
      "22/10/02 17:49:27 INFO SparkContext: Added JAR file:/C:/Users/alvar/AppData/Local/Coursier/cache/v1/https/repo1.maven.org/maven2/com/fasterxml/jackson/core/jackson-annotations/2.6.7/jackson-annotations-2.6.7.jar at spark://LAPTOP-30N4Q54J.mshome.net:52628/jars/jackson-annotations-2.6.7.jar with timestamp 1664725767038\n",
      "22/10/02 17:49:27 INFO SparkContext: Added JAR file:/C:/Users/alvar/AppData/Local/Coursier/cache/v1/https/repo1.maven.org/maven2/org/apache/hadoop/hadoop-mapreduce-client-common/2.6.5/hadoop-mapreduce-client-common-2.6.5.jar at spark://LAPTOP-30N4Q54J.mshome.net:52628/jars/hadoop-mapreduce-client-common-2.6.5.jar with timestamp 1664725767039\n",
      "22/10/02 17:49:27 INFO SparkContext: Added JAR file:/C:/Users/alvar/AppData/Local/Coursier/cache/v1/https/repo1.maven.org/maven2/org/apache/curator/curator-framework/2.6.0/curator-framework-2.6.0.jar at spark://LAPTOP-30N4Q54J.mshome.net:52628/jars/curator-framework-2.6.0.jar with timestamp 1664725767040\n",
      "22/10/02 17:49:27 INFO SparkContext: Added JAR file:/C:/Users/alvar/AppData/Local/Coursier/cache/v1/https/repo1.maven.org/maven2/sh/almond/almond-spark_2.12/0.4.0/almond-spark_2.12-0.4.0.jar at spark://LAPTOP-30N4Q54J.mshome.net:52628/jars/almond-spark_2.12-0.4.0.jar with timestamp 1664725767041\n"
     ]
    },
    {
     "name": "stderr",
     "output_type": "stream",
     "text": [
      "22/10/02 17:49:27 INFO SparkContext: Added JAR file:/C:/Users/alvar/AppData/Local/Coursier/cache/v1/https/repo1.maven.org/maven2/io/argonaut/argonaut_2.12/6.2.3/argonaut_2.12-6.2.3.jar at spark://LAPTOP-30N4Q54J.mshome.net:52628/jars/argonaut_2.12-6.2.3.jar with timestamp 1664725767047\n",
      "22/10/02 17:49:27 INFO SparkContext: Added JAR file:/C:/Users/alvar/AppData/Local/Coursier/cache/v1/https/repo1.maven.org/maven2/org/eclipse/jetty/jetty-server/9.4.15.v20190215/jetty-server-9.4.15.v20190215.jar at spark://LAPTOP-30N4Q54J.mshome.net:52628/jars/jetty-server-9.4.15.v20190215.jar with timestamp 1664725767048\n",
      "22/10/02 17:49:27 INFO SparkContext: Added JAR file:/C:/Users/alvar/AppData/Local/Coursier/cache/v1/https/repo1.maven.org/maven2/sh/almond/ammonite-spark_2.12/0.4.0/ammonite-spark_2.12-0.4.0.jar at spark://LAPTOP-30N4Q54J.mshome.net:52628/jars/ammonite-spark_2.12-0.4.0.jar with timestamp 1664725767049\n",
      "22/10/02 17:49:27 INFO SparkContext: Added JAR file:/C:/Users/alvar/AppData/Local/Coursier/cache/v1/https/repo1.maven.org/maven2/com/github/alexarchambault/argonaut-shapeless_6.2_2.12/1.2.0-M10/argonaut-shapeless_6.2_2.12-1.2.0-M10.jar at spark://LAPTOP-30N4Q54J.mshome.net:52628/jars/argonaut-shapeless_6.2_2.12-1.2.0-M10.jar with timestamp 1664725767052\n",
      "22/10/02 17:49:27 INFO SparkContext: Added JAR file:/C:/Users/alvar/AppData/Local/Coursier/cache/v1/https/repo1.maven.org/maven2/org/eclipse/jetty/jetty-io/9.4.15.v20190215/jetty-io-9.4.15.v20190215.jar at spark://LAPTOP-30N4Q54J.mshome.net:52628/jars/jetty-io-9.4.15.v20190215.jar with timestamp 1664725767055\n",
      "22/10/02 17:49:27 INFO SparkContext: Added JAR file:/C:/Users/alvar/AppData/Local/Coursier/cache/v1/https/repo1.maven.org/maven2/org/typelevel/macro-compat_2.12/1.1.1/macro-compat_2.12-1.1.1.jar at spark://LAPTOP-30N4Q54J.mshome.net:52628/jars/macro-compat_2.12-1.1.1.jar with timestamp 1664725767056\n",
      "22/10/02 17:49:27 INFO SparkContext: Added JAR file:/C:/Users/alvar/AppData/Local/Coursier/cache/v1/https/repo1.maven.org/maven2/org/eclipse/jetty/jetty-http/9.4.15.v20190215/jetty-http-9.4.15.v20190215.jar at spark://LAPTOP-30N4Q54J.mshome.net:52628/jars/jetty-http-9.4.15.v20190215.jar with timestamp 1664725767061\n",
      "22/10/02 17:49:27 INFO SparkContext: Added JAR file:/C:/Users/alvar/AppData/Local/Coursier/cache/v1/https/repo1.maven.org/maven2/org/eclipse/jetty/jetty-util/9.4.15.v20190215/jetty-util-9.4.15.v20190215.jar at spark://LAPTOP-30N4Q54J.mshome.net:52628/jars/jetty-util-9.4.15.v20190215.jar with timestamp 1664725767063\n",
      "22/10/02 17:49:27 INFO SparkContext: Added JAR file:/C:/Users/alvar/AppData/Local/Coursier/cache/v1/https/repo1.maven.org/maven2/com/chuusai/shapeless_2.12/2.3.3/shapeless_2.12-2.3.3.jar at spark://LAPTOP-30N4Q54J.mshome.net:52628/jars/shapeless_2.12-2.3.3.jar with timestamp 1664725767065\n",
      "22/10/02 17:49:27 INFO SparkContext: Added JAR file:/C:/Users/alvar/AppData/Local/Coursier/cache/v1/https/repo1.maven.org/maven2/sh/almond/spark-stubs_24_2.12/0.4.0/spark-stubs_24_2.12-0.4.0.jar at spark://LAPTOP-30N4Q54J.mshome.net:52628/jars/spark-stubs_24_2.12-0.4.0.jar with timestamp 1664725767066\n",
      "22/10/02 17:49:27 INFO Executor: Starting executor ID driver on host localhost\n",
      "22/10/02 17:49:27 INFO Executor: Using REPL class URI: http://172.18.240.1:52601\n",
      "22/10/02 17:49:27 INFO Utils: Successfully started service 'org.apache.spark.network.netty.NettyBlockTransferService' on port 52655.\n",
      "22/10/02 17:49:27 INFO NettyBlockTransferService: Server created on LAPTOP-30N4Q54J.mshome.net:52655\n",
      "22/10/02 17:49:27 INFO BlockManager: Using org.apache.spark.storage.RandomBlockReplicationPolicy for block replication policy\n",
      "22/10/02 17:49:27 INFO BlockManagerMaster: Registering BlockManager BlockManagerId(driver, LAPTOP-30N4Q54J.mshome.net, 52655, None)\n",
      "22/10/02 17:49:27 INFO BlockManagerMasterEndpoint: Registering block manager LAPTOP-30N4Q54J.mshome.net:52655 with 1646.4 MB RAM, BlockManagerId(driver, LAPTOP-30N4Q54J.mshome.net, 52655, None)\n",
      "22/10/02 17:49:27 INFO BlockManagerMaster: Registered BlockManager BlockManagerId(driver, LAPTOP-30N4Q54J.mshome.net, 52655, None)\n",
      "22/10/02 17:49:27 INFO BlockManager: Initialized BlockManager: BlockManagerId(driver, LAPTOP-30N4Q54J.mshome.net, 52655, None)\n"
     ]
    },
    {
     "data": {
      "text/html": [
       "<a href=\"http://LAPTOP-30N4Q54J.mshome.net:4040\">Spark UI</a>"
      ]
     },
     "metadata": {},
     "output_type": "display_data"
    },
    {
     "data": {
      "text/plain": [
       "\u001b[32mimport \u001b[39m\u001b[36m$ivy.$                                   \n",
       "\u001b[39m\r\n",
       "\u001b[32mimport \u001b[39m\u001b[36m$ivy.$                              \n",
       "\n",
       "\u001b[39m\r\n",
       "\u001b[32mimport \u001b[39m\u001b[36morg.apache.spark.sql.{NotebookSparkSession, SparkSession}\n",
       "\u001b[39m\r\n",
       "\u001b[32mimport \u001b[39m\u001b[36morg.apache.spark.sql.{functions => func, _}\n",
       "\u001b[39m\r\n",
       "\u001b[32mimport \u001b[39m\u001b[36morg.apache.spark.sql.types._\n",
       "\n",
       "\u001b[39m\r\n",
       "\u001b[36mspark\u001b[39m: \u001b[32mSparkSession\u001b[39m = org.apache.spark.sql.SparkSession@7beaa90e\r\n",
       "\u001b[32mimport \u001b[39m\u001b[36mspark.implicits._\n",
       "\n",
       "\u001b[39m\r\n",
       "\u001b[32mimport \u001b[39m\u001b[36morg.slf4j.LoggerFactory\n",
       "\u001b[39m\r\n",
       "\u001b[32mimport \u001b[39m\u001b[36morg.apache.log4j.{Level, Logger}\n",
       "\n",
       "\u001b[39m"
      ]
     },
     "execution_count": 1,
     "metadata": {},
     "output_type": "execute_result"
    }
   ],
   "source": [
    "import $ivy.`org.apache.spark::spark-sql:2.4.5` \n",
    "import $ivy.`sh.almond::almond-spark:0.4.0`\n",
    "\n",
    "import org.apache.spark.sql.{NotebookSparkSession, SparkSession}\n",
    "import org.apache.spark.sql.{functions => func, _}\n",
    "import org.apache.spark.sql.types._\n",
    "\n",
    "val spark = NotebookSparkSession\n",
    "      .builder()\n",
    "      .config(\"spark.sql.join.preferSortMergeJoin\", false)\n",
    "      .config(\"spark.sql.shuffle.partitions\", 64)\n",
    "      .master(\"local[4]\")\n",
    "      .getOrCreate()\n",
    "\n",
    "import spark.implicits._\n",
    "\n",
    "import org.slf4j.LoggerFactory\n",
    "import org.apache.log4j.{Level, Logger}\n",
    "\n",
    "Logger.getRootLogger().setLevel(Level.ERROR)"
   ]
  },
  {
   "cell_type": "markdown",
   "id": "5081269e",
   "metadata": {},
   "source": [
    "Esta lectura me esta funcionando a veces si y hay veces que no, he llegado a pensar que podria ser por la memoria de los ejecutores o que el mismo driver despues de realizar varias operaciones se quede sin memoria "
   ]
  },
  {
   "cell_type": "code",
   "execution_count": null,
   "id": "5f1cb268",
   "metadata": {},
   "outputs": [],
   "source": [
    "val allData = spark.read.json(\"D:/TFGAlvaroSanchez/dataJSONLine/*.json\").select(\n",
    "            $\"fecha\".cast(DateType), \n",
    "            $\"indicativo\", \n",
    "            $\"p_max\",\n",
    "            $\"glo\".cast(DoubleType), \n",
    "            $\"hr\".cast(DoubleType), \n",
    "            $\"nw_55\".cast(IntegerType), \n",
    "            $\"tm_min\".cast(DoubleType), \n",
    "            $\"ta_max\", \n",
    "            $\"ts_min\".cast(DoubleType), \n",
    "            $\"nt_30\".cast(IntegerType), \n",
    "            $\"n_des\".cast(IntegerType), \n",
    "            $\"w_racha\", \n",
    "            $\"np_100\".cast(IntegerType), \n",
    "            $\"nw_91\".cast(IntegerType), \n",
    "            $\"np_001\".cast(IntegerType), \n",
    "            $\"ta_min\", \n",
    "            $\"w_rec\".cast(IntegerType), \n",
    "            $\"e\".cast(DoubleType), \n",
    "            $\"np_300\".cast(IntegerType), \n",
    "            $\"p_mes\".cast(DoubleType), \n",
    "            $\"w_med\".cast(DoubleType), \n",
    "            $\"nt_00\".cast(IntegerType), \n",
    "            $\"ti_max\".cast(DoubleType), \n",
    "            $\"tm_mes\".cast(DoubleType), \n",
    "            $\"tm_max\".cast(DoubleType), \n",
    "            $\"np_010\".cast(IntegerType))"
   ]
  },
  {
   "cell_type": "markdown",
   "id": "da10825f",
   "metadata": {},
   "source": [
    "Para tratar de leerlo de una manera mas optima, habia pensado lo siguiente; el problema es que todos los datos que lee, los pone con valor a null y hay en ocasiones que me pasa como en el ejemplo de arriba, que no llega a completarse la barra de progreso"
   ]
  },
  {
   "cell_type": "code",
   "execution_count": 2,
   "id": "5a00fc89",
   "metadata": {},
   "outputs": [
    {
     "data": {
      "text/plain": [
       "\u001b[36mschema\u001b[39m: \u001b[32mStructType\u001b[39m = \u001b[33mStructType\u001b[39m(\n",
       "  \u001b[33mStructField\u001b[39m(\u001b[32m\"fecha\"\u001b[39m, StringType, true, {}),\n",
       "  \u001b[33mStructField\u001b[39m(\u001b[32m\"indicativo\"\u001b[39m, StringType, true, {}),\n",
       "  \u001b[33mStructField\u001b[39m(\u001b[32m\"nombre\"\u001b[39m, StringType, true, {}),\n",
       "  \u001b[33mStructField\u001b[39m(\u001b[32m\"provincia\"\u001b[39m, StringType, true, {}),\n",
       "  \u001b[33mStructField\u001b[39m(\u001b[32m\"altitud\"\u001b[39m, StringType, true, {}),\n",
       "  \u001b[33mStructField\u001b[39m(\u001b[32m\"tm_mes\"\u001b[39m, StringType, true, {}),\n",
       "  \u001b[33mStructField\u001b[39m(\u001b[32m\"tm_max\"\u001b[39m, StringType, true, {}),\n",
       "  \u001b[33mStructField\u001b[39m(\u001b[32m\"tm_min\"\u001b[39m, StringType, true, {}),\n",
       "  \u001b[33mStructField\u001b[39m(\u001b[32m\"ta_max\"\u001b[39m, StringType, true, {}),\n",
       "  \u001b[33mStructField\u001b[39m(\u001b[32m\"ta_min\"\u001b[39m, StringType, true, {}),\n",
       "  \u001b[33mStructField\u001b[39m(\u001b[32m\"ts_min\"\u001b[39m, StringType, true, {}),\n",
       "  \u001b[33mStructField\u001b[39m(\u001b[32m\"ti_max\"\u001b[39m, StringType, true, {}),\n",
       "  \u001b[33mStructField\u001b[39m(\u001b[32m\"nt_30\"\u001b[39m, StringType, true, {}),\n",
       "  \u001b[33mStructField\u001b[39m(\u001b[32m\"nt_00\"\u001b[39m, StringType, true, {}),\n",
       "  \u001b[33mStructField\u001b[39m(\u001b[32m\"p_mes\"\u001b[39m, StringType, true, {}),\n",
       "  \u001b[33mStructField\u001b[39m(\u001b[32m\"p_max\"\u001b[39m, StringType, true, {}),\n",
       "  \u001b[33mStructField\u001b[39m(\u001b[32m\"np_001\"\u001b[39m, StringType, true, {}),\n",
       "  \u001b[33mStructField\u001b[39m(\u001b[32m\"np_010\"\u001b[39m, StringType, true, {}),\n",
       "  \u001b[33mStructField\u001b[39m(\u001b[32m\"np_100\"\u001b[39m, StringType, true, {}),\n",
       "  \u001b[33mStructField\u001b[39m(\u001b[32m\"np_300\"\u001b[39m, StringType, true, {}),\n",
       "  \u001b[33mStructField\u001b[39m(\u001b[32m\"hr\"\u001b[39m, StringType, true, {}),\n",
       "  \u001b[33mStructField\u001b[39m(\u001b[32m\"e\"\u001b[39m, StringType, true, {}),\n",
       "  \u001b[33mStructField\u001b[39m(\u001b[32m\"n_llu\"\u001b[39m, StringType, true, {}),\n",
       "  \u001b[33mStructField\u001b[39m(\u001b[32m\"n_nie\"\u001b[39m, StringType, true, {}),\n",
       "  \u001b[33mStructField\u001b[39m(\u001b[32m\"n_gra\"\u001b[39m, StringType, true, {}),\n",
       "  \u001b[33mStructField\u001b[39m(\u001b[32m\"n_tor\"\u001b[39m, StringType, true, {}),\n",
       "  \u001b[33mStructField\u001b[39m(\u001b[32m\"n_fog\"\u001b[39m, StringType, true, {}),\n",
       "  \u001b[33mStructField\u001b[39m(\u001b[32m\"n_des\"\u001b[39m, StringType, true, {}),\n",
       "  \u001b[33mStructField\u001b[39m(\u001b[32m\"n_nub\"\u001b[39m, StringType, true, {}),\n",
       "  \u001b[33mStructField\u001b[39m(\u001b[32m\"n_cub\"\u001b[39m, StringType, true, {}),\n",
       "  \u001b[33mStructField\u001b[39m(\u001b[32m\"inso\"\u001b[39m, StringType, true, {}),\n",
       "  \u001b[33mStructField\u001b[39m(\u001b[32m\"p_sol\"\u001b[39m, StringType, true, {}),\n",
       "  \u001b[33mStructField\u001b[39m(\u001b[32m\"glo\"\u001b[39m, StringType, true, {}),\n",
       "  \u001b[33mStructField\u001b[39m(\u001b[32m\"evap\"\u001b[39m, StringType, true, {}),\n",
       "  \u001b[33mStructField\u001b[39m(\u001b[32m\"w_rec\"\u001b[39m, StringType, true, {}),\n",
       "  \u001b[33mStructField\u001b[39m(\u001b[32m\"w_racha\"\u001b[39m, StringType, true, {}),\n",
       "  \u001b[33mStructField\u001b[39m(\u001b[32m\"nw_55\"\u001b[39m, StringType, true, {}),\n",
       "  \u001b[33mStructField\u001b[39m(\u001b[32m\"nw_91\"\u001b[39m, StringType, true, {}),\n",
       "..."
      ]
     },
     "execution_count": 2,
     "metadata": {},
     "output_type": "execute_result"
    }
   ],
   "source": [
    "val schema = StructType(\n",
    "    Array(\n",
    "        StructField(\"fecha\", StringType, true), \n",
    "        StructField(\"indicativo\", StringType, true),\n",
    "        StructField(\"nombre\", StringType, true),\n",
    "        StructField(\"provincia\", StringType, true),\n",
    "        StructField(\"altitud\", StringType, true),\n",
    "        StructField(\"tm_mes\", StringType, true),\n",
    "        StructField(\"tm_max\", StringType, true),\n",
    "        StructField(\"tm_min\", StringType, true), \n",
    "        StructField(\"ta_max\", StringType, true),\n",
    "        StructField(\"ta_min\", StringType, true),\n",
    "        StructField(\"ts_min\", StringType, true),\n",
    "        StructField(\"ti_max\", StringType, true),\n",
    "        StructField(\"nt_30\", StringType, true),\n",
    "        StructField(\"nt_00\", StringType, true),\n",
    "        StructField(\"p_mes\", StringType, true),\n",
    "        StructField(\"p_max\", StringType, true),\n",
    "        StructField(\"np_001\", StringType, true),\n",
    "        StructField(\"np_010\", StringType, true),\n",
    "        StructField(\"np_100\", StringType, true),\n",
    "        StructField(\"np_300\", StringType, true),\n",
    "        StructField(\"hr\", StringType, true), \n",
    "        StructField(\"e\", StringType, true),\n",
    "        StructField(\"n_llu\", StringType, true),\n",
    "        StructField(\"n_nie\", StringType, true),\n",
    "        StructField(\"n_gra\", StringType, true),\n",
    "        StructField(\"n_tor\", StringType, true),\n",
    "        StructField(\"n_fog\", StringType, true),\n",
    "        StructField(\"n_des\", StringType, true),\n",
    "        StructField(\"n_nub\", StringType, true),\n",
    "        StructField(\"n_cub\", StringType, true),\n",
    "        StructField(\"inso\", StringType, true),\n",
    "        StructField(\"p_sol\", StringType, true),\n",
    "        StructField(\"glo\", StringType, true),\n",
    "        StructField(\"evap\", StringType, true),\n",
    "        StructField(\"w_rec\", StringType, true),\n",
    "        StructField(\"w_racha\", StringType, true),\n",
    "        StructField(\"nw_55\", StringType, true),\n",
    "        StructField(\"nw_91\", StringType, true),\n",
    "        StructField(\"w_med\", StringType, true),\n",
    "        StructField(\"q_med\", StringType, true),\n",
    "        StructField(\"q_max\", StringType, true),\n",
    "        StructField(\"q_min\", StringType, true),\n",
    "        StructField(\"q_mar\", StringType, true),\n",
    "        StructField(\"ts_10\", StringType, true),\n",
    "        StructField(\"ts_20\", StringType, true),\n",
    "        StructField(\"ts_50\", StringType, true),\n",
    "        StructField(\"nv_0050\", StringType, true),\n",
    "        StructField(\"nv_0100\", StringType, true),\n",
    "        StructField(\"nv_1000\", StringType, true)       \n",
    "    )\n",
    ")"
   ]
  },
  {
   "cell_type": "code",
   "execution_count": 3,
   "id": "9f1321c1",
   "metadata": {},
   "outputs": [
    {
     "data": {
      "text/html": [
       "<script>\n",
       "var comm = Jupyter.notebook.kernel.comm_manager.new_comm('cancel-stage-bff20f24-663f-45e1-8ad2-3ebbfe84051f', {});\n",
       "\n",
       "function cancelStage(stageId) {\n",
       "  console.log('Cancelling stage ' + stageId);\n",
       "  comm.send({ 'stageId': stageId });\n",
       "}\n",
       "</script>\n",
       "          "
      ]
     },
     "metadata": {},
     "output_type": "display_data"
    },
    {
     "data": {
      "text/html": [
       "<div>\n",
       "  <span style=\"float: left;\">json at cmd2.sc:1</span>\n",
       "</div>\n"
      ]
     },
     "metadata": {},
     "output_type": "display_data"
    },
    {
     "data": {
      "text/html": [
       "<div class=\"progress\">\n",
       "  <div class=\"progress-bar\" role=\"progressbar\" style=\"background-color: blue; width: 100%; word-wrap: normal; white-space: nowrap; text-align: center; color: white\" aria-valuenow=\"100\" aria-valuemin=\"0\" aria-valuemax=\"100\">\n",
       "    3328 / 3328\n",
       "  </div>\n",
       "  <div class=\"progress-bar\" role=\"progressbar\" style=\"background-color: red; width: 0%\" aria-valuenow=\"0\" aria-valuemin=\"0\" aria-valuemax=\"100\"></div>\n",
       "</div>\n"
      ]
     },
     "metadata": {},
     "output_type": "display_data"
    },
    {
     "data": {
      "text/plain": [
       "\u001b[36mallData2\u001b[39m: \u001b[32mDataFrame\u001b[39m = [fecha: string, indicativo: string ... 47 more fields]"
      ]
     },
     "execution_count": 3,
     "metadata": {},
     "output_type": "execute_result"
    }
   ],
   "source": [
    "val allData2 = spark.read.schema(schema).json(\"D:/TFGAlvaroSanchez/dataMonthJSONLine/*.json\")"
   ]
  },
  {
   "cell_type": "code",
   "execution_count": 6,
   "id": "57394ffd",
   "metadata": {},
   "outputs": [
    {
     "data": {
      "text/plain": [
       "\u001b[36mp\u001b[39m: \u001b[32mDataFrame\u001b[39m = [fecha: date, indicativo: string ... 24 more fields]"
      ]
     },
     "execution_count": 6,
     "metadata": {},
     "output_type": "execute_result"
    }
   ],
   "source": [
    "val p = allData2.select(\n",
    "            $\"fecha\".cast(DateType), \n",
    "            $\"indicativo\", \n",
    "            $\"p_max\",\n",
    "            $\"glo\".cast(DoubleType), \n",
    "            $\"hr\".cast(DoubleType), \n",
    "            $\"nw_55\".cast(IntegerType), \n",
    "            $\"tm_min\".cast(DoubleType), \n",
    "            $\"ta_max\", \n",
    "            $\"ts_min\".cast(DoubleType), \n",
    "            $\"nt_30\".cast(IntegerType), \n",
    "            $\"n_des\".cast(IntegerType), \n",
    "            $\"w_racha\", \n",
    "            $\"np_100\".cast(IntegerType), \n",
    "            $\"nw_91\".cast(IntegerType), \n",
    "            $\"np_001\".cast(IntegerType), \n",
    "            $\"ta_min\", \n",
    "            $\"w_rec\".cast(IntegerType), \n",
    "            $\"e\".cast(DoubleType), \n",
    "            $\"np_300\".cast(IntegerType), \n",
    "            $\"p_mes\".cast(DoubleType), \n",
    "            $\"w_med\".cast(DoubleType), \n",
    "            $\"nt_00\".cast(IntegerType), \n",
    "            $\"ti_max\".cast(DoubleType), \n",
    "            $\"tm_mes\".cast(DoubleType), \n",
    "            $\"tm_max\".cast(DoubleType), \n",
    "            $\"np_010\".cast(IntegerType))"
   ]
  },
  {
   "cell_type": "code",
   "execution_count": 7,
   "id": "582b6b4f",
   "metadata": {},
   "outputs": [
    {
     "data": {
      "text/html": [
       "<div>\n",
       "  <span style=\"float: left;\">show at cmd6.sc:1</span>\n",
       "</div>\n"
      ]
     },
     "metadata": {},
     "output_type": "display_data"
    },
    {
     "data": {
      "text/html": [
       "<div class=\"progress\">\n",
       "  <div class=\"progress-bar\" role=\"progressbar\" style=\"background-color: blue; width: 100%; word-wrap: normal; white-space: nowrap; text-align: center; color: white\" aria-valuenow=\"100\" aria-valuemin=\"0\" aria-valuemax=\"100\">\n",
       "    1 / 1\n",
       "  </div>\n",
       "  <div class=\"progress-bar\" role=\"progressbar\" style=\"background-color: red; width: 0%\" aria-valuenow=\"0\" aria-valuemin=\"0\" aria-valuemax=\"100\"></div>\n",
       "</div>\n"
      ]
     },
     "metadata": {},
     "output_type": "display_data"
    },
    {
     "name": "stdout",
     "output_type": "stream",
     "text": [
      "+----------+----------+------------+--------+----+-----+------+------------+------+-----+-----+---------------+------+-----+------+-----------+-----+-----+------+------+-----+-----+------+------+------+------+\n",
      "|     fecha|indicativo|       p_max|     glo|  hr|nw_55|tm_min|      ta_max|ts_min|nt_30|n_des|        w_racha|np_100|nw_91|np_001|     ta_min|w_rec|    e|np_300| p_mes|w_med|nt_00|ti_max|tm_mes|tm_max|np_010|\n",
      "+----------+----------+------------+--------+----+-----+------+------------+------+-----+-----+---------------+------+-----+------+-----------+-----+-----+------+------+-----+-----+------+------+------+------+\n",
      "|2020-01-01|     1024E|    14.6(18)| 17285.0|74.0|   13|   7.0|    19.6(31)|  12.7|    0|    2|    16/27.5(14)|     1|    1|    15|    0.0(20)|  387| 89.0|     0|  52.9| 16.0|    1|   4.5|   9.8|  12.5|    11|\n",
      "|2020-02-01|     1024E|    26.2(25)| 23881.0|75.0|   10|   8.8|    24.3(03)|  16.0|    0|    4|    18/27.5(16)|     4|    1|    12|    4.2(06)|  390|102.0|     0|  91.6| 17.0|    0|   9.3|  12.2|  15.5|     9|\n",
      "|2020-03-01|     1024E|    62.0(15)| 33761.0|80.0|   14|   7.4|    21.0(19)|  13.4|    0|    2|    30/32.2(03)|     7|    4|    17|    1.5(30)|  393|101.0|     1| 196.7| 18.0|    0|   6.0|  10.5|  13.6|    14|\n",
      "|2020-04-01|     1024E|    44.3(21)| 41703.0|76.0|    9|  11.5|    23.7(09)|  15.6|    0|    2|    17/27.5(15)|     1|    3|    18|    6.4(04)|  374|124.0|     1|  97.7| 16.0|    0|  11.0|  14.7|  17.8|    13|\n",
      "|2020-05-01|     1024E|    45.7(10)| 60848.0|80.0|    4|  13.5|    30.3(04)|  18.5|    1|    6|    29/24.4(04)|     5|    0|    11|    9.4(12)|  297|155.0|     1| 134.1| 13.0|    0|  12.1|  16.9|  20.2|    10|\n",
      "|2020-06-01|     1024E|    26.1(04)| 55348.0|85.0|    4|  13.8|    26.8(23)|  17.8|    0|    3|    31/18.3(11)|     5|    0|    19|    9.0(11)|  279|165.0|     0| 123.2| 13.0|    0|  15.6|  16.9|  20.0|    15|\n",
      "|2020-07-01|     1024E|    12.5(02)| 64225.0|82.0|    1|  16.7|    39.0(30)|  19.5|    1|    4|    18/28.6(30)|     2|    1|    14|   13.2(04)|  261|191.0|     0|  70.5| 12.0|    0|  16.8|  19.7|  22.6|    10|\n",
      "|2020-08-01|     1024E|    34.0(28)| 51516.0|81.0|    6|  17.2|    35.3(19)|  22.0|    4|    3|    27/20.0(20)|     5|    0|    17|   12.2(29)|  265|195.0|     2| 130.5| 12.0|    0|  18.4|  20.8|  24.3|    10|\n",
      "|2020-09-01|     1024E|    44.9(24)| 44533.0|77.0|    6|  14.9|    34.1(14)|  20.0|    3|    8|    32/27.2(25)|     4|    2|    13|    8.5(25)|  328|168.0|     2| 140.1| 14.0|    0|  15.5|  18.8|  22.6|    10|\n",
      "|2020-10-01|     1024E|    45.6(25)| 22439.0|76.0|   14|  11.3|    24.1(31)|  17.0|    0|    0|    17/35.0(21)|    10|    2|    21|    5.9(17)|  460|123.0|     1| 261.5| 18.0|    0|  10.6|  14.3|  17.2|    16|\n",
      "|2020-11-01|     1024E|    19.5(09)| 19277.0|69.0|   14|  10.7|    24.8(01)|  18.5|    0|    3|    16/26.7(06)|     5|    1|     9|    5.5(21)|  439|110.0|     0|  86.6| 18.0|    0|  10.0|  13.8|  16.9|     7|\n",
      "|2020-12-01|     1024E|    39.9(05)|  9568.0|76.0|   26|   6.7|    19.4(22)|  11.5|    0|    0|    18/27.5(16)|    14|    2|    24|    2.5(26)|  560| 91.0|     6| 394.8| 23.0|    0|   6.5|   9.2|  11.7|    22|\n",
      "|      null|     1024E|62.0(15/mar)|444384.0|78.0|  121|  11.6|39.0(30/jul)|  22.0|    9|   37|17/35.0(21/oct)|    63|   17|   190|0.0(20/ene)|  369|135.0|    14|1780.2| 16.0|    1|   4.5|  14.8|  17.9|   147|\n",
      "|2011-01-01|     1024E|    22.8(29)| 14188.0|77.0|    8|   5.7|    18.4(06)|  14.5|    0|    2|    17/23.9(06)|     2|    0|    12|   -1.6(24)|  352| 85.0|     0|  57.9| 13.0|    4|   2.0|   8.2|  10.6|     7|\n",
      "|2011-02-01|     1024E|    49.7(22)| 22076.0|76.0|   11|   7.1|    19.2(10)|  11.1|    0|    3|    31/26.9(21)|     4|    3|    15|    4.0(01)|  418| 91.0|     1| 156.3| 15.0|    0|   6.2|  10.0|  12.9|    11|\n",
      "|2011-03-01|     1024E|    69.2(15)| 35384.0|75.0|   11|   7.9|    20.7(26)|  13.2|    0|    5|    16/26.9(12)|     2|    2|    13|    2.2(04)|  422| 96.0|     1| 118.4| 16.0|    0|   7.2|  10.8|  13.7|     9|\n",
      "|2011-04-01|     1024E|    16.9(23)| 49474.0|75.0|    9|  11.8|    30.0(06)|  18.2|    1|    5|    16/23.1(21)|     2|    0|    10|    7.4(13)|  418|125.0|     0|  52.2| 16.0|    0|  11.7|  15.1|  18.4|     7|\n",
      "|2011-05-01|     1024E|    13.5(31)| 60534.0|80.0|    2|  12.8|    29.5(25)|  15.0|    0|    5|    16/31.9(06)|     3|    2|    17|   10.2(16)|  296|147.0|     0|  71.6| 13.0|    0|  15.3|  15.9|  19.0|    11|\n",
      "|2011-06-01|     1024E|    31.0(06)| 58584.0|78.0|    4|  13.9|    37.2(26)|  20.8|    2|    3|    36/21.9(11)|     2|    0|    14|   10.8(08)|  301|152.0|     1|  98.1| 12.0|    0|  14.6|  16.9|  19.9|    11|\n",
      "|2011-07-01|     1024E|    41.9(25)| 58269.0|84.0|    4|  14.7|    25.4(08)|  16.9|    0|    1|    32/20.3(19)|     6|    0|    21|   12.4(08)|  348|167.0|     2| 179.2| 14.0|    0|  17.0|  17.2|  19.7|    17|\n",
      "+----------+----------+------------+--------+----+-----+------+------------+------+-----+-----+---------------+------+-----+------+-----------+-----+-----+------+------+-----+-----+------+------+------+------+\n",
      "only showing top 20 rows\n",
      "\n"
     ]
    }
   ],
   "source": [
    "p.show()"
   ]
  },
  {
   "cell_type": "code",
   "execution_count": null,
   "id": "f6e3f86e",
   "metadata": {},
   "outputs": [],
   "source": []
  }
 ],
 "metadata": {
  "kernelspec": {
   "display_name": "Scala",
   "language": "scala",
   "name": "scala"
  },
  "language_info": {
   "codemirror_mode": "text/x-scala",
   "file_extension": ".scala",
   "mimetype": "text/x-scala",
   "name": "scala",
   "nbconvert_exporter": "script",
   "version": "2.12.8"
  }
 },
 "nbformat": 4,
 "nbformat_minor": 5
}
