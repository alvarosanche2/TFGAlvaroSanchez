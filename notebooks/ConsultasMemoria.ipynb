{
 "cells": [
  {
   "cell_type": "code",
   "execution_count": 1,
   "id": "5be1eabf",
   "metadata": {},
   "outputs": [
    {
     "name": "stdout",
     "output_type": "stream",
     "text": [
      "Loading spark-stubs\n"
     ]
    },
    {
     "name": "stderr",
     "output_type": "stream",
     "text": [
      "log4j:WARN No appenders could be found for logger (org.eclipse.jetty.util.log).\n",
      "log4j:WARN Please initialize the log4j system properly.\n",
      "log4j:WARN See http://logging.apache.org/log4j/1.2/faq.html#noconfig for more info.\n"
     ]
    },
    {
     "name": "stdout",
     "output_type": "stream",
     "text": [
      "Creating SparkSession\n"
     ]
    },
    {
     "name": "stderr",
     "output_type": "stream",
     "text": [
      "Using Spark's default log4j profile: org/apache/spark/log4j-defaults.properties\n",
      "23/01/20 00:23:53 INFO SparkContext: Running Spark version 2.4.5\n",
      "23/01/20 00:23:53 INFO SparkContext: Submitted application: d2e97bd0-6e86-46c7-8d15-eea7b5e80527\n",
      "23/01/20 00:23:53 INFO SecurityManager: Changing view acls to: Alvaro\n",
      "23/01/20 00:23:53 INFO SecurityManager: Changing modify acls to: Alvaro\n",
      "23/01/20 00:23:53 INFO SecurityManager: Changing view acls groups to: \n",
      "23/01/20 00:23:53 INFO SecurityManager: Changing modify acls groups to: \n",
      "23/01/20 00:23:53 INFO SecurityManager: SecurityManager: authentication disabled; ui acls disabled; users  with view permissions: Set(Alvaro); groups with view permissions: Set(); users  with modify permissions: Set(Alvaro); groups with modify permissions: Set()\n",
      "23/01/20 00:23:54 INFO Utils: Successfully started service 'sparkDriver' on port 65255.\n",
      "23/01/20 00:23:54 INFO SparkEnv: Registering MapOutputTracker\n",
      "23/01/20 00:23:54 INFO SparkEnv: Registering BlockManagerMaster\n",
      "23/01/20 00:23:54 INFO BlockManagerMasterEndpoint: Using org.apache.spark.storage.DefaultTopologyMapper for getting topology information\n",
      "23/01/20 00:23:54 INFO BlockManagerMasterEndpoint: BlockManagerMasterEndpoint up\n",
      "23/01/20 00:23:54 INFO DiskBlockManager: Created local directory at C:\\Users\\alvar\\AppData\\Local\\Temp\\blockmgr-5513c98b-ce8b-4b5d-8a3f-6ca5a9efe544\n",
      "23/01/20 00:23:54 INFO MemoryStore: MemoryStore started with capacity 434.4 MB\n",
      "23/01/20 00:23:55 INFO SparkEnv: Registering OutputCommitCoordinator\n",
      "23/01/20 00:23:55 INFO Utils: Successfully started service 'SparkUI' on port 4040.\n",
      "23/01/20 00:23:55 INFO SparkUI: Bound SparkUI to 0.0.0.0, and started at http://LAPTOP-30N4Q54J:4040\n",
      "23/01/20 00:23:55 INFO SparkContext: Added JAR file:/C:/Users/alvar/AppData/Local/Coursier/cache/v1/https/jitpack.io/com/github/jupyter/jvm-repr/0.4.0/jvm-repr-0.4.0.jar at spark://LAPTOP-30N4Q54J:65255/jars/jvm-repr-0.4.0.jar with timestamp 1674170635280\n",
      "23/01/20 00:23:55 INFO SparkContext: Added JAR file:/C:/Users/alvar/AppData/Local/Coursier/cache/v1/https/repo1.maven.org/maven2/com/github/javaparser/javaparser-core/3.2.5/javaparser-core-3.2.5.jar at spark://LAPTOP-30N4Q54J:65255/jars/javaparser-core-3.2.5.jar with timestamp 1674170635281\n",
      "23/01/20 00:23:55 INFO SparkContext: Added JAR file:/C:/Users/alvar/AppData/Local/Coursier/cache/v1/https/repo1.maven.org/maven2/com/github/scopt/scopt_2.12/3.5.0/scopt_2.12-3.5.0.jar at spark://LAPTOP-30N4Q54J:65255/jars/scopt_2.12-3.5.0.jar with timestamp 1674170635283\n",
      "23/01/20 00:23:55 INFO SparkContext: Added JAR file:/C:/Users/alvar/AppData/Local/Coursier/cache/v1/https/repo1.maven.org/maven2/com/lihaoyi/acyclic_2.12/0.1.5/acyclic_2.12-0.1.5.jar at spark://LAPTOP-30N4Q54J:65255/jars/acyclic_2.12-0.1.5.jar with timestamp 1674170635284\n",
      "23/01/20 00:23:55 INFO SparkContext: Added JAR file:/C:/Users/alvar/AppData/Local/Coursier/cache/v1/https/repo1.maven.org/maven2/com/lihaoyi/ammonite-interp_2.12.8/1.6.5/ammonite-interp_2.12.8-1.6.5.jar at spark://LAPTOP-30N4Q54J:65255/jars/ammonite-interp_2.12.8-1.6.5.jar with timestamp 1674170635285\n",
      "23/01/20 00:23:55 INFO SparkContext: Added JAR file:/C:/Users/alvar/AppData/Local/Coursier/cache/v1/https/repo1.maven.org/maven2/com/lihaoyi/ammonite-ops_2.12/1.6.5/ammonite-ops_2.12-1.6.5.jar at spark://LAPTOP-30N4Q54J:65255/jars/ammonite-ops_2.12-1.6.5.jar with timestamp 1674170635286\n",
      "23/01/20 00:23:55 INFO SparkContext: Added JAR file:/C:/Users/alvar/AppData/Local/Coursier/cache/v1/https/repo1.maven.org/maven2/com/lihaoyi/ammonite-repl_2.12.8/1.6.5/ammonite-repl_2.12.8-1.6.5.jar at spark://LAPTOP-30N4Q54J:65255/jars/ammonite-repl_2.12.8-1.6.5.jar with timestamp 1674170635287\n",
      "23/01/20 00:23:55 INFO SparkContext: Added JAR file:/C:/Users/alvar/AppData/Local/Coursier/cache/v1/https/repo1.maven.org/maven2/com/lihaoyi/ammonite-runtime_2.12/1.6.5/ammonite-runtime_2.12-1.6.5.jar at spark://LAPTOP-30N4Q54J:65255/jars/ammonite-runtime_2.12-1.6.5.jar with timestamp 1674170635288\n",
      "23/01/20 00:23:55 INFO SparkContext: Added JAR file:/C:/Users/alvar/AppData/Local/Coursier/cache/v1/https/repo1.maven.org/maven2/com/lihaoyi/ammonite-terminal_2.12/1.6.5/ammonite-terminal_2.12-1.6.5.jar at spark://LAPTOP-30N4Q54J:65255/jars/ammonite-terminal_2.12-1.6.5.jar with timestamp 1674170635289\n",
      "23/01/20 00:23:55 INFO SparkContext: Added JAR file:/C:/Users/alvar/AppData/Local/Coursier/cache/v1/https/repo1.maven.org/maven2/com/lihaoyi/ammonite-util_2.12/1.6.5/ammonite-util_2.12-1.6.5.jar at spark://LAPTOP-30N4Q54J:65255/jars/ammonite-util_2.12-1.6.5.jar with timestamp 1674170635290\n",
      "23/01/20 00:23:55 INFO SparkContext: Added JAR file:/C:/Users/alvar/AppData/Local/Coursier/cache/v1/https/repo1.maven.org/maven2/com/lihaoyi/fansi_2.12/0.2.4/fansi_2.12-0.2.4.jar at spark://LAPTOP-30N4Q54J:65255/jars/fansi_2.12-0.2.4.jar with timestamp 1674170635290\n",
      "23/01/20 00:23:55 INFO SparkContext: Added JAR file:/C:/Users/alvar/AppData/Local/Coursier/cache/v1/https/repo1.maven.org/maven2/com/lihaoyi/fastparse_2.12/2.1.0/fastparse_2.12-2.1.0.jar at spark://LAPTOP-30N4Q54J:65255/jars/fastparse_2.12-2.1.0.jar with timestamp 1674170635291\n",
      "23/01/20 00:23:55 INFO SparkContext: Added JAR file:/C:/Users/alvar/AppData/Local/Coursier/cache/v1/https/repo1.maven.org/maven2/com/lihaoyi/geny_2.12/0.1.5/geny_2.12-0.1.5.jar at spark://LAPTOP-30N4Q54J:65255/jars/geny_2.12-0.1.5.jar with timestamp 1674170635292\n",
      "23/01/20 00:23:55 INFO SparkContext: Added JAR file:/C:/Users/alvar/AppData/Local/Coursier/cache/v1/https/repo1.maven.org/maven2/com/lihaoyi/os-lib_2.12/0.2.6/os-lib_2.12-0.2.6.jar at spark://LAPTOP-30N4Q54J:65255/jars/os-lib_2.12-0.2.6.jar with timestamp 1674170635293\n",
      "23/01/20 00:23:55 INFO SparkContext: Added JAR file:/C:/Users/alvar/AppData/Local/Coursier/cache/v1/https/repo1.maven.org/maven2/com/lihaoyi/pprint_2.12/0.5.2/pprint_2.12-0.5.2.jar at spark://LAPTOP-30N4Q54J:65255/jars/pprint_2.12-0.5.2.jar with timestamp 1674170635294\n",
      "23/01/20 00:23:55 INFO SparkContext: Added JAR file:/C:/Users/alvar/AppData/Local/Coursier/cache/v1/https/repo1.maven.org/maven2/com/lihaoyi/requests_2.12/0.1.7/requests_2.12-0.1.7.jar at spark://LAPTOP-30N4Q54J:65255/jars/requests_2.12-0.1.7.jar with timestamp 1674170635295\n",
      "23/01/20 00:23:55 INFO SparkContext: Added JAR file:/C:/Users/alvar/AppData/Local/Coursier/cache/v1/https/repo1.maven.org/maven2/com/lihaoyi/scalaparse_2.12/2.1.0/scalaparse_2.12-2.1.0.jar at spark://LAPTOP-30N4Q54J:65255/jars/scalaparse_2.12-2.1.0.jar with timestamp 1674170635296\n",
      "23/01/20 00:23:55 INFO SparkContext: Added JAR file:/C:/Users/alvar/AppData/Local/Coursier/cache/v1/https/repo1.maven.org/maven2/com/lihaoyi/sourcecode_2.12/0.1.5/sourcecode_2.12-0.1.5.jar at spark://LAPTOP-30N4Q54J:65255/jars/sourcecode_2.12-0.1.5.jar with timestamp 1674170635297\n",
      "23/01/20 00:23:55 INFO SparkContext: Added JAR file:/C:/Users/alvar/AppData/Local/Coursier/cache/v1/https/repo1.maven.org/maven2/com/lihaoyi/ujson_2.12/0.7.1/ujson_2.12-0.7.1.jar at spark://LAPTOP-30N4Q54J:65255/jars/ujson_2.12-0.7.1.jar with timestamp 1674170635298\n",
      "23/01/20 00:23:55 INFO SparkContext: Added JAR file:/C:/Users/alvar/AppData/Local/Coursier/cache/v1/https/repo1.maven.org/maven2/com/lihaoyi/upack_2.12/0.7.1/upack_2.12-0.7.1.jar at spark://LAPTOP-30N4Q54J:65255/jars/upack_2.12-0.7.1.jar with timestamp 1674170635299\n",
      "23/01/20 00:23:55 INFO SparkContext: Added JAR file:/C:/Users/alvar/AppData/Local/Coursier/cache/v1/https/repo1.maven.org/maven2/com/lihaoyi/upickle-core_2.12/0.7.1/upickle-core_2.12-0.7.1.jar at spark://LAPTOP-30N4Q54J:65255/jars/upickle-core_2.12-0.7.1.jar with timestamp 1674170635299\n",
      "23/01/20 00:23:55 INFO SparkContext: Added JAR file:/C:/Users/alvar/AppData/Local/Coursier/cache/v1/https/repo1.maven.org/maven2/com/lihaoyi/upickle-implicits_2.12/0.7.1/upickle-implicits_2.12-0.7.1.jar at spark://LAPTOP-30N4Q54J:65255/jars/upickle-implicits_2.12-0.7.1.jar with timestamp 1674170635300\n",
      "23/01/20 00:23:55 INFO SparkContext: Added JAR file:/C:/Users/alvar/AppData/Local/Coursier/cache/v1/https/repo1.maven.org/maven2/com/lihaoyi/upickle_2.12/0.7.1/upickle_2.12-0.7.1.jar at spark://LAPTOP-30N4Q54J:65255/jars/upickle_2.12-0.7.1.jar with timestamp 1674170635301\n",
      "23/01/20 00:23:55 INFO SparkContext: Added JAR file:/C:/Users/alvar/AppData/Local/Coursier/cache/v1/https/repo1.maven.org/maven2/com/lihaoyi/utest_2.12/0.6.4/utest_2.12-0.6.4.jar at spark://LAPTOP-30N4Q54J:65255/jars/utest_2.12-0.6.4.jar with timestamp 1674170635302\n"
     ]
    },
    {
     "name": "stderr",
     "output_type": "stream",
     "text": [
      "23/01/20 00:23:55 INFO SparkContext: Added JAR file:/C:/Users/alvar/AppData/Local/Coursier/cache/v1/https/repo1.maven.org/maven2/io/get-coursier/coursier-cache_2.12/1.1.0-M13-1/coursier-cache_2.12-1.1.0-M13-1.jar at spark://LAPTOP-30N4Q54J:65255/jars/coursier-cache_2.12-1.1.0-M13-1.jar with timestamp 1674170635303\n",
      "23/01/20 00:23:55 INFO SparkContext: Added JAR file:/C:/Users/alvar/AppData/Local/Coursier/cache/v1/https/repo1.maven.org/maven2/io/get-coursier/coursier-core_2.12/1.1.0-M13-1/coursier-core_2.12-1.1.0-M13-1.jar at spark://LAPTOP-30N4Q54J:65255/jars/coursier-core_2.12-1.1.0-M13-1.jar with timestamp 1674170635303\n",
      "23/01/20 00:23:55 INFO SparkContext: Added JAR file:/C:/Users/alvar/AppData/Local/Coursier/cache/v1/https/repo1.maven.org/maven2/io/get-coursier/coursier_2.12/1.1.0-M13-1/coursier_2.12-1.1.0-M13-1.jar at spark://LAPTOP-30N4Q54J:65255/jars/coursier_2.12-1.1.0-M13-1.jar with timestamp 1674170635304\n",
      "23/01/20 00:23:55 INFO SparkContext: Added JAR file:/C:/Users/alvar/AppData/Local/Coursier/cache/v1/https/repo1.maven.org/maven2/net/java/dev/jna/jna/4.2.2/jna-4.2.2.jar at spark://LAPTOP-30N4Q54J:65255/jars/jna-4.2.2.jar with timestamp 1674170635304\n",
      "23/01/20 00:23:55 INFO SparkContext: Added JAR file:/C:/Users/alvar/AppData/Local/Coursier/cache/v1/https/repo1.maven.org/maven2/org/javassist/javassist/3.21.0-GA/javassist-3.21.0-GA.jar at spark://LAPTOP-30N4Q54J:65255/jars/javassist-3.21.0-GA.jar with timestamp 1674170635305\n",
      "23/01/20 00:23:55 INFO SparkContext: Added JAR file:/C:/Users/alvar/AppData/Local/Coursier/cache/v1/https/repo1.maven.org/maven2/org/jline/jline-reader/3.6.2/jline-reader-3.6.2.jar at spark://LAPTOP-30N4Q54J:65255/jars/jline-reader-3.6.2.jar with timestamp 1674170635306\n",
      "23/01/20 00:23:55 INFO SparkContext: Added JAR file:/C:/Users/alvar/AppData/Local/Coursier/cache/v1/https/repo1.maven.org/maven2/org/jline/jline-terminal-jna/3.6.2/jline-terminal-jna-3.6.2.jar at spark://LAPTOP-30N4Q54J:65255/jars/jline-terminal-jna-3.6.2.jar with timestamp 1674170635307\n",
      "23/01/20 00:23:55 INFO SparkContext: Added JAR file:/C:/Users/alvar/AppData/Local/Coursier/cache/v1/https/repo1.maven.org/maven2/org/jline/jline-terminal/3.6.2/jline-terminal-3.6.2.jar at spark://LAPTOP-30N4Q54J:65255/jars/jline-terminal-3.6.2.jar with timestamp 1674170635308\n",
      "23/01/20 00:23:55 INFO SparkContext: Added JAR file:/C:/Users/alvar/AppData/Local/Coursier/cache/v1/https/repo1.maven.org/maven2/org/scala-lang/modules/scala-xml_2.12/1.1.1/scala-xml_2.12-1.1.1.jar at spark://LAPTOP-30N4Q54J:65255/jars/scala-xml_2.12-1.1.1.jar with timestamp 1674170635310\n",
      "23/01/20 00:23:55 INFO SparkContext: Added JAR file:/C:/Users/alvar/AppData/Local/Coursier/cache/v1/https/repo1.maven.org/maven2/org/scala-sbt/test-interface/1.0/test-interface-1.0.jar at spark://LAPTOP-30N4Q54J:65255/jars/test-interface-1.0.jar with timestamp 1674170635310\n",
      "23/01/20 00:23:55 INFO SparkContext: Added JAR file:/C:/Users/alvar/AppData/Local/Coursier/cache/v1/https/repo1.maven.org/maven2/sh/almond/interpreter-api_2.12/0.4.0/interpreter-api_2.12-0.4.0.jar at spark://LAPTOP-30N4Q54J:65255/jars/interpreter-api_2.12-0.4.0.jar with timestamp 1674170635311\n",
      "23/01/20 00:23:55 INFO SparkContext: Added JAR file:/C:/Users/alvar/AppData/Local/Coursier/cache/v1/https/repo1.maven.org/maven2/sh/almond/jupyter-api_2.12/0.4.0/jupyter-api_2.12-0.4.0.jar at spark://LAPTOP-30N4Q54J:65255/jars/jupyter-api_2.12-0.4.0.jar with timestamp 1674170635312\n",
      "23/01/20 00:23:55 INFO SparkContext: Added JAR file:/C:/Users/alvar/AppData/Local/Coursier/cache/v1/https/repo1.maven.org/maven2/sh/almond/scala-kernel-api_2.12.8/0.4.0/scala-kernel-api_2.12.8-0.4.0.jar at spark://LAPTOP-30N4Q54J:65255/jars/scala-kernel-api_2.12.8-0.4.0.jar with timestamp 1674170635313\n",
      "23/01/20 00:23:55 INFO SparkContext: Added JAR file:/C:/Users/alvar/AppData/Local/Coursier/cache/v1/https/repo1.maven.org/maven2/org/json4s/json4s-core_2.12/3.5.3/json4s-core_2.12-3.5.3.jar at spark://LAPTOP-30N4Q54J:65255/jars/json4s-core_2.12-3.5.3.jar with timestamp 1674170635314\n",
      "23/01/20 00:23:55 INFO SparkContext: Added JAR file:/C:/Users/alvar/AppData/Local/Coursier/cache/v1/https/repo1.maven.org/maven2/xml-apis/xml-apis/1.3.04/xml-apis-1.3.04.jar at spark://LAPTOP-30N4Q54J:65255/jars/xml-apis-1.3.04.jar with timestamp 1674170635316\n",
      "23/01/20 00:23:55 INFO SparkContext: Added JAR file:/C:/Users/alvar/AppData/Local/Coursier/cache/v1/https/repo1.maven.org/maven2/javax/servlet/javax.servlet-api/3.1.0/javax.servlet-api-3.1.0.jar at spark://LAPTOP-30N4Q54J:65255/jars/javax.servlet-api-3.1.0.jar with timestamp 1674170635317\n",
      "23/01/20 00:23:55 INFO SparkContext: Added JAR file:/C:/Users/alvar/AppData/Local/Coursier/cache/v1/https/repo1.maven.org/maven2/io/dropwizard/metrics/metrics-core/3.1.5/metrics-core-3.1.5.jar at spark://LAPTOP-30N4Q54J:65255/jars/metrics-core-3.1.5.jar with timestamp 1674170635318\n",
      "23/01/20 00:23:55 INFO SparkContext: Added JAR file:/C:/Users/alvar/AppData/Local/Coursier/cache/v1/https/repo1.maven.org/maven2/com/google/inject/guice/3.0/guice-3.0.jar at spark://LAPTOP-30N4Q54J:65255/jars/guice-3.0.jar with timestamp 1674170635319\n",
      "23/01/20 00:23:55 INFO SparkContext: Added JAR file:/C:/Users/alvar/AppData/Local/Coursier/cache/v1/https/repo1.maven.org/maven2/org/slf4j/slf4j-log4j12/1.7.16/slf4j-log4j12-1.7.16.jar at spark://LAPTOP-30N4Q54J:65255/jars/slf4j-log4j12-1.7.16.jar with timestamp 1674170635320\n",
      "23/01/20 00:23:55 INFO SparkContext: Added JAR file:/C:/Users/alvar/AppData/Local/Coursier/cache/v1/https/repo1.maven.org/maven2/org/apache/commons/commons-crypto/1.0.0/commons-crypto-1.0.0.jar at spark://LAPTOP-30N4Q54J:65255/jars/commons-crypto-1.0.0.jar with timestamp 1674170635321\n",
      "23/01/20 00:23:55 INFO SparkContext: Added JAR file:/C:/Users/alvar/AppData/Local/Coursier/cache/v1/https/repo1.maven.org/maven2/org/apache/xbean/xbean-asm6-shaded/4.8/xbean-asm6-shaded-4.8.jar at spark://LAPTOP-30N4Q54J:65255/jars/xbean-asm6-shaded-4.8.jar with timestamp 1674170635323\n",
      "23/01/20 00:23:55 INFO SparkContext: Added JAR file:/C:/Users/alvar/AppData/Local/Coursier/cache/v1/https/repo1.maven.org/maven2/xerces/xercesImpl/2.9.1/xercesImpl-2.9.1.jar at spark://LAPTOP-30N4Q54J:65255/jars/xercesImpl-2.9.1.jar with timestamp 1674170635324\n",
      "23/01/20 00:23:55 INFO SparkContext: Added JAR file:/C:/Users/alvar/AppData/Local/Coursier/cache/v1/https/repo1.maven.org/maven2/com/github/luben/zstd-jni/1.3.2-2/zstd-jni-1.3.2-2.jar at spark://LAPTOP-30N4Q54J:65255/jars/zstd-jni-1.3.2-2.jar with timestamp 1674170635325\n",
      "23/01/20 00:23:55 INFO SparkContext: Added JAR file:/C:/Users/alvar/AppData/Local/Coursier/cache/v1/https/repo1.maven.org/maven2/org/codehaus/jettison/jettison/1.1/jettison-1.1.jar at spark://LAPTOP-30N4Q54J:65255/jars/jettison-1.1.jar with timestamp 1674170635326\n",
      "23/01/20 00:23:55 INFO SparkContext: Added JAR file:/C:/Users/alvar/AppData/Local/Coursier/cache/v1/https/repo1.maven.org/maven2/org/apache/spark/spark-unsafe_2.12/2.4.5/spark-unsafe_2.12-2.4.5.jar at spark://LAPTOP-30N4Q54J:65255/jars/spark-unsafe_2.12-2.4.5.jar with timestamp 1674170635327\n",
      "23/01/20 00:23:55 INFO SparkContext: Added JAR file:/C:/Users/alvar/AppData/Local/Coursier/cache/v1/https/repo1.maven.org/maven2/org/apache/hadoop/hadoop-yarn-server-nodemanager/2.6.5/hadoop-yarn-server-nodemanager-2.6.5.jar at spark://LAPTOP-30N4Q54J:65255/jars/hadoop-yarn-server-nodemanager-2.6.5.jar with timestamp 1674170635328\n",
      "23/01/20 00:23:55 INFO SparkContext: Added JAR file:/C:/Users/alvar/AppData/Local/Coursier/cache/v1/https/repo1.maven.org/maven2/org/apache/parquet/parquet-hadoop/1.10.1/parquet-hadoop-1.10.1.jar at spark://LAPTOP-30N4Q54J:65255/jars/parquet-hadoop-1.10.1.jar with timestamp 1674170635328\n",
      "23/01/20 00:23:55 INFO SparkContext: Added JAR file:/C:/Users/alvar/AppData/Local/Coursier/cache/v1/https/repo1.maven.org/maven2/joda-time/joda-time/2.9.9/joda-time-2.9.9.jar at spark://LAPTOP-30N4Q54J:65255/jars/joda-time-2.9.9.jar with timestamp 1674170635329\n",
      "23/01/20 00:23:55 INFO SparkContext: Added JAR file:/C:/Users/alvar/AppData/Local/Coursier/cache/v1/https/repo1.maven.org/maven2/commons-io/commons-io/2.4/commons-io-2.4.jar at spark://LAPTOP-30N4Q54J:65255/jars/commons-io-2.4.jar with timestamp 1674170635330\n"
     ]
    },
    {
     "name": "stderr",
     "output_type": "stream",
     "text": [
      "23/01/20 00:23:55 INFO SparkContext: Added JAR file:/C:/Users/alvar/AppData/Local/Coursier/cache/v1/https/repo1.maven.org/maven2/commons-configuration/commons-configuration/1.6/commons-configuration-1.6.jar at spark://LAPTOP-30N4Q54J:65255/jars/commons-configuration-1.6.jar with timestamp 1674170635331\n",
      "23/01/20 00:23:55 INFO SparkContext: Added JAR file:/C:/Users/alvar/AppData/Local/Coursier/cache/v1/https/repo1.maven.org/maven2/org/antlr/antlr4-runtime/4.7/antlr4-runtime-4.7.jar at spark://LAPTOP-30N4Q54J:65255/jars/antlr4-runtime-4.7.jar with timestamp 1674170635332\n",
      "23/01/20 00:23:55 INFO SparkContext: Added JAR file:/C:/Users/alvar/AppData/Local/Coursier/cache/v1/https/repo1.maven.org/maven2/org/glassfish/jersey/core/jersey-common/2.22.2/jersey-common-2.22.2.jar at spark://LAPTOP-30N4Q54J:65255/jars/jersey-common-2.22.2.jar with timestamp 1674170635332\n",
      "23/01/20 00:23:55 INFO SparkContext: Added JAR file:/C:/Users/alvar/AppData/Local/Coursier/cache/v1/https/repo1.maven.org/maven2/io/airlift/aircompressor/0.10/aircompressor-0.10.jar at spark://LAPTOP-30N4Q54J:65255/jars/aircompressor-0.10.jar with timestamp 1674170635334\n",
      "23/01/20 00:23:55 INFO SparkContext: Added JAR file:/C:/Users/alvar/AppData/Local/Coursier/cache/v1/https/repo1.maven.org/maven2/org/apache/commons/commons-compress/1.8.1/commons-compress-1.8.1.jar at spark://LAPTOP-30N4Q54J:65255/jars/commons-compress-1.8.1.jar with timestamp 1674170635335\n",
      "23/01/20 00:23:55 INFO SparkContext: Added JAR file:/C:/Users/alvar/AppData/Local/Coursier/cache/v1/https/repo1.maven.org/maven2/org/slf4j/jcl-over-slf4j/1.7.16/jcl-over-slf4j-1.7.16.jar at spark://LAPTOP-30N4Q54J:65255/jars/jcl-over-slf4j-1.7.16.jar with timestamp 1674170635336\n",
      "23/01/20 00:23:55 INFO SparkContext: Added JAR file:/C:/Users/alvar/AppData/Local/Coursier/cache/v1/https/repo1.maven.org/maven2/org/javassist/javassist/3.18.1-GA/javassist-3.18.1-GA.jar at spark://LAPTOP-30N4Q54J:65255/jars/javassist-3.18.1-GA.jar with timestamp 1674170635336\n",
      "23/01/20 00:23:55 INFO SparkContext: Added JAR file:/C:/Users/alvar/AppData/Local/Coursier/cache/v1/https/repo1.maven.org/maven2/org/glassfish/hk2/external/aopalliance-repackaged/2.4.0-b34/aopalliance-repackaged-2.4.0-b34.jar at spark://LAPTOP-30N4Q54J:65255/jars/aopalliance-repackaged-2.4.0-b34.jar with timestamp 1674170635337\n",
      "23/01/20 00:23:55 INFO SparkContext: Added JAR file:/C:/Users/alvar/AppData/Local/Coursier/cache/v1/https/repo1.maven.org/maven2/org/lz4/lz4-java/1.4.0/lz4-java-1.4.0.jar at spark://LAPTOP-30N4Q54J:65255/jars/lz4-java-1.4.0.jar with timestamp 1674170635338\n",
      "23/01/20 00:23:55 INFO SparkContext: Added JAR file:/C:/Users/alvar/AppData/Local/Coursier/cache/v1/https/repo1.maven.org/maven2/io/netty/netty/3.9.9.Final/netty-3.9.9.Final.jar at spark://LAPTOP-30N4Q54J:65255/jars/netty-3.9.9.Final.jar with timestamp 1674170635340\n",
      "23/01/20 00:23:55 INFO SparkContext: Added JAR file:/C:/Users/alvar/AppData/Local/Coursier/cache/v1/https/repo1.maven.org/maven2/org/apache/spark/spark-network-common_2.12/2.4.5/spark-network-common_2.12-2.4.5.jar at spark://LAPTOP-30N4Q54J:65255/jars/spark-network-common_2.12-2.4.5.jar with timestamp 1674170635340\n",
      "23/01/20 00:23:55 INFO SparkContext: Added JAR file:/C:/Users/alvar/AppData/Local/Coursier/cache/v1/https/repo1.maven.org/maven2/aopalliance/aopalliance/1.0/aopalliance-1.0.jar at spark://LAPTOP-30N4Q54J:65255/jars/aopalliance-1.0.jar with timestamp 1674170635341\n",
      "23/01/20 00:23:55 INFO SparkContext: Added JAR file:/C:/Users/alvar/AppData/Local/Coursier/cache/v1/https/repo1.maven.org/maven2/com/fasterxml/jackson/core/jackson-core/2.7.9/jackson-core-2.7.9.jar at spark://LAPTOP-30N4Q54J:65255/jars/jackson-core-2.7.9.jar with timestamp 1674170635342\n",
      "23/01/20 00:23:55 INFO SparkContext: Added JAR file:/C:/Users/alvar/AppData/Local/Coursier/cache/v1/https/repo1.maven.org/maven2/org/apache/spark/spark-sql_2.12/2.4.5/spark-sql_2.12-2.4.5.jar at spark://LAPTOP-30N4Q54J:65255/jars/spark-sql_2.12-2.4.5.jar with timestamp 1674170635343\n",
      "23/01/20 00:23:55 INFO SparkContext: Added JAR file:/C:/Users/alvar/AppData/Local/Coursier/cache/v1/https/repo1.maven.org/maven2/com/google/code/gson/gson/2.2.4/gson-2.2.4.jar at spark://LAPTOP-30N4Q54J:65255/jars/gson-2.2.4.jar with timestamp 1674170635344\n",
      "23/01/20 00:23:55 INFO SparkContext: Added JAR file:/C:/Users/alvar/AppData/Local/Coursier/cache/v1/https/repo1.maven.org/maven2/org/apache/directory/api/api-util/1.0.0-M20/api-util-1.0.0-M20.jar at spark://LAPTOP-30N4Q54J:65255/jars/api-util-1.0.0-M20.jar with timestamp 1674170635346\n",
      "23/01/20 00:23:55 INFO SparkContext: Added JAR file:/C:/Users/alvar/AppData/Local/Coursier/cache/v1/https/repo1.maven.org/maven2/org/apache/hadoop/hadoop-yarn-client/2.6.5/hadoop-yarn-client-2.6.5.jar at spark://LAPTOP-30N4Q54J:65255/jars/hadoop-yarn-client-2.6.5.jar with timestamp 1674170635347\n",
      "23/01/20 00:23:55 INFO SparkContext: Added JAR file:/C:/Users/alvar/AppData/Local/Coursier/cache/v1/https/repo1.maven.org/maven2/javax/xml/bind/jaxb-api/2.2.2/jaxb-api-2.2.2.jar at spark://LAPTOP-30N4Q54J:65255/jars/jaxb-api-2.2.2.jar with timestamp 1674170635350\n",
      "23/01/20 00:23:55 INFO SparkContext: Added JAR file:/C:/Users/alvar/AppData/Local/Coursier/cache/v1/https/repo1.maven.org/maven2/org/apache/spark/spark-tags_2.12/2.4.5/spark-tags_2.12-2.4.5.jar at spark://LAPTOP-30N4Q54J:65255/jars/spark-tags_2.12-2.4.5.jar with timestamp 1674170635351\n",
      "23/01/20 00:23:55 INFO SparkContext: Added JAR file:/C:/Users/alvar/AppData/Local/Coursier/cache/v1/https/repo1.maven.org/maven2/org/apache/parquet/parquet-jackson/1.10.1/parquet-jackson-1.10.1.jar at spark://LAPTOP-30N4Q54J:65255/jars/parquet-jackson-1.10.1.jar with timestamp 1674170635352\n",
      "23/01/20 00:23:55 INFO SparkContext: Added JAR file:/C:/Users/alvar/AppData/Local/Coursier/cache/v1/https/repo1.maven.org/maven2/org/roaringbitmap/shims/0.7.45/shims-0.7.45.jar at spark://LAPTOP-30N4Q54J:65255/jars/shims-0.7.45.jar with timestamp 1674170635354\n",
      "23/01/20 00:23:55 INFO SparkContext: Added JAR file:/C:/Users/alvar/AppData/Local/Coursier/cache/v1/https/repo1.maven.org/maven2/com/thoughtworks/paranamer/paranamer/2.8/paranamer-2.8.jar at spark://LAPTOP-30N4Q54J:65255/jars/paranamer-2.8.jar with timestamp 1674170635355\n",
      "23/01/20 00:23:55 INFO SparkContext: Added JAR file:/C:/Users/alvar/AppData/Local/Coursier/cache/v1/https/repo1.maven.org/maven2/org/apache/avro/avro/1.8.2/avro-1.8.2.jar at spark://LAPTOP-30N4Q54J:65255/jars/avro-1.8.2.jar with timestamp 1674170635357\n",
      "23/01/20 00:23:55 INFO SparkContext: Added JAR file:/C:/Users/alvar/AppData/Local/Coursier/cache/v1/https/repo1.maven.org/maven2/org/apache/httpcomponents/httpcore/4.2.4/httpcore-4.2.4.jar at spark://LAPTOP-30N4Q54J:65255/jars/httpcore-4.2.4.jar with timestamp 1674170635358\n",
      "23/01/20 00:23:55 INFO SparkContext: Added JAR file:/C:/Users/alvar/AppData/Local/Coursier/cache/v1/https/repo1.maven.org/maven2/com/carrotsearch/hppc/0.7.2/hppc-0.7.2.jar at spark://LAPTOP-30N4Q54J:65255/jars/hppc-0.7.2.jar with timestamp 1674170635359\n",
      "23/01/20 00:23:55 INFO SparkContext: Added JAR file:/C:/Users/alvar/AppData/Local/Coursier/cache/v1/https/repo1.maven.org/maven2/com/fasterxml/jackson/core/jackson-databind/2.6.7.3/jackson-databind-2.6.7.3.jar at spark://LAPTOP-30N4Q54J:65255/jars/jackson-databind-2.6.7.3.jar with timestamp 1674170635360\n",
      "23/01/20 00:23:55 INFO SparkContext: Added JAR file:/C:/Users/alvar/AppData/Local/Coursier/cache/v1/https/repo1.maven.org/maven2/org/apache/spark/spark-kvstore_2.12/2.4.5/spark-kvstore_2.12-2.4.5.jar at spark://LAPTOP-30N4Q54J:65255/jars/spark-kvstore_2.12-2.4.5.jar with timestamp 1674170635361\n",
      "23/01/20 00:23:55 INFO SparkContext: Added JAR file:/C:/Users/alvar/AppData/Local/Coursier/cache/v1/https/repo1.maven.org/maven2/commons-codec/commons-codec/1.10/commons-codec-1.10.jar at spark://LAPTOP-30N4Q54J:65255/jars/commons-codec-1.10.jar with timestamp 1674170635362\n",
      "23/01/20 00:23:55 INFO SparkContext: Added JAR file:/C:/Users/alvar/AppData/Local/Coursier/cache/v1/https/repo1.maven.org/maven2/org/mortbay/jetty/jetty-util/6.1.26/jetty-util-6.1.26.jar at spark://LAPTOP-30N4Q54J:65255/jars/jetty-util-6.1.26.jar with timestamp 1674170635363\n",
      "23/01/20 00:23:55 INFO SparkContext: Added JAR file:/C:/Users/alvar/AppData/Local/Coursier/cache/v1/https/repo1.maven.org/maven2/org/apache/hadoop/hadoop-yarn-common/2.6.5/hadoop-yarn-common-2.6.5.jar at spark://LAPTOP-30N4Q54J:65255/jars/hadoop-yarn-common-2.6.5.jar with timestamp 1674170635364\n"
     ]
    },
    {
     "name": "stderr",
     "output_type": "stream",
     "text": [
      "23/01/20 00:23:55 INFO SparkContext: Added JAR file:/C:/Users/alvar/AppData/Local/Coursier/cache/v1/https/repo1.maven.org/maven2/org/json4s/json4s-scalap_2.12/3.5.3/json4s-scalap_2.12-3.5.3.jar at spark://LAPTOP-30N4Q54J:65255/jars/json4s-scalap_2.12-3.5.3.jar with timestamp 1674170635365\n",
      "23/01/20 00:23:55 INFO SparkContext: Added JAR file:/C:/Users/alvar/AppData/Local/Coursier/cache/v1/https/repo1.maven.org/maven2/commons-beanutils/commons-beanutils/1.7.0/commons-beanutils-1.7.0.jar at spark://LAPTOP-30N4Q54J:65255/jars/commons-beanutils-1.7.0.jar with timestamp 1674170635367\n",
      "23/01/20 00:23:55 INFO SparkContext: Added JAR file:/C:/Users/alvar/AppData/Local/Coursier/cache/v1/https/repo1.maven.org/maven2/org/apache/avro/avro-ipc/1.8.2/avro-ipc-1.8.2.jar at spark://LAPTOP-30N4Q54J:65255/jars/avro-ipc-1.8.2.jar with timestamp 1674170635368\n",
      "23/01/20 00:23:55 INFO SparkContext: Added JAR file:/C:/Users/alvar/AppData/Local/Coursier/cache/v1/https/repo1.maven.org/maven2/org/apache/hadoop/hadoop-auth/2.6.5/hadoop-auth-2.6.5.jar at spark://LAPTOP-30N4Q54J:65255/jars/hadoop-auth-2.6.5.jar with timestamp 1674170635369\n",
      "23/01/20 00:23:55 INFO SparkContext: Added JAR file:/C:/Users/alvar/AppData/Local/Coursier/cache/v1/https/repo1.maven.org/maven2/org/apache/arrow/arrow-vector/0.10.0/arrow-vector-0.10.0.jar at spark://LAPTOP-30N4Q54J:65255/jars/arrow-vector-0.10.0.jar with timestamp 1674170635370\n",
      "23/01/20 00:23:55 INFO SparkContext: Added JAR file:/C:/Users/alvar/AppData/Local/Coursier/cache/v1/https/repo1.maven.org/maven2/org/apache/parquet/parquet-common/1.10.1/parquet-common-1.10.1.jar at spark://LAPTOP-30N4Q54J:65255/jars/parquet-common-1.10.1.jar with timestamp 1674170635372\n",
      "23/01/20 00:23:55 INFO SparkContext: Added JAR file:/C:/Users/alvar/AppData/Local/Coursier/cache/v1/https/repo1.maven.org/maven2/com/ning/compress-lzf/1.0.3/compress-lzf-1.0.3.jar at spark://LAPTOP-30N4Q54J:65255/jars/compress-lzf-1.0.3.jar with timestamp 1674170635373\n",
      "23/01/20 00:23:55 INFO SparkContext: Added JAR file:/C:/Users/alvar/AppData/Local/Coursier/cache/v1/https/repo1.maven.org/maven2/log4j/log4j/1.2.17/log4j-1.2.17.jar at spark://LAPTOP-30N4Q54J:65255/jars/log4j-1.2.17.jar with timestamp 1674170635374\n",
      "23/01/20 00:23:55 INFO SparkContext: Added JAR file:/C:/Users/alvar/AppData/Local/Coursier/cache/v1/https/repo1.maven.org/maven2/com/clearspring/analytics/stream/2.7.0/stream-2.7.0.jar at spark://LAPTOP-30N4Q54J:65255/jars/stream-2.7.0.jar with timestamp 1674170635375\n",
      "23/01/20 00:23:55 INFO SparkContext: Added JAR file:/C:/Users/alvar/AppData/Local/Coursier/cache/v1/https/repo1.maven.org/maven2/com/vlkan/flatbuffers/1.2.0-3f79e055/flatbuffers-1.2.0-3f79e055.jar at spark://LAPTOP-30N4Q54J:65255/jars/flatbuffers-1.2.0-3f79e055.jar with timestamp 1674170635375\n",
      "23/01/20 00:23:55 INFO SparkContext: Added JAR file:/C:/Users/alvar/AppData/Local/Coursier/cache/v1/https/repo1.maven.org/maven2/org/apache/directory/server/apacheds-i18n/2.0.0-M15/apacheds-i18n-2.0.0-M15.jar at spark://LAPTOP-30N4Q54J:65255/jars/apacheds-i18n-2.0.0-M15.jar with timestamp 1674170635376\n",
      "23/01/20 00:23:55 INFO SparkContext: Added JAR file:/C:/Users/alvar/AppData/Local/Coursier/cache/v1/https/repo1.maven.org/maven2/javax/activation/activation/1.1.1/activation-1.1.1.jar at spark://LAPTOP-30N4Q54J:65255/jars/activation-1.1.1.jar with timestamp 1674170635377\n",
      "23/01/20 00:23:55 INFO SparkContext: Added JAR file:/C:/Users/alvar/AppData/Local/Coursier/cache/v1/https/repo1.maven.org/maven2/javax/inject/javax.inject/1/javax.inject-1.jar at spark://LAPTOP-30N4Q54J:65255/jars/javax.inject-1.jar with timestamp 1674170635377\n",
      "23/01/20 00:23:55 INFO SparkContext: Added JAR file:/C:/Users/alvar/AppData/Local/Coursier/cache/v1/https/repo1.maven.org/maven2/org/slf4j/jul-to-slf4j/1.7.16/jul-to-slf4j-1.7.16.jar at spark://LAPTOP-30N4Q54J:65255/jars/jul-to-slf4j-1.7.16.jar with timestamp 1674170635378\n",
      "23/01/20 00:23:55 INFO SparkContext: Added JAR file:/C:/Users/alvar/AppData/Local/Coursier/cache/v1/https/repo1.maven.org/maven2/com/esotericsoftware/minlog/1.3.0/minlog-1.3.0.jar at spark://LAPTOP-30N4Q54J:65255/jars/minlog-1.3.0.jar with timestamp 1674170635379\n",
      "23/01/20 00:23:55 INFO SparkContext: Added JAR file:/C:/Users/alvar/AppData/Local/Coursier/cache/v1/https/repo1.maven.org/maven2/xmlenc/xmlenc/0.52/xmlenc-0.52.jar at spark://LAPTOP-30N4Q54J:65255/jars/xmlenc-0.52.jar with timestamp 1674170635380\n",
      "23/01/20 00:23:55 INFO SparkContext: Added JAR file:/C:/Users/alvar/AppData/Local/Coursier/cache/v1/https/repo1.maven.org/maven2/com/univocity/univocity-parsers/2.7.3/univocity-parsers-2.7.3.jar at spark://LAPTOP-30N4Q54J:65255/jars/univocity-parsers-2.7.3.jar with timestamp 1674170635381\n",
      "23/01/20 00:23:55 INFO SparkContext: Added JAR file:/C:/Users/alvar/AppData/Local/Coursier/cache/v1/https/repo1.maven.org/maven2/org/codehaus/janino/janino/3.0.9/janino-3.0.9.jar at spark://LAPTOP-30N4Q54J:65255/jars/janino-3.0.9.jar with timestamp 1674170635382\n",
      "23/01/20 00:23:55 INFO SparkContext: Added JAR file:/C:/Users/alvar/AppData/Local/Coursier/cache/v1/https/repo1.maven.org/maven2/org/apache/spark/spark-core_2.12/2.4.5/spark-core_2.12-2.4.5.jar at spark://LAPTOP-30N4Q54J:65255/jars/spark-core_2.12-2.4.5.jar with timestamp 1674170635387\n",
      "23/01/20 00:23:55 INFO SparkContext: Added JAR file:/C:/Users/alvar/AppData/Local/Coursier/cache/v1/https/repo1.maven.org/maven2/commons-lang/commons-lang/2.6/commons-lang-2.6.jar at spark://LAPTOP-30N4Q54J:65255/jars/commons-lang-2.6.jar with timestamp 1674170635389\n",
      "23/01/20 00:23:55 INFO SparkContext: Added JAR file:/C:/Users/alvar/AppData/Local/Coursier/cache/v1/https/repo1.maven.org/maven2/org/slf4j/slf4j-api/1.7.25/slf4j-api-1.7.25.jar at spark://LAPTOP-30N4Q54J:65255/jars/slf4j-api-1.7.25.jar with timestamp 1674170635390\n",
      "23/01/20 00:23:55 INFO SparkContext: Added JAR file:/C:/Users/alvar/AppData/Local/Coursier/cache/v1/https/repo1.maven.org/maven2/oro/oro/2.0.8/oro-2.0.8.jar at spark://LAPTOP-30N4Q54J:65255/jars/oro-2.0.8.jar with timestamp 1674170635391\n",
      "23/01/20 00:23:55 INFO SparkContext: Added JAR file:/C:/Users/alvar/AppData/Local/Coursier/cache/v1/https/repo1.maven.org/maven2/javax/annotation/javax.annotation-api/1.2/javax.annotation-api-1.2.jar at spark://LAPTOP-30N4Q54J:65255/jars/javax.annotation-api-1.2.jar with timestamp 1674170635392\n",
      "23/01/20 00:23:55 INFO SparkContext: Added JAR file:/C:/Users/alvar/AppData/Local/Coursier/cache/v1/https/repo1.maven.org/maven2/commons-cli/commons-cli/1.2/commons-cli-1.2.jar at spark://LAPTOP-30N4Q54J:65255/jars/commons-cli-1.2.jar with timestamp 1674170635393\n",
      "23/01/20 00:23:55 INFO SparkContext: Added JAR file:/C:/Users/alvar/AppData/Local/Coursier/cache/v1/https/repo1.maven.org/maven2/org/apache/commons/commons-math3/3.4.1/commons-math3-3.4.1.jar at spark://LAPTOP-30N4Q54J:65255/jars/commons-math3-3.4.1.jar with timestamp 1674170635394\n",
      "23/01/20 00:23:55 INFO SparkContext: Added JAR file:/C:/Users/alvar/AppData/Local/Coursier/cache/v1/https/repo1.maven.org/maven2/org/codehaus/jackson/jackson-core-asl/1.9.13/jackson-core-asl-1.9.13.jar at spark://LAPTOP-30N4Q54J:65255/jars/jackson-core-asl-1.9.13.jar with timestamp 1674170635395\n",
      "23/01/20 00:23:55 INFO SparkContext: Added JAR file:/C:/Users/alvar/AppData/Local/Coursier/cache/v1/https/repo1.maven.org/maven2/org/apache/orc/orc-core/1.5.5/orc-core-1.5.5-nohive.jar at spark://LAPTOP-30N4Q54J:65255/jars/orc-core-1.5.5-nohive.jar with timestamp 1674170635396\n",
      "23/01/20 00:23:55 INFO SparkContext: Added JAR file:/C:/Users/alvar/AppData/Local/Coursier/cache/v1/https/repo1.maven.org/maven2/com/google/guava/guava/16.0.1/guava-16.0.1.jar at spark://LAPTOP-30N4Q54J:65255/jars/guava-16.0.1.jar with timestamp 1674170635396\n",
      "23/01/20 00:23:55 INFO SparkContext: Added JAR file:/C:/Users/alvar/AppData/Local/Coursier/cache/v1/https/repo1.maven.org/maven2/org/apache/hadoop/hadoop-yarn-server-common/2.6.5/hadoop-yarn-server-common-2.6.5.jar at spark://LAPTOP-30N4Q54J:65255/jars/hadoop-yarn-server-common-2.6.5.jar with timestamp 1674170635397\n",
      "23/01/20 00:23:55 INFO SparkContext: Added JAR file:/C:/Users/alvar/AppData/Local/Coursier/cache/v1/https/repo1.maven.org/maven2/org/glassfish/hk2/hk2-api/2.4.0-b34/hk2-api-2.4.0-b34.jar at spark://LAPTOP-30N4Q54J:65255/jars/hk2-api-2.4.0-b34.jar with timestamp 1674170635398\n"
     ]
    },
    {
     "name": "stderr",
     "output_type": "stream",
     "text": [
      "23/01/20 00:23:55 INFO SparkContext: Added JAR file:/C:/Users/alvar/AppData/Local/Coursier/cache/v1/https/repo1.maven.org/maven2/org/fusesource/leveldbjni/leveldbjni-all/1.8/leveldbjni-all-1.8.jar at spark://LAPTOP-30N4Q54J:65255/jars/leveldbjni-all-1.8.jar with timestamp 1674170635400\n",
      "23/01/20 00:23:55 INFO SparkContext: Added JAR file:/C:/Users/alvar/AppData/Local/Coursier/cache/v1/https/repo1.maven.org/maven2/org/glassfish/hk2/osgi-resource-locator/1.0.1/osgi-resource-locator-1.0.1.jar at spark://LAPTOP-30N4Q54J:65255/jars/osgi-resource-locator-1.0.1.jar with timestamp 1674170635401\n",
      "23/01/20 00:23:55 INFO SparkContext: Added JAR file:/C:/Users/alvar/AppData/Local/Coursier/cache/v1/https/repo1.maven.org/maven2/org/scala-lang/modules/scala-parser-combinators_2.12/1.1.0/scala-parser-combinators_2.12-1.1.0.jar at spark://LAPTOP-30N4Q54J:65255/jars/scala-parser-combinators_2.12-1.1.0.jar with timestamp 1674170635402\n",
      "23/01/20 00:23:55 INFO SparkContext: Added JAR file:/C:/Users/alvar/AppData/Local/Coursier/cache/v1/https/repo1.maven.org/maven2/org/apache/spark/spark-catalyst_2.12/2.4.5/spark-catalyst_2.12-2.4.5.jar at spark://LAPTOP-30N4Q54J:65255/jars/spark-catalyst_2.12-2.4.5.jar with timestamp 1674170635403\n",
      "23/01/20 00:23:55 INFO SparkContext: Added JAR file:/C:/Users/alvar/AppData/Local/Coursier/cache/v1/https/repo1.maven.org/maven2/org/apache/hadoop/hadoop-yarn-api/2.6.5/hadoop-yarn-api-2.6.5.jar at spark://LAPTOP-30N4Q54J:65255/jars/hadoop-yarn-api-2.6.5.jar with timestamp 1674170635404\n",
      "23/01/20 00:23:55 INFO SparkContext: Added JAR file:/C:/Users/alvar/AppData/Local/Coursier/cache/v1/https/repo1.maven.org/maven2/org/apache/commons/commons-lang3/3.5/commons-lang3-3.5.jar at spark://LAPTOP-30N4Q54J:65255/jars/commons-lang3-3.5.jar with timestamp 1674170635404\n",
      "23/01/20 00:23:55 INFO SparkContext: Added JAR file:/C:/Users/alvar/AppData/Local/Coursier/cache/v1/https/repo1.maven.org/maven2/commons-collections/commons-collections/3.2.2/commons-collections-3.2.2.jar at spark://LAPTOP-30N4Q54J:65255/jars/commons-collections-3.2.2.jar with timestamp 1674170635408\n",
      "23/01/20 00:23:55 INFO SparkContext: Added JAR file:/C:/Users/alvar/AppData/Local/Coursier/cache/v1/https/repo1.maven.org/maven2/org/glassfish/hk2/hk2-utils/2.4.0-b34/hk2-utils-2.4.0-b34.jar at spark://LAPTOP-30N4Q54J:65255/jars/hk2-utils-2.4.0-b34.jar with timestamp 1674170635411\n",
      "23/01/20 00:23:55 INFO SparkContext: Added JAR file:/C:/Users/alvar/AppData/Local/Coursier/cache/v1/https/repo1.maven.org/maven2/org/tukaani/xz/1.5/xz-1.5.jar at spark://LAPTOP-30N4Q54J:65255/jars/xz-1.5.jar with timestamp 1674170635412\n",
      "23/01/20 00:23:55 INFO SparkContext: Added JAR file:/C:/Users/alvar/AppData/Local/Coursier/cache/v1/https/repo1.maven.org/maven2/org/apache/hadoop/hadoop-common/2.6.5/hadoop-common-2.6.5.jar at spark://LAPTOP-30N4Q54J:65255/jars/hadoop-common-2.6.5.jar with timestamp 1674170635413\n",
      "23/01/20 00:23:55 INFO SparkContext: Added JAR file:/C:/Users/alvar/AppData/Local/Coursier/cache/v1/https/repo1.maven.org/maven2/org/apache/hadoop/hadoop-mapreduce-client-core/2.6.5/hadoop-mapreduce-client-core-2.6.5.jar at spark://LAPTOP-30N4Q54J:65255/jars/hadoop-mapreduce-client-core-2.6.5.jar with timestamp 1674170635414\n",
      "23/01/20 00:23:55 INFO SparkContext: Added JAR file:/C:/Users/alvar/AppData/Local/Coursier/cache/v1/https/repo1.maven.org/maven2/jline/jline/0.9.94/jline-0.9.94.jar at spark://LAPTOP-30N4Q54J:65255/jars/jline-0.9.94.jar with timestamp 1674170635414\n",
      "23/01/20 00:23:55 INFO SparkContext: Added JAR file:/C:/Users/alvar/AppData/Local/Coursier/cache/v1/https/repo1.maven.org/maven2/org/apache/orc/orc-mapreduce/1.5.5/orc-mapreduce-1.5.5-nohive.jar at spark://LAPTOP-30N4Q54J:65255/jars/orc-mapreduce-1.5.5-nohive.jar with timestamp 1674170635415\n",
      "23/01/20 00:23:55 INFO SparkContext: Added JAR file:/C:/Users/alvar/AppData/Local/Coursier/cache/v1/https/repo1.maven.org/maven2/org/apache/httpcomponents/httpclient/4.2.5/httpclient-4.2.5.jar at spark://LAPTOP-30N4Q54J:65255/jars/httpclient-4.2.5.jar with timestamp 1674170635416\n",
      "23/01/20 00:23:55 INFO SparkContext: Added JAR file:/C:/Users/alvar/AppData/Local/Coursier/cache/v1/https/repo1.maven.org/maven2/org/apache/hadoop/hadoop-annotations/2.6.5/hadoop-annotations-2.6.5.jar at spark://LAPTOP-30N4Q54J:65255/jars/hadoop-annotations-2.6.5.jar with timestamp 1674170635417\n",
      "23/01/20 00:23:55 INFO SparkContext: Added JAR file:/C:/Users/alvar/AppData/Local/Coursier/cache/v1/https/repo1.maven.org/maven2/org/spark-project/spark/unused/1.0.0/unused-1.0.0.jar at spark://LAPTOP-30N4Q54J:65255/jars/unused-1.0.0.jar with timestamp 1674170635418\n",
      "23/01/20 00:23:55 INFO SparkContext: Added JAR file:/C:/Users/alvar/AppData/Local/Coursier/cache/v1/https/repo1.maven.org/maven2/org/glassfish/jersey/containers/jersey-container-servlet-core/2.22.2/jersey-container-servlet-core-2.22.2.jar at spark://LAPTOP-30N4Q54J:65255/jars/jersey-container-servlet-core-2.22.2.jar with timestamp 1674170635419\n",
      "23/01/20 00:23:55 INFO SparkContext: Added JAR file:/C:/Users/alvar/AppData/Local/Coursier/cache/v1/https/repo1.maven.org/maven2/org/codehaus/janino/commons-compiler/3.0.9/commons-compiler-3.0.9.jar at spark://LAPTOP-30N4Q54J:65255/jars/commons-compiler-3.0.9.jar with timestamp 1674170635420\n",
      "23/01/20 00:23:55 INFO SparkContext: Added JAR file:/C:/Users/alvar/AppData/Local/Coursier/cache/v1/https/repo1.maven.org/maven2/org/glassfish/hk2/hk2-locator/2.4.0-b34/hk2-locator-2.4.0-b34.jar at spark://LAPTOP-30N4Q54J:65255/jars/hk2-locator-2.4.0-b34.jar with timestamp 1674170635421\n",
      "23/01/20 00:23:55 INFO SparkContext: Added JAR file:/C:/Users/alvar/AppData/Local/Coursier/cache/v1/https/repo1.maven.org/maven2/org/codehaus/jackson/jackson-mapper-asl/1.9.13/jackson-mapper-asl-1.9.13.jar at spark://LAPTOP-30N4Q54J:65255/jars/jackson-mapper-asl-1.9.13.jar with timestamp 1674170635421\n",
      "23/01/20 00:23:55 INFO SparkContext: Added JAR file:/C:/Users/alvar/AppData/Local/Coursier/cache/v1/https/repo1.maven.org/maven2/net/sf/py4j/py4j/0.10.7/py4j-0.10.7.jar at spark://LAPTOP-30N4Q54J:65255/jars/py4j-0.10.7.jar with timestamp 1674170635422\n",
      "23/01/20 00:23:55 INFO SparkContext: Added JAR file:/C:/Users/alvar/AppData/Local/Coursier/cache/v1/https/repo1.maven.org/maven2/org/apache/curator/curator-recipes/2.6.0/curator-recipes-2.6.0.jar at spark://LAPTOP-30N4Q54J:65255/jars/curator-recipes-2.6.0.jar with timestamp 1674170635423\n",
      "23/01/20 00:23:55 INFO SparkContext: Added JAR file:/C:/Users/alvar/AppData/Local/Coursier/cache/v1/https/repo1.maven.org/maven2/com/google/code/findbugs/jsr305/3.0.2/jsr305-3.0.2.jar at spark://LAPTOP-30N4Q54J:65255/jars/jsr305-3.0.2.jar with timestamp 1674170635424\n",
      "23/01/20 00:23:55 INFO SparkContext: Added JAR file:/C:/Users/alvar/AppData/Local/Coursier/cache/v1/https/repo1.maven.org/maven2/org/apache/orc/orc-shims/1.5.5/orc-shims-1.5.5.jar at spark://LAPTOP-30N4Q54J:65255/jars/orc-shims-1.5.5.jar with timestamp 1674170635424\n",
      "23/01/20 00:23:55 INFO SparkContext: Added JAR file:/C:/Users/alvar/AppData/Local/Coursier/cache/v1/https/repo1.maven.org/maven2/org/apache/curator/curator-client/2.6.0/curator-client-2.6.0.jar at spark://LAPTOP-30N4Q54J:65255/jars/curator-client-2.6.0.jar with timestamp 1674170635425\n",
      "23/01/20 00:23:55 INFO SparkContext: Added JAR file:/C:/Users/alvar/AppData/Local/Coursier/cache/v1/https/repo1.maven.org/maven2/org/xerial/snappy/snappy-java/1.1.7.3/snappy-java-1.1.7.3.jar at spark://LAPTOP-30N4Q54J:65255/jars/snappy-java-1.1.7.3.jar with timestamp 1674170635426\n",
      "23/01/20 00:23:55 INFO SparkContext: Added JAR file:/C:/Users/alvar/AppData/Local/Coursier/cache/v1/https/repo1.maven.org/maven2/javax/validation/validation-api/1.1.0.Final/validation-api-1.1.0.Final.jar at spark://LAPTOP-30N4Q54J:65255/jars/validation-api-1.1.0.Final.jar with timestamp 1674170635427\n",
      "23/01/20 00:23:55 INFO SparkContext: Added JAR file:/C:/Users/alvar/AppData/Local/Coursier/cache/v1/https/repo1.maven.org/maven2/org/apache/hadoop/hadoop-hdfs/2.6.5/hadoop-hdfs-2.6.5.jar at spark://LAPTOP-30N4Q54J:65255/jars/hadoop-hdfs-2.6.5.jar with timestamp 1674170635428\n",
      "23/01/20 00:23:55 INFO SparkContext: Added JAR file:/C:/Users/alvar/AppData/Local/Coursier/cache/v1/https/repo1.maven.org/maven2/org/apache/ivy/ivy/2.4.0/ivy-2.4.0.jar at spark://LAPTOP-30N4Q54J:65255/jars/ivy-2.4.0.jar with timestamp 1674170635429\n"
     ]
    },
    {
     "name": "stderr",
     "output_type": "stream",
     "text": [
      "23/01/20 00:23:55 INFO SparkContext: Added JAR file:/C:/Users/alvar/AppData/Local/Coursier/cache/v1/https/repo1.maven.org/maven2/javax/xml/stream/stax-api/1.0-2/stax-api-1.0-2.jar at spark://LAPTOP-30N4Q54J:65255/jars/stax-api-1.0-2.jar with timestamp 1674170635430\n",
      "23/01/20 00:23:55 INFO SparkContext: Added JAR file:/C:/Users/alvar/AppData/Local/Coursier/cache/v1/https/repo1.maven.org/maven2/org/roaringbitmap/RoaringBitmap/0.7.45/RoaringBitmap-0.7.45.jar at spark://LAPTOP-30N4Q54J:65255/jars/RoaringBitmap-0.7.45.jar with timestamp 1674170635430\n",
      "23/01/20 00:23:55 INFO SparkContext: Added JAR file:/C:/Users/alvar/AppData/Local/Coursier/cache/v1/https/repo1.maven.org/maven2/org/codehaus/jackson/jackson-jaxrs/1.9.13/jackson-jaxrs-1.9.13.jar at spark://LAPTOP-30N4Q54J:65255/jars/jackson-jaxrs-1.9.13.jar with timestamp 1674170635431\n",
      "23/01/20 00:23:55 INFO SparkContext: Added JAR file:/C:/Users/alvar/AppData/Local/Coursier/cache/v1/https/repo1.maven.org/maven2/io/dropwizard/metrics/metrics-json/3.1.5/metrics-json-3.1.5.jar at spark://LAPTOP-30N4Q54J:65255/jars/metrics-json-3.1.5.jar with timestamp 1674170635432\n",
      "23/01/20 00:23:55 INFO SparkContext: Added JAR file:/C:/Users/alvar/AppData/Local/Coursier/cache/v1/https/repo1.maven.org/maven2/org/glassfish/jersey/containers/jersey-container-servlet/2.22.2/jersey-container-servlet-2.22.2.jar at spark://LAPTOP-30N4Q54J:65255/jars/jersey-container-servlet-2.22.2.jar with timestamp 1674170635433\n",
      "23/01/20 00:23:55 INFO SparkContext: Added JAR file:/C:/Users/alvar/AppData/Local/Coursier/cache/v1/https/repo1.maven.org/maven2/org/codehaus/jackson/jackson-xc/1.9.13/jackson-xc-1.9.13.jar at spark://LAPTOP-30N4Q54J:65255/jars/jackson-xc-1.9.13.jar with timestamp 1674170635434\n",
      "23/01/20 00:23:55 INFO SparkContext: Added JAR file:/C:/Users/alvar/AppData/Local/Coursier/cache/v1/https/repo1.maven.org/maven2/javax/ws/rs/javax.ws.rs-api/2.0.1/javax.ws.rs-api-2.0.1.jar at spark://LAPTOP-30N4Q54J:65255/jars/javax.ws.rs-api-2.0.1.jar with timestamp 1674170635435\n",
      "23/01/20 00:23:55 INFO SparkContext: Added JAR file:/C:/Users/alvar/AppData/Local/Coursier/cache/v1/https/repo1.maven.org/maven2/com/fasterxml/jackson/module/jackson-module-scala_2.12/2.6.7.1/jackson-module-scala_2.12-2.6.7.1.jar at spark://LAPTOP-30N4Q54J:65255/jars/jackson-module-scala_2.12-2.6.7.1.jar with timestamp 1674170635435\n",
      "23/01/20 00:23:55 INFO SparkContext: Added JAR file:/C:/Users/alvar/AppData/Local/Coursier/cache/v1/https/repo1.maven.org/maven2/org/apache/parquet/parquet-column/1.10.1/parquet-column-1.10.1.jar at spark://LAPTOP-30N4Q54J:65255/jars/parquet-column-1.10.1.jar with timestamp 1674170635436\n",
      "23/01/20 00:23:55 INFO SparkContext: Added JAR file:/C:/Users/alvar/AppData/Local/Coursier/cache/v1/https/repo1.maven.org/maven2/com/esotericsoftware/kryo-shaded/4.0.2/kryo-shaded-4.0.2.jar at spark://LAPTOP-30N4Q54J:65255/jars/kryo-shaded-4.0.2.jar with timestamp 1674170635437\n",
      "23/01/20 00:23:55 INFO SparkContext: Added JAR file:/C:/Users/alvar/AppData/Local/Coursier/cache/v1/https/repo1.maven.org/maven2/org/apache/directory/api/api-asn1-api/1.0.0-M20/api-asn1-api-1.0.0-M20.jar at spark://LAPTOP-30N4Q54J:65255/jars/api-asn1-api-1.0.0-M20.jar with timestamp 1674170635438\n",
      "23/01/20 00:23:55 INFO SparkContext: Added JAR file:/C:/Users/alvar/AppData/Local/Coursier/cache/v1/https/repo1.maven.org/maven2/net/razorvine/pyrolite/4.13/pyrolite-4.13.jar at spark://LAPTOP-30N4Q54J:65255/jars/pyrolite-4.13.jar with timestamp 1674170635439\n",
      "23/01/20 00:23:55 INFO SparkContext: Added JAR file:/C:/Users/alvar/AppData/Local/Coursier/cache/v1/https/repo1.maven.org/maven2/org/apache/parquet/parquet-format/2.4.0/parquet-format-2.4.0.jar at spark://LAPTOP-30N4Q54J:65255/jars/parquet-format-2.4.0.jar with timestamp 1674170635440\n",
      "23/01/20 00:23:55 INFO SparkContext: Added JAR file:/C:/Users/alvar/AppData/Local/Coursier/cache/v1/https/repo1.maven.org/maven2/org/scala-lang/modules/scala-xml_2.12/1.0.6/scala-xml_2.12-1.0.6.jar at spark://LAPTOP-30N4Q54J:65255/jars/scala-xml_2.12-1.0.6.jar with timestamp 1674170635440\n",
      "23/01/20 00:23:55 INFO SparkContext: Added JAR file:/C:/Users/alvar/AppData/Local/Coursier/cache/v1/https/repo1.maven.org/maven2/org/apache/zookeeper/zookeeper/3.4.6/zookeeper-3.4.6.jar at spark://LAPTOP-30N4Q54J:65255/jars/zookeeper-3.4.6.jar with timestamp 1674170635441\n",
      "23/01/20 00:23:55 INFO SparkContext: Added JAR file:/C:/Users/alvar/AppData/Local/Coursier/cache/v1/https/repo1.maven.org/maven2/org/objenesis/objenesis/2.5.1/objenesis-2.5.1.jar at spark://LAPTOP-30N4Q54J:65255/jars/objenesis-2.5.1.jar with timestamp 1674170635442\n",
      "23/01/20 00:23:55 INFO SparkContext: Added JAR file:/C:/Users/alvar/AppData/Local/Coursier/cache/v1/https/repo1.maven.org/maven2/org/glassfish/jersey/media/jersey-media-jaxb/2.22.2/jersey-media-jaxb-2.22.2.jar at spark://LAPTOP-30N4Q54J:65255/jars/jersey-media-jaxb-2.22.2.jar with timestamp 1674170635443\n",
      "23/01/20 00:23:55 INFO SparkContext: Added JAR file:/C:/Users/alvar/AppData/Local/Coursier/cache/v1/https/repo1.maven.org/maven2/commons-httpclient/commons-httpclient/3.1/commons-httpclient-3.1.jar at spark://LAPTOP-30N4Q54J:65255/jars/commons-httpclient-3.1.jar with timestamp 1674170635444\n",
      "23/01/20 00:23:55 INFO SparkContext: Added JAR file:/C:/Users/alvar/AppData/Local/Coursier/cache/v1/https/repo1.maven.org/maven2/org/apache/hadoop/hadoop-mapreduce-client-jobclient/2.6.5/hadoop-mapreduce-client-jobclient-2.6.5.jar at spark://LAPTOP-30N4Q54J:65255/jars/hadoop-mapreduce-client-jobclient-2.6.5.jar with timestamp 1674170635445\n",
      "23/01/20 00:23:55 INFO SparkContext: Added JAR file:/C:/Users/alvar/AppData/Local/Coursier/cache/v1/https/repo1.maven.org/maven2/io/netty/netty-all/4.1.42.Final/netty-all-4.1.42.Final.jar at spark://LAPTOP-30N4Q54J:65255/jars/netty-all-4.1.42.Final.jar with timestamp 1674170635446\n",
      "23/01/20 00:23:55 INFO SparkContext: Added JAR file:/C:/Users/alvar/AppData/Local/Coursier/cache/v1/https/repo1.maven.org/maven2/org/apache/spark/spark-network-shuffle_2.12/2.4.5/spark-network-shuffle_2.12-2.4.5.jar at spark://LAPTOP-30N4Q54J:65255/jars/spark-network-shuffle_2.12-2.4.5.jar with timestamp 1674170635448\n",
      "23/01/20 00:23:55 INFO SparkContext: Added JAR file:/C:/Users/alvar/AppData/Local/Coursier/cache/v1/https/repo1.maven.org/maven2/org/apache/spark/spark-sketch_2.12/2.4.5/spark-sketch_2.12-2.4.5.jar at spark://LAPTOP-30N4Q54J:65255/jars/spark-sketch_2.12-2.4.5.jar with timestamp 1674170635452\n",
      "23/01/20 00:23:55 INFO SparkContext: Added JAR file:/C:/Users/alvar/AppData/Local/Coursier/cache/v1/https/repo1.maven.org/maven2/com/twitter/chill-java/0.9.3/chill-java-0.9.3.jar at spark://LAPTOP-30N4Q54J:65255/jars/chill-java-0.9.3.jar with timestamp 1674170635452\n",
      "23/01/20 00:23:55 INFO SparkContext: Added JAR file:/C:/Users/alvar/AppData/Local/Coursier/cache/v1/https/repo1.maven.org/maven2/org/json4s/json4s-ast_2.12/3.5.3/json4s-ast_2.12-3.5.3.jar at spark://LAPTOP-30N4Q54J:65255/jars/json4s-ast_2.12-3.5.3.jar with timestamp 1674170635453\n",
      "23/01/20 00:23:55 INFO SparkContext: Added JAR file:/C:/Users/alvar/AppData/Local/Coursier/cache/v1/https/repo1.maven.org/maven2/org/apache/avro/avro-mapred/1.8.2/avro-mapred-1.8.2-hadoop2.jar at spark://LAPTOP-30N4Q54J:65255/jars/avro-mapred-1.8.2-hadoop2.jar with timestamp 1674170635454\n",
      "23/01/20 00:23:55 INFO SparkContext: Added JAR file:/C:/Users/alvar/AppData/Local/Coursier/cache/v1/https/repo1.maven.org/maven2/org/apache/parquet/parquet-encoding/1.10.1/parquet-encoding-1.10.1.jar at spark://LAPTOP-30N4Q54J:65255/jars/parquet-encoding-1.10.1.jar with timestamp 1674170635454\n",
      "23/01/20 00:23:55 INFO SparkContext: Added JAR file:/C:/Users/alvar/AppData/Local/Coursier/cache/v1/https/repo1.maven.org/maven2/commons-net/commons-net/3.1/commons-net-3.1.jar at spark://LAPTOP-30N4Q54J:65255/jars/commons-net-3.1.jar with timestamp 1674170635455\n",
      "23/01/20 00:23:55 INFO SparkContext: Added JAR file:/C:/Users/alvar/AppData/Local/Coursier/cache/v1/https/repo1.maven.org/maven2/io/dropwizard/metrics/metrics-jvm/3.1.5/metrics-jvm-3.1.5.jar at spark://LAPTOP-30N4Q54J:65255/jars/metrics-jvm-3.1.5.jar with timestamp 1674170635456\n",
      "23/01/20 00:23:55 INFO SparkContext: Added JAR file:/C:/Users/alvar/AppData/Local/Coursier/cache/v1/https/repo1.maven.org/maven2/org/glassfish/jersey/core/jersey-client/2.22.2/jersey-client-2.22.2.jar at spark://LAPTOP-30N4Q54J:65255/jars/jersey-client-2.22.2.jar with timestamp 1674170635456\n"
     ]
    },
    {
     "name": "stderr",
     "output_type": "stream",
     "text": [
      "23/01/20 00:23:55 INFO SparkContext: Added JAR file:/C:/Users/alvar/AppData/Local/Coursier/cache/v1/https/repo1.maven.org/maven2/org/apache/arrow/arrow-memory/0.10.0/arrow-memory-0.10.0.jar at spark://LAPTOP-30N4Q54J:65255/jars/arrow-memory-0.10.0.jar with timestamp 1674170635457\n",
      "23/01/20 00:23:55 INFO SparkContext: Added JAR file:/C:/Users/alvar/AppData/Local/Coursier/cache/v1/https/repo1.maven.org/maven2/org/apache/hadoop/hadoop-mapreduce-client-shuffle/2.6.5/hadoop-mapreduce-client-shuffle-2.6.5.jar at spark://LAPTOP-30N4Q54J:65255/jars/hadoop-mapreduce-client-shuffle-2.6.5.jar with timestamp 1674170635458\n",
      "23/01/20 00:23:55 INFO SparkContext: Added JAR file:/C:/Users/alvar/AppData/Local/Coursier/cache/v1/https/repo1.maven.org/maven2/com/fasterxml/jackson/module/jackson-module-paranamer/2.7.9/jackson-module-paranamer-2.7.9.jar at spark://LAPTOP-30N4Q54J:65255/jars/jackson-module-paranamer-2.7.9.jar with timestamp 1674170635458\n",
      "23/01/20 00:23:55 INFO SparkContext: Added JAR file:/C:/Users/alvar/AppData/Local/Coursier/cache/v1/https/repo1.maven.org/maven2/org/apache/hadoop/hadoop-mapreduce-client-app/2.6.5/hadoop-mapreduce-client-app-2.6.5.jar at spark://LAPTOP-30N4Q54J:65255/jars/hadoop-mapreduce-client-app-2.6.5.jar with timestamp 1674170635459\n",
      "23/01/20 00:23:55 INFO SparkContext: Added JAR file:/C:/Users/alvar/AppData/Local/Coursier/cache/v1/https/repo1.maven.org/maven2/org/htrace/htrace-core/3.0.4/htrace-core-3.0.4.jar at spark://LAPTOP-30N4Q54J:65255/jars/htrace-core-3.0.4.jar with timestamp 1674170635460\n",
      "23/01/20 00:23:55 INFO SparkContext: Added JAR file:/C:/Users/alvar/AppData/Local/Coursier/cache/v1/https/repo1.maven.org/maven2/org/glassfish/jersey/bundles/repackaged/jersey-guava/2.22.2/jersey-guava-2.22.2.jar at spark://LAPTOP-30N4Q54J:65255/jars/jersey-guava-2.22.2.jar with timestamp 1674170635460\n",
      "23/01/20 00:23:55 INFO SparkContext: Added JAR file:/C:/Users/alvar/AppData/Local/Coursier/cache/v1/https/repo1.maven.org/maven2/commons-digester/commons-digester/1.8/commons-digester-1.8.jar at spark://LAPTOP-30N4Q54J:65255/jars/commons-digester-1.8.jar with timestamp 1674170635462\n",
      "23/01/20 00:23:55 INFO SparkContext: Added JAR file:/C:/Users/alvar/AppData/Local/Coursier/cache/v1/https/repo1.maven.org/maven2/org/apache/spark/spark-launcher_2.12/2.4.5/spark-launcher_2.12-2.4.5.jar at spark://LAPTOP-30N4Q54J:65255/jars/spark-launcher_2.12-2.4.5.jar with timestamp 1674170635468\n",
      "23/01/20 00:23:55 INFO SparkContext: Added JAR file:/C:/Users/alvar/AppData/Local/Coursier/cache/v1/https/repo1.maven.org/maven2/com/twitter/chill_2.12/0.9.3/chill_2.12-0.9.3.jar at spark://LAPTOP-30N4Q54J:65255/jars/chill_2.12-0.9.3.jar with timestamp 1674170635469\n",
      "23/01/20 00:23:55 INFO SparkContext: Added JAR file:/C:/Users/alvar/AppData/Local/Coursier/cache/v1/https/repo1.maven.org/maven2/org/apache/arrow/arrow-format/0.10.0/arrow-format-0.10.0.jar at spark://LAPTOP-30N4Q54J:65255/jars/arrow-format-0.10.0.jar with timestamp 1674170635471\n",
      "23/01/20 00:23:55 INFO SparkContext: Added JAR file:/C:/Users/alvar/AppData/Local/Coursier/cache/v1/https/repo1.maven.org/maven2/com/google/protobuf/protobuf-java/2.5.0/protobuf-java-2.5.0.jar at spark://LAPTOP-30N4Q54J:65255/jars/protobuf-java-2.5.0.jar with timestamp 1674170635472\n",
      "23/01/20 00:23:55 INFO SparkContext: Added JAR file:/C:/Users/alvar/AppData/Local/Coursier/cache/v1/https/repo1.maven.org/maven2/org/apache/directory/server/apacheds-kerberos-codec/2.0.0-M15/apacheds-kerberos-codec-2.0.0-M15.jar at spark://LAPTOP-30N4Q54J:65255/jars/apacheds-kerberos-codec-2.0.0-M15.jar with timestamp 1674170635472\n",
      "23/01/20 00:23:55 INFO SparkContext: Added JAR file:/C:/Users/alvar/AppData/Local/Coursier/cache/v1/https/repo1.maven.org/maven2/org/apache/hadoop/hadoop-client/2.6.5/hadoop-client-2.6.5.jar at spark://LAPTOP-30N4Q54J:65255/jars/hadoop-client-2.6.5.jar with timestamp 1674170635473\n",
      "23/01/20 00:23:55 INFO SparkContext: Added JAR file:/C:/Users/alvar/AppData/Local/Coursier/cache/v1/https/repo1.maven.org/maven2/io/dropwizard/metrics/metrics-graphite/3.1.5/metrics-graphite-3.1.5.jar at spark://LAPTOP-30N4Q54J:65255/jars/metrics-graphite-3.1.5.jar with timestamp 1674170635474\n",
      "23/01/20 00:23:55 INFO SparkContext: Added JAR file:/C:/Users/alvar/AppData/Local/Coursier/cache/v1/https/repo1.maven.org/maven2/org/json4s/json4s-jackson_2.12/3.5.3/json4s-jackson_2.12-3.5.3.jar at spark://LAPTOP-30N4Q54J:65255/jars/json4s-jackson_2.12-3.5.3.jar with timestamp 1674170635477\n",
      "23/01/20 00:23:55 INFO SparkContext: Added JAR file:/C:/Users/alvar/AppData/Local/Coursier/cache/v1/https/repo1.maven.org/maven2/org/glassfish/hk2/external/javax.inject/2.4.0-b34/javax.inject-2.4.0-b34.jar at spark://LAPTOP-30N4Q54J:65255/jars/javax.inject-2.4.0-b34.jar with timestamp 1674170635478\n",
      "23/01/20 00:23:55 INFO SparkContext: Added JAR file:/C:/Users/alvar/AppData/Local/Coursier/cache/v1/https/repo1.maven.org/maven2/org/glassfish/jersey/core/jersey-server/2.22.2/jersey-server-2.22.2.jar at spark://LAPTOP-30N4Q54J:65255/jars/jersey-server-2.22.2.jar with timestamp 1674170635479\n",
      "23/01/20 00:23:55 INFO SparkContext: Added JAR file:/C:/Users/alvar/AppData/Local/Coursier/cache/v1/https/repo1.maven.org/maven2/com/fasterxml/jackson/core/jackson-annotations/2.6.7/jackson-annotations-2.6.7.jar at spark://LAPTOP-30N4Q54J:65255/jars/jackson-annotations-2.6.7.jar with timestamp 1674170635480\n",
      "23/01/20 00:23:55 INFO SparkContext: Added JAR file:/C:/Users/alvar/AppData/Local/Coursier/cache/v1/https/repo1.maven.org/maven2/org/apache/hadoop/hadoop-mapreduce-client-common/2.6.5/hadoop-mapreduce-client-common-2.6.5.jar at spark://LAPTOP-30N4Q54J:65255/jars/hadoop-mapreduce-client-common-2.6.5.jar with timestamp 1674170635481\n",
      "23/01/20 00:23:55 INFO SparkContext: Added JAR file:/C:/Users/alvar/AppData/Local/Coursier/cache/v1/https/repo1.maven.org/maven2/org/apache/curator/curator-framework/2.6.0/curator-framework-2.6.0.jar at spark://LAPTOP-30N4Q54J:65255/jars/curator-framework-2.6.0.jar with timestamp 1674170635482\n",
      "23/01/20 00:23:55 INFO SparkContext: Added JAR file:/C:/Users/alvar/AppData/Local/Coursier/cache/v1/https/repo1.maven.org/maven2/sh/almond/almond-spark_2.12/0.4.0/almond-spark_2.12-0.4.0.jar at spark://LAPTOP-30N4Q54J:65255/jars/almond-spark_2.12-0.4.0.jar with timestamp 1674170635484\n",
      "23/01/20 00:23:55 INFO SparkContext: Added JAR file:/C:/Users/alvar/AppData/Local/Coursier/cache/v1/https/repo1.maven.org/maven2/io/argonaut/argonaut_2.12/6.2.3/argonaut_2.12-6.2.3.jar at spark://LAPTOP-30N4Q54J:65255/jars/argonaut_2.12-6.2.3.jar with timestamp 1674170635485\n",
      "23/01/20 00:23:55 INFO SparkContext: Added JAR file:/C:/Users/alvar/AppData/Local/Coursier/cache/v1/https/repo1.maven.org/maven2/org/eclipse/jetty/jetty-server/9.4.15.v20190215/jetty-server-9.4.15.v20190215.jar at spark://LAPTOP-30N4Q54J:65255/jars/jetty-server-9.4.15.v20190215.jar with timestamp 1674170635486\n",
      "23/01/20 00:23:55 INFO SparkContext: Added JAR file:/C:/Users/alvar/AppData/Local/Coursier/cache/v1/https/repo1.maven.org/maven2/sh/almond/ammonite-spark_2.12/0.4.0/ammonite-spark_2.12-0.4.0.jar at spark://LAPTOP-30N4Q54J:65255/jars/ammonite-spark_2.12-0.4.0.jar with timestamp 1674170635487\n",
      "23/01/20 00:23:55 INFO SparkContext: Added JAR file:/C:/Users/alvar/AppData/Local/Coursier/cache/v1/https/repo1.maven.org/maven2/com/github/alexarchambault/argonaut-shapeless_6.2_2.12/1.2.0-M10/argonaut-shapeless_6.2_2.12-1.2.0-M10.jar at spark://LAPTOP-30N4Q54J:65255/jars/argonaut-shapeless_6.2_2.12-1.2.0-M10.jar with timestamp 1674170635487\n",
      "23/01/20 00:23:55 INFO SparkContext: Added JAR file:/C:/Users/alvar/AppData/Local/Coursier/cache/v1/https/repo1.maven.org/maven2/org/eclipse/jetty/jetty-io/9.4.15.v20190215/jetty-io-9.4.15.v20190215.jar at spark://LAPTOP-30N4Q54J:65255/jars/jetty-io-9.4.15.v20190215.jar with timestamp 1674170635488\n",
      "23/01/20 00:23:55 INFO SparkContext: Added JAR file:/C:/Users/alvar/AppData/Local/Coursier/cache/v1/https/repo1.maven.org/maven2/org/typelevel/macro-compat_2.12/1.1.1/macro-compat_2.12-1.1.1.jar at spark://LAPTOP-30N4Q54J:65255/jars/macro-compat_2.12-1.1.1.jar with timestamp 1674170635489\n",
      "23/01/20 00:23:55 INFO SparkContext: Added JAR file:/C:/Users/alvar/AppData/Local/Coursier/cache/v1/https/repo1.maven.org/maven2/org/eclipse/jetty/jetty-http/9.4.15.v20190215/jetty-http-9.4.15.v20190215.jar at spark://LAPTOP-30N4Q54J:65255/jars/jetty-http-9.4.15.v20190215.jar with timestamp 1674170635490\n"
     ]
    },
    {
     "name": "stderr",
     "output_type": "stream",
     "text": [
      "23/01/20 00:23:55 INFO SparkContext: Added JAR file:/C:/Users/alvar/AppData/Local/Coursier/cache/v1/https/repo1.maven.org/maven2/org/eclipse/jetty/jetty-util/9.4.15.v20190215/jetty-util-9.4.15.v20190215.jar at spark://LAPTOP-30N4Q54J:65255/jars/jetty-util-9.4.15.v20190215.jar with timestamp 1674170635490\n",
      "23/01/20 00:23:55 INFO SparkContext: Added JAR file:/C:/Users/alvar/AppData/Local/Coursier/cache/v1/https/repo1.maven.org/maven2/com/chuusai/shapeless_2.12/2.3.3/shapeless_2.12-2.3.3.jar at spark://LAPTOP-30N4Q54J:65255/jars/shapeless_2.12-2.3.3.jar with timestamp 1674170635491\n",
      "23/01/20 00:23:55 INFO SparkContext: Added JAR file:/C:/Users/alvar/AppData/Local/Coursier/cache/v1/https/repo1.maven.org/maven2/sh/almond/spark-stubs_24_2.12/0.4.0/spark-stubs_24_2.12-0.4.0.jar at spark://LAPTOP-30N4Q54J:65255/jars/spark-stubs_24_2.12-0.4.0.jar with timestamp 1674170635491\n",
      "23/01/20 00:23:55 INFO Executor: Starting executor ID driver on host localhost\n",
      "23/01/20 00:23:55 INFO Executor: Using REPL class URI: http://192.168.56.1:65227\n",
      "23/01/20 00:23:55 INFO Utils: Successfully started service 'org.apache.spark.network.netty.NettyBlockTransferService' on port 65282.\n",
      "23/01/20 00:23:55 INFO NettyBlockTransferService: Server created on LAPTOP-30N4Q54J:65282\n",
      "23/01/20 00:23:55 INFO BlockManager: Using org.apache.spark.storage.RandomBlockReplicationPolicy for block replication policy\n",
      "23/01/20 00:23:55 INFO BlockManagerMaster: Registering BlockManager BlockManagerId(driver, LAPTOP-30N4Q54J, 65282, None)\n",
      "23/01/20 00:23:55 INFO BlockManagerMasterEndpoint: Registering block manager LAPTOP-30N4Q54J:65282 with 434.4 MB RAM, BlockManagerId(driver, LAPTOP-30N4Q54J, 65282, None)\n",
      "23/01/20 00:23:55 INFO BlockManagerMaster: Registered BlockManager BlockManagerId(driver, LAPTOP-30N4Q54J, 65282, None)\n",
      "23/01/20 00:23:55 INFO BlockManager: Initialized BlockManager: BlockManagerId(driver, LAPTOP-30N4Q54J, 65282, None)\n"
     ]
    },
    {
     "data": {
      "text/html": [
       "<a href=\"http://LAPTOP-30N4Q54J:4040\">Spark UI</a>"
      ]
     },
     "metadata": {},
     "output_type": "display_data"
    },
    {
     "data": {
      "text/plain": [
       "\u001b[32mimport \u001b[39m\u001b[36m$ivy.$                                   \n",
       "\u001b[39m\r\n",
       "\u001b[32mimport \u001b[39m\u001b[36m$ivy.$                              \n",
       "\n",
       "\u001b[39m\r\n",
       "\u001b[32mimport \u001b[39m\u001b[36morg.apache.spark.sql.{NotebookSparkSession, SparkSession}\n",
       "\u001b[39m\r\n",
       "\u001b[32mimport \u001b[39m\u001b[36morg.apache.spark.sql.{functions => func, _}\n",
       "\u001b[39m\r\n",
       "\u001b[32mimport \u001b[39m\u001b[36morg.apache.spark.sql.types._\n",
       "\n",
       "\u001b[39m\r\n",
       "\u001b[36mspark\u001b[39m: \u001b[32mSparkSession\u001b[39m = org.apache.spark.sql.SparkSession@5a84759e\r\n",
       "\u001b[32mimport \u001b[39m\u001b[36mspark.implicits._\n",
       "\n",
       "\u001b[39m\r\n",
       "\u001b[32mimport \u001b[39m\u001b[36morg.slf4j.LoggerFactory\n",
       "\u001b[39m\r\n",
       "\u001b[32mimport \u001b[39m\u001b[36morg.apache.log4j.{Level, Logger}\n",
       "\n",
       "\u001b[39m"
      ]
     },
     "execution_count": 1,
     "metadata": {},
     "output_type": "execute_result"
    }
   ],
   "source": [
    "import $ivy.`org.apache.spark::spark-sql:2.4.5` \n",
    "import $ivy.`sh.almond::almond-spark:0.4.0`\n",
    "\n",
    "import org.apache.spark.sql.{NotebookSparkSession, SparkSession}\n",
    "import org.apache.spark.sql.{functions => func, _}\n",
    "import org.apache.spark.sql.types._\n",
    "\n",
    "val spark = NotebookSparkSession\n",
    "      .builder()\n",
    "      .config(\"spark.sql.join.preferSortMergeJoin\", false)\n",
    "      .config(\"spark.sql.shuffle.partitions\", 64)\n",
    "      .master(\"local[4]\")\n",
    "      .getOrCreate()\n",
    "\n",
    "import spark.implicits._\n",
    "\n",
    "import org.slf4j.LoggerFactory\n",
    "import org.apache.log4j.{Level, Logger}\n",
    "\n",
    "Logger.getRootLogger().setLevel(Level.ERROR)"
   ]
  },
  {
   "cell_type": "markdown",
   "id": "6dfd87f1",
   "metadata": {},
   "source": [
    "### Tranformacion de JSON multiline a JSON line"
   ]
  },
  {
   "cell_type": "markdown",
   "id": "dc29ba2c",
   "metadata": {},
   "source": [
    "Para esto lo que he hecho ha sido ejecutar en el CMD el siguiente comando `FOR %a IN (../data/*.json) DO jq . -c \"%a\" > \"../JSONLine/%a\"` con el que vamos recorriendo la carpeta donde se encuentran los ficheros JSON multiline y los vamos guardando con la transformacion en la carpeta JSONLine"
   ]
  },
  {
   "cell_type": "markdown",
   "id": "8938e79a",
   "metadata": {},
   "source": [
    "### Leer y pasar datos mensuales a Parquet"
   ]
  },
  {
   "cell_type": "code",
   "execution_count": null,
   "id": "67747196",
   "metadata": {},
   "outputs": [],
   "source": [
    "val schema = StructType(\n",
    "    Array(\n",
    "        StructField(\"fecha\", StringType, true), \n",
    "        StructField(\"indicativo\", StringType, true),\n",
    "        StructField(\"nombre\", StringType, true),\n",
    "        StructField(\"provincia\", StringType, true),\n",
    "        StructField(\"altitud\", StringType, true),\n",
    "        StructField(\"tm_mes\", StringType, true),\n",
    "        StructField(\"tm_max\", StringType, true),\n",
    "        StructField(\"tm_min\", StringType, true), \n",
    "        StructField(\"ta_max\", StringType, true),\n",
    "        StructField(\"ta_min\", StringType, true),\n",
    "        StructField(\"ts_min\", StringType, true),\n",
    "        StructField(\"ti_max\", StringType, true),\n",
    "        StructField(\"nt_30\", StringType, true),\n",
    "        StructField(\"nt_00\", StringType, true),\n",
    "        StructField(\"p_mes\", StringType, true),\n",
    "        StructField(\"p_max\", StringType, true),\n",
    "        StructField(\"np_001\", StringType, true),\n",
    "        StructField(\"np_010\", StringType, true),\n",
    "        StructField(\"np_100\", StringType, true),\n",
    "        StructField(\"np_300\", StringType, true),\n",
    "        StructField(\"hr\", StringType, true), \n",
    "        StructField(\"e\", StringType, true),\n",
    "        StructField(\"n_llu\", StringType, true),\n",
    "        StructField(\"n_nie\", StringType, true),\n",
    "        StructField(\"n_gra\", StringType, true),\n",
    "        StructField(\"n_tor\", StringType, true),\n",
    "        StructField(\"n_fog\", StringType, true),\n",
    "        StructField(\"n_des\", StringType, true),\n",
    "        StructField(\"n_nub\", StringType, true),\n",
    "        StructField(\"n_cub\", StringType, true),\n",
    "        StructField(\"inso\", StringType, true),\n",
    "        StructField(\"p_sol\", StringType, true),\n",
    "        StructField(\"glo\", StringType, true),\n",
    "        StructField(\"evap\", StringType, true),\n",
    "        StructField(\"w_rec\", StringType, true),\n",
    "        StructField(\"w_racha\", StringType, true),\n",
    "        StructField(\"nw_55\", StringType, true),\n",
    "        StructField(\"nw_91\", StringType, true),\n",
    "        StructField(\"w_med\", StringType, true),\n",
    "        StructField(\"q_med\", StringType, true),\n",
    "        StructField(\"q_max\", StringType, true),\n",
    "        StructField(\"q_min\", StringType, true),\n",
    "        StructField(\"q_mar\", StringType, true),\n",
    "        StructField(\"ts_10\", StringType, true),\n",
    "        StructField(\"ts_20\", StringType, true),\n",
    "        StructField(\"ts_50\", StringType, true),\n",
    "        StructField(\"nv_0050\", StringType, true),\n",
    "        StructField(\"nv_0100\", StringType, true),\n",
    "        StructField(\"nv_1000\", StringType, true)       \n",
    "    )\n",
    ")"
   ]
  },
  {
   "cell_type": "code",
   "execution_count": null,
   "id": "7946c300",
   "metadata": {},
   "outputs": [],
   "source": [
    "val allData = spark.read.schema(schema).json(\"D:/TFGData/monthJSONLine/*.json\")\n",
    "    .select(\n",
    "            $\"fecha\".cast(DateType), \n",
    "            $\"indicativo\", \n",
    "            $\"p_max\",\n",
    "            $\"glo\".cast(DoubleType), \n",
    "            $\"hr\".cast(DoubleType), \n",
    "            $\"nw_55\".cast(IntegerType), \n",
    "            $\"tm_min\".cast(DoubleType), \n",
    "            $\"ta_max\", \n",
    "            $\"ts_min\".cast(DoubleType), \n",
    "            $\"nt_30\".cast(IntegerType), \n",
    "            $\"n_des\".cast(IntegerType), \n",
    "            $\"w_racha\", \n",
    "            $\"np_100\".cast(IntegerType), \n",
    "            $\"nw_91\".cast(IntegerType), \n",
    "            $\"np_001\".cast(IntegerType), \n",
    "            $\"ta_min\", \n",
    "            $\"w_rec\".cast(IntegerType), \n",
    "            $\"e\".cast(DoubleType), \n",
    "            $\"np_300\".cast(IntegerType), \n",
    "            $\"p_mes\".cast(DoubleType), \n",
    "            $\"w_med\".cast(DoubleType), \n",
    "            $\"nt_00\".cast(IntegerType), \n",
    "            $\"ti_max\".cast(DoubleType), \n",
    "            $\"tm_mes\".cast(DoubleType), \n",
    "            $\"tm_max\".cast(DoubleType), \n",
    "            $\"np_010\".cast(IntegerType)\n",
    "    )"
   ]
  },
  {
   "cell_type": "code",
   "execution_count": null,
   "id": "b3fe0305",
   "metadata": {},
   "outputs": [],
   "source": [
    "allData.write.format(\"parquet\").partitionBy(\"indicativo\").mode(\"overwrite\").save(\"D:/TFGData/monthParquet/\")"
   ]
  },
  {
   "cell_type": "markdown",
   "id": "6b4035ff",
   "metadata": {},
   "source": [
    "### Leer y pasar datos diarios a Parquet"
   ]
  },
  {
   "cell_type": "code",
   "execution_count": null,
   "id": "bd874b01",
   "metadata": {},
   "outputs": [],
   "source": [
    "val schema = StructType(\n",
    "    Array(\n",
    "        StructField(\"fecha\", StringType, true), \n",
    "        StructField(\"indicativo\", StringType, true),\n",
    "        StructField(\"nombre\", StringType, true),\n",
    "        StructField(\"provincia\", StringType, true),\n",
    "        StructField(\"altitud\", StringType, true),\n",
    "        StructField(\"tmed\", StringType, true),\n",
    "        StructField(\"prec\", StringType, true),\n",
    "        StructField(\"tmin\", StringType, true),\n",
    "        StructField(\"horatmin\", StringType, true),\n",
    "        StructField(\"tmax\", StringType, true),\n",
    "        StructField(\"horatmax\", StringType, true),\n",
    "        StructField(\"dir\", StringType, true),\n",
    "        StructField(\"velmedia\", StringType, true),\n",
    "        StructField(\"racha\", StringType, true),\n",
    "        StructField(\"horaracha\", StringType, true),\n",
    "        StructField(\"sol\", StringType, true),\n",
    "        StructField(\"presMax\", StringType, true),\n",
    "        StructField(\"horaPresMax\", StringType, true),\n",
    "        StructField(\"presMin\", StringType, true),\n",
    "        StructField(\"horaPresMin\", StringType, true)\n",
    "    )\n",
    ")"
   ]
  },
  {
   "cell_type": "code",
   "execution_count": null,
   "id": "7c118e5c",
   "metadata": {},
   "outputs": [],
   "source": [
    "val allData = spark.read.schema(schema).json(\"D:/TFGData/dayJSONLine/*.json\")\n",
    "    .withColumn(\"fecha\", $\"fecha\".cast(DateType))\n",
    "    .withColumn(\"altitud\", $\"altitud\".cast(IntegerType))\n",
    "    .withColumn(\"tmed\", func.regexp_replace($\"tmed\", \",\", \".\").cast(DoubleType))\n",
    "    .withColumn(\"prec\", func.regexp_replace($\"prec\", \",\", \".\").cast(DoubleType))\n",
    "    .withColumn(\"tmin\", func.regexp_replace($\"tmin\", \",\", \".\").cast(DoubleType))\n",
    "    .withColumn(\"tmax\", func.regexp_replace($\"tmax\", \",\", \".\").cast(DoubleType))\n",
    "    .withColumn(\"dir\", $\"dir\".cast(IntegerType))\n",
    "    .withColumn(\"velmedia\", func.regexp_replace($\"velmedia\", \",\", \".\").cast(DoubleType))\n",
    "    .withColumn(\"racha\", func.regexp_replace($\"racha\", \",\", \".\").cast(DoubleType))\n",
    "    .withColumn(\"sol\", func.regexp_replace($\"sol\", \",\", \".\").cast(DoubleType))\n",
    "    .withColumn(\"presMax\", func.regexp_replace($\"presMax\", \",\", \".\").cast(DoubleType))\n",
    "    .withColumn(\"horaPresMax\", $\"horaPresMax\".cast(IntegerType))\n",
    "    .withColumn(\"presMin\", func.regexp_replace($\"presMin\", \",\", \".\").cast(DoubleType))\n",
    "    .withColumn(\"horaPresMin\", $\"horaPresmin\".cast(IntegerType))"
   ]
  },
  {
   "cell_type": "code",
   "execution_count": null,
   "id": "c602d80d",
   "metadata": {},
   "outputs": [],
   "source": [
    "allData.write.format(\"parquet\").partitionBy(\"indicativo\").mode(\"overwrite\").save(\"D:/TFGData/dayParquet/\")"
   ]
  },
  {
   "cell_type": "markdown",
   "id": "565bfa11",
   "metadata": {},
   "source": [
    "### Año de la temperatura máxima promedio en cada mes"
   ]
  },
  {
   "cell_type": "code",
   "execution_count": null,
   "id": "1be0f3f8",
   "metadata": {},
   "outputs": [],
   "source": [
    "import $ivy.`org.plotly-scala::plotly-almond:0.7.0`\n",
    "import plotly._, plotly.element._, plotly.layout._, plotly.Almond._\n",
    "\n",
    "// restrict the output height to avoid scrolling in output cells\n",
    "\n",
    "repl.pprinter() = repl.pprinter().copy(defaultHeight = 3)"
   ]
  },
  {
   "cell_type": "code",
   "execution_count": null,
   "id": "9fadbed1",
   "metadata": {},
   "outputs": [],
   "source": [
    "import org.apache.spark.sql.expressions.Window\n",
    "\n",
    "val data = spark.read.parquet(\"D:/TFGData/monthParquet/*\").na.drop()\n",
    "\n",
    "val window = Window.partitionBy(\"mes\").orderBy($\"ta_max\".desc)\n",
    "\n",
    "val dataWindow = data\n",
    "    .withColumn(\"ta_max\", func.split($\"ta_max\", \"\\\\(\")(0).cast(DoubleType))\n",
    "    .groupBy($\"fecha\")\n",
    "    .agg(func.avg($\"ta_max\").alias(\"ta_max\"))\n",
    "    .select(func.month($\"fecha\").alias(\"mes\"), func.year($\"fecha\").alias(\"año\"), $\"ta_max\")\n",
    "    .withColumn(\"dense_rank\", func.dense_rank().over(window))\n",
    "    .filter($\"dense_rank\" === 1)"
   ]
  },
  {
   "cell_type": "code",
   "execution_count": null,
   "id": "2971a6d5",
   "metadata": {},
   "outputs": [],
   "source": [
    "def countByYear(year : Int) : Long = {\n",
    "    dataWindow\n",
    "        .filter($\"año\" === year)\n",
    "        .count()\n",
    "}\n",
    " \n",
    "val year2010 = countByYear(2010)\n",
    "val year2011 = countByYear(2011)\n",
    "val year2012 = countByYear(2012)\n",
    "val year2013 = countByYear(2013)\n",
    "val year2014 = countByYear(2014)\n",
    "val year2015 = countByYear(2015)\n",
    "val year2016 = countByYear(2016)\n",
    "val year2017 = countByYear(2017)\n",
    "val year2018 = countByYear(2018)\n",
    "val year2019 = countByYear(2019)\n",
    "val year2020 = countByYear(2020)\n",
    "val year2021 = countByYear(2021)\n",
    "val year2022 = countByYear(2022)"
   ]
  },
  {
   "cell_type": "code",
   "execution_count": null,
   "id": "926f11c1",
   "metadata": {},
   "outputs": [],
   "source": [
    "dataWindow\n",
    "    .withColumn(\"temperatura maxima\", func.round($\"ta_max\", 2))\n",
    "    .orderBy($\"mes\".asc)\n",
    "    //.select($\"mes\", $\"año\", $\"temperatura maxima\")\n",
    "    .show()\n",
    "\n",
    "val dataToPlot = Seq(\n",
    "  Bar(\n",
    "    Seq(2010, 2011, 2012, 2013, 2014, 2015, 2016, 2017, 2018, 2019, 2020, 2021, 2022),\n",
    "    Seq(year2010, year2011, year2012, year2013, year2014, year2015, year2016, \n",
    "        year2017, year2018, year2019, year2020, year2021, year2022),\n",
    "    marker = Marker(\n",
    "        color = Color.RGB(255, 174, 0),\n",
    "        opacity = 0.6,\n",
    "        line = Line(\n",
    "            color = Color.RGB(189, 129, 0),\n",
    "              width = 1.5\n",
    "        )\n",
    "    )\n",
    "  )\n",
    ")\n",
    "\n",
    "plot(dataToPlot)"
   ]
  },
  {
   "cell_type": "markdown",
   "id": "a6f82f55",
   "metadata": {},
   "source": [
    "### Olas de calor"
   ]
  },
  {
   "cell_type": "code",
   "execution_count": null,
   "id": "8ed29262",
   "metadata": {},
   "outputs": [],
   "source": [
    "import org.apache.spark.sql.expressions.Window\n",
    "\n",
    "val data = spark.read.parquet(\"D:/TFGData/dayParquet/\")\n",
    "val stations = spark.read.option(\"delimiter\", \";\").csv(\"D:/TFGData/aemetID.csv\")\n",
    "    .toDF(\"provincia\", \"indicativo\", \"ubicacion\")\n",
    "\n",
    "val window = Window.partitionBy($\"indicativo\", $\"año\").orderBy($\"fecha\")\n",
    "\n",
    "val results = data\n",
    "    .filter(!func.isnull($\"tmax\") && $\"tmax\" >= 40)\n",
    "    .withColumn(\"año\", func.year($\"fecha\"))\n",
    "    .withColumn(\"n_fila\", func.row_number().over(window))\n",
    "    .withColumn(\"id\", func.expr(\"date_sub(fecha, n_fila)\"))\n",
    "    .groupBy($\"indicativo\", $\"año\", $\"id\")\n",
    "    .agg(func.count($\"id\").alias(\"dias\"), func.avg($\"tmax\"), func.max($\"tmax\"), func.min($\"tmax\"))\n",
    "    .filter($\"dias\" > 3)\n",
    "    .join(stations, \"indicativo\")\n",
    "    .select($\"ubicacion\", $\"provincia\", $\"año\", $\"dias\", func.round($\"avg(tmax)\", 2).alias(\"avg(tmax)\"), \n",
    "            $\"max(tmax)\", $\"min(tmax)\")"
   ]
  },
  {
   "cell_type": "code",
   "execution_count": 3,
   "id": "bcdd0fe7",
   "metadata": {},
   "outputs": [
    {
     "data": {
      "text/html": [
       "<div>\n",
       "  <span style=\"float: left;\">run at ThreadPoolExecutor.java:1128</span>\n",
       "</div>\n"
      ]
     },
     "metadata": {},
     "output_type": "display_data"
    },
    {
     "data": {
      "text/html": [
       "<div class=\"progress\">\n",
       "  <div class=\"progress-bar\" role=\"progressbar\" style=\"background-color: blue; width: 100%; word-wrap: normal; white-space: nowrap; text-align: center; color: white\" aria-valuenow=\"100\" aria-valuemin=\"0\" aria-valuemax=\"100\">\n",
       "    1 / 1\n",
       "  </div>\n",
       "  <div class=\"progress-bar\" role=\"progressbar\" style=\"background-color: red; width: 0%\" aria-valuenow=\"0\" aria-valuemin=\"0\" aria-valuemax=\"100\"></div>\n",
       "</div>\n"
      ]
     },
     "metadata": {},
     "output_type": "display_data"
    },
    {
     "data": {
      "text/html": [
       "<div>\n",
       "  <span style=\"float: left;\">save at cmd2.sc:14</span>\n",
       "</div>\n"
      ]
     },
     "metadata": {},
     "output_type": "display_data"
    },
    {
     "data": {
      "text/html": [
       "<div class=\"progress\">\n",
       "  <div class=\"progress-bar\" role=\"progressbar\" style=\"background-color: blue; width: 100%; word-wrap: normal; white-space: nowrap; text-align: center; color: white\" aria-valuenow=\"100\" aria-valuemin=\"0\" aria-valuemax=\"100\">\n",
       "    193 / 193\n",
       "  </div>\n",
       "  <div class=\"progress-bar\" role=\"progressbar\" style=\"background-color: red; width: 0%\" aria-valuenow=\"0\" aria-valuemin=\"0\" aria-valuemax=\"100\"></div>\n",
       "</div>\n"
      ]
     },
     "metadata": {},
     "output_type": "display_data"
    },
    {
     "data": {
      "text/html": [
       "<div>\n",
       "  <span style=\"float: left;\">save at cmd2.sc:14</span>\n",
       "</div>\n"
      ]
     },
     "metadata": {},
     "output_type": "display_data"
    },
    {
     "data": {
      "text/html": [
       "<div class=\"progress\">\n",
       "  <div class=\"progress-bar\" role=\"progressbar\" style=\"background-color: blue; width: 100%; word-wrap: normal; white-space: nowrap; text-align: center; color: white\" aria-valuenow=\"100\" aria-valuemin=\"0\" aria-valuemax=\"100\">\n",
       "    64 / 64\n",
       "  </div>\n",
       "  <div class=\"progress-bar\" role=\"progressbar\" style=\"background-color: red; width: 0%\" aria-valuenow=\"0\" aria-valuemin=\"0\" aria-valuemax=\"100\"></div>\n",
       "</div>\n"
      ]
     },
     "metadata": {},
     "output_type": "display_data"
    },
    {
     "data": {
      "text/html": [
       "<div>\n",
       "  <span style=\"float: left;\">save at cmd2.sc:14</span>\n",
       "</div>\n"
      ]
     },
     "metadata": {},
     "output_type": "display_data"
    },
    {
     "data": {
      "text/html": [
       "<div class=\"progress\">\n",
       "  <div class=\"progress-bar\" role=\"progressbar\" style=\"background-color: blue; width: 100%; word-wrap: normal; white-space: nowrap; text-align: center; color: white\" aria-valuenow=\"100\" aria-valuemin=\"0\" aria-valuemax=\"100\">\n",
       "    64 / 64\n",
       "  </div>\n",
       "  <div class=\"progress-bar\" role=\"progressbar\" style=\"background-color: red; width: 0%\" aria-valuenow=\"0\" aria-valuemin=\"0\" aria-valuemax=\"100\"></div>\n",
       "</div>\n"
      ]
     },
     "metadata": {},
     "output_type": "display_data"
    },
    {
     "data": {
      "text/plain": [
       "\u001b[36mresultsSave\u001b[39m: \u001b[32mDataFrame\u001b[39m = [provincia: string, año: int ... 5 more fields]"
      ]
     },
     "execution_count": 3,
     "metadata": {},
     "output_type": "execute_result"
    }
   ],
   "source": [
    "val resultsSave = results\n",
    "    .groupBy($\"provincia\", $\"año\")\n",
    "    .agg(func.count($\"provincia\"), func.avg($\"dias\"), func.avg($\"avg(tmax)\"), func.max($\"max(tmax)\"), func.min($\"min(tmax)\"))\n",
    "    .select($\"provincia\", $\"año\", $\"count(provincia)\".alias(\"nº de olas de calor\"), \n",
    "            $\"avg(dias)\".alias(\"duracion media\"), $\"avg(avg(tmax))\".alias(\"avg(tmax)\"), \n",
    "            $\"max(max(tmax))\".alias(\"max(tmax)\"), $\"min(min(tmax))\".alias(\"min(tmax)\"))\n",
    "    \n",
    "resultsSave\n",
    "    .withColumnRenamed(\"nº de olas de calor\", \"nOlasCalor\")\n",
    "    .withColumnRenamed(\"duracion media\", \"duracionMedia\")\n",
    "    .withColumnRenamed(\"avg(tmax)\", \"avgTmax\")\n",
    "    .withColumnRenamed(\"max(tmax)\", \"maxTmax\")\n",
    "    .withColumnRenamed(\"min(tmax)\", \"minTmax\")\n",
    "    .write.format(\"parquet\").partitionBy(\"año\").mode(\"overwrite\").save(\"D:/TFGData/resultadoOlasCalor/\")"
   ]
  },
  {
   "cell_type": "code",
   "execution_count": null,
   "id": "e9cd2e23",
   "metadata": {},
   "outputs": [],
   "source": [
    "results\n",
    "    .withColumnRenamed(\"dias\", \"duracion (dias)\")\n",
    "    .withColumnRenamed(\"avg(tmax)\", \"temperatura media\")\n",
    "    .withColumnRenamed(\"max(tmax)\", \"temperatura maxima\")\n",
    "    .withColumnRenamed(\"min(tmax)\", \"temperatura minima\")\n",
    "    .orderBy($\"ubicacion\", $\"año\")\n",
    "    .show()"
   ]
  },
  {
   "cell_type": "code",
   "execution_count": null,
   "id": "bbae1f45",
   "metadata": {},
   "outputs": [],
   "source": [
    "results\n",
    "    .groupBy($\"año\")\n",
    "    .agg(func.count($\"año\").alias(\"nº olas de calor\"))\n",
    "    .orderBy($\"año\")\n",
    "    .show()"
   ]
  },
  {
   "cell_type": "markdown",
   "id": "ac0a4f7d",
   "metadata": {},
   "source": [
    "Para observar los resultados de forma gráfica en el mapa acceder al notebook `RepresentacionOlasCalor`"
   ]
  }
 ],
 "metadata": {
  "kernelspec": {
   "display_name": "Scala",
   "language": "scala",
   "name": "scala"
  },
  "language_info": {
   "codemirror_mode": "text/x-scala",
   "file_extension": ".scala",
   "mimetype": "text/x-scala",
   "name": "scala",
   "nbconvert_exporter": "script",
   "version": "2.12.8"
  }
 },
 "nbformat": 4,
 "nbformat_minor": 5
}
