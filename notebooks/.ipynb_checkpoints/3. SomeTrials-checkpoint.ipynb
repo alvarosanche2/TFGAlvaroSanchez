{
 "cells": [
  {
   "cell_type": "markdown",
   "id": "8a9d182f",
   "metadata": {},
   "source": [
    "Realizamos los imports necesarios e iniciamos una SparkSession"
   ]
  },
  {
   "cell_type": "code",
   "execution_count": 2,
   "id": "033825a5",
   "metadata": {},
   "outputs": [
    {
     "name": "stdout",
     "output_type": "stream",
     "text": [
      "Creating SparkSession\n"
     ]
    },
    {
     "data": {
      "text/html": [
       "<a href=\"http://LAPTOP-30N4Q54J.mshome.net:4043\">Spark UI</a>"
      ]
     },
     "metadata": {},
     "output_type": "display_data"
    },
    {
     "data": {
      "text/plain": [
       "\u001b[32mimport \u001b[39m\u001b[36m$ivy.$                                   \n",
       "\u001b[39m\r\n",
       "\u001b[32mimport \u001b[39m\u001b[36m$ivy.$                              \n",
       "\n",
       "\u001b[39m\r\n",
       "\u001b[32mimport \u001b[39m\u001b[36morg.apache.spark.sql.{NotebookSparkSession, SparkSession}\n",
       "\u001b[39m\r\n",
       "\u001b[32mimport \u001b[39m\u001b[36morg.apache.spark.sql.{functions => func, _}\n",
       "\u001b[39m\r\n",
       "\u001b[32mimport \u001b[39m\u001b[36morg.apache.spark.sql.types._\n",
       "\n",
       "\u001b[39m\r\n",
       "\u001b[36mspark\u001b[39m: \u001b[32mSparkSession\u001b[39m = org.apache.spark.sql.SparkSession@4f33f0de\r\n",
       "\u001b[32mimport \u001b[39m\u001b[36mspark.implicits._\n",
       "\n",
       "\u001b[39m\r\n",
       "\u001b[32mimport \u001b[39m\u001b[36morg.slf4j.LoggerFactory\n",
       "\u001b[39m\r\n",
       "\u001b[32mimport \u001b[39m\u001b[36morg.apache.log4j.{Level, Logger}\n",
       "\n",
       "\u001b[39m"
      ]
     },
     "execution_count": 2,
     "metadata": {},
     "output_type": "execute_result"
    }
   ],
   "source": [
    "import $ivy.`org.apache.spark::spark-sql:2.4.5` \n",
    "import $ivy.`sh.almond::almond-spark:0.4.0`\n",
    "\n",
    "import org.apache.spark.sql.{NotebookSparkSession, SparkSession}\n",
    "import org.apache.spark.sql.{functions => func, _}\n",
    "import org.apache.spark.sql.types._\n",
    "\n",
    "val spark = NotebookSparkSession\n",
    "      .builder()\n",
    "      .config(\"spark.sql.join.preferSortMergeJoin\", false)\n",
    "      .config(\"spark.sql.shuffle.partitions\", 64)\n",
    "      .master(\"local[*]\")\n",
    "      .getOrCreate()\n",
    "\n",
    "import spark.implicits._\n",
    "\n",
    "import org.slf4j.LoggerFactory\n",
    "import org.apache.log4j.{Level, Logger}\n",
    "\n",
    "Logger.getRootLogger().setLevel(Level.ERROR)"
   ]
  },
  {
   "cell_type": "code",
   "execution_count": 6,
   "id": "1f4e9899",
   "metadata": {},
   "outputs": [
    {
     "data": {
      "text/html": [
       "<div>\n",
       "  <span style=\"float: left;\">json at cmd5.sc:1</span>\n",
       "</div>\n"
      ]
     },
     "metadata": {},
     "output_type": "display_data"
    },
    {
     "data": {
      "text/html": [
       "<div class=\"progress\">\n",
       "  <div class=\"progress-bar\" role=\"progressbar\" style=\"background-color: blue; width: 100%; word-wrap: normal; white-space: nowrap; text-align: center; color: white\" aria-valuenow=\"100\" aria-valuemin=\"0\" aria-valuemax=\"100\">\n",
       "    1 / 1\n",
       "  </div>\n",
       "  <div class=\"progress-bar\" role=\"progressbar\" style=\"background-color: red; width: 0%\" aria-valuenow=\"0\" aria-valuemin=\"0\" aria-valuemax=\"100\"></div>\n",
       "</div>\n"
      ]
     },
     "metadata": {},
     "output_type": "display_data"
    },
    {
     "data": {
      "text/html": [
       "<div>\n",
       "  <span style=\"float: left;\">json at cmd5.sc:1</span>\n",
       "</div>\n"
      ]
     },
     "metadata": {},
     "output_type": "display_data"
    },
    {
     "data": {
      "text/html": [
       "<div class=\"progress\">\n",
       "  <div class=\"progress-bar\" role=\"progressbar\" style=\"background-color: blue; width: 100%; word-wrap: normal; white-space: nowrap; text-align: center; color: white\" aria-valuenow=\"100\" aria-valuemin=\"0\" aria-valuemax=\"100\">\n",
       "    1 / 1\n",
       "  </div>\n",
       "  <div class=\"progress-bar\" role=\"progressbar\" style=\"background-color: red; width: 0%\" aria-valuenow=\"0\" aria-valuemin=\"0\" aria-valuemax=\"100\"></div>\n",
       "</div>\n"
      ]
     },
     "metadata": {},
     "output_type": "display_data"
    },
    {
     "data": {
      "text/plain": [
       "\u001b[36mdata\u001b[39m: \u001b[32mDataFrame\u001b[39m = [e: string, fecha: string ... 34 more fields]"
      ]
     },
     "execution_count": 6,
     "metadata": {},
     "output_type": "execute_result"
    }
   ],
   "source": [
    "val data: DataFrame = spark.read.option(\"multiline\", \"true\").json(\"D:/TFGAlvaroSanchez/json_data/*.json\")"
   ]
  },
  {
   "cell_type": "code",
   "execution_count": 7,
   "id": "6d95437a",
   "metadata": {
    "scrolled": true
   },
   "outputs": [
    {
     "data": {
      "text/html": [
       "<div>\n",
       "  <span style=\"float: left;\">show at cmd6.sc:1</span>\n",
       "</div>\n"
      ]
     },
     "metadata": {},
     "output_type": "display_data"
    },
    {
     "data": {
      "text/html": [
       "<div class=\"progress\">\n",
       "  <div class=\"progress-bar\" role=\"progressbar\" style=\"background-color: blue; width: 100%; word-wrap: normal; white-space: nowrap; text-align: center; color: white\" aria-valuenow=\"100\" aria-valuemin=\"0\" aria-valuemax=\"100\">\n",
       "    1 / 1\n",
       "  </div>\n",
       "  <div class=\"progress-bar\" role=\"progressbar\" style=\"background-color: red; width: 0%\" aria-valuenow=\"0\" aria-valuemin=\"0\" aria-valuemax=\"100\"></div>\n",
       "</div>\n"
      ]
     },
     "metadata": {},
     "output_type": "display_data"
    },
    {
     "data": {
      "text/html": [
       "<div>\n",
       "  <span style=\"float: left;\">show at cmd6.sc:1</span>\n",
       "</div>\n"
      ]
     },
     "metadata": {},
     "output_type": "display_data"
    },
    {
     "data": {
      "text/html": [
       "<div class=\"progress\">\n",
       "  <div class=\"progress-bar\" role=\"progressbar\" style=\"background-color: blue; width: 100%; word-wrap: normal; white-space: nowrap; text-align: center; color: white\" aria-valuenow=\"100\" aria-valuemin=\"0\" aria-valuemax=\"100\">\n",
       "    1 / 1\n",
       "  </div>\n",
       "  <div class=\"progress-bar\" role=\"progressbar\" style=\"background-color: red; width: 0%\" aria-valuenow=\"0\" aria-valuemin=\"0\" aria-valuemax=\"100\"></div>\n",
       "</div>\n"
      ]
     },
     "metadata": {},
     "output_type": "display_data"
    },
    {
     "data": {
      "text/html": [
       "<div>\n",
       "  <span style=\"float: left;\">show at cmd6.sc:1</span>\n",
       "</div>\n"
      ]
     },
     "metadata": {},
     "output_type": "display_data"
    },
    {
     "data": {
      "text/html": [
       "<div class=\"progress\">\n",
       "  <div class=\"progress-bar\" role=\"progressbar\" style=\"background-color: blue; width: 100%; word-wrap: normal; white-space: nowrap; text-align: center; color: white\" aria-valuenow=\"100\" aria-valuemin=\"0\" aria-valuemax=\"100\">\n",
       "    1 / 1\n",
       "  </div>\n",
       "  <div class=\"progress-bar\" role=\"progressbar\" style=\"background-color: red; width: 0%\" aria-valuenow=\"0\" aria-valuemin=\"0\" aria-valuemax=\"100\"></div>\n",
       "</div>\n"
      ]
     },
     "metadata": {},
     "output_type": "display_data"
    },
    {
     "data": {
      "text/html": [
       "<div>\n",
       "  <span style=\"float: left;\">show at cmd6.sc:1</span>\n",
       "</div>\n"
      ]
     },
     "metadata": {},
     "output_type": "display_data"
    },
    {
     "data": {
      "text/html": [
       "<div class=\"progress\">\n",
       "  <div class=\"progress-bar\" role=\"progressbar\" style=\"background-color: blue; width: 100%; word-wrap: normal; white-space: nowrap; text-align: center; color: white\" aria-valuenow=\"100\" aria-valuemin=\"0\" aria-valuemax=\"100\">\n",
       "    1 / 1\n",
       "  </div>\n",
       "  <div class=\"progress-bar\" role=\"progressbar\" style=\"background-color: red; width: 0%\" aria-valuenow=\"0\" aria-valuemin=\"0\" aria-valuemax=\"100\"></div>\n",
       "</div>\n"
      ]
     },
     "metadata": {},
     "output_type": "display_data"
    },
    {
     "name": "stdout",
     "output_type": "stream",
     "text": [
      "+-----+-------+----+----------+----+-----+-----+-----+------+------+------+------+-----+-----+-------+-------+-------+-----+-----+------------+-----+-----+------+-------------+-----+-------------+------------+------------+------+------+------+------+------+-----+---------------+-----+\n",
      "|    e|  fecha|  hr|indicativo|inso|n_cub|n_des|n_nub|np_001|np_010|np_100|np_300|nt_00|nt_30|nv_0050|nv_0100|nv_1000|nw_55|nw_91|       p_max|p_mes|p_sol| q_mar|        q_max|q_med|        q_min|      ta_max|      ta_min|ti_max|tm_max|tm_mes|tm_min|ts_min|w_med|        w_racha|w_rec|\n",
      "+-----+-------+----+----------+----+-----+-----+-----+------+------+------+------+-----+-----+-------+-------+-------+-----+-----+------------+-----+-----+------+-------------+-----+-------------+------------+------------+------+------+------+------+------+-----+---------------+-----+\n",
      "| 65.0| 2019-1|75.0|     2916A| 5.8| null| null| null|   5.0|   4.0|   2.0|   0.0| 21.0|  0.0|   null|   null|   null|  2.0|  0.0|    16.2(31)| 36.0| 62.0|1023.8|    944.5(05)|932.4|    907.9(31)|    16.1(26)|    -4.7(11)|   5.6|  10.8|   5.0|  -0.8|   5.4| 13.0|    30/18.6(23)|312.0|\n",
      "| 66.0| 2019-2|62.0|     2916A| 7.6| null| null| null|   3.0|   2.0|   1.0|   0.0|  9.0|  0.0|   null|   null|   null|  2.0|  0.0|    11.2(01)| 13.2| 71.0|1024.8|    942.1(25)|934.6|    903.9(01)|    21.7(26)|    -3.4(03)|   5.4|  15.5|   8.5|   1.4|   6.5| 10.0|    23/19.4(01)|216.0|\n",
      "| 70.0| 2019-3|58.0|     2916A| 9.2| null| null| null|   4.0|   4.0|   1.0|   0.0|  5.0|  0.0|   null|   null|   null|  2.0|  0.0|    11.8(05)| 22.0| 76.0|1023.0|    942.8(09)|933.5|    912.2(06)|    23.7(16)|    -1.2(21)|  10.7|  17.5|   9.8|   2.0|   6.0| 12.0|    26/20.3(06)|295.0|\n",
      "| 86.0| 2019-4|66.0|     2916A| 6.7| null| null| null|  16.0|  14.0|   3.0|   0.0|  1.0|  0.0|   null|   null|   null|  6.0|  0.0|    18.8(18)| 97.0| 50.0|1012.4|    938.2(26)|924.2|    908.0(23)|    25.8(30)|    -3.7(04)|   9.0|  17.1|  10.7|   4.3|  10.1| 15.0|    24/20.0(24)|329.0|\n",
      "| 90.0| 2019-5|48.0|     2916A|11.3| null| null| null|   5.0|   2.0|   0.0|   0.0|  0.0|  2.0|   null|   null|   null|  2.0|  0.0|     7.2(07)| 11.2| 78.0|1015.0|    937.0(30)|928.4|    921.0(16)|    32.8(31)|     1.3(18)|  16.7|  24.0|  15.4|   6.6|  12.1| 14.0|    23/19.2(08)|321.0|\n",
      "|100.0| 2019-6|45.0|     2916A| 9.5| null| null| null|   6.0|   3.0|   1.0|   0.0|  0.0|  7.0|   null|   null|   null|  2.0|  0.0|    24.6(24)| 38.2| 63.0|1013.2|    933.2(07)|927.6|    918.2(06)|    37.0(28)|     3.2(06)|  17.6|  26.5|  18.0|   9.5|  16.5| 14.0|    21/20.6(06)|274.0|\n",
      "|116.0| 2019-7|40.0|     2916A|11.0| null| null| null|   4.0|   2.0|   1.0|   0.0|  0.0| 23.0|   null|   null|   null|  1.0|  0.0|    13.8(08)| 17.8| 75.0|1011.8|    932.2(21)|927.7|    922.8(27)|    39.5(22)|     7.3(30)|  27.3|  32.4|  23.2|  14.0|  19.2| 12.0|    22/17.2(06)|257.0|\n",
      "|112.0| 2019-8|41.0|     2916A|10.2| null| null| null|   5.0|   3.0|   1.0|   0.0|  0.0| 22.0|   null|   null|   null|  1.0|  0.0|    18.2(25)| 22.6| 74.0|1014.1|    934.1(12)|929.5|    925.0(06)|    37.4(24)|     7.2(12)|  25.0|  32.3|  23.0|  13.7|  18.8| 12.0|    22/15.8(26)|253.0|\n",
      "|106.0| 2019-9|51.0|     2916A| 9.0| null| null| null|   6.0|   5.0|   1.0|   0.0|  0.0|  6.0|   null|   null|   null|  2.0|  0.0|    11.6(16)| 24.8| 72.0|1017.2|    940.4(12)|931.1|    922.1(21)|    34.1(04)|     7.4(27)|  19.5|  27.4|  19.1|  10.9|  14.5| 13.0|    08/15.8(05)|300.0|\n",
      "|105.0|2019-10|66.0|     2916A| 5.7| null| null| null|  12.0|   9.0|   2.0|   0.0|  0.0|  2.0|   null|   null|   null|  2.0|  0.0|    10.6(17)| 62.2| 50.0|1016.7|    936.8(31)|929.2|    914.1(19)|    31.1(08)|     1.2(21)|   8.5|  21.1|  14.7|   8.2|  14.2| 11.0|    22/17.2(12)|254.0|\n",
      "| 96.0|2019-11|85.0|     2916A| 2.0| null| null| null|  23.0|  19.0|   1.0|   0.0|  4.0|  0.0|   null|   null|   null|  8.0|  0.0|    11.0(30)| 98.8| 20.0|1013.3|    935.7(01)|924.1|    902.8(22)|    19.1(01)|    -2.6(16)|   6.8|  12.2|   8.4|   4.5|  14.1| 18.0|    26/18.1(03)|433.0|\n",
      "| 86.0|2019-12|83.0|     2916A| 3.7| null| null| null|  13.0|   9.0|   4.0|   1.0|  7.0|  0.0|   null|   null|   null|  6.0|  2.0|    33.2(16)|119.7| 40.0|1020.0|    942.3(31)|929.8|    903.6(19)|    17.8(31)|    -2.1(04)|   6.2|  12.1|   7.4|   2.6|   8.0| 15.0|    26/28.3(21)|345.0|\n",
      "| 92.0|2019-13|60.0|     2916A| 7.6| null| null| null| 102.0|  76.0|  18.0|   1.0| 47.0| 62.0|   null|   null|   null| 36.0|  2.0|33.2(16/dic)|563.5| 61.0|1017.1|944.5(05/ene)|929.3|902.8(22/nov)|39.5(22/jul)|-4.7(11/ene)|   5.4|  20.7|  13.6|   6.4|  19.2| 13.0|26/28.3(21/dic)|299.0|\n",
      "| 75.0| 2020-1|81.0|     2916A| 3.3| null| null| null|  13.0|   9.0|   2.0|   0.0| 14.0|  0.0|   null|   null|   null|  6.0|  0.0|    12.2(15)| 56.2| 35.0|1026.6|    945.4(04)|935.3|    925.5(25)|    16.8(01)|    -4.7(08)|   3.8|   9.9|   5.6|   1.4|   9.4| 14.0|    06/22.2(20)|326.0|\n",
      "| 89.0| 2020-2|72.0|     2916A| 6.0| null| null| null|   8.0|   2.0|   0.0|   0.0|  3.0|  0.0|   null|   null|   null|  1.0|  0.0|     4.4(29)|  8.2| 56.0|1026.4|    944.0(23)|936.6|    921.8(29)|    22.9(24)|    -1.3(19)|  11.2|  16.3|  10.0|   3.7|  11.1| 11.0|    26/15.3(29)|250.0|\n",
      "| 85.0| 2020-3|70.0|     2916A| 5.5| null| null| null|  10.0|   8.0|   2.0|   0.0|  1.0|  0.0|   null|   null|   null|  7.0|  1.0|    16.8(01)| 48.6| 46.0|1017.3|    939.4(09)|928.2|    913.1(02)|    26.0(11)|     0.0(27)|   7.1|  15.9|   9.7|   3.6|   9.1| 14.0|    26/25.8(02)|335.0|\n",
      "|106.0| 2020-4|75.0|     2916A| 3.8| null| null| null|  21.0|  15.0|   2.0|   0.0|  1.0|  0.0|   null|   null|   null|  1.0|  0.0|    18.6(14)| 97.4| 29.0|1013.7|    934.3(08)|925.7|    918.2(13)|    23.6(25)|    -0.1(01)|  12.4|  17.5|  12.2|   6.8|  11.4| 11.0|    25/16.7(29)|252.0|\n",
      "|120.0| 2020-5|58.0|     2916A| 8.8| null| null| null|   8.0|   4.0|   1.0|   0.0|  0.0|  3.0|   null|   null|   null|  1.0|  0.0|    10.0(11)| 23.2| 61.0|1014.8|    939.1(23)|928.6|    914.9(14)|    32.4(29)|     4.4(17)|  16.8|  24.5|  17.2|   9.7|  13.9| 11.0|    23/18.3(04)|241.0|\n",
      "|111.0| 2020-6|48.0|     2916A| 9.9| null| null| null|   2.0|   1.0|   0.0|   0.0|  0.0|  9.0|   null|   null|   null|  1.0|  0.0|     2.0(12)|  2.2| 66.0|1013.4|    937.4(21)|928.0|    918.3(12)|    38.0(23)|     5.4(17)|  16.3|  27.8|  18.9|  10.0|  16.1| 14.0|    26/15.8(11)|287.0|\n",
      "| 99.0| 2020-7|30.0|     2916A|12.7| null| null| null|   0.0|   0.0|   0.0|   0.0|  0.0| 30.0|   null|   null|   null|  1.0|  0.0|     0.0(--)|  0.0| 86.0|1012.8|    935.4(04)|929.2|    924.0(08)|    39.6(27)|     9.6(03)|  28.9|  35.6|  25.5|  15.3|  18.6| 13.0|    25/18.6(11)|273.0|\n",
      "+-----+-------+----+----------+----+-----+-----+-----+------+------+------+------+-----+-----+-------+-------+-------+-----+-----+------------+-----+-----+------+-------------+-----+-------------+------------+------------+------+------+------+------+------+-----+---------------+-----+\n",
      "only showing top 20 rows\n",
      "\n"
     ]
    }
   ],
   "source": [
    "data.show()"
   ]
  },
  {
   "cell_type": "markdown",
   "id": "9e2ac2a2",
   "metadata": {},
   "source": [
    "### Obtencion de la fecha y del valor maximo de temperatura"
   ]
  },
  {
   "cell_type": "markdown",
   "id": "f4590aee",
   "metadata": {},
   "source": [
    "Con lo siguiente cambiamos el tipo de datos de la columna ta_max\n",
    "\n",
    "val data1 = data.withColumn(\"ta_max\", $\"ta_max\".substr(0,4).cast(IntegerType))"
   ]
  },
  {
   "cell_type": "code",
   "execution_count": 22,
   "id": "7e9d8457",
   "metadata": {},
   "outputs": [
    {
     "data": {
      "text/html": [
       "<div>\n",
       "  <span style=\"float: left;\">show at cmd21.sc:6</span>\n",
       "</div>\n"
      ]
     },
     "metadata": {},
     "output_type": "display_data"
    },
    {
     "data": {
      "text/html": [
       "<div class=\"progress\">\n",
       "  <div class=\"progress-bar\" role=\"progressbar\" style=\"background-color: blue; width: 100%; word-wrap: normal; white-space: nowrap; text-align: center; color: white\" aria-valuenow=\"100\" aria-valuemin=\"0\" aria-valuemax=\"100\">\n",
       "    4 / 4\n",
       "  </div>\n",
       "  <div class=\"progress-bar\" role=\"progressbar\" style=\"background-color: red; width: 0%\" aria-valuenow=\"0\" aria-valuemin=\"0\" aria-valuemax=\"100\"></div>\n",
       "</div>\n"
      ]
     },
     "metadata": {},
     "output_type": "display_data"
    },
    {
     "data": {
      "text/html": [
       "<div>\n",
       "  <span style=\"float: left;\">show at cmd21.sc:6</span>\n",
       "</div>\n"
      ]
     },
     "metadata": {},
     "output_type": "display_data"
    },
    {
     "data": {
      "text/html": [
       "<div class=\"progress\">\n",
       "  <div class=\"progress-bar\" role=\"progressbar\" style=\"background-color: blue; width: 100%; word-wrap: normal; white-space: nowrap; text-align: center; color: white\" aria-valuenow=\"100\" aria-valuemin=\"0\" aria-valuemax=\"100\">\n",
       "    4 / 4\n",
       "  </div>\n",
       "  <div class=\"progress-bar\" role=\"progressbar\" style=\"background-color: red; width: 0%\" aria-valuenow=\"0\" aria-valuemin=\"0\" aria-valuemax=\"100\"></div>\n",
       "</div>\n"
      ]
     },
     "metadata": {},
     "output_type": "display_data"
    },
    {
     "name": "stdout",
     "output_type": "stream",
     "text": [
      "+------+------------------+\n",
      "| fecha|temperatura maxima|\n",
      "+------+------------------+\n",
      "|2021-8|                41|\n",
      "+------+------------------+\n",
      "only showing top 1 row\n",
      "\n"
     ]
    },
    {
     "data": {
      "text/plain": [
       "\u001b[32mimport \u001b[39m\u001b[36morg.apache.spark.sql.functions.{min, max, desc}\n",
       "\n",
       "\u001b[39m"
      ]
     },
     "execution_count": 22,
     "metadata": {},
     "output_type": "execute_result"
    }
   ],
   "source": [
    "import org.apache.spark.sql.functions.{min, max, desc}\n",
    "\n",
    "data.withColumn(\"ta_max\", $\"ta_max\".substr(0,4).cast(IntegerType))\n",
    "    .select($\"fecha\", $\"ta_max\" as \"temperatura maxima\")\n",
    "    .orderBy($\"ta_max\".desc)\n",
    "    .show(1)"
   ]
  },
  {
   "cell_type": "code",
   "execution_count": null,
   "id": "0a9dff27",
   "metadata": {},
   "outputs": [],
   "source": []
  }
 ],
 "metadata": {
  "kernelspec": {
   "display_name": "Scala",
   "language": "scala",
   "name": "scala"
  },
  "language_info": {
   "codemirror_mode": "text/x-scala",
   "file_extension": ".scala",
   "mimetype": "text/x-scala",
   "name": "scala",
   "nbconvert_exporter": "script",
   "version": "2.12.8"
  }
 },
 "nbformat": 4,
 "nbformat_minor": 5
}
