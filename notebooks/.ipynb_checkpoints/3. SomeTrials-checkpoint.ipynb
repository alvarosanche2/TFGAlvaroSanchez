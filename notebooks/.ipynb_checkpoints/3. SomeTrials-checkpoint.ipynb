{
 "cells": [
  {
   "cell_type": "markdown",
   "id": "8a9d182f",
   "metadata": {},
   "source": [
    "Realizamos los imports necesarios e iniciamos una SparkSession"
   ]
  },
  {
   "cell_type": "code",
   "execution_count": 1,
   "id": "033825a5",
   "metadata": {},
   "outputs": [
    {
     "name": "stdout",
     "output_type": "stream",
     "text": [
      "Loading spark-stubs\n"
     ]
    },
    {
     "name": "stderr",
     "output_type": "stream",
     "text": [
      "log4j:WARN No appenders could be found for logger (org.eclipse.jetty.util.log).\n",
      "log4j:WARN Please initialize the log4j system properly.\n",
      "log4j:WARN See http://logging.apache.org/log4j/1.2/faq.html#noconfig for more info.\n"
     ]
    },
    {
     "name": "stdout",
     "output_type": "stream",
     "text": [
      "Creating SparkSession\n"
     ]
    },
    {
     "name": "stderr",
     "output_type": "stream",
     "text": [
      "Using Spark's default log4j profile: org/apache/spark/log4j-defaults.properties\n",
      "22/07/07 01:02:21 INFO SparkContext: Running Spark version 2.4.5\n",
      "22/07/07 01:02:21 INFO SparkContext: Submitted application: c0e9eaa5-ccaf-461b-a47b-f6b71d150824\n",
      "22/07/07 01:02:22 INFO SecurityManager: Changing view acls to: Alvaro\n",
      "22/07/07 01:02:22 INFO SecurityManager: Changing modify acls to: Alvaro\n",
      "22/07/07 01:02:22 INFO SecurityManager: Changing view acls groups to: \n",
      "22/07/07 01:02:22 INFO SecurityManager: Changing modify acls groups to: \n",
      "22/07/07 01:02:22 INFO SecurityManager: SecurityManager: authentication disabled; ui acls disabled; users  with view permissions: Set(Alvaro); groups with view permissions: Set(); users  with modify permissions: Set(Alvaro); groups with modify permissions: Set()\n",
      "22/07/07 01:02:23 INFO Utils: Successfully started service 'sparkDriver' on port 63937.\n",
      "22/07/07 01:02:23 INFO SparkEnv: Registering MapOutputTracker\n",
      "22/07/07 01:02:23 INFO SparkEnv: Registering BlockManagerMaster\n",
      "22/07/07 01:02:23 INFO BlockManagerMasterEndpoint: Using org.apache.spark.storage.DefaultTopologyMapper for getting topology information\n",
      "22/07/07 01:02:23 INFO BlockManagerMasterEndpoint: BlockManagerMasterEndpoint up\n",
      "22/07/07 01:02:23 INFO DiskBlockManager: Created local directory at C:\\Users\\alvar\\AppData\\Local\\Temp\\blockmgr-ca943e81-af2b-470b-923d-5644900dba9d\n",
      "22/07/07 01:02:23 INFO MemoryStore: MemoryStore started with capacity 1646.4 MB\n",
      "22/07/07 01:02:23 INFO SparkEnv: Registering OutputCommitCoordinator\n",
      "22/07/07 01:02:24 INFO Utils: Successfully started service 'SparkUI' on port 4040.\n",
      "22/07/07 01:02:24 INFO SparkUI: Bound SparkUI to 0.0.0.0, and started at http://LAPTOP-30N4Q54J:4040\n",
      "22/07/07 01:02:24 INFO SparkContext: Added JAR file:/C:/Users/alvar/AppData/Local/Coursier/cache/v1/https/jitpack.io/com/github/jupyter/jvm-repr/0.4.0/jvm-repr-0.4.0.jar at spark://LAPTOP-30N4Q54J:63937/jars/jvm-repr-0.4.0.jar with timestamp 1657148544340\n",
      "22/07/07 01:02:24 INFO SparkContext: Added JAR file:/C:/Users/alvar/AppData/Local/Coursier/cache/v1/https/repo1.maven.org/maven2/com/github/javaparser/javaparser-core/3.2.5/javaparser-core-3.2.5.jar at spark://LAPTOP-30N4Q54J:63937/jars/javaparser-core-3.2.5.jar with timestamp 1657148544342\n",
      "22/07/07 01:02:24 INFO SparkContext: Added JAR file:/C:/Users/alvar/AppData/Local/Coursier/cache/v1/https/repo1.maven.org/maven2/com/github/scopt/scopt_2.12/3.5.0/scopt_2.12-3.5.0.jar at spark://LAPTOP-30N4Q54J:63937/jars/scopt_2.12-3.5.0.jar with timestamp 1657148544343\n",
      "22/07/07 01:02:24 INFO SparkContext: Added JAR file:/C:/Users/alvar/AppData/Local/Coursier/cache/v1/https/repo1.maven.org/maven2/com/lihaoyi/acyclic_2.12/0.1.5/acyclic_2.12-0.1.5.jar at spark://LAPTOP-30N4Q54J:63937/jars/acyclic_2.12-0.1.5.jar with timestamp 1657148544344\n",
      "22/07/07 01:02:24 INFO SparkContext: Added JAR file:/C:/Users/alvar/AppData/Local/Coursier/cache/v1/https/repo1.maven.org/maven2/com/lihaoyi/ammonite-interp_2.12.8/1.6.5/ammonite-interp_2.12.8-1.6.5.jar at spark://LAPTOP-30N4Q54J:63937/jars/ammonite-interp_2.12.8-1.6.5.jar with timestamp 1657148544346\n",
      "22/07/07 01:02:24 INFO SparkContext: Added JAR file:/C:/Users/alvar/AppData/Local/Coursier/cache/v1/https/repo1.maven.org/maven2/com/lihaoyi/ammonite-ops_2.12/1.6.5/ammonite-ops_2.12-1.6.5.jar at spark://LAPTOP-30N4Q54J:63937/jars/ammonite-ops_2.12-1.6.5.jar with timestamp 1657148544349\n",
      "22/07/07 01:02:24 INFO SparkContext: Added JAR file:/C:/Users/alvar/AppData/Local/Coursier/cache/v1/https/repo1.maven.org/maven2/com/lihaoyi/ammonite-repl_2.12.8/1.6.5/ammonite-repl_2.12.8-1.6.5.jar at spark://LAPTOP-30N4Q54J:63937/jars/ammonite-repl_2.12.8-1.6.5.jar with timestamp 1657148544350\n",
      "22/07/07 01:02:24 INFO SparkContext: Added JAR file:/C:/Users/alvar/AppData/Local/Coursier/cache/v1/https/repo1.maven.org/maven2/com/lihaoyi/ammonite-runtime_2.12/1.6.5/ammonite-runtime_2.12-1.6.5.jar at spark://LAPTOP-30N4Q54J:63937/jars/ammonite-runtime_2.12-1.6.5.jar with timestamp 1657148544352\n",
      "22/07/07 01:02:24 INFO SparkContext: Added JAR file:/C:/Users/alvar/AppData/Local/Coursier/cache/v1/https/repo1.maven.org/maven2/com/lihaoyi/ammonite-terminal_2.12/1.6.5/ammonite-terminal_2.12-1.6.5.jar at spark://LAPTOP-30N4Q54J:63937/jars/ammonite-terminal_2.12-1.6.5.jar with timestamp 1657148544353\n",
      "22/07/07 01:02:24 INFO SparkContext: Added JAR file:/C:/Users/alvar/AppData/Local/Coursier/cache/v1/https/repo1.maven.org/maven2/com/lihaoyi/ammonite-util_2.12/1.6.5/ammonite-util_2.12-1.6.5.jar at spark://LAPTOP-30N4Q54J:63937/jars/ammonite-util_2.12-1.6.5.jar with timestamp 1657148544354\n",
      "22/07/07 01:02:24 INFO SparkContext: Added JAR file:/C:/Users/alvar/AppData/Local/Coursier/cache/v1/https/repo1.maven.org/maven2/com/lihaoyi/fansi_2.12/0.2.4/fansi_2.12-0.2.4.jar at spark://LAPTOP-30N4Q54J:63937/jars/fansi_2.12-0.2.4.jar with timestamp 1657148544355\n",
      "22/07/07 01:02:24 INFO SparkContext: Added JAR file:/C:/Users/alvar/AppData/Local/Coursier/cache/v1/https/repo1.maven.org/maven2/com/lihaoyi/fastparse_2.12/2.1.0/fastparse_2.12-2.1.0.jar at spark://LAPTOP-30N4Q54J:63937/jars/fastparse_2.12-2.1.0.jar with timestamp 1657148544357\n",
      "22/07/07 01:02:24 INFO SparkContext: Added JAR file:/C:/Users/alvar/AppData/Local/Coursier/cache/v1/https/repo1.maven.org/maven2/com/lihaoyi/geny_2.12/0.1.5/geny_2.12-0.1.5.jar at spark://LAPTOP-30N4Q54J:63937/jars/geny_2.12-0.1.5.jar with timestamp 1657148544358\n",
      "22/07/07 01:02:24 INFO SparkContext: Added JAR file:/C:/Users/alvar/AppData/Local/Coursier/cache/v1/https/repo1.maven.org/maven2/com/lihaoyi/os-lib_2.12/0.2.6/os-lib_2.12-0.2.6.jar at spark://LAPTOP-30N4Q54J:63937/jars/os-lib_2.12-0.2.6.jar with timestamp 1657148544359\n",
      "22/07/07 01:02:24 INFO SparkContext: Added JAR file:/C:/Users/alvar/AppData/Local/Coursier/cache/v1/https/repo1.maven.org/maven2/com/lihaoyi/pprint_2.12/0.5.2/pprint_2.12-0.5.2.jar at spark://LAPTOP-30N4Q54J:63937/jars/pprint_2.12-0.5.2.jar with timestamp 1657148544360\n",
      "22/07/07 01:02:24 INFO SparkContext: Added JAR file:/C:/Users/alvar/AppData/Local/Coursier/cache/v1/https/repo1.maven.org/maven2/com/lihaoyi/requests_2.12/0.1.7/requests_2.12-0.1.7.jar at spark://LAPTOP-30N4Q54J:63937/jars/requests_2.12-0.1.7.jar with timestamp 1657148544361\n",
      "22/07/07 01:02:24 INFO SparkContext: Added JAR file:/C:/Users/alvar/AppData/Local/Coursier/cache/v1/https/repo1.maven.org/maven2/com/lihaoyi/scalaparse_2.12/2.1.0/scalaparse_2.12-2.1.0.jar at spark://LAPTOP-30N4Q54J:63937/jars/scalaparse_2.12-2.1.0.jar with timestamp 1657148544364\n",
      "22/07/07 01:02:24 INFO SparkContext: Added JAR file:/C:/Users/alvar/AppData/Local/Coursier/cache/v1/https/repo1.maven.org/maven2/com/lihaoyi/sourcecode_2.12/0.1.5/sourcecode_2.12-0.1.5.jar at spark://LAPTOP-30N4Q54J:63937/jars/sourcecode_2.12-0.1.5.jar with timestamp 1657148544365\n",
      "22/07/07 01:02:24 INFO SparkContext: Added JAR file:/C:/Users/alvar/AppData/Local/Coursier/cache/v1/https/repo1.maven.org/maven2/com/lihaoyi/ujson_2.12/0.7.1/ujson_2.12-0.7.1.jar at spark://LAPTOP-30N4Q54J:63937/jars/ujson_2.12-0.7.1.jar with timestamp 1657148544366\n",
      "22/07/07 01:02:24 INFO SparkContext: Added JAR file:/C:/Users/alvar/AppData/Local/Coursier/cache/v1/https/repo1.maven.org/maven2/com/lihaoyi/upack_2.12/0.7.1/upack_2.12-0.7.1.jar at spark://LAPTOP-30N4Q54J:63937/jars/upack_2.12-0.7.1.jar with timestamp 1657148544367\n",
      "22/07/07 01:02:24 INFO SparkContext: Added JAR file:/C:/Users/alvar/AppData/Local/Coursier/cache/v1/https/repo1.maven.org/maven2/com/lihaoyi/upickle-core_2.12/0.7.1/upickle-core_2.12-0.7.1.jar at spark://LAPTOP-30N4Q54J:63937/jars/upickle-core_2.12-0.7.1.jar with timestamp 1657148544368\n",
      "22/07/07 01:02:24 INFO SparkContext: Added JAR file:/C:/Users/alvar/AppData/Local/Coursier/cache/v1/https/repo1.maven.org/maven2/com/lihaoyi/upickle-implicits_2.12/0.7.1/upickle-implicits_2.12-0.7.1.jar at spark://LAPTOP-30N4Q54J:63937/jars/upickle-implicits_2.12-0.7.1.jar with timestamp 1657148544369\n",
      "22/07/07 01:02:24 INFO SparkContext: Added JAR file:/C:/Users/alvar/AppData/Local/Coursier/cache/v1/https/repo1.maven.org/maven2/com/lihaoyi/upickle_2.12/0.7.1/upickle_2.12-0.7.1.jar at spark://LAPTOP-30N4Q54J:63937/jars/upickle_2.12-0.7.1.jar with timestamp 1657148544370\n",
      "22/07/07 01:02:24 INFO SparkContext: Added JAR file:/C:/Users/alvar/AppData/Local/Coursier/cache/v1/https/repo1.maven.org/maven2/com/lihaoyi/utest_2.12/0.6.4/utest_2.12-0.6.4.jar at spark://LAPTOP-30N4Q54J:63937/jars/utest_2.12-0.6.4.jar with timestamp 1657148544371\n"
     ]
    },
    {
     "name": "stderr",
     "output_type": "stream",
     "text": [
      "22/07/07 01:02:24 INFO SparkContext: Added JAR file:/C:/Users/alvar/AppData/Local/Coursier/cache/v1/https/repo1.maven.org/maven2/io/get-coursier/coursier-cache_2.12/1.1.0-M13-1/coursier-cache_2.12-1.1.0-M13-1.jar at spark://LAPTOP-30N4Q54J:63937/jars/coursier-cache_2.12-1.1.0-M13-1.jar with timestamp 1657148544372\n",
      "22/07/07 01:02:24 INFO SparkContext: Added JAR file:/C:/Users/alvar/AppData/Local/Coursier/cache/v1/https/repo1.maven.org/maven2/io/get-coursier/coursier-core_2.12/1.1.0-M13-1/coursier-core_2.12-1.1.0-M13-1.jar at spark://LAPTOP-30N4Q54J:63937/jars/coursier-core_2.12-1.1.0-M13-1.jar with timestamp 1657148544377\n",
      "22/07/07 01:02:24 INFO SparkContext: Added JAR file:/C:/Users/alvar/AppData/Local/Coursier/cache/v1/https/repo1.maven.org/maven2/io/get-coursier/coursier_2.12/1.1.0-M13-1/coursier_2.12-1.1.0-M13-1.jar at spark://LAPTOP-30N4Q54J:63937/jars/coursier_2.12-1.1.0-M13-1.jar with timestamp 1657148544383\n",
      "22/07/07 01:02:24 INFO SparkContext: Added JAR file:/C:/Users/alvar/AppData/Local/Coursier/cache/v1/https/repo1.maven.org/maven2/net/java/dev/jna/jna/4.2.2/jna-4.2.2.jar at spark://LAPTOP-30N4Q54J:63937/jars/jna-4.2.2.jar with timestamp 1657148544384\n",
      "22/07/07 01:02:24 INFO SparkContext: Added JAR file:/C:/Users/alvar/AppData/Local/Coursier/cache/v1/https/repo1.maven.org/maven2/org/javassist/javassist/3.21.0-GA/javassist-3.21.0-GA.jar at spark://LAPTOP-30N4Q54J:63937/jars/javassist-3.21.0-GA.jar with timestamp 1657148544386\n",
      "22/07/07 01:02:24 INFO SparkContext: Added JAR file:/C:/Users/alvar/AppData/Local/Coursier/cache/v1/https/repo1.maven.org/maven2/org/jline/jline-reader/3.6.2/jline-reader-3.6.2.jar at spark://LAPTOP-30N4Q54J:63937/jars/jline-reader-3.6.2.jar with timestamp 1657148544387\n",
      "22/07/07 01:02:24 INFO SparkContext: Added JAR file:/C:/Users/alvar/AppData/Local/Coursier/cache/v1/https/repo1.maven.org/maven2/org/jline/jline-terminal-jna/3.6.2/jline-terminal-jna-3.6.2.jar at spark://LAPTOP-30N4Q54J:63937/jars/jline-terminal-jna-3.6.2.jar with timestamp 1657148544390\n",
      "22/07/07 01:02:24 INFO SparkContext: Added JAR file:/C:/Users/alvar/AppData/Local/Coursier/cache/v1/https/repo1.maven.org/maven2/org/jline/jline-terminal/3.6.2/jline-terminal-3.6.2.jar at spark://LAPTOP-30N4Q54J:63937/jars/jline-terminal-3.6.2.jar with timestamp 1657148544391\n",
      "22/07/07 01:02:24 INFO SparkContext: Added JAR file:/C:/Users/alvar/AppData/Local/Coursier/cache/v1/https/repo1.maven.org/maven2/org/scala-lang/modules/scala-xml_2.12/1.1.1/scala-xml_2.12-1.1.1.jar at spark://LAPTOP-30N4Q54J:63937/jars/scala-xml_2.12-1.1.1.jar with timestamp 1657148544392\n",
      "22/07/07 01:02:24 INFO SparkContext: Added JAR file:/C:/Users/alvar/AppData/Local/Coursier/cache/v1/https/repo1.maven.org/maven2/org/scala-sbt/test-interface/1.0/test-interface-1.0.jar at spark://LAPTOP-30N4Q54J:63937/jars/test-interface-1.0.jar with timestamp 1657148544393\n",
      "22/07/07 01:02:24 INFO SparkContext: Added JAR file:/C:/Users/alvar/AppData/Local/Coursier/cache/v1/https/repo1.maven.org/maven2/sh/almond/interpreter-api_2.12/0.4.0/interpreter-api_2.12-0.4.0.jar at spark://LAPTOP-30N4Q54J:63937/jars/interpreter-api_2.12-0.4.0.jar with timestamp 1657148544395\n",
      "22/07/07 01:02:24 INFO SparkContext: Added JAR file:/C:/Users/alvar/AppData/Local/Coursier/cache/v1/https/repo1.maven.org/maven2/sh/almond/jupyter-api_2.12/0.4.0/jupyter-api_2.12-0.4.0.jar at spark://LAPTOP-30N4Q54J:63937/jars/jupyter-api_2.12-0.4.0.jar with timestamp 1657148544417\n",
      "22/07/07 01:02:24 INFO SparkContext: Added JAR file:/C:/Users/alvar/AppData/Local/Coursier/cache/v1/https/repo1.maven.org/maven2/sh/almond/scala-kernel-api_2.12.8/0.4.0/scala-kernel-api_2.12.8-0.4.0.jar at spark://LAPTOP-30N4Q54J:63937/jars/scala-kernel-api_2.12.8-0.4.0.jar with timestamp 1657148544418\n",
      "22/07/07 01:02:24 INFO SparkContext: Added JAR file:/C:/Users/alvar/AppData/Local/Coursier/cache/v1/https/repo1.maven.org/maven2/org/json4s/json4s-core_2.12/3.5.3/json4s-core_2.12-3.5.3.jar at spark://LAPTOP-30N4Q54J:63937/jars/json4s-core_2.12-3.5.3.jar with timestamp 1657148544420\n",
      "22/07/07 01:02:24 INFO SparkContext: Added JAR file:/C:/Users/alvar/AppData/Local/Coursier/cache/v1/https/repo1.maven.org/maven2/xml-apis/xml-apis/1.3.04/xml-apis-1.3.04.jar at spark://LAPTOP-30N4Q54J:63937/jars/xml-apis-1.3.04.jar with timestamp 1657148544421\n",
      "22/07/07 01:02:24 INFO SparkContext: Added JAR file:/C:/Users/alvar/AppData/Local/Coursier/cache/v1/https/repo1.maven.org/maven2/javax/servlet/javax.servlet-api/3.1.0/javax.servlet-api-3.1.0.jar at spark://LAPTOP-30N4Q54J:63937/jars/javax.servlet-api-3.1.0.jar with timestamp 1657148544422\n",
      "22/07/07 01:02:24 INFO SparkContext: Added JAR file:/C:/Users/alvar/AppData/Local/Coursier/cache/v1/https/repo1.maven.org/maven2/io/dropwizard/metrics/metrics-core/3.1.5/metrics-core-3.1.5.jar at spark://LAPTOP-30N4Q54J:63937/jars/metrics-core-3.1.5.jar with timestamp 1657148544424\n",
      "22/07/07 01:02:24 INFO SparkContext: Added JAR file:/C:/Users/alvar/AppData/Local/Coursier/cache/v1/https/repo1.maven.org/maven2/com/google/inject/guice/3.0/guice-3.0.jar at spark://LAPTOP-30N4Q54J:63937/jars/guice-3.0.jar with timestamp 1657148544426\n",
      "22/07/07 01:02:24 INFO SparkContext: Added JAR file:/C:/Users/alvar/AppData/Local/Coursier/cache/v1/https/repo1.maven.org/maven2/org/slf4j/slf4j-log4j12/1.7.16/slf4j-log4j12-1.7.16.jar at spark://LAPTOP-30N4Q54J:63937/jars/slf4j-log4j12-1.7.16.jar with timestamp 1657148544427\n",
      "22/07/07 01:02:24 INFO SparkContext: Added JAR file:/C:/Users/alvar/AppData/Local/Coursier/cache/v1/https/repo1.maven.org/maven2/org/apache/commons/commons-crypto/1.0.0/commons-crypto-1.0.0.jar at spark://LAPTOP-30N4Q54J:63937/jars/commons-crypto-1.0.0.jar with timestamp 1657148544428\n",
      "22/07/07 01:02:24 INFO SparkContext: Added JAR file:/C:/Users/alvar/AppData/Local/Coursier/cache/v1/https/repo1.maven.org/maven2/org/apache/xbean/xbean-asm6-shaded/4.8/xbean-asm6-shaded-4.8.jar at spark://LAPTOP-30N4Q54J:63937/jars/xbean-asm6-shaded-4.8.jar with timestamp 1657148544431\n",
      "22/07/07 01:02:24 INFO SparkContext: Added JAR file:/C:/Users/alvar/AppData/Local/Coursier/cache/v1/https/repo1.maven.org/maven2/xerces/xercesImpl/2.9.1/xercesImpl-2.9.1.jar at spark://LAPTOP-30N4Q54J:63937/jars/xercesImpl-2.9.1.jar with timestamp 1657148544433\n",
      "22/07/07 01:02:24 INFO SparkContext: Added JAR file:/C:/Users/alvar/AppData/Local/Coursier/cache/v1/https/repo1.maven.org/maven2/com/github/luben/zstd-jni/1.3.2-2/zstd-jni-1.3.2-2.jar at spark://LAPTOP-30N4Q54J:63937/jars/zstd-jni-1.3.2-2.jar with timestamp 1657148544435\n",
      "22/07/07 01:02:24 INFO SparkContext: Added JAR file:/C:/Users/alvar/AppData/Local/Coursier/cache/v1/https/repo1.maven.org/maven2/org/codehaus/jettison/jettison/1.1/jettison-1.1.jar at spark://LAPTOP-30N4Q54J:63937/jars/jettison-1.1.jar with timestamp 1657148544436\n",
      "22/07/07 01:02:24 INFO SparkContext: Added JAR file:/C:/Users/alvar/AppData/Local/Coursier/cache/v1/https/repo1.maven.org/maven2/org/apache/spark/spark-unsafe_2.12/2.4.5/spark-unsafe_2.12-2.4.5.jar at spark://LAPTOP-30N4Q54J:63937/jars/spark-unsafe_2.12-2.4.5.jar with timestamp 1657148544438\n",
      "22/07/07 01:02:24 INFO SparkContext: Added JAR file:/C:/Users/alvar/AppData/Local/Coursier/cache/v1/https/repo1.maven.org/maven2/org/apache/hadoop/hadoop-yarn-server-nodemanager/2.6.5/hadoop-yarn-server-nodemanager-2.6.5.jar at spark://LAPTOP-30N4Q54J:63937/jars/hadoop-yarn-server-nodemanager-2.6.5.jar with timestamp 1657148544439\n",
      "22/07/07 01:02:24 INFO SparkContext: Added JAR file:/C:/Users/alvar/AppData/Local/Coursier/cache/v1/https/repo1.maven.org/maven2/org/apache/parquet/parquet-hadoop/1.10.1/parquet-hadoop-1.10.1.jar at spark://LAPTOP-30N4Q54J:63937/jars/parquet-hadoop-1.10.1.jar with timestamp 1657148544444\n",
      "22/07/07 01:02:24 INFO SparkContext: Added JAR file:/C:/Users/alvar/AppData/Local/Coursier/cache/v1/https/repo1.maven.org/maven2/joda-time/joda-time/2.9.9/joda-time-2.9.9.jar at spark://LAPTOP-30N4Q54J:63937/jars/joda-time-2.9.9.jar with timestamp 1657148544445\n",
      "22/07/07 01:02:24 INFO SparkContext: Added JAR file:/C:/Users/alvar/AppData/Local/Coursier/cache/v1/https/repo1.maven.org/maven2/commons-io/commons-io/2.4/commons-io-2.4.jar at spark://LAPTOP-30N4Q54J:63937/jars/commons-io-2.4.jar with timestamp 1657148544450\n"
     ]
    },
    {
     "name": "stderr",
     "output_type": "stream",
     "text": [
      "22/07/07 01:02:24 INFO SparkContext: Added JAR file:/C:/Users/alvar/AppData/Local/Coursier/cache/v1/https/repo1.maven.org/maven2/commons-configuration/commons-configuration/1.6/commons-configuration-1.6.jar at spark://LAPTOP-30N4Q54J:63937/jars/commons-configuration-1.6.jar with timestamp 1657148544451\n",
      "22/07/07 01:02:24 INFO SparkContext: Added JAR file:/C:/Users/alvar/AppData/Local/Coursier/cache/v1/https/repo1.maven.org/maven2/org/antlr/antlr4-runtime/4.7/antlr4-runtime-4.7.jar at spark://LAPTOP-30N4Q54J:63937/jars/antlr4-runtime-4.7.jar with timestamp 1657148544452\n",
      "22/07/07 01:02:24 INFO SparkContext: Added JAR file:/C:/Users/alvar/AppData/Local/Coursier/cache/v1/https/repo1.maven.org/maven2/org/glassfish/jersey/core/jersey-common/2.22.2/jersey-common-2.22.2.jar at spark://LAPTOP-30N4Q54J:63937/jars/jersey-common-2.22.2.jar with timestamp 1657148544453\n",
      "22/07/07 01:02:24 INFO SparkContext: Added JAR file:/C:/Users/alvar/AppData/Local/Coursier/cache/v1/https/repo1.maven.org/maven2/io/airlift/aircompressor/0.10/aircompressor-0.10.jar at spark://LAPTOP-30N4Q54J:63937/jars/aircompressor-0.10.jar with timestamp 1657148544454\n",
      "22/07/07 01:02:24 INFO SparkContext: Added JAR file:/C:/Users/alvar/AppData/Local/Coursier/cache/v1/https/repo1.maven.org/maven2/org/apache/commons/commons-compress/1.8.1/commons-compress-1.8.1.jar at spark://LAPTOP-30N4Q54J:63937/jars/commons-compress-1.8.1.jar with timestamp 1657148544455\n",
      "22/07/07 01:02:24 INFO SparkContext: Added JAR file:/C:/Users/alvar/AppData/Local/Coursier/cache/v1/https/repo1.maven.org/maven2/org/slf4j/jcl-over-slf4j/1.7.16/jcl-over-slf4j-1.7.16.jar at spark://LAPTOP-30N4Q54J:63937/jars/jcl-over-slf4j-1.7.16.jar with timestamp 1657148544456\n",
      "22/07/07 01:02:24 INFO SparkContext: Added JAR file:/C:/Users/alvar/AppData/Local/Coursier/cache/v1/https/repo1.maven.org/maven2/org/javassist/javassist/3.18.1-GA/javassist-3.18.1-GA.jar at spark://LAPTOP-30N4Q54J:63937/jars/javassist-3.18.1-GA.jar with timestamp 1657148544459\n",
      "22/07/07 01:02:24 INFO SparkContext: Added JAR file:/C:/Users/alvar/AppData/Local/Coursier/cache/v1/https/repo1.maven.org/maven2/org/glassfish/hk2/external/aopalliance-repackaged/2.4.0-b34/aopalliance-repackaged-2.4.0-b34.jar at spark://LAPTOP-30N4Q54J:63937/jars/aopalliance-repackaged-2.4.0-b34.jar with timestamp 1657148544460\n",
      "22/07/07 01:02:24 INFO SparkContext: Added JAR file:/C:/Users/alvar/AppData/Local/Coursier/cache/v1/https/repo1.maven.org/maven2/org/lz4/lz4-java/1.4.0/lz4-java-1.4.0.jar at spark://LAPTOP-30N4Q54J:63937/jars/lz4-java-1.4.0.jar with timestamp 1657148544461\n",
      "22/07/07 01:02:24 INFO SparkContext: Added JAR file:/C:/Users/alvar/AppData/Local/Coursier/cache/v1/https/repo1.maven.org/maven2/io/netty/netty/3.9.9.Final/netty-3.9.9.Final.jar at spark://LAPTOP-30N4Q54J:63937/jars/netty-3.9.9.Final.jar with timestamp 1657148544463\n",
      "22/07/07 01:02:24 INFO SparkContext: Added JAR file:/C:/Users/alvar/AppData/Local/Coursier/cache/v1/https/repo1.maven.org/maven2/org/apache/spark/spark-network-common_2.12/2.4.5/spark-network-common_2.12-2.4.5.jar at spark://LAPTOP-30N4Q54J:63937/jars/spark-network-common_2.12-2.4.5.jar with timestamp 1657148544465\n",
      "22/07/07 01:02:24 INFO SparkContext: Added JAR file:/C:/Users/alvar/AppData/Local/Coursier/cache/v1/https/repo1.maven.org/maven2/aopalliance/aopalliance/1.0/aopalliance-1.0.jar at spark://LAPTOP-30N4Q54J:63937/jars/aopalliance-1.0.jar with timestamp 1657148544467\n",
      "22/07/07 01:02:24 INFO SparkContext: Added JAR file:/C:/Users/alvar/AppData/Local/Coursier/cache/v1/https/repo1.maven.org/maven2/com/fasterxml/jackson/core/jackson-core/2.7.9/jackson-core-2.7.9.jar at spark://LAPTOP-30N4Q54J:63937/jars/jackson-core-2.7.9.jar with timestamp 1657148544469\n",
      "22/07/07 01:02:24 INFO SparkContext: Added JAR file:/C:/Users/alvar/AppData/Local/Coursier/cache/v1/https/repo1.maven.org/maven2/org/apache/spark/spark-sql_2.12/2.4.5/spark-sql_2.12-2.4.5.jar at spark://LAPTOP-30N4Q54J:63937/jars/spark-sql_2.12-2.4.5.jar with timestamp 1657148544470\n",
      "22/07/07 01:02:24 INFO SparkContext: Added JAR file:/C:/Users/alvar/AppData/Local/Coursier/cache/v1/https/repo1.maven.org/maven2/com/google/code/gson/gson/2.2.4/gson-2.2.4.jar at spark://LAPTOP-30N4Q54J:63937/jars/gson-2.2.4.jar with timestamp 1657148544475\n",
      "22/07/07 01:02:24 INFO SparkContext: Added JAR file:/C:/Users/alvar/AppData/Local/Coursier/cache/v1/https/repo1.maven.org/maven2/org/apache/directory/api/api-util/1.0.0-M20/api-util-1.0.0-M20.jar at spark://LAPTOP-30N4Q54J:63937/jars/api-util-1.0.0-M20.jar with timestamp 1657148544477\n",
      "22/07/07 01:02:24 INFO SparkContext: Added JAR file:/C:/Users/alvar/AppData/Local/Coursier/cache/v1/https/repo1.maven.org/maven2/org/apache/hadoop/hadoop-yarn-client/2.6.5/hadoop-yarn-client-2.6.5.jar at spark://LAPTOP-30N4Q54J:63937/jars/hadoop-yarn-client-2.6.5.jar with timestamp 1657148544479\n",
      "22/07/07 01:02:24 INFO SparkContext: Added JAR file:/C:/Users/alvar/AppData/Local/Coursier/cache/v1/https/repo1.maven.org/maven2/javax/xml/bind/jaxb-api/2.2.2/jaxb-api-2.2.2.jar at spark://LAPTOP-30N4Q54J:63937/jars/jaxb-api-2.2.2.jar with timestamp 1657148544482\n",
      "22/07/07 01:02:24 INFO SparkContext: Added JAR file:/C:/Users/alvar/AppData/Local/Coursier/cache/v1/https/repo1.maven.org/maven2/org/apache/spark/spark-tags_2.12/2.4.5/spark-tags_2.12-2.4.5.jar at spark://LAPTOP-30N4Q54J:63937/jars/spark-tags_2.12-2.4.5.jar with timestamp 1657148544484\n",
      "22/07/07 01:02:24 INFO SparkContext: Added JAR file:/C:/Users/alvar/AppData/Local/Coursier/cache/v1/https/repo1.maven.org/maven2/org/apache/parquet/parquet-jackson/1.10.1/parquet-jackson-1.10.1.jar at spark://LAPTOP-30N4Q54J:63937/jars/parquet-jackson-1.10.1.jar with timestamp 1657148544485\n",
      "22/07/07 01:02:24 INFO SparkContext: Added JAR file:/C:/Users/alvar/AppData/Local/Coursier/cache/v1/https/repo1.maven.org/maven2/org/roaringbitmap/shims/0.7.45/shims-0.7.45.jar at spark://LAPTOP-30N4Q54J:63937/jars/shims-0.7.45.jar with timestamp 1657148544486\n",
      "22/07/07 01:02:24 INFO SparkContext: Added JAR file:/C:/Users/alvar/AppData/Local/Coursier/cache/v1/https/repo1.maven.org/maven2/com/thoughtworks/paranamer/paranamer/2.8/paranamer-2.8.jar at spark://LAPTOP-30N4Q54J:63937/jars/paranamer-2.8.jar with timestamp 1657148544487\n",
      "22/07/07 01:02:24 INFO SparkContext: Added JAR file:/C:/Users/alvar/AppData/Local/Coursier/cache/v1/https/repo1.maven.org/maven2/org/apache/avro/avro/1.8.2/avro-1.8.2.jar at spark://LAPTOP-30N4Q54J:63937/jars/avro-1.8.2.jar with timestamp 1657148544487\n",
      "22/07/07 01:02:24 INFO SparkContext: Added JAR file:/C:/Users/alvar/AppData/Local/Coursier/cache/v1/https/repo1.maven.org/maven2/org/apache/httpcomponents/httpcore/4.2.4/httpcore-4.2.4.jar at spark://LAPTOP-30N4Q54J:63937/jars/httpcore-4.2.4.jar with timestamp 1657148544488\n",
      "22/07/07 01:02:24 INFO SparkContext: Added JAR file:/C:/Users/alvar/AppData/Local/Coursier/cache/v1/https/repo1.maven.org/maven2/com/carrotsearch/hppc/0.7.2/hppc-0.7.2.jar at spark://LAPTOP-30N4Q54J:63937/jars/hppc-0.7.2.jar with timestamp 1657148544489\n",
      "22/07/07 01:02:24 INFO SparkContext: Added JAR file:/C:/Users/alvar/AppData/Local/Coursier/cache/v1/https/repo1.maven.org/maven2/com/fasterxml/jackson/core/jackson-databind/2.6.7.3/jackson-databind-2.6.7.3.jar at spark://LAPTOP-30N4Q54J:63937/jars/jackson-databind-2.6.7.3.jar with timestamp 1657148544490\n",
      "22/07/07 01:02:24 INFO SparkContext: Added JAR file:/C:/Users/alvar/AppData/Local/Coursier/cache/v1/https/repo1.maven.org/maven2/org/apache/spark/spark-kvstore_2.12/2.4.5/spark-kvstore_2.12-2.4.5.jar at spark://LAPTOP-30N4Q54J:63937/jars/spark-kvstore_2.12-2.4.5.jar with timestamp 1657148544491\n",
      "22/07/07 01:02:24 INFO SparkContext: Added JAR file:/C:/Users/alvar/AppData/Local/Coursier/cache/v1/https/repo1.maven.org/maven2/commons-codec/commons-codec/1.10/commons-codec-1.10.jar at spark://LAPTOP-30N4Q54J:63937/jars/commons-codec-1.10.jar with timestamp 1657148544491\n",
      "22/07/07 01:02:24 INFO SparkContext: Added JAR file:/C:/Users/alvar/AppData/Local/Coursier/cache/v1/https/repo1.maven.org/maven2/org/mortbay/jetty/jetty-util/6.1.26/jetty-util-6.1.26.jar at spark://LAPTOP-30N4Q54J:63937/jars/jetty-util-6.1.26.jar with timestamp 1657148544492\n",
      "22/07/07 01:02:24 INFO SparkContext: Added JAR file:/C:/Users/alvar/AppData/Local/Coursier/cache/v1/https/repo1.maven.org/maven2/org/apache/hadoop/hadoop-yarn-common/2.6.5/hadoop-yarn-common-2.6.5.jar at spark://LAPTOP-30N4Q54J:63937/jars/hadoop-yarn-common-2.6.5.jar with timestamp 1657148544493\n"
     ]
    },
    {
     "name": "stderr",
     "output_type": "stream",
     "text": [
      "22/07/07 01:02:24 INFO SparkContext: Added JAR file:/C:/Users/alvar/AppData/Local/Coursier/cache/v1/https/repo1.maven.org/maven2/org/json4s/json4s-scalap_2.12/3.5.3/json4s-scalap_2.12-3.5.3.jar at spark://LAPTOP-30N4Q54J:63937/jars/json4s-scalap_2.12-3.5.3.jar with timestamp 1657148544495\n",
      "22/07/07 01:02:24 INFO SparkContext: Added JAR file:/C:/Users/alvar/AppData/Local/Coursier/cache/v1/https/repo1.maven.org/maven2/commons-beanutils/commons-beanutils/1.7.0/commons-beanutils-1.7.0.jar at spark://LAPTOP-30N4Q54J:63937/jars/commons-beanutils-1.7.0.jar with timestamp 1657148544496\n",
      "22/07/07 01:02:24 INFO SparkContext: Added JAR file:/C:/Users/alvar/AppData/Local/Coursier/cache/v1/https/repo1.maven.org/maven2/org/apache/avro/avro-ipc/1.8.2/avro-ipc-1.8.2.jar at spark://LAPTOP-30N4Q54J:63937/jars/avro-ipc-1.8.2.jar with timestamp 1657148544497\n",
      "22/07/07 01:02:24 INFO SparkContext: Added JAR file:/C:/Users/alvar/AppData/Local/Coursier/cache/v1/https/repo1.maven.org/maven2/org/apache/hadoop/hadoop-auth/2.6.5/hadoop-auth-2.6.5.jar at spark://LAPTOP-30N4Q54J:63937/jars/hadoop-auth-2.6.5.jar with timestamp 1657148544499\n",
      "22/07/07 01:02:24 INFO SparkContext: Added JAR file:/C:/Users/alvar/AppData/Local/Coursier/cache/v1/https/repo1.maven.org/maven2/org/apache/arrow/arrow-vector/0.10.0/arrow-vector-0.10.0.jar at spark://LAPTOP-30N4Q54J:63937/jars/arrow-vector-0.10.0.jar with timestamp 1657148544500\n",
      "22/07/07 01:02:24 INFO SparkContext: Added JAR file:/C:/Users/alvar/AppData/Local/Coursier/cache/v1/https/repo1.maven.org/maven2/org/apache/parquet/parquet-common/1.10.1/parquet-common-1.10.1.jar at spark://LAPTOP-30N4Q54J:63937/jars/parquet-common-1.10.1.jar with timestamp 1657148544501\n",
      "22/07/07 01:02:24 INFO SparkContext: Added JAR file:/C:/Users/alvar/AppData/Local/Coursier/cache/v1/https/repo1.maven.org/maven2/com/ning/compress-lzf/1.0.3/compress-lzf-1.0.3.jar at spark://LAPTOP-30N4Q54J:63937/jars/compress-lzf-1.0.3.jar with timestamp 1657148544502\n",
      "22/07/07 01:02:24 INFO SparkContext: Added JAR file:/C:/Users/alvar/AppData/Local/Coursier/cache/v1/https/repo1.maven.org/maven2/log4j/log4j/1.2.17/log4j-1.2.17.jar at spark://LAPTOP-30N4Q54J:63937/jars/log4j-1.2.17.jar with timestamp 1657148544503\n",
      "22/07/07 01:02:24 INFO SparkContext: Added JAR file:/C:/Users/alvar/AppData/Local/Coursier/cache/v1/https/repo1.maven.org/maven2/com/clearspring/analytics/stream/2.7.0/stream-2.7.0.jar at spark://LAPTOP-30N4Q54J:63937/jars/stream-2.7.0.jar with timestamp 1657148544503\n",
      "22/07/07 01:02:24 INFO SparkContext: Added JAR file:/C:/Users/alvar/AppData/Local/Coursier/cache/v1/https/repo1.maven.org/maven2/com/vlkan/flatbuffers/1.2.0-3f79e055/flatbuffers-1.2.0-3f79e055.jar at spark://LAPTOP-30N4Q54J:63937/jars/flatbuffers-1.2.0-3f79e055.jar with timestamp 1657148544504\n",
      "22/07/07 01:02:24 INFO SparkContext: Added JAR file:/C:/Users/alvar/AppData/Local/Coursier/cache/v1/https/repo1.maven.org/maven2/org/apache/directory/server/apacheds-i18n/2.0.0-M15/apacheds-i18n-2.0.0-M15.jar at spark://LAPTOP-30N4Q54J:63937/jars/apacheds-i18n-2.0.0-M15.jar with timestamp 1657148544506\n",
      "22/07/07 01:02:24 INFO SparkContext: Added JAR file:/C:/Users/alvar/AppData/Local/Coursier/cache/v1/https/repo1.maven.org/maven2/javax/activation/activation/1.1.1/activation-1.1.1.jar at spark://LAPTOP-30N4Q54J:63937/jars/activation-1.1.1.jar with timestamp 1657148544506\n",
      "22/07/07 01:02:24 INFO SparkContext: Added JAR file:/C:/Users/alvar/AppData/Local/Coursier/cache/v1/https/repo1.maven.org/maven2/javax/inject/javax.inject/1/javax.inject-1.jar at spark://LAPTOP-30N4Q54J:63937/jars/javax.inject-1.jar with timestamp 1657148544507\n",
      "22/07/07 01:02:24 INFO SparkContext: Added JAR file:/C:/Users/alvar/AppData/Local/Coursier/cache/v1/https/repo1.maven.org/maven2/org/slf4j/jul-to-slf4j/1.7.16/jul-to-slf4j-1.7.16.jar at spark://LAPTOP-30N4Q54J:63937/jars/jul-to-slf4j-1.7.16.jar with timestamp 1657148544508\n",
      "22/07/07 01:02:24 INFO SparkContext: Added JAR file:/C:/Users/alvar/AppData/Local/Coursier/cache/v1/https/repo1.maven.org/maven2/com/esotericsoftware/minlog/1.3.0/minlog-1.3.0.jar at spark://LAPTOP-30N4Q54J:63937/jars/minlog-1.3.0.jar with timestamp 1657148544509\n",
      "22/07/07 01:02:24 INFO SparkContext: Added JAR file:/C:/Users/alvar/AppData/Local/Coursier/cache/v1/https/repo1.maven.org/maven2/xmlenc/xmlenc/0.52/xmlenc-0.52.jar at spark://LAPTOP-30N4Q54J:63937/jars/xmlenc-0.52.jar with timestamp 1657148544510\n",
      "22/07/07 01:02:24 INFO SparkContext: Added JAR file:/C:/Users/alvar/AppData/Local/Coursier/cache/v1/https/repo1.maven.org/maven2/com/univocity/univocity-parsers/2.7.3/univocity-parsers-2.7.3.jar at spark://LAPTOP-30N4Q54J:63937/jars/univocity-parsers-2.7.3.jar with timestamp 1657148544511\n",
      "22/07/07 01:02:24 INFO SparkContext: Added JAR file:/C:/Users/alvar/AppData/Local/Coursier/cache/v1/https/repo1.maven.org/maven2/org/codehaus/janino/janino/3.0.9/janino-3.0.9.jar at spark://LAPTOP-30N4Q54J:63937/jars/janino-3.0.9.jar with timestamp 1657148544512\n",
      "22/07/07 01:02:24 INFO SparkContext: Added JAR file:/C:/Users/alvar/AppData/Local/Coursier/cache/v1/https/repo1.maven.org/maven2/org/apache/spark/spark-core_2.12/2.4.5/spark-core_2.12-2.4.5.jar at spark://LAPTOP-30N4Q54J:63937/jars/spark-core_2.12-2.4.5.jar with timestamp 1657148544514\n",
      "22/07/07 01:02:24 INFO SparkContext: Added JAR file:/C:/Users/alvar/AppData/Local/Coursier/cache/v1/https/repo1.maven.org/maven2/commons-lang/commons-lang/2.6/commons-lang-2.6.jar at spark://LAPTOP-30N4Q54J:63937/jars/commons-lang-2.6.jar with timestamp 1657148544516\n",
      "22/07/07 01:02:24 INFO SparkContext: Added JAR file:/C:/Users/alvar/AppData/Local/Coursier/cache/v1/https/repo1.maven.org/maven2/org/slf4j/slf4j-api/1.7.25/slf4j-api-1.7.25.jar at spark://LAPTOP-30N4Q54J:63937/jars/slf4j-api-1.7.25.jar with timestamp 1657148544517\n",
      "22/07/07 01:02:24 INFO SparkContext: Added JAR file:/C:/Users/alvar/AppData/Local/Coursier/cache/v1/https/repo1.maven.org/maven2/oro/oro/2.0.8/oro-2.0.8.jar at spark://LAPTOP-30N4Q54J:63937/jars/oro-2.0.8.jar with timestamp 1657148544518\n",
      "22/07/07 01:02:24 INFO SparkContext: Added JAR file:/C:/Users/alvar/AppData/Local/Coursier/cache/v1/https/repo1.maven.org/maven2/javax/annotation/javax.annotation-api/1.2/javax.annotation-api-1.2.jar at spark://LAPTOP-30N4Q54J:63937/jars/javax.annotation-api-1.2.jar with timestamp 1657148544518\n",
      "22/07/07 01:02:24 INFO SparkContext: Added JAR file:/C:/Users/alvar/AppData/Local/Coursier/cache/v1/https/repo1.maven.org/maven2/commons-cli/commons-cli/1.2/commons-cli-1.2.jar at spark://LAPTOP-30N4Q54J:63937/jars/commons-cli-1.2.jar with timestamp 1657148544519\n",
      "22/07/07 01:02:24 INFO SparkContext: Added JAR file:/C:/Users/alvar/AppData/Local/Coursier/cache/v1/https/repo1.maven.org/maven2/org/apache/commons/commons-math3/3.4.1/commons-math3-3.4.1.jar at spark://LAPTOP-30N4Q54J:63937/jars/commons-math3-3.4.1.jar with timestamp 1657148544520\n",
      "22/07/07 01:02:24 INFO SparkContext: Added JAR file:/C:/Users/alvar/AppData/Local/Coursier/cache/v1/https/repo1.maven.org/maven2/org/codehaus/jackson/jackson-core-asl/1.9.13/jackson-core-asl-1.9.13.jar at spark://LAPTOP-30N4Q54J:63937/jars/jackson-core-asl-1.9.13.jar with timestamp 1657148544521\n",
      "22/07/07 01:02:24 INFO SparkContext: Added JAR file:/C:/Users/alvar/AppData/Local/Coursier/cache/v1/https/repo1.maven.org/maven2/org/apache/orc/orc-core/1.5.5/orc-core-1.5.5-nohive.jar at spark://LAPTOP-30N4Q54J:63937/jars/orc-core-1.5.5-nohive.jar with timestamp 1657148544522\n",
      "22/07/07 01:02:24 INFO SparkContext: Added JAR file:/C:/Users/alvar/AppData/Local/Coursier/cache/v1/https/repo1.maven.org/maven2/com/google/guava/guava/16.0.1/guava-16.0.1.jar at spark://LAPTOP-30N4Q54J:63937/jars/guava-16.0.1.jar with timestamp 1657148544524\n",
      "22/07/07 01:02:24 INFO SparkContext: Added JAR file:/C:/Users/alvar/AppData/Local/Coursier/cache/v1/https/repo1.maven.org/maven2/org/apache/hadoop/hadoop-yarn-server-common/2.6.5/hadoop-yarn-server-common-2.6.5.jar at spark://LAPTOP-30N4Q54J:63937/jars/hadoop-yarn-server-common-2.6.5.jar with timestamp 1657148544526\n",
      "22/07/07 01:02:24 INFO SparkContext: Added JAR file:/C:/Users/alvar/AppData/Local/Coursier/cache/v1/https/repo1.maven.org/maven2/org/glassfish/hk2/hk2-api/2.4.0-b34/hk2-api-2.4.0-b34.jar at spark://LAPTOP-30N4Q54J:63937/jars/hk2-api-2.4.0-b34.jar with timestamp 1657148544528\n"
     ]
    },
    {
     "name": "stderr",
     "output_type": "stream",
     "text": [
      "22/07/07 01:02:24 INFO SparkContext: Added JAR file:/C:/Users/alvar/AppData/Local/Coursier/cache/v1/https/repo1.maven.org/maven2/org/fusesource/leveldbjni/leveldbjni-all/1.8/leveldbjni-all-1.8.jar at spark://LAPTOP-30N4Q54J:63937/jars/leveldbjni-all-1.8.jar with timestamp 1657148544529\n",
      "22/07/07 01:02:24 INFO SparkContext: Added JAR file:/C:/Users/alvar/AppData/Local/Coursier/cache/v1/https/repo1.maven.org/maven2/org/glassfish/hk2/osgi-resource-locator/1.0.1/osgi-resource-locator-1.0.1.jar at spark://LAPTOP-30N4Q54J:63937/jars/osgi-resource-locator-1.0.1.jar with timestamp 1657148544531\n",
      "22/07/07 01:02:24 INFO SparkContext: Added JAR file:/C:/Users/alvar/AppData/Local/Coursier/cache/v1/https/repo1.maven.org/maven2/org/scala-lang/modules/scala-parser-combinators_2.12/1.1.0/scala-parser-combinators_2.12-1.1.0.jar at spark://LAPTOP-30N4Q54J:63937/jars/scala-parser-combinators_2.12-1.1.0.jar with timestamp 1657148544532\n",
      "22/07/07 01:02:24 INFO SparkContext: Added JAR file:/C:/Users/alvar/AppData/Local/Coursier/cache/v1/https/repo1.maven.org/maven2/org/apache/spark/spark-catalyst_2.12/2.4.5/spark-catalyst_2.12-2.4.5.jar at spark://LAPTOP-30N4Q54J:63937/jars/spark-catalyst_2.12-2.4.5.jar with timestamp 1657148544534\n",
      "22/07/07 01:02:24 INFO SparkContext: Added JAR file:/C:/Users/alvar/AppData/Local/Coursier/cache/v1/https/repo1.maven.org/maven2/org/apache/hadoop/hadoop-yarn-api/2.6.5/hadoop-yarn-api-2.6.5.jar at spark://LAPTOP-30N4Q54J:63937/jars/hadoop-yarn-api-2.6.5.jar with timestamp 1657148544535\n",
      "22/07/07 01:02:24 INFO SparkContext: Added JAR file:/C:/Users/alvar/AppData/Local/Coursier/cache/v1/https/repo1.maven.org/maven2/org/apache/commons/commons-lang3/3.5/commons-lang3-3.5.jar at spark://LAPTOP-30N4Q54J:63937/jars/commons-lang3-3.5.jar with timestamp 1657148544545\n",
      "22/07/07 01:02:24 INFO SparkContext: Added JAR file:/C:/Users/alvar/AppData/Local/Coursier/cache/v1/https/repo1.maven.org/maven2/commons-collections/commons-collections/3.2.2/commons-collections-3.2.2.jar at spark://LAPTOP-30N4Q54J:63937/jars/commons-collections-3.2.2.jar with timestamp 1657148544547\n",
      "22/07/07 01:02:24 INFO SparkContext: Added JAR file:/C:/Users/alvar/AppData/Local/Coursier/cache/v1/https/repo1.maven.org/maven2/org/glassfish/hk2/hk2-utils/2.4.0-b34/hk2-utils-2.4.0-b34.jar at spark://LAPTOP-30N4Q54J:63937/jars/hk2-utils-2.4.0-b34.jar with timestamp 1657148544549\n",
      "22/07/07 01:02:24 INFO SparkContext: Added JAR file:/C:/Users/alvar/AppData/Local/Coursier/cache/v1/https/repo1.maven.org/maven2/org/tukaani/xz/1.5/xz-1.5.jar at spark://LAPTOP-30N4Q54J:63937/jars/xz-1.5.jar with timestamp 1657148544549\n",
      "22/07/07 01:02:24 INFO SparkContext: Added JAR file:/C:/Users/alvar/AppData/Local/Coursier/cache/v1/https/repo1.maven.org/maven2/org/apache/hadoop/hadoop-common/2.6.5/hadoop-common-2.6.5.jar at spark://LAPTOP-30N4Q54J:63937/jars/hadoop-common-2.6.5.jar with timestamp 1657148544550\n",
      "22/07/07 01:02:24 INFO SparkContext: Added JAR file:/C:/Users/alvar/AppData/Local/Coursier/cache/v1/https/repo1.maven.org/maven2/org/apache/hadoop/hadoop-mapreduce-client-core/2.6.5/hadoop-mapreduce-client-core-2.6.5.jar at spark://LAPTOP-30N4Q54J:63937/jars/hadoop-mapreduce-client-core-2.6.5.jar with timestamp 1657148544553\n",
      "22/07/07 01:02:24 INFO SparkContext: Added JAR file:/C:/Users/alvar/AppData/Local/Coursier/cache/v1/https/repo1.maven.org/maven2/jline/jline/0.9.94/jline-0.9.94.jar at spark://LAPTOP-30N4Q54J:63937/jars/jline-0.9.94.jar with timestamp 1657148544554\n",
      "22/07/07 01:02:24 INFO SparkContext: Added JAR file:/C:/Users/alvar/AppData/Local/Coursier/cache/v1/https/repo1.maven.org/maven2/org/apache/orc/orc-mapreduce/1.5.5/orc-mapreduce-1.5.5-nohive.jar at spark://LAPTOP-30N4Q54J:63937/jars/orc-mapreduce-1.5.5-nohive.jar with timestamp 1657148544555\n",
      "22/07/07 01:02:24 INFO SparkContext: Added JAR file:/C:/Users/alvar/AppData/Local/Coursier/cache/v1/https/repo1.maven.org/maven2/org/apache/httpcomponents/httpclient/4.2.5/httpclient-4.2.5.jar at spark://LAPTOP-30N4Q54J:63937/jars/httpclient-4.2.5.jar with timestamp 1657148544557\n",
      "22/07/07 01:02:24 INFO SparkContext: Added JAR file:/C:/Users/alvar/AppData/Local/Coursier/cache/v1/https/repo1.maven.org/maven2/org/apache/hadoop/hadoop-annotations/2.6.5/hadoop-annotations-2.6.5.jar at spark://LAPTOP-30N4Q54J:63937/jars/hadoop-annotations-2.6.5.jar with timestamp 1657148544558\n",
      "22/07/07 01:02:24 INFO SparkContext: Added JAR file:/C:/Users/alvar/AppData/Local/Coursier/cache/v1/https/repo1.maven.org/maven2/org/spark-project/spark/unused/1.0.0/unused-1.0.0.jar at spark://LAPTOP-30N4Q54J:63937/jars/unused-1.0.0.jar with timestamp 1657148544559\n",
      "22/07/07 01:02:24 INFO SparkContext: Added JAR file:/C:/Users/alvar/AppData/Local/Coursier/cache/v1/https/repo1.maven.org/maven2/org/glassfish/jersey/containers/jersey-container-servlet-core/2.22.2/jersey-container-servlet-core-2.22.2.jar at spark://LAPTOP-30N4Q54J:63937/jars/jersey-container-servlet-core-2.22.2.jar with timestamp 1657148544560\n",
      "22/07/07 01:02:24 INFO SparkContext: Added JAR file:/C:/Users/alvar/AppData/Local/Coursier/cache/v1/https/repo1.maven.org/maven2/org/codehaus/janino/commons-compiler/3.0.9/commons-compiler-3.0.9.jar at spark://LAPTOP-30N4Q54J:63937/jars/commons-compiler-3.0.9.jar with timestamp 1657148544561\n",
      "22/07/07 01:02:24 INFO SparkContext: Added JAR file:/C:/Users/alvar/AppData/Local/Coursier/cache/v1/https/repo1.maven.org/maven2/org/glassfish/hk2/hk2-locator/2.4.0-b34/hk2-locator-2.4.0-b34.jar at spark://LAPTOP-30N4Q54J:63937/jars/hk2-locator-2.4.0-b34.jar with timestamp 1657148544562\n",
      "22/07/07 01:02:24 INFO SparkContext: Added JAR file:/C:/Users/alvar/AppData/Local/Coursier/cache/v1/https/repo1.maven.org/maven2/org/codehaus/jackson/jackson-mapper-asl/1.9.13/jackson-mapper-asl-1.9.13.jar at spark://LAPTOP-30N4Q54J:63937/jars/jackson-mapper-asl-1.9.13.jar with timestamp 1657148544563\n",
      "22/07/07 01:02:24 INFO SparkContext: Added JAR file:/C:/Users/alvar/AppData/Local/Coursier/cache/v1/https/repo1.maven.org/maven2/net/sf/py4j/py4j/0.10.7/py4j-0.10.7.jar at spark://LAPTOP-30N4Q54J:63937/jars/py4j-0.10.7.jar with timestamp 1657148544564\n",
      "22/07/07 01:02:24 INFO SparkContext: Added JAR file:/C:/Users/alvar/AppData/Local/Coursier/cache/v1/https/repo1.maven.org/maven2/org/apache/curator/curator-recipes/2.6.0/curator-recipes-2.6.0.jar at spark://LAPTOP-30N4Q54J:63937/jars/curator-recipes-2.6.0.jar with timestamp 1657148544565\n",
      "22/07/07 01:02:24 INFO SparkContext: Added JAR file:/C:/Users/alvar/AppData/Local/Coursier/cache/v1/https/repo1.maven.org/maven2/com/google/code/findbugs/jsr305/3.0.2/jsr305-3.0.2.jar at spark://LAPTOP-30N4Q54J:63937/jars/jsr305-3.0.2.jar with timestamp 1657148544566\n",
      "22/07/07 01:02:24 INFO SparkContext: Added JAR file:/C:/Users/alvar/AppData/Local/Coursier/cache/v1/https/repo1.maven.org/maven2/org/apache/orc/orc-shims/1.5.5/orc-shims-1.5.5.jar at spark://LAPTOP-30N4Q54J:63937/jars/orc-shims-1.5.5.jar with timestamp 1657148544567\n",
      "22/07/07 01:02:24 INFO SparkContext: Added JAR file:/C:/Users/alvar/AppData/Local/Coursier/cache/v1/https/repo1.maven.org/maven2/org/apache/curator/curator-client/2.6.0/curator-client-2.6.0.jar at spark://LAPTOP-30N4Q54J:63937/jars/curator-client-2.6.0.jar with timestamp 1657148544568\n",
      "22/07/07 01:02:24 INFO SparkContext: Added JAR file:/C:/Users/alvar/AppData/Local/Coursier/cache/v1/https/repo1.maven.org/maven2/org/xerial/snappy/snappy-java/1.1.7.3/snappy-java-1.1.7.3.jar at spark://LAPTOP-30N4Q54J:63937/jars/snappy-java-1.1.7.3.jar with timestamp 1657148544569\n",
      "22/07/07 01:02:24 INFO SparkContext: Added JAR file:/C:/Users/alvar/AppData/Local/Coursier/cache/v1/https/repo1.maven.org/maven2/javax/validation/validation-api/1.1.0.Final/validation-api-1.1.0.Final.jar at spark://LAPTOP-30N4Q54J:63937/jars/validation-api-1.1.0.Final.jar with timestamp 1657148544570\n",
      "22/07/07 01:02:24 INFO SparkContext: Added JAR file:/C:/Users/alvar/AppData/Local/Coursier/cache/v1/https/repo1.maven.org/maven2/org/apache/hadoop/hadoop-hdfs/2.6.5/hadoop-hdfs-2.6.5.jar at spark://LAPTOP-30N4Q54J:63937/jars/hadoop-hdfs-2.6.5.jar with timestamp 1657148544571\n",
      "22/07/07 01:02:24 INFO SparkContext: Added JAR file:/C:/Users/alvar/AppData/Local/Coursier/cache/v1/https/repo1.maven.org/maven2/org/apache/ivy/ivy/2.4.0/ivy-2.4.0.jar at spark://LAPTOP-30N4Q54J:63937/jars/ivy-2.4.0.jar with timestamp 1657148544572\n"
     ]
    },
    {
     "name": "stderr",
     "output_type": "stream",
     "text": [
      "22/07/07 01:02:24 INFO SparkContext: Added JAR file:/C:/Users/alvar/AppData/Local/Coursier/cache/v1/https/repo1.maven.org/maven2/javax/xml/stream/stax-api/1.0-2/stax-api-1.0-2.jar at spark://LAPTOP-30N4Q54J:63937/jars/stax-api-1.0-2.jar with timestamp 1657148544573\n",
      "22/07/07 01:02:24 INFO SparkContext: Added JAR file:/C:/Users/alvar/AppData/Local/Coursier/cache/v1/https/repo1.maven.org/maven2/org/roaringbitmap/RoaringBitmap/0.7.45/RoaringBitmap-0.7.45.jar at spark://LAPTOP-30N4Q54J:63937/jars/RoaringBitmap-0.7.45.jar with timestamp 1657148544574\n",
      "22/07/07 01:02:24 INFO SparkContext: Added JAR file:/C:/Users/alvar/AppData/Local/Coursier/cache/v1/https/repo1.maven.org/maven2/org/codehaus/jackson/jackson-jaxrs/1.9.13/jackson-jaxrs-1.9.13.jar at spark://LAPTOP-30N4Q54J:63937/jars/jackson-jaxrs-1.9.13.jar with timestamp 1657148544575\n",
      "22/07/07 01:02:24 INFO SparkContext: Added JAR file:/C:/Users/alvar/AppData/Local/Coursier/cache/v1/https/repo1.maven.org/maven2/io/dropwizard/metrics/metrics-json/3.1.5/metrics-json-3.1.5.jar at spark://LAPTOP-30N4Q54J:63937/jars/metrics-json-3.1.5.jar with timestamp 1657148544576\n",
      "22/07/07 01:02:24 INFO SparkContext: Added JAR file:/C:/Users/alvar/AppData/Local/Coursier/cache/v1/https/repo1.maven.org/maven2/org/glassfish/jersey/containers/jersey-container-servlet/2.22.2/jersey-container-servlet-2.22.2.jar at spark://LAPTOP-30N4Q54J:63937/jars/jersey-container-servlet-2.22.2.jar with timestamp 1657148544577\n",
      "22/07/07 01:02:24 INFO SparkContext: Added JAR file:/C:/Users/alvar/AppData/Local/Coursier/cache/v1/https/repo1.maven.org/maven2/org/codehaus/jackson/jackson-xc/1.9.13/jackson-xc-1.9.13.jar at spark://LAPTOP-30N4Q54J:63937/jars/jackson-xc-1.9.13.jar with timestamp 1657148544578\n",
      "22/07/07 01:02:24 INFO SparkContext: Added JAR file:/C:/Users/alvar/AppData/Local/Coursier/cache/v1/https/repo1.maven.org/maven2/javax/ws/rs/javax.ws.rs-api/2.0.1/javax.ws.rs-api-2.0.1.jar at spark://LAPTOP-30N4Q54J:63937/jars/javax.ws.rs-api-2.0.1.jar with timestamp 1657148544580\n",
      "22/07/07 01:02:24 INFO SparkContext: Added JAR file:/C:/Users/alvar/AppData/Local/Coursier/cache/v1/https/repo1.maven.org/maven2/com/fasterxml/jackson/module/jackson-module-scala_2.12/2.6.7.1/jackson-module-scala_2.12-2.6.7.1.jar at spark://LAPTOP-30N4Q54J:63937/jars/jackson-module-scala_2.12-2.6.7.1.jar with timestamp 1657148544582\n",
      "22/07/07 01:02:24 INFO SparkContext: Added JAR file:/C:/Users/alvar/AppData/Local/Coursier/cache/v1/https/repo1.maven.org/maven2/org/apache/parquet/parquet-column/1.10.1/parquet-column-1.10.1.jar at spark://LAPTOP-30N4Q54J:63937/jars/parquet-column-1.10.1.jar with timestamp 1657148544582\n",
      "22/07/07 01:02:24 INFO SparkContext: Added JAR file:/C:/Users/alvar/AppData/Local/Coursier/cache/v1/https/repo1.maven.org/maven2/com/esotericsoftware/kryo-shaded/4.0.2/kryo-shaded-4.0.2.jar at spark://LAPTOP-30N4Q54J:63937/jars/kryo-shaded-4.0.2.jar with timestamp 1657148544583\n",
      "22/07/07 01:02:24 INFO SparkContext: Added JAR file:/C:/Users/alvar/AppData/Local/Coursier/cache/v1/https/repo1.maven.org/maven2/org/apache/directory/api/api-asn1-api/1.0.0-M20/api-asn1-api-1.0.0-M20.jar at spark://LAPTOP-30N4Q54J:63937/jars/api-asn1-api-1.0.0-M20.jar with timestamp 1657148544584\n",
      "22/07/07 01:02:24 INFO SparkContext: Added JAR file:/C:/Users/alvar/AppData/Local/Coursier/cache/v1/https/repo1.maven.org/maven2/net/razorvine/pyrolite/4.13/pyrolite-4.13.jar at spark://LAPTOP-30N4Q54J:63937/jars/pyrolite-4.13.jar with timestamp 1657148544585\n",
      "22/07/07 01:02:24 INFO SparkContext: Added JAR file:/C:/Users/alvar/AppData/Local/Coursier/cache/v1/https/repo1.maven.org/maven2/org/apache/parquet/parquet-format/2.4.0/parquet-format-2.4.0.jar at spark://LAPTOP-30N4Q54J:63937/jars/parquet-format-2.4.0.jar with timestamp 1657148544587\n",
      "22/07/07 01:02:24 INFO SparkContext: Added JAR file:/C:/Users/alvar/AppData/Local/Coursier/cache/v1/https/repo1.maven.org/maven2/org/scala-lang/modules/scala-xml_2.12/1.0.6/scala-xml_2.12-1.0.6.jar at spark://LAPTOP-30N4Q54J:63937/jars/scala-xml_2.12-1.0.6.jar with timestamp 1657148544588\n",
      "22/07/07 01:02:24 INFO SparkContext: Added JAR file:/C:/Users/alvar/AppData/Local/Coursier/cache/v1/https/repo1.maven.org/maven2/org/apache/zookeeper/zookeeper/3.4.6/zookeeper-3.4.6.jar at spark://LAPTOP-30N4Q54J:63937/jars/zookeeper-3.4.6.jar with timestamp 1657148544589\n",
      "22/07/07 01:02:24 INFO SparkContext: Added JAR file:/C:/Users/alvar/AppData/Local/Coursier/cache/v1/https/repo1.maven.org/maven2/org/objenesis/objenesis/2.5.1/objenesis-2.5.1.jar at spark://LAPTOP-30N4Q54J:63937/jars/objenesis-2.5.1.jar with timestamp 1657148544593\n",
      "22/07/07 01:02:24 INFO SparkContext: Added JAR file:/C:/Users/alvar/AppData/Local/Coursier/cache/v1/https/repo1.maven.org/maven2/org/glassfish/jersey/media/jersey-media-jaxb/2.22.2/jersey-media-jaxb-2.22.2.jar at spark://LAPTOP-30N4Q54J:63937/jars/jersey-media-jaxb-2.22.2.jar with timestamp 1657148544597\n",
      "22/07/07 01:02:24 INFO SparkContext: Added JAR file:/C:/Users/alvar/AppData/Local/Coursier/cache/v1/https/repo1.maven.org/maven2/commons-httpclient/commons-httpclient/3.1/commons-httpclient-3.1.jar at spark://LAPTOP-30N4Q54J:63937/jars/commons-httpclient-3.1.jar with timestamp 1657148544606\n",
      "22/07/07 01:02:24 INFO SparkContext: Added JAR file:/C:/Users/alvar/AppData/Local/Coursier/cache/v1/https/repo1.maven.org/maven2/org/apache/hadoop/hadoop-mapreduce-client-jobclient/2.6.5/hadoop-mapreduce-client-jobclient-2.6.5.jar at spark://LAPTOP-30N4Q54J:63937/jars/hadoop-mapreduce-client-jobclient-2.6.5.jar with timestamp 1657148544607\n",
      "22/07/07 01:02:24 INFO SparkContext: Added JAR file:/C:/Users/alvar/AppData/Local/Coursier/cache/v1/https/repo1.maven.org/maven2/io/netty/netty-all/4.1.42.Final/netty-all-4.1.42.Final.jar at spark://LAPTOP-30N4Q54J:63937/jars/netty-all-4.1.42.Final.jar with timestamp 1657148544610\n",
      "22/07/07 01:02:24 INFO SparkContext: Added JAR file:/C:/Users/alvar/AppData/Local/Coursier/cache/v1/https/repo1.maven.org/maven2/org/apache/spark/spark-network-shuffle_2.12/2.4.5/spark-network-shuffle_2.12-2.4.5.jar at spark://LAPTOP-30N4Q54J:63937/jars/spark-network-shuffle_2.12-2.4.5.jar with timestamp 1657148544611\n",
      "22/07/07 01:02:24 INFO SparkContext: Added JAR file:/C:/Users/alvar/AppData/Local/Coursier/cache/v1/https/repo1.maven.org/maven2/org/apache/spark/spark-sketch_2.12/2.4.5/spark-sketch_2.12-2.4.5.jar at spark://LAPTOP-30N4Q54J:63937/jars/spark-sketch_2.12-2.4.5.jar with timestamp 1657148544611\n",
      "22/07/07 01:02:24 INFO SparkContext: Added JAR file:/C:/Users/alvar/AppData/Local/Coursier/cache/v1/https/repo1.maven.org/maven2/com/twitter/chill-java/0.9.3/chill-java-0.9.3.jar at spark://LAPTOP-30N4Q54J:63937/jars/chill-java-0.9.3.jar with timestamp 1657148544613\n",
      "22/07/07 01:02:24 INFO SparkContext: Added JAR file:/C:/Users/alvar/AppData/Local/Coursier/cache/v1/https/repo1.maven.org/maven2/org/json4s/json4s-ast_2.12/3.5.3/json4s-ast_2.12-3.5.3.jar at spark://LAPTOP-30N4Q54J:63937/jars/json4s-ast_2.12-3.5.3.jar with timestamp 1657148544615\n",
      "22/07/07 01:02:24 INFO SparkContext: Added JAR file:/C:/Users/alvar/AppData/Local/Coursier/cache/v1/https/repo1.maven.org/maven2/org/apache/avro/avro-mapred/1.8.2/avro-mapred-1.8.2-hadoop2.jar at spark://LAPTOP-30N4Q54J:63937/jars/avro-mapred-1.8.2-hadoop2.jar with timestamp 1657148544617\n",
      "22/07/07 01:02:24 INFO SparkContext: Added JAR file:/C:/Users/alvar/AppData/Local/Coursier/cache/v1/https/repo1.maven.org/maven2/org/apache/parquet/parquet-encoding/1.10.1/parquet-encoding-1.10.1.jar at spark://LAPTOP-30N4Q54J:63937/jars/parquet-encoding-1.10.1.jar with timestamp 1657148544618\n",
      "22/07/07 01:02:24 INFO SparkContext: Added JAR file:/C:/Users/alvar/AppData/Local/Coursier/cache/v1/https/repo1.maven.org/maven2/commons-net/commons-net/3.1/commons-net-3.1.jar at spark://LAPTOP-30N4Q54J:63937/jars/commons-net-3.1.jar with timestamp 1657148544619\n",
      "22/07/07 01:02:24 INFO SparkContext: Added JAR file:/C:/Users/alvar/AppData/Local/Coursier/cache/v1/https/repo1.maven.org/maven2/io/dropwizard/metrics/metrics-jvm/3.1.5/metrics-jvm-3.1.5.jar at spark://LAPTOP-30N4Q54J:63937/jars/metrics-jvm-3.1.5.jar with timestamp 1657148544619\n",
      "22/07/07 01:02:24 INFO SparkContext: Added JAR file:/C:/Users/alvar/AppData/Local/Coursier/cache/v1/https/repo1.maven.org/maven2/org/glassfish/jersey/core/jersey-client/2.22.2/jersey-client-2.22.2.jar at spark://LAPTOP-30N4Q54J:63937/jars/jersey-client-2.22.2.jar with timestamp 1657148544620\n"
     ]
    },
    {
     "name": "stderr",
     "output_type": "stream",
     "text": [
      "22/07/07 01:02:24 INFO SparkContext: Added JAR file:/C:/Users/alvar/AppData/Local/Coursier/cache/v1/https/repo1.maven.org/maven2/org/apache/arrow/arrow-memory/0.10.0/arrow-memory-0.10.0.jar at spark://LAPTOP-30N4Q54J:63937/jars/arrow-memory-0.10.0.jar with timestamp 1657148544621\n",
      "22/07/07 01:02:24 INFO SparkContext: Added JAR file:/C:/Users/alvar/AppData/Local/Coursier/cache/v1/https/repo1.maven.org/maven2/org/apache/hadoop/hadoop-mapreduce-client-shuffle/2.6.5/hadoop-mapreduce-client-shuffle-2.6.5.jar at spark://LAPTOP-30N4Q54J:63937/jars/hadoop-mapreduce-client-shuffle-2.6.5.jar with timestamp 1657148544622\n",
      "22/07/07 01:02:24 INFO SparkContext: Added JAR file:/C:/Users/alvar/AppData/Local/Coursier/cache/v1/https/repo1.maven.org/maven2/com/fasterxml/jackson/module/jackson-module-paranamer/2.7.9/jackson-module-paranamer-2.7.9.jar at spark://LAPTOP-30N4Q54J:63937/jars/jackson-module-paranamer-2.7.9.jar with timestamp 1657148544623\n",
      "22/07/07 01:02:24 INFO SparkContext: Added JAR file:/C:/Users/alvar/AppData/Local/Coursier/cache/v1/https/repo1.maven.org/maven2/org/apache/hadoop/hadoop-mapreduce-client-app/2.6.5/hadoop-mapreduce-client-app-2.6.5.jar at spark://LAPTOP-30N4Q54J:63937/jars/hadoop-mapreduce-client-app-2.6.5.jar with timestamp 1657148544624\n",
      "22/07/07 01:02:24 INFO SparkContext: Added JAR file:/C:/Users/alvar/AppData/Local/Coursier/cache/v1/https/repo1.maven.org/maven2/org/htrace/htrace-core/3.0.4/htrace-core-3.0.4.jar at spark://LAPTOP-30N4Q54J:63937/jars/htrace-core-3.0.4.jar with timestamp 1657148544625\n",
      "22/07/07 01:02:24 INFO SparkContext: Added JAR file:/C:/Users/alvar/AppData/Local/Coursier/cache/v1/https/repo1.maven.org/maven2/org/glassfish/jersey/bundles/repackaged/jersey-guava/2.22.2/jersey-guava-2.22.2.jar at spark://LAPTOP-30N4Q54J:63937/jars/jersey-guava-2.22.2.jar with timestamp 1657148544626\n",
      "22/07/07 01:02:24 INFO SparkContext: Added JAR file:/C:/Users/alvar/AppData/Local/Coursier/cache/v1/https/repo1.maven.org/maven2/commons-digester/commons-digester/1.8/commons-digester-1.8.jar at spark://LAPTOP-30N4Q54J:63937/jars/commons-digester-1.8.jar with timestamp 1657148544627\n",
      "22/07/07 01:02:24 INFO SparkContext: Added JAR file:/C:/Users/alvar/AppData/Local/Coursier/cache/v1/https/repo1.maven.org/maven2/org/apache/spark/spark-launcher_2.12/2.4.5/spark-launcher_2.12-2.4.5.jar at spark://LAPTOP-30N4Q54J:63937/jars/spark-launcher_2.12-2.4.5.jar with timestamp 1657148544628\n",
      "22/07/07 01:02:24 INFO SparkContext: Added JAR file:/C:/Users/alvar/AppData/Local/Coursier/cache/v1/https/repo1.maven.org/maven2/com/twitter/chill_2.12/0.9.3/chill_2.12-0.9.3.jar at spark://LAPTOP-30N4Q54J:63937/jars/chill_2.12-0.9.3.jar with timestamp 1657148544629\n",
      "22/07/07 01:02:24 INFO SparkContext: Added JAR file:/C:/Users/alvar/AppData/Local/Coursier/cache/v1/https/repo1.maven.org/maven2/org/apache/arrow/arrow-format/0.10.0/arrow-format-0.10.0.jar at spark://LAPTOP-30N4Q54J:63937/jars/arrow-format-0.10.0.jar with timestamp 1657148544630\n",
      "22/07/07 01:02:24 INFO SparkContext: Added JAR file:/C:/Users/alvar/AppData/Local/Coursier/cache/v1/https/repo1.maven.org/maven2/com/google/protobuf/protobuf-java/2.5.0/protobuf-java-2.5.0.jar at spark://LAPTOP-30N4Q54J:63937/jars/protobuf-java-2.5.0.jar with timestamp 1657148544632\n",
      "22/07/07 01:02:24 INFO SparkContext: Added JAR file:/C:/Users/alvar/AppData/Local/Coursier/cache/v1/https/repo1.maven.org/maven2/org/apache/directory/server/apacheds-kerberos-codec/2.0.0-M15/apacheds-kerberos-codec-2.0.0-M15.jar at spark://LAPTOP-30N4Q54J:63937/jars/apacheds-kerberos-codec-2.0.0-M15.jar with timestamp 1657148544633\n",
      "22/07/07 01:02:24 INFO SparkContext: Added JAR file:/C:/Users/alvar/AppData/Local/Coursier/cache/v1/https/repo1.maven.org/maven2/org/apache/hadoop/hadoop-client/2.6.5/hadoop-client-2.6.5.jar at spark://LAPTOP-30N4Q54J:63937/jars/hadoop-client-2.6.5.jar with timestamp 1657148544633\n",
      "22/07/07 01:02:24 INFO SparkContext: Added JAR file:/C:/Users/alvar/AppData/Local/Coursier/cache/v1/https/repo1.maven.org/maven2/io/dropwizard/metrics/metrics-graphite/3.1.5/metrics-graphite-3.1.5.jar at spark://LAPTOP-30N4Q54J:63937/jars/metrics-graphite-3.1.5.jar with timestamp 1657148544634\n",
      "22/07/07 01:02:24 INFO SparkContext: Added JAR file:/C:/Users/alvar/AppData/Local/Coursier/cache/v1/https/repo1.maven.org/maven2/org/json4s/json4s-jackson_2.12/3.5.3/json4s-jackson_2.12-3.5.3.jar at spark://LAPTOP-30N4Q54J:63937/jars/json4s-jackson_2.12-3.5.3.jar with timestamp 1657148544635\n",
      "22/07/07 01:02:24 INFO SparkContext: Added JAR file:/C:/Users/alvar/AppData/Local/Coursier/cache/v1/https/repo1.maven.org/maven2/org/glassfish/hk2/external/javax.inject/2.4.0-b34/javax.inject-2.4.0-b34.jar at spark://LAPTOP-30N4Q54J:63937/jars/javax.inject-2.4.0-b34.jar with timestamp 1657148544636\n",
      "22/07/07 01:02:24 INFO SparkContext: Added JAR file:/C:/Users/alvar/AppData/Local/Coursier/cache/v1/https/repo1.maven.org/maven2/org/glassfish/jersey/core/jersey-server/2.22.2/jersey-server-2.22.2.jar at spark://LAPTOP-30N4Q54J:63937/jars/jersey-server-2.22.2.jar with timestamp 1657148544637\n",
      "22/07/07 01:02:24 INFO SparkContext: Added JAR file:/C:/Users/alvar/AppData/Local/Coursier/cache/v1/https/repo1.maven.org/maven2/com/fasterxml/jackson/core/jackson-annotations/2.6.7/jackson-annotations-2.6.7.jar at spark://LAPTOP-30N4Q54J:63937/jars/jackson-annotations-2.6.7.jar with timestamp 1657148544638\n",
      "22/07/07 01:02:24 INFO SparkContext: Added JAR file:/C:/Users/alvar/AppData/Local/Coursier/cache/v1/https/repo1.maven.org/maven2/org/apache/hadoop/hadoop-mapreduce-client-common/2.6.5/hadoop-mapreduce-client-common-2.6.5.jar at spark://LAPTOP-30N4Q54J:63937/jars/hadoop-mapreduce-client-common-2.6.5.jar with timestamp 1657148544639\n",
      "22/07/07 01:02:24 INFO SparkContext: Added JAR file:/C:/Users/alvar/AppData/Local/Coursier/cache/v1/https/repo1.maven.org/maven2/org/apache/curator/curator-framework/2.6.0/curator-framework-2.6.0.jar at spark://LAPTOP-30N4Q54J:63937/jars/curator-framework-2.6.0.jar with timestamp 1657148544675\n",
      "22/07/07 01:02:24 INFO SparkContext: Added JAR file:/C:/Users/alvar/AppData/Local/Coursier/cache/v1/https/repo1.maven.org/maven2/sh/almond/almond-spark_2.12/0.4.0/almond-spark_2.12-0.4.0.jar at spark://LAPTOP-30N4Q54J:63937/jars/almond-spark_2.12-0.4.0.jar with timestamp 1657148544678\n",
      "22/07/07 01:02:24 INFO SparkContext: Added JAR file:/C:/Users/alvar/AppData/Local/Coursier/cache/v1/https/repo1.maven.org/maven2/io/argonaut/argonaut_2.12/6.2.3/argonaut_2.12-6.2.3.jar at spark://LAPTOP-30N4Q54J:63937/jars/argonaut_2.12-6.2.3.jar with timestamp 1657148544684\n",
      "22/07/07 01:02:24 INFO SparkContext: Added JAR file:/C:/Users/alvar/AppData/Local/Coursier/cache/v1/https/repo1.maven.org/maven2/org/eclipse/jetty/jetty-server/9.4.15.v20190215/jetty-server-9.4.15.v20190215.jar at spark://LAPTOP-30N4Q54J:63937/jars/jetty-server-9.4.15.v20190215.jar with timestamp 1657148544685\n",
      "22/07/07 01:02:24 INFO SparkContext: Added JAR file:/C:/Users/alvar/AppData/Local/Coursier/cache/v1/https/repo1.maven.org/maven2/sh/almond/ammonite-spark_2.12/0.4.0/ammonite-spark_2.12-0.4.0.jar at spark://LAPTOP-30N4Q54J:63937/jars/ammonite-spark_2.12-0.4.0.jar with timestamp 1657148544686\n",
      "22/07/07 01:02:24 INFO SparkContext: Added JAR file:/C:/Users/alvar/AppData/Local/Coursier/cache/v1/https/repo1.maven.org/maven2/com/github/alexarchambault/argonaut-shapeless_6.2_2.12/1.2.0-M10/argonaut-shapeless_6.2_2.12-1.2.0-M10.jar at spark://LAPTOP-30N4Q54J:63937/jars/argonaut-shapeless_6.2_2.12-1.2.0-M10.jar with timestamp 1657148544687\n",
      "22/07/07 01:02:24 INFO SparkContext: Added JAR file:/C:/Users/alvar/AppData/Local/Coursier/cache/v1/https/repo1.maven.org/maven2/org/eclipse/jetty/jetty-io/9.4.15.v20190215/jetty-io-9.4.15.v20190215.jar at spark://LAPTOP-30N4Q54J:63937/jars/jetty-io-9.4.15.v20190215.jar with timestamp 1657148544688\n",
      "22/07/07 01:02:24 INFO SparkContext: Added JAR file:/C:/Users/alvar/AppData/Local/Coursier/cache/v1/https/repo1.maven.org/maven2/org/typelevel/macro-compat_2.12/1.1.1/macro-compat_2.12-1.1.1.jar at spark://LAPTOP-30N4Q54J:63937/jars/macro-compat_2.12-1.1.1.jar with timestamp 1657148544689\n",
      "22/07/07 01:02:24 INFO SparkContext: Added JAR file:/C:/Users/alvar/AppData/Local/Coursier/cache/v1/https/repo1.maven.org/maven2/org/eclipse/jetty/jetty-http/9.4.15.v20190215/jetty-http-9.4.15.v20190215.jar at spark://LAPTOP-30N4Q54J:63937/jars/jetty-http-9.4.15.v20190215.jar with timestamp 1657148544690\n"
     ]
    },
    {
     "name": "stderr",
     "output_type": "stream",
     "text": [
      "22/07/07 01:02:24 INFO SparkContext: Added JAR file:/C:/Users/alvar/AppData/Local/Coursier/cache/v1/https/repo1.maven.org/maven2/org/eclipse/jetty/jetty-util/9.4.15.v20190215/jetty-util-9.4.15.v20190215.jar at spark://LAPTOP-30N4Q54J:63937/jars/jetty-util-9.4.15.v20190215.jar with timestamp 1657148544693\n",
      "22/07/07 01:02:24 INFO SparkContext: Added JAR file:/C:/Users/alvar/AppData/Local/Coursier/cache/v1/https/repo1.maven.org/maven2/com/chuusai/shapeless_2.12/2.3.3/shapeless_2.12-2.3.3.jar at spark://LAPTOP-30N4Q54J:63937/jars/shapeless_2.12-2.3.3.jar with timestamp 1657148544694\n",
      "22/07/07 01:02:24 INFO SparkContext: Added JAR file:/C:/Users/alvar/AppData/Local/Coursier/cache/v1/https/repo1.maven.org/maven2/sh/almond/spark-stubs_24_2.12/0.4.0/spark-stubs_24_2.12-0.4.0.jar at spark://LAPTOP-30N4Q54J:63937/jars/spark-stubs_24_2.12-0.4.0.jar with timestamp 1657148544701\n",
      "22/07/07 01:02:24 INFO Executor: Starting executor ID driver on host localhost\n",
      "22/07/07 01:02:25 INFO Executor: Using REPL class URI: http://192.168.56.1:63887\n",
      "22/07/07 01:02:25 INFO Utils: Successfully started service 'org.apache.spark.network.netty.NettyBlockTransferService' on port 63980.\n",
      "22/07/07 01:02:25 INFO NettyBlockTransferService: Server created on LAPTOP-30N4Q54J:63980\n",
      "22/07/07 01:02:25 INFO BlockManager: Using org.apache.spark.storage.RandomBlockReplicationPolicy for block replication policy\n",
      "22/07/07 01:02:25 INFO BlockManagerMaster: Registering BlockManager BlockManagerId(driver, LAPTOP-30N4Q54J, 63980, None)\n",
      "22/07/07 01:02:25 INFO BlockManagerMasterEndpoint: Registering block manager LAPTOP-30N4Q54J:63980 with 1646.4 MB RAM, BlockManagerId(driver, LAPTOP-30N4Q54J, 63980, None)\n",
      "22/07/07 01:02:25 INFO BlockManagerMaster: Registered BlockManager BlockManagerId(driver, LAPTOP-30N4Q54J, 63980, None)\n",
      "22/07/07 01:02:25 INFO BlockManager: Initialized BlockManager: BlockManagerId(driver, LAPTOP-30N4Q54J, 63980, None)\n"
     ]
    },
    {
     "data": {
      "text/html": [
       "<a href=\"http://LAPTOP-30N4Q54J:4040\">Spark UI</a>"
      ]
     },
     "metadata": {},
     "output_type": "display_data"
    },
    {
     "data": {
      "text/plain": [
       "\u001b[32mimport \u001b[39m\u001b[36m$ivy.$                                   \n",
       "\u001b[39m\r\n",
       "\u001b[32mimport \u001b[39m\u001b[36m$ivy.$                              \n",
       "\n",
       "\u001b[39m\r\n",
       "\u001b[32mimport \u001b[39m\u001b[36morg.apache.spark.sql.{NotebookSparkSession, SparkSession}\n",
       "\u001b[39m\r\n",
       "\u001b[32mimport \u001b[39m\u001b[36morg.apache.spark.sql.{functions => func, _}\n",
       "\u001b[39m\r\n",
       "\u001b[32mimport \u001b[39m\u001b[36morg.apache.spark.sql.types._\n",
       "\n",
       "\u001b[39m\r\n",
       "\u001b[36mspark\u001b[39m: \u001b[32mSparkSession\u001b[39m = org.apache.spark.sql.SparkSession@79fe1319\r\n",
       "\u001b[32mimport \u001b[39m\u001b[36mspark.implicits._\n",
       "\n",
       "\u001b[39m\r\n",
       "\u001b[32mimport \u001b[39m\u001b[36morg.slf4j.LoggerFactory\n",
       "\u001b[39m\r\n",
       "\u001b[32mimport \u001b[39m\u001b[36morg.apache.log4j.{Level, Logger}\n",
       "\n",
       "\u001b[39m"
      ]
     },
     "execution_count": 1,
     "metadata": {},
     "output_type": "execute_result"
    }
   ],
   "source": [
    "import $ivy.`org.apache.spark::spark-sql:2.4.5` \n",
    "import $ivy.`sh.almond::almond-spark:0.4.0`\n",
    "\n",
    "import org.apache.spark.sql.{NotebookSparkSession, SparkSession}\n",
    "import org.apache.spark.sql.{functions => func, _}\n",
    "import org.apache.spark.sql.types._\n",
    "\n",
    "val spark = NotebookSparkSession\n",
    "      .builder()\n",
    "      .config(\"spark.sql.join.preferSortMergeJoin\", false)\n",
    "      .config(\"spark.sql.shuffle.partitions\", 64)\n",
    "      .master(\"local[*]\")\n",
    "      .getOrCreate()\n",
    "\n",
    "import spark.implicits._\n",
    "\n",
    "import org.slf4j.LoggerFactory\n",
    "import org.apache.log4j.{Level, Logger}\n",
    "\n",
    "Logger.getRootLogger().setLevel(Level.ERROR)"
   ]
  },
  {
   "cell_type": "code",
   "execution_count": 2,
   "id": "1f4e9899",
   "metadata": {},
   "outputs": [
    {
     "data": {
      "text/html": [
       "<script>\n",
       "var comm = Jupyter.notebook.kernel.comm_manager.new_comm('cancel-stage-0b0c9455-3d4f-46d4-871d-9bc2854270b0', {});\n",
       "\n",
       "function cancelStage(stageId) {\n",
       "  console.log('Cancelling stage ' + stageId);\n",
       "  comm.send({ 'stageId': stageId });\n",
       "}\n",
       "</script>\n",
       "          "
      ]
     },
     "metadata": {},
     "output_type": "display_data"
    },
    {
     "data": {
      "text/html": [
       "<div>\n",
       "  <span style=\"float: left;\">json at cmd1.sc:1</span>\n",
       "</div>\n"
      ]
     },
     "metadata": {},
     "output_type": "display_data"
    },
    {
     "data": {
      "text/html": [
       "<div class=\"progress\">\n",
       "  <div class=\"progress-bar\" role=\"progressbar\" style=\"background-color: blue; width: 100%; word-wrap: normal; white-space: nowrap; text-align: center; color: white\" aria-valuenow=\"100\" aria-valuemin=\"0\" aria-valuemax=\"100\">\n",
       "    1 / 1\n",
       "  </div>\n",
       "  <div class=\"progress-bar\" role=\"progressbar\" style=\"background-color: red; width: 0%\" aria-valuenow=\"0\" aria-valuemin=\"0\" aria-valuemax=\"100\"></div>\n",
       "</div>\n"
      ]
     },
     "metadata": {},
     "output_type": "display_data"
    },
    {
     "data": {
      "text/plain": [
       "\u001b[36mdata\u001b[39m: \u001b[32mDataFrame\u001b[39m = [e: string, evap: string ... 42 more fields]"
      ]
     },
     "execution_count": 2,
     "metadata": {},
     "output_type": "execute_result"
    }
   ],
   "source": [
    "val data: DataFrame = spark.read.option(\"multiline\", \"true\").json(\"D:/TFGAlvaroSanchez/data/*.json\")"
   ]
  },
  {
   "cell_type": "code",
   "execution_count": 3,
   "id": "6d95437a",
   "metadata": {
    "scrolled": true
   },
   "outputs": [
    {
     "data": {
      "text/html": [
       "<div>\n",
       "  <span style=\"float: left;\">show at cmd2.sc:1</span>\n",
       "</div>\n"
      ]
     },
     "metadata": {},
     "output_type": "display_data"
    },
    {
     "data": {
      "text/html": [
       "<div class=\"progress\">\n",
       "  <div class=\"progress-bar\" role=\"progressbar\" style=\"background-color: blue; width: 100%; word-wrap: normal; white-space: nowrap; text-align: center; color: white\" aria-valuenow=\"100\" aria-valuemin=\"0\" aria-valuemax=\"100\">\n",
       "    1 / 1\n",
       "  </div>\n",
       "  <div class=\"progress-bar\" role=\"progressbar\" style=\"background-color: red; width: 0%\" aria-valuenow=\"0\" aria-valuemin=\"0\" aria-valuemax=\"100\"></div>\n",
       "</div>\n"
      ]
     },
     "metadata": {},
     "output_type": "display_data"
    },
    {
     "data": {
      "text/html": [
       "<div>\n",
       "  <span style=\"float: left;\">show at cmd2.sc:1</span>\n",
       "</div>\n"
      ]
     },
     "metadata": {},
     "output_type": "display_data"
    },
    {
     "data": {
      "text/html": [
       "<div class=\"progress\">\n",
       "  <div class=\"progress-bar\" role=\"progressbar\" style=\"background-color: blue; width: 100%; word-wrap: normal; white-space: nowrap; text-align: center; color: white\" aria-valuenow=\"100\" aria-valuemin=\"0\" aria-valuemax=\"100\">\n",
       "    1 / 1\n",
       "  </div>\n",
       "  <div class=\"progress-bar\" role=\"progressbar\" style=\"background-color: red; width: 0%\" aria-valuenow=\"0\" aria-valuemin=\"0\" aria-valuemax=\"100\"></div>\n",
       "</div>\n"
      ]
     },
     "metadata": {},
     "output_type": "display_data"
    },
    {
     "name": "stdout",
     "output_type": "stream",
     "text": [
      "+-----+------+-------+-------+----+----------+----+-----+-----+-----+-----+-----+-----+-----+-----+------+------+------+------+-----+-----+-------+-------+-------+-----+-----+------------+-----+-----+------+-------------+------+-------------+------------+-------------+------+------+------+------+-----+------+-----+---------------+-----+\n",
      "|    e|  evap|  fecha|    glo|  hr|indicativo|inso|n_cub|n_des|n_fog|n_gra|n_llu|n_nie|n_nub|n_tor|np_001|np_010|np_100|np_300|nt_00|nt_30|nv_0050|nv_0100|nv_1000|nw_55|nw_91|       p_max|p_mes|p_sol| q_mar|        q_max| q_med|        q_min|      ta_max|       ta_min|ti_max|tm_max|tm_mes|tm_min|ts_20|ts_min|w_med|        w_racha|w_rec|\n",
      "+-----+------+-------+-------+----+----------+----+-----+-----+-----+-----+-----+-----+-----+-----+------+------+------+------+-----+-----+-------+-------+-------+-----+-----+------------+-----+-----+------+-------------+------+-------------+------------+-------------+------+------+------+------+-----+------+-----+---------------+-----+\n",
      "| 66.0|  null| 2021-1|   null|78.0|      3129| 4.8| 11.0|  7.0|  5.0|  0.0|  7.0|  3.0| 13.0|  1.0|  11.0|   8.0|   2.0|   0.0| 20.0|  0.0|    0.0|    0.0|    0.0|  7.0|  0.0|    21.2(08)| 52.1| 50.0|1019.6|    962.6(17)| 949.5|    934.3(09)|    18.6(27)|    -13.4(12)|   0.3|   8.1|   3.2|  -1.7| null|   9.5| 11.0|    99/21.1(22)|251.0|\n",
      "| 88.0|  null| 2021-2|   null|74.0|      3129| 4.8|  9.0|  2.0|  0.0|  0.0| 10.0|  0.0| 17.0|  0.0|   8.0|   7.0|   1.0|   0.0|  0.0|  0.0|    0.0|    0.0|    0.0|  3.0|  0.0|    13.5(09)| 39.7| 44.0|1018.4|    965.8(24)| 950.0|    933.7(09)|    19.6(27)|      0.2(23)|   9.7|  14.6|   9.3|   4.0| null|   8.5| 11.0|    24/17.5(18)|242.0|\n",
      "| 71.0|  null| 2021-3|   null|58.0|      3129| 7.3|  7.0| 11.0|  0.0|  0.0|  2.0|  0.0| 13.0|  0.0|   2.0|   1.0|   0.0|   0.0|  5.0|  0.0|    0.0|    0.0|    0.0|  1.0|  0.0|     3.2(08)|  3.3| 61.0|1022.1|    961.5(03)| 953.6|    942.9(19)|    24.1(31)|     -2.6(21)|   9.6|  16.9|  10.0|   3.0| null|   7.2|  9.0|    35/16.1(19)|207.0|\n",
      "| 95.0|  null| 2021-4|   null|63.0|      3129| 5.6| 10.0|  5.0|  0.0|  0.0| 19.0|  0.0| 15.0|  1.0|  19.0|  14.0|   2.0|   0.0|  0.0|  0.0|    0.0|    0.0|    0.0|  0.0|  0.0|    16.9(10)| 72.5| 43.0|1014.1|    957.2(12)| 946.9|    936.5(27)|    23.5(06)|      1.3(17)|  12.7|  18.5|  12.7|   6.8| null|  10.4|  9.0|    23/15.0(10)|209.0|\n",
      "|101.0|  null| 2021-5|   null|47.0|      3129| 9.2|  5.0|  6.0|  0.0|  0.0| 13.0|  0.0| 20.0|  2.0|  10.0|   4.0|   1.0|   0.0|  0.0|  4.0|    0.0|    0.0|    0.0|  3.0|  0.0|    15.8(31)| 24.0| 63.0|1014.7|    956.8(25)| 948.8|    938.3(09)|    32.8(30)|      4.8(01)|  17.7|  25.2|  17.6|  10.0| null|  16.3| 12.0|    20/18.6(09)|273.0|\n",
      "|115.0|  null| 2021-6|   null|41.0|      3129| 9.7|  4.0|  6.0|  1.0|  0.0| 10.0|  0.0| 20.0|  5.0|   6.0|   2.0|   1.0|   0.0|  0.0| 16.0|    0.0|    0.0|    0.0|  6.0|  0.0|    14.9(16)| 18.8| 65.0|1013.7|    955.5(05)| 948.9|    941.2(16)|    35.3(09)|     11.7(02)|  21.6|  29.8|  22.4|  15.0| null|  19.3| 13.0|    22/17.5(27)|264.0|\n",
      "|105.0|  null| 2021-7|   null|31.0|      3129|12.4|  0.0| 20.0|  0.0|  0.0|  3.0|  0.0| 11.0|  1.0|   3.0|   1.0|   0.0|   0.0|  0.0| 25.0|    0.0|    0.0|    0.0|  7.0|  0.0|     3.2(25)|  4.2| 84.0|1012.2|    956.1(08)| 948.1|    942.1(25)|    40.5(11)|     10.4(07)|  25.2|  33.7|  25.0|  16.3| null|  20.2| 13.0|    22/16.9(11)|273.0|\n",
      "|111.0|  null| 2021-8|   null|31.0|      3129|11.4|  0.0| 14.0|  0.0|  1.0|  2.0|  0.0| 17.0|  2.0|   2.0|   2.0|   1.0|   0.0|  0.0| 30.0|    0.0|    0.0|    0.0|  4.0|  0.0|    19.7(31)| 23.6| 83.0|1012.0|    955.0(13)| 948.1|    940.2(06)|    42.7(14)|     12.5(01)|  28.2|  34.8|  26.2|  17.6| null|  22.7| 12.0|    23/19.7(15)|240.0|\n",
      "|133.0|  null| 2021-9|   null|56.0|      3129| 7.1|  5.0|  4.0|  0.0|  0.0|  7.0|  0.0| 21.0|  4.0|   6.0|   5.0|   2.0|   0.0|  0.0|  5.0|    0.0|    0.0|    0.0|  1.0|  0.0|    24.8(14)| 56.8| 57.0|1016.3|    958.9(30)| 950.6|    945.8(14)|    33.4(06)|      9.7(19)|  20.1|  26.6|  20.5|  14.3| null|  18.9| 10.0|    21/16.4(18)|211.0|\n",
      "|106.0|  null|2021-10|   null|60.0|      3129| 7.7|  4.0| 11.0|  0.0|  0.0|  6.0|  0.0| 16.0|  0.0|   6.0|   5.0|   2.0|   1.0|  0.0|  0.0|    0.0|    0.0|    0.0|  1.0|  0.0|    48.3(29)| 80.9| 69.0|1018.6|    959.5(19)| 951.6|    937.4(30)|    26.9(08)|      1.9(24)|  15.8|  22.7|  15.5|   8.2| null|  14.1|  8.0|    99/15.3(31)|178.0|\n",
      "| 73.0|  null|2021-11|   null|67.0|      3129| 6.3|  5.0| 11.0|  1.0|  0.0|  6.0|  0.0| 14.0|  0.0|   5.0|   2.0|   1.0|   0.0|  5.0|  0.0|    0.0|    0.0|    0.0|  1.0|  0.0|    11.3(22)| 15.1| 63.0|1018.1|    959.6(19)| 949.3|    937.7(27)|    19.1(12)|     -2.7(28)|   6.2|  14.0|   8.2|   2.4| null|  11.4| 10.0|    29/16.9(29)|234.0|\n",
      "| 85.0|  null|2021-12|   null|77.0|      3129| 5.2|  6.0|  7.0|  7.0|  0.0|  9.0|  0.0| 18.0|  0.0|   8.0|   5.0|   0.0|   0.0| 10.0|  0.0|    0.0|    0.0|    0.0|  6.0|  0.0|     8.1(26)| 23.8| 55.0|1022.2|    961.8(31)| 953.1|    938.8(25)|    18.3(11)|     -3.0(17)|   9.1|  13.5|   8.0|   2.4| null|   9.6| 10.0|    24/18.6(09)|238.0|\n",
      "| 96.0|  null|2021-13|   null|57.0|      3129| 7.6| 66.0|104.0| 14.0|  1.0| 94.0|  3.0|195.0| 16.0|  86.0|  56.0|  13.0|   1.0| 40.0| 80.0|    0.0|    0.0|    0.0| 40.0|  0.0|48.3(29/oct)|414.8| 61.0|1016.8|965.8(24/feb)| 949.9|933.7(09/feb)|42.7(14/ago)|-13.4(12/ene)|   0.3|  21.5|  14.9|   8.2| null|  22.7| 11.0|99/21.1(22/ene)|235.0|\n",
      "|145.0|1186.0| 2021-1|38807.0|67.0|     C449C| 6.3| null| null|  0.0|  0.0| 12.0|  0.0| null|  0.0|   6.0|   6.0|   1.0|   1.0|  0.0|  0.0|    0.0|    0.0|    0.0|  1.0|  0.0|    43.9(08)| 70.1| 59.0|1021.1|   1025.8(14)|1016.8|    998.0(08)|    25.6(31)|     13.2(09)|  18.3|  21.5|  18.6|  15.7| null|  18.3| 10.0|    34/15.8(09)|203.0|\n",
      "|134.0|  null| 2021-2|48454.0|63.0|     C449C| 8.3| null| null|  0.0|  0.0| 11.0|  0.0| null|  0.0|   7.0|   6.0|   2.0|   1.0|  0.0|  0.0|    0.0|    0.0|    0.0|  3.0|  0.0|    30.8(05)| 54.4| 74.0|1020.4|   1024.8(25)|1016.1|   1004.9(05)|    24.2(15)|     11.8(05)|  17.2|  21.8|  18.6|  15.3| null|  17.5| 10.0|    32/24.2(20)|240.0|\n",
      "|132.0|1229.0| 2021-3|64443.0|59.0|     C449C| 8.8| null| null|  0.0|  0.0|  9.0|  0.0| null|  0.0|   8.0|   4.0|   0.0|   0.0|  0.0|  0.0|    0.0|    0.0|    0.0|  2.0|  0.0|     4.6(08)| 14.0| 73.0|1018.0|   1021.5(11)|1013.9|   1004.8(26)|    29.6(25)|     14.2(23)|  20.5|  22.8|  19.6|  16.4| null|  18.9| 13.0|    30/15.3(05)|269.0|\n",
      "|153.0|  null| 2021-4|68089.0|62.0|     C449C| 9.1| null| null|  0.0|  0.0|  8.0|  0.0| null|  0.0|   3.0|   3.0|   0.0|   0.0|  0.0|  0.0|    0.0|    0.0|    0.0|  0.0|  0.0|     8.0(29)| 11.6| 71.0|1016.2|   1017.1(12)|1012.0|   1006.1(25)|    26.5(21)|     16.0(06)|  21.9|  23.9|  20.9|  17.9| null|  19.8| 10.0|    32/13.3(30)|230.0|\n",
      "|143.0|  null| 2021-5|80609.0|54.0|     C449C| 9.9| null| null|  0.0|  0.0|  8.0|  0.0| null|  0.0|   1.0|   0.0|   0.0|   0.0|  0.0|  2.0|    0.0|    0.0|    0.0|  2.0|  0.0|     0.2(02)|  0.2| 73.0|1018.2|   1020.1(11)|1014.0|   1009.2(22)|    30.9(20)|     16.8(06)|  22.5|  25.3|  22.2|  19.1| null|  24.2| 13.0|    28/16.9(15)|286.0|\n",
      "|157.0|  null| 2021-6|77206.0|55.0|     C449C| 9.8| null| null|  0.0|  0.0| 10.0|  0.0| null|  0.0|   0.0|   0.0|   0.0|   0.0|  0.0|  1.0|    0.0|    0.0|    0.0|  0.0|  0.0|     0.0(--)|  0.0| 70.0|1018.8|   1021.3(04)|1014.6|   1009.5(01)|    30.7(10)|     17.6(01)|  23.5|  26.4|  23.2|  20.0| null|  23.7| 12.0|    34/13.6(20)|250.0|\n",
      "|181.0|  null| 2021-7|88061.0|56.0|     C449C|11.9| null| null|  0.0|  0.0|  5.0|  0.0| null|  0.0|   0.0|   0.0|   0.0|   0.0|  0.0|  8.0|    0.0|    0.0|    0.0|  4.0|  0.0|     0.0(--)|  0.0| 86.0|1016.2|   1017.5(08)|1012.1|   1007.3(10)|    32.3(18)|     19.4(02)|  25.8|  29.0|  25.3|  21.6| null|  23.8| 12.0|    31/17.2(22)|252.0|\n",
      "+-----+------+-------+-------+----+----------+----+-----+-----+-----+-----+-----+-----+-----+-----+------+------+------+------+-----+-----+-------+-------+-------+-----+-----+------------+-----+-----+------+-------------+------+-------------+------------+-------------+------+------+------+------+-----+------+-----+---------------+-----+\n",
      "only showing top 20 rows\n",
      "\n"
     ]
    }
   ],
   "source": [
    "data.show()"
   ]
  },
  {
   "cell_type": "markdown",
   "id": "9e2ac2a2",
   "metadata": {},
   "source": [
    "### Obtencion de la fecha y del valor maximo de temperatura"
   ]
  },
  {
   "cell_type": "markdown",
   "id": "f4590aee",
   "metadata": {},
   "source": [
    "Con lo siguiente cambiamos el tipo de datos de la columna ta_max\n",
    "\n",
    "val data1 = data.withColumn(\"ta_max\", $\"ta_max\".substr(0,4).cast(IntegerType))"
   ]
  },
  {
   "cell_type": "code",
   "execution_count": 4,
   "id": "7e9d8457",
   "metadata": {},
   "outputs": [
    {
     "data": {
      "text/html": [
       "<div>\n",
       "  <span style=\"float: left;\">show at cmd3.sc:6</span>\n",
       "</div>\n"
      ]
     },
     "metadata": {},
     "output_type": "display_data"
    },
    {
     "data": {
      "text/html": [
       "<div class=\"progress\">\n",
       "  <div class=\"progress-bar\" role=\"progressbar\" style=\"background-color: blue; width: 100%; word-wrap: normal; white-space: nowrap; text-align: center; color: white\" aria-valuenow=\"100\" aria-valuemin=\"0\" aria-valuemax=\"100\">\n",
       "    8 / 8\n",
       "  </div>\n",
       "  <div class=\"progress-bar\" role=\"progressbar\" style=\"background-color: red; width: 0%\" aria-valuenow=\"0\" aria-valuemin=\"0\" aria-valuemax=\"100\"></div>\n",
       "</div>\n"
      ]
     },
     "metadata": {},
     "output_type": "display_data"
    },
    {
     "name": "stdout",
     "output_type": "stream",
     "text": [
      "+------+------------------+\n",
      "| fecha|temperatura maxima|\n",
      "+------+------------------+\n",
      "|2021-8|                42|\n",
      "+------+------------------+\n",
      "only showing top 1 row\n",
      "\n"
     ]
    },
    {
     "data": {
      "text/plain": [
       "\u001b[32mimport \u001b[39m\u001b[36morg.apache.spark.sql.functions.{min, max, desc}\n",
       "\n",
       "\u001b[39m"
      ]
     },
     "execution_count": 4,
     "metadata": {},
     "output_type": "execute_result"
    }
   ],
   "source": [
    "import org.apache.spark.sql.functions.{min, max, desc}\n",
    "\n",
    "data.withColumn(\"ta_max\", $\"ta_max\".substr(0,4).cast(IntegerType))\n",
    "    .select($\"fecha\", $\"ta_max\" as \"temperatura maxima\")\n",
    "    .orderBy($\"ta_max\".desc)\n",
    "    .show(1)"
   ]
  },
  {
   "cell_type": "markdown",
   "id": "38cfd3f1",
   "metadata": {
    "scrolled": true
   },
   "source": [
    "### Obtencion del mes, año, id estacion y provincia donde ocurren la stemperaturas mas altas en 2021"
   ]
  },
  {
   "cell_type": "code",
   "execution_count": 5,
   "id": "4bf439ab",
   "metadata": {},
   "outputs": [
    {
     "data": {
      "text/html": [
       "<div>\n",
       "  <span style=\"float: left;\">json at cmd4.sc:1</span>\n",
       "</div>\n"
      ]
     },
     "metadata": {},
     "output_type": "display_data"
    },
    {
     "data": {
      "text/html": [
       "<div class=\"progress\">\n",
       "  <div class=\"progress-bar\" role=\"progressbar\" style=\"background-color: blue; width: 100%; word-wrap: normal; white-space: nowrap; text-align: center; color: white\" aria-valuenow=\"100\" aria-valuemin=\"0\" aria-valuemax=\"100\">\n",
       "    1 / 1\n",
       "  </div>\n",
       "  <div class=\"progress-bar\" role=\"progressbar\" style=\"background-color: red; width: 0%\" aria-valuenow=\"0\" aria-valuemin=\"0\" aria-valuemax=\"100\"></div>\n",
       "</div>\n"
      ]
     },
     "metadata": {},
     "output_type": "display_data"
    },
    {
     "data": {
      "text/plain": [
       "\u001b[36mdata2021\u001b[39m: \u001b[32mDataFrame\u001b[39m = [e: string, evap: string ... 42 more fields]"
      ]
     },
     "execution_count": 5,
     "metadata": {},
     "output_type": "execute_result"
    }
   ],
   "source": [
    "val data2021 : DataFrame = spark.read.option(\"multiline\", \"true\").json(\"D:/TFGAlvaroSanchez/data/*2021.json\")"
   ]
  },
  {
   "cell_type": "code",
   "execution_count": 6,
   "id": "bab2f3ba",
   "metadata": {},
   "outputs": [
    {
     "data": {
      "text/html": [
       "<div>\n",
       "  <span style=\"float: left;\">show at cmd5.sc:2</span>\n",
       "</div>\n"
      ]
     },
     "metadata": {},
     "output_type": "display_data"
    },
    {
     "data": {
      "text/html": [
       "<div class=\"progress\">\n",
       "  <div class=\"progress-bar\" role=\"progressbar\" style=\"background-color: blue; width: 100%; word-wrap: normal; white-space: nowrap; text-align: center; color: white\" aria-valuenow=\"100\" aria-valuemin=\"0\" aria-valuemax=\"100\">\n",
       "    1 / 1\n",
       "  </div>\n",
       "  <div class=\"progress-bar\" role=\"progressbar\" style=\"background-color: red; width: 0%\" aria-valuenow=\"0\" aria-valuemin=\"0\" aria-valuemax=\"100\"></div>\n",
       "</div>\n"
      ]
     },
     "metadata": {},
     "output_type": "display_data"
    },
    {
     "data": {
      "text/html": [
       "<div>\n",
       "  <span style=\"float: left;\">show at cmd5.sc:2</span>\n",
       "</div>\n"
      ]
     },
     "metadata": {},
     "output_type": "display_data"
    },
    {
     "data": {
      "text/html": [
       "<div class=\"progress\">\n",
       "  <div class=\"progress-bar\" role=\"progressbar\" style=\"background-color: blue; width: 100%; word-wrap: normal; white-space: nowrap; text-align: center; color: white\" aria-valuenow=\"100\" aria-valuemin=\"0\" aria-valuemax=\"100\">\n",
       "    4 / 4\n",
       "  </div>\n",
       "  <div class=\"progress-bar\" role=\"progressbar\" style=\"background-color: red; width: 0%\" aria-valuenow=\"0\" aria-valuemin=\"0\" aria-valuemax=\"100\"></div>\n",
       "</div>\n"
      ]
     },
     "metadata": {},
     "output_type": "display_data"
    },
    {
     "name": "stdout",
     "output_type": "stream",
     "text": [
      "+------------+----------+-------+\n",
      "|      ta_min|indicativo|  fecha|\n",
      "+------------+----------+-------+\n",
      "|    -6.6(12)|     2916A| 2021-1|\n",
      "|    -1.7(22)|     2916A| 2021-2|\n",
      "|    -2.6(21)|     2916A| 2021-3|\n",
      "|    -1.5(17)|     2916A| 2021-4|\n",
      "|     2.0(02)|     2916A| 2021-5|\n",
      "|     6.1(28)|     2916A| 2021-6|\n",
      "|     6.6(13)|     2916A| 2021-7|\n",
      "|     7.9(01)|     2916A| 2021-8|\n",
      "|     5.9(29)|     2916A| 2021-9|\n",
      "|     3.2(24)|     2916A|2021-10|\n",
      "|    -3.4(28)|     2916A|2021-11|\n",
      "|    -3.1(03)|     2916A|2021-12|\n",
      "|-6.6(12/ene)|     2916A|2021-13|\n",
      "+------------+----------+-------+\n",
      "\n"
     ]
    }
   ],
   "source": [
    "data2021.select($\"ta_min\", $\"indicativo\", $\"fecha\")\n",
    "    .filter($\"indicativo\".equalTo(\"2916A\"))\n",
    "    .show()"
   ]
  },
  {
   "cell_type": "markdown",
   "id": "5f1c8194",
   "metadata": {},
   "source": [
    "Usamos `.df` para darle nombre a las columnas"
   ]
  },
  {
   "cell_type": "code",
   "execution_count": 7,
   "id": "0a9dff27",
   "metadata": {},
   "outputs": [
    {
     "data": {
      "text/html": [
       "<div>\n",
       "  <span style=\"float: left;\">csv at cmd6.sc:1</span>\n",
       "</div>\n"
      ]
     },
     "metadata": {},
     "output_type": "display_data"
    },
    {
     "data": {
      "text/html": [
       "<div class=\"progress\">\n",
       "  <div class=\"progress-bar\" role=\"progressbar\" style=\"background-color: blue; width: 100%; word-wrap: normal; white-space: nowrap; text-align: center; color: white\" aria-valuenow=\"100\" aria-valuemin=\"0\" aria-valuemax=\"100\">\n",
       "    1 / 1\n",
       "  </div>\n",
       "  <div class=\"progress-bar\" role=\"progressbar\" style=\"background-color: red; width: 0%\" aria-valuenow=\"0\" aria-valuemin=\"0\" aria-valuemax=\"100\"></div>\n",
       "</div>\n"
      ]
     },
     "metadata": {},
     "output_type": "display_data"
    },
    {
     "data": {
      "text/plain": [
       "\u001b[36mids\u001b[39m: \u001b[32mDataFrame\u001b[39m = [provincia: string, indicativo: string ... 1 more field]"
      ]
     },
     "execution_count": 7,
     "metadata": {},
     "output_type": "execute_result"
    }
   ],
   "source": [
    "val ids : DataFrame = spark.read.option(\"delimiter\", \";\").csv(\"D:/TFGAlvaroSanchez/data/aemetID.csv\")\n",
    "    .toDF(\"provincia\", \"indicativo\", \"ubicacion\")"
   ]
  },
  {
   "cell_type": "code",
   "execution_count": 8,
   "id": "65177ecc",
   "metadata": {},
   "outputs": [
    {
     "data": {
      "text/html": [
       "<div>\n",
       "  <span style=\"float: left;\">show at cmd7.sc:1</span>\n",
       "</div>\n"
      ]
     },
     "metadata": {},
     "output_type": "display_data"
    },
    {
     "data": {
      "text/html": [
       "<div class=\"progress\">\n",
       "  <div class=\"progress-bar\" role=\"progressbar\" style=\"background-color: blue; width: 100%; word-wrap: normal; white-space: nowrap; text-align: center; color: white\" aria-valuenow=\"100\" aria-valuemin=\"0\" aria-valuemax=\"100\">\n",
       "    1 / 1\n",
       "  </div>\n",
       "  <div class=\"progress-bar\" role=\"progressbar\" style=\"background-color: red; width: 0%\" aria-valuenow=\"0\" aria-valuemin=\"0\" aria-valuemax=\"100\"></div>\n",
       "</div>\n"
      ]
     },
     "metadata": {},
     "output_type": "display_data"
    },
    {
     "name": "stdout",
     "output_type": "stream",
     "text": [
      "+----------------+----------+--------------------+\n",
      "|       provincia|indicativo|           ubicacion|\n",
      "+----------------+----------+--------------------+\n",
      "|        A Coruna|      1351|     Estaca de Bares|\n",
      "|        A Coruna|     1363X|           As Pontes|\n",
      "|        A Coruna|      1387|            A Coruna|\n",
      "|        A Coruna|     1387E| A Coruna Aeropuerto|\n",
      "|        A Coruna|     1390X|Carballo, Depuradora|\n",
      "|        A Coruna|      1393|          Cabo Vilan|\n",
      "|        A Coruna|      1399|            Vimianzo|\n",
      "|        A Coruna|      1400|            Fisterra|\n",
      "|        A Coruna|     1406X|           Mazaricos|\n",
      "|        A Coruna|     1410X|             Sobrado|\n",
      "|        A Coruna|      1428|Santiago de Compo...|\n",
      "|        A Coruna|     1435C|                Noia|\n",
      "|        A Coruna|     1442U|               Boiro|\n",
      "|        A Coruna|     1473A|              Padron|\n",
      "|        A Coruna|     1475X|Santiago de Compo...|\n",
      "|        A Coruna|     1476R|Rois, Casas do Porto|\n",
      "|Alacant/Alicante|     7244X|            Orihuela|\n",
      "|Alacant/Alicante|     7247X|              Pinoso|\n",
      "|Alacant/Alicante|     7261X|             Rojales|\n",
      "|Alacant/Alicante|     8008Y|             Villena|\n",
      "+----------------+----------+--------------------+\n",
      "only showing top 20 rows\n",
      "\n",
      "root\n",
      " |-- provincia: string (nullable = true)\n",
      " |-- indicativo: string (nullable = true)\n",
      " |-- ubicacion: string (nullable = true)\n",
      "\n"
     ]
    }
   ],
   "source": [
    "ids.show()\n",
    "ids.printSchema()"
   ]
  },
  {
   "cell_type": "code",
   "execution_count": 9,
   "id": "baff4489",
   "metadata": {},
   "outputs": [
    {
     "data": {
      "text/plain": [
       "\u001b[36mjoindata\u001b[39m: \u001b[32mDataFrame\u001b[39m = [indicativo: string, e: string ... 44 more fields]"
      ]
     },
     "execution_count": 9,
     "metadata": {},
     "output_type": "execute_result"
    }
   ],
   "source": [
    "val joindata : DataFrame = data2021.join(ids, \"indicativo\")"
   ]
  },
  {
   "cell_type": "code",
   "execution_count": 10,
   "id": "4c5ed324",
   "metadata": {},
   "outputs": [
    {
     "data": {
      "text/html": [
       "<div>\n",
       "  <span style=\"float: left;\">run at ThreadPoolExecutor.java:1128</span>\n",
       "</div>\n"
      ]
     },
     "metadata": {},
     "output_type": "display_data"
    },
    {
     "data": {
      "text/html": [
       "<div class=\"progress\">\n",
       "  <div class=\"progress-bar\" role=\"progressbar\" style=\"background-color: blue; width: 100%; word-wrap: normal; white-space: nowrap; text-align: center; color: white\" aria-valuenow=\"100\" aria-valuemin=\"0\" aria-valuemax=\"100\">\n",
       "    5 / 5\n",
       "  </div>\n",
       "  <div class=\"progress-bar\" role=\"progressbar\" style=\"background-color: red; width: 0%\" aria-valuenow=\"0\" aria-valuemin=\"0\" aria-valuemax=\"100\"></div>\n",
       "</div>\n"
      ]
     },
     "metadata": {},
     "output_type": "display_data"
    },
    {
     "data": {
      "text/html": [
       "<div>\n",
       "  <span style=\"float: left;\">show at cmd9.sc:4</span>\n",
       "</div>\n"
      ]
     },
     "metadata": {},
     "output_type": "display_data"
    },
    {
     "data": {
      "text/html": [
       "<div class=\"progress\">\n",
       "  <div class=\"progress-bar\" role=\"progressbar\" style=\"background-color: blue; width: 100%; word-wrap: normal; white-space: nowrap; text-align: center; color: white\" aria-valuenow=\"100\" aria-valuemin=\"0\" aria-valuemax=\"100\">\n",
       "    1 / 1\n",
       "  </div>\n",
       "  <div class=\"progress-bar\" role=\"progressbar\" style=\"background-color: red; width: 0%\" aria-valuenow=\"0\" aria-valuemin=\"0\" aria-valuemax=\"100\"></div>\n",
       "</div>\n"
      ]
     },
     "metadata": {},
     "output_type": "display_data"
    },
    {
     "name": "stdout",
     "output_type": "stream",
     "text": [
      "+---+----+------------------+----------+--------------------+\n",
      "|mes| año|temperatura maxima|indicativo|           provincia|\n",
      "+---+----+------------------+----------+--------------------+\n",
      "|  8|2021|                42|      3129|              Madrid|\n",
      "|  8|2021|                41|     2916A|           Salamanca|\n",
      "|  7|2021|                40|      3129|              Madrid|\n",
      "|  7|2021|                37|     2916A|           Salamanca|\n",
      "|  8|2021|                36|     C449C|Santa Cruz de Ten...|\n",
      "|  6|2021|                35|      3129|              Madrid|\n",
      "|  6|2021|                34|     2916A|           Salamanca|\n",
      "|  9|2021|                33|      1387|            A Coruna|\n",
      "|  9|2021|                33|      3129|              Madrid|\n",
      "|  9|2021|                33|     2916A|           Salamanca|\n",
      "|  7|2021|                32|     C449C|Santa Cruz de Ten...|\n",
      "|  8|2021|                32|     0201D|           Barcelona|\n",
      "|  5|2021|                32|      3129|              Madrid|\n",
      "|  5|2021|                31|     2916A|           Salamanca|\n",
      "|  9|2021|                30|     C449C|Santa Cruz de Ten...|\n",
      "|  7|2021|                30|      1387|            A Coruna|\n",
      "|  6|2021|                30|     C449C|Santa Cruz de Ten...|\n",
      "|  6|2021|                30|     0201D|           Barcelona|\n",
      "|  5|2021|                30|     C449C|Santa Cruz de Ten...|\n",
      "|  7|2021|                29|     0201D|           Barcelona|\n",
      "+---+----+------------------+----------+--------------------+\n",
      "only showing top 20 rows\n",
      "\n"
     ]
    }
   ],
   "source": [
    "joindata.withColumn(\"ta_max\", $\"ta_max\".substr(0,4).cast(IntegerType))\n",
    "    .select($\"fecha\".substr(6,2) as \"mes\", $\"fecha\".substr(0,4) as \"año\", $\"ta_max\" as \"temperatura maxima\", $\"indicativo\", $\"provincia\")\n",
    "    .filter(!($\"mes\".equalTo(\"13\")))\n",
    "    .orderBy($\"ta_max\".desc)\n",
    "    .show()"
   ]
  },
  {
   "cell_type": "markdown",
   "id": "2092bd58",
   "metadata": {},
   "source": [
    "### Obtencion del mes, año y provincia donde se encuntra la temperatura mas baja durante verano (junio, julio y agosto)"
   ]
  },
  {
   "cell_type": "code",
   "execution_count": 11,
   "id": "e978f2af",
   "metadata": {},
   "outputs": [
    {
     "name": "stdout",
     "output_type": "stream",
     "text": [
      "root\n",
      " |-- indicativo: string (nullable = true)\n",
      " |-- e: string (nullable = true)\n",
      " |-- evap: string (nullable = true)\n",
      " |-- fecha: date (nullable = true)\n",
      " |-- glo: string (nullable = true)\n",
      " |-- hr: string (nullable = true)\n",
      " |-- inso: string (nullable = true)\n",
      " |-- n_cub: string (nullable = true)\n",
      " |-- n_des: string (nullable = true)\n",
      " |-- n_fog: string (nullable = true)\n",
      " |-- n_gra: string (nullable = true)\n",
      " |-- n_llu: string (nullable = true)\n",
      " |-- n_nie: string (nullable = true)\n",
      " |-- n_nub: string (nullable = true)\n",
      " |-- n_tor: string (nullable = true)\n",
      " |-- np_001: string (nullable = true)\n",
      " |-- np_010: string (nullable = true)\n",
      " |-- np_100: string (nullable = true)\n",
      " |-- np_300: string (nullable = true)\n",
      " |-- nt_00: string (nullable = true)\n",
      " |-- nt_30: string (nullable = true)\n",
      " |-- nv_0050: string (nullable = true)\n",
      " |-- nv_0100: string (nullable = true)\n",
      " |-- nv_1000: string (nullable = true)\n",
      " |-- nw_55: string (nullable = true)\n",
      " |-- nw_91: string (nullable = true)\n",
      " |-- p_max: string (nullable = true)\n",
      " |-- p_mes: string (nullable = true)\n",
      " |-- p_sol: string (nullable = true)\n",
      " |-- q_mar: string (nullable = true)\n",
      " |-- q_max: string (nullable = true)\n",
      " |-- q_med: string (nullable = true)\n",
      " |-- q_min: string (nullable = true)\n",
      " |-- ta_max: string (nullable = true)\n",
      " |-- ta_min: integer (nullable = true)\n",
      " |-- ti_max: string (nullable = true)\n",
      " |-- tm_max: string (nullable = true)\n",
      " |-- tm_mes: string (nullable = true)\n",
      " |-- tm_min: string (nullable = true)\n",
      " |-- ts_20: string (nullable = true)\n",
      " |-- ts_min: string (nullable = true)\n",
      " |-- w_med: string (nullable = true)\n",
      " |-- w_racha: string (nullable = true)\n",
      " |-- w_rec: string (nullable = true)\n",
      " |-- provincia: string (nullable = true)\n",
      " |-- ubicacion: string (nullable = true)\n",
      "\n"
     ]
    }
   ],
   "source": [
    "joindata.withColumn(\"ta_min\", $\"ta_min\".substr(0,4).cast(IntegerType))\n",
    "    .withColumn(\"fecha\", $\"fecha\".cast(DateType)).printSchema"
   ]
  },
  {
   "cell_type": "markdown",
   "id": "e8bb5c5d",
   "metadata": {},
   "source": [
    "Para quedarnos unicamente con la temperatura ya que este valor viene precedido del dia que ocurrio de la siguiente manera: temperatura(dia)"
   ]
  },
  {
   "cell_type": "code",
   "execution_count": 12,
   "id": "050e2569",
   "metadata": {},
   "outputs": [
    {
     "data": {
      "text/html": [
       "<div>\n",
       "  <span style=\"float: left;\">run at ThreadPoolExecutor.java:1128</span>\n",
       "</div>\n"
      ]
     },
     "metadata": {},
     "output_type": "display_data"
    },
    {
     "data": {
      "text/html": [
       "<div class=\"progress\">\n",
       "  <div class=\"progress-bar\" role=\"progressbar\" style=\"background-color: blue; width: 100%; word-wrap: normal; white-space: nowrap; text-align: center; color: white\" aria-valuenow=\"100\" aria-valuemin=\"0\" aria-valuemax=\"100\">\n",
       "    5 / 5\n",
       "  </div>\n",
       "  <div class=\"progress-bar\" role=\"progressbar\" style=\"background-color: red; width: 0%\" aria-valuenow=\"0\" aria-valuemin=\"0\" aria-valuemax=\"100\"></div>\n",
       "</div>\n"
      ]
     },
     "metadata": {},
     "output_type": "display_data"
    },
    {
     "data": {
      "text/html": [
       "<div>\n",
       "  <span style=\"float: left;\">show at cmd11.sc:4</span>\n",
       "</div>\n"
      ]
     },
     "metadata": {},
     "output_type": "display_data"
    },
    {
     "data": {
      "text/html": [
       "<div class=\"progress\">\n",
       "  <div class=\"progress-bar\" role=\"progressbar\" style=\"background-color: blue; width: 100%; word-wrap: normal; white-space: nowrap; text-align: center; color: white\" aria-valuenow=\"100\" aria-valuemin=\"0\" aria-valuemax=\"100\">\n",
       "    1 / 1\n",
       "  </div>\n",
       "  <div class=\"progress-bar\" role=\"progressbar\" style=\"background-color: red; width: 0%\" aria-valuenow=\"0\" aria-valuemin=\"0\" aria-valuemax=\"100\"></div>\n",
       "</div>\n"
      ]
     },
     "metadata": {},
     "output_type": "display_data"
    },
    {
     "name": "stdout",
     "output_type": "stream",
     "text": [
      "+----+\n",
      "| val|\n",
      "+----+\n",
      "| 2.3|\n",
      "| 6.3|\n",
      "| 7.6|\n",
      "| 9.1|\n",
      "|12.1|\n",
      "|14.6|\n",
      "|13.8|\n",
      "|10.3|\n",
      "| 6.5|\n",
      "| 6.2|\n",
      "| 5.9|\n",
      "| 6.7|\n",
      "| 2.3|\n",
      "| 2.0|\n",
      "| 4.8|\n",
      "| 5.3|\n",
      "|12.5|\n",
      "|15.7|\n",
      "|18.4|\n",
      "|18.2|\n",
      "+----+\n",
      "only showing top 20 rows\n",
      "\n"
     ]
    },
    {
     "data": {
      "text/plain": [
       "\u001b[32mimport \u001b[39m\u001b[36morg.apache.spark.sql.functions.split\n",
       "\n",
       "\u001b[39m"
      ]
     },
     "execution_count": 12,
     "metadata": {},
     "output_type": "execute_result"
    }
   ],
   "source": [
    "import org.apache.spark.sql.functions.split\n",
    "\n",
    "joindata.withColumn(\"ta_min\", split($\"ta_min\", \"\\\\(\"))\n",
    "    .select($\"ta_min\"(0) as \"val\")\n",
    "    .show()"
   ]
  },
  {
   "cell_type": "code",
   "execution_count": 17,
   "id": "8151c44c",
   "metadata": {},
   "outputs": [
    {
     "data": {
      "text/html": [
       "<div>\n",
       "  <span style=\"float: left;\">run at ThreadPoolExecutor.java:1128</span>\n",
       "</div>\n"
      ]
     },
     "metadata": {},
     "output_type": "display_data"
    },
    {
     "data": {
      "text/html": [
       "<div class=\"progress\">\n",
       "  <div class=\"progress-bar\" role=\"progressbar\" style=\"background-color: blue; width: 100%; word-wrap: normal; white-space: nowrap; text-align: center; color: white\" aria-valuenow=\"100\" aria-valuemin=\"0\" aria-valuemax=\"100\">\n",
       "    5 / 5\n",
       "  </div>\n",
       "  <div class=\"progress-bar\" role=\"progressbar\" style=\"background-color: red; width: 0%\" aria-valuenow=\"0\" aria-valuemin=\"0\" aria-valuemax=\"100\"></div>\n",
       "</div>\n"
      ]
     },
     "metadata": {},
     "output_type": "display_data"
    },
    {
     "data": {
      "text/html": [
       "<div>\n",
       "  <span style=\"float: left;\">show at cmd16.sc:8</span>\n",
       "</div>\n"
      ]
     },
     "metadata": {},
     "output_type": "display_data"
    },
    {
     "data": {
      "text/html": [
       "<div class=\"progress\">\n",
       "  <div class=\"progress-bar\" role=\"progressbar\" style=\"background-color: blue; width: 100%; word-wrap: normal; white-space: nowrap; text-align: center; color: white\" aria-valuenow=\"100\" aria-valuemin=\"0\" aria-valuemax=\"100\">\n",
       "    1 / 1\n",
       "  </div>\n",
       "  <div class=\"progress-bar\" role=\"progressbar\" style=\"background-color: red; width: 0%\" aria-valuenow=\"0\" aria-valuemin=\"0\" aria-valuemax=\"100\"></div>\n",
       "</div>\n"
      ]
     },
     "metadata": {},
     "output_type": "display_data"
    },
    {
     "name": "stdout",
     "output_type": "stream",
     "text": [
      "+---+----+------------------+--------------------+\n",
      "|mes| año|temperatura minima|           provincia|\n",
      "+---+----+------------------+--------------------+\n",
      "| 06|2021|                 6|           Salamanca|\n",
      "| 07|2021|                 6|           Salamanca|\n",
      "| 08|2021|                 7|           Salamanca|\n",
      "| 07|2021|                10|              Madrid|\n",
      "| 06|2021|                10|            A Coruna|\n",
      "| 06|2021|                11|              Madrid|\n",
      "| 08|2021|                12|              Madrid|\n",
      "| 07|2021|                13|            A Coruna|\n",
      "| 08|2021|                14|            A Coruna|\n",
      "| 06|2021|                17|Santa Cruz de Ten...|\n",
      "| 06|2021|                17|           Barcelona|\n",
      "| 08|2021|                18|           Barcelona|\n",
      "| 07|2021|                18|           Barcelona|\n",
      "| 07|2021|                19|Santa Cruz de Ten...|\n",
      "| 08|2021|                20|Santa Cruz de Ten...|\n",
      "+---+----+------------------+--------------------+\n",
      "\n"
     ]
    }
   ],
   "source": [
    "joindata.withColumn(\"ta_min\", split($\"ta_min\", \"\\\\(\"))\n",
    "    .withColumn(\"ta_min\", $\"ta_min\"(0).cast(IntegerType))\n",
    "    .withColumn(\"fecha\", $\"fecha\".cast(DateType))\n",
    "    .select($\"fecha\".substr(6,2) as \"mes\", $\"fecha\".substr(0,4) as \"año\", $\"ta_min\" as \"temperatura minima\", $\"provincia\")  \n",
    "    .filter($\"mes\" > 5 && $\"mes\" < 9)\n",
    "    .orderBy($\"temperatura minima\".asc)\n",
    "    .show()"
   ]
  },
  {
   "cell_type": "markdown",
   "id": "4b7c3c3a",
   "metadata": {},
   "source": [
    "### Numero de meses con temperaturas maximas >30º por provincia"
   ]
  },
  {
   "cell_type": "code",
   "execution_count": 15,
   "id": "b906329d",
   "metadata": {},
   "outputs": [
    {
     "data": {
      "text/html": [
       "<div>\n",
       "  <span style=\"float: left;\">run at ThreadPoolExecutor.java:1128</span>\n",
       "</div>\n"
      ]
     },
     "metadata": {},
     "output_type": "display_data"
    },
    {
     "data": {
      "text/html": [
       "<div class=\"progress\">\n",
       "  <div class=\"progress-bar\" role=\"progressbar\" style=\"background-color: blue; width: 100%; word-wrap: normal; white-space: nowrap; text-align: center; color: white\" aria-valuenow=\"100\" aria-valuemin=\"0\" aria-valuemax=\"100\">\n",
       "    5 / 5\n",
       "  </div>\n",
       "  <div class=\"progress-bar\" role=\"progressbar\" style=\"background-color: red; width: 0%\" aria-valuenow=\"0\" aria-valuemin=\"0\" aria-valuemax=\"100\"></div>\n",
       "</div>\n"
      ]
     },
     "metadata": {},
     "output_type": "display_data"
    },
    {
     "data": {
      "text/html": [
       "<div>\n",
       "  <span style=\"float: left;\">show at cmd14.sc:7</span>\n",
       "</div>\n"
      ]
     },
     "metadata": {},
     "output_type": "display_data"
    },
    {
     "data": {
      "text/html": [
       "<div class=\"progress\">\n",
       "  <div class=\"progress-bar\" role=\"progressbar\" style=\"background-color: blue; width: 100%; word-wrap: normal; white-space: nowrap; text-align: center; color: white\" aria-valuenow=\"100\" aria-valuemin=\"0\" aria-valuemax=\"100\">\n",
       "    1 / 1\n",
       "  </div>\n",
       "  <div class=\"progress-bar\" role=\"progressbar\" style=\"background-color: red; width: 0%\" aria-valuenow=\"0\" aria-valuemin=\"0\" aria-valuemax=\"100\"></div>\n",
       "</div>\n"
      ]
     },
     "metadata": {},
     "output_type": "display_data"
    },
    {
     "data": {
      "text/html": [
       "<div>\n",
       "  <span style=\"float: left;\">show at cmd14.sc:7</span>\n",
       "</div>\n"
      ]
     },
     "metadata": {},
     "output_type": "display_data"
    },
    {
     "data": {
      "text/html": [
       "<div class=\"progress\">\n",
       "  <div class=\"progress-bar\" role=\"progressbar\" style=\"background-color: blue; width: 100%; word-wrap: normal; white-space: nowrap; text-align: center; color: white\" aria-valuenow=\"100\" aria-valuemin=\"0\" aria-valuemax=\"100\">\n",
       "    1 / 1\n",
       "  </div>\n",
       "  <div class=\"progress-bar\" role=\"progressbar\" style=\"background-color: red; width: 0%\" aria-valuenow=\"0\" aria-valuemin=\"0\" aria-valuemax=\"100\"></div>\n",
       "</div>\n"
      ]
     },
     "metadata": {},
     "output_type": "display_data"
    },
    {
     "data": {
      "text/html": [
       "<div>\n",
       "  <span style=\"float: left;\">show at cmd14.sc:7</span>\n",
       "</div>\n"
      ]
     },
     "metadata": {},
     "output_type": "display_data"
    },
    {
     "data": {
      "text/html": [
       "<div class=\"progress\">\n",
       "  <div class=\"progress-bar\" role=\"progressbar\" style=\"background-color: blue; width: 100%; word-wrap: normal; white-space: nowrap; text-align: center; color: white\" aria-valuenow=\"100\" aria-valuemin=\"0\" aria-valuemax=\"100\">\n",
       "    4 / 4\n",
       "  </div>\n",
       "  <div class=\"progress-bar\" role=\"progressbar\" style=\"background-color: red; width: 0%\" aria-valuenow=\"0\" aria-valuemin=\"0\" aria-valuemax=\"100\"></div>\n",
       "</div>\n"
      ]
     },
     "metadata": {},
     "output_type": "display_data"
    },
    {
     "data": {
      "text/html": [
       "<div>\n",
       "  <span style=\"float: left;\">show at cmd14.sc:7</span>\n",
       "</div>\n"
      ]
     },
     "metadata": {},
     "output_type": "display_data"
    },
    {
     "data": {
      "text/html": [
       "<div class=\"progress\">\n",
       "  <div class=\"progress-bar\" role=\"progressbar\" style=\"background-color: blue; width: 100%; word-wrap: normal; white-space: nowrap; text-align: center; color: white\" aria-valuenow=\"100\" aria-valuemin=\"0\" aria-valuemax=\"100\">\n",
       "    20 / 20\n",
       "  </div>\n",
       "  <div class=\"progress-bar\" role=\"progressbar\" style=\"background-color: red; width: 0%\" aria-valuenow=\"0\" aria-valuemin=\"0\" aria-valuemax=\"100\"></div>\n",
       "</div>\n"
      ]
     },
     "metadata": {},
     "output_type": "display_data"
    },
    {
     "data": {
      "text/html": [
       "<div>\n",
       "  <span style=\"float: left;\">show at cmd14.sc:7</span>\n",
       "</div>\n"
      ]
     },
     "metadata": {},
     "output_type": "display_data"
    },
    {
     "data": {
      "text/html": [
       "<div class=\"progress\">\n",
       "  <div class=\"progress-bar\" role=\"progressbar\" style=\"background-color: blue; width: 100%; word-wrap: normal; white-space: nowrap; text-align: center; color: white\" aria-valuenow=\"100\" aria-valuemin=\"0\" aria-valuemax=\"100\">\n",
       "    39 / 39\n",
       "  </div>\n",
       "  <div class=\"progress-bar\" role=\"progressbar\" style=\"background-color: red; width: 0%\" aria-valuenow=\"0\" aria-valuemin=\"0\" aria-valuemax=\"100\"></div>\n",
       "</div>\n"
      ]
     },
     "metadata": {},
     "output_type": "display_data"
    },
    {
     "name": "stdout",
     "output_type": "stream",
     "text": [
      "+--------------------+-----+\n",
      "|           provincia|count|\n",
      "+--------------------+-----+\n",
      "|            A Coruna|    1|\n",
      "|           Salamanca|    5|\n",
      "|              Madrid|    5|\n",
      "|           Barcelona|    1|\n",
      "|Santa Cruz de Ten...|    2|\n",
      "+--------------------+-----+\n",
      "\n"
     ]
    }
   ],
   "source": [
    "joindata\n",
    "    .withColumn(\"ta_max\", split($\"ta_max\", \"\\\\(\"))\n",
    "    .withColumn(\"ta_max\", $\"ta_max\"(0).cast(IntegerType))\n",
    "    .withColumn(\"fecha\", $\"fecha\".cast(DateType))\n",
    "    .filter($\"ta_max\" > 30 && $\"fecha\" > \"0000-00-00\")\n",
    "    .groupBy(\"provincia\")\n",
    "    .count\n",
    "    .show()"
   ]
  },
  {
   "cell_type": "code",
   "execution_count": null,
   "id": "91416777",
   "metadata": {},
   "outputs": [],
   "source": []
  }
 ],
 "metadata": {
  "kernelspec": {
   "display_name": "Scala",
   "language": "scala",
   "name": "scala"
  },
  "language_info": {
   "codemirror_mode": "text/x-scala",
   "file_extension": ".scala",
   "mimetype": "text/x-scala",
   "name": "scala",
   "nbconvert_exporter": "script",
   "version": "2.12.8"
  }
 },
 "nbformat": 4,
 "nbformat_minor": 5
}
