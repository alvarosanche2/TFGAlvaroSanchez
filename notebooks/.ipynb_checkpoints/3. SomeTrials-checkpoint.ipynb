{
 "cells": [
  {
   "cell_type": "markdown",
   "id": "8a9d182f",
   "metadata": {},
   "source": [
    "Realizamos los imports necesarios e iniciamos una SparkSession"
   ]
  },
  {
   "cell_type": "code",
   "execution_count": 1,
   "id": "033825a5",
   "metadata": {},
   "outputs": [
    {
     "name": "stdout",
     "output_type": "stream",
     "text": [
      "Loading spark-stubs\n"
     ]
    },
    {
     "name": "stderr",
     "output_type": "stream",
     "text": [
      "log4j:WARN No appenders could be found for logger (org.eclipse.jetty.util.log).\n",
      "log4j:WARN Please initialize the log4j system properly.\n",
      "log4j:WARN See http://logging.apache.org/log4j/1.2/faq.html#noconfig for more info.\n"
     ]
    },
    {
     "name": "stdout",
     "output_type": "stream",
     "text": [
      "Creating SparkSession\n"
     ]
    },
    {
     "name": "stderr",
     "output_type": "stream",
     "text": [
      "Using Spark's default log4j profile: org/apache/spark/log4j-defaults.properties\n",
      "22/07/07 00:20:42 INFO SparkContext: Running Spark version 2.4.5\n",
      "22/07/07 00:20:43 INFO SparkContext: Submitted application: eee45086-ec01-49c9-bf72-9b9de15a8e8b\n",
      "22/07/07 00:20:43 INFO SecurityManager: Changing view acls to: Alvaro\n",
      "22/07/07 00:20:43 INFO SecurityManager: Changing modify acls to: Alvaro\n",
      "22/07/07 00:20:43 INFO SecurityManager: Changing view acls groups to: \n",
      "22/07/07 00:20:43 INFO SecurityManager: Changing modify acls groups to: \n",
      "22/07/07 00:20:43 INFO SecurityManager: SecurityManager: authentication disabled; ui acls disabled; users  with view permissions: Set(Alvaro); groups with view permissions: Set(); users  with modify permissions: Set(Alvaro); groups with modify permissions: Set()\n",
      "22/07/07 00:20:45 INFO Utils: Successfully started service 'sparkDriver' on port 55632.\n",
      "22/07/07 00:20:45 INFO SparkEnv: Registering MapOutputTracker\n",
      "22/07/07 00:20:45 INFO SparkEnv: Registering BlockManagerMaster\n",
      "22/07/07 00:20:45 INFO BlockManagerMasterEndpoint: Using org.apache.spark.storage.DefaultTopologyMapper for getting topology information\n",
      "22/07/07 00:20:45 INFO BlockManagerMasterEndpoint: BlockManagerMasterEndpoint up\n",
      "22/07/07 00:20:45 INFO DiskBlockManager: Created local directory at C:\\Users\\alvar\\AppData\\Local\\Temp\\blockmgr-a88353e7-596c-411e-be89-c8799a54e9ee\n",
      "22/07/07 00:20:45 INFO MemoryStore: MemoryStore started with capacity 1646.4 MB\n",
      "22/07/07 00:20:45 INFO SparkEnv: Registering OutputCommitCoordinator\n",
      "22/07/07 00:20:46 INFO Utils: Successfully started service 'SparkUI' on port 4040.\n",
      "22/07/07 00:20:46 INFO SparkUI: Bound SparkUI to 0.0.0.0, and started at http://LAPTOP-30N4Q54J.mshome.net:4040\n",
      "22/07/07 00:20:46 INFO SparkContext: Added JAR file:/C:/Users/alvar/AppData/Local/Coursier/cache/v1/https/jitpack.io/com/github/jupyter/jvm-repr/0.4.0/jvm-repr-0.4.0.jar at spark://LAPTOP-30N4Q54J.mshome.net:55632/jars/jvm-repr-0.4.0.jar with timestamp 1657146046247\n",
      "22/07/07 00:20:46 INFO SparkContext: Added JAR file:/C:/Users/alvar/AppData/Local/Coursier/cache/v1/https/repo1.maven.org/maven2/com/github/javaparser/javaparser-core/3.2.5/javaparser-core-3.2.5.jar at spark://LAPTOP-30N4Q54J.mshome.net:55632/jars/javaparser-core-3.2.5.jar with timestamp 1657146046251\n",
      "22/07/07 00:20:46 INFO SparkContext: Added JAR file:/C:/Users/alvar/AppData/Local/Coursier/cache/v1/https/repo1.maven.org/maven2/com/github/scopt/scopt_2.12/3.5.0/scopt_2.12-3.5.0.jar at spark://LAPTOP-30N4Q54J.mshome.net:55632/jars/scopt_2.12-3.5.0.jar with timestamp 1657146046253\n",
      "22/07/07 00:20:46 INFO SparkContext: Added JAR file:/C:/Users/alvar/AppData/Local/Coursier/cache/v1/https/repo1.maven.org/maven2/com/lihaoyi/acyclic_2.12/0.1.5/acyclic_2.12-0.1.5.jar at spark://LAPTOP-30N4Q54J.mshome.net:55632/jars/acyclic_2.12-0.1.5.jar with timestamp 1657146046256\n",
      "22/07/07 00:20:46 INFO SparkContext: Added JAR file:/C:/Users/alvar/AppData/Local/Coursier/cache/v1/https/repo1.maven.org/maven2/com/lihaoyi/ammonite-interp_2.12.8/1.6.5/ammonite-interp_2.12.8-1.6.5.jar at spark://LAPTOP-30N4Q54J.mshome.net:55632/jars/ammonite-interp_2.12.8-1.6.5.jar with timestamp 1657146046260\n",
      "22/07/07 00:20:46 INFO SparkContext: Added JAR file:/C:/Users/alvar/AppData/Local/Coursier/cache/v1/https/repo1.maven.org/maven2/com/lihaoyi/ammonite-ops_2.12/1.6.5/ammonite-ops_2.12-1.6.5.jar at spark://LAPTOP-30N4Q54J.mshome.net:55632/jars/ammonite-ops_2.12-1.6.5.jar with timestamp 1657146046263\n",
      "22/07/07 00:20:46 INFO SparkContext: Added JAR file:/C:/Users/alvar/AppData/Local/Coursier/cache/v1/https/repo1.maven.org/maven2/com/lihaoyi/ammonite-repl_2.12.8/1.6.5/ammonite-repl_2.12.8-1.6.5.jar at spark://LAPTOP-30N4Q54J.mshome.net:55632/jars/ammonite-repl_2.12.8-1.6.5.jar with timestamp 1657146046265\n",
      "22/07/07 00:20:46 INFO SparkContext: Added JAR file:/C:/Users/alvar/AppData/Local/Coursier/cache/v1/https/repo1.maven.org/maven2/com/lihaoyi/ammonite-runtime_2.12/1.6.5/ammonite-runtime_2.12-1.6.5.jar at spark://LAPTOP-30N4Q54J.mshome.net:55632/jars/ammonite-runtime_2.12-1.6.5.jar with timestamp 1657146046267\n",
      "22/07/07 00:20:46 INFO SparkContext: Added JAR file:/C:/Users/alvar/AppData/Local/Coursier/cache/v1/https/repo1.maven.org/maven2/com/lihaoyi/ammonite-terminal_2.12/1.6.5/ammonite-terminal_2.12-1.6.5.jar at spark://LAPTOP-30N4Q54J.mshome.net:55632/jars/ammonite-terminal_2.12-1.6.5.jar with timestamp 1657146046269\n",
      "22/07/07 00:20:46 INFO SparkContext: Added JAR file:/C:/Users/alvar/AppData/Local/Coursier/cache/v1/https/repo1.maven.org/maven2/com/lihaoyi/ammonite-util_2.12/1.6.5/ammonite-util_2.12-1.6.5.jar at spark://LAPTOP-30N4Q54J.mshome.net:55632/jars/ammonite-util_2.12-1.6.5.jar with timestamp 1657146046272\n",
      "22/07/07 00:20:46 INFO SparkContext: Added JAR file:/C:/Users/alvar/AppData/Local/Coursier/cache/v1/https/repo1.maven.org/maven2/com/lihaoyi/fansi_2.12/0.2.4/fansi_2.12-0.2.4.jar at spark://LAPTOP-30N4Q54J.mshome.net:55632/jars/fansi_2.12-0.2.4.jar with timestamp 1657146046273\n",
      "22/07/07 00:20:46 INFO SparkContext: Added JAR file:/C:/Users/alvar/AppData/Local/Coursier/cache/v1/https/repo1.maven.org/maven2/com/lihaoyi/fastparse_2.12/2.1.0/fastparse_2.12-2.1.0.jar at spark://LAPTOP-30N4Q54J.mshome.net:55632/jars/fastparse_2.12-2.1.0.jar with timestamp 1657146046275\n",
      "22/07/07 00:20:46 INFO SparkContext: Added JAR file:/C:/Users/alvar/AppData/Local/Coursier/cache/v1/https/repo1.maven.org/maven2/com/lihaoyi/geny_2.12/0.1.5/geny_2.12-0.1.5.jar at spark://LAPTOP-30N4Q54J.mshome.net:55632/jars/geny_2.12-0.1.5.jar with timestamp 1657146046276\n",
      "22/07/07 00:20:46 INFO SparkContext: Added JAR file:/C:/Users/alvar/AppData/Local/Coursier/cache/v1/https/repo1.maven.org/maven2/com/lihaoyi/os-lib_2.12/0.2.6/os-lib_2.12-0.2.6.jar at spark://LAPTOP-30N4Q54J.mshome.net:55632/jars/os-lib_2.12-0.2.6.jar with timestamp 1657146046278\n",
      "22/07/07 00:20:46 INFO SparkContext: Added JAR file:/C:/Users/alvar/AppData/Local/Coursier/cache/v1/https/repo1.maven.org/maven2/com/lihaoyi/pprint_2.12/0.5.2/pprint_2.12-0.5.2.jar at spark://LAPTOP-30N4Q54J.mshome.net:55632/jars/pprint_2.12-0.5.2.jar with timestamp 1657146046284\n",
      "22/07/07 00:20:46 INFO SparkContext: Added JAR file:/C:/Users/alvar/AppData/Local/Coursier/cache/v1/https/repo1.maven.org/maven2/com/lihaoyi/requests_2.12/0.1.7/requests_2.12-0.1.7.jar at spark://LAPTOP-30N4Q54J.mshome.net:55632/jars/requests_2.12-0.1.7.jar with timestamp 1657146046295\n",
      "22/07/07 00:20:46 INFO SparkContext: Added JAR file:/C:/Users/alvar/AppData/Local/Coursier/cache/v1/https/repo1.maven.org/maven2/com/lihaoyi/scalaparse_2.12/2.1.0/scalaparse_2.12-2.1.0.jar at spark://LAPTOP-30N4Q54J.mshome.net:55632/jars/scalaparse_2.12-2.1.0.jar with timestamp 1657146046299\n",
      "22/07/07 00:20:46 INFO SparkContext: Added JAR file:/C:/Users/alvar/AppData/Local/Coursier/cache/v1/https/repo1.maven.org/maven2/com/lihaoyi/sourcecode_2.12/0.1.5/sourcecode_2.12-0.1.5.jar at spark://LAPTOP-30N4Q54J.mshome.net:55632/jars/sourcecode_2.12-0.1.5.jar with timestamp 1657146046301\n",
      "22/07/07 00:20:46 INFO SparkContext: Added JAR file:/C:/Users/alvar/AppData/Local/Coursier/cache/v1/https/repo1.maven.org/maven2/com/lihaoyi/ujson_2.12/0.7.1/ujson_2.12-0.7.1.jar at spark://LAPTOP-30N4Q54J.mshome.net:55632/jars/ujson_2.12-0.7.1.jar with timestamp 1657146046302\n",
      "22/07/07 00:20:46 INFO SparkContext: Added JAR file:/C:/Users/alvar/AppData/Local/Coursier/cache/v1/https/repo1.maven.org/maven2/com/lihaoyi/upack_2.12/0.7.1/upack_2.12-0.7.1.jar at spark://LAPTOP-30N4Q54J.mshome.net:55632/jars/upack_2.12-0.7.1.jar with timestamp 1657146046304\n",
      "22/07/07 00:20:46 INFO SparkContext: Added JAR file:/C:/Users/alvar/AppData/Local/Coursier/cache/v1/https/repo1.maven.org/maven2/com/lihaoyi/upickle-core_2.12/0.7.1/upickle-core_2.12-0.7.1.jar at spark://LAPTOP-30N4Q54J.mshome.net:55632/jars/upickle-core_2.12-0.7.1.jar with timestamp 1657146046306\n",
      "22/07/07 00:20:46 INFO SparkContext: Added JAR file:/C:/Users/alvar/AppData/Local/Coursier/cache/v1/https/repo1.maven.org/maven2/com/lihaoyi/upickle-implicits_2.12/0.7.1/upickle-implicits_2.12-0.7.1.jar at spark://LAPTOP-30N4Q54J.mshome.net:55632/jars/upickle-implicits_2.12-0.7.1.jar with timestamp 1657146046308\n",
      "22/07/07 00:20:46 INFO SparkContext: Added JAR file:/C:/Users/alvar/AppData/Local/Coursier/cache/v1/https/repo1.maven.org/maven2/com/lihaoyi/upickle_2.12/0.7.1/upickle_2.12-0.7.1.jar at spark://LAPTOP-30N4Q54J.mshome.net:55632/jars/upickle_2.12-0.7.1.jar with timestamp 1657146046309\n"
     ]
    },
    {
     "name": "stderr",
     "output_type": "stream",
     "text": [
      "22/07/07 00:20:46 INFO SparkContext: Added JAR file:/C:/Users/alvar/AppData/Local/Coursier/cache/v1/https/repo1.maven.org/maven2/com/lihaoyi/utest_2.12/0.6.4/utest_2.12-0.6.4.jar at spark://LAPTOP-30N4Q54J.mshome.net:55632/jars/utest_2.12-0.6.4.jar with timestamp 1657146046311\n",
      "22/07/07 00:20:46 INFO SparkContext: Added JAR file:/C:/Users/alvar/AppData/Local/Coursier/cache/v1/https/repo1.maven.org/maven2/io/get-coursier/coursier-cache_2.12/1.1.0-M13-1/coursier-cache_2.12-1.1.0-M13-1.jar at spark://LAPTOP-30N4Q54J.mshome.net:55632/jars/coursier-cache_2.12-1.1.0-M13-1.jar with timestamp 1657146046313\n",
      "22/07/07 00:20:46 INFO SparkContext: Added JAR file:/C:/Users/alvar/AppData/Local/Coursier/cache/v1/https/repo1.maven.org/maven2/io/get-coursier/coursier-core_2.12/1.1.0-M13-1/coursier-core_2.12-1.1.0-M13-1.jar at spark://LAPTOP-30N4Q54J.mshome.net:55632/jars/coursier-core_2.12-1.1.0-M13-1.jar with timestamp 1657146046314\n",
      "22/07/07 00:20:46 INFO SparkContext: Added JAR file:/C:/Users/alvar/AppData/Local/Coursier/cache/v1/https/repo1.maven.org/maven2/io/get-coursier/coursier_2.12/1.1.0-M13-1/coursier_2.12-1.1.0-M13-1.jar at spark://LAPTOP-30N4Q54J.mshome.net:55632/jars/coursier_2.12-1.1.0-M13-1.jar with timestamp 1657146046318\n",
      "22/07/07 00:20:46 INFO SparkContext: Added JAR file:/C:/Users/alvar/AppData/Local/Coursier/cache/v1/https/repo1.maven.org/maven2/net/java/dev/jna/jna/4.2.2/jna-4.2.2.jar at spark://LAPTOP-30N4Q54J.mshome.net:55632/jars/jna-4.2.2.jar with timestamp 1657146046320\n",
      "22/07/07 00:20:46 INFO SparkContext: Added JAR file:/C:/Users/alvar/AppData/Local/Coursier/cache/v1/https/repo1.maven.org/maven2/org/javassist/javassist/3.21.0-GA/javassist-3.21.0-GA.jar at spark://LAPTOP-30N4Q54J.mshome.net:55632/jars/javassist-3.21.0-GA.jar with timestamp 1657146046322\n",
      "22/07/07 00:20:46 INFO SparkContext: Added JAR file:/C:/Users/alvar/AppData/Local/Coursier/cache/v1/https/repo1.maven.org/maven2/org/jline/jline-reader/3.6.2/jline-reader-3.6.2.jar at spark://LAPTOP-30N4Q54J.mshome.net:55632/jars/jline-reader-3.6.2.jar with timestamp 1657146046324\n",
      "22/07/07 00:20:46 INFO SparkContext: Added JAR file:/C:/Users/alvar/AppData/Local/Coursier/cache/v1/https/repo1.maven.org/maven2/org/jline/jline-terminal-jna/3.6.2/jline-terminal-jna-3.6.2.jar at spark://LAPTOP-30N4Q54J.mshome.net:55632/jars/jline-terminal-jna-3.6.2.jar with timestamp 1657146046326\n",
      "22/07/07 00:20:46 INFO SparkContext: Added JAR file:/C:/Users/alvar/AppData/Local/Coursier/cache/v1/https/repo1.maven.org/maven2/org/jline/jline-terminal/3.6.2/jline-terminal-3.6.2.jar at spark://LAPTOP-30N4Q54J.mshome.net:55632/jars/jline-terminal-3.6.2.jar with timestamp 1657146046327\n",
      "22/07/07 00:20:46 INFO SparkContext: Added JAR file:/C:/Users/alvar/AppData/Local/Coursier/cache/v1/https/repo1.maven.org/maven2/org/scala-lang/modules/scala-xml_2.12/1.1.1/scala-xml_2.12-1.1.1.jar at spark://LAPTOP-30N4Q54J.mshome.net:55632/jars/scala-xml_2.12-1.1.1.jar with timestamp 1657146046329\n",
      "22/07/07 00:20:46 INFO SparkContext: Added JAR file:/C:/Users/alvar/AppData/Local/Coursier/cache/v1/https/repo1.maven.org/maven2/org/scala-sbt/test-interface/1.0/test-interface-1.0.jar at spark://LAPTOP-30N4Q54J.mshome.net:55632/jars/test-interface-1.0.jar with timestamp 1657146046332\n",
      "22/07/07 00:20:46 INFO SparkContext: Added JAR file:/C:/Users/alvar/AppData/Local/Coursier/cache/v1/https/repo1.maven.org/maven2/sh/almond/interpreter-api_2.12/0.4.0/interpreter-api_2.12-0.4.0.jar at spark://LAPTOP-30N4Q54J.mshome.net:55632/jars/interpreter-api_2.12-0.4.0.jar with timestamp 1657146046333\n",
      "22/07/07 00:20:46 INFO SparkContext: Added JAR file:/C:/Users/alvar/AppData/Local/Coursier/cache/v1/https/repo1.maven.org/maven2/sh/almond/jupyter-api_2.12/0.4.0/jupyter-api_2.12-0.4.0.jar at spark://LAPTOP-30N4Q54J.mshome.net:55632/jars/jupyter-api_2.12-0.4.0.jar with timestamp 1657146046335\n",
      "22/07/07 00:20:46 INFO SparkContext: Added JAR file:/C:/Users/alvar/AppData/Local/Coursier/cache/v1/https/repo1.maven.org/maven2/sh/almond/scala-kernel-api_2.12.8/0.4.0/scala-kernel-api_2.12.8-0.4.0.jar at spark://LAPTOP-30N4Q54J.mshome.net:55632/jars/scala-kernel-api_2.12.8-0.4.0.jar with timestamp 1657146046336\n",
      "22/07/07 00:20:46 INFO SparkContext: Added JAR file:/C:/Users/alvar/AppData/Local/Coursier/cache/v1/https/repo1.maven.org/maven2/org/json4s/json4s-core_2.12/3.5.3/json4s-core_2.12-3.5.3.jar at spark://LAPTOP-30N4Q54J.mshome.net:55632/jars/json4s-core_2.12-3.5.3.jar with timestamp 1657146046338\n",
      "22/07/07 00:20:46 INFO SparkContext: Added JAR file:/C:/Users/alvar/AppData/Local/Coursier/cache/v1/https/repo1.maven.org/maven2/xml-apis/xml-apis/1.3.04/xml-apis-1.3.04.jar at spark://LAPTOP-30N4Q54J.mshome.net:55632/jars/xml-apis-1.3.04.jar with timestamp 1657146046339\n",
      "22/07/07 00:20:46 INFO SparkContext: Added JAR file:/C:/Users/alvar/AppData/Local/Coursier/cache/v1/https/repo1.maven.org/maven2/javax/servlet/javax.servlet-api/3.1.0/javax.servlet-api-3.1.0.jar at spark://LAPTOP-30N4Q54J.mshome.net:55632/jars/javax.servlet-api-3.1.0.jar with timestamp 1657146046342\n",
      "22/07/07 00:20:46 INFO SparkContext: Added JAR file:/C:/Users/alvar/AppData/Local/Coursier/cache/v1/https/repo1.maven.org/maven2/io/dropwizard/metrics/metrics-core/3.1.5/metrics-core-3.1.5.jar at spark://LAPTOP-30N4Q54J.mshome.net:55632/jars/metrics-core-3.1.5.jar with timestamp 1657146046344\n",
      "22/07/07 00:20:46 INFO SparkContext: Added JAR file:/C:/Users/alvar/AppData/Local/Coursier/cache/v1/https/repo1.maven.org/maven2/com/google/inject/guice/3.0/guice-3.0.jar at spark://LAPTOP-30N4Q54J.mshome.net:55632/jars/guice-3.0.jar with timestamp 1657146046346\n",
      "22/07/07 00:20:46 INFO SparkContext: Added JAR file:/C:/Users/alvar/AppData/Local/Coursier/cache/v1/https/repo1.maven.org/maven2/org/slf4j/slf4j-log4j12/1.7.16/slf4j-log4j12-1.7.16.jar at spark://LAPTOP-30N4Q54J.mshome.net:55632/jars/slf4j-log4j12-1.7.16.jar with timestamp 1657146046347\n",
      "22/07/07 00:20:46 INFO SparkContext: Added JAR file:/C:/Users/alvar/AppData/Local/Coursier/cache/v1/https/repo1.maven.org/maven2/org/apache/commons/commons-crypto/1.0.0/commons-crypto-1.0.0.jar at spark://LAPTOP-30N4Q54J.mshome.net:55632/jars/commons-crypto-1.0.0.jar with timestamp 1657146046349\n",
      "22/07/07 00:20:46 INFO SparkContext: Added JAR file:/C:/Users/alvar/AppData/Local/Coursier/cache/v1/https/repo1.maven.org/maven2/org/apache/xbean/xbean-asm6-shaded/4.8/xbean-asm6-shaded-4.8.jar at spark://LAPTOP-30N4Q54J.mshome.net:55632/jars/xbean-asm6-shaded-4.8.jar with timestamp 1657146046351\n",
      "22/07/07 00:20:46 INFO SparkContext: Added JAR file:/C:/Users/alvar/AppData/Local/Coursier/cache/v1/https/repo1.maven.org/maven2/xerces/xercesImpl/2.9.1/xercesImpl-2.9.1.jar at spark://LAPTOP-30N4Q54J.mshome.net:55632/jars/xercesImpl-2.9.1.jar with timestamp 1657146046353\n",
      "22/07/07 00:20:46 INFO SparkContext: Added JAR file:/C:/Users/alvar/AppData/Local/Coursier/cache/v1/https/repo1.maven.org/maven2/com/github/luben/zstd-jni/1.3.2-2/zstd-jni-1.3.2-2.jar at spark://LAPTOP-30N4Q54J.mshome.net:55632/jars/zstd-jni-1.3.2-2.jar with timestamp 1657146046354\n",
      "22/07/07 00:20:46 INFO SparkContext: Added JAR file:/C:/Users/alvar/AppData/Local/Coursier/cache/v1/https/repo1.maven.org/maven2/org/codehaus/jettison/jettison/1.1/jettison-1.1.jar at spark://LAPTOP-30N4Q54J.mshome.net:55632/jars/jettison-1.1.jar with timestamp 1657146046363\n",
      "22/07/07 00:20:46 INFO SparkContext: Added JAR file:/C:/Users/alvar/AppData/Local/Coursier/cache/v1/https/repo1.maven.org/maven2/org/apache/spark/spark-unsafe_2.12/2.4.5/spark-unsafe_2.12-2.4.5.jar at spark://LAPTOP-30N4Q54J.mshome.net:55632/jars/spark-unsafe_2.12-2.4.5.jar with timestamp 1657146046366\n",
      "22/07/07 00:20:46 INFO SparkContext: Added JAR file:/C:/Users/alvar/AppData/Local/Coursier/cache/v1/https/repo1.maven.org/maven2/org/apache/hadoop/hadoop-yarn-server-nodemanager/2.6.5/hadoop-yarn-server-nodemanager-2.6.5.jar at spark://LAPTOP-30N4Q54J.mshome.net:55632/jars/hadoop-yarn-server-nodemanager-2.6.5.jar with timestamp 1657146046367\n",
      "22/07/07 00:20:46 INFO SparkContext: Added JAR file:/C:/Users/alvar/AppData/Local/Coursier/cache/v1/https/repo1.maven.org/maven2/org/apache/parquet/parquet-hadoop/1.10.1/parquet-hadoop-1.10.1.jar at spark://LAPTOP-30N4Q54J.mshome.net:55632/jars/parquet-hadoop-1.10.1.jar with timestamp 1657146046370\n"
     ]
    },
    {
     "name": "stderr",
     "output_type": "stream",
     "text": [
      "22/07/07 00:20:46 INFO SparkContext: Added JAR file:/C:/Users/alvar/AppData/Local/Coursier/cache/v1/https/repo1.maven.org/maven2/joda-time/joda-time/2.9.9/joda-time-2.9.9.jar at spark://LAPTOP-30N4Q54J.mshome.net:55632/jars/joda-time-2.9.9.jar with timestamp 1657146046376\n",
      "22/07/07 00:20:46 INFO SparkContext: Added JAR file:/C:/Users/alvar/AppData/Local/Coursier/cache/v1/https/repo1.maven.org/maven2/commons-io/commons-io/2.4/commons-io-2.4.jar at spark://LAPTOP-30N4Q54J.mshome.net:55632/jars/commons-io-2.4.jar with timestamp 1657146046378\n",
      "22/07/07 00:20:46 INFO SparkContext: Added JAR file:/C:/Users/alvar/AppData/Local/Coursier/cache/v1/https/repo1.maven.org/maven2/commons-configuration/commons-configuration/1.6/commons-configuration-1.6.jar at spark://LAPTOP-30N4Q54J.mshome.net:55632/jars/commons-configuration-1.6.jar with timestamp 1657146046380\n",
      "22/07/07 00:20:46 INFO SparkContext: Added JAR file:/C:/Users/alvar/AppData/Local/Coursier/cache/v1/https/repo1.maven.org/maven2/org/antlr/antlr4-runtime/4.7/antlr4-runtime-4.7.jar at spark://LAPTOP-30N4Q54J.mshome.net:55632/jars/antlr4-runtime-4.7.jar with timestamp 1657146046383\n",
      "22/07/07 00:20:46 INFO SparkContext: Added JAR file:/C:/Users/alvar/AppData/Local/Coursier/cache/v1/https/repo1.maven.org/maven2/org/glassfish/jersey/core/jersey-common/2.22.2/jersey-common-2.22.2.jar at spark://LAPTOP-30N4Q54J.mshome.net:55632/jars/jersey-common-2.22.2.jar with timestamp 1657146046385\n",
      "22/07/07 00:20:46 INFO SparkContext: Added JAR file:/C:/Users/alvar/AppData/Local/Coursier/cache/v1/https/repo1.maven.org/maven2/io/airlift/aircompressor/0.10/aircompressor-0.10.jar at spark://LAPTOP-30N4Q54J.mshome.net:55632/jars/aircompressor-0.10.jar with timestamp 1657146046388\n",
      "22/07/07 00:20:46 INFO SparkContext: Added JAR file:/C:/Users/alvar/AppData/Local/Coursier/cache/v1/https/repo1.maven.org/maven2/org/apache/commons/commons-compress/1.8.1/commons-compress-1.8.1.jar at spark://LAPTOP-30N4Q54J.mshome.net:55632/jars/commons-compress-1.8.1.jar with timestamp 1657146046390\n",
      "22/07/07 00:20:46 INFO SparkContext: Added JAR file:/C:/Users/alvar/AppData/Local/Coursier/cache/v1/https/repo1.maven.org/maven2/org/slf4j/jcl-over-slf4j/1.7.16/jcl-over-slf4j-1.7.16.jar at spark://LAPTOP-30N4Q54J.mshome.net:55632/jars/jcl-over-slf4j-1.7.16.jar with timestamp 1657146046391\n",
      "22/07/07 00:20:46 INFO SparkContext: Added JAR file:/C:/Users/alvar/AppData/Local/Coursier/cache/v1/https/repo1.maven.org/maven2/org/javassist/javassist/3.18.1-GA/javassist-3.18.1-GA.jar at spark://LAPTOP-30N4Q54J.mshome.net:55632/jars/javassist-3.18.1-GA.jar with timestamp 1657146046393\n",
      "22/07/07 00:20:46 INFO SparkContext: Added JAR file:/C:/Users/alvar/AppData/Local/Coursier/cache/v1/https/repo1.maven.org/maven2/org/glassfish/hk2/external/aopalliance-repackaged/2.4.0-b34/aopalliance-repackaged-2.4.0-b34.jar at spark://LAPTOP-30N4Q54J.mshome.net:55632/jars/aopalliance-repackaged-2.4.0-b34.jar with timestamp 1657146046396\n",
      "22/07/07 00:20:46 INFO SparkContext: Added JAR file:/C:/Users/alvar/AppData/Local/Coursier/cache/v1/https/repo1.maven.org/maven2/org/lz4/lz4-java/1.4.0/lz4-java-1.4.0.jar at spark://LAPTOP-30N4Q54J.mshome.net:55632/jars/lz4-java-1.4.0.jar with timestamp 1657146046397\n",
      "22/07/07 00:20:46 INFO SparkContext: Added JAR file:/C:/Users/alvar/AppData/Local/Coursier/cache/v1/https/repo1.maven.org/maven2/io/netty/netty/3.9.9.Final/netty-3.9.9.Final.jar at spark://LAPTOP-30N4Q54J.mshome.net:55632/jars/netty-3.9.9.Final.jar with timestamp 1657146046398\n",
      "22/07/07 00:20:46 INFO SparkContext: Added JAR file:/C:/Users/alvar/AppData/Local/Coursier/cache/v1/https/repo1.maven.org/maven2/org/apache/spark/spark-network-common_2.12/2.4.5/spark-network-common_2.12-2.4.5.jar at spark://LAPTOP-30N4Q54J.mshome.net:55632/jars/spark-network-common_2.12-2.4.5.jar with timestamp 1657146046399\n",
      "22/07/07 00:20:46 INFO SparkContext: Added JAR file:/C:/Users/alvar/AppData/Local/Coursier/cache/v1/https/repo1.maven.org/maven2/aopalliance/aopalliance/1.0/aopalliance-1.0.jar at spark://LAPTOP-30N4Q54J.mshome.net:55632/jars/aopalliance-1.0.jar with timestamp 1657146046402\n",
      "22/07/07 00:20:46 INFO SparkContext: Added JAR file:/C:/Users/alvar/AppData/Local/Coursier/cache/v1/https/repo1.maven.org/maven2/com/fasterxml/jackson/core/jackson-core/2.7.9/jackson-core-2.7.9.jar at spark://LAPTOP-30N4Q54J.mshome.net:55632/jars/jackson-core-2.7.9.jar with timestamp 1657146046404\n",
      "22/07/07 00:20:46 INFO SparkContext: Added JAR file:/C:/Users/alvar/AppData/Local/Coursier/cache/v1/https/repo1.maven.org/maven2/org/apache/spark/spark-sql_2.12/2.4.5/spark-sql_2.12-2.4.5.jar at spark://LAPTOP-30N4Q54J.mshome.net:55632/jars/spark-sql_2.12-2.4.5.jar with timestamp 1657146046407\n",
      "22/07/07 00:20:46 INFO SparkContext: Added JAR file:/C:/Users/alvar/AppData/Local/Coursier/cache/v1/https/repo1.maven.org/maven2/com/google/code/gson/gson/2.2.4/gson-2.2.4.jar at spark://LAPTOP-30N4Q54J.mshome.net:55632/jars/gson-2.2.4.jar with timestamp 1657146046408\n",
      "22/07/07 00:20:46 INFO SparkContext: Added JAR file:/C:/Users/alvar/AppData/Local/Coursier/cache/v1/https/repo1.maven.org/maven2/org/apache/directory/api/api-util/1.0.0-M20/api-util-1.0.0-M20.jar at spark://LAPTOP-30N4Q54J.mshome.net:55632/jars/api-util-1.0.0-M20.jar with timestamp 1657146046410\n",
      "22/07/07 00:20:46 INFO SparkContext: Added JAR file:/C:/Users/alvar/AppData/Local/Coursier/cache/v1/https/repo1.maven.org/maven2/org/apache/hadoop/hadoop-yarn-client/2.6.5/hadoop-yarn-client-2.6.5.jar at spark://LAPTOP-30N4Q54J.mshome.net:55632/jars/hadoop-yarn-client-2.6.5.jar with timestamp 1657146046423\n",
      "22/07/07 00:20:46 INFO SparkContext: Added JAR file:/C:/Users/alvar/AppData/Local/Coursier/cache/v1/https/repo1.maven.org/maven2/javax/xml/bind/jaxb-api/2.2.2/jaxb-api-2.2.2.jar at spark://LAPTOP-30N4Q54J.mshome.net:55632/jars/jaxb-api-2.2.2.jar with timestamp 1657146046424\n",
      "22/07/07 00:20:46 INFO SparkContext: Added JAR file:/C:/Users/alvar/AppData/Local/Coursier/cache/v1/https/repo1.maven.org/maven2/org/apache/spark/spark-tags_2.12/2.4.5/spark-tags_2.12-2.4.5.jar at spark://LAPTOP-30N4Q54J.mshome.net:55632/jars/spark-tags_2.12-2.4.5.jar with timestamp 1657146046426\n",
      "22/07/07 00:20:46 INFO SparkContext: Added JAR file:/C:/Users/alvar/AppData/Local/Coursier/cache/v1/https/repo1.maven.org/maven2/org/apache/parquet/parquet-jackson/1.10.1/parquet-jackson-1.10.1.jar at spark://LAPTOP-30N4Q54J.mshome.net:55632/jars/parquet-jackson-1.10.1.jar with timestamp 1657146046427\n",
      "22/07/07 00:20:46 INFO SparkContext: Added JAR file:/C:/Users/alvar/AppData/Local/Coursier/cache/v1/https/repo1.maven.org/maven2/org/roaringbitmap/shims/0.7.45/shims-0.7.45.jar at spark://LAPTOP-30N4Q54J.mshome.net:55632/jars/shims-0.7.45.jar with timestamp 1657146046431\n",
      "22/07/07 00:20:46 INFO SparkContext: Added JAR file:/C:/Users/alvar/AppData/Local/Coursier/cache/v1/https/repo1.maven.org/maven2/com/thoughtworks/paranamer/paranamer/2.8/paranamer-2.8.jar at spark://LAPTOP-30N4Q54J.mshome.net:55632/jars/paranamer-2.8.jar with timestamp 1657146046434\n",
      "22/07/07 00:20:46 INFO SparkContext: Added JAR file:/C:/Users/alvar/AppData/Local/Coursier/cache/v1/https/repo1.maven.org/maven2/org/apache/avro/avro/1.8.2/avro-1.8.2.jar at spark://LAPTOP-30N4Q54J.mshome.net:55632/jars/avro-1.8.2.jar with timestamp 1657146046435\n",
      "22/07/07 00:20:46 INFO SparkContext: Added JAR file:/C:/Users/alvar/AppData/Local/Coursier/cache/v1/https/repo1.maven.org/maven2/org/apache/httpcomponents/httpcore/4.2.4/httpcore-4.2.4.jar at spark://LAPTOP-30N4Q54J.mshome.net:55632/jars/httpcore-4.2.4.jar with timestamp 1657146046436\n",
      "22/07/07 00:20:46 INFO SparkContext: Added JAR file:/C:/Users/alvar/AppData/Local/Coursier/cache/v1/https/repo1.maven.org/maven2/com/carrotsearch/hppc/0.7.2/hppc-0.7.2.jar at spark://LAPTOP-30N4Q54J.mshome.net:55632/jars/hppc-0.7.2.jar with timestamp 1657146046438\n",
      "22/07/07 00:20:46 INFO SparkContext: Added JAR file:/C:/Users/alvar/AppData/Local/Coursier/cache/v1/https/repo1.maven.org/maven2/com/fasterxml/jackson/core/jackson-databind/2.6.7.3/jackson-databind-2.6.7.3.jar at spark://LAPTOP-30N4Q54J.mshome.net:55632/jars/jackson-databind-2.6.7.3.jar with timestamp 1657146046439\n",
      "22/07/07 00:20:46 INFO SparkContext: Added JAR file:/C:/Users/alvar/AppData/Local/Coursier/cache/v1/https/repo1.maven.org/maven2/org/apache/spark/spark-kvstore_2.12/2.4.5/spark-kvstore_2.12-2.4.5.jar at spark://LAPTOP-30N4Q54J.mshome.net:55632/jars/spark-kvstore_2.12-2.4.5.jar with timestamp 1657146046441\n"
     ]
    },
    {
     "name": "stderr",
     "output_type": "stream",
     "text": [
      "22/07/07 00:20:46 INFO SparkContext: Added JAR file:/C:/Users/alvar/AppData/Local/Coursier/cache/v1/https/repo1.maven.org/maven2/commons-codec/commons-codec/1.10/commons-codec-1.10.jar at spark://LAPTOP-30N4Q54J.mshome.net:55632/jars/commons-codec-1.10.jar with timestamp 1657146046444\n",
      "22/07/07 00:20:46 INFO SparkContext: Added JAR file:/C:/Users/alvar/AppData/Local/Coursier/cache/v1/https/repo1.maven.org/maven2/org/mortbay/jetty/jetty-util/6.1.26/jetty-util-6.1.26.jar at spark://LAPTOP-30N4Q54J.mshome.net:55632/jars/jetty-util-6.1.26.jar with timestamp 1657146046447\n",
      "22/07/07 00:20:46 INFO SparkContext: Added JAR file:/C:/Users/alvar/AppData/Local/Coursier/cache/v1/https/repo1.maven.org/maven2/org/apache/hadoop/hadoop-yarn-common/2.6.5/hadoop-yarn-common-2.6.5.jar at spark://LAPTOP-30N4Q54J.mshome.net:55632/jars/hadoop-yarn-common-2.6.5.jar with timestamp 1657146046448\n",
      "22/07/07 00:20:46 INFO SparkContext: Added JAR file:/C:/Users/alvar/AppData/Local/Coursier/cache/v1/https/repo1.maven.org/maven2/org/json4s/json4s-scalap_2.12/3.5.3/json4s-scalap_2.12-3.5.3.jar at spark://LAPTOP-30N4Q54J.mshome.net:55632/jars/json4s-scalap_2.12-3.5.3.jar with timestamp 1657146046451\n",
      "22/07/07 00:20:46 INFO SparkContext: Added JAR file:/C:/Users/alvar/AppData/Local/Coursier/cache/v1/https/repo1.maven.org/maven2/commons-beanutils/commons-beanutils/1.7.0/commons-beanutils-1.7.0.jar at spark://LAPTOP-30N4Q54J.mshome.net:55632/jars/commons-beanutils-1.7.0.jar with timestamp 1657146046453\n",
      "22/07/07 00:20:46 INFO SparkContext: Added JAR file:/C:/Users/alvar/AppData/Local/Coursier/cache/v1/https/repo1.maven.org/maven2/org/apache/avro/avro-ipc/1.8.2/avro-ipc-1.8.2.jar at spark://LAPTOP-30N4Q54J.mshome.net:55632/jars/avro-ipc-1.8.2.jar with timestamp 1657146046455\n",
      "22/07/07 00:20:46 INFO SparkContext: Added JAR file:/C:/Users/alvar/AppData/Local/Coursier/cache/v1/https/repo1.maven.org/maven2/org/apache/hadoop/hadoop-auth/2.6.5/hadoop-auth-2.6.5.jar at spark://LAPTOP-30N4Q54J.mshome.net:55632/jars/hadoop-auth-2.6.5.jar with timestamp 1657146046456\n",
      "22/07/07 00:20:46 INFO SparkContext: Added JAR file:/C:/Users/alvar/AppData/Local/Coursier/cache/v1/https/repo1.maven.org/maven2/org/apache/arrow/arrow-vector/0.10.0/arrow-vector-0.10.0.jar at spark://LAPTOP-30N4Q54J.mshome.net:55632/jars/arrow-vector-0.10.0.jar with timestamp 1657146046457\n",
      "22/07/07 00:20:46 INFO SparkContext: Added JAR file:/C:/Users/alvar/AppData/Local/Coursier/cache/v1/https/repo1.maven.org/maven2/org/apache/parquet/parquet-common/1.10.1/parquet-common-1.10.1.jar at spark://LAPTOP-30N4Q54J.mshome.net:55632/jars/parquet-common-1.10.1.jar with timestamp 1657146046458\n",
      "22/07/07 00:20:46 INFO SparkContext: Added JAR file:/C:/Users/alvar/AppData/Local/Coursier/cache/v1/https/repo1.maven.org/maven2/com/ning/compress-lzf/1.0.3/compress-lzf-1.0.3.jar at spark://LAPTOP-30N4Q54J.mshome.net:55632/jars/compress-lzf-1.0.3.jar with timestamp 1657146046459\n",
      "22/07/07 00:20:46 INFO SparkContext: Added JAR file:/C:/Users/alvar/AppData/Local/Coursier/cache/v1/https/repo1.maven.org/maven2/log4j/log4j/1.2.17/log4j-1.2.17.jar at spark://LAPTOP-30N4Q54J.mshome.net:55632/jars/log4j-1.2.17.jar with timestamp 1657146046460\n",
      "22/07/07 00:20:46 INFO SparkContext: Added JAR file:/C:/Users/alvar/AppData/Local/Coursier/cache/v1/https/repo1.maven.org/maven2/com/clearspring/analytics/stream/2.7.0/stream-2.7.0.jar at spark://LAPTOP-30N4Q54J.mshome.net:55632/jars/stream-2.7.0.jar with timestamp 1657146046461\n",
      "22/07/07 00:20:46 INFO SparkContext: Added JAR file:/C:/Users/alvar/AppData/Local/Coursier/cache/v1/https/repo1.maven.org/maven2/com/vlkan/flatbuffers/1.2.0-3f79e055/flatbuffers-1.2.0-3f79e055.jar at spark://LAPTOP-30N4Q54J.mshome.net:55632/jars/flatbuffers-1.2.0-3f79e055.jar with timestamp 1657146046463\n",
      "22/07/07 00:20:46 INFO SparkContext: Added JAR file:/C:/Users/alvar/AppData/Local/Coursier/cache/v1/https/repo1.maven.org/maven2/org/apache/directory/server/apacheds-i18n/2.0.0-M15/apacheds-i18n-2.0.0-M15.jar at spark://LAPTOP-30N4Q54J.mshome.net:55632/jars/apacheds-i18n-2.0.0-M15.jar with timestamp 1657146046465\n",
      "22/07/07 00:20:46 INFO SparkContext: Added JAR file:/C:/Users/alvar/AppData/Local/Coursier/cache/v1/https/repo1.maven.org/maven2/javax/activation/activation/1.1.1/activation-1.1.1.jar at spark://LAPTOP-30N4Q54J.mshome.net:55632/jars/activation-1.1.1.jar with timestamp 1657146046467\n",
      "22/07/07 00:20:46 INFO SparkContext: Added JAR file:/C:/Users/alvar/AppData/Local/Coursier/cache/v1/https/repo1.maven.org/maven2/javax/inject/javax.inject/1/javax.inject-1.jar at spark://LAPTOP-30N4Q54J.mshome.net:55632/jars/javax.inject-1.jar with timestamp 1657146046470\n",
      "22/07/07 00:20:46 INFO SparkContext: Added JAR file:/C:/Users/alvar/AppData/Local/Coursier/cache/v1/https/repo1.maven.org/maven2/org/slf4j/jul-to-slf4j/1.7.16/jul-to-slf4j-1.7.16.jar at spark://LAPTOP-30N4Q54J.mshome.net:55632/jars/jul-to-slf4j-1.7.16.jar with timestamp 1657146046471\n",
      "22/07/07 00:20:46 INFO SparkContext: Added JAR file:/C:/Users/alvar/AppData/Local/Coursier/cache/v1/https/repo1.maven.org/maven2/com/esotericsoftware/minlog/1.3.0/minlog-1.3.0.jar at spark://LAPTOP-30N4Q54J.mshome.net:55632/jars/minlog-1.3.0.jar with timestamp 1657146046474\n",
      "22/07/07 00:20:46 INFO SparkContext: Added JAR file:/C:/Users/alvar/AppData/Local/Coursier/cache/v1/https/repo1.maven.org/maven2/xmlenc/xmlenc/0.52/xmlenc-0.52.jar at spark://LAPTOP-30N4Q54J.mshome.net:55632/jars/xmlenc-0.52.jar with timestamp 1657146046484\n",
      "22/07/07 00:20:46 INFO SparkContext: Added JAR file:/C:/Users/alvar/AppData/Local/Coursier/cache/v1/https/repo1.maven.org/maven2/com/univocity/univocity-parsers/2.7.3/univocity-parsers-2.7.3.jar at spark://LAPTOP-30N4Q54J.mshome.net:55632/jars/univocity-parsers-2.7.3.jar with timestamp 1657146046486\n",
      "22/07/07 00:20:46 INFO SparkContext: Added JAR file:/C:/Users/alvar/AppData/Local/Coursier/cache/v1/https/repo1.maven.org/maven2/org/codehaus/janino/janino/3.0.9/janino-3.0.9.jar at spark://LAPTOP-30N4Q54J.mshome.net:55632/jars/janino-3.0.9.jar with timestamp 1657146046488\n",
      "22/07/07 00:20:46 INFO SparkContext: Added JAR file:/C:/Users/alvar/AppData/Local/Coursier/cache/v1/https/repo1.maven.org/maven2/org/apache/spark/spark-core_2.12/2.4.5/spark-core_2.12-2.4.5.jar at spark://LAPTOP-30N4Q54J.mshome.net:55632/jars/spark-core_2.12-2.4.5.jar with timestamp 1657146046489\n",
      "22/07/07 00:20:46 INFO SparkContext: Added JAR file:/C:/Users/alvar/AppData/Local/Coursier/cache/v1/https/repo1.maven.org/maven2/commons-lang/commons-lang/2.6/commons-lang-2.6.jar at spark://LAPTOP-30N4Q54J.mshome.net:55632/jars/commons-lang-2.6.jar with timestamp 1657146046491\n",
      "22/07/07 00:20:46 INFO SparkContext: Added JAR file:/C:/Users/alvar/AppData/Local/Coursier/cache/v1/https/repo1.maven.org/maven2/org/slf4j/slf4j-api/1.7.25/slf4j-api-1.7.25.jar at spark://LAPTOP-30N4Q54J.mshome.net:55632/jars/slf4j-api-1.7.25.jar with timestamp 1657146046493\n",
      "22/07/07 00:20:46 INFO SparkContext: Added JAR file:/C:/Users/alvar/AppData/Local/Coursier/cache/v1/https/repo1.maven.org/maven2/oro/oro/2.0.8/oro-2.0.8.jar at spark://LAPTOP-30N4Q54J.mshome.net:55632/jars/oro-2.0.8.jar with timestamp 1657146046494\n",
      "22/07/07 00:20:46 INFO SparkContext: Added JAR file:/C:/Users/alvar/AppData/Local/Coursier/cache/v1/https/repo1.maven.org/maven2/javax/annotation/javax.annotation-api/1.2/javax.annotation-api-1.2.jar at spark://LAPTOP-30N4Q54J.mshome.net:55632/jars/javax.annotation-api-1.2.jar with timestamp 1657146046494\n",
      "22/07/07 00:20:46 INFO SparkContext: Added JAR file:/C:/Users/alvar/AppData/Local/Coursier/cache/v1/https/repo1.maven.org/maven2/commons-cli/commons-cli/1.2/commons-cli-1.2.jar at spark://LAPTOP-30N4Q54J.mshome.net:55632/jars/commons-cli-1.2.jar with timestamp 1657146046496\n",
      "22/07/07 00:20:46 INFO SparkContext: Added JAR file:/C:/Users/alvar/AppData/Local/Coursier/cache/v1/https/repo1.maven.org/maven2/org/apache/commons/commons-math3/3.4.1/commons-math3-3.4.1.jar at spark://LAPTOP-30N4Q54J.mshome.net:55632/jars/commons-math3-3.4.1.jar with timestamp 1657146046498\n",
      "22/07/07 00:20:46 INFO SparkContext: Added JAR file:/C:/Users/alvar/AppData/Local/Coursier/cache/v1/https/repo1.maven.org/maven2/org/codehaus/jackson/jackson-core-asl/1.9.13/jackson-core-asl-1.9.13.jar at spark://LAPTOP-30N4Q54J.mshome.net:55632/jars/jackson-core-asl-1.9.13.jar with timestamp 1657146046499\n"
     ]
    },
    {
     "name": "stderr",
     "output_type": "stream",
     "text": [
      "22/07/07 00:20:46 INFO SparkContext: Added JAR file:/C:/Users/alvar/AppData/Local/Coursier/cache/v1/https/repo1.maven.org/maven2/org/apache/orc/orc-core/1.5.5/orc-core-1.5.5-nohive.jar at spark://LAPTOP-30N4Q54J.mshome.net:55632/jars/orc-core-1.5.5-nohive.jar with timestamp 1657146046501\n",
      "22/07/07 00:20:46 INFO SparkContext: Added JAR file:/C:/Users/alvar/AppData/Local/Coursier/cache/v1/https/repo1.maven.org/maven2/com/google/guava/guava/16.0.1/guava-16.0.1.jar at spark://LAPTOP-30N4Q54J.mshome.net:55632/jars/guava-16.0.1.jar with timestamp 1657146046502\n",
      "22/07/07 00:20:46 INFO SparkContext: Added JAR file:/C:/Users/alvar/AppData/Local/Coursier/cache/v1/https/repo1.maven.org/maven2/org/apache/hadoop/hadoop-yarn-server-common/2.6.5/hadoop-yarn-server-common-2.6.5.jar at spark://LAPTOP-30N4Q54J.mshome.net:55632/jars/hadoop-yarn-server-common-2.6.5.jar with timestamp 1657146046504\n",
      "22/07/07 00:20:46 INFO SparkContext: Added JAR file:/C:/Users/alvar/AppData/Local/Coursier/cache/v1/https/repo1.maven.org/maven2/org/glassfish/hk2/hk2-api/2.4.0-b34/hk2-api-2.4.0-b34.jar at spark://LAPTOP-30N4Q54J.mshome.net:55632/jars/hk2-api-2.4.0-b34.jar with timestamp 1657146046505\n",
      "22/07/07 00:20:46 INFO SparkContext: Added JAR file:/C:/Users/alvar/AppData/Local/Coursier/cache/v1/https/repo1.maven.org/maven2/org/fusesource/leveldbjni/leveldbjni-all/1.8/leveldbjni-all-1.8.jar at spark://LAPTOP-30N4Q54J.mshome.net:55632/jars/leveldbjni-all-1.8.jar with timestamp 1657146046506\n",
      "22/07/07 00:20:46 INFO SparkContext: Added JAR file:/C:/Users/alvar/AppData/Local/Coursier/cache/v1/https/repo1.maven.org/maven2/org/glassfish/hk2/osgi-resource-locator/1.0.1/osgi-resource-locator-1.0.1.jar at spark://LAPTOP-30N4Q54J.mshome.net:55632/jars/osgi-resource-locator-1.0.1.jar with timestamp 1657146046507\n",
      "22/07/07 00:20:46 INFO SparkContext: Added JAR file:/C:/Users/alvar/AppData/Local/Coursier/cache/v1/https/repo1.maven.org/maven2/org/scala-lang/modules/scala-parser-combinators_2.12/1.1.0/scala-parser-combinators_2.12-1.1.0.jar at spark://LAPTOP-30N4Q54J.mshome.net:55632/jars/scala-parser-combinators_2.12-1.1.0.jar with timestamp 1657146046508\n",
      "22/07/07 00:20:46 INFO SparkContext: Added JAR file:/C:/Users/alvar/AppData/Local/Coursier/cache/v1/https/repo1.maven.org/maven2/org/apache/spark/spark-catalyst_2.12/2.4.5/spark-catalyst_2.12-2.4.5.jar at spark://LAPTOP-30N4Q54J.mshome.net:55632/jars/spark-catalyst_2.12-2.4.5.jar with timestamp 1657146046509\n",
      "22/07/07 00:20:46 INFO SparkContext: Added JAR file:/C:/Users/alvar/AppData/Local/Coursier/cache/v1/https/repo1.maven.org/maven2/org/apache/hadoop/hadoop-yarn-api/2.6.5/hadoop-yarn-api-2.6.5.jar at spark://LAPTOP-30N4Q54J.mshome.net:55632/jars/hadoop-yarn-api-2.6.5.jar with timestamp 1657146046510\n",
      "22/07/07 00:20:46 INFO SparkContext: Added JAR file:/C:/Users/alvar/AppData/Local/Coursier/cache/v1/https/repo1.maven.org/maven2/org/apache/commons/commons-lang3/3.5/commons-lang3-3.5.jar at spark://LAPTOP-30N4Q54J.mshome.net:55632/jars/commons-lang3-3.5.jar with timestamp 1657146046512\n",
      "22/07/07 00:20:46 INFO SparkContext: Added JAR file:/C:/Users/alvar/AppData/Local/Coursier/cache/v1/https/repo1.maven.org/maven2/commons-collections/commons-collections/3.2.2/commons-collections-3.2.2.jar at spark://LAPTOP-30N4Q54J.mshome.net:55632/jars/commons-collections-3.2.2.jar with timestamp 1657146046513\n",
      "22/07/07 00:20:46 INFO SparkContext: Added JAR file:/C:/Users/alvar/AppData/Local/Coursier/cache/v1/https/repo1.maven.org/maven2/org/glassfish/hk2/hk2-utils/2.4.0-b34/hk2-utils-2.4.0-b34.jar at spark://LAPTOP-30N4Q54J.mshome.net:55632/jars/hk2-utils-2.4.0-b34.jar with timestamp 1657146046517\n",
      "22/07/07 00:20:46 INFO SparkContext: Added JAR file:/C:/Users/alvar/AppData/Local/Coursier/cache/v1/https/repo1.maven.org/maven2/org/tukaani/xz/1.5/xz-1.5.jar at spark://LAPTOP-30N4Q54J.mshome.net:55632/jars/xz-1.5.jar with timestamp 1657146046519\n",
      "22/07/07 00:20:46 INFO SparkContext: Added JAR file:/C:/Users/alvar/AppData/Local/Coursier/cache/v1/https/repo1.maven.org/maven2/org/apache/hadoop/hadoop-common/2.6.5/hadoop-common-2.6.5.jar at spark://LAPTOP-30N4Q54J.mshome.net:55632/jars/hadoop-common-2.6.5.jar with timestamp 1657146046520\n",
      "22/07/07 00:20:46 INFO SparkContext: Added JAR file:/C:/Users/alvar/AppData/Local/Coursier/cache/v1/https/repo1.maven.org/maven2/org/apache/hadoop/hadoop-mapreduce-client-core/2.6.5/hadoop-mapreduce-client-core-2.6.5.jar at spark://LAPTOP-30N4Q54J.mshome.net:55632/jars/hadoop-mapreduce-client-core-2.6.5.jar with timestamp 1657146046522\n",
      "22/07/07 00:20:46 INFO SparkContext: Added JAR file:/C:/Users/alvar/AppData/Local/Coursier/cache/v1/https/repo1.maven.org/maven2/jline/jline/0.9.94/jline-0.9.94.jar at spark://LAPTOP-30N4Q54J.mshome.net:55632/jars/jline-0.9.94.jar with timestamp 1657146046523\n",
      "22/07/07 00:20:46 INFO SparkContext: Added JAR file:/C:/Users/alvar/AppData/Local/Coursier/cache/v1/https/repo1.maven.org/maven2/org/apache/orc/orc-mapreduce/1.5.5/orc-mapreduce-1.5.5-nohive.jar at spark://LAPTOP-30N4Q54J.mshome.net:55632/jars/orc-mapreduce-1.5.5-nohive.jar with timestamp 1657146046526\n",
      "22/07/07 00:20:46 INFO SparkContext: Added JAR file:/C:/Users/alvar/AppData/Local/Coursier/cache/v1/https/repo1.maven.org/maven2/org/apache/httpcomponents/httpclient/4.2.5/httpclient-4.2.5.jar at spark://LAPTOP-30N4Q54J.mshome.net:55632/jars/httpclient-4.2.5.jar with timestamp 1657146046529\n",
      "22/07/07 00:20:46 INFO SparkContext: Added JAR file:/C:/Users/alvar/AppData/Local/Coursier/cache/v1/https/repo1.maven.org/maven2/org/apache/hadoop/hadoop-annotations/2.6.5/hadoop-annotations-2.6.5.jar at spark://LAPTOP-30N4Q54J.mshome.net:55632/jars/hadoop-annotations-2.6.5.jar with timestamp 1657146046531\n",
      "22/07/07 00:20:46 INFO SparkContext: Added JAR file:/C:/Users/alvar/AppData/Local/Coursier/cache/v1/https/repo1.maven.org/maven2/org/spark-project/spark/unused/1.0.0/unused-1.0.0.jar at spark://LAPTOP-30N4Q54J.mshome.net:55632/jars/unused-1.0.0.jar with timestamp 1657146046533\n",
      "22/07/07 00:20:46 INFO SparkContext: Added JAR file:/C:/Users/alvar/AppData/Local/Coursier/cache/v1/https/repo1.maven.org/maven2/org/glassfish/jersey/containers/jersey-container-servlet-core/2.22.2/jersey-container-servlet-core-2.22.2.jar at spark://LAPTOP-30N4Q54J.mshome.net:55632/jars/jersey-container-servlet-core-2.22.2.jar with timestamp 1657146046534\n",
      "22/07/07 00:20:46 INFO SparkContext: Added JAR file:/C:/Users/alvar/AppData/Local/Coursier/cache/v1/https/repo1.maven.org/maven2/org/codehaus/janino/commons-compiler/3.0.9/commons-compiler-3.0.9.jar at spark://LAPTOP-30N4Q54J.mshome.net:55632/jars/commons-compiler-3.0.9.jar with timestamp 1657146046535\n",
      "22/07/07 00:20:46 INFO SparkContext: Added JAR file:/C:/Users/alvar/AppData/Local/Coursier/cache/v1/https/repo1.maven.org/maven2/org/glassfish/hk2/hk2-locator/2.4.0-b34/hk2-locator-2.4.0-b34.jar at spark://LAPTOP-30N4Q54J.mshome.net:55632/jars/hk2-locator-2.4.0-b34.jar with timestamp 1657146046536\n",
      "22/07/07 00:20:46 INFO SparkContext: Added JAR file:/C:/Users/alvar/AppData/Local/Coursier/cache/v1/https/repo1.maven.org/maven2/org/codehaus/jackson/jackson-mapper-asl/1.9.13/jackson-mapper-asl-1.9.13.jar at spark://LAPTOP-30N4Q54J.mshome.net:55632/jars/jackson-mapper-asl-1.9.13.jar with timestamp 1657146046538\n",
      "22/07/07 00:20:46 INFO SparkContext: Added JAR file:/C:/Users/alvar/AppData/Local/Coursier/cache/v1/https/repo1.maven.org/maven2/net/sf/py4j/py4j/0.10.7/py4j-0.10.7.jar at spark://LAPTOP-30N4Q54J.mshome.net:55632/jars/py4j-0.10.7.jar with timestamp 1657146046538\n",
      "22/07/07 00:20:46 INFO SparkContext: Added JAR file:/C:/Users/alvar/AppData/Local/Coursier/cache/v1/https/repo1.maven.org/maven2/org/apache/curator/curator-recipes/2.6.0/curator-recipes-2.6.0.jar at spark://LAPTOP-30N4Q54J.mshome.net:55632/jars/curator-recipes-2.6.0.jar with timestamp 1657146046539\n",
      "22/07/07 00:20:46 INFO SparkContext: Added JAR file:/C:/Users/alvar/AppData/Local/Coursier/cache/v1/https/repo1.maven.org/maven2/com/google/code/findbugs/jsr305/3.0.2/jsr305-3.0.2.jar at spark://LAPTOP-30N4Q54J.mshome.net:55632/jars/jsr305-3.0.2.jar with timestamp 1657146046540\n",
      "22/07/07 00:20:46 INFO SparkContext: Added JAR file:/C:/Users/alvar/AppData/Local/Coursier/cache/v1/https/repo1.maven.org/maven2/org/apache/orc/orc-shims/1.5.5/orc-shims-1.5.5.jar at spark://LAPTOP-30N4Q54J.mshome.net:55632/jars/orc-shims-1.5.5.jar with timestamp 1657146046541\n"
     ]
    },
    {
     "name": "stderr",
     "output_type": "stream",
     "text": [
      "22/07/07 00:20:46 INFO SparkContext: Added JAR file:/C:/Users/alvar/AppData/Local/Coursier/cache/v1/https/repo1.maven.org/maven2/org/apache/curator/curator-client/2.6.0/curator-client-2.6.0.jar at spark://LAPTOP-30N4Q54J.mshome.net:55632/jars/curator-client-2.6.0.jar with timestamp 1657146046542\n",
      "22/07/07 00:20:46 INFO SparkContext: Added JAR file:/C:/Users/alvar/AppData/Local/Coursier/cache/v1/https/repo1.maven.org/maven2/org/xerial/snappy/snappy-java/1.1.7.3/snappy-java-1.1.7.3.jar at spark://LAPTOP-30N4Q54J.mshome.net:55632/jars/snappy-java-1.1.7.3.jar with timestamp 1657146046543\n",
      "22/07/07 00:20:46 INFO SparkContext: Added JAR file:/C:/Users/alvar/AppData/Local/Coursier/cache/v1/https/repo1.maven.org/maven2/javax/validation/validation-api/1.1.0.Final/validation-api-1.1.0.Final.jar at spark://LAPTOP-30N4Q54J.mshome.net:55632/jars/validation-api-1.1.0.Final.jar with timestamp 1657146046544\n",
      "22/07/07 00:20:46 INFO SparkContext: Added JAR file:/C:/Users/alvar/AppData/Local/Coursier/cache/v1/https/repo1.maven.org/maven2/org/apache/hadoop/hadoop-hdfs/2.6.5/hadoop-hdfs-2.6.5.jar at spark://LAPTOP-30N4Q54J.mshome.net:55632/jars/hadoop-hdfs-2.6.5.jar with timestamp 1657146046545\n",
      "22/07/07 00:20:46 INFO SparkContext: Added JAR file:/C:/Users/alvar/AppData/Local/Coursier/cache/v1/https/repo1.maven.org/maven2/org/apache/ivy/ivy/2.4.0/ivy-2.4.0.jar at spark://LAPTOP-30N4Q54J.mshome.net:55632/jars/ivy-2.4.0.jar with timestamp 1657146046547\n",
      "22/07/07 00:20:46 INFO SparkContext: Added JAR file:/C:/Users/alvar/AppData/Local/Coursier/cache/v1/https/repo1.maven.org/maven2/javax/xml/stream/stax-api/1.0-2/stax-api-1.0-2.jar at spark://LAPTOP-30N4Q54J.mshome.net:55632/jars/stax-api-1.0-2.jar with timestamp 1657146046549\n",
      "22/07/07 00:20:46 INFO SparkContext: Added JAR file:/C:/Users/alvar/AppData/Local/Coursier/cache/v1/https/repo1.maven.org/maven2/org/roaringbitmap/RoaringBitmap/0.7.45/RoaringBitmap-0.7.45.jar at spark://LAPTOP-30N4Q54J.mshome.net:55632/jars/RoaringBitmap-0.7.45.jar with timestamp 1657146046550\n",
      "22/07/07 00:20:46 INFO SparkContext: Added JAR file:/C:/Users/alvar/AppData/Local/Coursier/cache/v1/https/repo1.maven.org/maven2/org/codehaus/jackson/jackson-jaxrs/1.9.13/jackson-jaxrs-1.9.13.jar at spark://LAPTOP-30N4Q54J.mshome.net:55632/jars/jackson-jaxrs-1.9.13.jar with timestamp 1657146046551\n",
      "22/07/07 00:20:46 INFO SparkContext: Added JAR file:/C:/Users/alvar/AppData/Local/Coursier/cache/v1/https/repo1.maven.org/maven2/io/dropwizard/metrics/metrics-json/3.1.5/metrics-json-3.1.5.jar at spark://LAPTOP-30N4Q54J.mshome.net:55632/jars/metrics-json-3.1.5.jar with timestamp 1657146046552\n",
      "22/07/07 00:20:46 INFO SparkContext: Added JAR file:/C:/Users/alvar/AppData/Local/Coursier/cache/v1/https/repo1.maven.org/maven2/org/glassfish/jersey/containers/jersey-container-servlet/2.22.2/jersey-container-servlet-2.22.2.jar at spark://LAPTOP-30N4Q54J.mshome.net:55632/jars/jersey-container-servlet-2.22.2.jar with timestamp 1657146046554\n",
      "22/07/07 00:20:46 INFO SparkContext: Added JAR file:/C:/Users/alvar/AppData/Local/Coursier/cache/v1/https/repo1.maven.org/maven2/org/codehaus/jackson/jackson-xc/1.9.13/jackson-xc-1.9.13.jar at spark://LAPTOP-30N4Q54J.mshome.net:55632/jars/jackson-xc-1.9.13.jar with timestamp 1657146046555\n",
      "22/07/07 00:20:46 INFO SparkContext: Added JAR file:/C:/Users/alvar/AppData/Local/Coursier/cache/v1/https/repo1.maven.org/maven2/javax/ws/rs/javax.ws.rs-api/2.0.1/javax.ws.rs-api-2.0.1.jar at spark://LAPTOP-30N4Q54J.mshome.net:55632/jars/javax.ws.rs-api-2.0.1.jar with timestamp 1657146046559\n",
      "22/07/07 00:20:46 INFO SparkContext: Added JAR file:/C:/Users/alvar/AppData/Local/Coursier/cache/v1/https/repo1.maven.org/maven2/com/fasterxml/jackson/module/jackson-module-scala_2.12/2.6.7.1/jackson-module-scala_2.12-2.6.7.1.jar at spark://LAPTOP-30N4Q54J.mshome.net:55632/jars/jackson-module-scala_2.12-2.6.7.1.jar with timestamp 1657146046560\n",
      "22/07/07 00:20:46 INFO SparkContext: Added JAR file:/C:/Users/alvar/AppData/Local/Coursier/cache/v1/https/repo1.maven.org/maven2/org/apache/parquet/parquet-column/1.10.1/parquet-column-1.10.1.jar at spark://LAPTOP-30N4Q54J.mshome.net:55632/jars/parquet-column-1.10.1.jar with timestamp 1657146046561\n",
      "22/07/07 00:20:46 INFO SparkContext: Added JAR file:/C:/Users/alvar/AppData/Local/Coursier/cache/v1/https/repo1.maven.org/maven2/com/esotericsoftware/kryo-shaded/4.0.2/kryo-shaded-4.0.2.jar at spark://LAPTOP-30N4Q54J.mshome.net:55632/jars/kryo-shaded-4.0.2.jar with timestamp 1657146046563\n",
      "22/07/07 00:20:46 INFO SparkContext: Added JAR file:/C:/Users/alvar/AppData/Local/Coursier/cache/v1/https/repo1.maven.org/maven2/org/apache/directory/api/api-asn1-api/1.0.0-M20/api-asn1-api-1.0.0-M20.jar at spark://LAPTOP-30N4Q54J.mshome.net:55632/jars/api-asn1-api-1.0.0-M20.jar with timestamp 1657146046564\n",
      "22/07/07 00:20:46 INFO SparkContext: Added JAR file:/C:/Users/alvar/AppData/Local/Coursier/cache/v1/https/repo1.maven.org/maven2/net/razorvine/pyrolite/4.13/pyrolite-4.13.jar at spark://LAPTOP-30N4Q54J.mshome.net:55632/jars/pyrolite-4.13.jar with timestamp 1657146046565\n",
      "22/07/07 00:20:46 INFO SparkContext: Added JAR file:/C:/Users/alvar/AppData/Local/Coursier/cache/v1/https/repo1.maven.org/maven2/org/apache/parquet/parquet-format/2.4.0/parquet-format-2.4.0.jar at spark://LAPTOP-30N4Q54J.mshome.net:55632/jars/parquet-format-2.4.0.jar with timestamp 1657146046566\n",
      "22/07/07 00:20:46 INFO SparkContext: Added JAR file:/C:/Users/alvar/AppData/Local/Coursier/cache/v1/https/repo1.maven.org/maven2/org/scala-lang/modules/scala-xml_2.12/1.0.6/scala-xml_2.12-1.0.6.jar at spark://LAPTOP-30N4Q54J.mshome.net:55632/jars/scala-xml_2.12-1.0.6.jar with timestamp 1657146046567\n",
      "22/07/07 00:20:46 INFO SparkContext: Added JAR file:/C:/Users/alvar/AppData/Local/Coursier/cache/v1/https/repo1.maven.org/maven2/org/apache/zookeeper/zookeeper/3.4.6/zookeeper-3.4.6.jar at spark://LAPTOP-30N4Q54J.mshome.net:55632/jars/zookeeper-3.4.6.jar with timestamp 1657146046568\n",
      "22/07/07 00:20:46 INFO SparkContext: Added JAR file:/C:/Users/alvar/AppData/Local/Coursier/cache/v1/https/repo1.maven.org/maven2/org/objenesis/objenesis/2.5.1/objenesis-2.5.1.jar at spark://LAPTOP-30N4Q54J.mshome.net:55632/jars/objenesis-2.5.1.jar with timestamp 1657146046569\n",
      "22/07/07 00:20:46 INFO SparkContext: Added JAR file:/C:/Users/alvar/AppData/Local/Coursier/cache/v1/https/repo1.maven.org/maven2/org/glassfish/jersey/media/jersey-media-jaxb/2.22.2/jersey-media-jaxb-2.22.2.jar at spark://LAPTOP-30N4Q54J.mshome.net:55632/jars/jersey-media-jaxb-2.22.2.jar with timestamp 1657146046570\n",
      "22/07/07 00:20:46 INFO SparkContext: Added JAR file:/C:/Users/alvar/AppData/Local/Coursier/cache/v1/https/repo1.maven.org/maven2/commons-httpclient/commons-httpclient/3.1/commons-httpclient-3.1.jar at spark://LAPTOP-30N4Q54J.mshome.net:55632/jars/commons-httpclient-3.1.jar with timestamp 1657146046571\n",
      "22/07/07 00:20:46 INFO SparkContext: Added JAR file:/C:/Users/alvar/AppData/Local/Coursier/cache/v1/https/repo1.maven.org/maven2/org/apache/hadoop/hadoop-mapreduce-client-jobclient/2.6.5/hadoop-mapreduce-client-jobclient-2.6.5.jar at spark://LAPTOP-30N4Q54J.mshome.net:55632/jars/hadoop-mapreduce-client-jobclient-2.6.5.jar with timestamp 1657146046573\n",
      "22/07/07 00:20:46 INFO SparkContext: Added JAR file:/C:/Users/alvar/AppData/Local/Coursier/cache/v1/https/repo1.maven.org/maven2/io/netty/netty-all/4.1.42.Final/netty-all-4.1.42.Final.jar at spark://LAPTOP-30N4Q54J.mshome.net:55632/jars/netty-all-4.1.42.Final.jar with timestamp 1657146046574\n",
      "22/07/07 00:20:46 INFO SparkContext: Added JAR file:/C:/Users/alvar/AppData/Local/Coursier/cache/v1/https/repo1.maven.org/maven2/org/apache/spark/spark-network-shuffle_2.12/2.4.5/spark-network-shuffle_2.12-2.4.5.jar at spark://LAPTOP-30N4Q54J.mshome.net:55632/jars/spark-network-shuffle_2.12-2.4.5.jar with timestamp 1657146046576\n",
      "22/07/07 00:20:46 INFO SparkContext: Added JAR file:/C:/Users/alvar/AppData/Local/Coursier/cache/v1/https/repo1.maven.org/maven2/org/apache/spark/spark-sketch_2.12/2.4.5/spark-sketch_2.12-2.4.5.jar at spark://LAPTOP-30N4Q54J.mshome.net:55632/jars/spark-sketch_2.12-2.4.5.jar with timestamp 1657146046577\n",
      "22/07/07 00:20:46 INFO SparkContext: Added JAR file:/C:/Users/alvar/AppData/Local/Coursier/cache/v1/https/repo1.maven.org/maven2/com/twitter/chill-java/0.9.3/chill-java-0.9.3.jar at spark://LAPTOP-30N4Q54J.mshome.net:55632/jars/chill-java-0.9.3.jar with timestamp 1657146046578\n"
     ]
    },
    {
     "name": "stderr",
     "output_type": "stream",
     "text": [
      "22/07/07 00:20:46 INFO SparkContext: Added JAR file:/C:/Users/alvar/AppData/Local/Coursier/cache/v1/https/repo1.maven.org/maven2/org/json4s/json4s-ast_2.12/3.5.3/json4s-ast_2.12-3.5.3.jar at spark://LAPTOP-30N4Q54J.mshome.net:55632/jars/json4s-ast_2.12-3.5.3.jar with timestamp 1657146046579\n",
      "22/07/07 00:20:46 INFO SparkContext: Added JAR file:/C:/Users/alvar/AppData/Local/Coursier/cache/v1/https/repo1.maven.org/maven2/org/apache/avro/avro-mapred/1.8.2/avro-mapred-1.8.2-hadoop2.jar at spark://LAPTOP-30N4Q54J.mshome.net:55632/jars/avro-mapred-1.8.2-hadoop2.jar with timestamp 1657146046581\n",
      "22/07/07 00:20:46 INFO SparkContext: Added JAR file:/C:/Users/alvar/AppData/Local/Coursier/cache/v1/https/repo1.maven.org/maven2/org/apache/parquet/parquet-encoding/1.10.1/parquet-encoding-1.10.1.jar at spark://LAPTOP-30N4Q54J.mshome.net:55632/jars/parquet-encoding-1.10.1.jar with timestamp 1657146046583\n",
      "22/07/07 00:20:46 INFO SparkContext: Added JAR file:/C:/Users/alvar/AppData/Local/Coursier/cache/v1/https/repo1.maven.org/maven2/commons-net/commons-net/3.1/commons-net-3.1.jar at spark://LAPTOP-30N4Q54J.mshome.net:55632/jars/commons-net-3.1.jar with timestamp 1657146046584\n",
      "22/07/07 00:20:46 INFO SparkContext: Added JAR file:/C:/Users/alvar/AppData/Local/Coursier/cache/v1/https/repo1.maven.org/maven2/io/dropwizard/metrics/metrics-jvm/3.1.5/metrics-jvm-3.1.5.jar at spark://LAPTOP-30N4Q54J.mshome.net:55632/jars/metrics-jvm-3.1.5.jar with timestamp 1657146046586\n",
      "22/07/07 00:20:46 INFO SparkContext: Added JAR file:/C:/Users/alvar/AppData/Local/Coursier/cache/v1/https/repo1.maven.org/maven2/org/glassfish/jersey/core/jersey-client/2.22.2/jersey-client-2.22.2.jar at spark://LAPTOP-30N4Q54J.mshome.net:55632/jars/jersey-client-2.22.2.jar with timestamp 1657146046587\n",
      "22/07/07 00:20:46 INFO SparkContext: Added JAR file:/C:/Users/alvar/AppData/Local/Coursier/cache/v1/https/repo1.maven.org/maven2/org/apache/arrow/arrow-memory/0.10.0/arrow-memory-0.10.0.jar at spark://LAPTOP-30N4Q54J.mshome.net:55632/jars/arrow-memory-0.10.0.jar with timestamp 1657146046593\n",
      "22/07/07 00:20:46 INFO SparkContext: Added JAR file:/C:/Users/alvar/AppData/Local/Coursier/cache/v1/https/repo1.maven.org/maven2/org/apache/hadoop/hadoop-mapreduce-client-shuffle/2.6.5/hadoop-mapreduce-client-shuffle-2.6.5.jar at spark://LAPTOP-30N4Q54J.mshome.net:55632/jars/hadoop-mapreduce-client-shuffle-2.6.5.jar with timestamp 1657146046594\n",
      "22/07/07 00:20:46 INFO SparkContext: Added JAR file:/C:/Users/alvar/AppData/Local/Coursier/cache/v1/https/repo1.maven.org/maven2/com/fasterxml/jackson/module/jackson-module-paranamer/2.7.9/jackson-module-paranamer-2.7.9.jar at spark://LAPTOP-30N4Q54J.mshome.net:55632/jars/jackson-module-paranamer-2.7.9.jar with timestamp 1657146046595\n",
      "22/07/07 00:20:46 INFO SparkContext: Added JAR file:/C:/Users/alvar/AppData/Local/Coursier/cache/v1/https/repo1.maven.org/maven2/org/apache/hadoop/hadoop-mapreduce-client-app/2.6.5/hadoop-mapreduce-client-app-2.6.5.jar at spark://LAPTOP-30N4Q54J.mshome.net:55632/jars/hadoop-mapreduce-client-app-2.6.5.jar with timestamp 1657146046601\n",
      "22/07/07 00:20:46 INFO SparkContext: Added JAR file:/C:/Users/alvar/AppData/Local/Coursier/cache/v1/https/repo1.maven.org/maven2/org/htrace/htrace-core/3.0.4/htrace-core-3.0.4.jar at spark://LAPTOP-30N4Q54J.mshome.net:55632/jars/htrace-core-3.0.4.jar with timestamp 1657146046603\n",
      "22/07/07 00:20:46 INFO SparkContext: Added JAR file:/C:/Users/alvar/AppData/Local/Coursier/cache/v1/https/repo1.maven.org/maven2/org/glassfish/jersey/bundles/repackaged/jersey-guava/2.22.2/jersey-guava-2.22.2.jar at spark://LAPTOP-30N4Q54J.mshome.net:55632/jars/jersey-guava-2.22.2.jar with timestamp 1657146046604\n",
      "22/07/07 00:20:46 INFO SparkContext: Added JAR file:/C:/Users/alvar/AppData/Local/Coursier/cache/v1/https/repo1.maven.org/maven2/commons-digester/commons-digester/1.8/commons-digester-1.8.jar at spark://LAPTOP-30N4Q54J.mshome.net:55632/jars/commons-digester-1.8.jar with timestamp 1657146046605\n",
      "22/07/07 00:20:46 INFO SparkContext: Added JAR file:/C:/Users/alvar/AppData/Local/Coursier/cache/v1/https/repo1.maven.org/maven2/org/apache/spark/spark-launcher_2.12/2.4.5/spark-launcher_2.12-2.4.5.jar at spark://LAPTOP-30N4Q54J.mshome.net:55632/jars/spark-launcher_2.12-2.4.5.jar with timestamp 1657146046606\n",
      "22/07/07 00:20:46 INFO SparkContext: Added JAR file:/C:/Users/alvar/AppData/Local/Coursier/cache/v1/https/repo1.maven.org/maven2/com/twitter/chill_2.12/0.9.3/chill_2.12-0.9.3.jar at spark://LAPTOP-30N4Q54J.mshome.net:55632/jars/chill_2.12-0.9.3.jar with timestamp 1657146046607\n",
      "22/07/07 00:20:46 INFO SparkContext: Added JAR file:/C:/Users/alvar/AppData/Local/Coursier/cache/v1/https/repo1.maven.org/maven2/org/apache/arrow/arrow-format/0.10.0/arrow-format-0.10.0.jar at spark://LAPTOP-30N4Q54J.mshome.net:55632/jars/arrow-format-0.10.0.jar with timestamp 1657146046609\n",
      "22/07/07 00:20:46 INFO SparkContext: Added JAR file:/C:/Users/alvar/AppData/Local/Coursier/cache/v1/https/repo1.maven.org/maven2/com/google/protobuf/protobuf-java/2.5.0/protobuf-java-2.5.0.jar at spark://LAPTOP-30N4Q54J.mshome.net:55632/jars/protobuf-java-2.5.0.jar with timestamp 1657146046610\n",
      "22/07/07 00:20:46 INFO SparkContext: Added JAR file:/C:/Users/alvar/AppData/Local/Coursier/cache/v1/https/repo1.maven.org/maven2/org/apache/directory/server/apacheds-kerberos-codec/2.0.0-M15/apacheds-kerberos-codec-2.0.0-M15.jar at spark://LAPTOP-30N4Q54J.mshome.net:55632/jars/apacheds-kerberos-codec-2.0.0-M15.jar with timestamp 1657146046611\n",
      "22/07/07 00:20:46 INFO SparkContext: Added JAR file:/C:/Users/alvar/AppData/Local/Coursier/cache/v1/https/repo1.maven.org/maven2/org/apache/hadoop/hadoop-client/2.6.5/hadoop-client-2.6.5.jar at spark://LAPTOP-30N4Q54J.mshome.net:55632/jars/hadoop-client-2.6.5.jar with timestamp 1657146046612\n",
      "22/07/07 00:20:46 INFO SparkContext: Added JAR file:/C:/Users/alvar/AppData/Local/Coursier/cache/v1/https/repo1.maven.org/maven2/io/dropwizard/metrics/metrics-graphite/3.1.5/metrics-graphite-3.1.5.jar at spark://LAPTOP-30N4Q54J.mshome.net:55632/jars/metrics-graphite-3.1.5.jar with timestamp 1657146046614\n",
      "22/07/07 00:20:46 INFO SparkContext: Added JAR file:/C:/Users/alvar/AppData/Local/Coursier/cache/v1/https/repo1.maven.org/maven2/org/json4s/json4s-jackson_2.12/3.5.3/json4s-jackson_2.12-3.5.3.jar at spark://LAPTOP-30N4Q54J.mshome.net:55632/jars/json4s-jackson_2.12-3.5.3.jar with timestamp 1657146046616\n",
      "22/07/07 00:20:46 INFO SparkContext: Added JAR file:/C:/Users/alvar/AppData/Local/Coursier/cache/v1/https/repo1.maven.org/maven2/org/glassfish/hk2/external/javax.inject/2.4.0-b34/javax.inject-2.4.0-b34.jar at spark://LAPTOP-30N4Q54J.mshome.net:55632/jars/javax.inject-2.4.0-b34.jar with timestamp 1657146046617\n",
      "22/07/07 00:20:46 INFO SparkContext: Added JAR file:/C:/Users/alvar/AppData/Local/Coursier/cache/v1/https/repo1.maven.org/maven2/org/glassfish/jersey/core/jersey-server/2.22.2/jersey-server-2.22.2.jar at spark://LAPTOP-30N4Q54J.mshome.net:55632/jars/jersey-server-2.22.2.jar with timestamp 1657146046618\n",
      "22/07/07 00:20:46 INFO SparkContext: Added JAR file:/C:/Users/alvar/AppData/Local/Coursier/cache/v1/https/repo1.maven.org/maven2/com/fasterxml/jackson/core/jackson-annotations/2.6.7/jackson-annotations-2.6.7.jar at spark://LAPTOP-30N4Q54J.mshome.net:55632/jars/jackson-annotations-2.6.7.jar with timestamp 1657146046619\n",
      "22/07/07 00:20:46 INFO SparkContext: Added JAR file:/C:/Users/alvar/AppData/Local/Coursier/cache/v1/https/repo1.maven.org/maven2/org/apache/hadoop/hadoop-mapreduce-client-common/2.6.5/hadoop-mapreduce-client-common-2.6.5.jar at spark://LAPTOP-30N4Q54J.mshome.net:55632/jars/hadoop-mapreduce-client-common-2.6.5.jar with timestamp 1657146046620\n",
      "22/07/07 00:20:46 INFO SparkContext: Added JAR file:/C:/Users/alvar/AppData/Local/Coursier/cache/v1/https/repo1.maven.org/maven2/org/apache/curator/curator-framework/2.6.0/curator-framework-2.6.0.jar at spark://LAPTOP-30N4Q54J.mshome.net:55632/jars/curator-framework-2.6.0.jar with timestamp 1657146046621\n",
      "22/07/07 00:20:46 INFO SparkContext: Added JAR file:/C:/Users/alvar/AppData/Local/Coursier/cache/v1/https/repo1.maven.org/maven2/sh/almond/almond-spark_2.12/0.4.0/almond-spark_2.12-0.4.0.jar at spark://LAPTOP-30N4Q54J.mshome.net:55632/jars/almond-spark_2.12-0.4.0.jar with timestamp 1657146046622\n"
     ]
    },
    {
     "name": "stderr",
     "output_type": "stream",
     "text": [
      "22/07/07 00:20:46 INFO SparkContext: Added JAR file:/C:/Users/alvar/AppData/Local/Coursier/cache/v1/https/repo1.maven.org/maven2/io/argonaut/argonaut_2.12/6.2.3/argonaut_2.12-6.2.3.jar at spark://LAPTOP-30N4Q54J.mshome.net:55632/jars/argonaut_2.12-6.2.3.jar with timestamp 1657146046624\n",
      "22/07/07 00:20:46 INFO SparkContext: Added JAR file:/C:/Users/alvar/AppData/Local/Coursier/cache/v1/https/repo1.maven.org/maven2/org/eclipse/jetty/jetty-server/9.4.15.v20190215/jetty-server-9.4.15.v20190215.jar at spark://LAPTOP-30N4Q54J.mshome.net:55632/jars/jetty-server-9.4.15.v20190215.jar with timestamp 1657146046624\n",
      "22/07/07 00:20:46 INFO SparkContext: Added JAR file:/C:/Users/alvar/AppData/Local/Coursier/cache/v1/https/repo1.maven.org/maven2/sh/almond/ammonite-spark_2.12/0.4.0/ammonite-spark_2.12-0.4.0.jar at spark://LAPTOP-30N4Q54J.mshome.net:55632/jars/ammonite-spark_2.12-0.4.0.jar with timestamp 1657146046625\n",
      "22/07/07 00:20:46 INFO SparkContext: Added JAR file:/C:/Users/alvar/AppData/Local/Coursier/cache/v1/https/repo1.maven.org/maven2/com/github/alexarchambault/argonaut-shapeless_6.2_2.12/1.2.0-M10/argonaut-shapeless_6.2_2.12-1.2.0-M10.jar at spark://LAPTOP-30N4Q54J.mshome.net:55632/jars/argonaut-shapeless_6.2_2.12-1.2.0-M10.jar with timestamp 1657146046626\n",
      "22/07/07 00:20:46 INFO SparkContext: Added JAR file:/C:/Users/alvar/AppData/Local/Coursier/cache/v1/https/repo1.maven.org/maven2/org/eclipse/jetty/jetty-io/9.4.15.v20190215/jetty-io-9.4.15.v20190215.jar at spark://LAPTOP-30N4Q54J.mshome.net:55632/jars/jetty-io-9.4.15.v20190215.jar with timestamp 1657146046627\n",
      "22/07/07 00:20:46 INFO SparkContext: Added JAR file:/C:/Users/alvar/AppData/Local/Coursier/cache/v1/https/repo1.maven.org/maven2/org/typelevel/macro-compat_2.12/1.1.1/macro-compat_2.12-1.1.1.jar at spark://LAPTOP-30N4Q54J.mshome.net:55632/jars/macro-compat_2.12-1.1.1.jar with timestamp 1657146046629\n",
      "22/07/07 00:20:46 INFO SparkContext: Added JAR file:/C:/Users/alvar/AppData/Local/Coursier/cache/v1/https/repo1.maven.org/maven2/org/eclipse/jetty/jetty-http/9.4.15.v20190215/jetty-http-9.4.15.v20190215.jar at spark://LAPTOP-30N4Q54J.mshome.net:55632/jars/jetty-http-9.4.15.v20190215.jar with timestamp 1657146046630\n",
      "22/07/07 00:20:46 INFO SparkContext: Added JAR file:/C:/Users/alvar/AppData/Local/Coursier/cache/v1/https/repo1.maven.org/maven2/org/eclipse/jetty/jetty-util/9.4.15.v20190215/jetty-util-9.4.15.v20190215.jar at spark://LAPTOP-30N4Q54J.mshome.net:55632/jars/jetty-util-9.4.15.v20190215.jar with timestamp 1657146046631\n",
      "22/07/07 00:20:46 INFO SparkContext: Added JAR file:/C:/Users/alvar/AppData/Local/Coursier/cache/v1/https/repo1.maven.org/maven2/com/chuusai/shapeless_2.12/2.3.3/shapeless_2.12-2.3.3.jar at spark://LAPTOP-30N4Q54J.mshome.net:55632/jars/shapeless_2.12-2.3.3.jar with timestamp 1657146046632\n",
      "22/07/07 00:20:46 INFO SparkContext: Added JAR file:/C:/Users/alvar/AppData/Local/Coursier/cache/v1/https/repo1.maven.org/maven2/sh/almond/spark-stubs_24_2.12/0.4.0/spark-stubs_24_2.12-0.4.0.jar at spark://LAPTOP-30N4Q54J.mshome.net:55632/jars/spark-stubs_24_2.12-0.4.0.jar with timestamp 1657146046633\n",
      "22/07/07 00:20:46 INFO Executor: Starting executor ID driver on host localhost\n",
      "22/07/07 00:20:46 INFO Executor: Using REPL class URI: http://172.21.96.1:55589\n",
      "22/07/07 00:20:47 INFO Utils: Successfully started service 'org.apache.spark.network.netty.NettyBlockTransferService' on port 55675.\n",
      "22/07/07 00:20:47 INFO NettyBlockTransferService: Server created on LAPTOP-30N4Q54J.mshome.net:55675\n",
      "22/07/07 00:20:47 INFO BlockManager: Using org.apache.spark.storage.RandomBlockReplicationPolicy for block replication policy\n",
      "22/07/07 00:20:47 INFO BlockManagerMaster: Registering BlockManager BlockManagerId(driver, LAPTOP-30N4Q54J.mshome.net, 55675, None)\n",
      "22/07/07 00:20:47 INFO BlockManagerMasterEndpoint: Registering block manager LAPTOP-30N4Q54J.mshome.net:55675 with 1646.4 MB RAM, BlockManagerId(driver, LAPTOP-30N4Q54J.mshome.net, 55675, None)\n",
      "22/07/07 00:20:47 INFO BlockManagerMaster: Registered BlockManager BlockManagerId(driver, LAPTOP-30N4Q54J.mshome.net, 55675, None)\n",
      "22/07/07 00:20:47 INFO BlockManager: Initialized BlockManager: BlockManagerId(driver, LAPTOP-30N4Q54J.mshome.net, 55675, None)\n"
     ]
    },
    {
     "data": {
      "text/html": [
       "<a href=\"http://LAPTOP-30N4Q54J.mshome.net:4040\">Spark UI</a>"
      ]
     },
     "metadata": {},
     "output_type": "display_data"
    },
    {
     "data": {
      "text/plain": [
       "\u001b[32mimport \u001b[39m\u001b[36m$ivy.$                                   \n",
       "\u001b[39m\r\n",
       "\u001b[32mimport \u001b[39m\u001b[36m$ivy.$                              \n",
       "\n",
       "\u001b[39m\r\n",
       "\u001b[32mimport \u001b[39m\u001b[36morg.apache.spark.sql.{NotebookSparkSession, SparkSession}\n",
       "\u001b[39m\r\n",
       "\u001b[32mimport \u001b[39m\u001b[36morg.apache.spark.sql.{functions => func, _}\n",
       "\u001b[39m\r\n",
       "\u001b[32mimport \u001b[39m\u001b[36morg.apache.spark.sql.types._\n",
       "\n",
       "\u001b[39m\r\n",
       "\u001b[36mspark\u001b[39m: \u001b[32mSparkSession\u001b[39m = org.apache.spark.sql.SparkSession@3040cedb\r\n",
       "\u001b[32mimport \u001b[39m\u001b[36mspark.implicits._\n",
       "\n",
       "\u001b[39m\r\n",
       "\u001b[32mimport \u001b[39m\u001b[36morg.slf4j.LoggerFactory\n",
       "\u001b[39m\r\n",
       "\u001b[32mimport \u001b[39m\u001b[36morg.apache.log4j.{Level, Logger}\n",
       "\n",
       "\u001b[39m"
      ]
     },
     "execution_count": 1,
     "metadata": {},
     "output_type": "execute_result"
    }
   ],
   "source": [
    "import $ivy.`org.apache.spark::spark-sql:2.4.5` \n",
    "import $ivy.`sh.almond::almond-spark:0.4.0`\n",
    "\n",
    "import org.apache.spark.sql.{NotebookSparkSession, SparkSession}\n",
    "import org.apache.spark.sql.{functions => func, _}\n",
    "import org.apache.spark.sql.types._\n",
    "\n",
    "val spark = NotebookSparkSession\n",
    "      .builder()\n",
    "      .config(\"spark.sql.join.preferSortMergeJoin\", false)\n",
    "      .config(\"spark.sql.shuffle.partitions\", 64)\n",
    "      .master(\"local[*]\")\n",
    "      .getOrCreate()\n",
    "\n",
    "import spark.implicits._\n",
    "\n",
    "import org.slf4j.LoggerFactory\n",
    "import org.apache.log4j.{Level, Logger}\n",
    "\n",
    "Logger.getRootLogger().setLevel(Level.ERROR)"
   ]
  },
  {
   "cell_type": "code",
   "execution_count": 15,
   "id": "1f4e9899",
   "metadata": {},
   "outputs": [
    {
     "data": {
      "text/html": [
       "<div>\n",
       "  <span style=\"float: left;\">json at cmd14.sc:1</span>\n",
       "</div>\n"
      ]
     },
     "metadata": {},
     "output_type": "display_data"
    },
    {
     "data": {
      "text/html": [
       "<div class=\"progress\">\n",
       "  <div class=\"progress-bar\" role=\"progressbar\" style=\"background-color: blue; width: 100%; word-wrap: normal; white-space: nowrap; text-align: center; color: white\" aria-valuenow=\"100\" aria-valuemin=\"0\" aria-valuemax=\"100\">\n",
       "    1 / 1\n",
       "  </div>\n",
       "  <div class=\"progress-bar\" role=\"progressbar\" style=\"background-color: red; width: 0%\" aria-valuenow=\"0\" aria-valuemin=\"0\" aria-valuemax=\"100\"></div>\n",
       "</div>\n"
      ]
     },
     "metadata": {},
     "output_type": "display_data"
    },
    {
     "data": {
      "text/plain": [
       "\u001b[36mdata\u001b[39m: \u001b[32mDataFrame\u001b[39m = [e: string, evap: string ... 42 more fields]"
      ]
     },
     "execution_count": 15,
     "metadata": {},
     "output_type": "execute_result"
    }
   ],
   "source": [
    "val data: DataFrame = spark.read.option(\"multiline\", \"true\").json(\"D:/TFGAlvaroSanchez/data/*.json\")"
   ]
  },
  {
   "cell_type": "code",
   "execution_count": 16,
   "id": "6d95437a",
   "metadata": {
    "scrolled": true
   },
   "outputs": [
    {
     "data": {
      "text/html": [
       "<div>\n",
       "  <span style=\"float: left;\">show at cmd15.sc:1</span>\n",
       "</div>\n"
      ]
     },
     "metadata": {},
     "output_type": "display_data"
    },
    {
     "data": {
      "text/html": [
       "<div class=\"progress\">\n",
       "  <div class=\"progress-bar\" role=\"progressbar\" style=\"background-color: blue; width: 100%; word-wrap: normal; white-space: nowrap; text-align: center; color: white\" aria-valuenow=\"100\" aria-valuemin=\"0\" aria-valuemax=\"100\">\n",
       "    1 / 1\n",
       "  </div>\n",
       "  <div class=\"progress-bar\" role=\"progressbar\" style=\"background-color: red; width: 0%\" aria-valuenow=\"0\" aria-valuemin=\"0\" aria-valuemax=\"100\"></div>\n",
       "</div>\n"
      ]
     },
     "metadata": {},
     "output_type": "display_data"
    },
    {
     "data": {
      "text/html": [
       "<div>\n",
       "  <span style=\"float: left;\">show at cmd15.sc:1</span>\n",
       "</div>\n"
      ]
     },
     "metadata": {},
     "output_type": "display_data"
    },
    {
     "data": {
      "text/html": [
       "<div class=\"progress\">\n",
       "  <div class=\"progress-bar\" role=\"progressbar\" style=\"background-color: blue; width: 100%; word-wrap: normal; white-space: nowrap; text-align: center; color: white\" aria-valuenow=\"100\" aria-valuemin=\"0\" aria-valuemax=\"100\">\n",
       "    1 / 1\n",
       "  </div>\n",
       "  <div class=\"progress-bar\" role=\"progressbar\" style=\"background-color: red; width: 0%\" aria-valuenow=\"0\" aria-valuemin=\"0\" aria-valuemax=\"100\"></div>\n",
       "</div>\n"
      ]
     },
     "metadata": {},
     "output_type": "display_data"
    },
    {
     "name": "stdout",
     "output_type": "stream",
     "text": [
      "+-----+------+-------+-------+----+----------+----+-----+-----+-----+-----+-----+-----+-----+-----+------+------+------+------+-----+-----+-------+-------+-------+-----+-----+------------+-----+-----+------+-------------+------+-------------+------------+-------------+------+------+------+------+-----+------+-----+---------------+-----+\n",
      "|    e|  evap|  fecha|    glo|  hr|indicativo|inso|n_cub|n_des|n_fog|n_gra|n_llu|n_nie|n_nub|n_tor|np_001|np_010|np_100|np_300|nt_00|nt_30|nv_0050|nv_0100|nv_1000|nw_55|nw_91|       p_max|p_mes|p_sol| q_mar|        q_max| q_med|        q_min|      ta_max|       ta_min|ti_max|tm_max|tm_mes|tm_min|ts_20|ts_min|w_med|        w_racha|w_rec|\n",
      "+-----+------+-------+-------+----+----------+----+-----+-----+-----+-----+-----+-----+-----+-----+------+------+------+------+-----+-----+-------+-------+-------+-----+-----+------------+-----+-----+------+-------------+------+-------------+------------+-------------+------+------+------+------+-----+------+-----+---------------+-----+\n",
      "| 66.0|  null| 2021-1|   null|78.0|      3129| 4.8| 11.0|  7.0|  5.0|  0.0|  7.0|  3.0| 13.0|  1.0|  11.0|   8.0|   2.0|   0.0| 20.0|  0.0|    0.0|    0.0|    0.0|  7.0|  0.0|    21.2(08)| 52.1| 50.0|1019.6|    962.6(17)| 949.5|    934.3(09)|    18.6(27)|    -13.4(12)|   0.3|   8.1|   3.2|  -1.7| null|   9.5| 11.0|    99/21.1(22)|251.0|\n",
      "| 88.0|  null| 2021-2|   null|74.0|      3129| 4.8|  9.0|  2.0|  0.0|  0.0| 10.0|  0.0| 17.0|  0.0|   8.0|   7.0|   1.0|   0.0|  0.0|  0.0|    0.0|    0.0|    0.0|  3.0|  0.0|    13.5(09)| 39.7| 44.0|1018.4|    965.8(24)| 950.0|    933.7(09)|    19.6(27)|      0.2(23)|   9.7|  14.6|   9.3|   4.0| null|   8.5| 11.0|    24/17.5(18)|242.0|\n",
      "| 71.0|  null| 2021-3|   null|58.0|      3129| 7.3|  7.0| 11.0|  0.0|  0.0|  2.0|  0.0| 13.0|  0.0|   2.0|   1.0|   0.0|   0.0|  5.0|  0.0|    0.0|    0.0|    0.0|  1.0|  0.0|     3.2(08)|  3.3| 61.0|1022.1|    961.5(03)| 953.6|    942.9(19)|    24.1(31)|     -2.6(21)|   9.6|  16.9|  10.0|   3.0| null|   7.2|  9.0|    35/16.1(19)|207.0|\n",
      "| 95.0|  null| 2021-4|   null|63.0|      3129| 5.6| 10.0|  5.0|  0.0|  0.0| 19.0|  0.0| 15.0|  1.0|  19.0|  14.0|   2.0|   0.0|  0.0|  0.0|    0.0|    0.0|    0.0|  0.0|  0.0|    16.9(10)| 72.5| 43.0|1014.1|    957.2(12)| 946.9|    936.5(27)|    23.5(06)|      1.3(17)|  12.7|  18.5|  12.7|   6.8| null|  10.4|  9.0|    23/15.0(10)|209.0|\n",
      "|101.0|  null| 2021-5|   null|47.0|      3129| 9.2|  5.0|  6.0|  0.0|  0.0| 13.0|  0.0| 20.0|  2.0|  10.0|   4.0|   1.0|   0.0|  0.0|  4.0|    0.0|    0.0|    0.0|  3.0|  0.0|    15.8(31)| 24.0| 63.0|1014.7|    956.8(25)| 948.8|    938.3(09)|    32.8(30)|      4.8(01)|  17.7|  25.2|  17.6|  10.0| null|  16.3| 12.0|    20/18.6(09)|273.0|\n",
      "|115.0|  null| 2021-6|   null|41.0|      3129| 9.7|  4.0|  6.0|  1.0|  0.0| 10.0|  0.0| 20.0|  5.0|   6.0|   2.0|   1.0|   0.0|  0.0| 16.0|    0.0|    0.0|    0.0|  6.0|  0.0|    14.9(16)| 18.8| 65.0|1013.7|    955.5(05)| 948.9|    941.2(16)|    35.3(09)|     11.7(02)|  21.6|  29.8|  22.4|  15.0| null|  19.3| 13.0|    22/17.5(27)|264.0|\n",
      "|105.0|  null| 2021-7|   null|31.0|      3129|12.4|  0.0| 20.0|  0.0|  0.0|  3.0|  0.0| 11.0|  1.0|   3.0|   1.0|   0.0|   0.0|  0.0| 25.0|    0.0|    0.0|    0.0|  7.0|  0.0|     3.2(25)|  4.2| 84.0|1012.2|    956.1(08)| 948.1|    942.1(25)|    40.5(11)|     10.4(07)|  25.2|  33.7|  25.0|  16.3| null|  20.2| 13.0|    22/16.9(11)|273.0|\n",
      "|111.0|  null| 2021-8|   null|31.0|      3129|11.4|  0.0| 14.0|  0.0|  1.0|  2.0|  0.0| 17.0|  2.0|   2.0|   2.0|   1.0|   0.0|  0.0| 30.0|    0.0|    0.0|    0.0|  4.0|  0.0|    19.7(31)| 23.6| 83.0|1012.0|    955.0(13)| 948.1|    940.2(06)|    42.7(14)|     12.5(01)|  28.2|  34.8|  26.2|  17.6| null|  22.7| 12.0|    23/19.7(15)|240.0|\n",
      "|133.0|  null| 2021-9|   null|56.0|      3129| 7.1|  5.0|  4.0|  0.0|  0.0|  7.0|  0.0| 21.0|  4.0|   6.0|   5.0|   2.0|   0.0|  0.0|  5.0|    0.0|    0.0|    0.0|  1.0|  0.0|    24.8(14)| 56.8| 57.0|1016.3|    958.9(30)| 950.6|    945.8(14)|    33.4(06)|      9.7(19)|  20.1|  26.6|  20.5|  14.3| null|  18.9| 10.0|    21/16.4(18)|211.0|\n",
      "|106.0|  null|2021-10|   null|60.0|      3129| 7.7|  4.0| 11.0|  0.0|  0.0|  6.0|  0.0| 16.0|  0.0|   6.0|   5.0|   2.0|   1.0|  0.0|  0.0|    0.0|    0.0|    0.0|  1.0|  0.0|    48.3(29)| 80.9| 69.0|1018.6|    959.5(19)| 951.6|    937.4(30)|    26.9(08)|      1.9(24)|  15.8|  22.7|  15.5|   8.2| null|  14.1|  8.0|    99/15.3(31)|178.0|\n",
      "| 73.0|  null|2021-11|   null|67.0|      3129| 6.3|  5.0| 11.0|  1.0|  0.0|  6.0|  0.0| 14.0|  0.0|   5.0|   2.0|   1.0|   0.0|  5.0|  0.0|    0.0|    0.0|    0.0|  1.0|  0.0|    11.3(22)| 15.1| 63.0|1018.1|    959.6(19)| 949.3|    937.7(27)|    19.1(12)|     -2.7(28)|   6.2|  14.0|   8.2|   2.4| null|  11.4| 10.0|    29/16.9(29)|234.0|\n",
      "| 85.0|  null|2021-12|   null|77.0|      3129| 5.2|  6.0|  7.0|  7.0|  0.0|  9.0|  0.0| 18.0|  0.0|   8.0|   5.0|   0.0|   0.0| 10.0|  0.0|    0.0|    0.0|    0.0|  6.0|  0.0|     8.1(26)| 23.8| 55.0|1022.2|    961.8(31)| 953.1|    938.8(25)|    18.3(11)|     -3.0(17)|   9.1|  13.5|   8.0|   2.4| null|   9.6| 10.0|    24/18.6(09)|238.0|\n",
      "| 96.0|  null|2021-13|   null|57.0|      3129| 7.6| 66.0|104.0| 14.0|  1.0| 94.0|  3.0|195.0| 16.0|  86.0|  56.0|  13.0|   1.0| 40.0| 80.0|    0.0|    0.0|    0.0| 40.0|  0.0|48.3(29/oct)|414.8| 61.0|1016.8|965.8(24/feb)| 949.9|933.7(09/feb)|42.7(14/ago)|-13.4(12/ene)|   0.3|  21.5|  14.9|   8.2| null|  22.7| 11.0|99/21.1(22/ene)|235.0|\n",
      "|145.0|1186.0| 2021-1|38807.0|67.0|     C449C| 6.3| null| null|  0.0|  0.0| 12.0|  0.0| null|  0.0|   6.0|   6.0|   1.0|   1.0|  0.0|  0.0|    0.0|    0.0|    0.0|  1.0|  0.0|    43.9(08)| 70.1| 59.0|1021.1|   1025.8(14)|1016.8|    998.0(08)|    25.6(31)|     13.2(09)|  18.3|  21.5|  18.6|  15.7| null|  18.3| 10.0|    34/15.8(09)|203.0|\n",
      "|134.0|  null| 2021-2|48454.0|63.0|     C449C| 8.3| null| null|  0.0|  0.0| 11.0|  0.0| null|  0.0|   7.0|   6.0|   2.0|   1.0|  0.0|  0.0|    0.0|    0.0|    0.0|  3.0|  0.0|    30.8(05)| 54.4| 74.0|1020.4|   1024.8(25)|1016.1|   1004.9(05)|    24.2(15)|     11.8(05)|  17.2|  21.8|  18.6|  15.3| null|  17.5| 10.0|    32/24.2(20)|240.0|\n",
      "|132.0|1229.0| 2021-3|64443.0|59.0|     C449C| 8.8| null| null|  0.0|  0.0|  9.0|  0.0| null|  0.0|   8.0|   4.0|   0.0|   0.0|  0.0|  0.0|    0.0|    0.0|    0.0|  2.0|  0.0|     4.6(08)| 14.0| 73.0|1018.0|   1021.5(11)|1013.9|   1004.8(26)|    29.6(25)|     14.2(23)|  20.5|  22.8|  19.6|  16.4| null|  18.9| 13.0|    30/15.3(05)|269.0|\n",
      "|153.0|  null| 2021-4|68089.0|62.0|     C449C| 9.1| null| null|  0.0|  0.0|  8.0|  0.0| null|  0.0|   3.0|   3.0|   0.0|   0.0|  0.0|  0.0|    0.0|    0.0|    0.0|  0.0|  0.0|     8.0(29)| 11.6| 71.0|1016.2|   1017.1(12)|1012.0|   1006.1(25)|    26.5(21)|     16.0(06)|  21.9|  23.9|  20.9|  17.9| null|  19.8| 10.0|    32/13.3(30)|230.0|\n",
      "|143.0|  null| 2021-5|80609.0|54.0|     C449C| 9.9| null| null|  0.0|  0.0|  8.0|  0.0| null|  0.0|   1.0|   0.0|   0.0|   0.0|  0.0|  2.0|    0.0|    0.0|    0.0|  2.0|  0.0|     0.2(02)|  0.2| 73.0|1018.2|   1020.1(11)|1014.0|   1009.2(22)|    30.9(20)|     16.8(06)|  22.5|  25.3|  22.2|  19.1| null|  24.2| 13.0|    28/16.9(15)|286.0|\n",
      "|157.0|  null| 2021-6|77206.0|55.0|     C449C| 9.8| null| null|  0.0|  0.0| 10.0|  0.0| null|  0.0|   0.0|   0.0|   0.0|   0.0|  0.0|  1.0|    0.0|    0.0|    0.0|  0.0|  0.0|     0.0(--)|  0.0| 70.0|1018.8|   1021.3(04)|1014.6|   1009.5(01)|    30.7(10)|     17.6(01)|  23.5|  26.4|  23.2|  20.0| null|  23.7| 12.0|    34/13.6(20)|250.0|\n",
      "|181.0|  null| 2021-7|88061.0|56.0|     C449C|11.9| null| null|  0.0|  0.0|  5.0|  0.0| null|  0.0|   0.0|   0.0|   0.0|   0.0|  0.0|  8.0|    0.0|    0.0|    0.0|  4.0|  0.0|     0.0(--)|  0.0| 86.0|1016.2|   1017.5(08)|1012.1|   1007.3(10)|    32.3(18)|     19.4(02)|  25.8|  29.0|  25.3|  21.6| null|  23.8| 12.0|    31/17.2(22)|252.0|\n",
      "+-----+------+-------+-------+----+----------+----+-----+-----+-----+-----+-----+-----+-----+-----+------+------+------+------+-----+-----+-------+-------+-------+-----+-----+------------+-----+-----+------+-------------+------+-------------+------------+-------------+------+------+------+------+-----+------+-----+---------------+-----+\n",
      "only showing top 20 rows\n",
      "\n"
     ]
    }
   ],
   "source": [
    "data.show()"
   ]
  },
  {
   "cell_type": "markdown",
   "id": "9e2ac2a2",
   "metadata": {},
   "source": [
    "### Obtencion de la fecha y del valor maximo de temperatura"
   ]
  },
  {
   "cell_type": "markdown",
   "id": "f4590aee",
   "metadata": {},
   "source": [
    "Con lo siguiente cambiamos el tipo de datos de la columna ta_max\n",
    "\n",
    "val data1 = data.withColumn(\"ta_max\", $\"ta_max\".substr(0,4).cast(IntegerType))"
   ]
  },
  {
   "cell_type": "code",
   "execution_count": 4,
   "id": "7e9d8457",
   "metadata": {},
   "outputs": [
    {
     "data": {
      "text/html": [
       "<div>\n",
       "  <span style=\"float: left;\">show at cmd3.sc:6</span>\n",
       "</div>\n"
      ]
     },
     "metadata": {},
     "output_type": "display_data"
    },
    {
     "data": {
      "text/html": [
       "<div class=\"progress\">\n",
       "  <div class=\"progress-bar\" role=\"progressbar\" style=\"background-color: blue; width: 100%; word-wrap: normal; white-space: nowrap; text-align: center; color: white\" aria-valuenow=\"100\" aria-valuemin=\"0\" aria-valuemax=\"100\">\n",
       "    8 / 8\n",
       "  </div>\n",
       "  <div class=\"progress-bar\" role=\"progressbar\" style=\"background-color: red; width: 0%\" aria-valuenow=\"0\" aria-valuemin=\"0\" aria-valuemax=\"100\"></div>\n",
       "</div>\n"
      ]
     },
     "metadata": {},
     "output_type": "display_data"
    },
    {
     "name": "stdout",
     "output_type": "stream",
     "text": [
      "+------+------------------+\n",
      "| fecha|temperatura maxima|\n",
      "+------+------------------+\n",
      "|2021-8|                42|\n",
      "+------+------------------+\n",
      "only showing top 1 row\n",
      "\n"
     ]
    },
    {
     "data": {
      "text/plain": [
       "\u001b[32mimport \u001b[39m\u001b[36morg.apache.spark.sql.functions.{min, max, desc}\n",
       "\n",
       "\u001b[39m"
      ]
     },
     "execution_count": 4,
     "metadata": {},
     "output_type": "execute_result"
    }
   ],
   "source": [
    "import org.apache.spark.sql.functions.{min, max, desc}\n",
    "\n",
    "data.withColumn(\"ta_max\", $\"ta_max\".substr(0,4).cast(IntegerType))\n",
    "    .select($\"fecha\", $\"ta_max\" as \"temperatura maxima\")\n",
    "    .orderBy($\"ta_max\".desc)\n",
    "    .show(1)"
   ]
  },
  {
   "cell_type": "markdown",
   "id": "38cfd3f1",
   "metadata": {
    "scrolled": true
   },
   "source": [
    "### Obtencion del mes, año, id estacion y provincia donde ocurren la stemperaturas mas altas en 2021"
   ]
  },
  {
   "cell_type": "code",
   "execution_count": 5,
   "id": "4bf439ab",
   "metadata": {},
   "outputs": [
    {
     "data": {
      "text/html": [
       "<div>\n",
       "  <span style=\"float: left;\">json at cmd4.sc:1</span>\n",
       "</div>\n"
      ]
     },
     "metadata": {},
     "output_type": "display_data"
    },
    {
     "data": {
      "text/html": [
       "<div class=\"progress\">\n",
       "  <div class=\"progress-bar\" role=\"progressbar\" style=\"background-color: blue; width: 100%; word-wrap: normal; white-space: nowrap; text-align: center; color: white\" aria-valuenow=\"100\" aria-valuemin=\"0\" aria-valuemax=\"100\">\n",
       "    1 / 1\n",
       "  </div>\n",
       "  <div class=\"progress-bar\" role=\"progressbar\" style=\"background-color: red; width: 0%\" aria-valuenow=\"0\" aria-valuemin=\"0\" aria-valuemax=\"100\"></div>\n",
       "</div>\n"
      ]
     },
     "metadata": {},
     "output_type": "display_data"
    },
    {
     "data": {
      "text/plain": [
       "\u001b[36mdata2021\u001b[39m: \u001b[32mDataFrame\u001b[39m = [e: string, evap: string ... 42 more fields]"
      ]
     },
     "execution_count": 5,
     "metadata": {},
     "output_type": "execute_result"
    }
   ],
   "source": [
    "val data2021 : DataFrame = spark.read.option(\"multiline\", \"true\").json(\"D:/TFGAlvaroSanchez/data/*2021.json\")"
   ]
  },
  {
   "cell_type": "code",
   "execution_count": 6,
   "id": "bab2f3ba",
   "metadata": {},
   "outputs": [
    {
     "data": {
      "text/html": [
       "<div>\n",
       "  <span style=\"float: left;\">show at cmd5.sc:2</span>\n",
       "</div>\n"
      ]
     },
     "metadata": {},
     "output_type": "display_data"
    },
    {
     "data": {
      "text/html": [
       "<div class=\"progress\">\n",
       "  <div class=\"progress-bar\" role=\"progressbar\" style=\"background-color: blue; width: 100%; word-wrap: normal; white-space: nowrap; text-align: center; color: white\" aria-valuenow=\"100\" aria-valuemin=\"0\" aria-valuemax=\"100\">\n",
       "    1 / 1\n",
       "  </div>\n",
       "  <div class=\"progress-bar\" role=\"progressbar\" style=\"background-color: red; width: 0%\" aria-valuenow=\"0\" aria-valuemin=\"0\" aria-valuemax=\"100\"></div>\n",
       "</div>\n"
      ]
     },
     "metadata": {},
     "output_type": "display_data"
    },
    {
     "data": {
      "text/html": [
       "<div>\n",
       "  <span style=\"float: left;\">show at cmd5.sc:2</span>\n",
       "</div>\n"
      ]
     },
     "metadata": {},
     "output_type": "display_data"
    },
    {
     "data": {
      "text/html": [
       "<div class=\"progress\">\n",
       "  <div class=\"progress-bar\" role=\"progressbar\" style=\"background-color: blue; width: 100%; word-wrap: normal; white-space: nowrap; text-align: center; color: white\" aria-valuenow=\"100\" aria-valuemin=\"0\" aria-valuemax=\"100\">\n",
       "    4 / 4\n",
       "  </div>\n",
       "  <div class=\"progress-bar\" role=\"progressbar\" style=\"background-color: red; width: 0%\" aria-valuenow=\"0\" aria-valuemin=\"0\" aria-valuemax=\"100\"></div>\n",
       "</div>\n"
      ]
     },
     "metadata": {},
     "output_type": "display_data"
    },
    {
     "name": "stdout",
     "output_type": "stream",
     "text": [
      "+------------+----------+-------+\n",
      "|      ta_min|indicativo|  fecha|\n",
      "+------------+----------+-------+\n",
      "|    -6.6(12)|     2916A| 2021-1|\n",
      "|    -1.7(22)|     2916A| 2021-2|\n",
      "|    -2.6(21)|     2916A| 2021-3|\n",
      "|    -1.5(17)|     2916A| 2021-4|\n",
      "|     2.0(02)|     2916A| 2021-5|\n",
      "|     6.1(28)|     2916A| 2021-6|\n",
      "|     6.6(13)|     2916A| 2021-7|\n",
      "|     7.9(01)|     2916A| 2021-8|\n",
      "|     5.9(29)|     2916A| 2021-9|\n",
      "|     3.2(24)|     2916A|2021-10|\n",
      "|    -3.4(28)|     2916A|2021-11|\n",
      "|    -3.1(03)|     2916A|2021-12|\n",
      "|-6.6(12/ene)|     2916A|2021-13|\n",
      "+------------+----------+-------+\n",
      "\n"
     ]
    }
   ],
   "source": [
    "data2021.select($\"ta_min\", $\"indicativo\", $\"fecha\")\n",
    "    .filter($\"indicativo\".equalTo(\"2916A\"))\n",
    "    .show()"
   ]
  },
  {
   "cell_type": "markdown",
   "id": "5f1c8194",
   "metadata": {},
   "source": [
    "Usamos `.df` para darle nombre a las columnas"
   ]
  },
  {
   "cell_type": "code",
   "execution_count": 7,
   "id": "0a9dff27",
   "metadata": {},
   "outputs": [
    {
     "data": {
      "text/html": [
       "<div>\n",
       "  <span style=\"float: left;\">csv at cmd6.sc:1</span>\n",
       "</div>\n"
      ]
     },
     "metadata": {},
     "output_type": "display_data"
    },
    {
     "data": {
      "text/html": [
       "<div class=\"progress\">\n",
       "  <div class=\"progress-bar\" role=\"progressbar\" style=\"background-color: blue; width: 100%; word-wrap: normal; white-space: nowrap; text-align: center; color: white\" aria-valuenow=\"100\" aria-valuemin=\"0\" aria-valuemax=\"100\">\n",
       "    1 / 1\n",
       "  </div>\n",
       "  <div class=\"progress-bar\" role=\"progressbar\" style=\"background-color: red; width: 0%\" aria-valuenow=\"0\" aria-valuemin=\"0\" aria-valuemax=\"100\"></div>\n",
       "</div>\n"
      ]
     },
     "metadata": {},
     "output_type": "display_data"
    },
    {
     "data": {
      "text/plain": [
       "\u001b[36mids\u001b[39m: \u001b[32mDataFrame\u001b[39m = [provincia: string, indicativo: string ... 1 more field]"
      ]
     },
     "execution_count": 7,
     "metadata": {},
     "output_type": "execute_result"
    }
   ],
   "source": [
    "val ids : DataFrame = spark.read.option(\"delimiter\", \";\").csv(\"D:/TFGAlvaroSanchez/data/aemetID.csv\")\n",
    "    .toDF(\"provincia\", \"indicativo\", \"ubicacion\")"
   ]
  },
  {
   "cell_type": "code",
   "execution_count": 8,
   "id": "65177ecc",
   "metadata": {},
   "outputs": [
    {
     "data": {
      "text/html": [
       "<div>\n",
       "  <span style=\"float: left;\">show at cmd7.sc:1</span>\n",
       "</div>\n"
      ]
     },
     "metadata": {},
     "output_type": "display_data"
    },
    {
     "data": {
      "text/html": [
       "<div class=\"progress\">\n",
       "  <div class=\"progress-bar\" role=\"progressbar\" style=\"background-color: blue; width: 100%; word-wrap: normal; white-space: nowrap; text-align: center; color: white\" aria-valuenow=\"100\" aria-valuemin=\"0\" aria-valuemax=\"100\">\n",
       "    1 / 1\n",
       "  </div>\n",
       "  <div class=\"progress-bar\" role=\"progressbar\" style=\"background-color: red; width: 0%\" aria-valuenow=\"0\" aria-valuemin=\"0\" aria-valuemax=\"100\"></div>\n",
       "</div>\n"
      ]
     },
     "metadata": {},
     "output_type": "display_data"
    },
    {
     "name": "stdout",
     "output_type": "stream",
     "text": [
      "+----------------+----------+--------------------+\n",
      "|       provincia|indicativo|           ubicacion|\n",
      "+----------------+----------+--------------------+\n",
      "|        A Coruna|      1351|     Estaca de Bares|\n",
      "|        A Coruna|     1363X|           As Pontes|\n",
      "|        A Coruna|      1387|            A Coruna|\n",
      "|        A Coruna|     1387E| A Coruna Aeropuerto|\n",
      "|        A Coruna|     1390X|Carballo, Depuradora|\n",
      "|        A Coruna|      1393|          Cabo Vilan|\n",
      "|        A Coruna|      1399|            Vimianzo|\n",
      "|        A Coruna|      1400|            Fisterra|\n",
      "|        A Coruna|     1406X|           Mazaricos|\n",
      "|        A Coruna|     1410X|             Sobrado|\n",
      "|        A Coruna|      1428|Santiago de Compo...|\n",
      "|        A Coruna|     1435C|                Noia|\n",
      "|        A Coruna|     1442U|               Boiro|\n",
      "|        A Coruna|     1473A|              Padron|\n",
      "|        A Coruna|     1475X|Santiago de Compo...|\n",
      "|        A Coruna|     1476R|Rois, Casas do Porto|\n",
      "|Alacant/Alicante|     7244X|            Orihuela|\n",
      "|Alacant/Alicante|     7247X|              Pinoso|\n",
      "|Alacant/Alicante|     7261X|             Rojales|\n",
      "|Alacant/Alicante|     8008Y|             Villena|\n",
      "+----------------+----------+--------------------+\n",
      "only showing top 20 rows\n",
      "\n",
      "root\n",
      " |-- provincia: string (nullable = true)\n",
      " |-- indicativo: string (nullable = true)\n",
      " |-- ubicacion: string (nullable = true)\n",
      "\n"
     ]
    }
   ],
   "source": [
    "ids.show()\n",
    "ids.printSchema()"
   ]
  },
  {
   "cell_type": "code",
   "execution_count": 9,
   "id": "baff4489",
   "metadata": {},
   "outputs": [
    {
     "data": {
      "text/plain": [
       "\u001b[36mjoindata\u001b[39m: \u001b[32mDataFrame\u001b[39m = [indicativo: string, e: string ... 44 more fields]"
      ]
     },
     "execution_count": 9,
     "metadata": {},
     "output_type": "execute_result"
    }
   ],
   "source": [
    "val joindata : DataFrame = data2021.join(ids, \"indicativo\")"
   ]
  },
  {
   "cell_type": "code",
   "execution_count": 10,
   "id": "4c5ed324",
   "metadata": {},
   "outputs": [
    {
     "data": {
      "text/html": [
       "<div>\n",
       "  <span style=\"float: left;\">run at ThreadPoolExecutor.java:1128</span>\n",
       "</div>\n"
      ]
     },
     "metadata": {},
     "output_type": "display_data"
    },
    {
     "data": {
      "text/html": [
       "<div class=\"progress\">\n",
       "  <div class=\"progress-bar\" role=\"progressbar\" style=\"background-color: blue; width: 100%; word-wrap: normal; white-space: nowrap; text-align: center; color: white\" aria-valuenow=\"100\" aria-valuemin=\"0\" aria-valuemax=\"100\">\n",
       "    5 / 5\n",
       "  </div>\n",
       "  <div class=\"progress-bar\" role=\"progressbar\" style=\"background-color: red; width: 0%\" aria-valuenow=\"0\" aria-valuemin=\"0\" aria-valuemax=\"100\"></div>\n",
       "</div>\n"
      ]
     },
     "metadata": {},
     "output_type": "display_data"
    },
    {
     "data": {
      "text/html": [
       "<div>\n",
       "  <span style=\"float: left;\">show at cmd9.sc:4</span>\n",
       "</div>\n"
      ]
     },
     "metadata": {},
     "output_type": "display_data"
    },
    {
     "data": {
      "text/html": [
       "<div class=\"progress\">\n",
       "  <div class=\"progress-bar\" role=\"progressbar\" style=\"background-color: blue; width: 100%; word-wrap: normal; white-space: nowrap; text-align: center; color: white\" aria-valuenow=\"100\" aria-valuemin=\"0\" aria-valuemax=\"100\">\n",
       "    1 / 1\n",
       "  </div>\n",
       "  <div class=\"progress-bar\" role=\"progressbar\" style=\"background-color: red; width: 0%\" aria-valuenow=\"0\" aria-valuemin=\"0\" aria-valuemax=\"100\"></div>\n",
       "</div>\n"
      ]
     },
     "metadata": {},
     "output_type": "display_data"
    },
    {
     "name": "stdout",
     "output_type": "stream",
     "text": [
      "+---+----+------------------+----------+--------------------+\n",
      "|mes| año|temperatura maxima|indicativo|           provincia|\n",
      "+---+----+------------------+----------+--------------------+\n",
      "|  8|2021|                42|      3129|              Madrid|\n",
      "|  8|2021|                41|     2916A|           Salamanca|\n",
      "|  7|2021|                40|      3129|              Madrid|\n",
      "|  7|2021|                37|     2916A|           Salamanca|\n",
      "|  8|2021|                36|     C449C|Santa Cruz de Ten...|\n",
      "|  6|2021|                35|      3129|              Madrid|\n",
      "|  6|2021|                34|     2916A|           Salamanca|\n",
      "|  9|2021|                33|      1387|            A Coruna|\n",
      "|  9|2021|                33|      3129|              Madrid|\n",
      "|  9|2021|                33|     2916A|           Salamanca|\n",
      "|  7|2021|                32|     C449C|Santa Cruz de Ten...|\n",
      "|  8|2021|                32|     0201D|           Barcelona|\n",
      "|  5|2021|                32|      3129|              Madrid|\n",
      "|  5|2021|                31|     2916A|           Salamanca|\n",
      "|  9|2021|                30|     C449C|Santa Cruz de Ten...|\n",
      "|  7|2021|                30|      1387|            A Coruna|\n",
      "|  6|2021|                30|     C449C|Santa Cruz de Ten...|\n",
      "|  6|2021|                30|     0201D|           Barcelona|\n",
      "|  5|2021|                30|     C449C|Santa Cruz de Ten...|\n",
      "|  7|2021|                29|     0201D|           Barcelona|\n",
      "+---+----+------------------+----------+--------------------+\n",
      "only showing top 20 rows\n",
      "\n"
     ]
    }
   ],
   "source": [
    "joindata.withColumn(\"ta_max\", $\"ta_max\".substr(0,4).cast(IntegerType))\n",
    "    .select($\"fecha\".substr(6,2) as \"mes\", $\"fecha\".substr(0,4) as \"año\", $\"ta_max\" as \"temperatura maxima\", $\"indicativo\", $\"provincia\")\n",
    "    .filter(!($\"mes\".equalTo(\"13\")))\n",
    "    .orderBy($\"ta_max\".desc)\n",
    "    .show()"
   ]
  },
  {
   "cell_type": "markdown",
   "id": "2092bd58",
   "metadata": {},
   "source": [
    "### Obtencion del mes, año y provincia donde se encuntra la temperatura mas baja durante verano (junio, julio y agosto)"
   ]
  },
  {
   "cell_type": "code",
   "execution_count": 11,
   "id": "e978f2af",
   "metadata": {},
   "outputs": [
    {
     "name": "stdout",
     "output_type": "stream",
     "text": [
      "root\n",
      " |-- indicativo: string (nullable = true)\n",
      " |-- e: string (nullable = true)\n",
      " |-- evap: string (nullable = true)\n",
      " |-- fecha: date (nullable = true)\n",
      " |-- glo: string (nullable = true)\n",
      " |-- hr: string (nullable = true)\n",
      " |-- inso: string (nullable = true)\n",
      " |-- n_cub: string (nullable = true)\n",
      " |-- n_des: string (nullable = true)\n",
      " |-- n_fog: string (nullable = true)\n",
      " |-- n_gra: string (nullable = true)\n",
      " |-- n_llu: string (nullable = true)\n",
      " |-- n_nie: string (nullable = true)\n",
      " |-- n_nub: string (nullable = true)\n",
      " |-- n_tor: string (nullable = true)\n",
      " |-- np_001: string (nullable = true)\n",
      " |-- np_010: string (nullable = true)\n",
      " |-- np_100: string (nullable = true)\n",
      " |-- np_300: string (nullable = true)\n",
      " |-- nt_00: string (nullable = true)\n",
      " |-- nt_30: string (nullable = true)\n",
      " |-- nv_0050: string (nullable = true)\n",
      " |-- nv_0100: string (nullable = true)\n",
      " |-- nv_1000: string (nullable = true)\n",
      " |-- nw_55: string (nullable = true)\n",
      " |-- nw_91: string (nullable = true)\n",
      " |-- p_max: string (nullable = true)\n",
      " |-- p_mes: string (nullable = true)\n",
      " |-- p_sol: string (nullable = true)\n",
      " |-- q_mar: string (nullable = true)\n",
      " |-- q_max: string (nullable = true)\n",
      " |-- q_med: string (nullable = true)\n",
      " |-- q_min: string (nullable = true)\n",
      " |-- ta_max: string (nullable = true)\n",
      " |-- ta_min: integer (nullable = true)\n",
      " |-- ti_max: string (nullable = true)\n",
      " |-- tm_max: string (nullable = true)\n",
      " |-- tm_mes: string (nullable = true)\n",
      " |-- tm_min: string (nullable = true)\n",
      " |-- ts_20: string (nullable = true)\n",
      " |-- ts_min: string (nullable = true)\n",
      " |-- w_med: string (nullable = true)\n",
      " |-- w_racha: string (nullable = true)\n",
      " |-- w_rec: string (nullable = true)\n",
      " |-- provincia: string (nullable = true)\n",
      " |-- ubicacion: string (nullable = true)\n",
      "\n"
     ]
    }
   ],
   "source": [
    "joindata.withColumn(\"ta_min\", $\"ta_min\".substr(0,4).cast(IntegerType))\n",
    "    .withColumn(\"fecha\", $\"fecha\".cast(DateType)).printSchema"
   ]
  },
  {
   "cell_type": "markdown",
   "id": "e8bb5c5d",
   "metadata": {},
   "source": [
    "Para quedarnos unicamente con la temperatura ya que este valor viene precedido del dia que ocurrio de la siguiente manera: temperatura(dia)"
   ]
  },
  {
   "cell_type": "code",
   "execution_count": 12,
   "id": "050e2569",
   "metadata": {},
   "outputs": [
    {
     "data": {
      "text/html": [
       "<div>\n",
       "  <span style=\"float: left;\">run at ThreadPoolExecutor.java:1128</span>\n",
       "</div>\n"
      ]
     },
     "metadata": {},
     "output_type": "display_data"
    },
    {
     "data": {
      "text/html": [
       "<div class=\"progress\">\n",
       "  <div class=\"progress-bar\" role=\"progressbar\" style=\"background-color: blue; width: 100%; word-wrap: normal; white-space: nowrap; text-align: center; color: white\" aria-valuenow=\"100\" aria-valuemin=\"0\" aria-valuemax=\"100\">\n",
       "    5 / 5\n",
       "  </div>\n",
       "  <div class=\"progress-bar\" role=\"progressbar\" style=\"background-color: red; width: 0%\" aria-valuenow=\"0\" aria-valuemin=\"0\" aria-valuemax=\"100\"></div>\n",
       "</div>\n"
      ]
     },
     "metadata": {},
     "output_type": "display_data"
    },
    {
     "data": {
      "text/html": [
       "<div>\n",
       "  <span style=\"float: left;\">show at cmd11.sc:4</span>\n",
       "</div>\n"
      ]
     },
     "metadata": {},
     "output_type": "display_data"
    },
    {
     "data": {
      "text/html": [
       "<div class=\"progress\">\n",
       "  <div class=\"progress-bar\" role=\"progressbar\" style=\"background-color: blue; width: 100%; word-wrap: normal; white-space: nowrap; text-align: center; color: white\" aria-valuenow=\"100\" aria-valuemin=\"0\" aria-valuemax=\"100\">\n",
       "    1 / 1\n",
       "  </div>\n",
       "  <div class=\"progress-bar\" role=\"progressbar\" style=\"background-color: red; width: 0%\" aria-valuenow=\"0\" aria-valuemin=\"0\" aria-valuemax=\"100\"></div>\n",
       "</div>\n"
      ]
     },
     "metadata": {},
     "output_type": "display_data"
    },
    {
     "name": "stdout",
     "output_type": "stream",
     "text": [
      "+----+\n",
      "| val|\n",
      "+----+\n",
      "| 2.3|\n",
      "| 6.3|\n",
      "| 7.6|\n",
      "| 9.1|\n",
      "|12.1|\n",
      "|14.6|\n",
      "|13.8|\n",
      "|10.3|\n",
      "| 6.5|\n",
      "| 6.2|\n",
      "| 5.9|\n",
      "| 6.7|\n",
      "| 2.3|\n",
      "| 2.0|\n",
      "| 4.8|\n",
      "| 5.3|\n",
      "|12.5|\n",
      "|15.7|\n",
      "|18.4|\n",
      "|18.2|\n",
      "+----+\n",
      "only showing top 20 rows\n",
      "\n"
     ]
    },
    {
     "data": {
      "text/plain": [
       "\u001b[32mimport \u001b[39m\u001b[36morg.apache.spark.sql.functions.split\n",
       "\n",
       "\u001b[39m"
      ]
     },
     "execution_count": 12,
     "metadata": {},
     "output_type": "execute_result"
    }
   ],
   "source": [
    "import org.apache.spark.sql.functions.split\n",
    "\n",
    "joindata.withColumn(\"ta_min\", split($\"ta_min\", \"\\\\(\"))\n",
    "    .select($\"ta_min\"(0) as \"val\")\n",
    "    .show()"
   ]
  },
  {
   "cell_type": "code",
   "execution_count": 13,
   "id": "8151c44c",
   "metadata": {},
   "outputs": [
    {
     "data": {
      "text/html": [
       "<div>\n",
       "  <span style=\"float: left;\">run at ThreadPoolExecutor.java:1128</span>\n",
       "</div>\n"
      ]
     },
     "metadata": {},
     "output_type": "display_data"
    },
    {
     "data": {
      "text/html": [
       "<div class=\"progress\">\n",
       "  <div class=\"progress-bar\" role=\"progressbar\" style=\"background-color: blue; width: 100%; word-wrap: normal; white-space: nowrap; text-align: center; color: white\" aria-valuenow=\"100\" aria-valuemin=\"0\" aria-valuemax=\"100\">\n",
       "    5 / 5\n",
       "  </div>\n",
       "  <div class=\"progress-bar\" role=\"progressbar\" style=\"background-color: red; width: 0%\" aria-valuenow=\"0\" aria-valuemin=\"0\" aria-valuemax=\"100\"></div>\n",
       "</div>\n"
      ]
     },
     "metadata": {},
     "output_type": "display_data"
    },
    {
     "data": {
      "text/html": [
       "<div>\n",
       "  <span style=\"float: left;\">show at cmd12.sc:6</span>\n",
       "</div>\n"
      ]
     },
     "metadata": {},
     "output_type": "display_data"
    },
    {
     "data": {
      "text/html": [
       "<div class=\"progress\">\n",
       "  <div class=\"progress-bar\" role=\"progressbar\" style=\"background-color: blue; width: 100%; word-wrap: normal; white-space: nowrap; text-align: center; color: white\" aria-valuenow=\"100\" aria-valuemin=\"0\" aria-valuemax=\"100\">\n",
       "    1 / 1\n",
       "  </div>\n",
       "  <div class=\"progress-bar\" role=\"progressbar\" style=\"background-color: red; width: 0%\" aria-valuenow=\"0\" aria-valuemin=\"0\" aria-valuemax=\"100\"></div>\n",
       "</div>\n"
      ]
     },
     "metadata": {},
     "output_type": "display_data"
    },
    {
     "name": "stdout",
     "output_type": "stream",
     "text": [
      "+---+----+------------------+--------------------+\n",
      "|mes| año|temperatura minima|           provincia|\n",
      "+---+----+------------------+--------------------+\n",
      "| 08|2021|                 7|           Salamanca|\n",
      "| 07|2021|                 6|           Salamanca|\n",
      "| 06|2021|                 6|           Salamanca|\n",
      "| 08|2021|                20|Santa Cruz de Ten...|\n",
      "| 07|2021|                19|Santa Cruz de Ten...|\n",
      "| 08|2021|                18|           Barcelona|\n",
      "| 07|2021|                18|           Barcelona|\n",
      "| 06|2021|                17|           Barcelona|\n",
      "| 06|2021|                17|Santa Cruz de Ten...|\n",
      "| 08|2021|                14|            A Coruna|\n",
      "| 07|2021|                13|            A Coruna|\n",
      "| 08|2021|                12|              Madrid|\n",
      "| 06|2021|                11|              Madrid|\n",
      "| 07|2021|                10|              Madrid|\n",
      "| 06|2021|                10|            A Coruna|\n",
      "+---+----+------------------+--------------------+\n",
      "\n"
     ]
    }
   ],
   "source": [
    "joindata.withColumn(\"ta_min\", split($\"ta_min\", \"\\\\(\"))\n",
    "    .withColumn(\"fecha\", $\"fecha\".cast(DateType))\n",
    "    .select($\"fecha\".substr(6,2) as \"mes\", $\"fecha\".substr(0,4) as \"año\", $\"ta_min\"(0) as \"temperatura minima\", $\"provincia\")\n",
    "    .withColumn(\"temperatura minima\", $\"temperatura minima\".cast(IntegerType))\n",
    "    .filter($\"mes\" > 5 && $\"mes\" < 9)\n",
    "    .orderBy($\"ta_min\".desc)\n",
    "    .show()"
   ]
  },
  {
   "cell_type": "markdown",
   "id": "4b7c3c3a",
   "metadata": {},
   "source": [
    "### Numero de meses con temperaturas maximas >30º por provincia"
   ]
  },
  {
   "cell_type": "code",
   "execution_count": 34,
   "id": "b906329d",
   "metadata": {},
   "outputs": [
    {
     "data": {
      "text/html": [
       "<div>\n",
       "  <span style=\"float: left;\">run at ThreadPoolExecutor.java:1128</span>\n",
       "</div>\n"
      ]
     },
     "metadata": {},
     "output_type": "display_data"
    },
    {
     "data": {
      "text/html": [
       "<div class=\"progress\">\n",
       "  <div class=\"progress-bar\" role=\"progressbar\" style=\"background-color: blue; width: 100%; word-wrap: normal; white-space: nowrap; text-align: center; color: white\" aria-valuenow=\"100\" aria-valuemin=\"0\" aria-valuemax=\"100\">\n",
       "    5 / 5\n",
       "  </div>\n",
       "  <div class=\"progress-bar\" role=\"progressbar\" style=\"background-color: red; width: 0%\" aria-valuenow=\"0\" aria-valuemin=\"0\" aria-valuemax=\"100\"></div>\n",
       "</div>\n"
      ]
     },
     "metadata": {},
     "output_type": "display_data"
    },
    {
     "data": {
      "text/html": [
       "<div>\n",
       "  <span style=\"float: left;\">show at cmd33.sc:7</span>\n",
       "</div>\n"
      ]
     },
     "metadata": {},
     "output_type": "display_data"
    },
    {
     "data": {
      "text/html": [
       "<div class=\"progress\">\n",
       "  <div class=\"progress-bar\" role=\"progressbar\" style=\"background-color: blue; width: 100%; word-wrap: normal; white-space: nowrap; text-align: center; color: white\" aria-valuenow=\"100\" aria-valuemin=\"0\" aria-valuemax=\"100\">\n",
       "    1 / 1\n",
       "  </div>\n",
       "  <div class=\"progress-bar\" role=\"progressbar\" style=\"background-color: red; width: 0%\" aria-valuenow=\"0\" aria-valuemin=\"0\" aria-valuemax=\"100\"></div>\n",
       "</div>\n"
      ]
     },
     "metadata": {},
     "output_type": "display_data"
    },
    {
     "data": {
      "text/html": [
       "<div>\n",
       "  <span style=\"float: left;\">show at cmd33.sc:7</span>\n",
       "</div>\n"
      ]
     },
     "metadata": {},
     "output_type": "display_data"
    },
    {
     "data": {
      "text/html": [
       "<div class=\"progress\">\n",
       "  <div class=\"progress-bar\" role=\"progressbar\" style=\"background-color: blue; width: 100%; word-wrap: normal; white-space: nowrap; text-align: center; color: white\" aria-valuenow=\"100\" aria-valuemin=\"0\" aria-valuemax=\"100\">\n",
       "    1 / 1\n",
       "  </div>\n",
       "  <div class=\"progress-bar\" role=\"progressbar\" style=\"background-color: red; width: 0%\" aria-valuenow=\"0\" aria-valuemin=\"0\" aria-valuemax=\"100\"></div>\n",
       "</div>\n"
      ]
     },
     "metadata": {},
     "output_type": "display_data"
    },
    {
     "data": {
      "text/html": [
       "<div>\n",
       "  <span style=\"float: left;\">show at cmd33.sc:7</span>\n",
       "</div>\n"
      ]
     },
     "metadata": {},
     "output_type": "display_data"
    },
    {
     "data": {
      "text/html": [
       "<div class=\"progress\">\n",
       "  <div class=\"progress-bar\" role=\"progressbar\" style=\"background-color: blue; width: 100%; word-wrap: normal; white-space: nowrap; text-align: center; color: white\" aria-valuenow=\"100\" aria-valuemin=\"0\" aria-valuemax=\"100\">\n",
       "    4 / 4\n",
       "  </div>\n",
       "  <div class=\"progress-bar\" role=\"progressbar\" style=\"background-color: red; width: 0%\" aria-valuenow=\"0\" aria-valuemin=\"0\" aria-valuemax=\"100\"></div>\n",
       "</div>\n"
      ]
     },
     "metadata": {},
     "output_type": "display_data"
    },
    {
     "data": {
      "text/html": [
       "<div>\n",
       "  <span style=\"float: left;\">show at cmd33.sc:7</span>\n",
       "</div>\n"
      ]
     },
     "metadata": {},
     "output_type": "display_data"
    },
    {
     "data": {
      "text/html": [
       "<div class=\"progress\">\n",
       "  <div class=\"progress-bar\" role=\"progressbar\" style=\"background-color: blue; width: 100%; word-wrap: normal; white-space: nowrap; text-align: center; color: white\" aria-valuenow=\"100\" aria-valuemin=\"0\" aria-valuemax=\"100\">\n",
       "    20 / 20\n",
       "  </div>\n",
       "  <div class=\"progress-bar\" role=\"progressbar\" style=\"background-color: red; width: 0%\" aria-valuenow=\"0\" aria-valuemin=\"0\" aria-valuemax=\"100\"></div>\n",
       "</div>\n"
      ]
     },
     "metadata": {},
     "output_type": "display_data"
    },
    {
     "data": {
      "text/html": [
       "<div>\n",
       "  <span style=\"float: left;\">show at cmd33.sc:7</span>\n",
       "</div>\n"
      ]
     },
     "metadata": {},
     "output_type": "display_data"
    },
    {
     "data": {
      "text/html": [
       "<div class=\"progress\">\n",
       "  <div class=\"progress-bar\" role=\"progressbar\" style=\"background-color: blue; width: 100%; word-wrap: normal; white-space: nowrap; text-align: center; color: white\" aria-valuenow=\"100\" aria-valuemin=\"0\" aria-valuemax=\"100\">\n",
       "    39 / 39\n",
       "  </div>\n",
       "  <div class=\"progress-bar\" role=\"progressbar\" style=\"background-color: red; width: 0%\" aria-valuenow=\"0\" aria-valuemin=\"0\" aria-valuemax=\"100\"></div>\n",
       "</div>\n"
      ]
     },
     "metadata": {},
     "output_type": "display_data"
    },
    {
     "name": "stdout",
     "output_type": "stream",
     "text": [
      "+--------------------+-----+\n",
      "|           provincia|count|\n",
      "+--------------------+-----+\n",
      "|            A Coruna|    1|\n",
      "|           Salamanca|    5|\n",
      "|              Madrid|    5|\n",
      "|           Barcelona|    1|\n",
      "|Santa Cruz de Ten...|    2|\n",
      "+--------------------+-----+\n",
      "\n"
     ]
    }
   ],
   "source": [
    "joindata\n",
    "    .withColumn(\"ta_max\", split($\"ta_max\", \"\\\\(\"))\n",
    "    .withColumn(\"ta_max\", $\"ta_max\"(0).cast(IntegerType))\n",
    "    .withColumn(\"fecha\", $\"fecha\".cast(DateType))\n",
    "    .filter($\"ta_max\" > 30 && $\"fecha\" > \"0000-00-00\")\n",
    "    .select($\"ta_max\" as \"temperatura maxima\", $\"provincia\", $\"fecha\")\n",
    "    .groupBy(\"provincia\")\n",
    "    .count\n",
    "    .show()"
   ]
  },
  {
   "cell_type": "code",
   "execution_count": null,
   "id": "91416777",
   "metadata": {},
   "outputs": [],
   "source": []
  }
 ],
 "metadata": {
  "kernelspec": {
   "display_name": "Scala",
   "language": "scala",
   "name": "scala"
  },
  "language_info": {
   "codemirror_mode": "text/x-scala",
   "file_extension": ".scala",
   "mimetype": "text/x-scala",
   "name": "scala",
   "nbconvert_exporter": "script",
   "version": "2.12.8"
  }
 },
 "nbformat": 4,
 "nbformat_minor": 5
}
