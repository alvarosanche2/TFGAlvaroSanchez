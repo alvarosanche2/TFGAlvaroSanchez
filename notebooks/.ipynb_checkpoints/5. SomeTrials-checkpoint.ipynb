{
 "cells": [
  {
   "cell_type": "markdown",
   "id": "8a9d182f",
   "metadata": {},
   "source": [
    "Realizamos los imports necesarios e iniciamos una SparkSession"
   ]
  },
  {
   "cell_type": "code",
   "execution_count": 1,
   "id": "033825a5",
   "metadata": {},
   "outputs": [
    {
     "name": "stdout",
     "output_type": "stream",
     "text": [
      "Loading spark-stubs\n"
     ]
    },
    {
     "name": "stderr",
     "output_type": "stream",
     "text": [
      "log4j:WARN No appenders could be found for logger (org.eclipse.jetty.util.log).\n",
      "log4j:WARN Please initialize the log4j system properly.\n",
      "log4j:WARN See http://logging.apache.org/log4j/1.2/faq.html#noconfig for more info.\n"
     ]
    },
    {
     "name": "stdout",
     "output_type": "stream",
     "text": [
      "Creating SparkSession\n"
     ]
    },
    {
     "name": "stderr",
     "output_type": "stream",
     "text": [
      "Using Spark's default log4j profile: org/apache/spark/log4j-defaults.properties\n",
      "22/09/18 20:45:38 INFO SparkContext: Running Spark version 2.4.5\n",
      "22/09/18 20:45:39 INFO SparkContext: Submitted application: a26d10fb-e30a-4139-8e6a-d8743d3dce4e\n",
      "22/09/18 20:45:39 INFO SecurityManager: Changing view acls to: Alvaro\n",
      "22/09/18 20:45:39 INFO SecurityManager: Changing modify acls to: Alvaro\n",
      "22/09/18 20:45:39 INFO SecurityManager: Changing view acls groups to: \n",
      "22/09/18 20:45:39 INFO SecurityManager: Changing modify acls groups to: \n",
      "22/09/18 20:45:39 INFO SecurityManager: SecurityManager: authentication disabled; ui acls disabled; users  with view permissions: Set(Alvaro); groups with view permissions: Set(); users  with modify permissions: Set(Alvaro); groups with modify permissions: Set()\n",
      "22/09/18 20:45:40 INFO Utils: Successfully started service 'sparkDriver' on port 53011.\n",
      "22/09/18 20:45:40 INFO SparkEnv: Registering MapOutputTracker\n",
      "22/09/18 20:45:40 INFO SparkEnv: Registering BlockManagerMaster\n",
      "22/09/18 20:45:40 INFO BlockManagerMasterEndpoint: Using org.apache.spark.storage.DefaultTopologyMapper for getting topology information\n",
      "22/09/18 20:45:40 INFO BlockManagerMasterEndpoint: BlockManagerMasterEndpoint up\n",
      "22/09/18 20:45:40 INFO DiskBlockManager: Created local directory at C:\\Users\\alvar\\AppData\\Local\\Temp\\blockmgr-36c91b2a-bf73-4948-8592-0dbdd60bdc56\n",
      "22/09/18 20:45:40 INFO MemoryStore: MemoryStore started with capacity 1646.4 MB\n",
      "22/09/18 20:45:40 INFO SparkEnv: Registering OutputCommitCoordinator\n",
      "22/09/18 20:45:41 INFO Utils: Successfully started service 'SparkUI' on port 4040.\n",
      "22/09/18 20:45:41 INFO SparkUI: Bound SparkUI to 0.0.0.0, and started at http://LAPTOP-30N4Q54J:4040\n",
      "22/09/18 20:45:41 INFO SparkContext: Added JAR file:/C:/Users/alvar/AppData/Local/Coursier/cache/v1/https/jitpack.io/com/github/jupyter/jvm-repr/0.4.0/jvm-repr-0.4.0.jar at spark://LAPTOP-30N4Q54J:53011/jars/jvm-repr-0.4.0.jar with timestamp 1663526741239\n",
      "22/09/18 20:45:41 INFO SparkContext: Added JAR file:/C:/Users/alvar/AppData/Local/Coursier/cache/v1/https/repo1.maven.org/maven2/com/github/javaparser/javaparser-core/3.2.5/javaparser-core-3.2.5.jar at spark://LAPTOP-30N4Q54J:53011/jars/javaparser-core-3.2.5.jar with timestamp 1663526741241\n",
      "22/09/18 20:45:41 INFO SparkContext: Added JAR file:/C:/Users/alvar/AppData/Local/Coursier/cache/v1/https/repo1.maven.org/maven2/com/github/scopt/scopt_2.12/3.5.0/scopt_2.12-3.5.0.jar at spark://LAPTOP-30N4Q54J:53011/jars/scopt_2.12-3.5.0.jar with timestamp 1663526741242\n",
      "22/09/18 20:45:41 INFO SparkContext: Added JAR file:/C:/Users/alvar/AppData/Local/Coursier/cache/v1/https/repo1.maven.org/maven2/com/lihaoyi/acyclic_2.12/0.1.5/acyclic_2.12-0.1.5.jar at spark://LAPTOP-30N4Q54J:53011/jars/acyclic_2.12-0.1.5.jar with timestamp 1663526741243\n",
      "22/09/18 20:45:41 INFO SparkContext: Added JAR file:/C:/Users/alvar/AppData/Local/Coursier/cache/v1/https/repo1.maven.org/maven2/com/lihaoyi/ammonite-interp_2.12.8/1.6.5/ammonite-interp_2.12.8-1.6.5.jar at spark://LAPTOP-30N4Q54J:53011/jars/ammonite-interp_2.12.8-1.6.5.jar with timestamp 1663526741244\n",
      "22/09/18 20:45:41 INFO SparkContext: Added JAR file:/C:/Users/alvar/AppData/Local/Coursier/cache/v1/https/repo1.maven.org/maven2/com/lihaoyi/ammonite-ops_2.12/1.6.5/ammonite-ops_2.12-1.6.5.jar at spark://LAPTOP-30N4Q54J:53011/jars/ammonite-ops_2.12-1.6.5.jar with timestamp 1663526741245\n",
      "22/09/18 20:45:41 INFO SparkContext: Added JAR file:/C:/Users/alvar/AppData/Local/Coursier/cache/v1/https/repo1.maven.org/maven2/com/lihaoyi/ammonite-repl_2.12.8/1.6.5/ammonite-repl_2.12.8-1.6.5.jar at spark://LAPTOP-30N4Q54J:53011/jars/ammonite-repl_2.12.8-1.6.5.jar with timestamp 1663526741247\n",
      "22/09/18 20:45:41 INFO SparkContext: Added JAR file:/C:/Users/alvar/AppData/Local/Coursier/cache/v1/https/repo1.maven.org/maven2/com/lihaoyi/ammonite-runtime_2.12/1.6.5/ammonite-runtime_2.12-1.6.5.jar at spark://LAPTOP-30N4Q54J:53011/jars/ammonite-runtime_2.12-1.6.5.jar with timestamp 1663526741248\n",
      "22/09/18 20:45:41 INFO SparkContext: Added JAR file:/C:/Users/alvar/AppData/Local/Coursier/cache/v1/https/repo1.maven.org/maven2/com/lihaoyi/ammonite-terminal_2.12/1.6.5/ammonite-terminal_2.12-1.6.5.jar at spark://LAPTOP-30N4Q54J:53011/jars/ammonite-terminal_2.12-1.6.5.jar with timestamp 1663526741250\n",
      "22/09/18 20:45:41 INFO SparkContext: Added JAR file:/C:/Users/alvar/AppData/Local/Coursier/cache/v1/https/repo1.maven.org/maven2/com/lihaoyi/ammonite-util_2.12/1.6.5/ammonite-util_2.12-1.6.5.jar at spark://LAPTOP-30N4Q54J:53011/jars/ammonite-util_2.12-1.6.5.jar with timestamp 1663526741254\n",
      "22/09/18 20:45:41 INFO SparkContext: Added JAR file:/C:/Users/alvar/AppData/Local/Coursier/cache/v1/https/repo1.maven.org/maven2/com/lihaoyi/fansi_2.12/0.2.4/fansi_2.12-0.2.4.jar at spark://LAPTOP-30N4Q54J:53011/jars/fansi_2.12-0.2.4.jar with timestamp 1663526741255\n",
      "22/09/18 20:45:41 INFO SparkContext: Added JAR file:/C:/Users/alvar/AppData/Local/Coursier/cache/v1/https/repo1.maven.org/maven2/com/lihaoyi/fastparse_2.12/2.1.0/fastparse_2.12-2.1.0.jar at spark://LAPTOP-30N4Q54J:53011/jars/fastparse_2.12-2.1.0.jar with timestamp 1663526741256\n",
      "22/09/18 20:45:41 INFO SparkContext: Added JAR file:/C:/Users/alvar/AppData/Local/Coursier/cache/v1/https/repo1.maven.org/maven2/com/lihaoyi/geny_2.12/0.1.5/geny_2.12-0.1.5.jar at spark://LAPTOP-30N4Q54J:53011/jars/geny_2.12-0.1.5.jar with timestamp 1663526741258\n",
      "22/09/18 20:45:41 INFO SparkContext: Added JAR file:/C:/Users/alvar/AppData/Local/Coursier/cache/v1/https/repo1.maven.org/maven2/com/lihaoyi/os-lib_2.12/0.2.6/os-lib_2.12-0.2.6.jar at spark://LAPTOP-30N4Q54J:53011/jars/os-lib_2.12-0.2.6.jar with timestamp 1663526741259\n",
      "22/09/18 20:45:41 INFO SparkContext: Added JAR file:/C:/Users/alvar/AppData/Local/Coursier/cache/v1/https/repo1.maven.org/maven2/com/lihaoyi/pprint_2.12/0.5.2/pprint_2.12-0.5.2.jar at spark://LAPTOP-30N4Q54J:53011/jars/pprint_2.12-0.5.2.jar with timestamp 1663526741260\n",
      "22/09/18 20:45:41 INFO SparkContext: Added JAR file:/C:/Users/alvar/AppData/Local/Coursier/cache/v1/https/repo1.maven.org/maven2/com/lihaoyi/requests_2.12/0.1.7/requests_2.12-0.1.7.jar at spark://LAPTOP-30N4Q54J:53011/jars/requests_2.12-0.1.7.jar with timestamp 1663526741261\n",
      "22/09/18 20:45:41 INFO SparkContext: Added JAR file:/C:/Users/alvar/AppData/Local/Coursier/cache/v1/https/repo1.maven.org/maven2/com/lihaoyi/scalaparse_2.12/2.1.0/scalaparse_2.12-2.1.0.jar at spark://LAPTOP-30N4Q54J:53011/jars/scalaparse_2.12-2.1.0.jar with timestamp 1663526741261\n",
      "22/09/18 20:45:41 INFO SparkContext: Added JAR file:/C:/Users/alvar/AppData/Local/Coursier/cache/v1/https/repo1.maven.org/maven2/com/lihaoyi/sourcecode_2.12/0.1.5/sourcecode_2.12-0.1.5.jar at spark://LAPTOP-30N4Q54J:53011/jars/sourcecode_2.12-0.1.5.jar with timestamp 1663526741262\n",
      "22/09/18 20:45:41 INFO SparkContext: Added JAR file:/C:/Users/alvar/AppData/Local/Coursier/cache/v1/https/repo1.maven.org/maven2/com/lihaoyi/ujson_2.12/0.7.1/ujson_2.12-0.7.1.jar at spark://LAPTOP-30N4Q54J:53011/jars/ujson_2.12-0.7.1.jar with timestamp 1663526741263\n",
      "22/09/18 20:45:41 INFO SparkContext: Added JAR file:/C:/Users/alvar/AppData/Local/Coursier/cache/v1/https/repo1.maven.org/maven2/com/lihaoyi/upack_2.12/0.7.1/upack_2.12-0.7.1.jar at spark://LAPTOP-30N4Q54J:53011/jars/upack_2.12-0.7.1.jar with timestamp 1663526741264\n",
      "22/09/18 20:45:41 INFO SparkContext: Added JAR file:/C:/Users/alvar/AppData/Local/Coursier/cache/v1/https/repo1.maven.org/maven2/com/lihaoyi/upickle-core_2.12/0.7.1/upickle-core_2.12-0.7.1.jar at spark://LAPTOP-30N4Q54J:53011/jars/upickle-core_2.12-0.7.1.jar with timestamp 1663526741265\n",
      "22/09/18 20:45:41 INFO SparkContext: Added JAR file:/C:/Users/alvar/AppData/Local/Coursier/cache/v1/https/repo1.maven.org/maven2/com/lihaoyi/upickle-implicits_2.12/0.7.1/upickle-implicits_2.12-0.7.1.jar at spark://LAPTOP-30N4Q54J:53011/jars/upickle-implicits_2.12-0.7.1.jar with timestamp 1663526741265\n",
      "22/09/18 20:45:41 INFO SparkContext: Added JAR file:/C:/Users/alvar/AppData/Local/Coursier/cache/v1/https/repo1.maven.org/maven2/com/lihaoyi/upickle_2.12/0.7.1/upickle_2.12-0.7.1.jar at spark://LAPTOP-30N4Q54J:53011/jars/upickle_2.12-0.7.1.jar with timestamp 1663526741266\n",
      "22/09/18 20:45:41 INFO SparkContext: Added JAR file:/C:/Users/alvar/AppData/Local/Coursier/cache/v1/https/repo1.maven.org/maven2/com/lihaoyi/utest_2.12/0.6.4/utest_2.12-0.6.4.jar at spark://LAPTOP-30N4Q54J:53011/jars/utest_2.12-0.6.4.jar with timestamp 1663526741267\n"
     ]
    },
    {
     "name": "stderr",
     "output_type": "stream",
     "text": [
      "22/09/18 20:45:41 INFO SparkContext: Added JAR file:/C:/Users/alvar/AppData/Local/Coursier/cache/v1/https/repo1.maven.org/maven2/io/get-coursier/coursier-cache_2.12/1.1.0-M13-1/coursier-cache_2.12-1.1.0-M13-1.jar at spark://LAPTOP-30N4Q54J:53011/jars/coursier-cache_2.12-1.1.0-M13-1.jar with timestamp 1663526741268\n",
      "22/09/18 20:45:41 INFO SparkContext: Added JAR file:/C:/Users/alvar/AppData/Local/Coursier/cache/v1/https/repo1.maven.org/maven2/io/get-coursier/coursier-core_2.12/1.1.0-M13-1/coursier-core_2.12-1.1.0-M13-1.jar at spark://LAPTOP-30N4Q54J:53011/jars/coursier-core_2.12-1.1.0-M13-1.jar with timestamp 1663526741269\n",
      "22/09/18 20:45:41 INFO SparkContext: Added JAR file:/C:/Users/alvar/AppData/Local/Coursier/cache/v1/https/repo1.maven.org/maven2/io/get-coursier/coursier_2.12/1.1.0-M13-1/coursier_2.12-1.1.0-M13-1.jar at spark://LAPTOP-30N4Q54J:53011/jars/coursier_2.12-1.1.0-M13-1.jar with timestamp 1663526741269\n",
      "22/09/18 20:45:41 INFO SparkContext: Added JAR file:/C:/Users/alvar/AppData/Local/Coursier/cache/v1/https/repo1.maven.org/maven2/net/java/dev/jna/jna/4.2.2/jna-4.2.2.jar at spark://LAPTOP-30N4Q54J:53011/jars/jna-4.2.2.jar with timestamp 1663526741270\n",
      "22/09/18 20:45:41 INFO SparkContext: Added JAR file:/C:/Users/alvar/AppData/Local/Coursier/cache/v1/https/repo1.maven.org/maven2/org/javassist/javassist/3.21.0-GA/javassist-3.21.0-GA.jar at spark://LAPTOP-30N4Q54J:53011/jars/javassist-3.21.0-GA.jar with timestamp 1663526741271\n",
      "22/09/18 20:45:41 INFO SparkContext: Added JAR file:/C:/Users/alvar/AppData/Local/Coursier/cache/v1/https/repo1.maven.org/maven2/org/jline/jline-reader/3.6.2/jline-reader-3.6.2.jar at spark://LAPTOP-30N4Q54J:53011/jars/jline-reader-3.6.2.jar with timestamp 1663526741272\n",
      "22/09/18 20:45:41 INFO SparkContext: Added JAR file:/C:/Users/alvar/AppData/Local/Coursier/cache/v1/https/repo1.maven.org/maven2/org/jline/jline-terminal-jna/3.6.2/jline-terminal-jna-3.6.2.jar at spark://LAPTOP-30N4Q54J:53011/jars/jline-terminal-jna-3.6.2.jar with timestamp 1663526741273\n",
      "22/09/18 20:45:41 INFO SparkContext: Added JAR file:/C:/Users/alvar/AppData/Local/Coursier/cache/v1/https/repo1.maven.org/maven2/org/jline/jline-terminal/3.6.2/jline-terminal-3.6.2.jar at spark://LAPTOP-30N4Q54J:53011/jars/jline-terminal-3.6.2.jar with timestamp 1663526741273\n",
      "22/09/18 20:45:41 INFO SparkContext: Added JAR file:/C:/Users/alvar/AppData/Local/Coursier/cache/v1/https/repo1.maven.org/maven2/org/scala-lang/modules/scala-xml_2.12/1.1.1/scala-xml_2.12-1.1.1.jar at spark://LAPTOP-30N4Q54J:53011/jars/scala-xml_2.12-1.1.1.jar with timestamp 1663526741274\n",
      "22/09/18 20:45:41 INFO SparkContext: Added JAR file:/C:/Users/alvar/AppData/Local/Coursier/cache/v1/https/repo1.maven.org/maven2/org/scala-sbt/test-interface/1.0/test-interface-1.0.jar at spark://LAPTOP-30N4Q54J:53011/jars/test-interface-1.0.jar with timestamp 1663526741275\n",
      "22/09/18 20:45:41 INFO SparkContext: Added JAR file:/C:/Users/alvar/AppData/Local/Coursier/cache/v1/https/repo1.maven.org/maven2/sh/almond/interpreter-api_2.12/0.4.0/interpreter-api_2.12-0.4.0.jar at spark://LAPTOP-30N4Q54J:53011/jars/interpreter-api_2.12-0.4.0.jar with timestamp 1663526741276\n",
      "22/09/18 20:45:41 INFO SparkContext: Added JAR file:/C:/Users/alvar/AppData/Local/Coursier/cache/v1/https/repo1.maven.org/maven2/sh/almond/jupyter-api_2.12/0.4.0/jupyter-api_2.12-0.4.0.jar at spark://LAPTOP-30N4Q54J:53011/jars/jupyter-api_2.12-0.4.0.jar with timestamp 1663526741277\n",
      "22/09/18 20:45:41 INFO SparkContext: Added JAR file:/C:/Users/alvar/AppData/Local/Coursier/cache/v1/https/repo1.maven.org/maven2/sh/almond/scala-kernel-api_2.12.8/0.4.0/scala-kernel-api_2.12.8-0.4.0.jar at spark://LAPTOP-30N4Q54J:53011/jars/scala-kernel-api_2.12.8-0.4.0.jar with timestamp 1663526741277\n",
      "22/09/18 20:45:41 INFO SparkContext: Added JAR file:/C:/Users/alvar/AppData/Local/Coursier/cache/v1/https/repo1.maven.org/maven2/org/json4s/json4s-core_2.12/3.5.3/json4s-core_2.12-3.5.3.jar at spark://LAPTOP-30N4Q54J:53011/jars/json4s-core_2.12-3.5.3.jar with timestamp 1663526741278\n",
      "22/09/18 20:45:41 INFO SparkContext: Added JAR file:/C:/Users/alvar/AppData/Local/Coursier/cache/v1/https/repo1.maven.org/maven2/xml-apis/xml-apis/1.3.04/xml-apis-1.3.04.jar at spark://LAPTOP-30N4Q54J:53011/jars/xml-apis-1.3.04.jar with timestamp 1663526741279\n",
      "22/09/18 20:45:41 INFO SparkContext: Added JAR file:/C:/Users/alvar/AppData/Local/Coursier/cache/v1/https/repo1.maven.org/maven2/javax/servlet/javax.servlet-api/3.1.0/javax.servlet-api-3.1.0.jar at spark://LAPTOP-30N4Q54J:53011/jars/javax.servlet-api-3.1.0.jar with timestamp 1663526741280\n",
      "22/09/18 20:45:41 INFO SparkContext: Added JAR file:/C:/Users/alvar/AppData/Local/Coursier/cache/v1/https/repo1.maven.org/maven2/io/dropwizard/metrics/metrics-core/3.1.5/metrics-core-3.1.5.jar at spark://LAPTOP-30N4Q54J:53011/jars/metrics-core-3.1.5.jar with timestamp 1663526741281\n",
      "22/09/18 20:45:41 INFO SparkContext: Added JAR file:/C:/Users/alvar/AppData/Local/Coursier/cache/v1/https/repo1.maven.org/maven2/com/google/inject/guice/3.0/guice-3.0.jar at spark://LAPTOP-30N4Q54J:53011/jars/guice-3.0.jar with timestamp 1663526741282\n",
      "22/09/18 20:45:41 INFO SparkContext: Added JAR file:/C:/Users/alvar/AppData/Local/Coursier/cache/v1/https/repo1.maven.org/maven2/org/slf4j/slf4j-log4j12/1.7.16/slf4j-log4j12-1.7.16.jar at spark://LAPTOP-30N4Q54J:53011/jars/slf4j-log4j12-1.7.16.jar with timestamp 1663526741282\n",
      "22/09/18 20:45:41 INFO SparkContext: Added JAR file:/C:/Users/alvar/AppData/Local/Coursier/cache/v1/https/repo1.maven.org/maven2/org/apache/commons/commons-crypto/1.0.0/commons-crypto-1.0.0.jar at spark://LAPTOP-30N4Q54J:53011/jars/commons-crypto-1.0.0.jar with timestamp 1663526741283\n",
      "22/09/18 20:45:41 INFO SparkContext: Added JAR file:/C:/Users/alvar/AppData/Local/Coursier/cache/v1/https/repo1.maven.org/maven2/org/apache/xbean/xbean-asm6-shaded/4.8/xbean-asm6-shaded-4.8.jar at spark://LAPTOP-30N4Q54J:53011/jars/xbean-asm6-shaded-4.8.jar with timestamp 1663526741284\n",
      "22/09/18 20:45:41 INFO SparkContext: Added JAR file:/C:/Users/alvar/AppData/Local/Coursier/cache/v1/https/repo1.maven.org/maven2/xerces/xercesImpl/2.9.1/xercesImpl-2.9.1.jar at spark://LAPTOP-30N4Q54J:53011/jars/xercesImpl-2.9.1.jar with timestamp 1663526741285\n",
      "22/09/18 20:45:41 INFO SparkContext: Added JAR file:/C:/Users/alvar/AppData/Local/Coursier/cache/v1/https/repo1.maven.org/maven2/com/github/luben/zstd-jni/1.3.2-2/zstd-jni-1.3.2-2.jar at spark://LAPTOP-30N4Q54J:53011/jars/zstd-jni-1.3.2-2.jar with timestamp 1663526741285\n",
      "22/09/18 20:45:41 INFO SparkContext: Added JAR file:/C:/Users/alvar/AppData/Local/Coursier/cache/v1/https/repo1.maven.org/maven2/org/codehaus/jettison/jettison/1.1/jettison-1.1.jar at spark://LAPTOP-30N4Q54J:53011/jars/jettison-1.1.jar with timestamp 1663526741286\n",
      "22/09/18 20:45:41 INFO SparkContext: Added JAR file:/C:/Users/alvar/AppData/Local/Coursier/cache/v1/https/repo1.maven.org/maven2/org/apache/spark/spark-unsafe_2.12/2.4.5/spark-unsafe_2.12-2.4.5.jar at spark://LAPTOP-30N4Q54J:53011/jars/spark-unsafe_2.12-2.4.5.jar with timestamp 1663526741287\n",
      "22/09/18 20:45:41 INFO SparkContext: Added JAR file:/C:/Users/alvar/AppData/Local/Coursier/cache/v1/https/repo1.maven.org/maven2/org/apache/hadoop/hadoop-yarn-server-nodemanager/2.6.5/hadoop-yarn-server-nodemanager-2.6.5.jar at spark://LAPTOP-30N4Q54J:53011/jars/hadoop-yarn-server-nodemanager-2.6.5.jar with timestamp 1663526741288\n",
      "22/09/18 20:45:41 INFO SparkContext: Added JAR file:/C:/Users/alvar/AppData/Local/Coursier/cache/v1/https/repo1.maven.org/maven2/org/apache/parquet/parquet-hadoop/1.10.1/parquet-hadoop-1.10.1.jar at spark://LAPTOP-30N4Q54J:53011/jars/parquet-hadoop-1.10.1.jar with timestamp 1663526741289\n",
      "22/09/18 20:45:41 INFO SparkContext: Added JAR file:/C:/Users/alvar/AppData/Local/Coursier/cache/v1/https/repo1.maven.org/maven2/joda-time/joda-time/2.9.9/joda-time-2.9.9.jar at spark://LAPTOP-30N4Q54J:53011/jars/joda-time-2.9.9.jar with timestamp 1663526741290\n",
      "22/09/18 20:45:41 INFO SparkContext: Added JAR file:/C:/Users/alvar/AppData/Local/Coursier/cache/v1/https/repo1.maven.org/maven2/commons-io/commons-io/2.4/commons-io-2.4.jar at spark://LAPTOP-30N4Q54J:53011/jars/commons-io-2.4.jar with timestamp 1663526741291\n"
     ]
    },
    {
     "name": "stderr",
     "output_type": "stream",
     "text": [
      "22/09/18 20:45:41 INFO SparkContext: Added JAR file:/C:/Users/alvar/AppData/Local/Coursier/cache/v1/https/repo1.maven.org/maven2/commons-configuration/commons-configuration/1.6/commons-configuration-1.6.jar at spark://LAPTOP-30N4Q54J:53011/jars/commons-configuration-1.6.jar with timestamp 1663526741291\n",
      "22/09/18 20:45:41 INFO SparkContext: Added JAR file:/C:/Users/alvar/AppData/Local/Coursier/cache/v1/https/repo1.maven.org/maven2/org/antlr/antlr4-runtime/4.7/antlr4-runtime-4.7.jar at spark://LAPTOP-30N4Q54J:53011/jars/antlr4-runtime-4.7.jar with timestamp 1663526741292\n",
      "22/09/18 20:45:41 INFO SparkContext: Added JAR file:/C:/Users/alvar/AppData/Local/Coursier/cache/v1/https/repo1.maven.org/maven2/org/glassfish/jersey/core/jersey-common/2.22.2/jersey-common-2.22.2.jar at spark://LAPTOP-30N4Q54J:53011/jars/jersey-common-2.22.2.jar with timestamp 1663526741293\n",
      "22/09/18 20:45:41 INFO SparkContext: Added JAR file:/C:/Users/alvar/AppData/Local/Coursier/cache/v1/https/repo1.maven.org/maven2/io/airlift/aircompressor/0.10/aircompressor-0.10.jar at spark://LAPTOP-30N4Q54J:53011/jars/aircompressor-0.10.jar with timestamp 1663526741294\n",
      "22/09/18 20:45:41 INFO SparkContext: Added JAR file:/C:/Users/alvar/AppData/Local/Coursier/cache/v1/https/repo1.maven.org/maven2/org/apache/commons/commons-compress/1.8.1/commons-compress-1.8.1.jar at spark://LAPTOP-30N4Q54J:53011/jars/commons-compress-1.8.1.jar with timestamp 1663526741295\n",
      "22/09/18 20:45:41 INFO SparkContext: Added JAR file:/C:/Users/alvar/AppData/Local/Coursier/cache/v1/https/repo1.maven.org/maven2/org/slf4j/jcl-over-slf4j/1.7.16/jcl-over-slf4j-1.7.16.jar at spark://LAPTOP-30N4Q54J:53011/jars/jcl-over-slf4j-1.7.16.jar with timestamp 1663526741295\n",
      "22/09/18 20:45:41 INFO SparkContext: Added JAR file:/C:/Users/alvar/AppData/Local/Coursier/cache/v1/https/repo1.maven.org/maven2/org/javassist/javassist/3.18.1-GA/javassist-3.18.1-GA.jar at spark://LAPTOP-30N4Q54J:53011/jars/javassist-3.18.1-GA.jar with timestamp 1663526741297\n",
      "22/09/18 20:45:41 INFO SparkContext: Added JAR file:/C:/Users/alvar/AppData/Local/Coursier/cache/v1/https/repo1.maven.org/maven2/org/glassfish/hk2/external/aopalliance-repackaged/2.4.0-b34/aopalliance-repackaged-2.4.0-b34.jar at spark://LAPTOP-30N4Q54J:53011/jars/aopalliance-repackaged-2.4.0-b34.jar with timestamp 1663526741298\n",
      "22/09/18 20:45:41 INFO SparkContext: Added JAR file:/C:/Users/alvar/AppData/Local/Coursier/cache/v1/https/repo1.maven.org/maven2/org/lz4/lz4-java/1.4.0/lz4-java-1.4.0.jar at spark://LAPTOP-30N4Q54J:53011/jars/lz4-java-1.4.0.jar with timestamp 1663526741299\n",
      "22/09/18 20:45:41 INFO SparkContext: Added JAR file:/C:/Users/alvar/AppData/Local/Coursier/cache/v1/https/repo1.maven.org/maven2/io/netty/netty/3.9.9.Final/netty-3.9.9.Final.jar at spark://LAPTOP-30N4Q54J:53011/jars/netty-3.9.9.Final.jar with timestamp 1663526741300\n",
      "22/09/18 20:45:41 INFO SparkContext: Added JAR file:/C:/Users/alvar/AppData/Local/Coursier/cache/v1/https/repo1.maven.org/maven2/org/apache/spark/spark-network-common_2.12/2.4.5/spark-network-common_2.12-2.4.5.jar at spark://LAPTOP-30N4Q54J:53011/jars/spark-network-common_2.12-2.4.5.jar with timestamp 1663526741301\n",
      "22/09/18 20:45:41 INFO SparkContext: Added JAR file:/C:/Users/alvar/AppData/Local/Coursier/cache/v1/https/repo1.maven.org/maven2/aopalliance/aopalliance/1.0/aopalliance-1.0.jar at spark://LAPTOP-30N4Q54J:53011/jars/aopalliance-1.0.jar with timestamp 1663526741302\n",
      "22/09/18 20:45:41 INFO SparkContext: Added JAR file:/C:/Users/alvar/AppData/Local/Coursier/cache/v1/https/repo1.maven.org/maven2/com/fasterxml/jackson/core/jackson-core/2.7.9/jackson-core-2.7.9.jar at spark://LAPTOP-30N4Q54J:53011/jars/jackson-core-2.7.9.jar with timestamp 1663526741302\n",
      "22/09/18 20:45:41 INFO SparkContext: Added JAR file:/C:/Users/alvar/AppData/Local/Coursier/cache/v1/https/repo1.maven.org/maven2/org/apache/spark/spark-sql_2.12/2.4.5/spark-sql_2.12-2.4.5.jar at spark://LAPTOP-30N4Q54J:53011/jars/spark-sql_2.12-2.4.5.jar with timestamp 1663526741303\n",
      "22/09/18 20:45:41 INFO SparkContext: Added JAR file:/C:/Users/alvar/AppData/Local/Coursier/cache/v1/https/repo1.maven.org/maven2/com/google/code/gson/gson/2.2.4/gson-2.2.4.jar at spark://LAPTOP-30N4Q54J:53011/jars/gson-2.2.4.jar with timestamp 1663526741304\n",
      "22/09/18 20:45:41 INFO SparkContext: Added JAR file:/C:/Users/alvar/AppData/Local/Coursier/cache/v1/https/repo1.maven.org/maven2/org/apache/directory/api/api-util/1.0.0-M20/api-util-1.0.0-M20.jar at spark://LAPTOP-30N4Q54J:53011/jars/api-util-1.0.0-M20.jar with timestamp 1663526741305\n",
      "22/09/18 20:45:41 INFO SparkContext: Added JAR file:/C:/Users/alvar/AppData/Local/Coursier/cache/v1/https/repo1.maven.org/maven2/org/apache/hadoop/hadoop-yarn-client/2.6.5/hadoop-yarn-client-2.6.5.jar at spark://LAPTOP-30N4Q54J:53011/jars/hadoop-yarn-client-2.6.5.jar with timestamp 1663526741306\n",
      "22/09/18 20:45:41 INFO SparkContext: Added JAR file:/C:/Users/alvar/AppData/Local/Coursier/cache/v1/https/repo1.maven.org/maven2/javax/xml/bind/jaxb-api/2.2.2/jaxb-api-2.2.2.jar at spark://LAPTOP-30N4Q54J:53011/jars/jaxb-api-2.2.2.jar with timestamp 1663526741308\n",
      "22/09/18 20:45:41 INFO SparkContext: Added JAR file:/C:/Users/alvar/AppData/Local/Coursier/cache/v1/https/repo1.maven.org/maven2/org/apache/spark/spark-tags_2.12/2.4.5/spark-tags_2.12-2.4.5.jar at spark://LAPTOP-30N4Q54J:53011/jars/spark-tags_2.12-2.4.5.jar with timestamp 1663526741309\n",
      "22/09/18 20:45:41 INFO SparkContext: Added JAR file:/C:/Users/alvar/AppData/Local/Coursier/cache/v1/https/repo1.maven.org/maven2/org/apache/parquet/parquet-jackson/1.10.1/parquet-jackson-1.10.1.jar at spark://LAPTOP-30N4Q54J:53011/jars/parquet-jackson-1.10.1.jar with timestamp 1663526741310\n",
      "22/09/18 20:45:41 INFO SparkContext: Added JAR file:/C:/Users/alvar/AppData/Local/Coursier/cache/v1/https/repo1.maven.org/maven2/org/roaringbitmap/shims/0.7.45/shims-0.7.45.jar at spark://LAPTOP-30N4Q54J:53011/jars/shims-0.7.45.jar with timestamp 1663526741311\n",
      "22/09/18 20:45:41 INFO SparkContext: Added JAR file:/C:/Users/alvar/AppData/Local/Coursier/cache/v1/https/repo1.maven.org/maven2/com/thoughtworks/paranamer/paranamer/2.8/paranamer-2.8.jar at spark://LAPTOP-30N4Q54J:53011/jars/paranamer-2.8.jar with timestamp 1663526741312\n",
      "22/09/18 20:45:41 INFO SparkContext: Added JAR file:/C:/Users/alvar/AppData/Local/Coursier/cache/v1/https/repo1.maven.org/maven2/org/apache/avro/avro/1.8.2/avro-1.8.2.jar at spark://LAPTOP-30N4Q54J:53011/jars/avro-1.8.2.jar with timestamp 1663526741313\n",
      "22/09/18 20:45:41 INFO SparkContext: Added JAR file:/C:/Users/alvar/AppData/Local/Coursier/cache/v1/https/repo1.maven.org/maven2/org/apache/httpcomponents/httpcore/4.2.4/httpcore-4.2.4.jar at spark://LAPTOP-30N4Q54J:53011/jars/httpcore-4.2.4.jar with timestamp 1663526741313\n",
      "22/09/18 20:45:41 INFO SparkContext: Added JAR file:/C:/Users/alvar/AppData/Local/Coursier/cache/v1/https/repo1.maven.org/maven2/com/carrotsearch/hppc/0.7.2/hppc-0.7.2.jar at spark://LAPTOP-30N4Q54J:53011/jars/hppc-0.7.2.jar with timestamp 1663526741314\n",
      "22/09/18 20:45:41 INFO SparkContext: Added JAR file:/C:/Users/alvar/AppData/Local/Coursier/cache/v1/https/repo1.maven.org/maven2/com/fasterxml/jackson/core/jackson-databind/2.6.7.3/jackson-databind-2.6.7.3.jar at spark://LAPTOP-30N4Q54J:53011/jars/jackson-databind-2.6.7.3.jar with timestamp 1663526741315\n",
      "22/09/18 20:45:41 INFO SparkContext: Added JAR file:/C:/Users/alvar/AppData/Local/Coursier/cache/v1/https/repo1.maven.org/maven2/org/apache/spark/spark-kvstore_2.12/2.4.5/spark-kvstore_2.12-2.4.5.jar at spark://LAPTOP-30N4Q54J:53011/jars/spark-kvstore_2.12-2.4.5.jar with timestamp 1663526741315\n",
      "22/09/18 20:45:41 INFO SparkContext: Added JAR file:/C:/Users/alvar/AppData/Local/Coursier/cache/v1/https/repo1.maven.org/maven2/commons-codec/commons-codec/1.10/commons-codec-1.10.jar at spark://LAPTOP-30N4Q54J:53011/jars/commons-codec-1.10.jar with timestamp 1663526741316\n",
      "22/09/18 20:45:41 INFO SparkContext: Added JAR file:/C:/Users/alvar/AppData/Local/Coursier/cache/v1/https/repo1.maven.org/maven2/org/mortbay/jetty/jetty-util/6.1.26/jetty-util-6.1.26.jar at spark://LAPTOP-30N4Q54J:53011/jars/jetty-util-6.1.26.jar with timestamp 1663526741317\n",
      "22/09/18 20:45:41 INFO SparkContext: Added JAR file:/C:/Users/alvar/AppData/Local/Coursier/cache/v1/https/repo1.maven.org/maven2/org/apache/hadoop/hadoop-yarn-common/2.6.5/hadoop-yarn-common-2.6.5.jar at spark://LAPTOP-30N4Q54J:53011/jars/hadoop-yarn-common-2.6.5.jar with timestamp 1663526741318\n"
     ]
    },
    {
     "name": "stderr",
     "output_type": "stream",
     "text": [
      "22/09/18 20:45:41 INFO SparkContext: Added JAR file:/C:/Users/alvar/AppData/Local/Coursier/cache/v1/https/repo1.maven.org/maven2/org/json4s/json4s-scalap_2.12/3.5.3/json4s-scalap_2.12-3.5.3.jar at spark://LAPTOP-30N4Q54J:53011/jars/json4s-scalap_2.12-3.5.3.jar with timestamp 1663526741319\n",
      "22/09/18 20:45:41 INFO SparkContext: Added JAR file:/C:/Users/alvar/AppData/Local/Coursier/cache/v1/https/repo1.maven.org/maven2/commons-beanutils/commons-beanutils/1.7.0/commons-beanutils-1.7.0.jar at spark://LAPTOP-30N4Q54J:53011/jars/commons-beanutils-1.7.0.jar with timestamp 1663526741319\n",
      "22/09/18 20:45:41 INFO SparkContext: Added JAR file:/C:/Users/alvar/AppData/Local/Coursier/cache/v1/https/repo1.maven.org/maven2/org/apache/avro/avro-ipc/1.8.2/avro-ipc-1.8.2.jar at spark://LAPTOP-30N4Q54J:53011/jars/avro-ipc-1.8.2.jar with timestamp 1663526741320\n",
      "22/09/18 20:45:41 INFO SparkContext: Added JAR file:/C:/Users/alvar/AppData/Local/Coursier/cache/v1/https/repo1.maven.org/maven2/org/apache/hadoop/hadoop-auth/2.6.5/hadoop-auth-2.6.5.jar at spark://LAPTOP-30N4Q54J:53011/jars/hadoop-auth-2.6.5.jar with timestamp 1663526741321\n",
      "22/09/18 20:45:41 INFO SparkContext: Added JAR file:/C:/Users/alvar/AppData/Local/Coursier/cache/v1/https/repo1.maven.org/maven2/org/apache/arrow/arrow-vector/0.10.0/arrow-vector-0.10.0.jar at spark://LAPTOP-30N4Q54J:53011/jars/arrow-vector-0.10.0.jar with timestamp 1663526741323\n",
      "22/09/18 20:45:41 INFO SparkContext: Added JAR file:/C:/Users/alvar/AppData/Local/Coursier/cache/v1/https/repo1.maven.org/maven2/org/apache/parquet/parquet-common/1.10.1/parquet-common-1.10.1.jar at spark://LAPTOP-30N4Q54J:53011/jars/parquet-common-1.10.1.jar with timestamp 1663526741324\n",
      "22/09/18 20:45:41 INFO SparkContext: Added JAR file:/C:/Users/alvar/AppData/Local/Coursier/cache/v1/https/repo1.maven.org/maven2/com/ning/compress-lzf/1.0.3/compress-lzf-1.0.3.jar at spark://LAPTOP-30N4Q54J:53011/jars/compress-lzf-1.0.3.jar with timestamp 1663526741325\n",
      "22/09/18 20:45:41 INFO SparkContext: Added JAR file:/C:/Users/alvar/AppData/Local/Coursier/cache/v1/https/repo1.maven.org/maven2/log4j/log4j/1.2.17/log4j-1.2.17.jar at spark://LAPTOP-30N4Q54J:53011/jars/log4j-1.2.17.jar with timestamp 1663526741325\n",
      "22/09/18 20:45:41 INFO SparkContext: Added JAR file:/C:/Users/alvar/AppData/Local/Coursier/cache/v1/https/repo1.maven.org/maven2/com/clearspring/analytics/stream/2.7.0/stream-2.7.0.jar at spark://LAPTOP-30N4Q54J:53011/jars/stream-2.7.0.jar with timestamp 1663526741326\n",
      "22/09/18 20:45:41 INFO SparkContext: Added JAR file:/C:/Users/alvar/AppData/Local/Coursier/cache/v1/https/repo1.maven.org/maven2/com/vlkan/flatbuffers/1.2.0-3f79e055/flatbuffers-1.2.0-3f79e055.jar at spark://LAPTOP-30N4Q54J:53011/jars/flatbuffers-1.2.0-3f79e055.jar with timestamp 1663526741327\n",
      "22/09/18 20:45:41 INFO SparkContext: Added JAR file:/C:/Users/alvar/AppData/Local/Coursier/cache/v1/https/repo1.maven.org/maven2/org/apache/directory/server/apacheds-i18n/2.0.0-M15/apacheds-i18n-2.0.0-M15.jar at spark://LAPTOP-30N4Q54J:53011/jars/apacheds-i18n-2.0.0-M15.jar with timestamp 1663526741327\n",
      "22/09/18 20:45:41 INFO SparkContext: Added JAR file:/C:/Users/alvar/AppData/Local/Coursier/cache/v1/https/repo1.maven.org/maven2/javax/activation/activation/1.1.1/activation-1.1.1.jar at spark://LAPTOP-30N4Q54J:53011/jars/activation-1.1.1.jar with timestamp 1663526741328\n",
      "22/09/18 20:45:41 INFO SparkContext: Added JAR file:/C:/Users/alvar/AppData/Local/Coursier/cache/v1/https/repo1.maven.org/maven2/javax/inject/javax.inject/1/javax.inject-1.jar at spark://LAPTOP-30N4Q54J:53011/jars/javax.inject-1.jar with timestamp 1663526741329\n",
      "22/09/18 20:45:41 INFO SparkContext: Added JAR file:/C:/Users/alvar/AppData/Local/Coursier/cache/v1/https/repo1.maven.org/maven2/org/slf4j/jul-to-slf4j/1.7.16/jul-to-slf4j-1.7.16.jar at spark://LAPTOP-30N4Q54J:53011/jars/jul-to-slf4j-1.7.16.jar with timestamp 1663526741329\n",
      "22/09/18 20:45:41 INFO SparkContext: Added JAR file:/C:/Users/alvar/AppData/Local/Coursier/cache/v1/https/repo1.maven.org/maven2/com/esotericsoftware/minlog/1.3.0/minlog-1.3.0.jar at spark://LAPTOP-30N4Q54J:53011/jars/minlog-1.3.0.jar with timestamp 1663526741330\n",
      "22/09/18 20:45:41 INFO SparkContext: Added JAR file:/C:/Users/alvar/AppData/Local/Coursier/cache/v1/https/repo1.maven.org/maven2/xmlenc/xmlenc/0.52/xmlenc-0.52.jar at spark://LAPTOP-30N4Q54J:53011/jars/xmlenc-0.52.jar with timestamp 1663526741332\n",
      "22/09/18 20:45:41 INFO SparkContext: Added JAR file:/C:/Users/alvar/AppData/Local/Coursier/cache/v1/https/repo1.maven.org/maven2/com/univocity/univocity-parsers/2.7.3/univocity-parsers-2.7.3.jar at spark://LAPTOP-30N4Q54J:53011/jars/univocity-parsers-2.7.3.jar with timestamp 1663526741333\n",
      "22/09/18 20:45:41 INFO SparkContext: Added JAR file:/C:/Users/alvar/AppData/Local/Coursier/cache/v1/https/repo1.maven.org/maven2/org/codehaus/janino/janino/3.0.9/janino-3.0.9.jar at spark://LAPTOP-30N4Q54J:53011/jars/janino-3.0.9.jar with timestamp 1663526741334\n",
      "22/09/18 20:45:41 INFO SparkContext: Added JAR file:/C:/Users/alvar/AppData/Local/Coursier/cache/v1/https/repo1.maven.org/maven2/org/apache/spark/spark-core_2.12/2.4.5/spark-core_2.12-2.4.5.jar at spark://LAPTOP-30N4Q54J:53011/jars/spark-core_2.12-2.4.5.jar with timestamp 1663526741335\n",
      "22/09/18 20:45:41 INFO SparkContext: Added JAR file:/C:/Users/alvar/AppData/Local/Coursier/cache/v1/https/repo1.maven.org/maven2/commons-lang/commons-lang/2.6/commons-lang-2.6.jar at spark://LAPTOP-30N4Q54J:53011/jars/commons-lang-2.6.jar with timestamp 1663526741336\n",
      "22/09/18 20:45:41 INFO SparkContext: Added JAR file:/C:/Users/alvar/AppData/Local/Coursier/cache/v1/https/repo1.maven.org/maven2/org/slf4j/slf4j-api/1.7.25/slf4j-api-1.7.25.jar at spark://LAPTOP-30N4Q54J:53011/jars/slf4j-api-1.7.25.jar with timestamp 1663526741337\n",
      "22/09/18 20:45:41 INFO SparkContext: Added JAR file:/C:/Users/alvar/AppData/Local/Coursier/cache/v1/https/repo1.maven.org/maven2/oro/oro/2.0.8/oro-2.0.8.jar at spark://LAPTOP-30N4Q54J:53011/jars/oro-2.0.8.jar with timestamp 1663526741338\n",
      "22/09/18 20:45:41 INFO SparkContext: Added JAR file:/C:/Users/alvar/AppData/Local/Coursier/cache/v1/https/repo1.maven.org/maven2/javax/annotation/javax.annotation-api/1.2/javax.annotation-api-1.2.jar at spark://LAPTOP-30N4Q54J:53011/jars/javax.annotation-api-1.2.jar with timestamp 1663526741340\n",
      "22/09/18 20:45:41 INFO SparkContext: Added JAR file:/C:/Users/alvar/AppData/Local/Coursier/cache/v1/https/repo1.maven.org/maven2/commons-cli/commons-cli/1.2/commons-cli-1.2.jar at spark://LAPTOP-30N4Q54J:53011/jars/commons-cli-1.2.jar with timestamp 1663526741340\n",
      "22/09/18 20:45:41 INFO SparkContext: Added JAR file:/C:/Users/alvar/AppData/Local/Coursier/cache/v1/https/repo1.maven.org/maven2/org/apache/commons/commons-math3/3.4.1/commons-math3-3.4.1.jar at spark://LAPTOP-30N4Q54J:53011/jars/commons-math3-3.4.1.jar with timestamp 1663526741341\n",
      "22/09/18 20:45:41 INFO SparkContext: Added JAR file:/C:/Users/alvar/AppData/Local/Coursier/cache/v1/https/repo1.maven.org/maven2/org/codehaus/jackson/jackson-core-asl/1.9.13/jackson-core-asl-1.9.13.jar at spark://LAPTOP-30N4Q54J:53011/jars/jackson-core-asl-1.9.13.jar with timestamp 1663526741342\n",
      "22/09/18 20:45:41 INFO SparkContext: Added JAR file:/C:/Users/alvar/AppData/Local/Coursier/cache/v1/https/repo1.maven.org/maven2/org/apache/orc/orc-core/1.5.5/orc-core-1.5.5-nohive.jar at spark://LAPTOP-30N4Q54J:53011/jars/orc-core-1.5.5-nohive.jar with timestamp 1663526741343\n",
      "22/09/18 20:45:41 INFO SparkContext: Added JAR file:/C:/Users/alvar/AppData/Local/Coursier/cache/v1/https/repo1.maven.org/maven2/com/google/guava/guava/16.0.1/guava-16.0.1.jar at spark://LAPTOP-30N4Q54J:53011/jars/guava-16.0.1.jar with timestamp 1663526741344\n",
      "22/09/18 20:45:41 INFO SparkContext: Added JAR file:/C:/Users/alvar/AppData/Local/Coursier/cache/v1/https/repo1.maven.org/maven2/org/apache/hadoop/hadoop-yarn-server-common/2.6.5/hadoop-yarn-server-common-2.6.5.jar at spark://LAPTOP-30N4Q54J:53011/jars/hadoop-yarn-server-common-2.6.5.jar with timestamp 1663526741345\n",
      "22/09/18 20:45:41 INFO SparkContext: Added JAR file:/C:/Users/alvar/AppData/Local/Coursier/cache/v1/https/repo1.maven.org/maven2/org/glassfish/hk2/hk2-api/2.4.0-b34/hk2-api-2.4.0-b34.jar at spark://LAPTOP-30N4Q54J:53011/jars/hk2-api-2.4.0-b34.jar with timestamp 1663526741346\n"
     ]
    },
    {
     "name": "stderr",
     "output_type": "stream",
     "text": [
      "22/09/18 20:45:41 INFO SparkContext: Added JAR file:/C:/Users/alvar/AppData/Local/Coursier/cache/v1/https/repo1.maven.org/maven2/org/fusesource/leveldbjni/leveldbjni-all/1.8/leveldbjni-all-1.8.jar at spark://LAPTOP-30N4Q54J:53011/jars/leveldbjni-all-1.8.jar with timestamp 1663526741346\n",
      "22/09/18 20:45:41 INFO SparkContext: Added JAR file:/C:/Users/alvar/AppData/Local/Coursier/cache/v1/https/repo1.maven.org/maven2/org/glassfish/hk2/osgi-resource-locator/1.0.1/osgi-resource-locator-1.0.1.jar at spark://LAPTOP-30N4Q54J:53011/jars/osgi-resource-locator-1.0.1.jar with timestamp 1663526741347\n",
      "22/09/18 20:45:41 INFO SparkContext: Added JAR file:/C:/Users/alvar/AppData/Local/Coursier/cache/v1/https/repo1.maven.org/maven2/org/scala-lang/modules/scala-parser-combinators_2.12/1.1.0/scala-parser-combinators_2.12-1.1.0.jar at spark://LAPTOP-30N4Q54J:53011/jars/scala-parser-combinators_2.12-1.1.0.jar with timestamp 1663526741348\n",
      "22/09/18 20:45:41 INFO SparkContext: Added JAR file:/C:/Users/alvar/AppData/Local/Coursier/cache/v1/https/repo1.maven.org/maven2/org/apache/spark/spark-catalyst_2.12/2.4.5/spark-catalyst_2.12-2.4.5.jar at spark://LAPTOP-30N4Q54J:53011/jars/spark-catalyst_2.12-2.4.5.jar with timestamp 1663526741348\n",
      "22/09/18 20:45:41 INFO SparkContext: Added JAR file:/C:/Users/alvar/AppData/Local/Coursier/cache/v1/https/repo1.maven.org/maven2/org/apache/hadoop/hadoop-yarn-api/2.6.5/hadoop-yarn-api-2.6.5.jar at spark://LAPTOP-30N4Q54J:53011/jars/hadoop-yarn-api-2.6.5.jar with timestamp 1663526741349\n",
      "22/09/18 20:45:41 INFO SparkContext: Added JAR file:/C:/Users/alvar/AppData/Local/Coursier/cache/v1/https/repo1.maven.org/maven2/org/apache/commons/commons-lang3/3.5/commons-lang3-3.5.jar at spark://LAPTOP-30N4Q54J:53011/jars/commons-lang3-3.5.jar with timestamp 1663526741350\n",
      "22/09/18 20:45:41 INFO SparkContext: Added JAR file:/C:/Users/alvar/AppData/Local/Coursier/cache/v1/https/repo1.maven.org/maven2/commons-collections/commons-collections/3.2.2/commons-collections-3.2.2.jar at spark://LAPTOP-30N4Q54J:53011/jars/commons-collections-3.2.2.jar with timestamp 1663526741351\n",
      "22/09/18 20:45:41 INFO SparkContext: Added JAR file:/C:/Users/alvar/AppData/Local/Coursier/cache/v1/https/repo1.maven.org/maven2/org/glassfish/hk2/hk2-utils/2.4.0-b34/hk2-utils-2.4.0-b34.jar at spark://LAPTOP-30N4Q54J:53011/jars/hk2-utils-2.4.0-b34.jar with timestamp 1663526741351\n",
      "22/09/18 20:45:41 INFO SparkContext: Added JAR file:/C:/Users/alvar/AppData/Local/Coursier/cache/v1/https/repo1.maven.org/maven2/org/tukaani/xz/1.5/xz-1.5.jar at spark://LAPTOP-30N4Q54J:53011/jars/xz-1.5.jar with timestamp 1663526741353\n",
      "22/09/18 20:45:41 INFO SparkContext: Added JAR file:/C:/Users/alvar/AppData/Local/Coursier/cache/v1/https/repo1.maven.org/maven2/org/apache/hadoop/hadoop-common/2.6.5/hadoop-common-2.6.5.jar at spark://LAPTOP-30N4Q54J:53011/jars/hadoop-common-2.6.5.jar with timestamp 1663526741354\n",
      "22/09/18 20:45:41 INFO SparkContext: Added JAR file:/C:/Users/alvar/AppData/Local/Coursier/cache/v1/https/repo1.maven.org/maven2/org/apache/hadoop/hadoop-mapreduce-client-core/2.6.5/hadoop-mapreduce-client-core-2.6.5.jar at spark://LAPTOP-30N4Q54J:53011/jars/hadoop-mapreduce-client-core-2.6.5.jar with timestamp 1663526741354\n",
      "22/09/18 20:45:41 INFO SparkContext: Added JAR file:/C:/Users/alvar/AppData/Local/Coursier/cache/v1/https/repo1.maven.org/maven2/jline/jline/0.9.94/jline-0.9.94.jar at spark://LAPTOP-30N4Q54J:53011/jars/jline-0.9.94.jar with timestamp 1663526741355\n",
      "22/09/18 20:45:41 INFO SparkContext: Added JAR file:/C:/Users/alvar/AppData/Local/Coursier/cache/v1/https/repo1.maven.org/maven2/org/apache/orc/orc-mapreduce/1.5.5/orc-mapreduce-1.5.5-nohive.jar at spark://LAPTOP-30N4Q54J:53011/jars/orc-mapreduce-1.5.5-nohive.jar with timestamp 1663526741357\n",
      "22/09/18 20:45:41 INFO SparkContext: Added JAR file:/C:/Users/alvar/AppData/Local/Coursier/cache/v1/https/repo1.maven.org/maven2/org/apache/httpcomponents/httpclient/4.2.5/httpclient-4.2.5.jar at spark://LAPTOP-30N4Q54J:53011/jars/httpclient-4.2.5.jar with timestamp 1663526741358\n",
      "22/09/18 20:45:41 INFO SparkContext: Added JAR file:/C:/Users/alvar/AppData/Local/Coursier/cache/v1/https/repo1.maven.org/maven2/org/apache/hadoop/hadoop-annotations/2.6.5/hadoop-annotations-2.6.5.jar at spark://LAPTOP-30N4Q54J:53011/jars/hadoop-annotations-2.6.5.jar with timestamp 1663526741359\n",
      "22/09/18 20:45:41 INFO SparkContext: Added JAR file:/C:/Users/alvar/AppData/Local/Coursier/cache/v1/https/repo1.maven.org/maven2/org/spark-project/spark/unused/1.0.0/unused-1.0.0.jar at spark://LAPTOP-30N4Q54J:53011/jars/unused-1.0.0.jar with timestamp 1663526741360\n",
      "22/09/18 20:45:41 INFO SparkContext: Added JAR file:/C:/Users/alvar/AppData/Local/Coursier/cache/v1/https/repo1.maven.org/maven2/org/glassfish/jersey/containers/jersey-container-servlet-core/2.22.2/jersey-container-servlet-core-2.22.2.jar at spark://LAPTOP-30N4Q54J:53011/jars/jersey-container-servlet-core-2.22.2.jar with timestamp 1663526741360\n",
      "22/09/18 20:45:41 INFO SparkContext: Added JAR file:/C:/Users/alvar/AppData/Local/Coursier/cache/v1/https/repo1.maven.org/maven2/org/codehaus/janino/commons-compiler/3.0.9/commons-compiler-3.0.9.jar at spark://LAPTOP-30N4Q54J:53011/jars/commons-compiler-3.0.9.jar with timestamp 1663526741361\n",
      "22/09/18 20:45:41 INFO SparkContext: Added JAR file:/C:/Users/alvar/AppData/Local/Coursier/cache/v1/https/repo1.maven.org/maven2/org/glassfish/hk2/hk2-locator/2.4.0-b34/hk2-locator-2.4.0-b34.jar at spark://LAPTOP-30N4Q54J:53011/jars/hk2-locator-2.4.0-b34.jar with timestamp 1663526741361\n",
      "22/09/18 20:45:41 INFO SparkContext: Added JAR file:/C:/Users/alvar/AppData/Local/Coursier/cache/v1/https/repo1.maven.org/maven2/org/codehaus/jackson/jackson-mapper-asl/1.9.13/jackson-mapper-asl-1.9.13.jar at spark://LAPTOP-30N4Q54J:53011/jars/jackson-mapper-asl-1.9.13.jar with timestamp 1663526741362\n",
      "22/09/18 20:45:41 INFO SparkContext: Added JAR file:/C:/Users/alvar/AppData/Local/Coursier/cache/v1/https/repo1.maven.org/maven2/net/sf/py4j/py4j/0.10.7/py4j-0.10.7.jar at spark://LAPTOP-30N4Q54J:53011/jars/py4j-0.10.7.jar with timestamp 1663526741363\n",
      "22/09/18 20:45:41 INFO SparkContext: Added JAR file:/C:/Users/alvar/AppData/Local/Coursier/cache/v1/https/repo1.maven.org/maven2/org/apache/curator/curator-recipes/2.6.0/curator-recipes-2.6.0.jar at spark://LAPTOP-30N4Q54J:53011/jars/curator-recipes-2.6.0.jar with timestamp 1663526741363\n",
      "22/09/18 20:45:41 INFO SparkContext: Added JAR file:/C:/Users/alvar/AppData/Local/Coursier/cache/v1/https/repo1.maven.org/maven2/com/google/code/findbugs/jsr305/3.0.2/jsr305-3.0.2.jar at spark://LAPTOP-30N4Q54J:53011/jars/jsr305-3.0.2.jar with timestamp 1663526741364\n",
      "22/09/18 20:45:41 INFO SparkContext: Added JAR file:/C:/Users/alvar/AppData/Local/Coursier/cache/v1/https/repo1.maven.org/maven2/org/apache/orc/orc-shims/1.5.5/orc-shims-1.5.5.jar at spark://LAPTOP-30N4Q54J:53011/jars/orc-shims-1.5.5.jar with timestamp 1663526741365\n",
      "22/09/18 20:45:41 INFO SparkContext: Added JAR file:/C:/Users/alvar/AppData/Local/Coursier/cache/v1/https/repo1.maven.org/maven2/org/apache/curator/curator-client/2.6.0/curator-client-2.6.0.jar at spark://LAPTOP-30N4Q54J:53011/jars/curator-client-2.6.0.jar with timestamp 1663526741365\n",
      "22/09/18 20:45:41 INFO SparkContext: Added JAR file:/C:/Users/alvar/AppData/Local/Coursier/cache/v1/https/repo1.maven.org/maven2/org/xerial/snappy/snappy-java/1.1.7.3/snappy-java-1.1.7.3.jar at spark://LAPTOP-30N4Q54J:53011/jars/snappy-java-1.1.7.3.jar with timestamp 1663526741366\n",
      "22/09/18 20:45:41 INFO SparkContext: Added JAR file:/C:/Users/alvar/AppData/Local/Coursier/cache/v1/https/repo1.maven.org/maven2/javax/validation/validation-api/1.1.0.Final/validation-api-1.1.0.Final.jar at spark://LAPTOP-30N4Q54J:53011/jars/validation-api-1.1.0.Final.jar with timestamp 1663526741367\n",
      "22/09/18 20:45:41 INFO SparkContext: Added JAR file:/C:/Users/alvar/AppData/Local/Coursier/cache/v1/https/repo1.maven.org/maven2/org/apache/hadoop/hadoop-hdfs/2.6.5/hadoop-hdfs-2.6.5.jar at spark://LAPTOP-30N4Q54J:53011/jars/hadoop-hdfs-2.6.5.jar with timestamp 1663526741367\n",
      "22/09/18 20:45:41 INFO SparkContext: Added JAR file:/C:/Users/alvar/AppData/Local/Coursier/cache/v1/https/repo1.maven.org/maven2/org/apache/ivy/ivy/2.4.0/ivy-2.4.0.jar at spark://LAPTOP-30N4Q54J:53011/jars/ivy-2.4.0.jar with timestamp 1663526741368\n"
     ]
    },
    {
     "name": "stderr",
     "output_type": "stream",
     "text": [
      "22/09/18 20:45:41 INFO SparkContext: Added JAR file:/C:/Users/alvar/AppData/Local/Coursier/cache/v1/https/repo1.maven.org/maven2/javax/xml/stream/stax-api/1.0-2/stax-api-1.0-2.jar at spark://LAPTOP-30N4Q54J:53011/jars/stax-api-1.0-2.jar with timestamp 1663526741369\n",
      "22/09/18 20:45:41 INFO SparkContext: Added JAR file:/C:/Users/alvar/AppData/Local/Coursier/cache/v1/https/repo1.maven.org/maven2/org/roaringbitmap/RoaringBitmap/0.7.45/RoaringBitmap-0.7.45.jar at spark://LAPTOP-30N4Q54J:53011/jars/RoaringBitmap-0.7.45.jar with timestamp 1663526741370\n",
      "22/09/18 20:45:41 INFO SparkContext: Added JAR file:/C:/Users/alvar/AppData/Local/Coursier/cache/v1/https/repo1.maven.org/maven2/org/codehaus/jackson/jackson-jaxrs/1.9.13/jackson-jaxrs-1.9.13.jar at spark://LAPTOP-30N4Q54J:53011/jars/jackson-jaxrs-1.9.13.jar with timestamp 1663526741371\n",
      "22/09/18 20:45:41 INFO SparkContext: Added JAR file:/C:/Users/alvar/AppData/Local/Coursier/cache/v1/https/repo1.maven.org/maven2/io/dropwizard/metrics/metrics-json/3.1.5/metrics-json-3.1.5.jar at spark://LAPTOP-30N4Q54J:53011/jars/metrics-json-3.1.5.jar with timestamp 1663526741372\n",
      "22/09/18 20:45:41 INFO SparkContext: Added JAR file:/C:/Users/alvar/AppData/Local/Coursier/cache/v1/https/repo1.maven.org/maven2/org/glassfish/jersey/containers/jersey-container-servlet/2.22.2/jersey-container-servlet-2.22.2.jar at spark://LAPTOP-30N4Q54J:53011/jars/jersey-container-servlet-2.22.2.jar with timestamp 1663526741373\n",
      "22/09/18 20:45:41 INFO SparkContext: Added JAR file:/C:/Users/alvar/AppData/Local/Coursier/cache/v1/https/repo1.maven.org/maven2/org/codehaus/jackson/jackson-xc/1.9.13/jackson-xc-1.9.13.jar at spark://LAPTOP-30N4Q54J:53011/jars/jackson-xc-1.9.13.jar with timestamp 1663526741374\n",
      "22/09/18 20:45:41 INFO SparkContext: Added JAR file:/C:/Users/alvar/AppData/Local/Coursier/cache/v1/https/repo1.maven.org/maven2/javax/ws/rs/javax.ws.rs-api/2.0.1/javax.ws.rs-api-2.0.1.jar at spark://LAPTOP-30N4Q54J:53011/jars/javax.ws.rs-api-2.0.1.jar with timestamp 1663526741375\n",
      "22/09/18 20:45:41 INFO SparkContext: Added JAR file:/C:/Users/alvar/AppData/Local/Coursier/cache/v1/https/repo1.maven.org/maven2/com/fasterxml/jackson/module/jackson-module-scala_2.12/2.6.7.1/jackson-module-scala_2.12-2.6.7.1.jar at spark://LAPTOP-30N4Q54J:53011/jars/jackson-module-scala_2.12-2.6.7.1.jar with timestamp 1663526741376\n",
      "22/09/18 20:45:41 INFO SparkContext: Added JAR file:/C:/Users/alvar/AppData/Local/Coursier/cache/v1/https/repo1.maven.org/maven2/org/apache/parquet/parquet-column/1.10.1/parquet-column-1.10.1.jar at spark://LAPTOP-30N4Q54J:53011/jars/parquet-column-1.10.1.jar with timestamp 1663526741377\n",
      "22/09/18 20:45:41 INFO SparkContext: Added JAR file:/C:/Users/alvar/AppData/Local/Coursier/cache/v1/https/repo1.maven.org/maven2/com/esotericsoftware/kryo-shaded/4.0.2/kryo-shaded-4.0.2.jar at spark://LAPTOP-30N4Q54J:53011/jars/kryo-shaded-4.0.2.jar with timestamp 1663526741378\n",
      "22/09/18 20:45:41 INFO SparkContext: Added JAR file:/C:/Users/alvar/AppData/Local/Coursier/cache/v1/https/repo1.maven.org/maven2/org/apache/directory/api/api-asn1-api/1.0.0-M20/api-asn1-api-1.0.0-M20.jar at spark://LAPTOP-30N4Q54J:53011/jars/api-asn1-api-1.0.0-M20.jar with timestamp 1663526741379\n",
      "22/09/18 20:45:41 INFO SparkContext: Added JAR file:/C:/Users/alvar/AppData/Local/Coursier/cache/v1/https/repo1.maven.org/maven2/net/razorvine/pyrolite/4.13/pyrolite-4.13.jar at spark://LAPTOP-30N4Q54J:53011/jars/pyrolite-4.13.jar with timestamp 1663526741381\n",
      "22/09/18 20:45:41 INFO SparkContext: Added JAR file:/C:/Users/alvar/AppData/Local/Coursier/cache/v1/https/repo1.maven.org/maven2/org/apache/parquet/parquet-format/2.4.0/parquet-format-2.4.0.jar at spark://LAPTOP-30N4Q54J:53011/jars/parquet-format-2.4.0.jar with timestamp 1663526741400\n",
      "22/09/18 20:45:41 INFO SparkContext: Added JAR file:/C:/Users/alvar/AppData/Local/Coursier/cache/v1/https/repo1.maven.org/maven2/org/scala-lang/modules/scala-xml_2.12/1.0.6/scala-xml_2.12-1.0.6.jar at spark://LAPTOP-30N4Q54J:53011/jars/scala-xml_2.12-1.0.6.jar with timestamp 1663526741401\n",
      "22/09/18 20:45:41 INFO SparkContext: Added JAR file:/C:/Users/alvar/AppData/Local/Coursier/cache/v1/https/repo1.maven.org/maven2/org/apache/zookeeper/zookeeper/3.4.6/zookeeper-3.4.6.jar at spark://LAPTOP-30N4Q54J:53011/jars/zookeeper-3.4.6.jar with timestamp 1663526741402\n",
      "22/09/18 20:45:41 INFO SparkContext: Added JAR file:/C:/Users/alvar/AppData/Local/Coursier/cache/v1/https/repo1.maven.org/maven2/org/objenesis/objenesis/2.5.1/objenesis-2.5.1.jar at spark://LAPTOP-30N4Q54J:53011/jars/objenesis-2.5.1.jar with timestamp 1663526741403\n",
      "22/09/18 20:45:41 INFO SparkContext: Added JAR file:/C:/Users/alvar/AppData/Local/Coursier/cache/v1/https/repo1.maven.org/maven2/org/glassfish/jersey/media/jersey-media-jaxb/2.22.2/jersey-media-jaxb-2.22.2.jar at spark://LAPTOP-30N4Q54J:53011/jars/jersey-media-jaxb-2.22.2.jar with timestamp 1663526741404\n",
      "22/09/18 20:45:41 INFO SparkContext: Added JAR file:/C:/Users/alvar/AppData/Local/Coursier/cache/v1/https/repo1.maven.org/maven2/commons-httpclient/commons-httpclient/3.1/commons-httpclient-3.1.jar at spark://LAPTOP-30N4Q54J:53011/jars/commons-httpclient-3.1.jar with timestamp 1663526741404\n",
      "22/09/18 20:45:41 INFO SparkContext: Added JAR file:/C:/Users/alvar/AppData/Local/Coursier/cache/v1/https/repo1.maven.org/maven2/org/apache/hadoop/hadoop-mapreduce-client-jobclient/2.6.5/hadoop-mapreduce-client-jobclient-2.6.5.jar at spark://LAPTOP-30N4Q54J:53011/jars/hadoop-mapreduce-client-jobclient-2.6.5.jar with timestamp 1663526741406\n",
      "22/09/18 20:45:41 INFO SparkContext: Added JAR file:/C:/Users/alvar/AppData/Local/Coursier/cache/v1/https/repo1.maven.org/maven2/io/netty/netty-all/4.1.42.Final/netty-all-4.1.42.Final.jar at spark://LAPTOP-30N4Q54J:53011/jars/netty-all-4.1.42.Final.jar with timestamp 1663526741407\n",
      "22/09/18 20:45:41 INFO SparkContext: Added JAR file:/C:/Users/alvar/AppData/Local/Coursier/cache/v1/https/repo1.maven.org/maven2/org/apache/spark/spark-network-shuffle_2.12/2.4.5/spark-network-shuffle_2.12-2.4.5.jar at spark://LAPTOP-30N4Q54J:53011/jars/spark-network-shuffle_2.12-2.4.5.jar with timestamp 1663526741408\n",
      "22/09/18 20:45:41 INFO SparkContext: Added JAR file:/C:/Users/alvar/AppData/Local/Coursier/cache/v1/https/repo1.maven.org/maven2/org/apache/spark/spark-sketch_2.12/2.4.5/spark-sketch_2.12-2.4.5.jar at spark://LAPTOP-30N4Q54J:53011/jars/spark-sketch_2.12-2.4.5.jar with timestamp 1663526741409\n",
      "22/09/18 20:45:41 INFO SparkContext: Added JAR file:/C:/Users/alvar/AppData/Local/Coursier/cache/v1/https/repo1.maven.org/maven2/com/twitter/chill-java/0.9.3/chill-java-0.9.3.jar at spark://LAPTOP-30N4Q54J:53011/jars/chill-java-0.9.3.jar with timestamp 1663526741413\n",
      "22/09/18 20:45:41 INFO SparkContext: Added JAR file:/C:/Users/alvar/AppData/Local/Coursier/cache/v1/https/repo1.maven.org/maven2/org/json4s/json4s-ast_2.12/3.5.3/json4s-ast_2.12-3.5.3.jar at spark://LAPTOP-30N4Q54J:53011/jars/json4s-ast_2.12-3.5.3.jar with timestamp 1663526741414\n",
      "22/09/18 20:45:41 INFO SparkContext: Added JAR file:/C:/Users/alvar/AppData/Local/Coursier/cache/v1/https/repo1.maven.org/maven2/org/apache/avro/avro-mapred/1.8.2/avro-mapred-1.8.2-hadoop2.jar at spark://LAPTOP-30N4Q54J:53011/jars/avro-mapred-1.8.2-hadoop2.jar with timestamp 1663526741415\n",
      "22/09/18 20:45:41 INFO SparkContext: Added JAR file:/C:/Users/alvar/AppData/Local/Coursier/cache/v1/https/repo1.maven.org/maven2/org/apache/parquet/parquet-encoding/1.10.1/parquet-encoding-1.10.1.jar at spark://LAPTOP-30N4Q54J:53011/jars/parquet-encoding-1.10.1.jar with timestamp 1663526741415\n",
      "22/09/18 20:45:41 INFO SparkContext: Added JAR file:/C:/Users/alvar/AppData/Local/Coursier/cache/v1/https/repo1.maven.org/maven2/commons-net/commons-net/3.1/commons-net-3.1.jar at spark://LAPTOP-30N4Q54J:53011/jars/commons-net-3.1.jar with timestamp 1663526741416\n",
      "22/09/18 20:45:41 INFO SparkContext: Added JAR file:/C:/Users/alvar/AppData/Local/Coursier/cache/v1/https/repo1.maven.org/maven2/io/dropwizard/metrics/metrics-jvm/3.1.5/metrics-jvm-3.1.5.jar at spark://LAPTOP-30N4Q54J:53011/jars/metrics-jvm-3.1.5.jar with timestamp 1663526741417\n",
      "22/09/18 20:45:41 INFO SparkContext: Added JAR file:/C:/Users/alvar/AppData/Local/Coursier/cache/v1/https/repo1.maven.org/maven2/org/glassfish/jersey/core/jersey-client/2.22.2/jersey-client-2.22.2.jar at spark://LAPTOP-30N4Q54J:53011/jars/jersey-client-2.22.2.jar with timestamp 1663526741417\n"
     ]
    },
    {
     "name": "stderr",
     "output_type": "stream",
     "text": [
      "22/09/18 20:45:41 INFO SparkContext: Added JAR file:/C:/Users/alvar/AppData/Local/Coursier/cache/v1/https/repo1.maven.org/maven2/org/apache/arrow/arrow-memory/0.10.0/arrow-memory-0.10.0.jar at spark://LAPTOP-30N4Q54J:53011/jars/arrow-memory-0.10.0.jar with timestamp 1663526741418\n",
      "22/09/18 20:45:41 INFO SparkContext: Added JAR file:/C:/Users/alvar/AppData/Local/Coursier/cache/v1/https/repo1.maven.org/maven2/org/apache/hadoop/hadoop-mapreduce-client-shuffle/2.6.5/hadoop-mapreduce-client-shuffle-2.6.5.jar at spark://LAPTOP-30N4Q54J:53011/jars/hadoop-mapreduce-client-shuffle-2.6.5.jar with timestamp 1663526741419\n",
      "22/09/18 20:45:41 INFO SparkContext: Added JAR file:/C:/Users/alvar/AppData/Local/Coursier/cache/v1/https/repo1.maven.org/maven2/com/fasterxml/jackson/module/jackson-module-paranamer/2.7.9/jackson-module-paranamer-2.7.9.jar at spark://LAPTOP-30N4Q54J:53011/jars/jackson-module-paranamer-2.7.9.jar with timestamp 1663526741419\n",
      "22/09/18 20:45:41 INFO SparkContext: Added JAR file:/C:/Users/alvar/AppData/Local/Coursier/cache/v1/https/repo1.maven.org/maven2/org/apache/hadoop/hadoop-mapreduce-client-app/2.6.5/hadoop-mapreduce-client-app-2.6.5.jar at spark://LAPTOP-30N4Q54J:53011/jars/hadoop-mapreduce-client-app-2.6.5.jar with timestamp 1663526741420\n",
      "22/09/18 20:45:41 INFO SparkContext: Added JAR file:/C:/Users/alvar/AppData/Local/Coursier/cache/v1/https/repo1.maven.org/maven2/org/htrace/htrace-core/3.0.4/htrace-core-3.0.4.jar at spark://LAPTOP-30N4Q54J:53011/jars/htrace-core-3.0.4.jar with timestamp 1663526741421\n",
      "22/09/18 20:45:41 INFO SparkContext: Added JAR file:/C:/Users/alvar/AppData/Local/Coursier/cache/v1/https/repo1.maven.org/maven2/org/glassfish/jersey/bundles/repackaged/jersey-guava/2.22.2/jersey-guava-2.22.2.jar at spark://LAPTOP-30N4Q54J:53011/jars/jersey-guava-2.22.2.jar with timestamp 1663526741421\n",
      "22/09/18 20:45:41 INFO SparkContext: Added JAR file:/C:/Users/alvar/AppData/Local/Coursier/cache/v1/https/repo1.maven.org/maven2/commons-digester/commons-digester/1.8/commons-digester-1.8.jar at spark://LAPTOP-30N4Q54J:53011/jars/commons-digester-1.8.jar with timestamp 1663526741422\n",
      "22/09/18 20:45:41 INFO SparkContext: Added JAR file:/C:/Users/alvar/AppData/Local/Coursier/cache/v1/https/repo1.maven.org/maven2/org/apache/spark/spark-launcher_2.12/2.4.5/spark-launcher_2.12-2.4.5.jar at spark://LAPTOP-30N4Q54J:53011/jars/spark-launcher_2.12-2.4.5.jar with timestamp 1663526741423\n",
      "22/09/18 20:45:41 INFO SparkContext: Added JAR file:/C:/Users/alvar/AppData/Local/Coursier/cache/v1/https/repo1.maven.org/maven2/com/twitter/chill_2.12/0.9.3/chill_2.12-0.9.3.jar at spark://LAPTOP-30N4Q54J:53011/jars/chill_2.12-0.9.3.jar with timestamp 1663526741423\n",
      "22/09/18 20:45:41 INFO SparkContext: Added JAR file:/C:/Users/alvar/AppData/Local/Coursier/cache/v1/https/repo1.maven.org/maven2/org/apache/arrow/arrow-format/0.10.0/arrow-format-0.10.0.jar at spark://LAPTOP-30N4Q54J:53011/jars/arrow-format-0.10.0.jar with timestamp 1663526741424\n",
      "22/09/18 20:45:41 INFO SparkContext: Added JAR file:/C:/Users/alvar/AppData/Local/Coursier/cache/v1/https/repo1.maven.org/maven2/com/google/protobuf/protobuf-java/2.5.0/protobuf-java-2.5.0.jar at spark://LAPTOP-30N4Q54J:53011/jars/protobuf-java-2.5.0.jar with timestamp 1663526741425\n",
      "22/09/18 20:45:41 INFO SparkContext: Added JAR file:/C:/Users/alvar/AppData/Local/Coursier/cache/v1/https/repo1.maven.org/maven2/org/apache/directory/server/apacheds-kerberos-codec/2.0.0-M15/apacheds-kerberos-codec-2.0.0-M15.jar at spark://LAPTOP-30N4Q54J:53011/jars/apacheds-kerberos-codec-2.0.0-M15.jar with timestamp 1663526741426\n",
      "22/09/18 20:45:41 INFO SparkContext: Added JAR file:/C:/Users/alvar/AppData/Local/Coursier/cache/v1/https/repo1.maven.org/maven2/org/apache/hadoop/hadoop-client/2.6.5/hadoop-client-2.6.5.jar at spark://LAPTOP-30N4Q54J:53011/jars/hadoop-client-2.6.5.jar with timestamp 1663526741427\n",
      "22/09/18 20:45:41 INFO SparkContext: Added JAR file:/C:/Users/alvar/AppData/Local/Coursier/cache/v1/https/repo1.maven.org/maven2/io/dropwizard/metrics/metrics-graphite/3.1.5/metrics-graphite-3.1.5.jar at spark://LAPTOP-30N4Q54J:53011/jars/metrics-graphite-3.1.5.jar with timestamp 1663526741430\n",
      "22/09/18 20:45:41 INFO SparkContext: Added JAR file:/C:/Users/alvar/AppData/Local/Coursier/cache/v1/https/repo1.maven.org/maven2/org/json4s/json4s-jackson_2.12/3.5.3/json4s-jackson_2.12-3.5.3.jar at spark://LAPTOP-30N4Q54J:53011/jars/json4s-jackson_2.12-3.5.3.jar with timestamp 1663526741431\n",
      "22/09/18 20:45:41 INFO SparkContext: Added JAR file:/C:/Users/alvar/AppData/Local/Coursier/cache/v1/https/repo1.maven.org/maven2/org/glassfish/hk2/external/javax.inject/2.4.0-b34/javax.inject-2.4.0-b34.jar at spark://LAPTOP-30N4Q54J:53011/jars/javax.inject-2.4.0-b34.jar with timestamp 1663526741432\n",
      "22/09/18 20:45:41 INFO SparkContext: Added JAR file:/C:/Users/alvar/AppData/Local/Coursier/cache/v1/https/repo1.maven.org/maven2/org/glassfish/jersey/core/jersey-server/2.22.2/jersey-server-2.22.2.jar at spark://LAPTOP-30N4Q54J:53011/jars/jersey-server-2.22.2.jar with timestamp 1663526741434\n",
      "22/09/18 20:45:41 INFO SparkContext: Added JAR file:/C:/Users/alvar/AppData/Local/Coursier/cache/v1/https/repo1.maven.org/maven2/com/fasterxml/jackson/core/jackson-annotations/2.6.7/jackson-annotations-2.6.7.jar at spark://LAPTOP-30N4Q54J:53011/jars/jackson-annotations-2.6.7.jar with timestamp 1663526741435\n",
      "22/09/18 20:45:41 INFO SparkContext: Added JAR file:/C:/Users/alvar/AppData/Local/Coursier/cache/v1/https/repo1.maven.org/maven2/org/apache/hadoop/hadoop-mapreduce-client-common/2.6.5/hadoop-mapreduce-client-common-2.6.5.jar at spark://LAPTOP-30N4Q54J:53011/jars/hadoop-mapreduce-client-common-2.6.5.jar with timestamp 1663526741436\n",
      "22/09/18 20:45:41 INFO SparkContext: Added JAR file:/C:/Users/alvar/AppData/Local/Coursier/cache/v1/https/repo1.maven.org/maven2/org/apache/curator/curator-framework/2.6.0/curator-framework-2.6.0.jar at spark://LAPTOP-30N4Q54J:53011/jars/curator-framework-2.6.0.jar with timestamp 1663526741437\n",
      "22/09/18 20:45:41 INFO SparkContext: Added JAR file:/C:/Users/alvar/AppData/Local/Coursier/cache/v1/https/repo1.maven.org/maven2/sh/almond/almond-spark_2.12/0.4.0/almond-spark_2.12-0.4.0.jar at spark://LAPTOP-30N4Q54J:53011/jars/almond-spark_2.12-0.4.0.jar with timestamp 1663526741438\n",
      "22/09/18 20:45:41 INFO SparkContext: Added JAR file:/C:/Users/alvar/AppData/Local/Coursier/cache/v1/https/repo1.maven.org/maven2/io/argonaut/argonaut_2.12/6.2.3/argonaut_2.12-6.2.3.jar at spark://LAPTOP-30N4Q54J:53011/jars/argonaut_2.12-6.2.3.jar with timestamp 1663526741439\n",
      "22/09/18 20:45:41 INFO SparkContext: Added JAR file:/C:/Users/alvar/AppData/Local/Coursier/cache/v1/https/repo1.maven.org/maven2/org/eclipse/jetty/jetty-server/9.4.15.v20190215/jetty-server-9.4.15.v20190215.jar at spark://LAPTOP-30N4Q54J:53011/jars/jetty-server-9.4.15.v20190215.jar with timestamp 1663526741440\n",
      "22/09/18 20:45:41 INFO SparkContext: Added JAR file:/C:/Users/alvar/AppData/Local/Coursier/cache/v1/https/repo1.maven.org/maven2/sh/almond/ammonite-spark_2.12/0.4.0/ammonite-spark_2.12-0.4.0.jar at spark://LAPTOP-30N4Q54J:53011/jars/ammonite-spark_2.12-0.4.0.jar with timestamp 1663526741448\n",
      "22/09/18 20:45:41 INFO SparkContext: Added JAR file:/C:/Users/alvar/AppData/Local/Coursier/cache/v1/https/repo1.maven.org/maven2/com/github/alexarchambault/argonaut-shapeless_6.2_2.12/1.2.0-M10/argonaut-shapeless_6.2_2.12-1.2.0-M10.jar at spark://LAPTOP-30N4Q54J:53011/jars/argonaut-shapeless_6.2_2.12-1.2.0-M10.jar with timestamp 1663526741449\n",
      "22/09/18 20:45:41 INFO SparkContext: Added JAR file:/C:/Users/alvar/AppData/Local/Coursier/cache/v1/https/repo1.maven.org/maven2/org/eclipse/jetty/jetty-io/9.4.15.v20190215/jetty-io-9.4.15.v20190215.jar at spark://LAPTOP-30N4Q54J:53011/jars/jetty-io-9.4.15.v20190215.jar with timestamp 1663526741450\n",
      "22/09/18 20:45:41 INFO SparkContext: Added JAR file:/C:/Users/alvar/AppData/Local/Coursier/cache/v1/https/repo1.maven.org/maven2/org/typelevel/macro-compat_2.12/1.1.1/macro-compat_2.12-1.1.1.jar at spark://LAPTOP-30N4Q54J:53011/jars/macro-compat_2.12-1.1.1.jar with timestamp 1663526741450\n",
      "22/09/18 20:45:41 INFO SparkContext: Added JAR file:/C:/Users/alvar/AppData/Local/Coursier/cache/v1/https/repo1.maven.org/maven2/org/eclipse/jetty/jetty-http/9.4.15.v20190215/jetty-http-9.4.15.v20190215.jar at spark://LAPTOP-30N4Q54J:53011/jars/jetty-http-9.4.15.v20190215.jar with timestamp 1663526741451\n"
     ]
    },
    {
     "name": "stderr",
     "output_type": "stream",
     "text": [
      "22/09/18 20:45:41 INFO SparkContext: Added JAR file:/C:/Users/alvar/AppData/Local/Coursier/cache/v1/https/repo1.maven.org/maven2/org/eclipse/jetty/jetty-util/9.4.15.v20190215/jetty-util-9.4.15.v20190215.jar at spark://LAPTOP-30N4Q54J:53011/jars/jetty-util-9.4.15.v20190215.jar with timestamp 1663526741452\n",
      "22/09/18 20:45:41 INFO SparkContext: Added JAR file:/C:/Users/alvar/AppData/Local/Coursier/cache/v1/https/repo1.maven.org/maven2/com/chuusai/shapeless_2.12/2.3.3/shapeless_2.12-2.3.3.jar at spark://LAPTOP-30N4Q54J:53011/jars/shapeless_2.12-2.3.3.jar with timestamp 1663526741452\n",
      "22/09/18 20:45:41 INFO SparkContext: Added JAR file:/C:/Users/alvar/AppData/Local/Coursier/cache/v1/https/repo1.maven.org/maven2/sh/almond/spark-stubs_24_2.12/0.4.0/spark-stubs_24_2.12-0.4.0.jar at spark://LAPTOP-30N4Q54J:53011/jars/spark-stubs_24_2.12-0.4.0.jar with timestamp 1663526741453\n",
      "22/09/18 20:45:41 INFO Executor: Starting executor ID driver on host localhost\n",
      "22/09/18 20:45:41 INFO Executor: Using REPL class URI: http://192.168.56.1:52966\n",
      "22/09/18 20:45:41 INFO Utils: Successfully started service 'org.apache.spark.network.netty.NettyBlockTransferService' on port 53055.\n",
      "22/09/18 20:45:41 INFO NettyBlockTransferService: Server created on LAPTOP-30N4Q54J:53055\n",
      "22/09/18 20:45:41 INFO BlockManager: Using org.apache.spark.storage.RandomBlockReplicationPolicy for block replication policy\n",
      "22/09/18 20:45:41 INFO BlockManagerMaster: Registering BlockManager BlockManagerId(driver, LAPTOP-30N4Q54J, 53055, None)\n",
      "22/09/18 20:45:41 INFO BlockManagerMasterEndpoint: Registering block manager LAPTOP-30N4Q54J:53055 with 1646.4 MB RAM, BlockManagerId(driver, LAPTOP-30N4Q54J, 53055, None)\n",
      "22/09/18 20:45:41 INFO BlockManagerMaster: Registered BlockManager BlockManagerId(driver, LAPTOP-30N4Q54J, 53055, None)\n",
      "22/09/18 20:45:41 INFO BlockManager: Initialized BlockManager: BlockManagerId(driver, LAPTOP-30N4Q54J, 53055, None)\n"
     ]
    },
    {
     "data": {
      "text/html": [
       "<a href=\"http://LAPTOP-30N4Q54J:4040\">Spark UI</a>"
      ]
     },
     "metadata": {},
     "output_type": "display_data"
    },
    {
     "data": {
      "text/plain": [
       "\u001b[32mimport \u001b[39m\u001b[36m$ivy.$                                   \n",
       "\u001b[39m\r\n",
       "\u001b[32mimport \u001b[39m\u001b[36m$ivy.$                              \n",
       "\n",
       "\u001b[39m\r\n",
       "\u001b[32mimport \u001b[39m\u001b[36morg.apache.spark.sql.{NotebookSparkSession, SparkSession}\n",
       "\u001b[39m\r\n",
       "\u001b[32mimport \u001b[39m\u001b[36morg.apache.spark.sql.{functions => func, _}\n",
       "\u001b[39m\r\n",
       "\u001b[32mimport \u001b[39m\u001b[36morg.apache.spark.sql.types._\n",
       "\n",
       "\u001b[39m\r\n",
       "\u001b[36mspark\u001b[39m: \u001b[32mSparkSession\u001b[39m = org.apache.spark.sql.SparkSession@21bd36e0\r\n",
       "\u001b[32mimport \u001b[39m\u001b[36mspark.implicits._\n",
       "\n",
       "\u001b[39m\r\n",
       "\u001b[32mimport \u001b[39m\u001b[36morg.slf4j.LoggerFactory\n",
       "\u001b[39m\r\n",
       "\u001b[32mimport \u001b[39m\u001b[36morg.apache.log4j.{Level, Logger}\n",
       "\n",
       "\u001b[39m"
      ]
     },
     "execution_count": 1,
     "metadata": {},
     "output_type": "execute_result"
    }
   ],
   "source": [
    "import $ivy.`org.apache.spark::spark-sql:2.4.5` \n",
    "import $ivy.`sh.almond::almond-spark:0.4.0`\n",
    "\n",
    "import org.apache.spark.sql.{NotebookSparkSession, SparkSession}\n",
    "import org.apache.spark.sql.{functions => func, _}\n",
    "import org.apache.spark.sql.types._\n",
    "\n",
    "val spark = NotebookSparkSession\n",
    "      .builder()\n",
    "      .config(\"spark.sql.join.preferSortMergeJoin\", false)\n",
    "      .config(\"spark.sql.shuffle.partitions\", 64)\n",
    "      .master(\"local[*]\")\n",
    "      .getOrCreate()\n",
    "\n",
    "import spark.implicits._\n",
    "\n",
    "import org.slf4j.LoggerFactory\n",
    "import org.apache.log4j.{Level, Logger}\n",
    "\n",
    "Logger.getRootLogger().setLevel(Level.ERROR)"
   ]
  },
  {
   "cell_type": "code",
   "execution_count": null,
   "id": "1f4e9899",
   "metadata": {},
   "outputs": [],
   "source": [
    "val data: DataFrame = spark.read.option(\"multiline\", \"true\").json(\"D:/TFGAlvaroSanchez/data2/*.json\")"
   ]
  },
  {
   "cell_type": "code",
   "execution_count": null,
   "id": "6d95437a",
   "metadata": {
    "scrolled": true
   },
   "outputs": [],
   "source": [
    "data.show()"
   ]
  },
  {
   "cell_type": "markdown",
   "id": "9e2ac2a2",
   "metadata": {},
   "source": [
    "### Obtencion de la fecha y del valor maximo de temperatura"
   ]
  },
  {
   "cell_type": "markdown",
   "id": "f4590aee",
   "metadata": {},
   "source": [
    "Con lo siguiente cambiamos el tipo de datos de la columna ta_max\n",
    "\n",
    "val data1 = data.withColumn(\"ta_max\", $\"ta_max\".substr(0,4).cast(IntegerType))"
   ]
  },
  {
   "cell_type": "code",
   "execution_count": null,
   "id": "7e9d8457",
   "metadata": {},
   "outputs": [],
   "source": [
    "import org.apache.spark.sql.functions.{min, max, desc}\n",
    "\n",
    "data.withColumn(\"ta_max\", $\"ta_max\".substr(0,4).cast(IntegerType))\n",
    "    .select($\"fecha\", $\"ta_max\" as \"temperatura maxima\")\n",
    "    .orderBy($\"ta_max\".desc)\n",
    "    .show(1)"
   ]
  },
  {
   "cell_type": "markdown",
   "id": "38cfd3f1",
   "metadata": {
    "scrolled": true
   },
   "source": [
    "### Obtencion del mes, año, id estacion y provincia donde ocurren la stemperaturas mas altas en 2021"
   ]
  },
  {
   "cell_type": "code",
   "execution_count": null,
   "id": "4bf439ab",
   "metadata": {},
   "outputs": [],
   "source": [
    "val data2021 : DataFrame = spark.read.option(\"multiline\", \"true\").json(\"D:/TFGAlvaroSanchez/data2/*2021.json\")"
   ]
  },
  {
   "cell_type": "code",
   "execution_count": null,
   "id": "f0832bdf",
   "metadata": {},
   "outputs": [],
   "source": [
    "data2021.printSchema()"
   ]
  },
  {
   "cell_type": "code",
   "execution_count": null,
   "id": "bab2f3ba",
   "metadata": {},
   "outputs": [],
   "source": [
    "data2021.select($\"ta_min\", $\"indicativo\", $\"fecha\")\n",
    "    .filter($\"indicativo\".equalTo(\"2916A\"))\n",
    "    .show()"
   ]
  },
  {
   "cell_type": "markdown",
   "id": "5f1c8194",
   "metadata": {},
   "source": [
    "Usamos `.df` para darle nombre a las columnas"
   ]
  },
  {
   "cell_type": "code",
   "execution_count": null,
   "id": "0a9dff27",
   "metadata": {},
   "outputs": [],
   "source": [
    "val ids : DataFrame = spark.read.option(\"delimiter\", \";\").csv(\"D:/TFGAlvaroSanchez/data2/aemetID.csv\")\n",
    "    .toDF(\"provincia\", \"indicativo\", \"ubicacion\")"
   ]
  },
  {
   "cell_type": "code",
   "execution_count": null,
   "id": "65177ecc",
   "metadata": {},
   "outputs": [],
   "source": [
    "ids.show()\n",
    "ids.printSchema()"
   ]
  },
  {
   "cell_type": "code",
   "execution_count": null,
   "id": "baff4489",
   "metadata": {},
   "outputs": [],
   "source": [
    "val joindata : DataFrame = data2021.join(ids, \"indicativo\")"
   ]
  },
  {
   "cell_type": "code",
   "execution_count": null,
   "id": "4c5ed324",
   "metadata": {},
   "outputs": [],
   "source": [
    "joindata.withColumn(\"ta_max\", $\"ta_max\".substr(0,4).cast(IntegerType))\n",
    "    .select($\"fecha\".substr(6,2) as \"mes\", $\"fecha\".substr(0,4) as \"año\", $\"ta_max\" as \"temperatura maxima\", $\"indicativo\", $\"provincia\")\n",
    "    .filter(!($\"mes\".equalTo(\"13\")))\n",
    "    .orderBy($\"ta_max\".desc)\n",
    "    .show()"
   ]
  },
  {
   "cell_type": "markdown",
   "id": "2092bd58",
   "metadata": {},
   "source": [
    "### Obtencion del mes, año y provincia donde se encuntra la temperatura mas baja durante verano (junio, julio y agosto)"
   ]
  },
  {
   "cell_type": "code",
   "execution_count": null,
   "id": "e978f2af",
   "metadata": {},
   "outputs": [],
   "source": [
    "joindata.withColumn(\"ta_min\", $\"ta_min\".substr(0,4).cast(IntegerType))\n",
    "    .withColumn(\"fecha\", $\"fecha\".cast(DateType)).printSchema"
   ]
  },
  {
   "cell_type": "markdown",
   "id": "e8bb5c5d",
   "metadata": {},
   "source": [
    "Para quedarnos unicamente con la temperatura ya que este valor viene precedido del dia que ocurrio de la siguiente manera: temperatura(dia)"
   ]
  },
  {
   "cell_type": "code",
   "execution_count": null,
   "id": "050e2569",
   "metadata": {},
   "outputs": [],
   "source": [
    "import org.apache.spark.sql.functions.split\n",
    "\n",
    "joindata.withColumn(\"ta_min\", split($\"ta_min\", \"\\\\(\"))\n",
    "    .select($\"ta_min\"(0) as \"val\")\n",
    "    .show()"
   ]
  },
  {
   "cell_type": "code",
   "execution_count": null,
   "id": "8858f9f2",
   "metadata": {},
   "outputs": [],
   "source": [
    "joindata.withColumn(\"ta_min\", split($\"ta_min\", \"\\\\(\"))\n",
    "    .withColumn(\"ta_min\", $\"ta_min\"(0).cast(IntegerType))\n",
    "    .withColumn(\"fecha\", $\"fecha\".cast(DateType))\n",
    "    .select(func.month($\"fecha\") as \"mes\", func.year($\"fecha\") as \"año\", $\"ta_min\" as \"temperatura minima\", $\"provincia\")  \n",
    "    .filter($\"mes\" > 5 && $\"mes\" < 9)\n",
    "    .orderBy($\"temperatura minima\".asc)\n",
    "    .show()"
   ]
  },
  {
   "cell_type": "markdown",
   "id": "4b7c3c3a",
   "metadata": {},
   "source": [
    "### Numero de meses con temperaturas maximas >30º por provincia"
   ]
  },
  {
   "cell_type": "code",
   "execution_count": null,
   "id": "b906329d",
   "metadata": {},
   "outputs": [],
   "source": [
    "joindata\n",
    "    .withColumn(\"ta_max\", split($\"ta_max\", \"\\\\(\"))\n",
    "    .withColumn(\"ta_max\", $\"ta_max\"(0).cast(IntegerType))\n",
    "    .withColumn(\"fecha\", $\"fecha\".cast(DateType))\n",
    "    .filter($\"ta_max\" > 30 && !func.isnull($\"fecha\"))//> \"0000-00-00\")\n",
    "    .groupBy(\"provincia\")\n",
    "    .count\n",
    "    .show()"
   ]
  },
  {
   "cell_type": "markdown",
   "id": "487e5b9f",
   "metadata": {},
   "source": [
    "Relacion que tiene el calor con los meses de verano"
   ]
  },
  {
   "cell_type": "code",
   "execution_count": null,
   "id": "1618d64a",
   "metadata": {},
   "outputs": [],
   "source": [
    "joindata\n",
    "    .withColumn(\"ta_max\", split($\"ta_max\", \"\\\\(\"))\n",
    "    .withColumn(\"ta_max\", $\"ta_max\"(0).cast(IntegerType))\n",
    "    .withColumn(\"fecha\", $\"fecha\".cast(DateType))\n",
    "    .filter($\"ta_max\" > 30 && !func.isnull($\"fecha\"))\n",
    "    .withColumn(\"mes\", func.month($\"fecha\"))\n",
    "    .stat.corr(\"ta_max\", \"mes\")"
   ]
  },
  {
   "cell_type": "markdown",
   "id": "7aeb5b87",
   "metadata": {},
   "source": [
    "### Uso de graficos mostrando la precipitacion mensual por meses y años en Vitigudino(Salamanca)"
   ]
  },
  {
   "cell_type": "code",
   "execution_count": null,
   "id": "2a8b4af5",
   "metadata": {},
   "outputs": [],
   "source": [
    "val vitData : DataFrame = spark.read.option(\"multiline\", \"true\").json(\"D:/TFGAlvaroSanchez/data2/2916A*.json\")"
   ]
  },
  {
   "cell_type": "markdown",
   "id": "350a615c",
   "metadata": {},
   "source": [
    "Obtenemos los datos que queremos mostrar"
   ]
  },
  {
   "cell_type": "code",
   "execution_count": null,
   "id": "07797cc8",
   "metadata": {},
   "outputs": [],
   "source": [
    "val vitDataRequired : DataFrame = vitData\n",
    "    .withColumn(\"fecha\", $\"fecha\".cast(DateType))\n",
    "    .withColumn(\"p_mes\", $\"p_mes\".cast(IntegerType))\n",
    "    .filter(!func.isnull($\"fecha\") && $\"p_mes\" >= 0)\n",
    "    .select($\"fecha\", $\"p_mes\")\n",
    "    .orderBy($\"fecha\".asc)"
   ]
  },
  {
   "cell_type": "code",
   "execution_count": null,
   "id": "82b379bc",
   "metadata": {},
   "outputs": [],
   "source": [
    "vitDataRequired.show()"
   ]
  },
  {
   "cell_type": "code",
   "execution_count": null,
   "id": "018ab268",
   "metadata": {},
   "outputs": [],
   "source": [
    "val vitDataRequired_f : Seq[String] = vitDataRequired.select($\"fecha\").as[String].collect.toSeq\n",
    "val vitDataRequired_p : Seq[Int] = vitDataRequired.select($\"p_mes\").as[Int].collect.toSeq"
   ]
  },
  {
   "cell_type": "markdown",
   "id": "92d4d0df",
   "metadata": {},
   "source": [
    "Realizamos los imports necesarios para las graficas"
   ]
  },
  {
   "cell_type": "code",
   "execution_count": null,
   "id": "f0250437",
   "metadata": {},
   "outputs": [],
   "source": [
    "import $ivy.`org.plotly-scala::plotly-almond:0.7.0`\n",
    "import plotly._, plotly.element._, plotly.layout._, plotly.Almond._\n",
    "\n",
    "// restrict the output height to avoid scrolling in output cells\n",
    "repl.pprinter() = repl.pprinter().copy(defaultHeight = 3)"
   ]
  },
  {
   "cell_type": "code",
   "execution_count": null,
   "id": "bdaca6f2",
   "metadata": {},
   "outputs": [],
   "source": [
    "val trace = Seq(\n",
    "    Scatter(\n",
    "        vitDataRequired_f,\n",
    "        vitDataRequired_p,\n",
    "        fill = Fill.ToZeroY,\n",
    "        marker = Marker(\n",
    "            color = Color.RGBA(55, 128, 191, 0.6)\n",
    "        )\n",
    "    )\n",
    ")\n",
    "\n",
    "\n",
    "val layout = Layout(\n",
    "    title = \"Precipitacion mensual (mm)\",\n",
    "    paper_bgcolor =  Color.RGBA(245, 246, 249, 1),\n",
    "    plot_bgcolor = Color.RGBA(245, 246, 249, 1),\n",
    ")\n",
    "plot(trace, layout)"
   ]
  },
  {
   "cell_type": "markdown",
   "id": "99e19237",
   "metadata": {},
   "source": [
    "### Leer los datos de manera casteada mediante un schema"
   ]
  },
  {
   "cell_type": "code",
   "execution_count": null,
   "id": "e77730d9",
   "metadata": {},
   "outputs": [],
   "source": [
    "val schema = StructType(\n",
    "                Array(\n",
    "                    /*StructField(\"fecha\", DateType, true),\n",
    "                    StructField(\"indicativo\", StringType, true),\n",
    "                    StructField(\"p_max\", StringType, true),*/\n",
    "                    StructField(\"glo\", IntegerType, true),\n",
    "                    /*StructField(\"hr\", IntegerType, true),\n",
    "                    StructField(\"nw_55\", IntegerType, true),\n",
    "                    StructField(\"tm_min\", DoubleType, true),\n",
    "                    StructField(\"ta_max\", StringType, true),\n",
    "                    StructField(\"ts_min\", DoubleType, true),\n",
    "                    StructField(\"nt_30\", IntegerType, true),\n",
    "                    StructField(\"n_des\", IntegerType, true),\n",
    "                    StructField(\"w_racha\", StringType, true),\n",
    "                    StructField(\"np_100\", IntegerType, true)*/\n",
    "                )\n",
    "            )"
   ]
  },
  {
   "cell_type": "code",
   "execution_count": null,
   "id": "9bb25a98",
   "metadata": {},
   "outputs": [],
   "source": [
    "val dt: DataFrame = spark.read.schema(schema)\n",
    "    .option(\"multiline\", \"true\")\n",
    "    .option(\"dateFormat\", \"yyyy-MM\")\n",
    "    .json(\"D:/TFGAlvaroSanchez/data2/0201D(Barcelona)-2021.json\")"
   ]
  },
  {
   "cell_type": "code",
   "execution_count": null,
   "id": "f606dae5",
   "metadata": {},
   "outputs": [],
   "source": [
    "dt.show()"
   ]
  },
  {
   "cell_type": "code",
   "execution_count": null,
   "id": "c1f4d444",
   "metadata": {},
   "outputs": [],
   "source": [
    "val dt: DataFrame = spark.read\n",
    "    .option(\"multiline\", \"true\")\n",
    "    .json(\"D:/TFGAlvaroSanchez/data2/0201D(Barcelona)-2021.json\")\n",
    "    .select(//$\"fecha\".cast(DateType), \n",
    "            func.to_date($\"fecha\").alias(\"fecha\"),\n",
    "            $\"indicativo\", \n",
    "            $\"p_max\",\n",
    "            $\"glo\".cast(DoubleType), \n",
    "            $\"hr\".cast(DoubleType), \n",
    "            $\"nw_55\".cast(IntegerType), \n",
    "            $\"tm_min\".cast(DoubleType), \n",
    "            $\"ta_max\", \n",
    "            $\"ts_min\".cast(DoubleType), \n",
    "            $\"nt_30\".cast(IntegerType), \n",
    "            $\"n_des\".cast(IntegerType), \n",
    "            $\"w_racha\", \n",
    "            $\"np_100\".cast(IntegerType), \n",
    "            $\"nw_91\".cast(IntegerType), \n",
    "            $\"np_001\".cast(IntegerType), \n",
    "            $\"ta_min\", \n",
    "            $\"w_rec\".cast(IntegerType), \n",
    "            $\"e\".cast(DoubleType), \n",
    "            $\"np_300\".cast(IntegerType), \n",
    "            $\"p_mes\".cast(DoubleType), \n",
    "            $\"w_med\".cast(DoubleType), \n",
    "            $\"nt_00\".cast(IntegerType), \n",
    "            $\"ti_max\".cast(DoubleType), \n",
    "            $\"tm_mes\".cast(DoubleType), \n",
    "            $\"tm_max\".cast(DoubleType), \n",
    "            $\"np_010\".cast(IntegerType))"
   ]
  },
  {
   "cell_type": "code",
   "execution_count": null,
   "id": "0c474860",
   "metadata": {},
   "outputs": [],
   "source": [
    "dt.printSchema()"
   ]
  },
  {
   "cell_type": "code",
   "execution_count": null,
   "id": "3f24e02a",
   "metadata": {},
   "outputs": [],
   "source": [
    "dt.show()"
   ]
  },
  {
   "cell_type": "markdown",
   "id": "5991909d",
   "metadata": {},
   "source": [
    "### Temperatura media en españa"
   ]
  },
  {
   "cell_type": "code",
   "execution_count": null,
   "id": "39024119",
   "metadata": {},
   "outputs": [],
   "source": [
    "val data: DataFrame = spark.read\n",
    "    .option(\"multiline\", \"true\")\n",
    "    .json(\"D:/TFGAlvaroSanchez/data2/*.json\")\n",
    "    .select($\"fecha\".cast(DateType), \n",
    "            $\"indicativo\", \n",
    "            $\"p_max\",\n",
    "            $\"glo\".cast(DoubleType), \n",
    "            $\"hr\".cast(DoubleType), \n",
    "            $\"nw_55\".cast(IntegerType), \n",
    "            $\"tm_min\".cast(DoubleType), \n",
    "            $\"ta_max\", \n",
    "            $\"ts_min\".cast(DoubleType), \n",
    "            $\"nt_30\".cast(IntegerType), \n",
    "            $\"n_des\".cast(IntegerType), \n",
    "            $\"w_racha\", \n",
    "            $\"np_100\".cast(IntegerType), \n",
    "            $\"nw_91\".cast(IntegerType), \n",
    "            $\"np_001\".cast(IntegerType), \n",
    "            $\"ta_min\", \n",
    "            $\"w_rec\".cast(IntegerType), \n",
    "            $\"e\".cast(DoubleType), \n",
    "            $\"np_300\".cast(IntegerType), \n",
    "            $\"p_mes\".cast(DoubleType), \n",
    "            $\"w_med\".cast(DoubleType), \n",
    "            $\"nt_00\".cast(IntegerType), \n",
    "            $\"ti_max\".cast(DoubleType), \n",
    "            $\"tm_mes\".cast(DoubleType), \n",
    "            $\"tm_max\".cast(DoubleType), \n",
    "            $\"np_010\".cast(IntegerType))"
   ]
  },
  {
   "cell_type": "code",
   "execution_count": null,
   "id": "8af696f4",
   "metadata": {},
   "outputs": [],
   "source": [
    "data.filter($\"fecha\".isNotNull)\n",
    "    .select($\"tm_mes\".alias(\"temperatura media\"))\n",
    "    .describe()\n",
    "    .show()"
   ]
  },
  {
   "cell_type": "markdown",
   "id": "8dd96364",
   "metadata": {},
   "source": [
    "### Fecha y estaciones con temp >35º (Utilizando expr)"
   ]
  },
  {
   "cell_type": "code",
   "execution_count": null,
   "id": "741aece5",
   "metadata": {},
   "outputs": [],
   "source": [
    "val data: DataFrame = spark.read\n",
    "    .option(\"multiline\", \"true\")\n",
    "    .json(\"D:/TFGAlvaroSanchez/data2/*.json\")\n",
    "    .select($\"fecha\".cast(DateType), \n",
    "            $\"indicativo\", \n",
    "            $\"p_max\",\n",
    "            $\"glo\".cast(DoubleType), \n",
    "            $\"hr\".cast(DoubleType), \n",
    "            $\"nw_55\".cast(IntegerType), \n",
    "            $\"tm_min\".cast(DoubleType), \n",
    "            $\"ta_max\", \n",
    "            $\"ts_min\".cast(DoubleType), \n",
    "            $\"nt_30\".cast(IntegerType), \n",
    "            $\"n_des\".cast(IntegerType), \n",
    "            $\"w_racha\", \n",
    "            $\"np_100\".cast(IntegerType), \n",
    "            $\"nw_91\".cast(IntegerType), \n",
    "            $\"np_001\".cast(IntegerType), \n",
    "            $\"ta_min\", \n",
    "            $\"w_rec\".cast(IntegerType), \n",
    "            $\"e\".cast(DoubleType), \n",
    "            $\"np_300\".cast(IntegerType), \n",
    "            $\"p_mes\".cast(DoubleType), \n",
    "            $\"w_med\".cast(DoubleType), \n",
    "            $\"nt_00\".cast(IntegerType), \n",
    "            $\"ti_max\".cast(DoubleType), \n",
    "            $\"tm_mes\".cast(DoubleType), \n",
    "            $\"tm_max\".cast(DoubleType), \n",
    "            $\"np_010\".cast(IntegerType))\n",
    "val dataWithNameStation = data.join(ids, \"indicativo\")"
   ]
  },
  {
   "cell_type": "code",
   "execution_count": null,
   "id": "c9cfa957",
   "metadata": {},
   "outputs": [],
   "source": [
    "dataWithNameStation.withColumn(\"ta_max\", split($\"ta_max\", \"\\\\(\"))\n",
    "    .withColumn(\"t_max\", $\"ta_max\"(0).cast(IntegerType))\n",
    "    .withColumn(\"dia\", func.substring($\"ta_max\"(1), 0, 2).cast(IntegerType))\n",
    "    .withColumn(\"calor\", func.expr(\"t_max > 35\"))\n",
    "    .filter($\"calor\" && $\"fecha\".isNotNull)\n",
    "    .select($\"ubicacion\", func.year($\"fecha\").alias(\"año\"), func.month($\"fecha\").alias(\"mes\"), $\"dia\")\n",
    "    .show(false)"
   ]
  },
  {
   "cell_type": "markdown",
   "id": "14e47e24",
   "metadata": {},
   "source": [
    "### Media de todos los datos, agrupados por fecha y por indicativo"
   ]
  },
  {
   "cell_type": "code",
   "execution_count": null,
   "id": "2bd72643",
   "metadata": {},
   "outputs": [],
   "source": [
    "val data2021: DataFrame = spark.read\n",
    "    .option(\"multiline\", \"true\")\n",
    "    .json(\"D:/TFGAlvaroSanchez/data2/*-2021.json\")\n",
    "    .select($\"fecha\".cast(DateType), \n",
    "            $\"indicativo\", \n",
    "            $\"p_max\",\n",
    "            $\"glo\".cast(DoubleType), \n",
    "            $\"hr\".cast(DoubleType), \n",
    "            $\"nw_55\".cast(IntegerType), \n",
    "            $\"tm_min\".cast(DoubleType), \n",
    "            $\"ta_max\", \n",
    "            $\"ts_min\".cast(DoubleType), \n",
    "            $\"nt_30\".cast(IntegerType), \n",
    "            $\"n_des\".cast(IntegerType), \n",
    "            $\"w_racha\", \n",
    "            $\"np_100\".cast(IntegerType), \n",
    "            $\"nw_91\".cast(IntegerType), \n",
    "            $\"np_001\".cast(IntegerType), \n",
    "            $\"ta_min\", \n",
    "            $\"w_rec\".cast(IntegerType), \n",
    "            $\"e\".cast(DoubleType), \n",
    "            $\"np_300\".cast(IntegerType), \n",
    "            $\"p_mes\".cast(DoubleType), \n",
    "            $\"w_med\".cast(DoubleType), \n",
    "            $\"nt_00\".cast(IntegerType), \n",
    "            $\"ti_max\".cast(DoubleType), \n",
    "            $\"tm_mes\".cast(DoubleType), \n",
    "            $\"tm_max\".cast(DoubleType), \n",
    "            $\"np_010\".cast(IntegerType))"
   ]
  },
  {
   "cell_type": "code",
   "execution_count": null,
   "id": "bd5ff8f4",
   "metadata": {},
   "outputs": [],
   "source": [
    "val pivotedData2021 = data2021.groupBy(func.year($\"fecha\")).pivot(\"indicativo\").avg()\n",
    "pivotedData2021.select(\"year(fecha)\", \"0201D_avg(tm_mes)\").show()"
   ]
  },
  {
   "cell_type": "markdown",
   "id": "335a3413",
   "metadata": {},
   "source": [
    "### Leer todos los datos y transformalos a formato Parquet"
   ]
  },
  {
   "cell_type": "code",
   "execution_count": null,
   "id": "810b5be8",
   "metadata": {},
   "outputs": [],
   "source": [
    "val allData = spark.read.option(\"multiline\", \"true\").json(\"D:/TFGAlvaroSanchez/data/*.json\").select(\n",
    "            $\"fecha\".cast(DateType), \n",
    "            $\"indicativo\", \n",
    "            $\"p_max\",\n",
    "            $\"glo\".cast(DoubleType), \n",
    "            $\"hr\".cast(DoubleType), \n",
    "            $\"nw_55\".cast(IntegerType), \n",
    "            $\"tm_min\".cast(DoubleType), \n",
    "            $\"ta_max\", \n",
    "            $\"ts_min\".cast(DoubleType), \n",
    "            $\"nt_30\".cast(IntegerType), \n",
    "            $\"n_des\".cast(IntegerType), \n",
    "            $\"w_racha\", \n",
    "            $\"np_100\".cast(IntegerType), \n",
    "            $\"nw_91\".cast(IntegerType), \n",
    "            $\"np_001\".cast(IntegerType), \n",
    "            $\"ta_min\", \n",
    "            $\"w_rec\".cast(IntegerType), \n",
    "            $\"e\".cast(DoubleType), \n",
    "            $\"np_300\".cast(IntegerType), \n",
    "            $\"p_mes\".cast(DoubleType), \n",
    "            $\"w_med\".cast(DoubleType), \n",
    "            $\"nt_00\".cast(IntegerType), \n",
    "            $\"ti_max\".cast(DoubleType), \n",
    "            $\"tm_mes\".cast(DoubleType), \n",
    "            $\"tm_max\".cast(DoubleType), \n",
    "            $\"np_010\".cast(IntegerType))"
   ]
  },
  {
   "cell_type": "code",
   "execution_count": null,
   "id": "8d9c0a3c",
   "metadata": {},
   "outputs": [],
   "source": [
    "allData.write.format(\"parquet\").mode(\"overwrite\").save(\"D:/TFGAlvaroSanchez/dataParquet/\")"
   ]
  },
  {
   "cell_type": "markdown",
   "id": "6d8f5526",
   "metadata": {},
   "source": [
    "### Representacion de las temperaturas máximas en diferentes meses por años (desde 2015)"
   ]
  },
  {
   "cell_type": "code",
   "execution_count": 2,
   "id": "dca7c9fc",
   "metadata": {},
   "outputs": [
    {
     "data": {
      "text/plain": [
       "\u001b[32mimport \u001b[39m\u001b[36m$ivy.$                                      \n",
       "\u001b[39m\r\n",
       "\u001b[32mimport \u001b[39m\u001b[36mplotly._, plotly.element._, plotly.layout._, plotly.Almond._\n",
       "\n",
       "// restrict the output height to avoid scrolling in output cells\n",
       "\u001b[39m"
      ]
     },
     "execution_count": 2,
     "metadata": {},
     "output_type": "execute_result"
    }
   ],
   "source": [
    "import $ivy.`org.plotly-scala::plotly-almond:0.7.0`\n",
    "import plotly._, plotly.element._, plotly.layout._, plotly.Almond._\n",
    "\n",
    "// restrict the output height to avoid scrolling in output cells\n",
    "repl.pprinter() = repl.pprinter().copy(defaultHeight = 3)"
   ]
  },
  {
   "cell_type": "code",
   "execution_count": 3,
   "id": "bb26e4a3",
   "metadata": {},
   "outputs": [
    {
     "data": {
      "text/html": [
       "<script>\n",
       "var comm = Jupyter.notebook.kernel.comm_manager.new_comm('cancel-stage-672f9b24-143b-4036-84e7-739a32b8e11c', {});\n",
       "\n",
       "function cancelStage(stageId) {\n",
       "  console.log('Cancelling stage ' + stageId);\n",
       "  comm.send({ 'stageId': stageId });\n",
       "}\n",
       "</script>\n",
       "          "
      ]
     },
     "metadata": {},
     "output_type": "display_data"
    },
    {
     "data": {
      "text/html": [
       "<div>\n",
       "  <span style=\"float: left;\">parquet at cmd2.sc:1</span>\n",
       "</div>\n"
      ]
     },
     "metadata": {},
     "output_type": "display_data"
    },
    {
     "data": {
      "text/html": [
       "<div class=\"progress\">\n",
       "  <div class=\"progress-bar\" role=\"progressbar\" style=\"background-color: blue; width: 100%; word-wrap: normal; white-space: nowrap; text-align: center; color: white\" aria-valuenow=\"100\" aria-valuemin=\"0\" aria-valuemax=\"100\">\n",
       "    105 / 105\n",
       "  </div>\n",
       "  <div class=\"progress-bar\" role=\"progressbar\" style=\"background-color: red; width: 0%\" aria-valuenow=\"0\" aria-valuemin=\"0\" aria-valuemax=\"100\"></div>\n",
       "</div>\n"
      ]
     },
     "metadata": {},
     "output_type": "display_data"
    },
    {
     "data": {
      "text/html": [
       "<div>\n",
       "  <span style=\"float: left;\">parquet at cmd2.sc:1</span>\n",
       "</div>\n"
      ]
     },
     "metadata": {},
     "output_type": "display_data"
    },
    {
     "data": {
      "text/html": [
       "<div class=\"progress\">\n",
       "  <div class=\"progress-bar\" role=\"progressbar\" style=\"background-color: blue; width: 100%; word-wrap: normal; white-space: nowrap; text-align: center; color: white\" aria-valuenow=\"100\" aria-valuemin=\"0\" aria-valuemax=\"100\">\n",
       "    1 / 1\n",
       "  </div>\n",
       "  <div class=\"progress-bar\" role=\"progressbar\" style=\"background-color: red; width: 0%\" aria-valuenow=\"0\" aria-valuemin=\"0\" aria-valuemax=\"100\"></div>\n",
       "</div>\n"
      ]
     },
     "metadata": {},
     "output_type": "display_data"
    },
    {
     "data": {
      "text/plain": [
       "\u001b[36mdataRead\u001b[39m: \u001b[32mDataFrame\u001b[39m = [fecha: date, indicativo: string ... 24 more fields]\r\n",
       "\u001b[36mdata\u001b[39m: \u001b[32mDataFrame\u001b[39m = [fecha: date, ta_max: double]"
      ]
     },
     "execution_count": 3,
     "metadata": {},
     "output_type": "execute_result"
    }
   ],
   "source": [
    "val dataRead = spark.read.parquet(\"D:/TFGAlvaroSanchez/dataParquet/*\").na.drop()\n",
    "\n",
    "val data = dataRead\n",
    "    .withColumn(\"ta_max\", func.split($\"ta_max\", \"\\\\(\")(0).cast(IntegerType))\n",
    "    .groupBy($\"fecha\")\n",
    "    .agg(func.avg($\"ta_max\").alias(\"ta_max\"))"
   ]
  },
  {
   "cell_type": "code",
   "execution_count": null,
   "id": "d18cc465",
   "metadata": {},
   "outputs": [],
   "source": [
    "val data1 = data\n",
    "    .withColumn(\"año\", func.year($\"fecha\"))\n",
    "    .withColumn(\"mes\", func.month($\"fecha\"))\n",
    "    .orderBy(\"año\", \"mes\")\n",
    "\n",
    "data1.show()"
   ]
  },
  {
   "cell_type": "code",
   "execution_count": null,
   "id": "789f796f",
   "metadata": {},
   "outputs": [],
   "source": [
    "val SeqMonths = data1.filter($\"año\" === 2010).map(row => row.getInt(3)).collect().toSeq\n",
    "val Seq2010 = data1.filter($\"año\" === 2010).map(row => row.getDouble(1)).collect().toSeq\n",
    "val Seq2011 = data1.filter($\"año\" === 2011).map(row => row.getDouble(1)).collect().toSeq\n",
    "val Seq2012 = data1.filter($\"año\" === 2012).map(row => row.getDouble(1)).collect().toSeq\n",
    "val Seq2013 = data1.filter($\"año\" === 2013).map(row => row.getDouble(1)).collect().toSeq\n",
    "val Seq2014 = data1.filter($\"año\" === 2014).map(row => row.getDouble(1)).collect().toSeq\n",
    "val Seq2015 = data1.filter($\"año\" === 2015).map(row => row.getDouble(1)).collect().toSeq\n",
    "val Seq2016 = data1.filter($\"año\" === 2016).map(row => row.getDouble(1)).collect().toSeq\n",
    "val Seq2017 = data1.filter($\"año\" === 2017).map(row => row.getDouble(1)).collect().toSeq\n",
    "val Seq2018 = data1.filter($\"año\" === 2018).map(row => row.getDouble(1)).collect().toSeq\n",
    "val Seq2019 = data1.filter($\"año\" === 2019).map(row => row.getDouble(1)).collect().toSeq\n",
    "val Seq2020 = data1.filter($\"año\" === 2020).map(row => row.getDouble(1)).collect().toSeq\n",
    "val Seq2021 = data1.filter($\"año\" === 2021).map(row => row.getDouble(1)).collect().toSeq\n",
    "val Seq2022 = data1.filter($\"año\" === 2022).map(row => row.getDouble(1)).collect().toSeq"
   ]
  },
  {
   "cell_type": "code",
   "execution_count": 4,
   "id": "eed17c75",
   "metadata": {},
   "outputs": [
    {
     "data": {
      "text/html": [
       "<div>\n",
       "  <span style=\"float: left;\">collect at cmd3.sc:5</span>\n",
       "</div>\n"
      ]
     },
     "metadata": {},
     "output_type": "display_data"
    },
    {
     "data": {
      "text/html": [
       "<div class=\"progress\">\n",
       "  <div class=\"progress-bar\" role=\"progressbar\" style=\"background-color: blue; width: 100%; word-wrap: normal; white-space: nowrap; text-align: center; color: white\" aria-valuenow=\"100\" aria-valuemin=\"0\" aria-valuemax=\"100\">\n",
       "    8 / 8\n",
       "  </div>\n",
       "  <div class=\"progress-bar\" role=\"progressbar\" style=\"background-color: red; width: 0%\" aria-valuenow=\"0\" aria-valuemin=\"0\" aria-valuemax=\"100\"></div>\n",
       "</div>\n"
      ]
     },
     "metadata": {},
     "output_type": "display_data"
    },
    {
     "data": {
      "text/html": [
       "<div>\n",
       "  <span style=\"float: left;\">collect at cmd3.sc:5</span>\n",
       "</div>\n"
      ]
     },
     "metadata": {},
     "output_type": "display_data"
    },
    {
     "data": {
      "text/html": [
       "<div class=\"progress\">\n",
       "  <div class=\"progress-bar\" role=\"progressbar\" style=\"background-color: blue; width: 100%; word-wrap: normal; white-space: nowrap; text-align: center; color: white\" aria-valuenow=\"100\" aria-valuemin=\"0\" aria-valuemax=\"100\">\n",
       "    64 / 64\n",
       "  </div>\n",
       "  <div class=\"progress-bar\" role=\"progressbar\" style=\"background-color: red; width: 0%\" aria-valuenow=\"0\" aria-valuemin=\"0\" aria-valuemax=\"100\"></div>\n",
       "</div>\n"
      ]
     },
     "metadata": {},
     "output_type": "display_data"
    },
    {
     "data": {
      "text/html": [
       "<div>\n",
       "  <span style=\"float: left;\">collect at cmd3.sc:5</span>\n",
       "</div>\n"
      ]
     },
     "metadata": {},
     "output_type": "display_data"
    },
    {
     "data": {
      "text/html": [
       "<div class=\"progress\">\n",
       "  <div class=\"progress-bar\" role=\"progressbar\" style=\"background-color: blue; width: 100%; word-wrap: normal; white-space: nowrap; text-align: center; color: white\" aria-valuenow=\"100\" aria-valuemin=\"0\" aria-valuemax=\"100\">\n",
       "    64 / 64\n",
       "  </div>\n",
       "  <div class=\"progress-bar\" role=\"progressbar\" style=\"background-color: red; width: 0%\" aria-valuenow=\"0\" aria-valuemin=\"0\" aria-valuemax=\"100\"></div>\n",
       "</div>\n"
      ]
     },
     "metadata": {},
     "output_type": "display_data"
    },
    {
     "data": {
      "text/html": [
       "<div>\n",
       "  <span style=\"float: left;\">collect at cmd3.sc:5</span>\n",
       "</div>\n"
      ]
     },
     "metadata": {},
     "output_type": "display_data"
    },
    {
     "data": {
      "text/html": [
       "<div class=\"progress\">\n",
       "  <div class=\"progress-bar\" role=\"progressbar\" style=\"background-color: blue; width: 100%; word-wrap: normal; white-space: nowrap; text-align: center; color: white\" aria-valuenow=\"100\" aria-valuemin=\"0\" aria-valuemax=\"100\">\n",
       "    64 / 64\n",
       "  </div>\n",
       "  <div class=\"progress-bar\" role=\"progressbar\" style=\"background-color: red; width: 0%\" aria-valuenow=\"0\" aria-valuemin=\"0\" aria-valuemax=\"100\"></div>\n",
       "</div>\n"
      ]
     },
     "metadata": {},
     "output_type": "display_data"
    },
    {
     "data": {
      "text/html": [
       "<div>\n",
       "  <span style=\"float: left;\">collect at cmd3.sc:5</span>\n",
       "</div>\n"
      ]
     },
     "metadata": {},
     "output_type": "display_data"
    },
    {
     "data": {
      "text/html": [
       "<div class=\"progress\">\n",
       "  <div class=\"progress-bar\" role=\"progressbar\" style=\"background-color: blue; width: 100%; word-wrap: normal; white-space: nowrap; text-align: center; color: white\" aria-valuenow=\"100\" aria-valuemin=\"0\" aria-valuemax=\"100\">\n",
       "    12 / 12\n",
       "  </div>\n",
       "  <div class=\"progress-bar\" role=\"progressbar\" style=\"background-color: red; width: 0%\" aria-valuenow=\"0\" aria-valuemin=\"0\" aria-valuemax=\"100\"></div>\n",
       "</div>\n"
      ]
     },
     "metadata": {},
     "output_type": "display_data"
    },
    {
     "data": {
      "text/html": [
       "<div>\n",
       "  <span style=\"float: left;\">collect at cmd3.sc:11</span>\n",
       "</div>\n"
      ]
     },
     "metadata": {},
     "output_type": "display_data"
    },
    {
     "data": {
      "text/html": [
       "<div class=\"progress\">\n",
       "  <div class=\"progress-bar\" role=\"progressbar\" style=\"background-color: blue; width: 100%; word-wrap: normal; white-space: nowrap; text-align: center; color: white\" aria-valuenow=\"100\" aria-valuemin=\"0\" aria-valuemax=\"100\">\n",
       "    8 / 8\n",
       "  </div>\n",
       "  <div class=\"progress-bar\" role=\"progressbar\" style=\"background-color: red; width: 0%\" aria-valuenow=\"0\" aria-valuemin=\"0\" aria-valuemax=\"100\"></div>\n",
       "</div>\n"
      ]
     },
     "metadata": {},
     "output_type": "display_data"
    },
    {
     "data": {
      "text/html": [
       "<div>\n",
       "  <span style=\"float: left;\">collect at cmd3.sc:11</span>\n",
       "</div>\n"
      ]
     },
     "metadata": {},
     "output_type": "display_data"
    },
    {
     "data": {
      "text/html": [
       "<div class=\"progress\">\n",
       "  <div class=\"progress-bar\" role=\"progressbar\" style=\"background-color: blue; width: 100%; word-wrap: normal; white-space: nowrap; text-align: center; color: white\" aria-valuenow=\"100\" aria-valuemin=\"0\" aria-valuemax=\"100\">\n",
       "    64 / 64\n",
       "  </div>\n",
       "  <div class=\"progress-bar\" role=\"progressbar\" style=\"background-color: red; width: 0%\" aria-valuenow=\"0\" aria-valuemin=\"0\" aria-valuemax=\"100\"></div>\n",
       "</div>\n"
      ]
     },
     "metadata": {},
     "output_type": "display_data"
    },
    {
     "data": {
      "text/html": [
       "<div>\n",
       "  <span style=\"float: left;\">collect at cmd3.sc:11</span>\n",
       "</div>\n"
      ]
     },
     "metadata": {},
     "output_type": "display_data"
    },
    {
     "data": {
      "text/html": [
       "<div class=\"progress\">\n",
       "  <div class=\"progress-bar\" role=\"progressbar\" style=\"background-color: blue; width: 100%; word-wrap: normal; white-space: nowrap; text-align: center; color: white\" aria-valuenow=\"100\" aria-valuemin=\"0\" aria-valuemax=\"100\">\n",
       "    64 / 64\n",
       "  </div>\n",
       "  <div class=\"progress-bar\" role=\"progressbar\" style=\"background-color: red; width: 0%\" aria-valuenow=\"0\" aria-valuemin=\"0\" aria-valuemax=\"100\"></div>\n",
       "</div>\n"
      ]
     },
     "metadata": {},
     "output_type": "display_data"
    },
    {
     "data": {
      "text/html": [
       "<div>\n",
       "  <span style=\"float: left;\">collect at cmd3.sc:11</span>\n",
       "</div>\n"
      ]
     },
     "metadata": {},
     "output_type": "display_data"
    },
    {
     "data": {
      "text/html": [
       "<div class=\"progress\">\n",
       "  <div class=\"progress-bar\" role=\"progressbar\" style=\"background-color: blue; width: 100%; word-wrap: normal; white-space: nowrap; text-align: center; color: white\" aria-valuenow=\"100\" aria-valuemin=\"0\" aria-valuemax=\"100\">\n",
       "    12 / 12\n",
       "  </div>\n",
       "  <div class=\"progress-bar\" role=\"progressbar\" style=\"background-color: red; width: 0%\" aria-valuenow=\"0\" aria-valuemin=\"0\" aria-valuemax=\"100\"></div>\n",
       "</div>\n"
      ]
     },
     "metadata": {},
     "output_type": "display_data"
    },
    {
     "data": {
      "text/html": [
       "<div>\n",
       "  <span style=\"float: left;\">collect at cmd3.sc:17</span>\n",
       "</div>\n"
      ]
     },
     "metadata": {},
     "output_type": "display_data"
    },
    {
     "data": {
      "text/html": [
       "<div class=\"progress\">\n",
       "  <div class=\"progress-bar\" role=\"progressbar\" style=\"background-color: blue; width: 100%; word-wrap: normal; white-space: nowrap; text-align: center; color: white\" aria-valuenow=\"100\" aria-valuemin=\"0\" aria-valuemax=\"100\">\n",
       "    8 / 8\n",
       "  </div>\n",
       "  <div class=\"progress-bar\" role=\"progressbar\" style=\"background-color: red; width: 0%\" aria-valuenow=\"0\" aria-valuemin=\"0\" aria-valuemax=\"100\"></div>\n",
       "</div>\n"
      ]
     },
     "metadata": {},
     "output_type": "display_data"
    },
    {
     "data": {
      "text/html": [
       "<div>\n",
       "  <span style=\"float: left;\">collect at cmd3.sc:17</span>\n",
       "</div>\n"
      ]
     },
     "metadata": {},
     "output_type": "display_data"
    },
    {
     "data": {
      "text/html": [
       "<div class=\"progress\">\n",
       "  <div class=\"progress-bar\" role=\"progressbar\" style=\"background-color: blue; width: 100%; word-wrap: normal; white-space: nowrap; text-align: center; color: white\" aria-valuenow=\"100\" aria-valuemin=\"0\" aria-valuemax=\"100\">\n",
       "    64 / 64\n",
       "  </div>\n",
       "  <div class=\"progress-bar\" role=\"progressbar\" style=\"background-color: red; width: 0%\" aria-valuenow=\"0\" aria-valuemin=\"0\" aria-valuemax=\"100\"></div>\n",
       "</div>\n"
      ]
     },
     "metadata": {},
     "output_type": "display_data"
    },
    {
     "data": {
      "text/html": [
       "<div>\n",
       "  <span style=\"float: left;\">collect at cmd3.sc:17</span>\n",
       "</div>\n"
      ]
     },
     "metadata": {},
     "output_type": "display_data"
    },
    {
     "data": {
      "text/html": [
       "<div class=\"progress\">\n",
       "  <div class=\"progress-bar\" role=\"progressbar\" style=\"background-color: blue; width: 100%; word-wrap: normal; white-space: nowrap; text-align: center; color: white\" aria-valuenow=\"100\" aria-valuemin=\"0\" aria-valuemax=\"100\">\n",
       "    64 / 64\n",
       "  </div>\n",
       "  <div class=\"progress-bar\" role=\"progressbar\" style=\"background-color: red; width: 0%\" aria-valuenow=\"0\" aria-valuemin=\"0\" aria-valuemax=\"100\"></div>\n",
       "</div>\n"
      ]
     },
     "metadata": {},
     "output_type": "display_data"
    },
    {
     "data": {
      "text/html": [
       "<div>\n",
       "  <span style=\"float: left;\">collect at cmd3.sc:17</span>\n",
       "</div>\n"
      ]
     },
     "metadata": {},
     "output_type": "display_data"
    },
    {
     "data": {
      "text/html": [
       "<div class=\"progress\">\n",
       "  <div class=\"progress-bar\" role=\"progressbar\" style=\"background-color: blue; width: 100%; word-wrap: normal; white-space: nowrap; text-align: center; color: white\" aria-valuenow=\"100\" aria-valuemin=\"0\" aria-valuemax=\"100\">\n",
       "    12 / 12\n",
       "  </div>\n",
       "  <div class=\"progress-bar\" role=\"progressbar\" style=\"background-color: red; width: 0%\" aria-valuenow=\"0\" aria-valuemin=\"0\" aria-valuemax=\"100\"></div>\n",
       "</div>\n"
      ]
     },
     "metadata": {},
     "output_type": "display_data"
    },
    {
     "data": {
      "text/html": [
       "<div>\n",
       "  <span style=\"float: left;\">collect at cmd3.sc:23</span>\n",
       "</div>\n"
      ]
     },
     "metadata": {},
     "output_type": "display_data"
    },
    {
     "data": {
      "text/html": [
       "<div class=\"progress\">\n",
       "  <div class=\"progress-bar\" role=\"progressbar\" style=\"background-color: blue; width: 100%; word-wrap: normal; white-space: nowrap; text-align: center; color: white\" aria-valuenow=\"100\" aria-valuemin=\"0\" aria-valuemax=\"100\">\n",
       "    8 / 8\n",
       "  </div>\n",
       "  <div class=\"progress-bar\" role=\"progressbar\" style=\"background-color: red; width: 0%\" aria-valuenow=\"0\" aria-valuemin=\"0\" aria-valuemax=\"100\"></div>\n",
       "</div>\n"
      ]
     },
     "metadata": {},
     "output_type": "display_data"
    },
    {
     "data": {
      "text/html": [
       "<div>\n",
       "  <span style=\"float: left;\">collect at cmd3.sc:23</span>\n",
       "</div>\n"
      ]
     },
     "metadata": {},
     "output_type": "display_data"
    },
    {
     "data": {
      "text/html": [
       "<div class=\"progress\">\n",
       "  <div class=\"progress-bar\" role=\"progressbar\" style=\"background-color: blue; width: 100%; word-wrap: normal; white-space: nowrap; text-align: center; color: white\" aria-valuenow=\"100\" aria-valuemin=\"0\" aria-valuemax=\"100\">\n",
       "    64 / 64\n",
       "  </div>\n",
       "  <div class=\"progress-bar\" role=\"progressbar\" style=\"background-color: red; width: 0%\" aria-valuenow=\"0\" aria-valuemin=\"0\" aria-valuemax=\"100\"></div>\n",
       "</div>\n"
      ]
     },
     "metadata": {},
     "output_type": "display_data"
    },
    {
     "data": {
      "text/html": [
       "<div>\n",
       "  <span style=\"float: left;\">collect at cmd3.sc:23</span>\n",
       "</div>\n"
      ]
     },
     "metadata": {},
     "output_type": "display_data"
    },
    {
     "data": {
      "text/html": [
       "<div class=\"progress\">\n",
       "  <div class=\"progress-bar\" role=\"progressbar\" style=\"background-color: blue; width: 100%; word-wrap: normal; white-space: nowrap; text-align: center; color: white\" aria-valuenow=\"100\" aria-valuemin=\"0\" aria-valuemax=\"100\">\n",
       "    64 / 64\n",
       "  </div>\n",
       "  <div class=\"progress-bar\" role=\"progressbar\" style=\"background-color: red; width: 0%\" aria-valuenow=\"0\" aria-valuemin=\"0\" aria-valuemax=\"100\"></div>\n",
       "</div>\n"
      ]
     },
     "metadata": {},
     "output_type": "display_data"
    },
    {
     "data": {
      "text/html": [
       "<div>\n",
       "  <span style=\"float: left;\">collect at cmd3.sc:23</span>\n",
       "</div>\n"
      ]
     },
     "metadata": {},
     "output_type": "display_data"
    },
    {
     "data": {
      "text/html": [
       "<div class=\"progress\">\n",
       "  <div class=\"progress-bar\" role=\"progressbar\" style=\"background-color: blue; width: 100%; word-wrap: normal; white-space: nowrap; text-align: center; color: white\" aria-valuenow=\"100\" aria-valuemin=\"0\" aria-valuemax=\"100\">\n",
       "    12 / 12\n",
       "  </div>\n",
       "  <div class=\"progress-bar\" role=\"progressbar\" style=\"background-color: red; width: 0%\" aria-valuenow=\"0\" aria-valuemin=\"0\" aria-valuemax=\"100\"></div>\n",
       "</div>\n"
      ]
     },
     "metadata": {},
     "output_type": "display_data"
    },
    {
     "data": {
      "text/html": [
       "<div>\n",
       "  <span style=\"float: left;\">collect at cmd3.sc:29</span>\n",
       "</div>\n"
      ]
     },
     "metadata": {},
     "output_type": "display_data"
    },
    {
     "data": {
      "text/html": [
       "<div class=\"progress\">\n",
       "  <div class=\"progress-bar\" role=\"progressbar\" style=\"background-color: blue; width: 100%; word-wrap: normal; white-space: nowrap; text-align: center; color: white\" aria-valuenow=\"100\" aria-valuemin=\"0\" aria-valuemax=\"100\">\n",
       "    8 / 8\n",
       "  </div>\n",
       "  <div class=\"progress-bar\" role=\"progressbar\" style=\"background-color: red; width: 0%\" aria-valuenow=\"0\" aria-valuemin=\"0\" aria-valuemax=\"100\"></div>\n",
       "</div>\n"
      ]
     },
     "metadata": {},
     "output_type": "display_data"
    },
    {
     "data": {
      "text/html": [
       "<div>\n",
       "  <span style=\"float: left;\">collect at cmd3.sc:29</span>\n",
       "</div>\n"
      ]
     },
     "metadata": {},
     "output_type": "display_data"
    },
    {
     "data": {
      "text/html": [
       "<div class=\"progress\">\n",
       "  <div class=\"progress-bar\" role=\"progressbar\" style=\"background-color: blue; width: 100%; word-wrap: normal; white-space: nowrap; text-align: center; color: white\" aria-valuenow=\"100\" aria-valuemin=\"0\" aria-valuemax=\"100\">\n",
       "    64 / 64\n",
       "  </div>\n",
       "  <div class=\"progress-bar\" role=\"progressbar\" style=\"background-color: red; width: 0%\" aria-valuenow=\"0\" aria-valuemin=\"0\" aria-valuemax=\"100\"></div>\n",
       "</div>\n"
      ]
     },
     "metadata": {},
     "output_type": "display_data"
    },
    {
     "data": {
      "text/html": [
       "<div>\n",
       "  <span style=\"float: left;\">collect at cmd3.sc:29</span>\n",
       "</div>\n"
      ]
     },
     "metadata": {},
     "output_type": "display_data"
    },
    {
     "data": {
      "text/html": [
       "<div class=\"progress\">\n",
       "  <div class=\"progress-bar\" role=\"progressbar\" style=\"background-color: blue; width: 100%; word-wrap: normal; white-space: nowrap; text-align: center; color: white\" aria-valuenow=\"100\" aria-valuemin=\"0\" aria-valuemax=\"100\">\n",
       "    64 / 64\n",
       "  </div>\n",
       "  <div class=\"progress-bar\" role=\"progressbar\" style=\"background-color: red; width: 0%\" aria-valuenow=\"0\" aria-valuemin=\"0\" aria-valuemax=\"100\"></div>\n",
       "</div>\n"
      ]
     },
     "metadata": {},
     "output_type": "display_data"
    },
    {
     "data": {
      "text/html": [
       "<div>\n",
       "  <span style=\"float: left;\">collect at cmd3.sc:29</span>\n",
       "</div>\n"
      ]
     },
     "metadata": {},
     "output_type": "display_data"
    },
    {
     "data": {
      "text/html": [
       "<div class=\"progress\">\n",
       "  <div class=\"progress-bar\" role=\"progressbar\" style=\"background-color: blue; width: 100%; word-wrap: normal; white-space: nowrap; text-align: center; color: white\" aria-valuenow=\"100\" aria-valuemin=\"0\" aria-valuemax=\"100\">\n",
       "    12 / 12\n",
       "  </div>\n",
       "  <div class=\"progress-bar\" role=\"progressbar\" style=\"background-color: red; width: 0%\" aria-valuenow=\"0\" aria-valuemin=\"0\" aria-valuemax=\"100\"></div>\n",
       "</div>\n"
      ]
     },
     "metadata": {},
     "output_type": "display_data"
    },
    {
     "data": {
      "text/html": [
       "<div>\n",
       "  <span style=\"float: left;\">collect at cmd3.sc:35</span>\n",
       "</div>\n"
      ]
     },
     "metadata": {},
     "output_type": "display_data"
    },
    {
     "data": {
      "text/html": [
       "<div class=\"progress\">\n",
       "  <div class=\"progress-bar\" role=\"progressbar\" style=\"background-color: blue; width: 100%; word-wrap: normal; white-space: nowrap; text-align: center; color: white\" aria-valuenow=\"100\" aria-valuemin=\"0\" aria-valuemax=\"100\">\n",
       "    8 / 8\n",
       "  </div>\n",
       "  <div class=\"progress-bar\" role=\"progressbar\" style=\"background-color: red; width: 0%\" aria-valuenow=\"0\" aria-valuemin=\"0\" aria-valuemax=\"100\"></div>\n",
       "</div>\n"
      ]
     },
     "metadata": {},
     "output_type": "display_data"
    },
    {
     "data": {
      "text/html": [
       "<div>\n",
       "  <span style=\"float: left;\">collect at cmd3.sc:35</span>\n",
       "</div>\n"
      ]
     },
     "metadata": {},
     "output_type": "display_data"
    },
    {
     "data": {
      "text/html": [
       "<div class=\"progress\">\n",
       "  <div class=\"progress-bar\" role=\"progressbar\" style=\"background-color: blue; width: 100%; word-wrap: normal; white-space: nowrap; text-align: center; color: white\" aria-valuenow=\"100\" aria-valuemin=\"0\" aria-valuemax=\"100\">\n",
       "    64 / 64\n",
       "  </div>\n",
       "  <div class=\"progress-bar\" role=\"progressbar\" style=\"background-color: red; width: 0%\" aria-valuenow=\"0\" aria-valuemin=\"0\" aria-valuemax=\"100\"></div>\n",
       "</div>\n"
      ]
     },
     "metadata": {},
     "output_type": "display_data"
    },
    {
     "data": {
      "text/html": [
       "<div>\n",
       "  <span style=\"float: left;\">collect at cmd3.sc:35</span>\n",
       "</div>\n"
      ]
     },
     "metadata": {},
     "output_type": "display_data"
    },
    {
     "data": {
      "text/html": [
       "<div class=\"progress\">\n",
       "  <div class=\"progress-bar\" role=\"progressbar\" style=\"background-color: blue; width: 100%; word-wrap: normal; white-space: nowrap; text-align: center; color: white\" aria-valuenow=\"100\" aria-valuemin=\"0\" aria-valuemax=\"100\">\n",
       "    64 / 64\n",
       "  </div>\n",
       "  <div class=\"progress-bar\" role=\"progressbar\" style=\"background-color: red; width: 0%\" aria-valuenow=\"0\" aria-valuemin=\"0\" aria-valuemax=\"100\"></div>\n",
       "</div>\n"
      ]
     },
     "metadata": {},
     "output_type": "display_data"
    },
    {
     "data": {
      "text/html": [
       "<div>\n",
       "  <span style=\"float: left;\">collect at cmd3.sc:35</span>\n",
       "</div>\n"
      ]
     },
     "metadata": {},
     "output_type": "display_data"
    },
    {
     "data": {
      "text/html": [
       "<div class=\"progress\">\n",
       "  <div class=\"progress-bar\" role=\"progressbar\" style=\"background-color: blue; width: 100%; word-wrap: normal; white-space: nowrap; text-align: center; color: white\" aria-valuenow=\"100\" aria-valuemin=\"0\" aria-valuemax=\"100\">\n",
       "    12 / 12\n",
       "  </div>\n",
       "  <div class=\"progress-bar\" role=\"progressbar\" style=\"background-color: red; width: 0%\" aria-valuenow=\"0\" aria-valuemin=\"0\" aria-valuemax=\"100\"></div>\n",
       "</div>\n"
      ]
     },
     "metadata": {},
     "output_type": "display_data"
    },
    {
     "data": {
      "text/html": [
       "<div>\n",
       "  <span style=\"float: left;\">collect at cmd3.sc:41</span>\n",
       "</div>\n"
      ]
     },
     "metadata": {},
     "output_type": "display_data"
    },
    {
     "data": {
      "text/html": [
       "<div class=\"progress\">\n",
       "  <div class=\"progress-bar\" role=\"progressbar\" style=\"background-color: blue; width: 100%; word-wrap: normal; white-space: nowrap; text-align: center; color: white\" aria-valuenow=\"100\" aria-valuemin=\"0\" aria-valuemax=\"100\">\n",
       "    8 / 8\n",
       "  </div>\n",
       "  <div class=\"progress-bar\" role=\"progressbar\" style=\"background-color: red; width: 0%\" aria-valuenow=\"0\" aria-valuemin=\"0\" aria-valuemax=\"100\"></div>\n",
       "</div>\n"
      ]
     },
     "metadata": {},
     "output_type": "display_data"
    },
    {
     "data": {
      "text/html": [
       "<div>\n",
       "  <span style=\"float: left;\">collect at cmd3.sc:41</span>\n",
       "</div>\n"
      ]
     },
     "metadata": {},
     "output_type": "display_data"
    },
    {
     "data": {
      "text/html": [
       "<div class=\"progress\">\n",
       "  <div class=\"progress-bar\" role=\"progressbar\" style=\"background-color: blue; width: 100%; word-wrap: normal; white-space: nowrap; text-align: center; color: white\" aria-valuenow=\"100\" aria-valuemin=\"0\" aria-valuemax=\"100\">\n",
       "    64 / 64\n",
       "  </div>\n",
       "  <div class=\"progress-bar\" role=\"progressbar\" style=\"background-color: red; width: 0%\" aria-valuenow=\"0\" aria-valuemin=\"0\" aria-valuemax=\"100\"></div>\n",
       "</div>\n"
      ]
     },
     "metadata": {},
     "output_type": "display_data"
    },
    {
     "data": {
      "text/html": [
       "<div>\n",
       "  <span style=\"float: left;\">collect at cmd3.sc:41</span>\n",
       "</div>\n"
      ]
     },
     "metadata": {},
     "output_type": "display_data"
    },
    {
     "data": {
      "text/html": [
       "<div class=\"progress\">\n",
       "  <div class=\"progress-bar\" role=\"progressbar\" style=\"background-color: blue; width: 100%; word-wrap: normal; white-space: nowrap; text-align: center; color: white\" aria-valuenow=\"100\" aria-valuemin=\"0\" aria-valuemax=\"100\">\n",
       "    64 / 64\n",
       "  </div>\n",
       "  <div class=\"progress-bar\" role=\"progressbar\" style=\"background-color: red; width: 0%\" aria-valuenow=\"0\" aria-valuemin=\"0\" aria-valuemax=\"100\"></div>\n",
       "</div>\n"
      ]
     },
     "metadata": {},
     "output_type": "display_data"
    },
    {
     "data": {
      "text/html": [
       "<div>\n",
       "  <span style=\"float: left;\">collect at cmd3.sc:41</span>\n",
       "</div>\n"
      ]
     },
     "metadata": {},
     "output_type": "display_data"
    },
    {
     "data": {
      "text/html": [
       "<div class=\"progress\">\n",
       "  <div class=\"progress-bar\" role=\"progressbar\" style=\"background-color: blue; width: 100%; word-wrap: normal; white-space: nowrap; text-align: center; color: white\" aria-valuenow=\"100\" aria-valuemin=\"0\" aria-valuemax=\"100\">\n",
       "    12 / 12\n",
       "  </div>\n",
       "  <div class=\"progress-bar\" role=\"progressbar\" style=\"background-color: red; width: 0%\" aria-valuenow=\"0\" aria-valuemin=\"0\" aria-valuemax=\"100\"></div>\n",
       "</div>\n"
      ]
     },
     "metadata": {},
     "output_type": "display_data"
    },
    {
     "data": {
      "text/html": [
       "<div>\n",
       "  <span style=\"float: left;\">collect at cmd3.sc:47</span>\n",
       "</div>\n"
      ]
     },
     "metadata": {},
     "output_type": "display_data"
    },
    {
     "data": {
      "text/html": [
       "<div class=\"progress\">\n",
       "  <div class=\"progress-bar\" role=\"progressbar\" style=\"background-color: blue; width: 100%; word-wrap: normal; white-space: nowrap; text-align: center; color: white\" aria-valuenow=\"100\" aria-valuemin=\"0\" aria-valuemax=\"100\">\n",
       "    8 / 8\n",
       "  </div>\n",
       "  <div class=\"progress-bar\" role=\"progressbar\" style=\"background-color: red; width: 0%\" aria-valuenow=\"0\" aria-valuemin=\"0\" aria-valuemax=\"100\"></div>\n",
       "</div>\n"
      ]
     },
     "metadata": {},
     "output_type": "display_data"
    },
    {
     "data": {
      "text/html": [
       "<div>\n",
       "  <span style=\"float: left;\">collect at cmd3.sc:47</span>\n",
       "</div>\n"
      ]
     },
     "metadata": {},
     "output_type": "display_data"
    },
    {
     "data": {
      "text/html": [
       "<div class=\"progress\">\n",
       "  <div class=\"progress-bar\" role=\"progressbar\" style=\"background-color: blue; width: 100%; word-wrap: normal; white-space: nowrap; text-align: center; color: white\" aria-valuenow=\"100\" aria-valuemin=\"0\" aria-valuemax=\"100\">\n",
       "    64 / 64\n",
       "  </div>\n",
       "  <div class=\"progress-bar\" role=\"progressbar\" style=\"background-color: red; width: 0%\" aria-valuenow=\"0\" aria-valuemin=\"0\" aria-valuemax=\"100\"></div>\n",
       "</div>\n"
      ]
     },
     "metadata": {},
     "output_type": "display_data"
    },
    {
     "data": {
      "text/html": [
       "<div>\n",
       "  <span style=\"float: left;\">collect at cmd3.sc:47</span>\n",
       "</div>\n"
      ]
     },
     "metadata": {},
     "output_type": "display_data"
    },
    {
     "data": {
      "text/html": [
       "<div class=\"progress\">\n",
       "  <div class=\"progress-bar\" role=\"progressbar\" style=\"background-color: blue; width: 100%; word-wrap: normal; white-space: nowrap; text-align: center; color: white\" aria-valuenow=\"100\" aria-valuemin=\"0\" aria-valuemax=\"100\">\n",
       "    64 / 64\n",
       "  </div>\n",
       "  <div class=\"progress-bar\" role=\"progressbar\" style=\"background-color: red; width: 0%\" aria-valuenow=\"0\" aria-valuemin=\"0\" aria-valuemax=\"100\"></div>\n",
       "</div>\n"
      ]
     },
     "metadata": {},
     "output_type": "display_data"
    },
    {
     "data": {
      "text/html": [
       "<div>\n",
       "  <span style=\"float: left;\">collect at cmd3.sc:47</span>\n",
       "</div>\n"
      ]
     },
     "metadata": {},
     "output_type": "display_data"
    },
    {
     "data": {
      "text/html": [
       "<div class=\"progress\">\n",
       "  <div class=\"progress-bar\" role=\"progressbar\" style=\"background-color: blue; width: 100%; word-wrap: normal; white-space: nowrap; text-align: center; color: white\" aria-valuenow=\"100\" aria-valuemin=\"0\" aria-valuemax=\"100\">\n",
       "    12 / 12\n",
       "  </div>\n",
       "  <div class=\"progress-bar\" role=\"progressbar\" style=\"background-color: red; width: 0%\" aria-valuenow=\"0\" aria-valuemin=\"0\" aria-valuemax=\"100\"></div>\n",
       "</div>\n"
      ]
     },
     "metadata": {},
     "output_type": "display_data"
    },
    {
     "data": {
      "text/html": [
       "<div>\n",
       "  <span style=\"float: left;\">collect at cmd3.sc:53</span>\n",
       "</div>\n"
      ]
     },
     "metadata": {},
     "output_type": "display_data"
    },
    {
     "data": {
      "text/html": [
       "<div class=\"progress\">\n",
       "  <div class=\"progress-bar\" role=\"progressbar\" style=\"background-color: blue; width: 100%; word-wrap: normal; white-space: nowrap; text-align: center; color: white\" aria-valuenow=\"100\" aria-valuemin=\"0\" aria-valuemax=\"100\">\n",
       "    8 / 8\n",
       "  </div>\n",
       "  <div class=\"progress-bar\" role=\"progressbar\" style=\"background-color: red; width: 0%\" aria-valuenow=\"0\" aria-valuemin=\"0\" aria-valuemax=\"100\"></div>\n",
       "</div>\n"
      ]
     },
     "metadata": {},
     "output_type": "display_data"
    },
    {
     "data": {
      "text/html": [
       "<div>\n",
       "  <span style=\"float: left;\">collect at cmd3.sc:53</span>\n",
       "</div>\n"
      ]
     },
     "metadata": {},
     "output_type": "display_data"
    },
    {
     "data": {
      "text/html": [
       "<div class=\"progress\">\n",
       "  <div class=\"progress-bar\" role=\"progressbar\" style=\"background-color: blue; width: 100%; word-wrap: normal; white-space: nowrap; text-align: center; color: white\" aria-valuenow=\"100\" aria-valuemin=\"0\" aria-valuemax=\"100\">\n",
       "    64 / 64\n",
       "  </div>\n",
       "  <div class=\"progress-bar\" role=\"progressbar\" style=\"background-color: red; width: 0%\" aria-valuenow=\"0\" aria-valuemin=\"0\" aria-valuemax=\"100\"></div>\n",
       "</div>\n"
      ]
     },
     "metadata": {},
     "output_type": "display_data"
    },
    {
     "data": {
      "text/html": [
       "<div>\n",
       "  <span style=\"float: left;\">collect at cmd3.sc:53</span>\n",
       "</div>\n"
      ]
     },
     "metadata": {},
     "output_type": "display_data"
    },
    {
     "data": {
      "text/html": [
       "<div class=\"progress\">\n",
       "  <div class=\"progress-bar\" role=\"progressbar\" style=\"background-color: blue; width: 100%; word-wrap: normal; white-space: nowrap; text-align: center; color: white\" aria-valuenow=\"100\" aria-valuemin=\"0\" aria-valuemax=\"100\">\n",
       "    64 / 64\n",
       "  </div>\n",
       "  <div class=\"progress-bar\" role=\"progressbar\" style=\"background-color: red; width: 0%\" aria-valuenow=\"0\" aria-valuemin=\"0\" aria-valuemax=\"100\"></div>\n",
       "</div>\n"
      ]
     },
     "metadata": {},
     "output_type": "display_data"
    },
    {
     "data": {
      "text/html": [
       "<div>\n",
       "  <span style=\"float: left;\">collect at cmd3.sc:53</span>\n",
       "</div>\n"
      ]
     },
     "metadata": {},
     "output_type": "display_data"
    },
    {
     "data": {
      "text/html": [
       "<div class=\"progress\">\n",
       "  <div class=\"progress-bar\" role=\"progressbar\" style=\"background-color: blue; width: 100%; word-wrap: normal; white-space: nowrap; text-align: center; color: white\" aria-valuenow=\"100\" aria-valuemin=\"0\" aria-valuemax=\"100\">\n",
       "    8 / 8\n",
       "  </div>\n",
       "  <div class=\"progress-bar\" role=\"progressbar\" style=\"background-color: red; width: 0%\" aria-valuenow=\"0\" aria-valuemin=\"0\" aria-valuemax=\"100\"></div>\n",
       "</div>\n"
      ]
     },
     "metadata": {},
     "output_type": "display_data"
    },
    {
     "data": {
      "text/plain": [
       "\u001b[36mmonths\u001b[39m: \u001b[32mSeq\u001b[39m[\u001b[32mInt\u001b[39m] = \u001b[33mWrappedArray\u001b[39m(\u001b[32m1\u001b[39m, \u001b[32m2\u001b[39m, \u001b[32m3\u001b[39m, \u001b[32m4\u001b[39m, \u001b[32m5\u001b[39m, \u001b[32m6\u001b[39m, \u001b[32m7\u001b[39m, \u001b[32m8\u001b[39m, \u001b[32m9\u001b[39m, \u001b[32m10\u001b[39m, \u001b[32m11\u001b[39m, \u001b[32m12\u001b[39m)\r\n",
       "\u001b[36mdata2015\u001b[39m: \u001b[32mSeq\u001b[39m[\u001b[32mDouble\u001b[39m] = \u001b[33mWrappedArray\u001b[39m(\n",
       "  \u001b[32m18.96969696969697\u001b[39m,\n",
       "...\r\n",
       "\u001b[36mdata2016\u001b[39m: \u001b[32mSeq\u001b[39m[\u001b[32mDouble\u001b[39m] = \u001b[33mWrappedArray\u001b[39m(\n",
       "  \u001b[32m21.114285714285714\u001b[39m,\n",
       "...\r\n",
       "\u001b[36mdata2017\u001b[39m: \u001b[32mSeq\u001b[39m[\u001b[32mDouble\u001b[39m] = \u001b[33mWrappedArray\u001b[39m(\n",
       "  \u001b[32m18.823529411764707\u001b[39m,\n",
       "...\r\n",
       "\u001b[36mdata2018\u001b[39m: \u001b[32mSeq\u001b[39m[\u001b[32mDouble\u001b[39m] = \u001b[33mWrappedArray\u001b[39m(\n",
       "  \u001b[32m20.323529411764707\u001b[39m,\n",
       "...\r\n",
       "\u001b[36mdata2019\u001b[39m: \u001b[32mSeq\u001b[39m[\u001b[32mDouble\u001b[39m] = \u001b[33mWrappedArray\u001b[39m(\n",
       "  \u001b[32m18.142857142857142\u001b[39m,\n",
       "...\r\n",
       "\u001b[36mdata2020\u001b[39m: \u001b[32mSeq\u001b[39m[\u001b[32mDouble\u001b[39m] = \u001b[33mWrappedArray\u001b[39m(\n",
       "  \u001b[32m19.5\u001b[39m,\n",
       "...\r\n",
       "\u001b[36mdata2021\u001b[39m: \u001b[32mSeq\u001b[39m[\u001b[32mDouble\u001b[39m] = \u001b[33mWrappedArray\u001b[39m(\n",
       "  \u001b[32m21.307692307692307\u001b[39m,\n",
       "...\r\n",
       "\u001b[36mdata2022\u001b[39m: \u001b[32mSeq\u001b[39m[\u001b[32mDouble\u001b[39m] = \u001b[33mWrappedArray\u001b[39m(\n",
       "  \u001b[32m20.620689655172413\u001b[39m,\n",
       "..."
      ]
     },
     "execution_count": 4,
     "metadata": {},
     "output_type": "execute_result"
    }
   ],
   "source": [
    "val months = data\n",
    "    .select(func.month($\"fecha\").alias(\"mes\"))\n",
    "    .distinct()\n",
    "    .orderBy($\"mes\".asc)\n",
    "    .as[Int].collect.toSeq\n",
    "\n",
    "val data2015 = data\n",
    "    .filter(func.year($\"fecha\") === 2015)\n",
    "    .orderBy($\"fecha\".asc)\n",
    "    .select($\"ta_max\")\n",
    "    .as[Double].collect.toSeq\n",
    "\n",
    "val data2016 = data\n",
    "    .filter(func.year($\"fecha\") === 2016)\n",
    "    .orderBy($\"fecha\".asc)\n",
    "    .select($\"ta_max\")\n",
    "    .as[Double].collect.toSeq\n",
    "\n",
    "val data2017 = data\n",
    "    .filter(func.year($\"fecha\") === 2017)\n",
    "    .orderBy($\"fecha\".asc)\n",
    "    .select($\"ta_max\")\n",
    "    .as[Double].collect.toSeq\n",
    "\n",
    "val data2018 = data\n",
    "    .filter(func.year($\"fecha\") === 2018)\n",
    "    .orderBy($\"fecha\".asc)\n",
    "    .select($\"ta_max\")\n",
    "    .as[Double].collect.toSeq\n",
    "\n",
    "val data2019 = data\n",
    "    .filter(func.year($\"fecha\") === 2019)\n",
    "    .orderBy($\"fecha\".asc)\n",
    "    .select($\"ta_max\")\n",
    "    .as[Double].collect.toSeq\n",
    "\n",
    "val data2020 = data\n",
    "    .filter(func.year($\"fecha\") === 2020)\n",
    "    .orderBy($\"fecha\".asc)\n",
    "    .select($\"ta_max\")\n",
    "    .as[Double].collect.toSeq\n",
    "\n",
    "val data2021 = data\n",
    "    .filter(func.year($\"fecha\") === 2021)\n",
    "    .orderBy($\"fecha\".asc)\n",
    "    .select($\"ta_max\")\n",
    "    .as[Double].collect.toSeq\n",
    "\n",
    "val data2022 = data\n",
    "    .filter(func.year($\"fecha\") === 2022)\n",
    "    .orderBy($\"fecha\".asc)\n",
    "    .select($\"ta_max\")\n",
    "    .as[Double].collect.toSeq"
   ]
  },
  {
   "cell_type": "code",
   "execution_count": 5,
   "id": "d1fb13f4",
   "metadata": {},
   "outputs": [
    {
     "data": {
      "text/html": [
       "\n",
       "      <script type=\"text/javascript\">\n",
       "        require.config({\n",
       "  paths: {\n",
       "    d3: 'https://cdnjs.cloudflare.com/ajax/libs/d3/3.5.17/d3.min',\n",
       "    plotly: 'https://cdn.plot.ly/plotly-1.41.3.min',\n",
       "    jquery: 'https://code.jquery.com/jquery-3.3.1.min'\n",
       "  },\n",
       "\n",
       "  shim: {\n",
       "    plotly: {\n",
       "      deps: ['d3', 'jquery'],\n",
       "      exports: 'plotly'\n",
       "    }\n",
       "  }\n",
       "});\n",
       "        \n",
       "\n",
       "        require(['plotly'], function(Plotly) {\n",
       "          window.Plotly = Plotly;\n",
       "        });\n",
       "      </script>\n",
       "    "
      ]
     },
     "metadata": {},
     "output_type": "display_data"
    },
    {
     "data": {
      "application/vnd.plotly.v1+json": {
       "data": [
        {
         "name": "año 2015",
         "type": "scatter",
         "x": [
          1,
          2,
          3,
          4,
          5,
          6,
          7,
          8,
          9,
          10,
          11,
          12
         ],
         "y": [
          18.96969696969697,
          18.696969696969695,
          25.161290322580644,
          26.057142857142857,
          33.3,
          35.206896551724135,
          36.7,
          35.37931034482759,
          30,
          28.529411764705884,
          24.90909090909091,
          21.058823529411764
         ]
        },
        {
         "name": "año 2016",
         "type": "scatter",
         "x": [
          1,
          2,
          3,
          4,
          5,
          6,
          7,
          8,
          9,
          10,
          11,
          12
         ],
         "y": [
          21.114285714285714,
          20.583333333333332,
          23.03030303030303,
          23.72222222222222,
          28.17142857142857,
          33.21212121212121,
          36.5,
          35.88235294117647,
          36,
          28.363636363636363,
          23.56756756756757,
          19.62857142857143
         ]
        },
        {
         "name": "año 2017",
         "type": "scatter",
         "x": [
          1,
          2,
          3,
          4,
          5,
          6,
          7,
          8,
          9,
          10,
          11,
          12
         ],
         "y": [
          18.823529411764707,
          21.09090909090909,
          27.303030303030305,
          28.08823529411765,
          31.25,
          36.529411764705884,
          36.24242424242424,
          37.11764705882353,
          31.75,
          31.066666666666666,
          23.542857142857144,
          19.636363636363637
         ]
        },
        {
         "name": "año 2018",
         "type": "scatter",
         "x": [
          1,
          2,
          3,
          4,
          5,
          6,
          7,
          8,
          9,
          10,
          11,
          12
         ],
         "y": [
          20.323529411764707,
          19.515151515151516,
          22.257142857142856,
          26.38235294117647,
          25.914285714285715,
          31.9375,
          33.64705882352941,
          36.51428571428571,
          33.23529411764706,
          28.424242424242426,
          21.352941176470587,
          20.696969696969695
         ]
        },
        {
         "name": "año 2019",
         "type": "scatter",
         "x": [
          1,
          2,
          3,
          4,
          5,
          6,
          7,
          8,
          9,
          10,
          11,
          12
         ],
         "y": [
          18.142857142857142,
          23.558823529411764,
          24.342105263157894,
          25.216216216216218,
          29.72972972972973,
          35.51428571428571,
          35.39393939393939,
          35.371428571428574,
          31.939393939393938,
          29.257142857142856,
          23.676470588235293,
          20.647058823529413
         ]
        },
        {
         "name": "año 2020",
         "type": "scatter",
         "x": [
          1,
          2,
          3,
          4,
          5,
          6,
          7,
          8,
          9,
          10,
          11,
          12
         ],
         "y": [
          19.5,
          23.96153846153846,
          24.22222222222222,
          24.833333333333332,
          30.818181818181817,
          31.653846153846153,
          36.4,
          36.75,
          33.46666666666667,
          27.73076923076923,
          25,
          19.576923076923077
         ]
        },
        {
         "name": "año 2021",
         "type": "scatter",
         "x": [
          1,
          2,
          3,
          4,
          5,
          6,
          7,
          8,
          9,
          10,
          11,
          12
         ],
         "y": [
          21.307692307692307,
          21.53846153846154,
          24.956521739130434,
          24.6,
          29.72,
          32.4,
          35.5,
          36.62068965517241,
          32.80769230769231,
          27.852941176470587,
          21.214285714285715,
          21.857142857142858
         ]
        },
        {
         "name": "año 2022",
         "type": "scatter",
         "x": [
          1,
          2,
          3,
          4,
          5,
          6,
          7,
          8,
          9,
          10,
          11,
          12
         ],
         "y": [
          20.620689655172413,
          21.677419354838708,
          20.3,
          25.774193548387096,
          32.8125,
          35.903225806451616,
          39.07142857142857,
          37.2
         ]
        }
       ],
       "layout": {}
      },
      "text/html": [
       "<div class=\"chart\" id=\"plot-66002e5f-2520-4ba3-9f75-9eca755a8905\"></div>\n",
       "<script>require(['plotly'], function(Plotly) {\n",
       "  (function () {\n",
       "  var data0 = {\"x\":[1.0,2.0,3.0,4.0,5.0,6.0,7.0,8.0,9.0,10.0,11.0,12.0],\"name\":\"año 2015\",\"y\":[18.96969696969697,18.696969696969695,25.161290322580644,26.057142857142857,33.3,35.206896551724135,36.7,35.37931034482759,30.0,28.529411764705884,24.90909090909091,21.058823529411764],\"type\":\"scatter\"};\n",
       "  var data1 = {\"x\":[1.0,2.0,3.0,4.0,5.0,6.0,7.0,8.0,9.0,10.0,11.0,12.0],\"name\":\"año 2016\",\"y\":[21.114285714285714,20.583333333333332,23.03030303030303,23.72222222222222,28.17142857142857,33.21212121212121,36.5,35.88235294117647,36.0,28.363636363636363,23.56756756756757,19.62857142857143],\"type\":\"scatter\"};\n",
       "  var data2 = {\"x\":[1.0,2.0,3.0,4.0,5.0,6.0,7.0,8.0,9.0,10.0,11.0,12.0],\"name\":\"año 2017\",\"y\":[18.823529411764707,21.09090909090909,27.303030303030305,28.08823529411765,31.25,36.529411764705884,36.24242424242424,37.11764705882353,31.75,31.066666666666666,23.542857142857144,19.636363636363637],\"type\":\"scatter\"};\n",
       "  var data3 = {\"x\":[1.0,2.0,3.0,4.0,5.0,6.0,7.0,8.0,9.0,10.0,11.0,12.0],\"name\":\"año 2018\",\"y\":[20.323529411764707,19.515151515151516,22.257142857142856,26.38235294117647,25.914285714285715,31.9375,33.64705882352941,36.51428571428571,33.23529411764706,28.424242424242426,21.352941176470587,20.696969696969695],\"type\":\"scatter\"};\n",
       "  var data4 = {\"x\":[1.0,2.0,3.0,4.0,5.0,6.0,7.0,8.0,9.0,10.0,11.0,12.0],\"name\":\"año 2019\",\"y\":[18.142857142857142,23.558823529411764,24.342105263157894,25.216216216216218,29.72972972972973,35.51428571428571,35.39393939393939,35.371428571428574,31.939393939393938,29.257142857142856,23.676470588235293,20.647058823529413],\"type\":\"scatter\"};\n",
       "  var data5 = {\"x\":[1.0,2.0,3.0,4.0,5.0,6.0,7.0,8.0,9.0,10.0,11.0,12.0],\"name\":\"año 2020\",\"y\":[19.5,23.96153846153846,24.22222222222222,24.833333333333332,30.818181818181817,31.653846153846153,36.4,36.75,33.46666666666667,27.73076923076923,25.0,19.576923076923077],\"type\":\"scatter\"};\n",
       "  var data6 = {\"x\":[1.0,2.0,3.0,4.0,5.0,6.0,7.0,8.0,9.0,10.0,11.0,12.0],\"name\":\"año 2021\",\"y\":[21.307692307692307,21.53846153846154,24.956521739130434,24.6,29.72,32.4,35.5,36.62068965517241,32.80769230769231,27.852941176470587,21.214285714285715,21.857142857142858],\"type\":\"scatter\"};\n",
       "  var data7 = {\"x\":[1.0,2.0,3.0,4.0,5.0,6.0,7.0,8.0,9.0,10.0,11.0,12.0],\"name\":\"año 2022\",\"y\":[20.620689655172413,21.677419354838708,20.3,25.774193548387096,32.8125,35.903225806451616,39.07142857142857,37.2],\"type\":\"scatter\"};\n",
       "\n",
       "  var data = [data0, data1, data2, data3, data4, data5, data6, data7];\n",
       "  var layout = {};\n",
       "\n",
       "  Plotly.plot('plot-66002e5f-2520-4ba3-9f75-9eca755a8905', data, layout);\n",
       "})();\n",
       "});\n",
       "      </script>\n",
       "           "
      ]
     },
     "metadata": {},
     "output_type": "display_data"
    },
    {
     "data": {
      "text/plain": [
       "\u001b[36myear2015\u001b[39m: \u001b[32mScatter\u001b[39m = \u001b[33mScatter\u001b[39m(\n",
       "  \u001b[33mSome\u001b[39m(\n",
       "...\r\n",
       "\u001b[36myear2016\u001b[39m: \u001b[32mScatter\u001b[39m = \u001b[33mScatter\u001b[39m(\n",
       "  \u001b[33mSome\u001b[39m(\n",
       "...\r\n",
       "\u001b[36myear2017\u001b[39m: \u001b[32mScatter\u001b[39m = \u001b[33mScatter\u001b[39m(\n",
       "  \u001b[33mSome\u001b[39m(\n",
       "...\r\n",
       "\u001b[36myear2018\u001b[39m: \u001b[32mScatter\u001b[39m = \u001b[33mScatter\u001b[39m(\n",
       "  \u001b[33mSome\u001b[39m(\n",
       "...\r\n",
       "\u001b[36myear2019\u001b[39m: \u001b[32mScatter\u001b[39m = \u001b[33mScatter\u001b[39m(\n",
       "  \u001b[33mSome\u001b[39m(\n",
       "...\r\n",
       "\u001b[36myear2020\u001b[39m: \u001b[32mScatter\u001b[39m = \u001b[33mScatter\u001b[39m(\n",
       "  \u001b[33mSome\u001b[39m(\n",
       "...\r\n",
       "\u001b[36myear2021\u001b[39m: \u001b[32mScatter\u001b[39m = \u001b[33mScatter\u001b[39m(\n",
       "  \u001b[33mSome\u001b[39m(\n",
       "...\r\n",
       "\u001b[36myear2022\u001b[39m: \u001b[32mScatter\u001b[39m = \u001b[33mScatter\u001b[39m(\n",
       "  \u001b[33mSome\u001b[39m(\n",
       "...\r\n",
       "\u001b[36mdataToPlot\u001b[39m: \u001b[32mSeq\u001b[39m[\u001b[32mScatter\u001b[39m] = \u001b[33mList\u001b[39m(\n",
       "  \u001b[33mScatter\u001b[39m(\n",
       "...\r\n",
       "\u001b[36mres4_9\u001b[39m: \u001b[32mString\u001b[39m = \u001b[32m\"plot-66002e5f-2520-4ba3-9f75-9eca755a8905\"\u001b[39m"
      ]
     },
     "execution_count": 5,
     "metadata": {},
     "output_type": "execute_result"
    }
   ],
   "source": [
    "/*val year2010= Scatter(\n",
    "  months,\n",
    "  data2010,\n",
    "  name = \"año 2010\"\n",
    ")\n",
    "\n",
    "val year2011 = Scatter(\n",
    "  months,\n",
    "  data2011,\n",
    "  name = \"año 2011\"\n",
    ")\n",
    "\n",
    "val year2012 = Scatter(\n",
    "  months,\n",
    "  data2012,\n",
    "  name = \"año 2012\"\n",
    ")\n",
    "\n",
    "val year2013 = Scatter(\n",
    "  months,\n",
    "  data2013,\n",
    "  name = \"año 2013\"\n",
    ")\n",
    "\n",
    "val year2014 = Scatter(\n",
    "  months,\n",
    "  data2014,\n",
    "  name = \"año 2014\"\n",
    ")\n",
    "*/\n",
    "val year2015 = Scatter(\n",
    "  months,\n",
    "  data2015,\n",
    "  name = \"año 2015\"\n",
    ")\n",
    "\n",
    "val year2016 = Scatter(\n",
    "  months,\n",
    "  data2016,\n",
    "  name = \"año 2016\"\n",
    ")\n",
    "\n",
    "val year2017 = Scatter(\n",
    "  months,\n",
    "  data2017,\n",
    "  name = \"año 2017\"\n",
    ")\n",
    "\n",
    "val year2018 = Scatter(\n",
    "  months,\n",
    "  data2018,\n",
    "  name = \"año 2018\"\n",
    ")\n",
    "\n",
    "val year2019 = Scatter(\n",
    "  months,\n",
    "  data2019,\n",
    "  name = \"año 2019\"\n",
    ")\n",
    "\n",
    "val year2020 = Scatter(\n",
    "  months,\n",
    "  data2020,\n",
    "  name = \"año 2020\"\n",
    ")\n",
    "\n",
    "val year2021 = Scatter(\n",
    "  months,\n",
    "  data2021,\n",
    "  name = \"año 2021\"\n",
    ")\n",
    "\n",
    "val year2022 = Scatter(\n",
    "  months,\n",
    "  data2022,\n",
    "  name = \"año 2022\"\n",
    ")\n",
    "\n",
    "\n",
    "\n",
    "val dataToPlot = Seq(year2015, year2016, year2017, year2018, year2019, year2020, year2021, year2022)\n",
    "\n",
    "plot(dataToPlot)"
   ]
  },
  {
   "cell_type": "code",
   "execution_count": null,
   "id": "81ea9a7c",
   "metadata": {},
   "outputs": [],
   "source": [
    "import org.apache.spark.sql.expressions.Window\n",
    "\n",
    "val window = Window.partitionBy(\"mes\").orderBy($\"ta_max\".desc)\n",
    "\n",
    "val dataWindow = data\n",
    "    .select(func.month($\"fecha\").alias(\"mes\"), func.year($\"fecha\").alias(\"año\"), $\"ta_max\")\n",
    "    .withColumn(\"dense_rank\", func.dense_rank().over(window))\n",
    "    .withColumn(\"perc_rank\", func.percent_rank().over(window))"
   ]
  },
  {
   "cell_type": "code",
   "execution_count": null,
   "id": "a0a3a235",
   "metadata": {},
   "outputs": [],
   "source": [
    "val year2015 = dataWindow\n",
    "    .withColumn(\"dense_rank\", func.dense_rank().over(window))\n",
    "    .filter($\"año\" === 2015 && $\"dense_rank\" === 1).count()\n",
    "\n",
    "val year2016 = dataWindow\n",
    "    .withColumn(\"dense_rank\", func.dense_rank().over(window))\n",
    "    .filter($\"año\" === 2016 && $\"dense_rank\" === 1).count()\n",
    "\n",
    "val year2017 = dataWindow\n",
    "    .withColumn(\"dense_rank\", func.dense_rank().over(window))\n",
    "    .filter($\"año\" === 2017 && $\"dense_rank\" === 1).count()\n",
    "\n",
    "val year2018 = dataWindow\n",
    "    .withColumn(\"dense_rank\", func.dense_rank().over(window))\n",
    "    .filter($\"año\" === 2018 && $\"dense_rank\" === 1).count()\n",
    "\n",
    "val year2019 = dataWindow\n",
    "    .withColumn(\"dense_rank\", func.dense_rank().over(window))\n",
    "    .filter($\"año\" === 2019 && $\"dense_rank\" === 1).count()\n",
    "\n",
    "val year2020 = dataWindow\n",
    "    .withColumn(\"dense_rank\", func.dense_rank().over(window))\n",
    "    .filter($\"año\" === 2020 && $\"dense_rank\" === 1).count()\n",
    "\n",
    "val year2021 = dataWindow\n",
    "    .withColumn(\"dense_rank\", func.dense_rank().over(window))\n",
    "    .filter($\"año\" === 2021 && $\"dense_rank\" === 1).count()\n",
    "\n",
    "val year2022 = dataWindow\n",
    "    .withColumn(\"dense_rank\", func.dense_rank().over(window))\n",
    "    .filter($\"año\" === 2022 && $\"dense_rank\" === 1).count()"
   ]
  },
  {
   "cell_type": "code",
   "execution_count": null,
   "id": "dd967857",
   "metadata": {},
   "outputs": [],
   "source": [
    "dataWindow\n",
    "    .filter($\"dense_rank\" === 1)\n",
    "    .withColumn(\"temperatura maxima\", func.round($\"ta_max\", 2))\n",
    "    .orderBy($\"mes\".asc)\n",
    "    .select($\"mes\", $\"año\", $\"temperatura maxima\")\n",
    "    .show()\n",
    "\n",
    "val dataToPlot = Seq(\n",
    "  Bar(\n",
    "    Seq(\"2015\", \"2016\", \"2017\", \"2018\", \"2019\", \"2020\", \"2021\", \"2022\"),\n",
    "    Seq(year2015, year2016, year2017, year2018, year2019, year2020, year2021, year2022),\n",
    "    marker = Marker(\n",
    "        color = Color.RGB(255, 174, 0),\n",
    "        opacity = 0.6,\n",
    "        line = Line(\n",
    "            color = Color.RGB(189, 129, 0),\n",
    "              width = 1.5\n",
    "        )\n",
    "    )\n",
    "  )\n",
    ")\n",
    "\n",
    "plot(dataToPlot)"
   ]
  },
  {
   "cell_type": "markdown",
   "id": "444cf0fe",
   "metadata": {},
   "source": [
    "### Años/meses con olas de calor (30º durante >= 3 dias)"
   ]
  },
  {
   "cell_type": "code",
   "execution_count": null,
   "id": "15d4c810",
   "metadata": {},
   "outputs": [],
   "source": [
    "import $ivy.`org.plotly-scala::plotly-almond:0.7.0`\n",
    "import plotly._, plotly.element._, plotly.layout._, plotly.Almond._\n",
    "\n",
    "// restrict the output height to avoid scrolling in output cells\n",
    "repl.pprinter() = repl.pprinter().copy(defaultHeight = 3)"
   ]
  },
  {
   "cell_type": "code",
   "execution_count": null,
   "id": "bfc3c712",
   "metadata": {},
   "outputs": [],
   "source": [
    "val data = spark.read.parquet(\"D:/TFGAlvaroSanchez/dataParquet/*\").na.drop()"
   ]
  },
  {
   "cell_type": "code",
   "execution_count": null,
   "id": "0849f5cb",
   "metadata": {},
   "outputs": [],
   "source": [
    "val groupData = data\n",
    "    .filter($\"nt_30\" >= 3)\n",
    "    .withColumn(\"año\", func.year($\"fecha\"))\n",
    "    .withColumn(\"ta_max\", func.split($\"ta_max\", \"\\\\(\")(0).cast(IntegerType))\n",
    "    .groupBy($\"año\")\n",
    "    .agg(func.avg($\"nt_30\").alias(\"nt_30\"), func.avg($\"ta_max\").alias(\"ta_max\"))\n",
    "    .select($\"año\", func.round($\"nt_30\", 2) as \"dias al mes con >=30º\", func.round($\"ta_max\", 2) as \"temperatura media max\")\n",
    "    .orderBy($\"año\")\n",
    "\n",
    "groupData.show()"
   ]
  },
  {
   "cell_type": "code",
   "execution_count": null,
   "id": "96579a90",
   "metadata": {},
   "outputs": [],
   "source": [
    "val SeqYears = groupData.map(row => row.getInt(0)).collect().toSeq\n",
    "val SeqDays = groupData.map(row => row.getDouble(1)).collect().toSeq\n",
    "val SeqTemperature = groupData.map(row => row.getDouble(2).toInt).collect().toSeq"
   ]
  },
  {
   "cell_type": "code",
   "execution_count": null,
   "id": "60e77a72",
   "metadata": {},
   "outputs": [],
   "source": [
    "val dataToPlot = Scatter(\n",
    "    SeqYears,\n",
    "    SeqDays,\n",
    "    mode = ScatterMode(ScatterMode.Markers),\n",
    "    marker = Marker(\n",
    "        color = Seq(Color.RGB(251, 212, 68), Color.RGB(255, 223, 106), Color.RGB(251, 212, 68), Color.RGB(255, 223, 106),\n",
    "                    Color.RGB(251, 212, 68), Color.RGB(251, 212, 68), Color.RGB(220, 170, 1), Color.RGB(251, 212, 68), \n",
    "                    Color.RGB(251, 212, 68), Color.RGB(220, 170, 1), Color.RGB(251, 212, 68), Color.RGB(220, 170, 1),\n",
    "                    Color.RGB(220, 143, 1)),\n",
    "        size = SeqTemperature\n",
    "    )\n",
    ")\n",
    "\n",
    "val aux = Seq(dataToPlot)\n",
    "plot(aux)"
   ]
  },
  {
   "cell_type": "markdown",
   "id": "54964ddc",
   "metadata": {},
   "source": [
    "### Temperatura media por año y su relacion con las lluvias por año"
   ]
  },
  {
   "cell_type": "code",
   "execution_count": null,
   "id": "62154f2f",
   "metadata": {},
   "outputs": [],
   "source": [
    "import $ivy.`org.plotly-scala::plotly-almond:0.7.0`\n",
    "import plotly._, plotly.element._, plotly.layout._, plotly.Almond._\n",
    "\n",
    "// restrict the output height to avoid scrolling in output cells\n",
    "repl.pprinter() = repl.pprinter().copy(defaultHeight = 3)"
   ]
  },
  {
   "cell_type": "code",
   "execution_count": null,
   "id": "0ff5687d",
   "metadata": {},
   "outputs": [],
   "source": [
    "val data = spark.read.parquet(\"D:/TFGAlvaroSanchez/dataParquet/*\").na.drop()"
   ]
  },
  {
   "cell_type": "code",
   "execution_count": null,
   "id": "a5db09d4",
   "metadata": {},
   "outputs": [],
   "source": [
    "val groupData = data\n",
    "    .withColumn(\"año\", func.year($\"fecha\"))\n",
    "    .groupBy($\"año\")\n",
    "    .agg(func.avg($\"tm_mes\").alias(\"tm_mes\"), func.avg($\"p_mes\").alias(\"p_mes\"))\n",
    "    .orderBy($\"año\")"
   ]
  },
  {
   "cell_type": "code",
   "execution_count": null,
   "id": "0566a939",
   "metadata": {},
   "outputs": [],
   "source": [
    "groupData.first().fieldIndex(\"año\")\n",
    "groupData.first().fieldIndex(\"tm_mes\")\n",
    "groupData.first().fieldIndex(\"p_mes\")"
   ]
  },
  {
   "cell_type": "code",
   "execution_count": null,
   "id": "673acd92",
   "metadata": {},
   "outputs": [],
   "source": [
    "val SeqYears = groupData.map(row => row.getInt(0)).collect().toSeq\n",
    "val SeqTemperature = groupData.map(row => row.getDouble(1)).collect().toSeq\n",
    "val SeqPrecipitation = groupData.map(row => row.getDouble(2)).collect().toSeq"
   ]
  },
  {
   "cell_type": "code",
   "execution_count": null,
   "id": "0ff9a4bd",
   "metadata": {},
   "outputs": [],
   "source": [
    "val dataTemperature = Scatter(\n",
    "    SeqYears,\n",
    "    SeqTemperature,\n",
    "    name = \"Temperatura media (ºC)\",\n",
    "    marker = Marker(\n",
    "        color = Color.RGB(247, 112, 0)\n",
    "    )\n",
    ")\n",
    "\n",
    "val dataPrecipitation = Scatter(\n",
    "    SeqYears,\n",
    "    SeqPrecipitation,\n",
    "    name = \"Precipitacion media (mm)\",\n",
    "    marker = Marker(\n",
    "        color = Color.RGB(0, 187, 247)\n",
    "    )\n",
    ")\n",
    "\n",
    "val layout1 = Layout(\n",
    "    title = \"Precipitacion y temperatura media anual\"\n",
    ")\n",
    "\n",
    "val layout2 = Layout(\n",
    "    title = \"Temperatura media anual\"\n",
    ")\n",
    "\n",
    "val dataToPlot = Seq(dataTemperature, dataPrecipitation)\n",
    "plot(dataToPlot, layout1)\n",
    "\n",
    "plot(Seq(dataTemperature), layout2)"
   ]
  },
  {
   "cell_type": "code",
   "execution_count": null,
   "id": "66882586",
   "metadata": {},
   "outputs": [],
   "source": []
  }
 ],
 "metadata": {
  "kernelspec": {
   "display_name": "Scala",
   "language": "scala",
   "name": "scala"
  },
  "language_info": {
   "codemirror_mode": "text/x-scala",
   "file_extension": ".scala",
   "mimetype": "text/x-scala",
   "name": "scala",
   "nbconvert_exporter": "script",
   "version": "2.12.8"
  }
 },
 "nbformat": 4,
 "nbformat_minor": 5
}
