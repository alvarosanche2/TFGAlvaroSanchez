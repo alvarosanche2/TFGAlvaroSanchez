{
 "cells": [
  {
   "cell_type": "markdown",
   "id": "91159a39",
   "metadata": {},
   "source": [
    "Para crear una sesion de Spark\n",
    "\n",
    "En intelIJ\n",
    "\n",
    "val spark = SparkSession.builder.master(\"local[*]\").getOrCreate()\n",
    "\n",
    "En build.sbt \n",
    "\n",
    "libraryDependencies += \"org.apache.spark\" %% \"spark-sql\" % \"3.3.0\"\n"
   ]
  },
  {
   "cell_type": "code",
   "execution_count": 10,
   "id": "e4e91751",
   "metadata": {},
   "outputs": [
    {
     "name": "stdout",
     "output_type": "stream",
     "text": [
      "22/07/05 16:28:37 INFO Server: jetty-9.4.15.v20190215; built: 2019-02-15T16:53:49.381Z; git: eb70b240169fcf1abbd86af36482d1c49826fa0b; jvm 11.0.15+8-LTS-149\n",
      "22/07/05 16:28:37 INFO AbstractConnector: Started ServerConnector@d22d9d2{HTTP/1.1,[http/1.1]}{192.168.56.1:61035}\n",
      "22/07/05 16:28:37 INFO Server: Started @1047853ms\n",
      "Creating SparkSession\n",
      "22/07/05 16:28:37 WARN SparkContext: Another SparkContext is being constructed (or threw an exception in its constructor). This may indicate an error, since only one SparkContext should be running in this JVM (see SPARK-2243). The other SparkContext was created at:\n",
      "org.apache.spark.sql.almondinternals.NotebookSparkSessionBuilder.getOrCreate(NotebookSparkSessionBuilder.scala:62)\n",
      "ammonite.$sess.cmd8$Helper.<init>(cmd8.sc:9)\n",
      "ammonite.$sess.cmd8$.<init>(cmd8.sc:7)\n",
      "ammonite.$sess.cmd8$.<clinit>(cmd8.sc)\n",
      "ammonite.$sess.cmd8.$main(cmd8.sc)\n",
      "java.base/jdk.internal.reflect.NativeMethodAccessorImpl.invoke0(Native Method)\n",
      "java.base/jdk.internal.reflect.NativeMethodAccessorImpl.invoke(NativeMethodAccessorImpl.java:62)\n",
      "java.base/jdk.internal.reflect.DelegatingMethodAccessorImpl.invoke(DelegatingMethodAccessorImpl.java:43)\n",
      "java.base/java.lang.reflect.Method.invoke(Method.java:566)\n",
      "ammonite.runtime.Evaluator$$anon$1.$anonfun$evalMain$1(Evaluator.scala:112)\n",
      "ammonite.util.Util$.withContextClassloader(Util.scala:16)\n",
      "ammonite.runtime.Evaluator$$anon$1.evalMain(Evaluator.scala:94)\n",
      "ammonite.runtime.Evaluator$$anon$1.$anonfun$processLine$2(Evaluator.scala:131)\n",
      "ammonite.util.Catching.map(Res.scala:116)\n",
      "ammonite.runtime.Evaluator$$anon$1.$anonfun$processLine$1(Evaluator.scala:125)\n",
      "ammonite.util.Res$Success.flatMap(Res.scala:61)\n",
      "ammonite.runtime.Evaluator$$anon$1.processLine(Evaluator.scala:124)\n",
      "ammonite.interp.Interpreter.$anonfun$evaluateLine$4(Interpreter.scala:287)\n",
      "ammonite.util.Res$Success.flatMap(Res.scala:61)\n",
      "ammonite.interp.Interpreter.$anonfun$evaluateLine$2(Interpreter.scala:273)\n",
      "22/07/05 16:28:37 INFO SparkContext: Running Spark version 3.3.0\n",
      "22/07/05 16:28:37 INFO ResourceUtils: ==============================================================\n",
      "22/07/05 16:28:37 INFO ResourceUtils: No custom resources configured for spark.driver.\n",
      "22/07/05 16:28:37 INFO ResourceUtils: ==============================================================\n",
      "22/07/05 16:28:37 INFO SparkContext: Submitted application: ba7347b1-c340-446a-8aee-f09d9979ce76\n",
      "22/07/05 16:28:37 INFO ResourceProfileManager: Added ResourceProfile id: 0\n",
      "22/07/05 16:28:38 INFO SecurityManager: Changing view acls to: Alvaro\n",
      "22/07/05 16:28:38 INFO SecurityManager: Changing modify acls to: Alvaro\n",
      "22/07/05 16:28:38 INFO SecurityManager: Changing view acls groups to: \n",
      "22/07/05 16:28:38 INFO SecurityManager: Changing modify acls groups to: \n",
      "22/07/05 16:28:38 INFO SecurityManager: SecurityManager: authentication disabled; ui acls disabled; users  with view permissions: Set(Alvaro); groups with view permissions: Set(); users  with modify permissions: Set(Alvaro); groups with modify permissions: Set()\n",
      "22/07/05 16:28:38 INFO Utils: Successfully started service 'sparkDriver' on port 61078.\n",
      "22/07/05 16:28:38 INFO SparkEnv: Registering MapOutputTracker\n",
      "22/07/05 16:28:38 INFO SparkEnv: Registering BlockManagerMaster\n",
      "22/07/05 16:28:38 INFO BlockManagerMasterEndpoint: Using org.apache.spark.storage.DefaultTopologyMapper for getting topology information\n",
      "22/07/05 16:28:38 INFO BlockManagerMasterEndpoint: BlockManagerMasterEndpoint up\n",
      "22/07/05 16:28:38 INFO SparkEnv: Registering BlockManagerMasterHeartbeat\n",
      "22/07/05 16:28:38 INFO DiskBlockManager: Created local directory at C:\\Users\\alvar\\AppData\\Local\\Temp\\blockmgr-5ac090c5-7e4f-4fad-adb0-72bc9f87b50d\n",
      "22/07/05 16:28:38 INFO MemoryStore: MemoryStore started with capacity 1646.4 MiB\n",
      "22/07/05 16:28:38 INFO SparkEnv: Registering OutputCommitCoordinator\n",
      "22/07/05 16:28:38 INFO Utils: Successfully started service 'SparkUI' on port 4047.\n",
      "22/07/05 16:28:38 INFO SparkContext: Added JAR file:/C:/Users/alvar/AppData/Local/Coursier/cache/v1/https/jitpack.io/com/github/jupyter/jvm-repr/0.4.0/jvm-repr-0.4.0.jar at spark://LAPTOP-30N4Q54J:61078/jars/jvm-repr-0.4.0.jar with timestamp 1657031317988\n",
      "22/07/05 16:28:38 INFO SparkContext: Added JAR file:/C:/Users/alvar/AppData/Local/Coursier/cache/v1/https/repo1.maven.org/maven2/com/github/javaparser/javaparser-core/3.2.5/javaparser-core-3.2.5.jar at spark://LAPTOP-30N4Q54J:61078/jars/javaparser-core-3.2.5.jar with timestamp 1657031317988\n",
      "22/07/05 16:28:38 INFO SparkContext: Added JAR file:/C:/Users/alvar/AppData/Local/Coursier/cache/v1/https/repo1.maven.org/maven2/com/github/scopt/scopt_2.12/3.5.0/scopt_2.12-3.5.0.jar at spark://LAPTOP-30N4Q54J:61078/jars/scopt_2.12-3.5.0.jar with timestamp 1657031317988\n",
      "22/07/05 16:28:38 INFO SparkContext: Added JAR file:/C:/Users/alvar/AppData/Local/Coursier/cache/v1/https/repo1.maven.org/maven2/com/lihaoyi/acyclic_2.12/0.1.5/acyclic_2.12-0.1.5.jar at spark://LAPTOP-30N4Q54J:61078/jars/acyclic_2.12-0.1.5.jar with timestamp 1657031317988\n",
      "22/07/05 16:28:38 INFO SparkContext: Added JAR file:/C:/Users/alvar/AppData/Local/Coursier/cache/v1/https/repo1.maven.org/maven2/com/lihaoyi/ammonite-interp_2.12.8/1.6.5/ammonite-interp_2.12.8-1.6.5.jar at spark://LAPTOP-30N4Q54J:61078/jars/ammonite-interp_2.12.8-1.6.5.jar with timestamp 1657031317988\n",
      "22/07/05 16:28:38 INFO SparkContext: Added JAR file:/C:/Users/alvar/AppData/Local/Coursier/cache/v1/https/repo1.maven.org/maven2/com/lihaoyi/ammonite-ops_2.12/1.6.5/ammonite-ops_2.12-1.6.5.jar at spark://LAPTOP-30N4Q54J:61078/jars/ammonite-ops_2.12-1.6.5.jar with timestamp 1657031317988\n",
      "22/07/05 16:28:38 INFO SparkContext: Added JAR file:/C:/Users/alvar/AppData/Local/Coursier/cache/v1/https/repo1.maven.org/maven2/com/lihaoyi/ammonite-repl_2.12.8/1.6.5/ammonite-repl_2.12.8-1.6.5.jar at spark://LAPTOP-30N4Q54J:61078/jars/ammonite-repl_2.12.8-1.6.5.jar with timestamp 1657031317988\n",
      "22/07/05 16:28:38 INFO SparkContext: Added JAR file:/C:/Users/alvar/AppData/Local/Coursier/cache/v1/https/repo1.maven.org/maven2/com/lihaoyi/ammonite-runtime_2.12/1.6.5/ammonite-runtime_2.12-1.6.5.jar at spark://LAPTOP-30N4Q54J:61078/jars/ammonite-runtime_2.12-1.6.5.jar with timestamp 1657031317988\n",
      "22/07/05 16:28:38 INFO SparkContext: Added JAR file:/C:/Users/alvar/AppData/Local/Coursier/cache/v1/https/repo1.maven.org/maven2/com/lihaoyi/ammonite-terminal_2.12/1.6.5/ammonite-terminal_2.12-1.6.5.jar at spark://LAPTOP-30N4Q54J:61078/jars/ammonite-terminal_2.12-1.6.5.jar with timestamp 1657031317988\n",
      "22/07/05 16:28:38 INFO SparkContext: Added JAR file:/C:/Users/alvar/AppData/Local/Coursier/cache/v1/https/repo1.maven.org/maven2/com/lihaoyi/ammonite-util_2.12/1.6.5/ammonite-util_2.12-1.6.5.jar at spark://LAPTOP-30N4Q54J:61078/jars/ammonite-util_2.12-1.6.5.jar with timestamp 1657031317988\n",
      "22/07/05 16:28:38 INFO SparkContext: Added JAR file:/C:/Users/alvar/AppData/Local/Coursier/cache/v1/https/repo1.maven.org/maven2/com/lihaoyi/fansi_2.12/0.2.4/fansi_2.12-0.2.4.jar at spark://LAPTOP-30N4Q54J:61078/jars/fansi_2.12-0.2.4.jar with timestamp 1657031317988\n",
      "22/07/05 16:28:38 INFO SparkContext: Added JAR file:/C:/Users/alvar/AppData/Local/Coursier/cache/v1/https/repo1.maven.org/maven2/com/lihaoyi/fastparse_2.12/2.1.0/fastparse_2.12-2.1.0.jar at spark://LAPTOP-30N4Q54J:61078/jars/fastparse_2.12-2.1.0.jar with timestamp 1657031317988\n",
      "22/07/05 16:28:38 INFO SparkContext: Added JAR file:/C:/Users/alvar/AppData/Local/Coursier/cache/v1/https/repo1.maven.org/maven2/com/lihaoyi/geny_2.12/0.1.5/geny_2.12-0.1.5.jar at spark://LAPTOP-30N4Q54J:61078/jars/geny_2.12-0.1.5.jar with timestamp 1657031317988\n",
      "22/07/05 16:28:38 INFO SparkContext: Added JAR file:/C:/Users/alvar/AppData/Local/Coursier/cache/v1/https/repo1.maven.org/maven2/com/lihaoyi/os-lib_2.12/0.2.6/os-lib_2.12-0.2.6.jar at spark://LAPTOP-30N4Q54J:61078/jars/os-lib_2.12-0.2.6.jar with timestamp 1657031317988\n",
      "22/07/05 16:28:38 INFO SparkContext: Added JAR file:/C:/Users/alvar/AppData/Local/Coursier/cache/v1/https/repo1.maven.org/maven2/com/lihaoyi/pprint_2.12/0.5.2/pprint_2.12-0.5.2.jar at spark://LAPTOP-30N4Q54J:61078/jars/pprint_2.12-0.5.2.jar with timestamp 1657031317988\n",
      "22/07/05 16:28:38 INFO SparkContext: Added JAR file:/C:/Users/alvar/AppData/Local/Coursier/cache/v1/https/repo1.maven.org/maven2/com/lihaoyi/requests_2.12/0.1.7/requests_2.12-0.1.7.jar at spark://LAPTOP-30N4Q54J:61078/jars/requests_2.12-0.1.7.jar with timestamp 1657031317988\n"
     ]
    },
    {
     "name": "stdout",
     "output_type": "stream",
     "text": [
      "22/07/05 16:28:38 INFO SparkContext: Added JAR file:/C:/Users/alvar/AppData/Local/Coursier/cache/v1/https/repo1.maven.org/maven2/com/lihaoyi/scalaparse_2.12/2.1.0/scalaparse_2.12-2.1.0.jar at spark://LAPTOP-30N4Q54J:61078/jars/scalaparse_2.12-2.1.0.jar with timestamp 1657031317988\n",
      "22/07/05 16:28:38 INFO SparkContext: Added JAR file:/C:/Users/alvar/AppData/Local/Coursier/cache/v1/https/repo1.maven.org/maven2/com/lihaoyi/sourcecode_2.12/0.1.5/sourcecode_2.12-0.1.5.jar at spark://LAPTOP-30N4Q54J:61078/jars/sourcecode_2.12-0.1.5.jar with timestamp 1657031317988\n",
      "22/07/05 16:28:38 INFO SparkContext: Added JAR file:/C:/Users/alvar/AppData/Local/Coursier/cache/v1/https/repo1.maven.org/maven2/com/lihaoyi/ujson_2.12/0.7.1/ujson_2.12-0.7.1.jar at spark://LAPTOP-30N4Q54J:61078/jars/ujson_2.12-0.7.1.jar with timestamp 1657031317988\n",
      "22/07/05 16:28:38 INFO SparkContext: Added JAR file:/C:/Users/alvar/AppData/Local/Coursier/cache/v1/https/repo1.maven.org/maven2/com/lihaoyi/upack_2.12/0.7.1/upack_2.12-0.7.1.jar at spark://LAPTOP-30N4Q54J:61078/jars/upack_2.12-0.7.1.jar with timestamp 1657031317988\n",
      "22/07/05 16:28:38 INFO SparkContext: Added JAR file:/C:/Users/alvar/AppData/Local/Coursier/cache/v1/https/repo1.maven.org/maven2/com/lihaoyi/upickle-core_2.12/0.7.1/upickle-core_2.12-0.7.1.jar at spark://LAPTOP-30N4Q54J:61078/jars/upickle-core_2.12-0.7.1.jar with timestamp 1657031317988\n",
      "22/07/05 16:28:38 INFO SparkContext: Added JAR file:/C:/Users/alvar/AppData/Local/Coursier/cache/v1/https/repo1.maven.org/maven2/com/lihaoyi/upickle-implicits_2.12/0.7.1/upickle-implicits_2.12-0.7.1.jar at spark://LAPTOP-30N4Q54J:61078/jars/upickle-implicits_2.12-0.7.1.jar with timestamp 1657031317988\n",
      "22/07/05 16:28:38 INFO SparkContext: Added JAR file:/C:/Users/alvar/AppData/Local/Coursier/cache/v1/https/repo1.maven.org/maven2/com/lihaoyi/upickle_2.12/0.7.1/upickle_2.12-0.7.1.jar at spark://LAPTOP-30N4Q54J:61078/jars/upickle_2.12-0.7.1.jar with timestamp 1657031317988\n",
      "22/07/05 16:28:38 INFO SparkContext: Added JAR file:/C:/Users/alvar/AppData/Local/Coursier/cache/v1/https/repo1.maven.org/maven2/com/lihaoyi/utest_2.12/0.6.4/utest_2.12-0.6.4.jar at spark://LAPTOP-30N4Q54J:61078/jars/utest_2.12-0.6.4.jar with timestamp 1657031317988\n",
      "22/07/05 16:28:38 INFO SparkContext: Added JAR file:/C:/Users/alvar/AppData/Local/Coursier/cache/v1/https/repo1.maven.org/maven2/io/get-coursier/coursier-cache_2.12/1.1.0-M13-1/coursier-cache_2.12-1.1.0-M13-1.jar at spark://LAPTOP-30N4Q54J:61078/jars/coursier-cache_2.12-1.1.0-M13-1.jar with timestamp 1657031317988\n",
      "22/07/05 16:28:38 INFO SparkContext: Added JAR file:/C:/Users/alvar/AppData/Local/Coursier/cache/v1/https/repo1.maven.org/maven2/io/get-coursier/coursier-core_2.12/1.1.0-M13-1/coursier-core_2.12-1.1.0-M13-1.jar at spark://LAPTOP-30N4Q54J:61078/jars/coursier-core_2.12-1.1.0-M13-1.jar with timestamp 1657031317988\n",
      "22/07/05 16:28:38 INFO SparkContext: Added JAR file:/C:/Users/alvar/AppData/Local/Coursier/cache/v1/https/repo1.maven.org/maven2/io/get-coursier/coursier_2.12/1.1.0-M13-1/coursier_2.12-1.1.0-M13-1.jar at spark://LAPTOP-30N4Q54J:61078/jars/coursier_2.12-1.1.0-M13-1.jar with timestamp 1657031317988\n",
      "22/07/05 16:28:38 INFO SparkContext: Added JAR file:/C:/Users/alvar/AppData/Local/Coursier/cache/v1/https/repo1.maven.org/maven2/net/java/dev/jna/jna/4.2.2/jna-4.2.2.jar at spark://LAPTOP-30N4Q54J:61078/jars/jna-4.2.2.jar with timestamp 1657031317988\n",
      "22/07/05 16:28:38 INFO SparkContext: Added JAR file:/C:/Users/alvar/AppData/Local/Coursier/cache/v1/https/repo1.maven.org/maven2/org/javassist/javassist/3.21.0-GA/javassist-3.21.0-GA.jar at spark://LAPTOP-30N4Q54J:61078/jars/javassist-3.21.0-GA.jar with timestamp 1657031317988\n",
      "22/07/05 16:28:38 INFO SparkContext: Added JAR file:/C:/Users/alvar/AppData/Local/Coursier/cache/v1/https/repo1.maven.org/maven2/org/jline/jline-reader/3.6.2/jline-reader-3.6.2.jar at spark://LAPTOP-30N4Q54J:61078/jars/jline-reader-3.6.2.jar with timestamp 1657031317988\n",
      "22/07/05 16:28:38 INFO SparkContext: Added JAR file:/C:/Users/alvar/AppData/Local/Coursier/cache/v1/https/repo1.maven.org/maven2/org/jline/jline-terminal-jna/3.6.2/jline-terminal-jna-3.6.2.jar at spark://LAPTOP-30N4Q54J:61078/jars/jline-terminal-jna-3.6.2.jar with timestamp 1657031317988\n",
      "22/07/05 16:28:38 INFO SparkContext: Added JAR file:/C:/Users/alvar/AppData/Local/Coursier/cache/v1/https/repo1.maven.org/maven2/org/jline/jline-terminal/3.6.2/jline-terminal-3.6.2.jar at spark://LAPTOP-30N4Q54J:61078/jars/jline-terminal-3.6.2.jar with timestamp 1657031317988\n",
      "22/07/05 16:28:38 INFO SparkContext: Added JAR file:/C:/Users/alvar/AppData/Local/Coursier/cache/v1/https/repo1.maven.org/maven2/org/scala-lang/modules/scala-xml_2.12/1.1.1/scala-xml_2.12-1.1.1.jar at spark://LAPTOP-30N4Q54J:61078/jars/scala-xml_2.12-1.1.1.jar with timestamp 1657031317988\n",
      "22/07/05 16:28:38 INFO SparkContext: Added JAR file:/C:/Users/alvar/AppData/Local/Coursier/cache/v1/https/repo1.maven.org/maven2/org/scala-sbt/test-interface/1.0/test-interface-1.0.jar at spark://LAPTOP-30N4Q54J:61078/jars/test-interface-1.0.jar with timestamp 1657031317988\n",
      "22/07/05 16:28:38 INFO SparkContext: Added JAR file:/C:/Users/alvar/AppData/Local/Coursier/cache/v1/https/repo1.maven.org/maven2/sh/almond/interpreter-api_2.12/0.4.0/interpreter-api_2.12-0.4.0.jar at spark://LAPTOP-30N4Q54J:61078/jars/interpreter-api_2.12-0.4.0.jar with timestamp 1657031317988\n",
      "22/07/05 16:28:38 INFO SparkContext: Added JAR file:/C:/Users/alvar/AppData/Local/Coursier/cache/v1/https/repo1.maven.org/maven2/sh/almond/jupyter-api_2.12/0.4.0/jupyter-api_2.12-0.4.0.jar at spark://LAPTOP-30N4Q54J:61078/jars/jupyter-api_2.12-0.4.0.jar with timestamp 1657031317988\n",
      "22/07/05 16:28:38 INFO SparkContext: Added JAR file:/C:/Users/alvar/AppData/Local/Coursier/cache/v1/https/repo1.maven.org/maven2/sh/almond/scala-kernel-api_2.12.8/0.4.0/scala-kernel-api_2.12.8-0.4.0.jar at spark://LAPTOP-30N4Q54J:61078/jars/scala-kernel-api_2.12.8-0.4.0.jar with timestamp 1657031317988\n",
      "22/07/05 16:28:38 INFO SparkContext: Added JAR file:/C:/Users/alvar/AppData/Local/Coursier/cache/v1/https/repo1.maven.org/maven2/net/sf/py4j/py4j/0.10.9.5/py4j-0.10.9.5.jar at spark://LAPTOP-30N4Q54J:61078/jars/py4j-0.10.9.5.jar with timestamp 1657031317988\n",
      "22/07/05 16:28:38 INFO SparkContext: Added JAR file:/C:/Users/alvar/AppData/Local/Coursier/cache/v1/https/repo1.maven.org/maven2/org/apache/spark/spark-catalyst_2.12/3.3.0/spark-catalyst_2.12-3.3.0.jar at spark://LAPTOP-30N4Q54J:61078/jars/spark-catalyst_2.12-3.3.0.jar with timestamp 1657031317988\n",
      "22/07/05 16:28:38 INFO SparkContext: Added JAR file:/C:/Users/alvar/AppData/Local/Coursier/cache/v1/https/repo1.maven.org/maven2/org/apache/spark/spark-sql_2.12/3.3.0/spark-sql_2.12-3.3.0.jar at spark://LAPTOP-30N4Q54J:61078/jars/spark-sql_2.12-3.3.0.jar with timestamp 1657031317988\n",
      "22/07/05 16:28:38 INFO SparkContext: Added JAR file:/C:/Users/alvar/AppData/Local/Coursier/cache/v1/https/repo1.maven.org/maven2/org/codehaus/janino/janino/3.0.16/janino-3.0.16.jar at spark://LAPTOP-30N4Q54J:61078/jars/janino-3.0.16.jar with timestamp 1657031317988\n",
      "22/07/05 16:28:38 INFO SparkContext: Added JAR file:/C:/Users/alvar/AppData/Local/Coursier/cache/v1/https/repo1.maven.org/maven2/org/apache/zookeeper/zookeeper/3.6.2/zookeeper-3.6.2.jar at spark://LAPTOP-30N4Q54J:61078/jars/zookeeper-3.6.2.jar with timestamp 1657031317988\n",
      "22/07/05 16:28:38 INFO SparkContext: Added JAR file:/C:/Users/alvar/AppData/Local/Coursier/cache/v1/https/repo1.maven.org/maven2/org/apache/parquet/parquet-hadoop/1.12.2/parquet-hadoop-1.12.2.jar at spark://LAPTOP-30N4Q54J:61078/jars/parquet-hadoop-1.12.2.jar with timestamp 1657031317988\n",
      "22/07/05 16:28:38 INFO SparkContext: Added JAR file:/C:/Users/alvar/AppData/Local/Coursier/cache/v1/https/repo1.maven.org/maven2/org/apache/arrow/arrow-memory-netty/7.0.0/arrow-memory-netty-7.0.0.jar at spark://LAPTOP-30N4Q54J:61078/jars/arrow-memory-netty-7.0.0.jar with timestamp 1657031317988\n",
      "22/07/05 16:28:38 INFO SparkContext: Added JAR file:/C:/Users/alvar/AppData/Local/Coursier/cache/v1/https/repo1.maven.org/maven2/io/netty/netty-transport-native-epoll/4.1.50.Final/netty-transport-native-epoll-4.1.50.Final.jar at spark://LAPTOP-30N4Q54J:61078/jars/netty-transport-native-epoll-4.1.50.Final.jar with timestamp 1657031317988\n"
     ]
    },
    {
     "name": "stdout",
     "output_type": "stream",
     "text": [
      "22/07/05 16:28:38 INFO SparkContext: Added JAR file:/C:/Users/alvar/AppData/Local/Coursier/cache/v1/https/repo1.maven.org/maven2/org/apache/parquet/parquet-encoding/1.12.2/parquet-encoding-1.12.2.jar at spark://LAPTOP-30N4Q54J:61078/jars/parquet-encoding-1.12.2.jar with timestamp 1657031317988\n",
      "22/07/05 16:28:38 INFO SparkContext: Added JAR file:/C:/Users/alvar/AppData/Local/Coursier/cache/v1/https/repo1.maven.org/maven2/io/dropwizard/metrics/metrics-graphite/4.2.7/metrics-graphite-4.2.7.jar at spark://LAPTOP-30N4Q54J:61078/jars/metrics-graphite-4.2.7.jar with timestamp 1657031317988\n",
      "22/07/05 16:28:38 INFO SparkContext: Added JAR file:/C:/Users/alvar/AppData/Local/Coursier/cache/v1/https/repo1.maven.org/maven2/org/json4s/json4s-jackson_2.12/3.7.0-M11/json4s-jackson_2.12-3.7.0-M11.jar at spark://LAPTOP-30N4Q54J:61078/jars/json4s-jackson_2.12-3.7.0-M11.jar with timestamp 1657031317988\n",
      "22/07/05 16:28:38 INFO SparkContext: Added JAR file:/C:/Users/alvar/AppData/Local/Coursier/cache/v1/https/repo1.maven.org/maven2/org/glassfish/jersey/containers/jersey-container-servlet-core/2.34/jersey-container-servlet-core-2.34.jar at spark://LAPTOP-30N4Q54J:61078/jars/jersey-container-servlet-core-2.34.jar with timestamp 1657031317988\n",
      "22/07/05 16:28:38 INFO SparkContext: Added JAR file:/C:/Users/alvar/AppData/Local/Coursier/cache/v1/https/repo1.maven.org/maven2/org/javassist/javassist/3.25.0-GA/javassist-3.25.0-GA.jar at spark://LAPTOP-30N4Q54J:61078/jars/javassist-3.25.0-GA.jar with timestamp 1657031317988\n",
      "22/07/05 16:28:38 INFO SparkContext: Added JAR file:/C:/Users/alvar/AppData/Local/Coursier/cache/v1/https/repo1.maven.org/maven2/javax/annotation/javax.annotation-api/1.3.2/javax.annotation-api-1.3.2.jar at spark://LAPTOP-30N4Q54J:61078/jars/javax.annotation-api-1.3.2.jar with timestamp 1657031317988\n",
      "22/07/05 16:28:38 INFO SparkContext: Added JAR file:/C:/Users/alvar/AppData/Local/Coursier/cache/v1/https/repo1.maven.org/maven2/com/fasterxml/jackson/module/jackson-module-scala_2.12/2.13.3/jackson-module-scala_2.12-2.13.3.jar at spark://LAPTOP-30N4Q54J:61078/jars/jackson-module-scala_2.12-2.13.3.jar with timestamp 1657031317988\n",
      "22/07/05 16:28:38 INFO SparkContext: Added JAR file:/C:/Users/alvar/AppData/Local/Coursier/cache/v1/https/repo1.maven.org/maven2/io/netty/netty-codec/4.1.74.Final/netty-codec-4.1.74.Final.jar at spark://LAPTOP-30N4Q54J:61078/jars/netty-codec-4.1.74.Final.jar with timestamp 1657031317988\n",
      "22/07/05 16:28:38 INFO SparkContext: Added JAR file:/C:/Users/alvar/AppData/Local/Coursier/cache/v1/https/repo1.maven.org/maven2/org/glassfish/jersey/core/jersey-server/2.34/jersey-server-2.34.jar at spark://LAPTOP-30N4Q54J:61078/jars/jersey-server-2.34.jar with timestamp 1657031317988\n",
      "22/07/05 16:28:38 INFO SparkContext: Added JAR file:/C:/Users/alvar/AppData/Local/Coursier/cache/v1/https/repo1.maven.org/maven2/org/apache/hadoop/hadoop-client-api/3.3.2/hadoop-client-api-3.3.2.jar at spark://LAPTOP-30N4Q54J:61078/jars/hadoop-client-api-3.3.2.jar with timestamp 1657031317988\n",
      "22/07/05 16:28:38 INFO SparkContext: Added JAR file:/C:/Users/alvar/AppData/Local/Coursier/cache/v1/https/repo1.maven.org/maven2/org/apache/logging/log4j/log4j-1.2-api/2.17.2/log4j-1.2-api-2.17.2.jar at spark://LAPTOP-30N4Q54J:61078/jars/log4j-1.2-api-2.17.2.jar with timestamp 1657031317988\n",
      "22/07/05 16:28:38 INFO SparkContext: Added JAR file:/C:/Users/alvar/AppData/Local/Coursier/cache/v1/https/repo1.maven.org/maven2/commons-codec/commons-codec/1.15/commons-codec-1.15.jar at spark://LAPTOP-30N4Q54J:61078/jars/commons-codec-1.15.jar with timestamp 1657031317988\n",
      "22/07/05 16:28:38 INFO SparkContext: Added JAR file:/C:/Users/alvar/AppData/Local/Coursier/cache/v1/https/repo1.maven.org/maven2/org/apache/zookeeper/zookeeper-jute/3.6.2/zookeeper-jute-3.6.2.jar at spark://LAPTOP-30N4Q54J:61078/jars/zookeeper-jute-3.6.2.jar with timestamp 1657031317988\n",
      "22/07/05 16:28:38 INFO SparkContext: Added JAR file:/C:/Users/alvar/AppData/Local/Coursier/cache/v1/https/repo1.maven.org/maven2/org/apache/commons/commons-crypto/1.1.0/commons-crypto-1.1.0.jar at spark://LAPTOP-30N4Q54J:61078/jars/commons-crypto-1.1.0.jar with timestamp 1657031317988\n",
      "22/07/05 16:28:38 INFO SparkContext: Added JAR file:/C:/Users/alvar/AppData/Local/Coursier/cache/v1/https/repo1.maven.org/maven2/io/netty/netty-transport-classes-epoll/4.1.74.Final/netty-transport-classes-epoll-4.1.74.Final.jar at spark://LAPTOP-30N4Q54J:61078/jars/netty-transport-classes-epoll-4.1.74.Final.jar with timestamp 1657031317988\n",
      "22/07/05 16:28:38 INFO SparkContext: Added JAR file:/C:/Users/alvar/AppData/Local/Coursier/cache/v1/https/repo1.maven.org/maven2/org/apache/spark/spark-tags_2.12/3.3.0/spark-tags_2.12-3.3.0.jar at spark://LAPTOP-30N4Q54J:61078/jars/spark-tags_2.12-3.3.0.jar with timestamp 1657031317988\n",
      "22/07/05 16:28:38 INFO SparkContext: Added JAR file:/C:/Users/alvar/AppData/Local/Coursier/cache/v1/https/repo1.maven.org/maven2/io/netty/netty-resolver/4.1.74.Final/netty-resolver-4.1.74.Final.jar at spark://LAPTOP-30N4Q54J:61078/jars/netty-resolver-4.1.74.Final.jar with timestamp 1657031317988\n",
      "22/07/05 16:28:38 INFO SparkContext: Added JAR file:/C:/Users/alvar/AppData/Local/Coursier/cache/v1/https/repo1.maven.org/maven2/io/netty/netty-buffer/4.1.74.Final/netty-buffer-4.1.74.Final.jar at spark://LAPTOP-30N4Q54J:61078/jars/netty-buffer-4.1.74.Final.jar with timestamp 1657031317988\n",
      "22/07/05 16:28:38 INFO SparkContext: Added JAR file:/C:/Users/alvar/AppData/Local/Coursier/cache/v1/https/repo1.maven.org/maven2/com/fasterxml/jackson/core/jackson-annotations/2.13.3/jackson-annotations-2.13.3.jar at spark://LAPTOP-30N4Q54J:61078/jars/jackson-annotations-2.13.3.jar with timestamp 1657031317988\n",
      "22/07/05 16:28:38 INFO SparkContext: Added JAR file:/C:/Users/alvar/AppData/Local/Coursier/cache/v1/https/repo1.maven.org/maven2/org/jetbrains/annotations/17.0.0/annotations-17.0.0.jar at spark://LAPTOP-30N4Q54J:61078/jars/annotations-17.0.0.jar with timestamp 1657031317988\n",
      "22/07/05 16:28:38 INFO SparkContext: Added JAR file:/C:/Users/alvar/AppData/Local/Coursier/cache/v1/https/repo1.maven.org/maven2/jakarta/validation/jakarta.validation-api/2.0.2/jakarta.validation-api-2.0.2.jar at spark://LAPTOP-30N4Q54J:61078/jars/jakarta.validation-api-2.0.2.jar with timestamp 1657031317988\n",
      "22/07/05 16:28:38 INFO SparkContext: Added JAR file:/C:/Users/alvar/AppData/Local/Coursier/cache/v1/https/repo1.maven.org/maven2/org/apache/orc/orc-core/1.7.4/orc-core-1.7.4.jar at spark://LAPTOP-30N4Q54J:61078/jars/orc-core-1.7.4.jar with timestamp 1657031317988\n",
      "22/07/05 16:28:38 INFO SparkContext: Added JAR file:/C:/Users/alvar/AppData/Local/Coursier/cache/v1/https/repo1.maven.org/maven2/org/apache/yetus/audience-annotations/0.12.0/audience-annotations-0.12.0.jar at spark://LAPTOP-30N4Q54J:61078/jars/audience-annotations-0.12.0.jar with timestamp 1657031317988\n",
      "22/07/05 16:28:38 INFO SparkContext: Added JAR file:/C:/Users/alvar/AppData/Local/Coursier/cache/v1/https/repo1.maven.org/maven2/org/lz4/lz4-java/1.8.0/lz4-java-1.8.0.jar at spark://LAPTOP-30N4Q54J:61078/jars/lz4-java-1.8.0.jar with timestamp 1657031317988\n",
      "22/07/05 16:28:38 INFO SparkContext: Added JAR file:/C:/Users/alvar/AppData/Local/Coursier/cache/v1/https/repo1.maven.org/maven2/com/thoughtworks/paranamer/paranamer/2.8/paranamer-2.8.jar at spark://LAPTOP-30N4Q54J:61078/jars/paranamer-2.8.jar with timestamp 1657031317988\n",
      "22/07/05 16:28:38 INFO SparkContext: Added JAR file:/C:/Users/alvar/AppData/Local/Coursier/cache/v1/https/repo1.maven.org/maven2/com/clearspring/analytics/stream/2.9.6/stream-2.9.6.jar at spark://LAPTOP-30N4Q54J:61078/jars/stream-2.9.6.jar with timestamp 1657031317988\n",
      "22/07/05 16:28:38 INFO SparkContext: Added JAR file:/C:/Users/alvar/AppData/Local/Coursier/cache/v1/https/repo1.maven.org/maven2/org/apache/hive/hive-storage-api/2.7.2/hive-storage-api-2.7.2.jar at spark://LAPTOP-30N4Q54J:61078/jars/hive-storage-api-2.7.2.jar with timestamp 1657031317988\n",
      "22/07/05 16:28:38 INFO SparkContext: Added JAR file:/C:/Users/alvar/AppData/Local/Coursier/cache/v1/https/repo1.maven.org/maven2/org/apache/spark/spark-network-common_2.12/3.3.0/spark-network-common_2.12-3.3.0.jar at spark://LAPTOP-30N4Q54J:61078/jars/spark-network-common_2.12-3.3.0.jar with timestamp 1657031317988\n"
     ]
    },
    {
     "name": "stdout",
     "output_type": "stream",
     "text": [
      "22/07/05 16:28:38 INFO SparkContext: Added JAR file:/C:/Users/alvar/AppData/Local/Coursier/cache/v1/https/repo1.maven.org/maven2/org/apache/commons/commons-collections4/4.4/commons-collections4-4.4.jar at spark://LAPTOP-30N4Q54J:61078/jars/commons-collections4-4.4.jar with timestamp 1657031317988\n",
      "22/07/05 16:28:38 INFO SparkContext: Added JAR file:/C:/Users/alvar/AppData/Local/Coursier/cache/v1/https/repo1.maven.org/maven2/io/dropwizard/metrics/metrics-jmx/4.2.7/metrics-jmx-4.2.7.jar at spark://LAPTOP-30N4Q54J:61078/jars/metrics-jmx-4.2.7.jar with timestamp 1657031317988\n",
      "22/07/05 16:28:38 INFO SparkContext: Added JAR file:/C:/Users/alvar/AppData/Local/Coursier/cache/v1/https/repo1.maven.org/maven2/org/glassfish/jersey/containers/jersey-container-servlet/2.34/jersey-container-servlet-2.34.jar at spark://LAPTOP-30N4Q54J:61078/jars/jersey-container-servlet-2.34.jar with timestamp 1657031317988\n",
      "22/07/05 16:28:38 INFO SparkContext: Added JAR file:/C:/Users/alvar/AppData/Local/Coursier/cache/v1/https/repo1.maven.org/maven2/org/apache/commons/commons-lang3/3.12.0/commons-lang3-3.12.0.jar at spark://LAPTOP-30N4Q54J:61078/jars/commons-lang3-3.12.0.jar with timestamp 1657031317988\n",
      "22/07/05 16:28:38 INFO SparkContext: Added JAR file:/C:/Users/alvar/AppData/Local/Coursier/cache/v1/https/repo1.maven.org/maven2/net/razorvine/pickle/1.2/pickle-1.2.jar at spark://LAPTOP-30N4Q54J:61078/jars/pickle-1.2.jar with timestamp 1657031317988\n",
      "22/07/05 16:28:38 INFO SparkContext: Added JAR file:/C:/Users/alvar/AppData/Local/Coursier/cache/v1/https/repo1.maven.org/maven2/org/slf4j/jcl-over-slf4j/1.7.32/jcl-over-slf4j-1.7.32.jar at spark://LAPTOP-30N4Q54J:61078/jars/jcl-over-slf4j-1.7.32.jar with timestamp 1657031317988\n",
      "22/07/05 16:28:38 INFO SparkContext: Added JAR file:/C:/Users/alvar/AppData/Local/Coursier/cache/v1/https/repo1.maven.org/maven2/javax/activation/activation/1.1.1/activation-1.1.1.jar at spark://LAPTOP-30N4Q54J:61078/jars/activation-1.1.1.jar with timestamp 1657031317988\n",
      "22/07/05 16:28:38 INFO SparkContext: Added JAR file:/C:/Users/alvar/AppData/Local/Coursier/cache/v1/https/repo1.maven.org/maven2/org/glassfish/jersey/core/jersey-client/2.34/jersey-client-2.34.jar at spark://LAPTOP-30N4Q54J:61078/jars/jersey-client-2.34.jar with timestamp 1657031317988\n",
      "22/07/05 16:28:38 INFO SparkContext: Added JAR file:/C:/Users/alvar/AppData/Local/Coursier/cache/v1/https/repo1.maven.org/maven2/org/apache/parquet/parquet-common/1.12.2/parquet-common-1.12.2.jar at spark://LAPTOP-30N4Q54J:61078/jars/parquet-common-1.12.2.jar with timestamp 1657031317988\n",
      "22/07/05 16:28:38 INFO SparkContext: Added JAR file:/C:/Users/alvar/AppData/Local/Coursier/cache/v1/https/repo1.maven.org/maven2/org/json4s/json4s-scalap_2.12/3.7.0-M11/json4s-scalap_2.12-3.7.0-M11.jar at spark://LAPTOP-30N4Q54J:61078/jars/json4s-scalap_2.12-3.7.0-M11.jar with timestamp 1657031317988\n",
      "22/07/05 16:28:38 INFO SparkContext: Added JAR file:/C:/Users/alvar/AppData/Local/Coursier/cache/v1/https/repo1.maven.org/maven2/com/esotericsoftware/minlog/1.3.0/minlog-1.3.0.jar at spark://LAPTOP-30N4Q54J:61078/jars/minlog-1.3.0.jar with timestamp 1657031317988\n",
      "22/07/05 16:28:38 INFO SparkContext: Added JAR file:/C:/Users/alvar/AppData/Local/Coursier/cache/v1/https/repo1.maven.org/maven2/org/apache/spark/spark-kvstore_2.12/3.3.0/spark-kvstore_2.12-3.3.0.jar at spark://LAPTOP-30N4Q54J:61078/jars/spark-kvstore_2.12-3.3.0.jar with timestamp 1657031317988\n",
      "22/07/05 16:28:38 INFO SparkContext: Added JAR file:/C:/Users/alvar/AppData/Local/Coursier/cache/v1/https/repo1.maven.org/maven2/org/slf4j/jul-to-slf4j/1.7.32/jul-to-slf4j-1.7.32.jar at spark://LAPTOP-30N4Q54J:61078/jars/jul-to-slf4j-1.7.32.jar with timestamp 1657031317988\n",
      "22/07/05 16:28:38 INFO SparkContext: Added JAR file:/C:/Users/alvar/AppData/Local/Coursier/cache/v1/https/repo1.maven.org/maven2/org/scala-lang/modules/scala-parser-combinators_2.12/1.1.2/scala-parser-combinators_2.12-1.1.2.jar at spark://LAPTOP-30N4Q54J:61078/jars/scala-parser-combinators_2.12-1.1.2.jar with timestamp 1657031317988\n",
      "22/07/05 16:28:38 INFO SparkContext: Added JAR file:/C:/Users/alvar/AppData/Local/Coursier/cache/v1/https/repo1.maven.org/maven2/io/netty/netty-transport-native-unix-common/4.1.74.Final/netty-transport-native-unix-common-4.1.74.Final.jar at spark://LAPTOP-30N4Q54J:61078/jars/netty-transport-native-unix-common-4.1.74.Final.jar with timestamp 1657031317988\n",
      "22/07/05 16:28:38 INFO SparkContext: Added JAR file:/C:/Users/alvar/AppData/Local/Coursier/cache/v1/https/repo1.maven.org/maven2/org/apache/spark/spark-core_2.12/3.3.0/spark-core_2.12-3.3.0.jar at spark://LAPTOP-30N4Q54J:61078/jars/spark-core_2.12-3.3.0.jar with timestamp 1657031317988\n",
      "22/07/05 16:28:38 INFO SparkContext: Added JAR file:/C:/Users/alvar/AppData/Local/Coursier/cache/v1/https/repo1.maven.org/maven2/io/dropwizard/metrics/metrics-json/4.2.7/metrics-json-4.2.7.jar at spark://LAPTOP-30N4Q54J:61078/jars/metrics-json-4.2.7.jar with timestamp 1657031317988\n",
      "22/07/05 16:28:38 INFO SparkContext: Added JAR file:/C:/Users/alvar/AppData/Local/Coursier/cache/v1/https/repo1.maven.org/maven2/io/airlift/aircompressor/0.21/aircompressor-0.21.jar at spark://LAPTOP-30N4Q54J:61078/jars/aircompressor-0.21.jar with timestamp 1657031317988\n",
      "22/07/05 16:28:38 INFO SparkContext: Added JAR file:/C:/Users/alvar/AppData/Local/Coursier/cache/v1/https/repo1.maven.org/maven2/org/apache/spark/spark-launcher_2.12/3.3.0/spark-launcher_2.12-3.3.0.jar at spark://LAPTOP-30N4Q54J:61078/jars/spark-launcher_2.12-3.3.0.jar with timestamp 1657031317988\n",
      "22/07/05 16:28:38 INFO SparkContext: Added JAR file:/C:/Users/alvar/AppData/Local/Coursier/cache/v1/https/repo1.maven.org/maven2/org/apache/commons/commons-compress/1.21/commons-compress-1.21.jar at spark://LAPTOP-30N4Q54J:61078/jars/commons-compress-1.21.jar with timestamp 1657031317988\n",
      "22/07/05 16:28:38 INFO SparkContext: Added JAR file:/C:/Users/alvar/AppData/Local/Coursier/cache/v1/https/repo1.maven.org/maven2/org/apache/parquet/parquet-jackson/1.12.2/parquet-jackson-1.12.2.jar at spark://LAPTOP-30N4Q54J:61078/jars/parquet-jackson-1.12.2.jar with timestamp 1657031317988\n",
      "22/07/05 16:28:38 INFO SparkContext: Added JAR file:/C:/Users/alvar/AppData/Local/Coursier/cache/v1/https/repo1.maven.org/maven2/commons-lang/commons-lang/2.6/commons-lang-2.6.jar at spark://LAPTOP-30N4Q54J:61078/jars/commons-lang-2.6.jar with timestamp 1657031317988\n",
      "22/07/05 16:28:38 INFO SparkContext: Added JAR file:/C:/Users/alvar/AppData/Local/Coursier/cache/v1/https/repo1.maven.org/maven2/oro/oro/2.0.8/oro-2.0.8.jar at spark://LAPTOP-30N4Q54J:61078/jars/oro-2.0.8.jar with timestamp 1657031317988\n",
      "22/07/05 16:28:38 INFO SparkContext: Added JAR file:/C:/Users/alvar/AppData/Local/Coursier/cache/v1/https/repo1.maven.org/maven2/org/apache/spark/spark-network-shuffle_2.12/3.3.0/spark-network-shuffle_2.12-3.3.0.jar at spark://LAPTOP-30N4Q54J:61078/jars/spark-network-shuffle_2.12-3.3.0.jar with timestamp 1657031317988\n",
      "22/07/05 16:28:38 INFO SparkContext: Added JAR file:/C:/Users/alvar/AppData/Local/Coursier/cache/v1/https/repo1.maven.org/maven2/com/google/guava/guava/16.0.1/guava-16.0.1.jar at spark://LAPTOP-30N4Q54J:61078/jars/guava-16.0.1.jar with timestamp 1657031317988\n",
      "22/07/05 16:28:38 INFO SparkContext: Added JAR file:/C:/Users/alvar/AppData/Local/Coursier/cache/v1/https/repo1.maven.org/maven2/com/twitter/chill_2.12/0.10.0/chill_2.12-0.10.0.jar at spark://LAPTOP-30N4Q54J:61078/jars/chill_2.12-0.10.0.jar with timestamp 1657031317988\n",
      "22/07/05 16:28:38 INFO SparkContext: Added JAR file:/C:/Users/alvar/AppData/Local/Coursier/cache/v1/https/repo1.maven.org/maven2/com/fasterxml/jackson/core/jackson-databind/2.13.3/jackson-databind-2.13.3.jar at spark://LAPTOP-30N4Q54J:61078/jars/jackson-databind-2.13.3.jar with timestamp 1657031317988\n",
      "22/07/05 16:28:38 INFO SparkContext: Added JAR file:/C:/Users/alvar/AppData/Local/Coursier/cache/v1/https/repo1.maven.org/maven2/org/apache/orc/orc-mapreduce/1.7.4/orc-mapreduce-1.7.4.jar at spark://LAPTOP-30N4Q54J:61078/jars/orc-mapreduce-1.7.4.jar with timestamp 1657031317988\n",
      "22/07/05 16:28:38 INFO SparkContext: Added JAR file:/C:/Users/alvar/AppData/Local/Coursier/cache/v1/https/repo1.maven.org/maven2/org/fusesource/leveldbjni/leveldbjni-all/1.8/leveldbjni-all-1.8.jar at spark://LAPTOP-30N4Q54J:61078/jars/leveldbjni-all-1.8.jar with timestamp 1657031317988\n"
     ]
    },
    {
     "name": "stdout",
     "output_type": "stream",
     "text": [
      "22/07/05 16:28:38 INFO SparkContext: Added JAR file:/C:/Users/alvar/AppData/Local/Coursier/cache/v1/https/repo1.maven.org/maven2/org/apache/orc/orc-shims/1.7.4/orc-shims-1.7.4.jar at spark://LAPTOP-30N4Q54J:61078/jars/orc-shims-1.7.4.jar with timestamp 1657031317988\n",
      "22/07/05 16:28:38 INFO SparkContext: Added JAR file:/C:/Users/alvar/AppData/Local/Coursier/cache/v1/https/repo1.maven.org/maven2/com/twitter/chill-java/0.10.0/chill-java-0.10.0.jar at spark://LAPTOP-30N4Q54J:61078/jars/chill-java-0.10.0.jar with timestamp 1657031317988\n",
      "22/07/05 16:28:38 INFO SparkContext: Added JAR file:/C:/Users/alvar/AppData/Local/Coursier/cache/v1/https/repo1.maven.org/maven2/org/codehaus/janino/commons-compiler/3.0.16/commons-compiler-3.0.16.jar at spark://LAPTOP-30N4Q54J:61078/jars/commons-compiler-3.0.16.jar with timestamp 1657031317988\n",
      "22/07/05 16:28:38 INFO SparkContext: Added JAR file:/C:/Users/alvar/AppData/Local/Coursier/cache/v1/https/repo1.maven.org/maven2/io/netty/netty-handler/4.1.74.Final/netty-handler-4.1.74.Final.jar at spark://LAPTOP-30N4Q54J:61078/jars/netty-handler-4.1.74.Final.jar with timestamp 1657031317988\n",
      "22/07/05 16:28:38 INFO SparkContext: Added JAR file:/C:/Users/alvar/AppData/Local/Coursier/cache/v1/https/repo1.maven.org/maven2/io/netty/netty-tcnative-classes/2.0.48.Final/netty-tcnative-classes-2.0.48.Final.jar at spark://LAPTOP-30N4Q54J:61078/jars/netty-tcnative-classes-2.0.48.Final.jar with timestamp 1657031317988\n",
      "22/07/05 16:28:38 INFO SparkContext: Added JAR file:/C:/Users/alvar/AppData/Local/Coursier/cache/v1/https/repo1.maven.org/maven2/com/fasterxml/jackson/core/jackson-core/2.13.3/jackson-core-2.13.3.jar at spark://LAPTOP-30N4Q54J:61078/jars/jackson-core-2.13.3.jar with timestamp 1657031317988\n",
      "22/07/05 16:28:38 INFO SparkContext: Added JAR file:/C:/Users/alvar/AppData/Local/Coursier/cache/v1/https/repo1.maven.org/maven2/org/apache/logging/log4j/log4j-core/2.17.2/log4j-core-2.17.2.jar at spark://LAPTOP-30N4Q54J:61078/jars/log4j-core-2.17.2.jar with timestamp 1657031317988\n",
      "22/07/05 16:28:38 INFO SparkContext: Added JAR file:/C:/Users/alvar/AppData/Local/Coursier/cache/v1/https/repo1.maven.org/maven2/commons-io/commons-io/2.11.0/commons-io-2.11.0.jar at spark://LAPTOP-30N4Q54J:61078/jars/commons-io-2.11.0.jar with timestamp 1657031317988\n",
      "22/07/05 16:28:38 INFO SparkContext: Added JAR file:/C:/Users/alvar/AppData/Local/Coursier/cache/v1/https/repo1.maven.org/maven2/io/netty/netty-transport/4.1.74.Final/netty-transport-4.1.74.Final.jar at spark://LAPTOP-30N4Q54J:61078/jars/netty-transport-4.1.74.Final.jar with timestamp 1657031317988\n",
      "22/07/05 16:28:38 INFO SparkContext: Added JAR file:/C:/Users/alvar/AppData/Local/Coursier/cache/v1/https/repo1.maven.org/maven2/io/dropwizard/metrics/metrics-core/4.2.7/metrics-core-4.2.7.jar at spark://LAPTOP-30N4Q54J:61078/jars/metrics-core-4.2.7.jar with timestamp 1657031317988\n",
      "22/07/05 16:28:38 INFO SparkContext: Added JAR file:/C:/Users/alvar/AppData/Local/Coursier/cache/v1/https/repo1.maven.org/maven2/commons-collections/commons-collections/3.2.2/commons-collections-3.2.2.jar at spark://LAPTOP-30N4Q54J:61078/jars/commons-collections-3.2.2.jar with timestamp 1657031317988\n",
      "22/07/05 16:28:38 INFO SparkContext: Added JAR file:/C:/Users/alvar/AppData/Local/Coursier/cache/v1/https/repo1.maven.org/maven2/org/glassfish/hk2/hk2-api/2.6.1/hk2-api-2.6.1.jar at spark://LAPTOP-30N4Q54J:61078/jars/hk2-api-2.6.1.jar with timestamp 1657031317988\n",
      "22/07/05 16:28:38 INFO SparkContext: Added JAR file:/C:/Users/alvar/AppData/Local/Coursier/cache/v1/https/repo1.maven.org/maven2/io/netty/netty-transport-classes-kqueue/4.1.74.Final/netty-transport-classes-kqueue-4.1.74.Final.jar at spark://LAPTOP-30N4Q54J:61078/jars/netty-transport-classes-kqueue-4.1.74.Final.jar with timestamp 1657031317988\n",
      "22/07/05 16:28:38 INFO SparkContext: Added JAR file:/C:/Users/alvar/AppData/Local/Coursier/cache/v1/https/repo1.maven.org/maven2/org/apache/xbean/xbean-asm9-shaded/4.20/xbean-asm9-shaded-4.20.jar at spark://LAPTOP-30N4Q54J:61078/jars/xbean-asm9-shaded-4.20.jar with timestamp 1657031317988\n",
      "22/07/05 16:28:38 INFO SparkContext: Added JAR file:/C:/Users/alvar/AppData/Local/Coursier/cache/v1/https/repo1.maven.org/maven2/org/apache/arrow/arrow-format/7.0.0/arrow-format-7.0.0.jar at spark://LAPTOP-30N4Q54J:61078/jars/arrow-format-7.0.0.jar with timestamp 1657031317988\n",
      "22/07/05 16:28:38 INFO SparkContext: Added JAR file:/C:/Users/alvar/AppData/Local/Coursier/cache/v1/https/repo1.maven.org/maven2/org/apache/ivy/ivy/2.5.0/ivy-2.5.0.jar at spark://LAPTOP-30N4Q54J:61078/jars/ivy-2.5.0.jar with timestamp 1657031317988\n",
      "22/07/05 16:28:38 INFO SparkContext: Added JAR file:/C:/Users/alvar/AppData/Local/Coursier/cache/v1/https/repo1.maven.org/maven2/org/spark-project/spark/unused/1.0.0/unused-1.0.0.jar at spark://LAPTOP-30N4Q54J:61078/jars/unused-1.0.0.jar with timestamp 1657031317988\n",
      "22/07/05 16:28:38 INFO SparkContext: Added JAR file:/C:/Users/alvar/AppData/Local/Coursier/cache/v1/https/repo1.maven.org/maven2/org/apache/spark/spark-sketch_2.12/3.3.0/spark-sketch_2.12-3.3.0.jar at spark://LAPTOP-30N4Q54J:61078/jars/spark-sketch_2.12-3.3.0.jar with timestamp 1657031317988\n",
      "22/07/05 16:28:38 INFO SparkContext: Added JAR file:/C:/Users/alvar/AppData/Local/Coursier/cache/v1/https/repo1.maven.org/maven2/org/slf4j/slf4j-api/1.7.35/slf4j-api-1.7.35.jar at spark://LAPTOP-30N4Q54J:61078/jars/slf4j-api-1.7.35.jar with timestamp 1657031317988\n",
      "22/07/05 16:28:38 INFO SparkContext: Added JAR file:/C:/Users/alvar/AppData/Local/Coursier/cache/v1/https/repo1.maven.org/maven2/org/apache/spark/spark-unsafe_2.12/3.3.0/spark-unsafe_2.12-3.3.0.jar at spark://LAPTOP-30N4Q54J:61078/jars/spark-unsafe_2.12-3.3.0.jar with timestamp 1657031317988\n",
      "22/07/05 16:28:38 INFO SparkContext: Added JAR file:/C:/Users/alvar/AppData/Local/Coursier/cache/v1/https/repo1.maven.org/maven2/com/google/code/findbugs/jsr305/3.0.2/jsr305-3.0.2.jar at spark://LAPTOP-30N4Q54J:61078/jars/jsr305-3.0.2.jar with timestamp 1657031317988\n",
      "22/07/05 16:28:38 INFO SparkContext: Added JAR file:/C:/Users/alvar/AppData/Local/Coursier/cache/v1/https/repo1.maven.org/maven2/org/antlr/antlr4-runtime/4.8/antlr4-runtime-4.8.jar at spark://LAPTOP-30N4Q54J:61078/jars/antlr4-runtime-4.8.jar with timestamp 1657031317988\n",
      "22/07/05 16:28:38 INFO SparkContext: Added JAR file:/C:/Users/alvar/AppData/Local/Coursier/cache/v1/https/repo1.maven.org/maven2/org/apache/curator/curator-client/2.13.0/curator-client-2.13.0.jar at spark://LAPTOP-30N4Q54J:61078/jars/curator-client-2.13.0.jar with timestamp 1657031317988\n",
      "22/07/05 16:28:38 INFO SparkContext: Added JAR file:/C:/Users/alvar/AppData/Local/Coursier/cache/v1/https/repo1.maven.org/maven2/org/apache/arrow/arrow-vector/7.0.0/arrow-vector-7.0.0.jar at spark://LAPTOP-30N4Q54J:61078/jars/arrow-vector-7.0.0.jar with timestamp 1657031317988\n",
      "22/07/05 16:28:38 INFO SparkContext: Added JAR file:/C:/Users/alvar/AppData/Local/Coursier/cache/v1/https/repo1.maven.org/maven2/jakarta/ws/rs/jakarta.ws.rs-api/2.1.6/jakarta.ws.rs-api-2.1.6.jar at spark://LAPTOP-30N4Q54J:61078/jars/jakarta.ws.rs-api-2.1.6.jar with timestamp 1657031317988\n",
      "22/07/05 16:28:38 INFO SparkContext: Added JAR file:/C:/Users/alvar/AppData/Local/Coursier/cache/v1/https/repo1.maven.org/maven2/com/google/flatbuffers/flatbuffers-java/1.12.0/flatbuffers-java-1.12.0.jar at spark://LAPTOP-30N4Q54J:61078/jars/flatbuffers-java-1.12.0.jar with timestamp 1657031317988\n",
      "22/07/05 16:28:38 INFO SparkContext: Added JAR file:/C:/Users/alvar/AppData/Local/Coursier/cache/v1/https/repo1.maven.org/maven2/org/glassfish/hk2/hk2-utils/2.6.1/hk2-utils-2.6.1.jar at spark://LAPTOP-30N4Q54J:61078/jars/hk2-utils-2.6.1.jar with timestamp 1657031317988\n",
      "22/07/05 16:28:38 INFO SparkContext: Added JAR file:/C:/Users/alvar/AppData/Local/Coursier/cache/v1/https/repo1.maven.org/maven2/org/glassfish/hk2/hk2-locator/2.6.1/hk2-locator-2.6.1.jar at spark://LAPTOP-30N4Q54J:61078/jars/hk2-locator-2.6.1.jar with timestamp 1657031317988\n",
      "22/07/05 16:28:38 INFO SparkContext: Added JAR file:/C:/Users/alvar/AppData/Local/Coursier/cache/v1/https/repo1.maven.org/maven2/org/glassfish/hk2/osgi-resource-locator/1.0.3/osgi-resource-locator-1.0.3.jar at spark://LAPTOP-30N4Q54J:61078/jars/osgi-resource-locator-1.0.3.jar with timestamp 1657031317988\n"
     ]
    },
    {
     "name": "stdout",
     "output_type": "stream",
     "text": [
      "22/07/05 16:28:38 INFO SparkContext: Added JAR file:/C:/Users/alvar/AppData/Local/Coursier/cache/v1/https/repo1.maven.org/maven2/com/esotericsoftware/kryo-shaded/4.0.2/kryo-shaded-4.0.2.jar at spark://LAPTOP-30N4Q54J:61078/jars/kryo-shaded-4.0.2.jar with timestamp 1657031317988\n",
      "22/07/05 16:28:38 INFO SparkContext: Added JAR file:/C:/Users/alvar/AppData/Local/Coursier/cache/v1/https/repo1.maven.org/maven2/com/google/protobuf/protobuf-java/3.14.0/protobuf-java-3.14.0.jar at spark://LAPTOP-30N4Q54J:61078/jars/protobuf-java-3.14.0.jar with timestamp 1657031317988\n",
      "22/07/05 16:28:38 INFO SparkContext: Added JAR file:/C:/Users/alvar/AppData/Local/Coursier/cache/v1/https/repo1.maven.org/maven2/org/threeten/threeten-extra/1.5.0/threeten-extra-1.5.0.jar at spark://LAPTOP-30N4Q54J:61078/jars/threeten-extra-1.5.0.jar with timestamp 1657031317988\n",
      "22/07/05 16:28:38 INFO SparkContext: Added JAR file:/C:/Users/alvar/AppData/Local/Coursier/cache/v1/https/repo1.maven.org/maven2/org/objenesis/objenesis/2.5.1/objenesis-2.5.1.jar at spark://LAPTOP-30N4Q54J:61078/jars/objenesis-2.5.1.jar with timestamp 1657031317988\n",
      "22/07/05 16:28:38 INFO SparkContext: Added JAR file:/C:/Users/alvar/AppData/Local/Coursier/cache/v1/https/repo1.maven.org/maven2/org/apache/parquet/parquet-column/1.12.2/parquet-column-1.12.2.jar at spark://LAPTOP-30N4Q54J:61078/jars/parquet-column-1.12.2.jar with timestamp 1657031317988\n",
      "22/07/05 16:28:38 INFO SparkContext: Added JAR file:/C:/Users/alvar/AppData/Local/Coursier/cache/v1/https/repo1.maven.org/maven2/io/dropwizard/metrics/metrics-jvm/4.2.7/metrics-jvm-4.2.7.jar at spark://LAPTOP-30N4Q54J:61078/jars/metrics-jvm-4.2.7.jar with timestamp 1657031317988\n",
      "22/07/05 16:28:38 INFO SparkContext: Added JAR file:/C:/Users/alvar/AppData/Local/Coursier/cache/v1/https/repo1.maven.org/maven2/org/apache/avro/avro-ipc/1.11.0/avro-ipc-1.11.0.jar at spark://LAPTOP-30N4Q54J:61078/jars/avro-ipc-1.11.0.jar with timestamp 1657031317988\n",
      "22/07/05 16:28:38 INFO SparkContext: Added JAR file:/C:/Users/alvar/AppData/Local/Coursier/cache/v1/https/repo1.maven.org/maven2/org/apache/curator/curator-framework/2.13.0/curator-framework-2.13.0.jar at spark://LAPTOP-30N4Q54J:61078/jars/curator-framework-2.13.0.jar with timestamp 1657031317988\n",
      "22/07/05 16:28:38 INFO SparkContext: Added JAR file:/C:/Users/alvar/AppData/Local/Coursier/cache/v1/https/repo1.maven.org/maven2/org/apache/hadoop/hadoop-client-runtime/3.3.2/hadoop-client-runtime-3.3.2.jar at spark://LAPTOP-30N4Q54J:61078/jars/hadoop-client-runtime-3.3.2.jar with timestamp 1657031317988\n",
      "22/07/05 16:28:38 INFO SparkContext: Added JAR file:/C:/Users/alvar/AppData/Local/Coursier/cache/v1/https/repo1.maven.org/maven2/jakarta/servlet/jakarta.servlet-api/4.0.3/jakarta.servlet-api-4.0.3.jar at spark://LAPTOP-30N4Q54J:61078/jars/jakarta.servlet-api-4.0.3.jar with timestamp 1657031317988\n",
      "22/07/05 16:28:38 INFO SparkContext: Added JAR file:/C:/Users/alvar/AppData/Local/Coursier/cache/v1/https/repo1.maven.org/maven2/com/univocity/univocity-parsers/2.9.1/univocity-parsers-2.9.1.jar at spark://LAPTOP-30N4Q54J:61078/jars/univocity-parsers-2.9.1.jar with timestamp 1657031317988\n",
      "22/07/05 16:28:38 INFO SparkContext: Added JAR file:/C:/Users/alvar/AppData/Local/Coursier/cache/v1/https/repo1.maven.org/maven2/org/apache/avro/avro/1.11.0/avro-1.11.0.jar at spark://LAPTOP-30N4Q54J:61078/jars/avro-1.11.0.jar with timestamp 1657031317988\n",
      "22/07/05 16:28:38 INFO SparkContext: Added JAR file:/C:/Users/alvar/AppData/Local/Coursier/cache/v1/https/repo1.maven.org/maven2/org/apache/parquet/parquet-format-structures/1.12.2/parquet-format-structures-1.12.2.jar at spark://LAPTOP-30N4Q54J:61078/jars/parquet-format-structures-1.12.2.jar with timestamp 1657031317988\n",
      "22/07/05 16:28:38 INFO SparkContext: Added JAR file:/C:/Users/alvar/AppData/Local/Coursier/cache/v1/https/repo1.maven.org/maven2/org/apache/logging/log4j/log4j-api/2.17.2/log4j-api-2.17.2.jar at spark://LAPTOP-30N4Q54J:61078/jars/log4j-api-2.17.2.jar with timestamp 1657031317988\n",
      "22/07/05 16:28:38 INFO SparkContext: Added JAR file:/C:/Users/alvar/AppData/Local/Coursier/cache/v1/https/repo1.maven.org/maven2/org/glassfish/hk2/external/jakarta.inject/2.6.1/jakarta.inject-2.6.1.jar at spark://LAPTOP-30N4Q54J:61078/jars/jakarta.inject-2.6.1.jar with timestamp 1657031317988\n",
      "22/07/05 16:28:38 INFO SparkContext: Added JAR file:/C:/Users/alvar/AppData/Local/Coursier/cache/v1/https/repo1.maven.org/maven2/io/netty/netty-common/4.1.74.Final/netty-common-4.1.74.Final.jar at spark://LAPTOP-30N4Q54J:61078/jars/netty-common-4.1.74.Final.jar with timestamp 1657031317988\n",
      "22/07/05 16:28:38 INFO SparkContext: Added JAR file:/C:/Users/alvar/AppData/Local/Coursier/cache/v1/https/repo1.maven.org/maven2/org/tukaani/xz/1.9/xz-1.9.jar at spark://LAPTOP-30N4Q54J:61078/jars/xz-1.9.jar with timestamp 1657031317988\n",
      "22/07/05 16:28:38 INFO SparkContext: Added JAR file:/C:/Users/alvar/AppData/Local/Coursier/cache/v1/https/repo1.maven.org/maven2/com/ning/compress-lzf/1.1/compress-lzf-1.1.jar at spark://LAPTOP-30N4Q54J:61078/jars/compress-lzf-1.1.jar with timestamp 1657031317988\n",
      "22/07/05 16:28:38 INFO SparkContext: Added JAR file:/C:/Users/alvar/AppData/Local/Coursier/cache/v1/https/repo1.maven.org/maven2/org/apache/commons/commons-math3/3.6.1/commons-math3-3.6.1.jar at spark://LAPTOP-30N4Q54J:61078/jars/commons-math3-3.6.1.jar with timestamp 1657031317988\n",
      "22/07/05 16:28:38 INFO SparkContext: Added JAR file:/C:/Users/alvar/AppData/Local/Coursier/cache/v1/https/repo1.maven.org/maven2/org/xerial/snappy/snappy-java/1.1.8.4/snappy-java-1.1.8.4.jar at spark://LAPTOP-30N4Q54J:61078/jars/snappy-java-1.1.8.4.jar with timestamp 1657031317988\n",
      "22/07/05 16:28:38 INFO SparkContext: Added JAR file:/C:/Users/alvar/AppData/Local/Coursier/cache/v1/https/repo1.maven.org/maven2/org/scala-lang/modules/scala-xml_2.12/1.2.0/scala-xml_2.12-1.2.0.jar at spark://LAPTOP-30N4Q54J:61078/jars/scala-xml_2.12-1.2.0.jar with timestamp 1657031317988\n",
      "22/07/05 16:28:38 INFO SparkContext: Added JAR file:/C:/Users/alvar/AppData/Local/Coursier/cache/v1/https/repo1.maven.org/maven2/org/apache/logging/log4j/log4j-slf4j-impl/2.17.2/log4j-slf4j-impl-2.17.2.jar at spark://LAPTOP-30N4Q54J:61078/jars/log4j-slf4j-impl-2.17.2.jar with timestamp 1657031317988\n",
      "22/07/05 16:28:38 INFO SparkContext: Added JAR file:/C:/Users/alvar/AppData/Local/Coursier/cache/v1/https/repo1.maven.org/maven2/org/json4s/json4s-ast_2.12/3.7.0-M11/json4s-ast_2.12-3.7.0-M11.jar at spark://LAPTOP-30N4Q54J:61078/jars/json4s-ast_2.12-3.7.0-M11.jar with timestamp 1657031317988\n",
      "22/07/05 16:28:38 INFO SparkContext: Added JAR file:/C:/Users/alvar/AppData/Local/Coursier/cache/v1/https/repo1.maven.org/maven2/org/roaringbitmap/RoaringBitmap/0.9.25/RoaringBitmap-0.9.25.jar at spark://LAPTOP-30N4Q54J:61078/jars/RoaringBitmap-0.9.25.jar with timestamp 1657031317988\n",
      "22/07/05 16:28:38 INFO SparkContext: Added JAR file:/C:/Users/alvar/AppData/Local/Coursier/cache/v1/https/repo1.maven.org/maven2/org/rocksdb/rocksdbjni/6.20.3/rocksdbjni-6.20.3.jar at spark://LAPTOP-30N4Q54J:61078/jars/rocksdbjni-6.20.3.jar with timestamp 1657031317988\n",
      "22/07/05 16:28:38 INFO SparkContext: Added JAR file:/C:/Users/alvar/AppData/Local/Coursier/cache/v1/https/repo1.maven.org/maven2/io/netty/netty-all/4.1.74.Final/netty-all-4.1.74.Final.jar at spark://LAPTOP-30N4Q54J:61078/jars/netty-all-4.1.74.Final.jar with timestamp 1657031317988\n",
      "22/07/05 16:28:38 INFO SparkContext: Added JAR file:/C:/Users/alvar/AppData/Local/Coursier/cache/v1/https/repo1.maven.org/maven2/org/glassfish/jersey/inject/jersey-hk2/2.34/jersey-hk2-2.34.jar at spark://LAPTOP-30N4Q54J:61078/jars/jersey-hk2-2.34.jar with timestamp 1657031317988\n",
      "22/07/05 16:28:38 INFO SparkContext: Added JAR file:/C:/Users/alvar/AppData/Local/Coursier/cache/v1/https/repo1.maven.org/maven2/org/apache/commons/commons-text/1.9/commons-text-1.9.jar at spark://LAPTOP-30N4Q54J:61078/jars/commons-text-1.9.jar with timestamp 1657031317988\n",
      "22/07/05 16:28:38 INFO SparkContext: Added JAR file:/C:/Users/alvar/AppData/Local/Coursier/cache/v1/https/repo1.maven.org/maven2/org/glassfish/hk2/external/aopalliance-repackaged/2.6.1/aopalliance-repackaged-2.6.1.jar at spark://LAPTOP-30N4Q54J:61078/jars/aopalliance-repackaged-2.6.1.jar with timestamp 1657031317988\n"
     ]
    },
    {
     "name": "stdout",
     "output_type": "stream",
     "text": [
      "22/07/05 16:28:38 INFO SparkContext: Added JAR file:/C:/Users/alvar/AppData/Local/Coursier/cache/v1/https/repo1.maven.org/maven2/com/google/code/gson/gson/2.8.6/gson-2.8.6.jar at spark://LAPTOP-30N4Q54J:61078/jars/gson-2.8.6.jar with timestamp 1657031317988\n",
      "22/07/05 16:28:38 INFO SparkContext: Added JAR file:/C:/Users/alvar/AppData/Local/Coursier/cache/v1/https/repo1.maven.org/maven2/org/glassfish/jersey/core/jersey-common/2.34/jersey-common-2.34.jar at spark://LAPTOP-30N4Q54J:61078/jars/jersey-common-2.34.jar with timestamp 1657031317988\n",
      "22/07/05 16:28:38 INFO SparkContext: Added JAR file:/C:/Users/alvar/AppData/Local/Coursier/cache/v1/https/repo1.maven.org/maven2/com/github/luben/zstd-jni/1.5.2-1/zstd-jni-1.5.2-1.jar at spark://LAPTOP-30N4Q54J:61078/jars/zstd-jni-1.5.2-1.jar with timestamp 1657031317988\n",
      "22/07/05 16:28:38 INFO SparkContext: Added JAR file:/C:/Users/alvar/AppData/Local/Coursier/cache/v1/https/repo1.maven.org/maven2/org/apache/curator/curator-recipes/2.13.0/curator-recipes-2.13.0.jar at spark://LAPTOP-30N4Q54J:61078/jars/curator-recipes-2.13.0.jar with timestamp 1657031317988\n",
      "22/07/05 16:28:38 INFO SparkContext: Added JAR file:/C:/Users/alvar/AppData/Local/Coursier/cache/v1/https/repo1.maven.org/maven2/com/google/crypto/tink/tink/1.6.1/tink-1.6.1.jar at spark://LAPTOP-30N4Q54J:61078/jars/tink-1.6.1.jar with timestamp 1657031317988\n",
      "22/07/05 16:28:38 INFO SparkContext: Added JAR file:/C:/Users/alvar/AppData/Local/Coursier/cache/v1/https/repo1.maven.org/maven2/org/json4s/json4s-core_2.12/3.7.0-M11/json4s-core_2.12-3.7.0-M11.jar at spark://LAPTOP-30N4Q54J:61078/jars/json4s-core_2.12-3.7.0-M11.jar with timestamp 1657031317988\n",
      "22/07/05 16:28:38 INFO SparkContext: Added JAR file:/C:/Users/alvar/AppData/Local/Coursier/cache/v1/https/repo1.maven.org/maven2/org/apache/avro/avro-mapred/1.11.0/avro-mapred-1.11.0.jar at spark://LAPTOP-30N4Q54J:61078/jars/avro-mapred-1.11.0.jar with timestamp 1657031317988\n",
      "22/07/05 16:28:38 INFO SparkContext: Added JAR file:/C:/Users/alvar/AppData/Local/Coursier/cache/v1/https/repo1.maven.org/maven2/org/apache/arrow/arrow-memory-core/7.0.0/arrow-memory-core-7.0.0.jar at spark://LAPTOP-30N4Q54J:61078/jars/arrow-memory-core-7.0.0.jar with timestamp 1657031317988\n",
      "22/07/05 16:28:38 INFO SparkContext: Added JAR file:/C:/Users/alvar/AppData/Local/Coursier/cache/v1/https/repo1.maven.org/maven2/jakarta/annotation/jakarta.annotation-api/1.3.5/jakarta.annotation-api-1.3.5.jar at spark://LAPTOP-30N4Q54J:61078/jars/jakarta.annotation-api-1.3.5.jar with timestamp 1657031317988\n",
      "22/07/05 16:28:38 INFO SparkContext: Added JAR file:/C:/Users/alvar/AppData/Local/Coursier/cache/v1/https/repo1.maven.org/maven2/sh/almond/almond-spark_2.12/0.4.0/almond-spark_2.12-0.4.0.jar at spark://LAPTOP-30N4Q54J:61078/jars/almond-spark_2.12-0.4.0.jar with timestamp 1657031317988\n",
      "22/07/05 16:28:38 INFO SparkContext: Added JAR file:/C:/Users/alvar/AppData/Local/Coursier/cache/v1/https/repo1.maven.org/maven2/javax/servlet/javax.servlet-api/3.1.0/javax.servlet-api-3.1.0.jar at spark://LAPTOP-30N4Q54J:61078/jars/javax.servlet-api-3.1.0.jar with timestamp 1657031317988\n",
      "22/07/05 16:28:38 INFO SparkContext: Added JAR file:/C:/Users/alvar/AppData/Local/Coursier/cache/v1/https/repo1.maven.org/maven2/io/argonaut/argonaut_2.12/6.2.3/argonaut_2.12-6.2.3.jar at spark://LAPTOP-30N4Q54J:61078/jars/argonaut_2.12-6.2.3.jar with timestamp 1657031317988\n",
      "22/07/05 16:28:38 INFO SparkContext: Added JAR file:/C:/Users/alvar/AppData/Local/Coursier/cache/v1/https/repo1.maven.org/maven2/org/eclipse/jetty/jetty-server/9.4.15.v20190215/jetty-server-9.4.15.v20190215.jar at spark://LAPTOP-30N4Q54J:61078/jars/jetty-server-9.4.15.v20190215.jar with timestamp 1657031317988\n",
      "22/07/05 16:28:38 INFO SparkContext: Added JAR file:/C:/Users/alvar/AppData/Local/Coursier/cache/v1/https/repo1.maven.org/maven2/sh/almond/ammonite-spark_2.12/0.4.0/ammonite-spark_2.12-0.4.0.jar at spark://LAPTOP-30N4Q54J:61078/jars/ammonite-spark_2.12-0.4.0.jar with timestamp 1657031317988\n",
      "22/07/05 16:28:38 INFO SparkContext: Added JAR file:/C:/Users/alvar/AppData/Local/Coursier/cache/v1/https/repo1.maven.org/maven2/com/github/alexarchambault/argonaut-shapeless_6.2_2.12/1.2.0-M10/argonaut-shapeless_6.2_2.12-1.2.0-M10.jar at spark://LAPTOP-30N4Q54J:61078/jars/argonaut-shapeless_6.2_2.12-1.2.0-M10.jar with timestamp 1657031317988\n",
      "22/07/05 16:28:38 INFO SparkContext: Added JAR file:/C:/Users/alvar/AppData/Local/Coursier/cache/v1/https/repo1.maven.org/maven2/org/eclipse/jetty/jetty-io/9.4.15.v20190215/jetty-io-9.4.15.v20190215.jar at spark://LAPTOP-30N4Q54J:61078/jars/jetty-io-9.4.15.v20190215.jar with timestamp 1657031317988\n",
      "22/07/05 16:28:38 INFO SparkContext: Added JAR file:/C:/Users/alvar/AppData/Local/Coursier/cache/v1/https/repo1.maven.org/maven2/org/typelevel/macro-compat_2.12/1.1.1/macro-compat_2.12-1.1.1.jar at spark://LAPTOP-30N4Q54J:61078/jars/macro-compat_2.12-1.1.1.jar with timestamp 1657031317988\n",
      "22/07/05 16:28:38 INFO SparkContext: Added JAR file:/C:/Users/alvar/AppData/Local/Coursier/cache/v1/https/repo1.maven.org/maven2/org/eclipse/jetty/jetty-http/9.4.15.v20190215/jetty-http-9.4.15.v20190215.jar at spark://LAPTOP-30N4Q54J:61078/jars/jetty-http-9.4.15.v20190215.jar with timestamp 1657031317988\n",
      "22/07/05 16:28:38 INFO SparkContext: Added JAR file:/C:/Users/alvar/AppData/Local/Coursier/cache/v1/https/repo1.maven.org/maven2/org/eclipse/jetty/jetty-util/9.4.15.v20190215/jetty-util-9.4.15.v20190215.jar at spark://LAPTOP-30N4Q54J:61078/jars/jetty-util-9.4.15.v20190215.jar with timestamp 1657031317988\n",
      "22/07/05 16:28:38 INFO SparkContext: Added JAR file:/C:/Users/alvar/AppData/Local/Coursier/cache/v1/https/repo1.maven.org/maven2/com/chuusai/shapeless_2.12/2.3.3/shapeless_2.12-2.3.3.jar at spark://LAPTOP-30N4Q54J:61078/jars/shapeless_2.12-2.3.3.jar with timestamp 1657031317988\n",
      "22/07/05 16:28:38 INFO SparkContext: Added JAR file:/C:/Users/alvar/AppData/Local/Coursier/cache/v1/https/repo1.maven.org/maven2/sh/almond/spark-stubs_24_2.12/0.4.0/spark-stubs_24_2.12-0.4.0.jar at spark://LAPTOP-30N4Q54J:61078/jars/spark-stubs_24_2.12-0.4.0.jar with timestamp 1657031317988\n",
      "22/07/05 16:28:38 INFO Executor: Starting executor ID driver on host LAPTOP-30N4Q54J\n",
      "22/07/05 16:28:38 INFO Executor: Starting executor with user classpath (userClassPathFirst = false): ''\n",
      "22/07/05 16:28:38 INFO Executor: Using REPL class URI: http://192.168.56.1:61035\n"
     ]
    },
    {
     "ename": "",
     "evalue": "",
     "output_type": "error",
     "traceback": [
      "\u001b[31mjava.lang.NoClassDefFoundError: org/apache/xbean/asm6/ClassVisitor\u001b[39m\r\n  java.lang.Class.forName0(\u001b[32mNative Method\u001b[39m)\r\n  java.lang.Class.forName(\u001b[32mClass.java\u001b[39m:\u001b[32m398\u001b[39m)\r\n  org.apache.spark.util.Utils$.classForName(\u001b[32mUtils.scala\u001b[39m:\u001b[32m218\u001b[39m)\r\n  org.apache.spark.executor.Executor.addReplClassLoaderIfNeeded(\u001b[32mExecutor.scala\u001b[39m:\u001b[32m953\u001b[39m)\r\n  org.apache.spark.executor.Executor.<init>(\u001b[32mExecutor.scala\u001b[39m:\u001b[32m160\u001b[39m)\r\n  org.apache.spark.scheduler.local.LocalEndpoint.<init>(\u001b[32mLocalSchedulerBackend.scala\u001b[39m:\u001b[32m64\u001b[39m)\r\n  org.apache.spark.scheduler.local.LocalSchedulerBackend.start(\u001b[32mLocalSchedulerBackend.scala\u001b[39m:\u001b[32m132\u001b[39m)\r\n  org.apache.spark.scheduler.TaskSchedulerImpl.start(\u001b[32mTaskSchedulerImpl.scala\u001b[39m:\u001b[32m222\u001b[39m)\r\n  org.apache.spark.SparkContext.<init>(\u001b[32mSparkContext.scala\u001b[39m:\u001b[32m585\u001b[39m)\r\n  org.apache.spark.SparkContext$.getOrCreate(\u001b[32mSparkContext.scala\u001b[39m:\u001b[32m2704\u001b[39m)\r\n  org.apache.spark.sql.SparkSession$Builder.$anonfun$getOrCreate$2(\u001b[32mSparkSession.scala\u001b[39m:\u001b[32m953\u001b[39m)\r\n  scala.Option.getOrElse(\u001b[32mOption.scala\u001b[39m:\u001b[32m138\u001b[39m)\r\n  org.apache.spark.sql.SparkSession$Builder.getOrCreate(\u001b[32mSparkSession.scala\u001b[39m:\u001b[32m947\u001b[39m)\r\n  org.apache.spark.sql.ammonitesparkinternals.AmmoniteSparkSessionBuilder.getOrCreate(\u001b[32mAmmoniteSparkSessionBuilder.scala\u001b[39m:\u001b[32m318\u001b[39m)\r\n  org.apache.spark.sql.almondinternals.NotebookSparkSessionBuilder.getOrCreate(\u001b[32mNotebookSparkSessionBuilder.scala\u001b[39m:\u001b[32m62\u001b[39m)\r\n  ammonite.$sess.cmd9$Helper.<init>(\u001b[32mcmd9.sc\u001b[39m:\u001b[32m9\u001b[39m)\r\n  ammonite.$sess.cmd9$.<init>(\u001b[32mcmd9.sc\u001b[39m:\u001b[32m7\u001b[39m)\r\n  ammonite.$sess.cmd9$.<clinit>(\u001b[32mcmd9.sc\u001b[39m:\u001b[32m-1\u001b[39m)\r\n\u001b[31mjava.lang.ClassNotFoundException: org.apache.xbean.asm6.ClassVisitor\u001b[39m\r\n  java.net.URLClassLoader.findClass(\u001b[32mURLClassLoader.java\u001b[39m:\u001b[32m476\u001b[39m)\r\n  ammonite.runtime.SpecialClassLoader.findClass(\u001b[32mClassLoaders.scala\u001b[39m:\u001b[32m241\u001b[39m)\r\n  java.lang.ClassLoader.loadClass(\u001b[32mClassLoader.java\u001b[39m:\u001b[32m588\u001b[39m)\r\n  java.lang.ClassLoader.loadClass(\u001b[32mClassLoader.java\u001b[39m:\u001b[32m521\u001b[39m)\r\n  java.lang.Class.forName0(\u001b[32mNative Method\u001b[39m)\r\n  java.lang.Class.forName(\u001b[32mClass.java\u001b[39m:\u001b[32m398\u001b[39m)\r\n  org.apache.spark.util.Utils$.classForName(\u001b[32mUtils.scala\u001b[39m:\u001b[32m218\u001b[39m)\r\n  org.apache.spark.executor.Executor.addReplClassLoaderIfNeeded(\u001b[32mExecutor.scala\u001b[39m:\u001b[32m953\u001b[39m)\r\n  org.apache.spark.executor.Executor.<init>(\u001b[32mExecutor.scala\u001b[39m:\u001b[32m160\u001b[39m)\r\n  org.apache.spark.scheduler.local.LocalEndpoint.<init>(\u001b[32mLocalSchedulerBackend.scala\u001b[39m:\u001b[32m64\u001b[39m)\r\n  org.apache.spark.scheduler.local.LocalSchedulerBackend.start(\u001b[32mLocalSchedulerBackend.scala\u001b[39m:\u001b[32m132\u001b[39m)\r\n  org.apache.spark.scheduler.TaskSchedulerImpl.start(\u001b[32mTaskSchedulerImpl.scala\u001b[39m:\u001b[32m222\u001b[39m)\r\n  org.apache.spark.SparkContext.<init>(\u001b[32mSparkContext.scala\u001b[39m:\u001b[32m585\u001b[39m)\r\n  org.apache.spark.SparkContext$.getOrCreate(\u001b[32mSparkContext.scala\u001b[39m:\u001b[32m2704\u001b[39m)\r\n  org.apache.spark.sql.SparkSession$Builder.$anonfun$getOrCreate$2(\u001b[32mSparkSession.scala\u001b[39m:\u001b[32m953\u001b[39m)\r\n  scala.Option.getOrElse(\u001b[32mOption.scala\u001b[39m:\u001b[32m138\u001b[39m)\r\n  org.apache.spark.sql.SparkSession$Builder.getOrCreate(\u001b[32mSparkSession.scala\u001b[39m:\u001b[32m947\u001b[39m)\r\n  org.apache.spark.sql.ammonitesparkinternals.AmmoniteSparkSessionBuilder.getOrCreate(\u001b[32mAmmoniteSparkSessionBuilder.scala\u001b[39m:\u001b[32m318\u001b[39m)\r\n  org.apache.spark.sql.almondinternals.NotebookSparkSessionBuilder.getOrCreate(\u001b[32mNotebookSparkSessionBuilder.scala\u001b[39m:\u001b[32m62\u001b[39m)\r\n  ammonite.$sess.cmd9$Helper.<init>(\u001b[32mcmd9.sc\u001b[39m:\u001b[32m9\u001b[39m)\r\n  ammonite.$sess.cmd9$.<init>(\u001b[32mcmd9.sc\u001b[39m:\u001b[32m7\u001b[39m)\r\n  ammonite.$sess.cmd9$.<clinit>(\u001b[32mcmd9.sc\u001b[39m:\u001b[32m-1\u001b[39m)"
     ]
    }
   ],
   "source": [
    "import $ivy.`org.apache.spark::spark-sql:3.3.0`\n",
    "import $ivy.`sh.almond::almond-spark:0.4.0`\n",
    "\n",
    "import org.apache.spark.sql.{NotebookSparkSession, SparkSession}\n",
    "\n",
    "val spark: SparkSession = \n",
    "    NotebookSparkSession\n",
    "      .builder()\n",
    "      .master(\"local[*]\")\n",
    "      .getOrCreate()"
   ]
  },
  {
   "cell_type": "markdown",
   "id": "bb517088",
   "metadata": {},
   "source": [
    "Para minimizar la cantidad de informacion del terminal, solo nos mostrara los errores"
   ]
  },
  {
   "cell_type": "code",
   "execution_count": 7,
   "id": "f6d01ed3",
   "metadata": {},
   "outputs": [
    {
     "data": {
      "text/plain": [
       "\u001b[32mimport \u001b[39m\u001b[36morg.slf4j.LoggerFactory\n",
       "\u001b[39m\r\n",
       "\u001b[32mimport \u001b[39m\u001b[36morg.apache.log4j.{Level, Logger}\n",
       "\u001b[39m"
      ]
     },
     "execution_count": 7,
     "metadata": {},
     "output_type": "execute_result"
    }
   ],
   "source": [
    "import org.slf4j.LoggerFactory\n",
    "import org.apache.log4j.{Level, Logger}\n",
    "Logger.getRootLogger().setLevel(Level.ERROR)"
   ]
  },
  {
   "cell_type": "code",
   "execution_count": 8,
   "id": "8ccda5fa",
   "metadata": {},
   "outputs": [
    {
     "name": "stderr",
     "output_type": "stream",
     "text": [
      "cmd8.sc:1: object implicits is not a member of package spark\n",
      "import spark.implicits._\n",
      "             ^Compilation Failed"
     ]
    },
    {
     "ename": "",
     "evalue": "",
     "output_type": "error",
     "traceback": [
      "Compilation Failed"
     ]
    }
   ],
   "source": [
    "import spark.implicits._\n",
    "import org.apache.spark.sql.{functions => func, _}\n",
    "import org.apache.spark.sql.types._"
   ]
  },
  {
   "cell_type": "code",
   "execution_count": null,
   "id": "f1e0759b",
   "metadata": {},
   "outputs": [],
   "source": []
  }
 ],
 "metadata": {
  "kernelspec": {
   "display_name": "Scala",
   "language": "scala",
   "name": "scala"
  },
  "language_info": {
   "codemirror_mode": "text/x-scala",
   "file_extension": ".scala",
   "mimetype": "text/x-scala",
   "name": "scala",
   "nbconvert_exporter": "script",
   "version": "2.12.8"
  }
 },
 "nbformat": 4,
 "nbformat_minor": 5
}
