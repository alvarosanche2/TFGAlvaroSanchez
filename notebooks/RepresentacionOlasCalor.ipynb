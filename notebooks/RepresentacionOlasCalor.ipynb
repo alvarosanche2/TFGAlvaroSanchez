{
 "cells": [
  {
   "cell_type": "markdown",
   "id": "42968eae",
   "metadata": {},
   "source": [
    "### Representacion de los datos"
   ]
  },
  {
   "cell_type": "code",
   "execution_count": 1,
   "id": "7aa6f56a",
   "metadata": {
    "scrolled": true
   },
   "outputs": [],
   "source": [
    "import json\n",
    "import pandas as pd\n",
    "import plotly.express as px\n",
    "import ipywidgets as widgets"
   ]
  },
  {
   "cell_type": "code",
   "execution_count": 2,
   "id": "f19f4dfc",
   "metadata": {},
   "outputs": [],
   "source": [
    "enc = \"utf-8\"\n",
    "f = open(\"D:/TFGAlvaroSanchez/data/spainProvinces.json\", \"r\", encoding=enc)\n",
    "provincias = json.load(f)"
   ]
  },
  {
   "cell_type": "code",
   "execution_count": 3,
   "id": "0b27e685",
   "metadata": {},
   "outputs": [],
   "source": [
    "data = pd.read_parquet(\"D:/TFGAlvaroSanchez/data/resultadoOlasCalor/\")\n",
    "data = data.rename(columns = {\"nOlasCalor\": \"numero de olas de calor\", \"avgTmax\": \"temperatura media\"})"
   ]
  },
  {
   "cell_type": "code",
   "execution_count": 4,
   "id": "109b569d",
   "metadata": {},
   "outputs": [],
   "source": [
    "provinciaIdMap = {}\n",
    "for feature in provincias[\"features\"]:\n",
    "    feature[\"id\"] = feature[\"properties\"][\"cod_prov\"]\n",
    "    provinciaIdMap[feature[\"properties\"][\"name\"]] = feature[\"id\"]\n",
    "    \n",
    "keys = list(provinciaIdMap.keys())\n",
    "for key in keys:\n",
    "    if key.find(\"á\") != -1 or key.find(\"é\") != -1 or key.find(\"í\") != -1 or\\\n",
    "        key.find(\"ó\") != -1 or key.find(\"ú\") != -1 or key.find(\"è\") != -1:\n",
    "        valor = provinciaIdMap[key]\n",
    "        provinciaIdMap.pop(key)\n",
    "        key = key.replace(\"á\", \"a\")\n",
    "        key = key.replace(\"é\", \"e\")\n",
    "        key = key.replace(\"í\", \"i\")\n",
    "        key = key.replace(\"ó\", \"o\")\n",
    "        key = key.replace(\"ú\", \"u\")\n",
    "        key = key.replace(\"è\", \"e\")\n",
    "        provinciaIdMap[key] = valor"
   ]
  },
  {
   "cell_type": "code",
   "execution_count": 5,
   "id": "323a2c2e",
   "metadata": {},
   "outputs": [],
   "source": [
    "data['id'] = data['provincia'].apply(lambda x: provinciaIdMap[x])"
   ]
  },
  {
   "cell_type": "code",
   "execution_count": 6,
   "id": "3b3f1ab9",
   "metadata": {},
   "outputs": [],
   "source": [
    "nMaxOlas = data[\"numero de olas de calor\"].max()\n",
    "\n",
    "def representarAno(ano):\n",
    "    dataAux = data[data[\"año\"] == ano]\n",
    "\n",
    "    anadir = []\n",
    "    for provincia in provinciaIdMap.keys():\n",
    "        if len(dataAux[dataAux[\"provincia\"] == provincia]) == 0:\n",
    "            anadir.append([ano, 0, 0, 0, 0, 0, provincia, provinciaIdMap[provincia]])\n",
    "\n",
    "    dataAux = pd.concat([dataAux, pd.DataFrame(anadir, columns=data.columns)], ignore_index=True)\n",
    "    \n",
    "    fig = px.choropleth(dataAux, \n",
    "                        locations=\"id\", \n",
    "                        geojson=provincias, \n",
    "                        color=\"numero de olas de calor\", \n",
    "                        scope=\"europe\",\n",
    "                        hover_name=\"provincia\",\n",
    "                        hover_data = [\"temperatura media\"],\n",
    "                        color_continuous_scale = [\"grey\", \"yellow\", \"orange\", \"red\"],\n",
    "                        range_color = [0, nMaxOlas])\n",
    "    fig.update_geos(fitbounds=\"locations\")\n",
    "    fig.update_layout(margin = {\"r\":0,\"t\":0,\"l\":0,\"b\":0})\n",
    "    fig.show()"
   ]
  },
  {
   "cell_type": "code",
   "execution_count": 7,
   "id": "2b804f1b",
   "metadata": {},
   "outputs": [
    {
     "data": {
      "application/vnd.jupyter.widget-view+json": {
       "model_id": "cc8bf4e90ef04637a5799652f48135b4",
       "version_major": 2,
       "version_minor": 0
      },
      "text/plain": [
       "interactive(children=(Dropdown(description='Año:', options=(2007, 2008, 2009, 2010, 2011, 2012, 2013, 2014, 20…"
      ]
     },
     "metadata": {},
     "output_type": "display_data"
    },
    {
     "data": {
      "text/plain": [
       "<function __main__.representarAno(ano)>"
      ]
     },
     "execution_count": 7,
     "metadata": {},
     "output_type": "execute_result"
    }
   ],
   "source": [
    "listaAnos = [2007, 2008, 2009, 2010, 2011, 2012, 2013, 2014, 2015, 2016, 2017, 2018, 2019, 2020, 2021, 2022]\n",
    "\n",
    "w = widgets.Dropdown(\n",
    "    options = listaAnos,\n",
    "    value = 2007,\n",
    "    description=\"Año:\"\n",
    ")\n",
    "\n",
    "\n",
    "widgets.interact(representarAno, ano = w)"
   ]
  },
  {
   "cell_type": "code",
   "execution_count": null,
   "id": "a3c9aef5",
   "metadata": {},
   "outputs": [],
   "source": []
  }
 ],
 "metadata": {
  "kernelspec": {
   "display_name": "Python 3 (ipykernel)",
   "language": "python",
   "name": "python3"
  },
  "language_info": {
   "codemirror_mode": {
    "name": "ipython",
    "version": 3
   },
   "file_extension": ".py",
   "mimetype": "text/x-python",
   "name": "python",
   "nbconvert_exporter": "python",
   "pygments_lexer": "ipython3",
   "version": "3.9.5"
  }
 },
 "nbformat": 4,
 "nbformat_minor": 5
}
